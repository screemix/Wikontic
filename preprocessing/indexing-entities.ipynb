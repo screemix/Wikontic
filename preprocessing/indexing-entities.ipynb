{
 "cells": [
  {
   "cell_type": "code",
   "execution_count": 1,
   "metadata": {},
   "outputs": [],
   "source": [
    "import json \n",
    "from tqdm import tqdm\n",
    "\n",
    "import torch\n",
    "from transformers import AutoTokenizer, AutoModel\n",
    "import numpy as np\n",
    "\n",
    "import faiss"
   ]
  },
  {
   "cell_type": "code",
   "execution_count": 3,
   "metadata": {},
   "outputs": [],
   "source": [
    "# ! wget https://huggingface.co/datasets/martinjosifoski/SynthIE/resolve/main/constrained_worlds.tar.gz\n",
    "# ! tar -zxvf constrained_worlds.tar.gz && rm constrained_worlds.tar.gz \n",
    "# ! wget https://huggingface.co/datasets/martinjosifoski/SynthIE/resolve/main/id2name_mappings.tar.gz\n",
    "# ! tar -zxvf id2name_mappings.tar.gz && rm id2name_mappings.tar.gz"
   ]
  },
  {
   "cell_type": "code",
   "execution_count": 4,
   "metadata": {},
   "outputs": [
    {
     "data": {
      "text/plain": [
       "6427497"
      ]
     },
     "execution_count": 4,
     "metadata": {},
     "output_type": "execute_result"
    }
   ],
   "source": [
    "entity_mapping = {}\n",
    "with open(\"../id2name_mappings/entity_mapping.jsonl\", \"r\") as f:\n",
    "    for line in f:\n",
    "        mapping = eval(line)\n",
    "        entity_mapping[mapping[\"id\"]] = mapping[\"en_label\"]\n",
    "        \n",
    "len(entity_mapping)"
   ]
  },
  {
   "cell_type": "code",
   "execution_count": 7,
   "metadata": {},
   "outputs": [
    {
     "data": {
      "text/plain": [
       "6427497"
      ]
     },
     "execution_count": 7,
     "metadata": {},
     "output_type": "execute_result"
    }
   ],
   "source": [
    "len(set(entity_mapping.values()))"
   ]
  },
  {
   "cell_type": "code",
   "execution_count": 5,
   "metadata": {},
   "outputs": [
    {
     "data": {
      "text/plain": [
       "2724925"
      ]
     },
     "execution_count": 5,
     "metadata": {},
     "output_type": "execute_result"
    }
   ],
   "source": [
    "entities = []\n",
    "with open(\"constrained_worlds/genie/entities.json\", \"r\") as f:\n",
    "    entities = json.load(f)\n",
    "len(entities)"
   ]
  },
  {
   "cell_type": "code",
   "execution_count": 6,
   "metadata": {},
   "outputs": [],
   "source": [
    "constrained_entity_mapping = {}\n",
    "\n",
    "for ent in entities:\n",
    "    constrained_entity_mapping[ent] = \" \".join(entity_mapping[ent].split(\"_\"))"
   ]
  },
  {
   "cell_type": "code",
   "execution_count": 7,
   "metadata": {},
   "outputs": [
    {
     "data": {
      "text/plain": [
       "2724925"
      ]
     },
     "execution_count": 7,
     "metadata": {},
     "output_type": "execute_result"
    }
   ],
   "source": [
    "len(constrained_entity_mapping)"
   ]
  },
  {
   "cell_type": "code",
   "execution_count": 8,
   "metadata": {},
   "outputs": [
    {
     "data": {
      "text/plain": [
       "107674454"
      ]
     },
     "execution_count": 8,
     "metadata": {},
     "output_type": "execute_result"
    }
   ],
   "source": [
    "ent2desc = {}\n",
    "with open(\"id2label_and_desc.json\", \"r\") as f:\n",
    "    ent2desc = json.load(f)\n",
    "len(ent2desc)"
   ]
  },
  {
   "cell_type": "code",
   "execution_count": 17,
   "metadata": {},
   "outputs": [
    {
     "name": "stderr",
     "output_type": "stream",
     "text": [
      "100%|██████████| 2724925/2724925 [00:04<00:00, 670616.09it/s]\n"
     ]
    }
   ],
   "source": [
    "id2desc_intersected = {}\n",
    "not_found = []\n",
    "for ent in tqdm(entities):\n",
    "    if ent in ent2desc:\n",
    "        id2desc_intersected[ent] = ent2desc[ent]['description']\n",
    "    else:\n",
    "        not_found.append(ent)"
   ]
  },
  {
   "cell_type": "code",
   "execution_count": 10,
   "metadata": {},
   "outputs": [
    {
     "data": {
      "text/plain": [
       "(5406, 2719519)"
      ]
     },
     "execution_count": 10,
     "metadata": {},
     "output_type": "execute_result"
    }
   ],
   "source": [
    "len(not_found), len(id2desc_intersected)"
   ]
  },
  {
   "cell_type": "code",
   "execution_count": 26,
   "metadata": {},
   "outputs": [
    {
     "data": {
      "text/plain": [
       "5406"
      ]
     },
     "execution_count": 26,
     "metadata": {},
     "output_type": "execute_result"
    }
   ],
   "source": [
    "len(not_found_desc)"
   ]
  },
  {
   "cell_type": "code",
   "execution_count": 15,
   "metadata": {},
   "outputs": [],
   "source": [
    "with open('not_found_desc.json', 'r') as f:\n",
    "    not_found_desc = json.load(f)"
   ]
  },
  {
   "cell_type": "code",
   "execution_count": 20,
   "metadata": {},
   "outputs": [
    {
     "data": {
      "text/plain": [
       "2724925"
      ]
     },
     "execution_count": 20,
     "metadata": {},
     "output_type": "execute_result"
    }
   ],
   "source": [
    "id2desc_intersected = {**id2desc_intersected, **not_found_desc}\n",
    "len(id2desc_intersected)"
   ]
  },
  {
   "cell_type": "code",
   "execution_count": 22,
   "metadata": {},
   "outputs": [
    {
     "data": {
      "text/plain": [
       "122664"
      ]
     },
     "execution_count": 22,
     "metadata": {},
     "output_type": "execute_result"
    }
   ],
   "source": [
    "empty = 0\n",
    "for val in id2desc_intersected.values():\n",
    "    if val == '':\n",
    "        empty += 1\n",
    "empty"
   ]
  },
  {
   "cell_type": "code",
   "execution_count": 32,
   "metadata": {},
   "outputs": [],
   "source": [
    "id2label_desc = {}\n",
    "\n",
    "for ent_id in constrained_entity_mapping.keys():\n",
    "    id2label_desc[ent_id] = constrained_entity_mapping[ent_id] + \"; \" + id2desc_intersected[ent_id]"
   ]
  },
  {
   "cell_type": "code",
   "execution_count": 45,
   "metadata": {},
   "outputs": [],
   "source": [
    "tokenizer = AutoTokenizer.from_pretrained('facebook/contriever')\n",
    "model = AutoModel.from_pretrained('facebook/contriever').to('cuda:4')"
   ]
  },
  {
   "cell_type": "code",
   "execution_count": 46,
   "metadata": {},
   "outputs": [],
   "source": [
    "def mean_pooling(token_embeddings, mask):\n",
    "    token_embeddings = token_embeddings.masked_fill(~mask[..., None].bool(), 0.)\n",
    "    sentence_embeddings = token_embeddings.sum(dim=1) / mask.sum(dim=1)[..., None]\n",
    "    return sentence_embeddings\n",
    "\n",
    "def embed_entity_batch(entity_list):\n",
    "    inputs = tokenizer(entity_list, padding=True, truncation=True, return_tensors='pt')\n",
    "\n",
    "    outputs = model(**inputs.to('cuda:4'))\n",
    "    embeddings = mean_pooling(outputs[0], inputs['attention_mask'])\n",
    "    return embeddings"
   ]
  },
  {
   "cell_type": "code",
   "execution_count": 42,
   "metadata": {},
   "outputs": [
    {
     "ename": "NameError",
     "evalue": "name 'entity_mapping' is not defined",
     "output_type": "error",
     "traceback": [
      "\u001b[0;31m---------------------------------------------------------------------------\u001b[0m",
      "\u001b[0;31mNameError\u001b[0m                                 Traceback (most recent call last)",
      "Cell \u001b[0;32mIn[42], line 7\u001b[0m\n\u001b[1;32m      5\u001b[0m names \u001b[38;5;241m=\u001b[39m [\u001b[38;5;124m\"\u001b[39m\u001b[38;5;124m \u001b[39m\u001b[38;5;124m\"\u001b[39m\u001b[38;5;241m.\u001b[39mjoin(item[\u001b[38;5;241m1\u001b[39m]\u001b[38;5;241m.\u001b[39msplit(\u001b[38;5;124m\"\u001b[39m\u001b[38;5;124m_\u001b[39m\u001b[38;5;124m\"\u001b[39m)) \u001b[38;5;28;01mfor\u001b[39;00m item \u001b[38;5;129;01min\u001b[39;00m entity_items]\n\u001b[1;32m      6\u001b[0m \u001b[38;5;28;01mdel\u001b[39;00m entity_items\n\u001b[0;32m----> 7\u001b[0m \u001b[38;5;28;01mdel\u001b[39;00m entity_mapping\n\u001b[1;32m      8\u001b[0m \u001b[38;5;28mlen\u001b[39m(\u001b[38;5;28mset\u001b[39m(ids)), \u001b[38;5;28mlen\u001b[39m(\u001b[38;5;28mset\u001b[39m(names))\n",
      "\u001b[0;31mNameError\u001b[0m: name 'entity_mapping' is not defined"
     ]
    }
   ],
   "source": [
    "# entity_items = list(constrained_entity_mapping.items())\n",
    "\n",
    "entity_items = list(id2label_desc.items())\n",
    "ids = [int(item[0][1:]) for item in entity_items]\n",
    "names = [\" \".join(item[1].split(\"_\")) for item in entity_items]\n",
    "del entity_items\n",
    "del entity_mapping\n",
    "len(set(ids)), len(set(names))"
   ]
  },
  {
   "cell_type": "code",
   "execution_count": 47,
   "metadata": {},
   "outputs": [
    {
     "name": "stderr",
     "output_type": "stream",
     "text": [
      "100%|██████████| 27250/27250 [45:10<00:00, 10.06it/s]  \n"
     ]
    }
   ],
   "source": [
    "embeddings = []\n",
    "batch_size = 100\n",
    "\n",
    "for i in tqdm(range(0, len(names), batch_size)):\n",
    "\n",
    "    if i + batch_size > len(names):\n",
    "        entity_list = names[i: len(names)]\n",
    "    else:\n",
    "        entity_list = names[i: i + batch_size]\n",
    "\n",
    "    embeddings.append(embed_entity_batch(entity_list).detach().to('cpu'))"
   ]
  },
  {
   "cell_type": "code",
   "execution_count": 48,
   "metadata": {},
   "outputs": [
    {
     "data": {
      "text/plain": [
       "(2724925, 768)"
      ]
     },
     "execution_count": 48,
     "metadata": {},
     "output_type": "execute_result"
    }
   ],
   "source": [
    "output = np.array(torch.concat(embeddings))\n",
    "output.shape"
   ]
  },
  {
   "cell_type": "code",
   "execution_count": 49,
   "metadata": {},
   "outputs": [
    {
     "data": {
      "text/plain": [
       "[1607497, 22958416, 1848116, 1513683, 19880251]"
      ]
     },
     "execution_count": 49,
     "metadata": {},
     "output_type": "execute_result"
    }
   ],
   "source": [
    "# ids = [int(id_[1:]) for id_ in ids]\n",
    "assert all(isinstance(id_, int) for id_ in ids)\n",
    "ids[:5]"
   ]
  },
  {
   "cell_type": "code",
   "execution_count": 50,
   "metadata": {},
   "outputs": [],
   "source": [
    "dim = output.shape[1]\n",
    "metric = faiss.METRIC_INNER_PRODUCT\n",
    "index = faiss.index_factory(dim, \"IDMap,Flat\", metric)\n",
    "\n",
    "index.add_with_ids(output, ids)"
   ]
  },
  {
   "cell_type": "code",
   "execution_count": 51,
   "metadata": {},
   "outputs": [
    {
     "name": "stdout",
     "output_type": "stream",
     "text": [
      "True\n"
     ]
    }
   ],
   "source": [
    "print(index.is_trained)"
   ]
  },
  {
   "cell_type": "code",
   "execution_count": 52,
   "metadata": {},
   "outputs": [
    {
     "data": {
      "text/plain": [
       "4.170503377914429"
      ]
     },
     "execution_count": 52,
     "metadata": {},
     "output_type": "execute_result"
    }
   ],
   "source": [
    "from time import time\n",
    "\n",
    "before = time()\n",
    "distances, indices = index.search(output[100:103, :], 3)\n",
    "after = time()\n",
    "after - before"
   ]
  },
  {
   "cell_type": "code",
   "execution_count": 53,
   "metadata": {},
   "outputs": [
    {
     "data": {
      "text/plain": [
       "(array([[ 7859497,  7859498,  7989648],\n",
       "        [15238435,  1124728,  1810614],\n",
       "        [ 6354654,  6354656,  1031041]]),\n",
       " array([[2.1675177, 1.9223285, 1.7584894],\n",
       "        [1.9325339, 1.475885 , 1.4460012],\n",
       "        [2.5693328, 1.7931323, 1.7416024]], dtype=float32))"
      ]
     },
     "execution_count": 53,
     "metadata": {},
     "output_type": "execute_result"
    }
   ],
   "source": [
    "indices, distances"
   ]
  },
  {
   "cell_type": "code",
   "execution_count": 54,
   "metadata": {},
   "outputs": [
    {
     "data": {
      "text/plain": [
       "('Tworzanice; village in Greater Poland, Poland',\n",
       " 'Tworzanki; village in Greater Poland, Poland',\n",
       " 'Westrza; village in Greater Poland, Poland')"
      ]
     },
     "execution_count": 54,
     "metadata": {},
     "output_type": "execute_result"
    }
   ],
   "source": [
    "id2label_desc[\"Q\"+str(7859497)], id2label_desc[\"Q\"+str(7859498)], id2label_desc[\"Q\"+str(7989648)]"
   ]
  },
  {
   "cell_type": "code",
   "execution_count": 58,
   "metadata": {},
   "outputs": [
    {
     "data": {
      "text/plain": [
       "('Tworzanice', 'Tworzanki', 'Nowe Borza')"
      ]
     },
     "execution_count": 58,
     "metadata": {},
     "output_type": "execute_result"
    }
   ],
   "source": [
    "constrained_entity_mapping[\"Q\"+str(7859497)], constrained_entity_mapping[\"Q\"+str(7859498)], constrained_entity_mapping[\"Q\"+str(63570)]"
   ]
  },
  {
   "cell_type": "code",
   "execution_count": 56,
   "metadata": {},
   "outputs": [
    {
     "data": {
      "text/plain": [
       "('Kikoboga Airstrip', 'Mikumi National Park', 'Kiboga')"
      ]
     },
     "execution_count": 56,
     "metadata": {},
     "output_type": "execute_result"
    }
   ],
   "source": [
    "constrained_entity_mapping[\"Q\"+str(15238435)], constrained_entity_mapping[\"Q\"+str(1124728)], constrained_entity_mapping[\"Q\"+str(1810614)]"
   ]
  },
  {
   "cell_type": "code",
   "execution_count": 59,
   "metadata": {},
   "outputs": [
    {
     "data": {
      "text/plain": [
       "('Kikoboga Airstrip; airport in Mikumi National Park',\n",
       " 'Kiboga; human settlement',\n",
       " 'Kiboga District; districts of Uganda')"
      ]
     },
     "execution_count": 59,
     "metadata": {},
     "output_type": "execute_result"
    }
   ],
   "source": [
    "id2label_desc[\"Q\"+str(15238435)], id2label_desc[\"Q\"+str(1810614)], id2label_desc[\"Q\"+str(892064)]"
   ]
  },
  {
   "cell_type": "code",
   "execution_count": 60,
   "metadata": {},
   "outputs": [
    {
     "data": {
      "text/plain": [
       "('Kalutara Physical Culture Club; ',\n",
       " 'Kalutara Stadium; multi-use stadium in Kalutara town',\n",
       " 'LILALU; sports club')"
      ]
     },
     "execution_count": 60,
     "metadata": {},
     "output_type": "execute_result"
    }
   ],
   "source": [
    "id2label_desc[\"Q\"+str(6354654)], id2label_desc[\"Q\"+str(6354656)], id2label_desc[\"Q\"+str(1031041)]"
   ]
  },
  {
   "cell_type": "code",
   "execution_count": 23,
   "metadata": {},
   "outputs": [
    {
     "data": {
      "text/plain": [
       "('Kalutara Physical Culture Club', 'Kalutara Town Club', 'Kalutara Stadium')"
      ]
     },
     "execution_count": 23,
     "metadata": {},
     "output_type": "execute_result"
    }
   ],
   "source": [
    "constrained_entity_mapping[\"Q\"+str(6354654)], constrained_entity_mapping[\"Q\"+str(6354658)], constrained_entity_mapping[\"Q\"+str(6354656)]"
   ]
  },
  {
   "cell_type": "code",
   "execution_count": 61,
   "metadata": {},
   "outputs": [
    {
     "data": {
      "text/plain": [
       "[7859497, 15238435, 6354654]"
      ]
     },
     "execution_count": 61,
     "metadata": {},
     "output_type": "execute_result"
    }
   ],
   "source": [
    "ids[100:103]"
   ]
  },
  {
   "cell_type": "code",
   "execution_count": 62,
   "metadata": {},
   "outputs": [],
   "source": [
    "faiss.write_index(index, \"entities_with_descriptions.index\")"
   ]
  },
  {
   "cell_type": "code",
   "execution_count": 63,
   "metadata": {},
   "outputs": [],
   "source": [
    "index = faiss.read_index(\"entities_with_descriptions.index\")  # load the index"
   ]
  },
  {
   "cell_type": "code",
   "execution_count": 64,
   "metadata": {},
   "outputs": [],
   "source": [
    "distances, indices = index.search(output[100:103, :], 3)"
   ]
  },
  {
   "cell_type": "code",
   "execution_count": null,
   "metadata": {},
   "outputs": [
    {
     "data": {
      "text/plain": [
       "(array([[2.3877087, 1.7078212, 1.5154692],\n",
       "        [1.8492612, 1.4968052, 1.3931653],\n",
       "        [2.3846188, 1.9597743, 1.8561847]], dtype=float32),\n",
       " array([[ 7859497,  7859498,    63570],\n",
       "        [15238435,  1810614,   892064],\n",
       "        [ 6354654,  6354658,  6354656]]))"
      ]
     },
     "execution_count": 28,
     "metadata": {},
     "output_type": "execute_result"
    }
   ],
   "source": [
    "distances, indices"
   ]
  },
  {
   "cell_type": "code",
   "execution_count": 13,
   "metadata": {},
   "outputs": [],
   "source": [
    "emb = embed_entity_batch([\"Germany\"])"
   ]
  },
  {
   "cell_type": "code",
   "execution_count": 14,
   "metadata": {},
   "outputs": [
    {
     "data": {
      "text/plain": [
       "(array([[1.2840521, 1.1428443, 1.1164908]], dtype=float32),\n",
       " array([[    183, 5552084, 1649644]]))"
      ]
     },
     "execution_count": 14,
     "metadata": {},
     "output_type": "execute_result"
    }
   ],
   "source": [
    "index.search(np.array(emb.detach().cpu()), 3)"
   ]
  },
  {
   "cell_type": "code",
   "execution_count": 15,
   "metadata": {},
   "outputs": [
    {
     "data": {
      "text/plain": [
       "('Germany', 'Germany 1985', 'Gaël Germany')"
      ]
     },
     "execution_count": 15,
     "metadata": {},
     "output_type": "execute_result"
    }
   ],
   "source": [
    "constrained_entity_mapping[\"Q\"+str(183)], constrained_entity_mapping[\"Q\"+str(5552084)], constrained_entity_mapping[\"Q\"+str(1649644)]"
   ]
  },
  {
   "cell_type": "code",
   "execution_count": 65,
   "metadata": {},
   "outputs": [],
   "source": [
    "with open(\"id2label_desc.json\", 'w') as f:\n",
    "    json.dump(id2label_desc, f)"
   ]
  },
  {
   "cell_type": "code",
   "execution_count": 17,
   "metadata": {},
   "outputs": [],
   "source": [
    "emb = embed_entity_batch([\"steve Jobs\"])"
   ]
  },
  {
   "cell_type": "code",
   "execution_count": 18,
   "metadata": {},
   "outputs": [
    {
     "data": {
      "text/plain": [
       "(array([[1.3705723, 1.278435 , 1.1589789]], dtype=float32),\n",
       " array([[   19837, 19801748, 18754959]]))"
      ]
     },
     "execution_count": 18,
     "metadata": {},
     "output_type": "execute_result"
    }
   ],
   "source": [
    "index.search(np.array(emb.detach().cpu()), 3)"
   ]
  },
  {
   "cell_type": "code",
   "execution_count": 20,
   "metadata": {},
   "outputs": [
    {
     "data": {
      "text/plain": [
       "('Steve Jobs', 'Becoming Steve Jobs', 'Steve Jobs (film)')"
      ]
     },
     "execution_count": 20,
     "metadata": {},
     "output_type": "execute_result"
    }
   ],
   "source": [
    "constrained_entity_mapping[\"Q\"+str(19837)], constrained_entity_mapping[\"Q\"+str(19801748)], constrained_entity_mapping[\"Q\"+str(18754959)]"
   ]
  },
  {
   "cell_type": "code",
   "execution_count": null,
   "metadata": {},
   "outputs": [],
   "source": []
  }
 ],
 "metadata": {
  "kernelspec": {
   "display_name": ".venv",
   "language": "python",
   "name": "python3"
  },
  "language_info": {
   "codemirror_mode": {
    "name": "ipython",
    "version": 3
   },
   "file_extension": ".py",
   "mimetype": "text/x-python",
   "name": "python",
   "nbconvert_exporter": "python",
   "pygments_lexer": "ipython3",
   "version": "3.8.10"
  }
 },
 "nbformat": 4,
 "nbformat_minor": 2
}
