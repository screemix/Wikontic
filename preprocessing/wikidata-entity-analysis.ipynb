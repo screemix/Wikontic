{
 "cells": [
  {
   "cell_type": "code",
   "execution_count": 13,
   "metadata": {},
   "outputs": [],
   "source": [
    "import json \n",
    "from tqdm import tqdm\n",
    "from collections import Counter\n",
    "import re"
   ]
  },
  {
   "cell_type": "code",
   "execution_count": 2,
   "metadata": {},
   "outputs": [],
   "source": [
    "path = '/data/home/wikidata-dump/'"
   ]
  },
  {
   "cell_type": "code",
   "execution_count": 7,
   "metadata": {},
   "outputs": [
    {
     "name": "stderr",
     "output_type": "stream",
     "text": [
      "107674454it [01:40, 1076049.42it/s]\n"
     ]
    }
   ],
   "source": [
    "# type_dict = {}\n",
    "type_count = Counter()\n",
    "\n",
    "with open(path+'out-types.txt', 'r') as f:\n",
    "    for line in tqdm(f):\n",
    "        line = line.split(\":\")\n",
    "        num, content = line[0], line[1]\n",
    "        type = content.split(\",\")[0].replace('\\\"', '')\n",
    "        # type_dict[int(num)] = type\n",
    "        type_count[type] += 1\n"
   ]
  },
  {
   "cell_type": "code",
   "execution_count": 8,
   "metadata": {},
   "outputs": [
    {
     "data": {
      "text/plain": [
       "Counter({'item': 107662729, 'property': 11725})"
      ]
     },
     "execution_count": 8,
     "metadata": {},
     "output_type": "execute_result"
    }
   ],
   "source": [
    "type_count"
   ]
  },
  {
   "cell_type": "code",
   "execution_count": 9,
   "metadata": {},
   "outputs": [],
   "source": [
    "del type_count"
   ]
  },
  {
   "cell_type": "code",
   "execution_count": 12,
   "metadata": {},
   "outputs": [
    {
     "name": "stdout",
     "output_type": "stream",
     "text": [
      "latest-all.json.bz2\t     out-instances_of.txt  out.txt\n",
      "out-descriptions-labels.txt  out-subclass_of.txt   out-types.txt\n"
     ]
    }
   ],
   "source": [
    "!ls $path"
   ]
  },
  {
   "cell_type": "code",
   "execution_count": 45,
   "metadata": {},
   "outputs": [
    {
     "name": "stderr",
     "output_type": "stream",
     "text": [
      "17919it [00:00, 90250.13it/s]"
     ]
    },
    {
     "name": "stderr",
     "output_type": "stream",
     "text": [
      "105103875it [18:39, 93870.65it/s] \n"
     ]
    }
   ],
   "source": [
    "# type_dict = {}\n",
    "instance_count = Counter()\n",
    "\n",
    "with open(path+'out-instances_of.txt', 'r') as f:\n",
    "    for line in tqdm(f):\n",
    "\n",
    "        line = line.split(\":\")\n",
    "        num, content = line[0], \":\".join(line[1:])\n",
    "\n",
    "        content = re.findall('(?<={\"mainsnak\":{\"snaktype\":\"value\",\"property\":\"P31\").*?(?=})', content)\n",
    "\n",
    "        for instance_str in content:\n",
    "            instance = re.findall('(?<=\"id\":\").*?(?=\")', instance_str)[0]\n",
    "\n",
    "            instance_count[instance] += 1\n"
   ]
  },
  {
   "cell_type": "code",
   "execution_count": 49,
   "metadata": {},
   "outputs": [
    {
     "data": {
      "text/plain": [
       "[('Q13442814', 41490382),\n",
       " ('Q5', 11120920),\n",
       " ('Q4167836', 5320827),\n",
       " ('Q16521', 3717453),\n",
       " ('Q523', 3291638),\n",
       " ('Q318', 2101693),\n",
       " ('Q4167410', 1476083),\n",
       " ('Q113145171', 1262002),\n",
       " ('Q7187', 1071741),\n",
       " ('Q8054', 1002075),\n",
       " ('Q3305213', 926355),\n",
       " ('Q11266439', 820059),\n",
       " ('Q79007', 671630),\n",
       " ('Q13433827', 626667),\n",
       " ('Q101352', 601548),\n",
       " ('Q13100073', 588577),\n",
       " ('Q486972', 574475),\n",
       " ('Q8502', 523113),\n",
       " ('Q2668072', 502972),\n",
       " ('Q3331189', 426744),\n",
       " ('Q4022', 415326),\n",
       " ('Q30612', 391756),\n",
       " ('Q13406463', 359078),\n",
       " ('Q1931185', 354111),\n",
       " ('Q54050', 319967),\n",
       " ('Q11424', 304858),\n",
       " ('Q482994', 293138),\n",
       " ('Q1457376', 292566),\n",
       " ('Q17633526', 288845),\n",
       " ('Q23397', 287125)]"
      ]
     },
     "execution_count": 49,
     "metadata": {},
     "output_type": "execute_result"
    }
   ],
   "source": [
    "instance_count.most_common(30)"
   ]
  },
  {
   "cell_type": "code",
   "execution_count": 47,
   "metadata": {},
   "outputs": [
    {
     "data": {
      "text/plain": [
       "94477"
      ]
     },
     "execution_count": 47,
     "metadata": {},
     "output_type": "execute_result"
    }
   ],
   "source": [
    "len(instance_count)"
   ]
  },
  {
   "cell_type": "code",
   "execution_count": 68,
   "metadata": {},
   "outputs": [
    {
     "name": "stderr",
     "output_type": "stream",
     "text": [
      " 52%|█████▏    | 52/100 [01:02<01:00,  1.25s/it]"
     ]
    },
    {
     "name": "stdout",
     "output_type": "stream",
     "text": [
      "Error occurred: <Response [429]>\n"
     ]
    },
    {
     "name": "stderr",
     "output_type": "stream",
     "text": [
      " 55%|█████▌    | 55/100 [01:06<00:54,  1.22s/it]"
     ]
    },
    {
     "name": "stdout",
     "output_type": "stream",
     "text": [
      "Error occurred: <Response [429]>\n"
     ]
    },
    {
     "name": "stderr",
     "output_type": "stream",
     "text": [
      " 68%|██████▊   | 68/100 [01:22<00:40,  1.28s/it]"
     ]
    },
    {
     "name": "stdout",
     "output_type": "stream",
     "text": [
      "Error occurred: <Response [429]>\n"
     ]
    },
    {
     "name": "stderr",
     "output_type": "stream",
     "text": [
      "100%|██████████| 100/100 [02:03<00:00,  1.23s/it]\n"
     ]
    }
   ],
   "source": [
    "import requests\n",
    "import time\n",
    "\n",
    "def get_entity_name_from_wikidata_id(entity_id):\n",
    "    # Define the Wikidata endpoint URL\n",
    "    endpoint_url = \"https://query.wikidata.org/sparql\"\n",
    "\n",
    "    # Construct the SPARQL query to get the label (name) of the entity\n",
    "    query = f\"\"\"\n",
    "        SELECT ?entityLabel WHERE {{\n",
    "            wd:{entity_id} rdfs:label ?entityLabel.\n",
    "            FILTER(LANG(?entityLabel) = \"en\")\n",
    "        }}\n",
    "    \"\"\"\n",
    "\n",
    "    # Set the SPARQL query parameters\n",
    "    params = {\n",
    "        \"format\": \"json\",\n",
    "        \"query\": query\n",
    "    }\n",
    "    response = requests.get(endpoint_url, params=params)\n",
    "\n",
    "    try:\n",
    "        # Send the GET request to the Wikidata endpoint\n",
    "        \n",
    "        data = response.json()\n",
    "        \n",
    "        # Parse the JSON response to extract the entity name\n",
    "        if \"results\" in data and \"bindings\" in data[\"results\"]:\n",
    "            bindings = data[\"results\"][\"bindings\"]\n",
    "            if bindings:\n",
    "                # Get the value of the entityLabel from the first result\n",
    "                entity_name = bindings[0][\"entityLabel\"][\"value\"]\n",
    "                return entity_name\n",
    "            \n",
    "    except Exception as e:\n",
    "        print(f\"Error occurred: {response}\")\n",
    "        \n",
    "    \n",
    "    return None\n",
    "\n",
    "id2name = {}\n",
    "for item in tqdm(instance_count.most_common(100)):\n",
    "    item_name = get_entity_name_from_wikidata_id(item[0])\n",
    "    id2name[item[0]] = item_name\n",
    "    time.sleep(1)"
   ]
  },
  {
   "cell_type": "code",
   "execution_count": 69,
   "metadata": {},
   "outputs": [
    {
     "data": {
      "text/plain": [
       "{'Q13442814': 'scholarly article',\n",
       " 'Q5': 'human',\n",
       " 'Q4167836': 'Wikimedia category',\n",
       " 'Q16521': 'taxon',\n",
       " 'Q523': 'star',\n",
       " 'Q318': 'galaxy',\n",
       " 'Q4167410': 'Wikimedia disambiguation page',\n",
       " 'Q113145171': 'type of chemical entity',\n",
       " 'Q7187': 'gene',\n",
       " 'Q8054': 'protein',\n",
       " 'Q3305213': 'painting',\n",
       " 'Q11266439': 'Wikimedia template',\n",
       " 'Q79007': 'street',\n",
       " 'Q13433827': 'encyclopedia article',\n",
       " 'Q101352': 'family name',\n",
       " 'Q13100073': 'village',\n",
       " 'Q486972': 'human settlement',\n",
       " 'Q8502': 'mountain',\n",
       " 'Q2668072': 'collection',\n",
       " 'Q3331189': 'version, edition or translation',\n",
       " 'Q4022': 'river',\n",
       " 'Q30612': 'clinical trial',\n",
       " 'Q13406463': 'Wikimedia list article',\n",
       " 'Q1931185': 'astronomical radio source',\n",
       " 'Q54050': 'hill',\n",
       " 'Q11424': 'film',\n",
       " 'Q482994': 'album',\n",
       " 'Q1457376': 'eclipsing binary star',\n",
       " 'Q17633526': 'Wikinews article',\n",
       " 'Q23397': 'lake',\n",
       " 'Q39614': 'cemetery',\n",
       " 'Q2247863': 'high proper-motion star',\n",
       " 'Q16970': 'church building',\n",
       " 'Q3863': 'asteroid',\n",
       " 'Q7725634': 'literary work',\n",
       " 'Q41176': 'building',\n",
       " 'Q43305660': 'United States patent',\n",
       " 'Q532': 'village',\n",
       " 'Q4830453': 'business',\n",
       " 'Q3947': 'house',\n",
       " 'Q811979': 'architectural structure',\n",
       " 'Q47521': 'stream',\n",
       " 'Q19389637': 'biographical article',\n",
       " 'Q355304': 'watercourse',\n",
       " 'Q1080794': 'state school',\n",
       " 'Q27020041': 'sports season',\n",
       " 'Q83373': 'quasar',\n",
       " 'Q23442': 'island',\n",
       " 'Q1580166': 'dictionary entry',\n",
       " 'Q105543609': 'musical work/composition',\n",
       " 'Q29654788': 'Unicode character',\n",
       " 'Q21191270': 'television series episode',\n",
       " 'Q21014462': None,\n",
       " 'Q56436498': 'village in India',\n",
       " 'Q1076486': 'sports venue',\n",
       " 'Q191067': None,\n",
       " 'Q2154519': 'astrophysical X-ray source',\n",
       " 'Q59199015': 'group of stereoisomers',\n",
       " 'Q9842': 'primary school',\n",
       " 'Q18593264': 'item of collection or exhibition',\n",
       " 'Q115595777': 'taxonomy template',\n",
       " 'Q27686': 'hotel',\n",
       " 'Q61443690': 'branch post office',\n",
       " 'Q11060274': 'print',\n",
       " 'Q4164871': 'position',\n",
       " 'Q49008': 'prime number',\n",
       " 'Q93184': 'drawing',\n",
       " 'Q5084': 'hamlet',\n",
       " 'Q43229': None,\n",
       " 'Q23038290': 'fossil taxon',\n",
       " 'Q55488': 'railway station',\n",
       " 'Q134556': 'single',\n",
       " 'Q2065736': 'cultural property',\n",
       " 'Q5185279': 'poem',\n",
       " 'Q7604686': 'UK Statutory Instrument',\n",
       " 'Q47461344': 'written work',\n",
       " 'Q39816': 'valley',\n",
       " 'Q5633421': 'scientific journal',\n",
       " 'Q7889': 'video game',\n",
       " 'Q57733494': 'badminton event',\n",
       " 'Q726242': 'RR Lyrae variable',\n",
       " 'Q427087': 'non-coding RNA',\n",
       " 'Q11446': 'ship',\n",
       " 'Q22698': 'park',\n",
       " 'Q732577': 'publication',\n",
       " 'Q985488': 'residential community',\n",
       " 'Q215380': 'musical group',\n",
       " 'Q1153690': 'long-period variable star',\n",
       " 'Q1260524': 'time of day',\n",
       " 'Q22808320': 'Wikimedia human name disambiguation page',\n",
       " 'Q187685': 'doctoral thesis',\n",
       " 'Q204107': 'galaxy cluster',\n",
       " 'Q452237': 'motion',\n",
       " 'Q71963409': 'compact group of galaxies',\n",
       " 'Q12323': 'dam',\n",
       " 'Q34442': 'road',\n",
       " 'Q22669850': 'calligraphic work',\n",
       " 'Q1151284': 'brightest cluster galaxy',\n",
       " 'Q67206701': 'far-IR source',\n",
       " 'Q124714': 'spring'}"
      ]
     },
     "execution_count": 69,
     "metadata": {},
     "output_type": "execute_result"
    }
   ],
   "source": [
    "id2name"
   ]
  },
  {
   "cell_type": "code",
   "execution_count": 70,
   "metadata": {},
   "outputs": [
    {
     "name": "stdout",
     "output_type": "stream",
     "text": [
      "scholarly article 41490382\n",
      "human 11120920\n",
      "Wikimedia category 5320827\n",
      "taxon 3717453\n",
      "star 3291638\n",
      "galaxy 2101693\n",
      "Wikimedia disambiguation page 1476083\n",
      "type of chemical entity 1262002\n",
      "gene 1071741\n",
      "protein 1002075\n",
      "painting 926355\n",
      "Wikimedia template 820059\n",
      "street 671630\n",
      "encyclopedia article 626667\n",
      "family name 601548\n",
      "village 588577\n",
      "human settlement 574475\n",
      "mountain 523113\n",
      "collection 502972\n",
      "version, edition or translation 426744\n",
      "river 415326\n",
      "clinical trial 391756\n",
      "Wikimedia list article 359078\n",
      "astronomical radio source 354111\n",
      "hill 319967\n",
      "film 304858\n",
      "album 293138\n",
      "eclipsing binary star 292566\n",
      "Wikinews article 288845\n",
      "lake 287125\n",
      "cemetery 286865\n",
      "high proper-motion star 274321\n",
      "church building 264457\n",
      "asteroid 247959\n",
      "literary work 247185\n",
      "building 244923\n",
      "United States patent 231416\n",
      "village 231231\n",
      "business 220749\n",
      "house 217742\n",
      "architectural structure 210901\n",
      "stream 187306\n",
      "biographical article 180460\n",
      "watercourse 179535\n",
      "state school 178856\n",
      "sports season 173168\n",
      "quasar 168038\n",
      "island 163634\n",
      "dictionary entry 156489\n",
      "musical work/composition 156385\n",
      "Unicode character 156254\n",
      "television series episode 155215\n",
      "None 148676\n",
      "village in India 147159\n",
      "sports venue 144835\n",
      "None 144362\n",
      "astrophysical X-ray source 143421\n",
      "group of stereoisomers 138736\n",
      "primary school 137253\n",
      "item of collection or exhibition 132533\n",
      "taxonomy template 130780\n",
      "hotel 129287\n",
      "branch post office 129183\n",
      "print 128806\n",
      "position 126305\n",
      "prime number 126278\n",
      "drawing 120356\n",
      "hamlet 116493\n",
      "None 112877\n",
      "fossil taxon 112591\n",
      "railway station 112409\n",
      "single 110676\n",
      "cultural property 109826\n",
      "poem 106140\n",
      "UK Statutory Instrument 99928\n",
      "written work 99233\n",
      "valley 98878\n",
      "scientific journal 97576\n",
      "video game 97564\n",
      "badminton event 96907\n",
      "RR Lyrae variable 96307\n",
      "non-coding RNA 94568\n",
      "ship 94183\n",
      "park 93394\n",
      "publication 92068\n",
      "residential community 91659\n",
      "musical group 90275\n",
      "long-period variable star 88768\n",
      "time of day 87869\n",
      "Wikimedia human name disambiguation page 86981\n",
      "doctoral thesis 86816\n",
      "galaxy cluster 84501\n",
      "motion 84224\n",
      "compact group of galaxies 78761\n",
      "dam 76059\n",
      "road 75898\n",
      "calligraphic work 75424\n",
      "brightest cluster galaxy 74566\n",
      "far-IR source 72226\n",
      "spring 71408\n"
     ]
    }
   ],
   "source": [
    "for item, freq in instance_count.most_common(100):\n",
    "    print(id2name[item], freq)"
   ]
  },
  {
   "cell_type": "code",
   "execution_count": 72,
   "metadata": {},
   "outputs": [
    {
     "name": "stderr",
     "output_type": "stream",
     "text": [
      "4118820it [00:43, 94590.50it/s] \n"
     ]
    }
   ],
   "source": [
    "# type_dict = {}\n",
    "subclass_count = Counter()\n",
    "\n",
    "with open(path+'out-subclass_of.txt', 'r') as f:\n",
    "    for line in tqdm(f):\n",
    "\n",
    "        line = line.split(\":\")\n",
    "        num, content = line[0], \":\".join(line[1:])\n",
    "\n",
    "        content = re.findall('(?<={\"mainsnak\":{\"snaktype\":\"value\",\"property\":\"P279\").*?(?=})', content)\n",
    "\n",
    "        for subclass_str in content:\n",
    "            subclass = re.findall('(?<=\"id\":\").*?(?=\")', subclass_str)[0]\n",
    "\n",
    "            subclass_count[subclass] += 1\n"
   ]
  },
  {
   "cell_type": "code",
   "execution_count": 73,
   "metadata": {},
   "outputs": [
    {
     "data": {
      "text/plain": [
       "239849"
      ]
     },
     "execution_count": 73,
     "metadata": {},
     "output_type": "execute_result"
    }
   ],
   "source": [
    "len(subclass_count)"
   ]
  },
  {
   "cell_type": "code",
   "execution_count": 74,
   "metadata": {},
   "outputs": [
    {
     "name": "stderr",
     "output_type": "stream",
     "text": [
      "  3%|▎         | 3/100 [00:03<02:02,  1.27s/it]"
     ]
    },
    {
     "name": "stdout",
     "output_type": "stream",
     "text": [
      "Error occurred: <Response [429]>\n"
     ]
    },
    {
     "name": "stderr",
     "output_type": "stream",
     "text": [
      "  5%|▌         | 5/100 [00:06<01:58,  1.25s/it]"
     ]
    },
    {
     "name": "stdout",
     "output_type": "stream",
     "text": [
      "Error occurred: <Response [429]>\n"
     ]
    },
    {
     "name": "stderr",
     "output_type": "stream",
     "text": [
      "100%|██████████| 100/100 [02:07<00:00,  1.28s/it]\n"
     ]
    }
   ],
   "source": [
    "id2name = {}\n",
    "\n",
    "for item in tqdm(subclass_count.most_common(100)):\n",
    "    item_name = get_entity_name_from_wikidata_id(item[0])\n",
    "    id2name[item[0]] = item_name\n",
    "    time.sleep(1)"
   ]
  },
  {
   "cell_type": "code",
   "execution_count": 76,
   "metadata": {},
   "outputs": [
    {
     "name": "stdout",
     "output_type": "stream",
     "text": [
      "chemical compound 1146000\n",
      "protein 769218\n",
      "protein-coding gene 514163\n",
      "None 453776\n",
      "pseudogene 44672\n",
      "None 40214\n",
      "municipal councillor 40211\n",
      "non-coding RNA 37279\n",
      "CN 11955\n",
      "transfer RNA 8798\n",
      "pseudogenic transcript 8788\n",
      "mayor of a place in Spain 8022\n",
      "alkaloid 5596\n",
      "minister 5181\n",
      "aircraft 4727\n",
      "protein-containing complex 4230\n",
      "biogenic cyclopeptide 4120\n",
      "oleanane triterpenoid 4038\n",
      "flavone 3471\n",
      "small nucleolar RNA 3392\n",
      "macrolides 3203\n",
      "mayor of a place in Romania 3186\n",
      "2,6-dimethyloctane monoterpenoid 2935\n",
      "tender locomotive 2689\n",
      "per- and polyfluoroalkyl substances 2670\n",
      "food 2591\n",
      "Italian wine 2517\n",
      "mayor 2459\n",
      "council member 2369\n",
      "eudesmane sesquiterpenoid 2300\n",
      "germacrane sesquiterpenoid 2201\n",
      "electric multiple unit 2171\n",
      "fatty alcohol 2124\n",
      "biogenic alkylphenol 2035\n",
      "guaiane sesquiterpenoid 1934\n",
      "ribosomal RNA 1884\n",
      "mobile phone 1826\n",
      "biogenic acyclic ester 1815\n",
      "tennis tournament 1749\n",
      "transport protein 1738\n",
      "labdanes 1734\n",
      "tank locomotive 1698\n",
      "motor car 1670\n",
      "Dutch municipal councillor 1658\n",
      "mayor of a place in the Netherlands 1655\n",
      "alderman 1654\n",
      "college van burgemeester en wethouders 1653\n",
      "NE 1637\n",
      "smartphone 1610\n",
      "biogenic benzofuran 1569\n",
      "coin 1557\n",
      "1.2 1498\n",
      "iridoid 1485\n",
      "law 1474\n",
      "alkyl caffeate ester 1448\n",
      "herbaceous plant 1433\n",
      "lanostane triterpenoid 1399\n",
      "restriction enzyme 1379\n",
      "kaurane diterpenoid 1369\n",
      "biogenic aliphatic hydrocarbon 1329\n",
      "table apple 1323\n",
      "fatty acid 1275\n",
      "community councillor 1262\n",
      "home video game console 1259\n",
      "badminton tournament 1246\n",
      "CC 1241\n",
      "1.1 1219\n",
      "2.2 1204\n",
      "genetic disease 1198\n",
      "clerodane diterpenoid 1178\n",
      "oxidoreductase 1165\n",
      "diesel-electric locomotive 1138\n",
      "isoquinoline alkaloid 1128\n",
      "indole alkaloid 1128\n",
      "video game character 1100\n",
      "electric locomotive 1076\n",
      "monster 1072\n",
      "biogenic coumarin 1062\n",
      "sailboat 1038\n",
      "pregnane steroid 1038\n",
      "dish 1029\n",
      "intermetallic 1019\n",
      "farnesane sesquiterpenoid 1007\n",
      "menthane monoterpenoids 1006\n",
      "cholestane steroid 984\n",
      "taraxastane / ursane triterpenoid 973\n",
      "biogenic xanthone 969\n",
      "RNA 967\n",
      "organization 935\n",
      "physical quantity 933\n",
      "flavanone 930\n",
      "spirostans 927\n",
      "diocesan bishop 899\n",
      "musical instrument 894\n",
      "physical tool 885\n",
      "ergostane steroid 883\n",
      "biogenic anthraquinones 873\n",
      "biogenic 2,5-diketopiperazine 863\n",
      "abietane diterpenoid 854\n",
      "cousin 851\n"
     ]
    }
   ],
   "source": [
    "for item, freq in subclass_count.most_common(100):\n",
    "    print(id2name[item], freq)\n"
   ]
  },
  {
   "cell_type": "code",
   "execution_count": null,
   "metadata": {},
   "outputs": [],
   "source": []
  }
 ],
 "metadata": {
  "kernelspec": {
   "display_name": "Python 3",
   "language": "python",
   "name": "python3"
  },
  "language_info": {
   "codemirror_mode": {
    "name": "ipython",
    "version": 3
   },
   "file_extension": ".py",
   "mimetype": "text/x-python",
   "name": "python",
   "nbconvert_exporter": "python",
   "pygments_lexer": "ipython3",
   "version": "3.8.10"
  }
 },
 "nbformat": 4,
 "nbformat_minor": 2
}
