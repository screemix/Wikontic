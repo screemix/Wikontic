{
 "cells": [
  {
   "cell_type": "code",
   "execution_count": 2,
   "metadata": {},
   "outputs": [],
   "source": [
    "from SPARQLWrapper import SPARQLWrapper, JSON\n",
    "import json\n",
    "\n",
    "from tenacity import retry, wait_random_exponential, before_sleep_log\n",
    "import logging\n",
    "import sys\n",
    "\n",
    "from tqdm import tqdm\n",
    "\n",
    "import urllib.parse        \n",
    "import requests\n",
    "from bs4 import BeautifulSoup\n",
    "\n",
    "logging.basicConfig(stream=sys.stderr)\n",
    "\n",
    "logger = logging.getLogger('Verifier')\n",
    "logger.setLevel(logging.ERROR)"
   ]
  },
  {
   "cell_type": "code",
   "execution_count": 3,
   "metadata": {},
   "outputs": [
    {
     "data": {
      "text/plain": [
       "'the object is a country that recognizes the subject as its citizen'"
      ]
     },
     "execution_count": 3,
     "metadata": {},
     "output_type": "execute_result"
    }
   ],
   "source": [
    "@retry(wait=wait_random_exponential(multiplier=1, max=60), before_sleep=before_sleep_log(logger, logging.ERROR))\n",
    "def get_property_description(property_id):\n",
    "    # Initialize the SPARQL wrapper with the endpoint\n",
    "    sparql = SPARQLWrapper(\"https://query.wikidata.org/sparql\")\n",
    "    \n",
    "    # Define the SPARQL query\n",
    "    query = f\"\"\"\n",
    "    SELECT ?property ?propertyLabel ?propertyDescription\n",
    "    WHERE {{\n",
    "      wd:{property_id} rdfs:label ?propertyLabel .\n",
    "      wd:{property_id} schema:description ?propertyDescription .\n",
    "      FILTER (lang(?propertyLabel) = 'en')\n",
    "      FILTER (lang(?propertyDescription) = 'en')\n",
    "    }}\n",
    "    LIMIT 1\n",
    "    \"\"\"\n",
    "    \n",
    "    # Set the query to the wrapper\n",
    "    sparql.setQuery(query)\n",
    "    sparql.setReturnFormat(JSON)\n",
    "    \n",
    "    # Execute the query and parse the results\n",
    "    results = sparql.query().convert()\n",
    "\n",
    "    if len(results[\"results\"][\"bindings\"]) > 0:\n",
    "      result = results[\"results\"][\"bindings\"][0]\n",
    "      property_description = result.get(\"propertyDescription\", {}).get(\"value\", \"No description available\")\n",
    "    else:\n",
    "      property_description = ''\n",
    "    return property_description\n",
    "\n",
    "# Example usage\n",
    "property_id = \"P27\"  # Replace with the actual property ID you want to query\n",
    "get_property_description(property_id)"
   ]
  },
  {
   "cell_type": "code",
   "execution_count": 4,
   "metadata": {},
   "outputs": [
    {
     "data": {
      "text/plain": [
       "1187"
      ]
     },
     "execution_count": 4,
     "metadata": {},
     "output_type": "execute_result"
    }
   ],
   "source": [
    "relation_mapping = {}\n",
    "with open(\"id2name_mappings/relation_mapping.jsonl\", \"r\") as f:\n",
    "    for line in f:\n",
    "        mapping = eval(line)\n",
    "        relation_mapping[mapping[\"id\"]] = mapping[\"en_label\"]\n",
    "        \n",
    "len(relation_mapping)"
   ]
  },
  {
   "cell_type": "code",
   "execution_count": 5,
   "metadata": {},
   "outputs": [
    {
     "name": "stderr",
     "output_type": "stream",
     "text": [
      "  6%|▌         | 74/1187 [00:19<07:18,  2.54it/s]ERROR:Verifier:Retrying __main__.get_property_description in 0.8186214600629081 seconds as it raised HTTPError: HTTP Error 429: Too Many Requests.\n",
      "  9%|▊         | 103/1187 [00:28<04:58,  3.64it/s]ERROR:Verifier:Retrying __main__.get_property_description in 0.013864225393150242 seconds as it raised HTTPError: HTTP Error 429: Too Many Requests.\n",
      "  9%|▉         | 107/1187 [00:30<05:26,  3.30it/s]ERROR:Verifier:Retrying __main__.get_property_description in 0.4323052546917714 seconds as it raised HTTPError: HTTP Error 429: Too Many Requests.\n",
      " 10%|▉         | 115/1187 [00:32<05:15,  3.40it/s]ERROR:Verifier:Retrying __main__.get_property_description in 0.9185032659469747 seconds as it raised HTTPError: HTTP Error 429: Too Many Requests.\n",
      " 11%|█▏        | 134/1187 [00:38<04:22,  4.00it/s]ERROR:Verifier:Retrying __main__.get_property_description in 0.9180896668923295 seconds as it raised HTTPError: HTTP Error 429: Too Many Requests.\n",
      " 12%|█▏        | 142/1187 [00:42<05:29,  3.17it/s]ERROR:Verifier:Retrying __main__.get_property_description in 0.1664155381982675 seconds as it raised HTTPError: HTTP Error 429: Too Many Requests.\n",
      " 13%|█▎        | 154/1187 [00:45<04:40,  3.68it/s]ERROR:Verifier:Retrying __main__.get_property_description in 0.25537903084993085 seconds as it raised HTTPError: HTTP Error 429: Too Many Requests.\n",
      " 13%|█▎        | 160/1187 [00:47<04:24,  3.88it/s]ERROR:Verifier:Retrying __main__.get_property_description in 0.872235792763118 seconds as it raised HTTPError: HTTP Error 429: Too Many Requests.\n",
      " 14%|█▍        | 170/1187 [00:51<04:44,  3.57it/s]ERROR:Verifier:Retrying __main__.get_property_description in 0.6982159764672656 seconds as it raised HTTPError: HTTP Error 429: Too Many Requests.\n",
      " 15%|█▍        | 174/1187 [00:53<05:55,  2.85it/s]ERROR:Verifier:Retrying __main__.get_property_description in 0.6773912409112383 seconds as it raised HTTPError: HTTP Error 429: Too Many Requests.\n",
      "100%|██████████| 1187/1187 [05:24<00:00,  3.66it/s]\n"
     ]
    }
   ],
   "source": [
    "rel2desc = {}\n",
    "\n",
    "for rel_id in tqdm(relation_mapping.keys(), total=len(relation_mapping)):\n",
    "    description = get_property_description(rel_id)\n",
    "    rel2desc[rel_id] = description"
   ]
  },
  {
   "cell_type": "code",
   "execution_count": 6,
   "metadata": {},
   "outputs": [
    {
     "data": {
      "text/plain": [
       "1187"
      ]
     },
     "execution_count": 6,
     "metadata": {},
     "output_type": "execute_result"
    }
   ],
   "source": [
    "len(rel2desc)"
   ]
  },
  {
   "cell_type": "code",
   "execution_count": 7,
   "metadata": {},
   "outputs": [],
   "source": [
    "with open('data/relation2description.json', 'w') as f:\n",
    "    json.dump(rel2desc, f)"
   ]
  },
  {
   "cell_type": "code",
   "execution_count": 8,
   "metadata": {},
   "outputs": [
    {
     "name": "stdout",
     "output_type": "stream",
     "text": [
      "No description found for entity Q18154878\n"
     ]
    }
   ],
   "source": [
    "@retry(wait=wait_random_exponential(multiplier=1, max=60), before_sleep=before_sleep_log(logger, logging.ERROR))\n",
    "def get_entity_description(entity_id):\n",
    "    # Define the endpoint\n",
    "    sparql = SPARQLWrapper(\"https://query.wikidata.org/sparql\")\n",
    "\n",
    "    # Define the SPARQL query\n",
    "    query = f\"\"\"\n",
    "    SELECT ?entity ?entityLabel ?entityDescription\n",
    "    WHERE {{\n",
    "      wd:{entity_id} rdfs:label ?entityLabel .\n",
    "      wd:{entity_id} schema:description ?entityDescription .\n",
    "      FILTER (lang(?entityLabel) = 'en')\n",
    "      FILTER (lang(?entityDescription) = 'en')\n",
    "    }}\n",
    "    LIMIT 1\n",
    "    \"\"\"\n",
    "\n",
    "    # Set the query and the return format\n",
    "    sparql.setQuery(query)\n",
    "    sparql.setReturnFormat(JSON)\n",
    "\n",
    "    # Execute the query and return results\n",
    "    results = sparql.query().convert()\n",
    "    if results[\"results\"][\"bindings\"]:\n",
    "        result = results[\"results\"][\"bindings\"][0]\n",
    "        description = result[\"entityDescription\"][\"value\"]\n",
    "        return description\n",
    "    else:\n",
    "        return ''\n",
    "\n",
    "# Example usage\n",
    "entity_id = \"Q18154878\"  # Example entity ID (Douglas Adams)\n",
    "description = get_entity_description(entity_id)\n",
    "if description:\n",
    "    print(f\"Description for entity {entity_id}: {description}\")\n",
    "else:\n",
    "    print(f\"No description found for entity {entity_id}\")"
   ]
  },
  {
   "cell_type": "code",
   "execution_count": 9,
   "metadata": {},
   "outputs": [],
   "source": [
    "entity_id = \"Q18154878\"\n",
    "\n",
    "@retry(wait=wait_random_exponential(multiplier=1, max=60), before_sleep=before_sleep_log(logger, logging.ERROR))\n",
    "def get_redirected_id(entity_id):\n",
    "    url = f\"https://www.wikidata.org/wiki/{entity_id}\"\n",
    "    response = requests.get(url)\n",
    "\n",
    "    if response.status_code == 200:    \n",
    "        new_id = response.headers['link'].split(\";\")[0].split(\"/\")[-1].split(\".\")[0]\n",
    "    else:\n",
    "        new_id = None\n",
    "    return new_id"
   ]
  },
  {
   "cell_type": "code",
   "execution_count": 10,
   "metadata": {},
   "outputs": [
    {
     "data": {
      "text/plain": [
       "'battery-powered PC in a horizontal clamshell design with integrated keyboard and display, about the size of a pocket calculator'"
      ]
     },
     "execution_count": 10,
     "metadata": {},
     "output_type": "execute_result"
    }
   ],
   "source": [
    "get_entity_description(get_redirected_id('Q18154878'))"
   ]
  },
  {
   "cell_type": "code",
   "execution_count": 11,
   "metadata": {},
   "outputs": [
    {
     "data": {
      "text/plain": [
       "6427497"
      ]
     },
     "execution_count": 11,
     "metadata": {},
     "output_type": "execute_result"
    }
   ],
   "source": [
    "entity_mapping = {}\n",
    "with open(\"id2name_mappings/entity_mapping.jsonl\", \"r\") as f:\n",
    "    for line in f:\n",
    "        mapping = eval(line)\n",
    "        entity_mapping[mapping[\"id\"]] = mapping[\"en_label\"]\n",
    "        \n",
    "len(entity_mapping)"
   ]
  },
  {
   "cell_type": "code",
   "execution_count": 12,
   "metadata": {},
   "outputs": [
    {
     "data": {
      "text/plain": [
       "2724925"
      ]
     },
     "execution_count": 12,
     "metadata": {},
     "output_type": "execute_result"
    }
   ],
   "source": [
    "entities = []\n",
    "with open(\"constrained_worlds/genie/entities.json\", \"r\") as f:\n",
    "    entities = json.load(f)\n",
    "len(entities)"
   ]
  },
  {
   "cell_type": "code",
   "execution_count": 13,
   "metadata": {},
   "outputs": [
    {
     "data": {
      "text/plain": [
       "107674454"
      ]
     },
     "execution_count": 13,
     "metadata": {},
     "output_type": "execute_result"
    }
   ],
   "source": [
    "ent2desc = {}\n",
    "with open(\"id2label_and_desc.json\", \"r\") as f:\n",
    "    ent2desc = json.load(f)\n",
    "len(ent2desc)"
   ]
  },
  {
   "cell_type": "code",
   "execution_count": 14,
   "metadata": {},
   "outputs": [
    {
     "name": "stderr",
     "output_type": "stream",
     "text": [
      "100%|██████████| 2724925/2724925 [00:06<00:00, 423747.71it/s]\n"
     ]
    }
   ],
   "source": [
    "id2desc_intersected = {}\n",
    "not_found = []\n",
    "for ent in tqdm(entities):\n",
    "    if ent in ent2desc:\n",
    "        id2desc_intersected[ent] = ent2desc[ent].copy()\n",
    "    else:\n",
    "        not_found.append(ent)"
   ]
  },
  {
   "cell_type": "code",
   "execution_count": 15,
   "metadata": {},
   "outputs": [
    {
     "name": "stderr",
     "output_type": "stream",
     "text": [
      "  0%|          | 1/5406 [00:00<36:20,  2.48it/s]ERROR:Verifier:Retrying __main__.get_entity_description in 0.1902415194169934 seconds as it raised HTTPError: HTTP Error 429: Too Many Requests.\n",
      "  0%|          | 2/5406 [00:01<59:30,  1.51it/s]ERROR:Verifier:Retrying __main__.get_entity_description in 0.7452260995701065 seconds as it raised HTTPError: HTTP Error 429: Too Many Requests.\n",
      "  0%|          | 5/5406 [00:03<57:34,  1.56it/s]  ERROR:Verifier:Retrying __main__.get_entity_description in 0.041377366729226206 seconds as it raised HTTPError: HTTP Error 429: Too Many Requests.\n",
      "  1%|          | 38/5406 [00:18<42:09,  2.12it/s]ERROR:Verifier:Retrying __main__.get_entity_description in 0.7214968881992617 seconds as it raised HTTPError: HTTP Error 429: Too Many Requests.\n",
      "  1%|          | 53/5406 [00:26<42:49,  2.08it/s]  ERROR:Verifier:Retrying __main__.get_entity_description in 0.9007073127980582 seconds as it raised HTTPError: HTTP Error 429: Too Many Requests.\n",
      " 24%|██▍       | 1311/5406 [10:09<31:20,  2.18it/s]ERROR:Verifier:Retrying __main__.get_entity_description in 0.6749838616741807 seconds as it raised HTTPError: HTTP Error 429: Too Many Requests.\n",
      " 25%|██▍       | 1333/5406 [10:21<34:11,  1.99it/s]ERROR:Verifier:Retrying __main__.get_entity_description in 0.15576875033977966 seconds as it raised HTTPError: HTTP Error 429: Too Many Requests.\n",
      " 25%|██▍       | 1344/5406 [10:26<31:00,  2.18it/s]ERROR:Verifier:Retrying __main__.get_entity_description in 0.798414886344508 seconds as it raised HTTPError: HTTP Error 429: Too Many Requests.\n",
      " 30%|██▉       | 1606/5406 [12:32<30:48,  2.06it/s]ERROR:Verifier:Retrying __main__.get_entity_description in 0.553239618445781 seconds as it raised HTTPError: HTTP Error 429: Too Many Requests.\n",
      " 30%|███       | 1628/5406 [12:44<28:47,  2.19it/s]ERROR:Verifier:Retrying __main__.get_entity_description in 0.9225983549882526 seconds as it raised HTTPError: HTTP Error 429: Too Many Requests.\n",
      " 30%|███       | 1648/5406 [12:53<25:38,  2.44it/s]ERROR:Verifier:Retrying __main__.get_entity_description in 0.15922513691203766 seconds as it raised HTTPError: HTTP Error 429: Too Many Requests.\n",
      "ERROR:Verifier:Retrying __main__.get_entity_description in 0.14958211131760546 seconds as it raised HTTPError: HTTP Error 429: Too Many Requests.\n",
      "100%|██████████| 5406/5406 [42:10<00:00,  2.14it/s]\n"
     ]
    }
   ],
   "source": [
    "not_found_desc = {}\n",
    "\n",
    "for ent_id in tqdm(not_found):\n",
    "    new_id = get_redirected_id(ent_id)\n",
    "    if new_id:\n",
    "        desc = get_entity_description(new_id)\n",
    "    else:\n",
    "        desc = ''\n",
    "        \n",
    "    not_found_desc[ent_id] = desc\n",
    "    "
   ]
  },
  {
   "cell_type": "code",
   "execution_count": 16,
   "metadata": {},
   "outputs": [],
   "source": [
    "with open('not_found_desc.json', 'w') as f:\n",
    "    json.dump(not_found_desc, f)"
   ]
  },
  {
   "cell_type": "code",
   "execution_count": null,
   "metadata": {},
   "outputs": [],
   "source": []
  }
 ],
 "metadata": {
  "kernelspec": {
   "display_name": "venv",
   "language": "python",
   "name": "python3"
  },
  "language_info": {
   "codemirror_mode": {
    "name": "ipython",
    "version": 3
   },
   "file_extension": ".py",
   "mimetype": "text/x-python",
   "name": "python",
   "nbconvert_exporter": "python",
   "pygments_lexer": "ipython3",
   "version": "3.8.10"
  }
 },
 "nbformat": 4,
 "nbformat_minor": 2
}
