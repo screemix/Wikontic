{
 "cells": [
  {
   "cell_type": "code",
   "execution_count": 1,
   "metadata": {},
   "outputs": [
    {
     "name": "stderr",
     "output_type": "stream",
     "text": [
      "/home/jovyan/chepurova/Text2KG/venv/lib/python3.7/site-packages/tqdm/auto.py:21: TqdmWarning: IProgress not found. Please update jupyter and ipywidgets. See https://ipywidgets.readthedocs.io/en/stable/user_install.html\n",
      "  from .autonotebook import tqdm as notebook_tqdm\n"
     ]
    }
   ],
   "source": [
    "import time\n",
    "import numpy as np\n",
    "from tqdm import tqdm\n",
    "\n",
    "import json\n",
    "import jsonlines\n",
    "import openai\n",
    "import os\n",
    "import sys\n",
    "import logging\n",
    "import pprint\n",
    "\n",
    "import torch\n",
    "from transformers import AutoTokenizer, AutoModel\n",
    "\n",
    "from utils.eval_utils import micro_precision, micro_recall, f1_score\n",
    "from utils.openai_utils import LLMTripletExtractor\n",
    "from utils.verifier_utils import TripletFilter\n",
    "from utils.structured_dynamic_index_utils import Aligner\n",
    "\n",
    "import faiss\n",
    "import argparse\n",
    "import re\n",
    "import warnings\n",
    "warnings.filterwarnings('ignore')"
   ]
  },
  {
   "cell_type": "markdown",
   "metadata": {},
   "source": [
    "## Examples"
   ]
  },
  {
   "cell_type": "code",
   "execution_count": 2,
   "metadata": {},
   "outputs": [],
   "source": [
    "aligner = Aligner()"
   ]
  },
  {
   "cell_type": "code",
   "execution_count": 16,
   "metadata": {},
   "outputs": [],
   "source": [
    "text = \"Borisov is up for Best Supporting Actor for his role in Sean Baker's “Anora” at the Academy Awards on March 2, making him the first Russian to be nominated in an acting category since the fall of the Soviet Union.\""
   ]
  },
  {
   "cell_type": "code",
   "execution_count": 17,
   "metadata": {},
   "outputs": [],
   "source": [
    "model_name = 'gpt-4o'\n",
    "\n",
    "extractor = LLMTripletExtractor(model=model_name, prompt1_path='utils/prompts/propmt_1_types_qualifiers.txt')"
   ]
  },
  {
   "cell_type": "code",
   "execution_count": 18,
   "metadata": {},
   "outputs": [
    {
     "data": {
      "text/plain": [
       "[{'subject': 'Borisov',\n",
       "  'relation': 'nominated for',\n",
       "  'object_': 'Best Supporting Actor',\n",
       "  'qualifiers': [{'relation': 'for work', 'object_': 'Anora'},\n",
       "   {'relation': 'award received', 'object_': 'Academy Awards'},\n",
       "   {'relation': 'point in time', 'object_': 'March 2'}],\n",
       "  'subject_type': 'person',\n",
       "  'object_type': 'award category'},\n",
       " {'subject': 'Borisov',\n",
       "  'relation': 'first',\n",
       "  'object_': 'Russian nominated in an acting category',\n",
       "  'qualifiers': [{'relation': 'since', 'object_': 'fall of the Soviet Union'}],\n",
       "  'subject_type': 'person',\n",
       "  'object_type': 'achievement'},\n",
       " {'subject': 'Sean Baker',\n",
       "  'relation': 'director of',\n",
       "  'object_': 'Anora',\n",
       "  'qualifiers': [],\n",
       "  'subject_type': 'person',\n",
       "  'object_type': 'film'}]"
      ]
     },
     "execution_count": 18,
     "metadata": {},
     "output_type": "execute_result"
    }
   ],
   "source": [
    "extracted_triplets = extractor.get_completion_first_query(text)\n",
    "\n",
    "extracted_triplets['triplets']"
   ]
  },
  {
   "cell_type": "code",
   "execution_count": 19,
   "metadata": {},
   "outputs": [
    {
     "name": "stdout",
     "output_type": "stream",
     "text": [
      "Borisov nominated for Best Supporting Actor\n",
      "person , award category\n",
      "[('nominated for', 'inverse'), ('trophy awarded', 'direct'), ('winner', 'direct'), ('performer', 'direct'), ('published in', 'inverse'), ('genre', 'direct'), ('genre', 'inverse'), ('developer', 'direct'), ('presenter', 'direct'), ('appointed by', 'inverse')]\n",
      "['juridical person', 'legal person', 'people mover', 'natural person', 'human', 'grammatical person'] nominated for ['award', 'award ceremony', 'music award', 'group of awards']\n",
      "['award ceremony'] trophy awarded ['person', 'age of a person', 'juridical person', 'human population', 'hypothetical person', 'legal person', 'people mover', 'fictional human', 'human head', 'natural person', 'individual', 'fictional person', 'human', 'indigenous people', 'people', 'grammatical person', 'personification']\n",
      "['award', 'music award', 'group of awards'] winner ['juridical person', 'legal person', 'people mover', 'fictional human', 'natural person', 'fictional person', 'human', 'grammatical person']\n",
      "['award ceremony'] performer ['human', 'fictional human']\n",
      "['juridical person', 'people mover', 'legal person', 'natural person', 'grammatical person'] published in ['group of awards']\n",
      "['group of awards', 'fictional award', 'software category', 'music award', 'award'] genre ['personification']\n",
      "['juridical person', 'human population', 'legal person', 'people mover', 'fictional human', 'natural person', 'fictional person', 'human', 'indigenous people', 'people', 'grammatical person'] genre ['software category', 'music award']\n",
      "['group of awards', 'fictional award', 'music award', 'award', 'award ceremony'] developer ['human']\n",
      "['award ceremony'] presenter ['human', 'fictional human']\n",
      "['human', 'fictional human', 'fictional person'] appointed by ['fictional award']\n",
      "----------------------------------------------------------------------------------------------------\n",
      "Borisov first Russian nominated in an acting category\n",
      "person , achievement\n",
      "[('first appearance', 'direct'), ('first appearance', 'inverse'), ('location of first performance', 'inverse'), ('location of first performance', 'direct'), ('producer', 'direct'), ('producer', 'inverse'), ('winner', 'direct'), ('director', 'direct'), ('publisher', 'direct'), ('composer', 'direct')]\n",
      "['sports award', 'school', 'recognition', 'Xbox Achievement', 'sports team', 'citation', 'school district', 'academic district', 'fictional award', 'high school athletics program', 'class of award', 'mascot', 'performance', 'award', 'award ceremony', 'achievement', 'achievement'] first appearance ['juridical person', 'people mover', 'legal person', 'natural person', 'grammatical person']\n",
      "['juridical person', 'imaginary human', 'human population', 'legal person', 'people mover', 'fictional human', 'natural person', 'fictional person', 'human', 'indigenous people', 'people', 'human biblical figure', 'grammatical person'] first appearance ['sports award', 'citation', 'mascot', 'achievement', 'achievement']\n",
      "['juridical person', 'people mover', 'legal person', 'natural person', 'grammatical person'] location of first performance ['school', 'sports team', 'school district', 'academic district', 'high school athletics program', 'award ceremony']\n",
      "['sports award', 'citation', 'mascot', 'achievement', 'achievement'] location of first performance ['people mover']\n",
      "['sports award', 'citation', 'mascot', 'achievement', 'achievement'] producer ['human', 'fictional human', 'fictional person']\n",
      "['juridical person', 'people mover', 'legal person', 'natural person', 'grammatical person'] producer ['mascot']\n",
      "['award', 'sports award', 'class of award'] winner ['juridical person', 'legal person', 'people mover', 'fictional human', 'natural person', 'fictional person', 'human', 'grammatical person']\n",
      "['performance'] director ['human']\n",
      "['citation'] publisher ['human']\n",
      "['sports award', 'citation', 'mascot', 'achievement', 'achievement'] composer ['human']\n",
      "----------------------------------------------------------------------------------------------------\n"
     ]
    },
    {
     "name": "stdout",
     "output_type": "stream",
     "text": [
      "Sean Baker director of Anora\n",
      "person , film\n",
      "[('director', 'direct'), ('director of publication', 'direct'), ('director of photography', 'direct'), ('editor', 'direct'), ('appointed by', 'direct'), ('appointed by', 'inverse'), ('producer', 'direct'), ('producer', 'inverse'), ('author', 'inverse'), ('author', 'direct')]\n",
      "['dubbing of film', 'film series', 'film', 'première', 'fictional film', 'documentary film', 'television film', 'animated film'] director ['human']\n",
      "['television film'] director of publication ['human']\n",
      "['film series', 'film', 'fictional film', 'documentary film', 'television film', 'animated film'] director of photography ['human', 'fictional human']\n",
      "['filmography', 'drama', 'audio release', 'dubbing of film', 'film series', 'film', 'documentary film', 'film poster', 'television film', 'animated film', 'film set'] editor ['human']\n",
      "['film character'] appointed by ['human', 'fictional human', 'fictional person']\n",
      "['human', 'fictional human', 'fictional person'] appointed by ['film character', 'fictional film']\n",
      "['filmography', 'drama', 'audio release', 'dubbing of film', 'film series', 'film', 'documentary film', 'film poster', 'television film', 'animated film', 'film set'] producer ['human', 'fictional human', 'fictional person']\n",
      "['juridical person', 'people mover', 'legal person', 'natural person', 'grammatical person'] producer ['film character']\n",
      "['juridical person', 'people mover', 'legal person', 'natural person', 'grammatical person'] author ['film award', 'cast', 'film character']\n",
      "['filmography', 'animated film', 'drama', 'audio release', 'dubbing of film', 'film series', 'film', 'fictional film', 'film poster', 'television film', 'documentary film', 'film set'] author ['person', 'juridical person', 'imaginary human', 'human population', 'hypothetical person', 'legal person', 'fictional human', 'individual', 'natural person', 'fictional person', 'person or organization', 'human', 'indigenous people', 'people', 'human biblical figure']\n",
      "----------------------------------------------------------------------------------------------------\n"
     ]
    }
   ],
   "source": [
    "for triplet in extracted_triplets['triplets']:\n",
    "    obj_type_ids, subj_type_ids = aligner.retrieve_similar_entity_types(triplet=triplet)\n",
    "    properties = aligner.retrieve_properties_for_entity_type(target_relation=triplet['relation'], object_types=obj_type_ids, subject_types=subj_type_ids)\n",
    "    print(triplet['subject'], triplet['relation'], triplet['object_'])\n",
    "    print(triplet['subject_type'], \",\", triplet['object_type'])\n",
    "    print([(p['label'], p['type']) for p in properties])\n",
    "    for p in properties:\n",
    "        print([aligner.entity2label[t] for t in p['subject_types']], p['label'], [aligner.entity2label[t] for t in p['object_types']])\n",
    "    print('-'*100)"
   ]
  },
  {
   "cell_type": "code",
   "execution_count": 20,
   "metadata": {},
   "outputs": [],
   "source": [
    "text = 'Sam Altman’s net worth is a major topic for people following the tech industry, as the CEO of OpenAI is one of the most prominent figures out there, especially with the rise of artificial intelligence (AI) and chatbots like ChatGPT. '"
   ]
  },
  {
   "cell_type": "code",
   "execution_count": 21,
   "metadata": {},
   "outputs": [
    {
     "data": {
      "text/plain": [
       "[{'subject': 'Sam Altman',\n",
       "  'relation': 'net worth',\n",
       "  'object_': 'major topic',\n",
       "  'qualifiers': [{'relation': 'for',\n",
       "    'object_': 'people following the tech industry'}],\n",
       "  'subject_type': 'person',\n",
       "  'object_type': 'concept'},\n",
       " {'subject': 'Sam Altman',\n",
       "  'relation': 'position held',\n",
       "  'object_': 'CEO of OpenAI',\n",
       "  'qualifiers': [],\n",
       "  'subject_type': 'person',\n",
       "  'object_type': 'position'},\n",
       " {'subject': 'Sam Altman',\n",
       "  'relation': 'notable for',\n",
       "  'object_': 'rise of artificial intelligence',\n",
       "  'qualifiers': [],\n",
       "  'subject_type': 'person',\n",
       "  'object_type': 'event'},\n",
       " {'subject': 'Sam Altman',\n",
       "  'relation': 'notable for',\n",
       "  'object_': 'chatbots like ChatGPT',\n",
       "  'qualifiers': [],\n",
       "  'subject_type': 'person',\n",
       "  'object_type': 'technology'}]"
      ]
     },
     "execution_count": 21,
     "metadata": {},
     "output_type": "execute_result"
    }
   ],
   "source": [
    "extracted_triplets = extractor.get_completion_first_query(text)\n",
    "\n",
    "extracted_triplets['triplets']"
   ]
  },
  {
   "cell_type": "code",
   "execution_count": 22,
   "metadata": {},
   "outputs": [
    {
     "name": "stdout",
     "output_type": "stream",
     "text": [
      "Sam Altman net worth major topic\n",
      "person , concept\n",
      "[('owner of', 'inverse'), ('owner of', 'direct'), ('chief executive officer', 'direct'), ('corporate officer', 'direct'), ('chief operating officer', 'direct'), ('board member', 'direct'), ('industry', 'direct'), ('author', 'inverse'), ('author', 'direct'), ('employer', 'direct')]\n",
      "['human population', 'fictional human', 'fictional person', 'human', 'indigenous people', 'people'] owner of ['sketch', 'feature', 'philosophical concept', 'political initiative', 'legal concept', 'game mechanic', 'definition', 'prototype', 'premise', 'concept car']\n",
      "['political initiative'] owner of ['person', 'juridical person', 'human population', 'hypothetical person', 'legal person', 'people mover', 'fictional human', 'human head', 'natural person', 'individual', 'fictional person', 'human', 'indigenous people', 'people', 'grammatical person']\n",
      "['political initiative'] chief executive officer ['human', 'fictional human']\n",
      "['political initiative'] corporate officer ['human']\n",
      "['political initiative'] chief operating officer ['human']\n",
      "['political initiative'] board member ['human']\n",
      "['political initiative'] industry ['people mover']\n",
      "['juridical person', 'people mover', 'legal person', 'natural person', 'grammatical person'] author ['political initiative']\n",
      "['sketch', 'feature', 'philosophical concept', 'game mechanic', 'legal concept', 'definition', 'prototype', 'premise', 'concept car', 'proposal'] author ['person', 'juridical person', 'imaginary human', 'human population', 'hypothetical person', 'legal person', 'fictional human', 'individual', 'natural person', 'fictional person', 'person or organization', 'human', 'indigenous people', 'people', 'human biblical figure']\n",
      "['political initiative'] employer ['human population', 'fictional human', 'fictional person', 'human', 'indigenous people', 'people', 'human biblical figure']\n",
      "----------------------------------------------------------------------------------------------------\n",
      "Sam Altman position held CEO of OpenAI\n",
      "person , position\n",
      "[('position held', 'inverse'), ('position holder', 'direct'), ('appointed by', 'direct'), ('appointed by', 'inverse'), ('owned by', 'direct'), ('professorship', 'inverse'), ('published in', 'inverse'), ('published in', 'direct'), ('noble title', 'inverse'), ('member of', 'direct')]\n",
      "['hypothetical person', 'fictional human', 'fictional person', 'human', 'human biblical figure'] position held ['chair', 'public office', 'position', 'police rank', 'fictional military rank', 'military position', 'historical position', 'hereditary position', 'military rank']\n",
      "['chair', 'public office', 'position', 'police rank', 'fictional military rank', 'military position', 'historical position', 'hereditary position', 'military rank'] position holder ['human', 'fictional human', 'fictional person']\n",
      "['chair', 'public office', 'position', 'police rank', 'fictional military rank', 'military position', 'historical position', 'hereditary position', 'military rank'] appointed by ['human', 'fictional human', 'fictional person']\n",
      "['human', 'fictional human', 'fictional person'] appointed by ['chair', 'public office', 'position', 'police rank', 'fictional military rank', 'military position', 'historical position', 'hereditary position', 'military rank']\n",
      "['chair', 'police rank', 'fictional military rank', 'political position', 'military rank', 'arrangement', 'area of law in a place', 'contract'] owned by ['person', 'juridical person', 'hypothetical person', 'legal person', 'fictional human', 'natural person', 'fictional person', 'human', 'indigenous people', 'people', 'human biblical figure']\n",
      "['human'] professorship ['chair']\n",
      "['juridical person', 'people mover', 'legal person', 'natural person', 'grammatical person'] published in ['chair', 'arrangement', 'contract', 'political position']\n",
      "['chair', 'arrangement', 'contract', 'political position'] published in ['juridical person', 'people mover', 'legal person', 'natural person', 'grammatical person']\n",
      "['human', 'human biblical figure', 'fictional human', 'fictional person'] noble title ['fictional military rank']\n",
      "['chair', 'public office', 'position', 'police rank', 'military position', 'historical position', 'hereditary position', 'role', 'military rank'] member of ['indigenous people', 'people', 'human population']\n",
      "----------------------------------------------------------------------------------------------------\n",
      "Sam Altman notable for rise of artificial intelligence\n",
      "person , event\n",
      "[('notable work', 'inverse'), ('notable work', 'direct'), ('designed by', 'inverse'), ('designed by', 'direct'), ('founded by', 'inverse'), ('founded by', 'direct'), ('architect', 'direct'), ('screenwriter', 'inverse'), ('screenwriter', 'direct'), ('commissioned by', 'direct')]\n",
      "['human population', 'fictional human', 'fictional person', 'human', 'indigenous people', 'people'] notable work ['event sequence', 'cultural festival', 'recurring event', 'recurring sporting event', 'scientific event', 'venue', 'competition', 'race', 'charity event', 'live broadcast', 'event', 'recurrent event edition', 'competition', 'arena', 'annual event', 'competition', 'event venue', 'sporting event']\n",
      "['crowd'] notable work ['juridical person', 'legal person', 'people mover', 'natural person', 'grammatical person', 'personification']\n",
      "['juridical person', 'legal person', 'people mover', 'fictional human', 'natural person', 'fictional person', 'grammatical person'] designed by ['crowd']\n",
      "['arena', 'live broadcast', 'venue', 'event venue'] designed by ['human population', 'fictional human', 'fictional person', 'human', 'indigenous people', 'people']\n",
      "['indigenous people', 'people', 'human population', 'people mover'] founded by ['crowd']\n",
      "['annual event', 'race', 'competition', 'cultural festival', 'recurring sporting event', 'venue', 'live broadcast', 'event', 'event sequence', 'competition', 'charity event', 'arena', 'crowd', 'sporting event', 'recurring event', 'recurrent event edition', 'scientific event', 'event venue', 'competition'] founded by ['person', 'human population', 'hypothetical person', 'fictional human', 'fictional person', 'human', 'indigenous people', 'people', 'human biblical figure']\n",
      "['arena'] architect ['human', 'indigenous people', 'people', 'human population']\n",
      "['juridical person', 'people mover', 'legal person', 'natural person', 'grammatical person'] screenwriter ['crowd']\n",
      "['arena', 'venue', 'event venue'] screenwriter ['human', 'indigenous people', 'people', 'human population']\n",
      "['arena', 'live broadcast', 'venue', 'event venue'] commissioned by ['human']\n",
      "----------------------------------------------------------------------------------------------------\n"
     ]
    },
    {
     "name": "stdout",
     "output_type": "stream",
     "text": [
      "Sam Altman notable for chatbots like ChatGPT\n",
      "person , technology\n",
      "[('notable work', 'inverse'), ('has written for', 'inverse'), ('designed by', 'direct'), ('founded by', 'direct'), ('screenwriter', 'direct'), ('commissioned by', 'direct'), ('producer', 'direct'), ('owned by', 'direct'), ('investigated by', 'direct'), ('composer', 'direct')]\n",
      "['human population', 'fictional human', 'fictional person', 'human', 'indigenous people', 'people'] notable work ['technology', 'software', 'telecommunications device', 'industry', 'technical standard', 'technical specification', 'communication protocol', 'medical device', 'technical system', 'equipment', 'military technology', 'physical tool', 'artificial intelligence', 'computer', 'computer hardware']\n",
      "['human', 'fictional human', 'fictional person'] has written for ['communication protocol', 'technical standard']\n",
      "['technology', 'software', 'telecommunications device', 'technical standard', 'fictional technology', 'technical specification', 'communication protocol', 'medical device', 'technical system', 'physical tool', 'artificial intelligence', 'computer', 'computer hardware'] designed by ['human population', 'fictional human', 'fictional person', 'human', 'indigenous people', 'people']\n",
      "['technology', 'technical standard', 'communication protocol', 'technical system', 'artificial intelligence', 'computer', 'computer hardware'] founded by ['person', 'human population', 'hypothetical person', 'fictional human', 'fictional person', 'human', 'indigenous people', 'people', 'human biblical figure']\n",
      "['software', 'telecommunications device', 'technical standard', 'medical device', 'communication protocol', 'physical tool', 'technical specification', 'computer', 'computer hardware'] screenwriter ['human', 'indigenous people', 'people', 'human population']\n",
      "['technology', 'software', 'telecommunications device', 'technical standard', 'fictional technology', 'technical specification', 'communication protocol', 'medical device', 'technical system', 'equipment', 'military technology', 'physical tool', 'artificial intelligence', 'computer', 'computer hardware'] commissioned by ['human']\n",
      "['software', 'telecommunications device', 'technical standard', 'medical device', 'communication protocol', 'physical tool', 'technical specification', 'computer', 'computer hardware'] producer ['human', 'fictional human', 'fictional person']\n",
      "['technology', 'software', 'telecommunications device', 'technical standard', 'fictional technology', 'technical specification', 'communication protocol', 'medical device', 'electronic media', 'technical system', 'equipment', 'military technology', 'physical tool', 'artificial intelligence', 'computer', 'computer hardware'] owned by ['person', 'juridical person', 'hypothetical person', 'legal person', 'fictional human', 'natural person', 'fictional person', 'human', 'indigenous people', 'people', 'human biblical figure']\n",
      "['artificial intelligence'] investigated by ['human']\n",
      "['software', 'telecommunications device', 'technical standard', 'medical device', 'communication protocol', 'physical tool', 'technical specification', 'computer', 'computer hardware'] composer ['human']\n",
      "----------------------------------------------------------------------------------------------------\n"
     ]
    }
   ],
   "source": [
    "for triplet in extracted_triplets['triplets']:\n",
    "    obj_type_ids, subj_type_ids = aligner.retrieve_similar_entity_types(triplet=triplet)\n",
    "    properties = aligner.retrieve_properties_for_entity_type(target_relation=triplet['relation'], object_types=obj_type_ids, subject_types=subj_type_ids)\n",
    "    print(triplet['subject'], triplet['relation'], triplet['object_'])\n",
    "    print(triplet['subject_type'], \",\", triplet['object_type'])\n",
    "    print([(p['label'], p['type']) for p in properties])\n",
    "    for p in properties:\n",
    "        print([aligner.entity2label[t] for t in p['subject_types']], p['label'], [aligner.entity2label[t] for t in p['object_types']])\n",
    "    print('-'*100)"
   ]
  },
  {
   "cell_type": "code",
   "execution_count": 23,
   "metadata": {},
   "outputs": [],
   "source": [
    "text = \"Musk’s xAI releases artificial intelligence model Grok 3, claims better performance than rivals in early testing.\""
   ]
  },
  {
   "cell_type": "code",
   "execution_count": 24,
   "metadata": {},
   "outputs": [
    {
     "data": {
      "text/plain": [
       "[{'subject': 'xAI',\n",
       "  'relation': 'developed',\n",
       "  'object_': 'Grok 3',\n",
       "  'qualifiers': [],\n",
       "  'subject_type': 'organization',\n",
       "  'object_type': 'artificial intelligence model'},\n",
       " {'subject': 'Grok 3',\n",
       "  'relation': 'claimed performance',\n",
       "  'object_': 'better than rivals',\n",
       "  'qualifiers': [{'relation': 'point in time', 'object_': 'early testing'}],\n",
       "  'subject_type': 'artificial intelligence model',\n",
       "  'object_type': 'performance'}]"
      ]
     },
     "execution_count": 24,
     "metadata": {},
     "output_type": "execute_result"
    }
   ],
   "source": [
    "extracted_triplets = extractor.get_completion_first_query(text)\n",
    "\n",
    "extracted_triplets['triplets']"
   ]
  },
  {
   "cell_type": "code",
   "execution_count": 25,
   "metadata": {},
   "outputs": [
    {
     "name": "stdout",
     "output_type": "stream",
     "text": [
      "xAI developed Grok 3\n",
      "organization , artificial intelligence model\n",
      "[('developer', 'direct'), ('commissioned by', 'direct'), ('designed by', 'inverse'), ('designed by', 'direct'), ('founded by', 'inverse'), ('founded by', 'direct'), ('manufacturer', 'direct'), ('published in', 'inverse'), ('published in', 'direct'), ('owned by', 'inverse')]\n",
      "['artificial geographic entity', 'mathematical model', 'artificial intelligence', 'subscription business model', 'product model', 'electronic device model', 'lens model', 'fictional artificial intelligence', 'fictional artificial entity', 'virtual reality headset model', 'artificial satellite', 'artificial physical object', 'business model', 'scientific model', 'integrated circuit model', 'artificial object', 'model', 'artificially intelligent entity', 'computer model'] developer ['educational organization', 'political organization', 'Catholic organization', 'organizational subdivision', 'religious organization', 'organization', 'government organization', 'criminal organization', \"employers' organization\", 'scientific organization', 'armed organization', 'advocacy group', 'nonprofit organization', 'association', 'regional organization', 'international organization', 'non-governmental organization', 'activist group', 'sports organization']\n",
      "['artificial geographic entity', 'mathematical model', 'artificial intelligence', 'subscription business model', 'product model', 'electronic device model', 'lens model', 'fictional artificial intelligence', 'fictional artificial entity', 'virtual reality headset model', 'artificial satellite', 'artificial physical object', 'business model', 'scientific model', 'integrated circuit model', 'artificial object', 'model', 'artificially intelligent entity', 'computer model'] commissioned by ['educational organization', 'political organization', 'fictional organization', 'Catholic organization', 'organizational subdivision', 'religious organization', 'organization', 'government organization', 'criminal organization', \"employers' organization\", 'scientific organization', 'armed organization', 'advocacy group', 'nonprofit organization', 'association', 'regional organization', 'international organization', 'non-governmental organization', 'activist group', 'sports organization']\n",
      "['regional organization', 'religious organization', 'Catholic organization', 'fictional organization'] designed by ['fictional artificial intelligence']\n",
      "['artificial geographic entity', 'mathematical model', 'artificial intelligence', 'subscription business model', 'product model', 'electronic device model', 'lens model', 'fictional artificial intelligence', 'fictional artificial entity', 'virtual reality headset model', 'artificial satellite', 'artificial physical object', 'business model', 'scientific model', 'integrated circuit model', 'artificial object', 'model', 'artificially intelligent entity', 'computer model'] designed by ['educational organization', 'political organization', 'fictional organization', 'Catholic organization', 'organizational subdivision', 'religious organization', 'organization', 'government organization', 'criminal organization', \"employers' organization\", 'scientific organization', 'armed organization', 'advocacy group', 'nonprofit organization', 'association', 'regional organization', 'international organization', 'non-governmental organization', 'activist group', 'sports organization']\n",
      "['educational organization', 'political organization', 'fictional organization', 'Catholic organization', 'organizational subdivision', 'religious organization', 'organization', 'government organization', 'criminal organization', \"employers' organization\", 'scientific organization', 'armed organization', 'advocacy group', 'nonprofit organization', 'association', 'regional organization', 'international organization', 'non-governmental organization', 'activist group', 'sports organization'] founded by ['fictional artificial intelligence']\n",
      "['mathematical model', 'artificial intelligence', 'scientific model'] founded by ['educational organization', 'political organization', 'Catholic organization', 'organizational subdivision', 'religious organization', 'organization', 'government organization', 'criminal organization', \"employers' organization\", 'scientific organization', 'armed organization', 'advocacy group', 'nonprofit organization', 'association', 'regional organization', 'international organization', 'non-governmental organization', 'activist group', 'sports organization']\n",
      "['integrated circuit model', 'product model', 'electronic device model', 'virtual reality headset model', 'artificial satellite', 'artificial physical object', 'computer model', 'lens model'] manufacturer ['educational organization', 'political organization', 'fictional organization', 'Catholic organization', 'organizational subdivision', 'religious organization', 'organization', 'government organization', 'criminal organization', \"employers' organization\", 'scientific organization', 'armed organization', 'advocacy group', 'nonprofit organization', 'association', 'regional organization', 'international organization', 'non-governmental organization', 'activist group', 'sports organization']\n",
      "['religious organization', 'Catholic organization'] published in ['artificial satellite', 'integrated circuit model', 'subscription business model', 'artificial object', 'product model', 'mathematical model', 'electronic device model', 'virtual reality headset model', 'computer model', 'artificial physical object', 'lens model']\n",
      "['artificial satellite', 'integrated circuit model', 'subscription business model', 'artificial object', 'product model', 'mathematical model', 'electronic device model', 'virtual reality headset model', 'computer model', 'artificial physical object', 'lens model'] published in ['religious organization', 'Catholic organization']\n",
      "['educational organization', 'political organization', 'fictional organization', 'Catholic organization', 'organizational subdivision', 'religious organization', 'organization', 'government organization', 'criminal organization', \"employers' organization\", 'scientific organization', 'armed organization', 'advocacy group', 'nonprofit organization', 'association', 'regional organization', 'international organization', 'non-governmental organization', 'activist group', 'sports organization'] owned by ['fictional artificial intelligence']\n",
      "----------------------------------------------------------------------------------------------------\n",
      "Grok 3 claimed performance better than rivals\n",
      "artificial intelligence model , performance\n",
      "[('performer', 'direct'), ('manufacturer', 'inverse'), ('manufacturer', 'direct'), ('published in', 'inverse'), ('published in', 'direct'), ('presented in', 'inverse'), ('calculated from', 'direct'), ('calculated from', 'inverse'), ('introduced feature', 'inverse'), ('owned by', 'inverse')]\n",
      "['performance artwork', 'musical performance', 'quality', 'performance', 'dance performance', 'simulation', 'achievement', 'performance work', 'race result', 'achievement'] performer ['fictional artificial intelligence']\n",
      "['integrated circuit model', 'product model', 'electronic device model', 'virtual reality headset model', 'artificial satellite', 'artificial physical object', 'computer model', 'lens model'] manufacturer ['performing artist']\n",
      "['performing artist'] manufacturer ['fictional artificial intelligence', 'artificial intelligence', 'subscription business model']\n",
      "['artificial satellite', 'integrated circuit model', 'subscription business model', 'artificial object', 'product model', 'mathematical model', 'electronic device model', 'virtual reality headset model', 'computer model', 'artificial physical object', 'lens model'] published in ['performance artwork', 'musical performance', 'quality', 'race result', 'dance performance', 'simulation', 'achievement', 'performance work', 'achievement']\n",
      "['performance artwork', 'musical performance', 'quality', 'race result', 'dance performance', 'simulation', 'achievement', 'performance work', 'achievement'] published in ['artificial satellite', 'integrated circuit model', 'subscription business model', 'artificial object', 'product model', 'mathematical model', 'electronic device model', 'virtual reality headset model', 'computer model', 'artificial physical object', 'lens model']\n",
      "['mathematical model', 'subscription business model'] presented in ['musical performance', 'performance artwork', 'dance performance', 'performance']\n",
      "['simulation', 'function', 'achievement'] calculated from ['mathematical model']\n",
      "['mathematical model'] calculated from ['simulation', 'function', 'achievement']\n",
      "['artificial satellite', 'integrated circuit model', 'subscription business model', 'artificial object', 'product model', 'mathematical model', 'electronic device model', 'virtual reality headset model', 'computer model', 'artificial physical object', 'lens model'] introduced feature ['achievement']\n",
      "['artificial geographic entity', 'mathematical model', 'artificial intelligence', 'subscription business model', 'product model', 'electronic device model', 'lens model', 'fictional artificial intelligence', 'fictional artificial entity', 'virtual reality headset model', 'artificial satellite', 'artificial physical object', 'business model', 'scientific model', 'integrated circuit model', 'artificial object', 'model', 'artificially intelligent entity', 'computer model'] owned by ['performing artist']\n",
      "----------------------------------------------------------------------------------------------------\n"
     ]
    }
   ],
   "source": [
    "for triplet in extracted_triplets['triplets']:\n",
    "    obj_type_ids, subj_type_ids = aligner.retrieve_similar_entity_types(triplet=triplet)\n",
    "    properties = aligner.retrieve_properties_for_entity_type(target_relation=triplet['relation'], object_types=obj_type_ids, subject_types=subj_type_ids)\n",
    "    print(triplet['subject'], triplet['relation'], triplet['object_'])\n",
    "    print(triplet['subject_type'], \",\", triplet['object_type'])\n",
    "    print([(p['label'], p['type']) for p in properties])\n",
    "    for p in properties:\n",
    "        print([aligner.entity2label[t] for t in p['subject_types']], p['label'], [aligner.entity2label[t] for t in p['object_types']])\n",
    "    print('-'*100)"
   ]
  },
  {
   "cell_type": "code",
   "execution_count": 26,
   "metadata": {},
   "outputs": [],
   "source": [
    "text = 'In addition to directing “The Phoenician Scheme,” Anderson penned the script with the story co-written by Roman Coppola. Focus will distribute the film domestically. “The Phoenician Scheme” will open in limited release on May 30, 2025 and expand wide on June 6. Universal Pictures, Focus’s parent studio, is handling international distribution.'"
   ]
  },
  {
   "cell_type": "code",
   "execution_count": 27,
   "metadata": {},
   "outputs": [
    {
     "data": {
      "text/plain": [
       "[{'subject': 'Anderson',\n",
       "  'relation': 'director of',\n",
       "  'object_': 'The Phoenician Scheme',\n",
       "  'qualifiers': [],\n",
       "  'subject_type': 'person',\n",
       "  'object_type': 'film'},\n",
       " {'subject': 'Anderson',\n",
       "  'relation': 'screenwriter of',\n",
       "  'object_': 'The Phoenician Scheme',\n",
       "  'qualifiers': [],\n",
       "  'subject_type': 'person',\n",
       "  'object_type': 'film'},\n",
       " {'subject': 'Roman Coppola',\n",
       "  'relation': 'co-writer of',\n",
       "  'object_': 'The Phoenician Scheme',\n",
       "  'qualifiers': [],\n",
       "  'subject_type': 'person',\n",
       "  'object_type': 'film'},\n",
       " {'subject': 'Focus',\n",
       "  'relation': 'distributor of',\n",
       "  'object_': 'The Phoenician Scheme',\n",
       "  'qualifiers': [{'relation': 'distribution scope', 'object_': 'domestic'}],\n",
       "  'subject_type': 'company',\n",
       "  'object_type': 'film'},\n",
       " {'subject': 'The Phoenician Scheme',\n",
       "  'relation': 'limited release date',\n",
       "  'object_': 'May 30, 2025',\n",
       "  'qualifiers': [],\n",
       "  'subject_type': 'film',\n",
       "  'object_type': 'date'},\n",
       " {'subject': 'The Phoenician Scheme',\n",
       "  'relation': 'wide release date',\n",
       "  'object_': 'June 6, 2025',\n",
       "  'qualifiers': [],\n",
       "  'subject_type': 'film',\n",
       "  'object_type': 'date'},\n",
       " {'subject': 'Universal Pictures',\n",
       "  'relation': 'international distributor of',\n",
       "  'object_': 'The Phoenician Scheme',\n",
       "  'qualifiers': [],\n",
       "  'subject_type': 'company',\n",
       "  'object_type': 'film'}]"
      ]
     },
     "execution_count": 27,
     "metadata": {},
     "output_type": "execute_result"
    }
   ],
   "source": [
    "extracted_triplets = extractor.get_completion_first_query(text)\n",
    "\n",
    "extracted_triplets['triplets']"
   ]
  },
  {
   "cell_type": "code",
   "execution_count": 28,
   "metadata": {},
   "outputs": [
    {
     "name": "stdout",
     "output_type": "stream",
     "text": [
      "Anderson director of The Phoenician Scheme\n",
      "person , film\n",
      "[('director', 'direct'), ('director of publication', 'direct'), ('director of photography', 'direct'), ('editor', 'direct'), ('appointed by', 'direct'), ('appointed by', 'inverse'), ('producer', 'direct'), ('producer', 'inverse'), ('author', 'inverse'), ('author', 'direct')]\n",
      "['dubbing of film', 'film series', 'film', 'première', 'fictional film', 'documentary film', 'television film', 'animated film'] director ['human']\n",
      "['television film'] director of publication ['human']\n",
      "['film series', 'film', 'fictional film', 'documentary film', 'television film', 'animated film'] director of photography ['human', 'fictional human']\n",
      "['filmography', 'drama', 'audio release', 'dubbing of film', 'film series', 'film', 'documentary film', 'film poster', 'television film', 'animated film', 'film set'] editor ['human']\n",
      "['film character'] appointed by ['human', 'fictional human', 'fictional person']\n",
      "['human', 'fictional human', 'fictional person'] appointed by ['film character', 'fictional film']\n",
      "['filmography', 'drama', 'audio release', 'dubbing of film', 'film series', 'film', 'documentary film', 'film poster', 'television film', 'animated film', 'film set'] producer ['human', 'fictional human', 'fictional person']\n",
      "['juridical person', 'people mover', 'legal person', 'natural person', 'grammatical person'] producer ['film character']\n",
      "['juridical person', 'people mover', 'legal person', 'natural person', 'grammatical person'] author ['film award', 'cast', 'film character']\n",
      "['filmography', 'animated film', 'drama', 'audio release', 'dubbing of film', 'film series', 'film', 'fictional film', 'film poster', 'television film', 'documentary film', 'film set'] author ['person', 'juridical person', 'imaginary human', 'human population', 'hypothetical person', 'legal person', 'fictional human', 'individual', 'natural person', 'fictional person', 'person or organization', 'human', 'indigenous people', 'people', 'human biblical figure']\n",
      "----------------------------------------------------------------------------------------------------\n",
      "Anderson screenwriter of The Phoenician Scheme\n",
      "person , film\n",
      "[('screenwriter', 'inverse'), ('screenwriter', 'direct'), ('producer', 'direct'), ('producer', 'inverse'), ('film editor', 'direct'), ('director', 'direct'), ('executive producer', 'direct'), ('author', 'inverse'), ('author', 'direct'), ('filmography', 'inverse')]\n",
      "['juridical person', 'people mover', 'legal person', 'natural person', 'grammatical person'] screenwriter ['cast']\n",
      "['filmography', 'drama', 'audio release', 'dubbing of film', 'film series', 'film', 'documentary film', 'film poster', 'television film', 'animated film', 'film set'] screenwriter ['human', 'indigenous people', 'people', 'human population']\n",
      "['filmography', 'drama', 'audio release', 'dubbing of film', 'film series', 'film', 'documentary film', 'film poster', 'television film', 'animated film', 'film set'] producer ['human', 'fictional human', 'fictional person']\n",
      "['juridical person', 'people mover', 'legal person', 'natural person', 'grammatical person'] producer ['film character']\n",
      "['film series', 'film', 'documentary film', 'television film', 'animated film'] film editor ['human']\n",
      "['dubbing of film', 'film series', 'film', 'première', 'fictional film', 'documentary film', 'television film', 'animated film'] director ['human']\n",
      "['filmography', 'drama', 'audio release', 'dubbing of film', 'film series', 'film', 'documentary film', 'film poster', 'television film', 'animated film', 'film set'] executive producer ['human']\n",
      "['juridical person', 'people mover', 'legal person', 'natural person', 'grammatical person'] author ['film award', 'cast', 'film character']\n",
      "['filmography', 'animated film', 'drama', 'audio release', 'dubbing of film', 'film series', 'film', 'fictional film', 'film poster', 'television film', 'documentary film', 'film set'] author ['person', 'juridical person', 'imaginary human', 'human population', 'hypothetical person', 'legal person', 'fictional human', 'individual', 'natural person', 'fictional person', 'person or organization', 'human', 'indigenous people', 'people', 'human biblical figure']\n",
      "['human population', 'fictional human', 'fictional person', 'human', 'indigenous people', 'people'] filmography ['filmography']\n",
      "----------------------------------------------------------------------------------------------------\n",
      "Roman Coppola co-writer of The Phoenician Scheme\n",
      "person , film\n",
      "[('has written for', 'inverse'), ('screenwriter', 'inverse'), ('screenwriter', 'direct'), ('producer', 'direct'), ('producer', 'inverse'), ('executive producer', 'direct'), ('author', 'inverse'), ('author', 'direct'), ('nominated for', 'inverse'), ('lyricist', 'direct')]\n",
      "['human', 'fictional human', 'fictional person'] has written for ['filmography', 'audio release', 'dubbing of film', 'film poster', 'television film']\n",
      "['juridical person', 'people mover', 'legal person', 'natural person', 'grammatical person'] screenwriter ['cast']\n",
      "['filmography', 'drama', 'audio release', 'dubbing of film', 'film series', 'film', 'documentary film', 'film poster', 'television film', 'animated film', 'film set'] screenwriter ['human', 'indigenous people', 'people', 'human population']\n",
      "['filmography', 'drama', 'audio release', 'dubbing of film', 'film series', 'film', 'documentary film', 'film poster', 'television film', 'animated film', 'film set'] producer ['human', 'fictional human', 'fictional person']\n",
      "['juridical person', 'people mover', 'legal person', 'natural person', 'grammatical person'] producer ['film character']\n",
      "['filmography', 'drama', 'audio release', 'dubbing of film', 'film series', 'film', 'documentary film', 'film poster', 'television film', 'animated film', 'film set'] executive producer ['human']\n",
      "['juridical person', 'people mover', 'legal person', 'natural person', 'grammatical person'] author ['film award', 'cast', 'film character']\n",
      "['filmography', 'animated film', 'drama', 'audio release', 'dubbing of film', 'film series', 'film', 'fictional film', 'film poster', 'television film', 'documentary film', 'film set'] author ['person', 'juridical person', 'imaginary human', 'human population', 'hypothetical person', 'legal person', 'fictional human', 'individual', 'natural person', 'fictional person', 'person or organization', 'human', 'indigenous people', 'people', 'human biblical figure']\n",
      "['juridical person', 'legal person', 'people mover', 'natural person', 'human', 'grammatical person'] nominated for ['film award']\n",
      "['television film', 'film', 'animated film', 'documentary film'] lyricist ['human']\n",
      "----------------------------------------------------------------------------------------------------\n",
      "Focus distributor of The Phoenician Scheme\n",
      "company , film\n",
      "[('manufacturer', 'inverse'), ('manufacturer', 'direct'), ('owner of', 'inverse'), ('owner of', 'direct'), ('distributed by', 'direct'), ('distributed by', 'inverse'), ('has subsidiary', 'inverse'), ('has subsidiary', 'direct'), ('typically sells', 'inverse'), ('founded by', 'inverse')]\n",
      "['retail chain', 'factory'] manufacturer ['dubbing of film', 'film character']\n",
      "['filmography', 'audio release', 'dubbing of film', 'film poster', 'television film'] manufacturer ['business', 'opera company', 'transport company', 'retail chain', 'fictional company', 'factory', 'launch service provider', 'software company', 'service provider', 'manufacturer', 'publishing company', 'company', 'production company', 'media company', 'software distributor', 'printing company', 'theatre company', 'theatre company', 'corporation', 'stock exchange']\n",
      "['theatre company', 'production company', 'business', 'launch service provider', 'theatre company', 'opera company', 'transport company', 'retail chain', 'fictional company', 'media company', 'corporation', 'company', 'stock exchange', 'publishing company', 'software distributor', 'printing company', 'software company', 'service provider'] owner of ['film award', 'filmography', 'animated film', 'drama', 'film character', 'audio release', 'film format', 'dubbing of film', 'film series', 'film', 'première', 'fictional film', 'film poster', 'television film', 'cast', 'documentary film', 'film set']\n",
      "['cast', 'film character'] owner of ['business', 'opera company', 'transport company', 'retail chain', 'fictional company', 'factory', 'launch service provider', 'software company', 'service provider', 'publishing company', 'company', 'production company', 'media company', 'software distributor', 'printing company', 'theatre company', 'theatre company', 'corporation', 'stock exchange']\n",
      "['filmography', 'drama', 'audio release', 'dubbing of film', 'film series', 'film', 'documentary film', 'film poster', 'television film', 'animated film', 'film set'] distributed by ['theatre company', 'production company', 'business', 'theatre company', 'opera company', 'manufacturer', 'transport company', 'retail chain', 'media company', 'publishing company', 'corporation', 'company', 'stock exchange', 'software distributor', 'launch service provider', 'printing company', 'software company', 'service provider']\n",
      "['retail chain', 'publishing company', 'factory'] distributed by ['film award', 'film character']\n",
      "['theatre company', 'production company', 'business', 'launch service provider', 'theatre company', 'opera company', 'transport company', 'retail chain', 'fictional company', 'media company', 'corporation', 'company', 'stock exchange', 'publishing company', 'software distributor', 'printing company', 'software company', 'service provider'] has subsidiary ['filmography']\n",
      "['filmography'] has subsidiary ['business', 'opera company', 'transport company', 'retail chain', 'fictional company', 'factory', 'launch service provider', 'software company', 'service provider', 'publishing company', 'company', 'production company', 'media company', 'software distributor', 'printing company', 'theatre company', 'theatre company', 'corporation', 'stock exchange']\n",
      "['retail chain', 'fictional company'] typically sells ['filmography', 'audio release', 'dubbing of film', 'film series', 'film', 'documentary film', 'film poster', 'television film', 'animated film']\n",
      "['business', 'opera company', 'transport company', 'retail chain', 'fictional company', 'factory', 'launch service provider', 'software company', 'service provider', 'publishing company', 'company', 'production company', 'media company', 'software distributor', 'printing company', 'theatre company', 'theatre company', 'corporation', 'stock exchange'] founded by ['cast', 'film character']\n",
      "----------------------------------------------------------------------------------------------------\n",
      "The Phoenician Scheme limited release date May 30, 2025\n",
      "film , date\n",
      "[('announced at', 'direct'), ('cover art by', 'inverse'), ('distributed by', 'direct'), ('distributed by', 'inverse'), ('nominated for', 'direct'), ('filmography', 'direct'), ('producer', 'direct'), ('filming location', 'inverse'), ('screenwriter', 'inverse'), ('screenwriter', 'direct')]\n",
      "['milestone'] announced at ['film award', 'festival', 'première', 'film festival edition', 'film festival']\n",
      "['dubbing of film'] cover art by ['time zone']\n",
      "['milestone', 'time zone', 'timeline', 'note', 'standard time', 'telephone number'] distributed by ['film award', 'film character']\n",
      "['filmography', 'drama', 'audio release', 'dubbing of film', 'film series', 'film', 'documentary film', 'film poster', 'television film', 'animated film', 'film set'] distributed by ['time zone']\n",
      "['milestone', 'time zone', 'timeline', 'note', 'standard time'] nominated for ['film award']\n",
      "['time zone'] filmography ['filmography']\n",
      "['milestone', 'time zone', 'timeline', 'note', 'standard time'] producer ['film character']\n",
      "['dubbing of film', 'film series', 'film', 'documentary film', 'television film', 'animated film'] filming location ['time zone', 'milestone']\n",
      "['filmography', 'drama', 'audio release', 'dubbing of film', 'film series', 'film', 'documentary film', 'film poster', 'television film', 'animated film', 'film set'] screenwriter ['time zone']\n",
      "['milestone', 'time zone', 'timeline', 'note', 'standard time'] screenwriter ['cast']\n",
      "----------------------------------------------------------------------------------------------------\n",
      "The Phoenician Scheme wide release date June 6, 2025\n",
      "film , date\n",
      "[('announced at', 'direct'), ('nominated for', 'direct'), ('filmography', 'direct'), ('filming location', 'inverse'), ('genre', 'direct'), ('genre', 'inverse'), ('producer', 'direct'), ('distributed by', 'direct'), ('distributed by', 'inverse'), ('screenwriter', 'inverse')]\n",
      "['milestone'] announced at ['film award', 'festival', 'première', 'film festival edition', 'film festival']\n",
      "['milestone', 'time zone', 'timeline', 'note', 'standard time'] nominated for ['film award']\n",
      "['time zone'] filmography ['filmography']\n",
      "['dubbing of film', 'film series', 'film', 'documentary film', 'television film', 'animated film'] filming location ['time zone', 'milestone']\n",
      "['calendar', 'milestone', 'time zone', 'timeline', 'note', 'chronology', 'fictional calendar day', 'standard time', 'telephone number'] genre ['film award', 'drama', 'documentary film', 'film poster', 'animated film']\n",
      "['film award', 'filmography', 'animated film', 'drama', 'film character', 'audio release', 'dubbing of film', 'documentary film', 'film series', 'film set', 'film', 'première', 'fictional film', 'film poster', 'television film', 'cast', 'film festival edition', 'film festival'] genre ['time zone', 'standard time']\n",
      "['milestone', 'time zone', 'timeline', 'note', 'standard time'] producer ['film character']\n",
      "['milestone', 'time zone', 'timeline', 'note', 'standard time', 'telephone number'] distributed by ['film award', 'film character']\n",
      "['filmography', 'drama', 'audio release', 'dubbing of film', 'film series', 'film', 'documentary film', 'film poster', 'television film', 'animated film', 'film set'] distributed by ['time zone']\n",
      "['filmography', 'drama', 'audio release', 'dubbing of film', 'film series', 'film', 'documentary film', 'film poster', 'television film', 'animated film', 'film set'] screenwriter ['time zone']\n",
      "----------------------------------------------------------------------------------------------------\n",
      "Universal Pictures international distributor of The Phoenician Scheme\n",
      "company , film\n",
      "[('manufacturer', 'inverse'), ('manufacturer', 'direct'), ('has subsidiary', 'inverse'), ('has subsidiary', 'direct'), ('distributed by', 'direct'), ('distributed by', 'inverse'), ('founded by', 'inverse'), ('founded by', 'direct'), ('industry', 'direct'), ('industry', 'inverse')]\n",
      "['retail chain', 'factory'] manufacturer ['dubbing of film', 'film character']\n",
      "['filmography', 'audio release', 'dubbing of film', 'film poster', 'television film'] manufacturer ['business', 'opera company', 'transport company', 'retail chain', 'fictional company', 'factory', 'launch service provider', 'software company', 'service provider', 'manufacturer', 'publishing company', 'company', 'production company', 'media company', 'software distributor', 'printing company', 'theatre company', 'theatre company', 'corporation', 'stock exchange']\n",
      "['theatre company', 'production company', 'business', 'launch service provider', 'theatre company', 'opera company', 'transport company', 'retail chain', 'fictional company', 'media company', 'corporation', 'company', 'stock exchange', 'publishing company', 'software distributor', 'printing company', 'software company', 'service provider'] has subsidiary ['filmography']\n",
      "['filmography'] has subsidiary ['business', 'opera company', 'transport company', 'retail chain', 'fictional company', 'factory', 'launch service provider', 'software company', 'service provider', 'publishing company', 'company', 'production company', 'media company', 'software distributor', 'printing company', 'theatre company', 'theatre company', 'corporation', 'stock exchange']\n",
      "['filmography', 'drama', 'audio release', 'dubbing of film', 'film series', 'film', 'documentary film', 'film poster', 'television film', 'animated film', 'film set'] distributed by ['theatre company', 'production company', 'business', 'theatre company', 'opera company', 'manufacturer', 'transport company', 'retail chain', 'media company', 'publishing company', 'corporation', 'company', 'stock exchange', 'software distributor', 'launch service provider', 'printing company', 'software company', 'service provider']\n",
      "['retail chain', 'publishing company', 'factory'] distributed by ['film award', 'film character']\n",
      "['business', 'opera company', 'transport company', 'retail chain', 'fictional company', 'factory', 'launch service provider', 'software company', 'service provider', 'publishing company', 'company', 'production company', 'media company', 'software distributor', 'printing company', 'theatre company', 'theatre company', 'corporation', 'stock exchange'] founded by ['cast', 'film character']\n",
      "['film award', 'filmography', 'festival', 'audio release', 'dubbing of film', 'première', 'film poster', 'television film', 'cast', 'film festival edition', 'film festival'] founded by ['theatre company', 'production company', 'business', 'theatre company', 'opera company', 'transport company', 'retail chain', 'media company', 'publishing company', 'corporation', 'company', 'stock exchange', 'software distributor', 'launch service provider', 'printing company', 'software company', 'service provider']\n",
      "['filmography', 'audio release', 'dubbing of film', 'film poster', 'television film'] industry ['retail chain', 'factory']\n",
      "['business', 'opera company', 'transport company', 'retail chain', 'fictional company', 'factory', 'launch service provider', 'software company', 'service provider', 'manufacturer', 'publishing company', 'company', 'production company', 'media company', 'software distributor', 'printing company', 'theatre company', 'theatre company', 'corporation', 'stock exchange'] industry ['dubbing of film']\n",
      "----------------------------------------------------------------------------------------------------\n"
     ]
    }
   ],
   "source": [
    "for triplet in extracted_triplets['triplets']:\n",
    "    obj_type_ids, subj_type_ids = aligner.retrieve_similar_entity_types(triplet=triplet)\n",
    "    properties = aligner.retrieve_properties_for_entity_type(target_relation=triplet['relation'], object_types=obj_type_ids, subject_types=subj_type_ids)\n",
    "    print(triplet['subject'], triplet['relation'], triplet['object_'])\n",
    "    print(triplet['subject_type'], \",\", triplet['object_type'])\n",
    "    print([(p['label'], p['type']) for p in properties])\n",
    "    for p in properties:\n",
    "        print([aligner.entity2label[t] for t in p['subject_types']], p['label'], [aligner.entity2label[t] for t in p['object_types']])\n",
    "    print('-'*100)"
   ]
  },
  {
   "cell_type": "code",
   "execution_count": null,
   "metadata": {},
   "outputs": [],
   "source": []
  },
  {
   "cell_type": "code",
   "execution_count": null,
   "metadata": {},
   "outputs": [],
   "source": []
  }
 ],
 "metadata": {
  "kernelspec": {
   "display_name": "venv",
   "language": "python",
   "name": "python3"
  },
  "language_info": {
   "codemirror_mode": {
    "name": "ipython",
    "version": 3
   },
   "file_extension": ".py",
   "mimetype": "text/x-python",
   "name": "python",
   "nbconvert_exporter": "python",
   "pygments_lexer": "ipython3",
   "version": "3.7.12"
  }
 },
 "nbformat": 4,
 "nbformat_minor": 2
}
