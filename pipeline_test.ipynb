{
 "cells": [
  {
   "cell_type": "code",
   "execution_count": 1,
   "metadata": {},
   "outputs": [
    {
     "name": "stderr",
     "output_type": "stream",
     "text": [
      "/home/jovyan/chepurova/Text2KG/venv/lib/python3.7/site-packages/tqdm/auto.py:21: TqdmWarning: IProgress not found. Please update jupyter and ipywidgets. See https://ipywidgets.readthedocs.io/en/stable/user_install.html\n",
      "  from .autonotebook import tqdm as notebook_tqdm\n"
     ]
    }
   ],
   "source": [
    "import time\n",
    "import numpy as np\n",
    "from tqdm import tqdm\n",
    "\n",
    "import json\n",
    "import jsonlines\n",
    "import openai\n",
    "import os\n",
    "import sys\n",
    "import logging\n",
    "import pprint\n",
    "\n",
    "import torch\n",
    "from transformers import AutoTokenizer, AutoModel\n",
    "\n",
    "from utils.eval_utils import micro_precision, micro_recall, f1_score\n",
    "from utils.openai_utils import LLMTripletExtractor\n",
    "from utils.verifier_utils import TripletFilter\n",
    "from utils.structured_dynamic_index_utils import Aligner\n",
    "\n",
    "import faiss\n",
    "import argparse\n",
    "import re\n",
    "import warnings\n",
    "warnings.filterwarnings('ignore')"
   ]
  },
  {
   "cell_type": "markdown",
   "metadata": {},
   "source": [
    "## Examples"
   ]
  },
  {
   "cell_type": "code",
   "execution_count": 2,
   "metadata": {},
   "outputs": [],
   "source": [
    "aligner = Aligner()"
   ]
  },
  {
   "cell_type": "code",
   "execution_count": 3,
   "metadata": {},
   "outputs": [],
   "source": [
    "text = \"Borisov is up for Best Supporting Actor for his role in Sean Baker's “Anora” at the Academy Awards on March 2, making him the first Russian to be nominated in an acting category since the fall of the Soviet Union.\""
   ]
  },
  {
   "cell_type": "code",
   "execution_count": 4,
   "metadata": {},
   "outputs": [],
   "source": [
    "model_name = 'gpt-4o'\n",
    "\n",
    "extractor = LLMTripletExtractor(model=model_name, prompt1_path='utils/prompts/propmt_1_types_qualifiers.txt')"
   ]
  },
  {
   "cell_type": "code",
   "execution_count": 5,
   "metadata": {},
   "outputs": [
    {
     "data": {
      "text/plain": [
       "[{'subject': 'Borisov',\n",
       "  'relation': 'nominated for',\n",
       "  'object_': 'Best Supporting Actor',\n",
       "  'qualifiers': [{'relation': 'for work', 'object_': 'Anora'},\n",
       "   {'relation': 'award received', 'object_': 'Academy Awards'},\n",
       "   {'relation': 'point in time', 'object_': 'March 2'}],\n",
       "  'subject_type': 'person',\n",
       "  'object_type': 'award category'},\n",
       " {'subject': 'Borisov',\n",
       "  'relation': 'first',\n",
       "  'object_': 'Russian nominated in an acting category',\n",
       "  'qualifiers': [{'relation': 'since', 'object_': 'fall of the Soviet Union'}],\n",
       "  'subject_type': 'person',\n",
       "  'object_type': 'achievement'},\n",
       " {'subject': 'Anora',\n",
       "  'relation': 'director',\n",
       "  'object_': 'Sean Baker',\n",
       "  'qualifiers': [],\n",
       "  'subject_type': 'film',\n",
       "  'object_type': 'person'}]"
      ]
     },
     "execution_count": 5,
     "metadata": {},
     "output_type": "execute_result"
    }
   ],
   "source": [
    "extracted_triplets = extractor.get_completion_first_query(text)\n",
    "\n",
    "extracted_triplets['triplets']"
   ]
  },
  {
   "cell_type": "code",
   "execution_count": 6,
   "metadata": {},
   "outputs": [
    {
     "name": "stdout",
     "output_type": "stream",
     "text": [
      "Borisov nominated for Best Supporting Actor\n",
      "person award category\n",
      "['nominated for', 'winner', 'genre', 'founded by', 'notable work', 'honorific suffix', 'issued by', 'donated by', 'intended public', 'applies to jurisdiction']\n",
      "----------------------------------------------------------------------------------------------------\n",
      "Borisov first Russian nominated in an acting category\n",
      "person achievement\n",
      "['winner', 'director', 'team captain', 'nominated for', 'head coach', 'rector', 'owned by', 'choral conductor', 'founded by', 'general manager']\n",
      "----------------------------------------------------------------------------------------------------\n",
      "Anora director Sean Baker\n",
      "film person\n",
      "['director', 'director of photography', 'art director', 'film editor', 'choreographer', 'musical conductor', 'translator', 'animator', 'nominated for', 'lyricist']\n",
      "----------------------------------------------------------------------------------------------------\n"
     ]
    }
   ],
   "source": [
    "for triplet in extracted_triplets['triplets']:\n",
    "    obj_type_ids, subj_type_ids = aligner.retrieve_similar_entity_types(triplet=triplet)\n",
    "    properties = aligner.retrieve_properties_for_entity_type(target_relation=triplet['relation'], object_types=obj_type_ids, subject_types=subj_type_ids)\n",
    "    print(triplet['subject'], triplet['relation'], triplet['object_'])\n",
    "    print(triplet['subject_type'], triplet['object_type'])\n",
    "    print(properties)\n",
    "    print('-'*100)"
   ]
  },
  {
   "cell_type": "code",
   "execution_count": 7,
   "metadata": {},
   "outputs": [],
   "source": [
    "text = 'Sam Altman’s net worth is a major topic for people following the tech industry, as the CEO of OpenAI is one of the most prominent figures out there, especially with the rise of artificial intelligence (AI) and chatbots like ChatGPT. '"
   ]
  },
  {
   "cell_type": "code",
   "execution_count": 8,
   "metadata": {},
   "outputs": [
    {
     "data": {
      "text/plain": [
       "[{'subject': 'Sam Altman',\n",
       "  'relation': 'position held',\n",
       "  'object_': 'CEO',\n",
       "  'qualifiers': [{'relation': 'of', 'object_': 'OpenAI'}],\n",
       "  'subject_type': 'person',\n",
       "  'object_type': 'position'},\n",
       " {'subject': 'Sam Altman',\n",
       "  'relation': 'notable for',\n",
       "  'object_': 'rise of artificial intelligence',\n",
       "  'qualifiers': [],\n",
       "  'subject_type': 'person',\n",
       "  'object_type': 'event'},\n",
       " {'subject': 'Sam Altman',\n",
       "  'relation': 'notable for',\n",
       "  'object_': 'chatbots like ChatGPT',\n",
       "  'qualifiers': [],\n",
       "  'subject_type': 'person',\n",
       "  'object_type': 'technology'}]"
      ]
     },
     "execution_count": 8,
     "metadata": {},
     "output_type": "execute_result"
    }
   ],
   "source": [
    "extracted_triplets = extractor.get_completion_first_query(text)\n",
    "\n",
    "extracted_triplets['triplets']"
   ]
  },
  {
   "cell_type": "code",
   "execution_count": 9,
   "metadata": {},
   "outputs": [
    {
     "name": "stdout",
     "output_type": "stream",
     "text": [
      "Sam Altman position held CEO\n",
      "person position\n",
      "['position held', 'position holder', 'appointed by', 'appointed by', 'professorship', 'nominated by', 'nominated by', 'occupation', 'position played on team / speciality', 'military or police rank']\n",
      "----------------------------------------------------------------------------------------------------\n",
      "Sam Altman notable for rise of artificial intelligence\n",
      "person event\n",
      "['notable work', 'founded by', 'owned by', 'competition won', 'ordered by', 'indigenous to', 'performer', 'killed by', 'exhibited creator', 'ethnic group']\n",
      "----------------------------------------------------------------------------------------------------\n",
      "Sam Altman notable for chatbots like ChatGPT\n",
      "person technology\n",
      "['manufacturer', 'developer', 'genre', 'indigenous to', 'industry', 'publisher', 'applies to jurisdiction', 'item operated', 'occupant', 'product, material, or service produced or provided']\n",
      "----------------------------------------------------------------------------------------------------\n"
     ]
    }
   ],
   "source": [
    "for triplet in extracted_triplets['triplets']:\n",
    "    obj_type_ids, subj_type_ids = aligner.retrieve_similar_entity_types(triplet=triplet)\n",
    "    properties = aligner.retrieve_properties_for_entity_type(target_relation=triplet['relation'], object_types=obj_type_ids, subject_types=subj_type_ids)\n",
    "    print(triplet['subject'], triplet['relation'], triplet['object_'])\n",
    "    print(triplet['subject_type'], triplet['object_type'])\n",
    "    print(properties)\n",
    "    print('-'*100)"
   ]
  },
  {
   "cell_type": "code",
   "execution_count": 10,
   "metadata": {},
   "outputs": [],
   "source": [
    "text = \"Musk’s xAI releases artificial intelligence model Grok 3, claims better performance than rivals in early testing.\""
   ]
  },
  {
   "cell_type": "code",
   "execution_count": 11,
   "metadata": {},
   "outputs": [
    {
     "data": {
      "text/plain": [
       "[{'subject': 'xAI',\n",
       "  'relation': 'developed',\n",
       "  'object_': 'Grok 3',\n",
       "  'qualifiers': [],\n",
       "  'subject_type': 'organization',\n",
       "  'object_type': 'artificial intelligence model'},\n",
       " {'subject': 'Grok 3',\n",
       "  'relation': 'claimed performance',\n",
       "  'object_': 'better than rivals',\n",
       "  'qualifiers': [{'relation': 'point in time', 'object_': 'early testing'}],\n",
       "  'subject_type': 'artificial intelligence model',\n",
       "  'object_type': 'performance'}]"
      ]
     },
     "execution_count": 11,
     "metadata": {},
     "output_type": "execute_result"
    }
   ],
   "source": [
    "extracted_triplets = extractor.get_completion_first_query(text)\n",
    "\n",
    "extracted_triplets['triplets']"
   ]
  },
  {
   "cell_type": "code",
   "execution_count": 12,
   "metadata": {},
   "outputs": [
    {
     "name": "stdout",
     "output_type": "stream",
     "text": [
      "xAI developed Grok 3\n",
      "organization artificial intelligence model\n",
      "['developer', 'commissioned by', 'designed by', 'founded by', 'manufacturer', 'owned by', 'creator', 'separated from', 'separated from', 'owner of']\n",
      "----------------------------------------------------------------------------------------------------\n",
      "Grok 3 claimed performance better than rivals\n",
      "artificial intelligence model performance\n",
      "[]\n",
      "----------------------------------------------------------------------------------------------------\n"
     ]
    }
   ],
   "source": [
    "for triplet in extracted_triplets['triplets']:\n",
    "    obj_type_ids, subj_type_ids = aligner.retrieve_similar_entity_types(triplet=triplet)\n",
    "    properties = aligner.retrieve_properties_for_entity_type(target_relation=triplet['relation'], object_types=obj_type_ids, subject_types=subj_type_ids)\n",
    "    print(triplet['subject'], triplet['relation'], triplet['object_'])\n",
    "    print(triplet['subject_type'], triplet['object_type'])\n",
    "    print(properties)\n",
    "    print('-'*100)"
   ]
  },
  {
   "cell_type": "code",
   "execution_count": 13,
   "metadata": {},
   "outputs": [],
   "source": [
    "text = 'In addition to directing “The Phoenician Scheme,” Anderson penned the script with the story co-written by Roman Coppola. Focus will distribute the film domestically. “The Phoenician Scheme” will open in limited release on May 30, 2025 and expand wide on June 6. Universal Pictures, Focus’s parent studio, is handling international distribution.'"
   ]
  },
  {
   "cell_type": "code",
   "execution_count": 14,
   "metadata": {},
   "outputs": [
    {
     "data": {
      "text/plain": [
       "[{'subject': 'Anderson',\n",
       "  'relation': 'director of',\n",
       "  'object_': 'The Phoenician Scheme',\n",
       "  'qualifiers': [],\n",
       "  'subject_type': 'person',\n",
       "  'object_type': 'film'},\n",
       " {'subject': 'Anderson',\n",
       "  'relation': 'screenwriter of',\n",
       "  'object_': 'The Phoenician Scheme',\n",
       "  'qualifiers': [],\n",
       "  'subject_type': 'person',\n",
       "  'object_type': 'film'},\n",
       " {'subject': 'Roman Coppola',\n",
       "  'relation': 'co-writer of',\n",
       "  'object_': 'The Phoenician Scheme',\n",
       "  'qualifiers': [],\n",
       "  'subject_type': 'person',\n",
       "  'object_type': 'film'},\n",
       " {'subject': 'Focus',\n",
       "  'relation': 'distributor of',\n",
       "  'object_': 'The Phoenician Scheme',\n",
       "  'qualifiers': [{'relation': 'distribution scope', 'object_': 'domestic'}],\n",
       "  'subject_type': 'company',\n",
       "  'object_type': 'film'},\n",
       " {'subject': 'The Phoenician Scheme',\n",
       "  'relation': 'limited release date',\n",
       "  'object_': 'May 30, 2025',\n",
       "  'qualifiers': [],\n",
       "  'subject_type': 'film',\n",
       "  'object_type': 'date'},\n",
       " {'subject': 'The Phoenician Scheme',\n",
       "  'relation': 'wide release date',\n",
       "  'object_': 'June 6, 2025',\n",
       "  'qualifiers': [],\n",
       "  'subject_type': 'film',\n",
       "  'object_type': 'date'},\n",
       " {'subject': 'Universal Pictures',\n",
       "  'relation': 'international distributor of',\n",
       "  'object_': 'The Phoenician Scheme',\n",
       "  'qualifiers': [],\n",
       "  'subject_type': 'company',\n",
       "  'object_type': 'film'}]"
      ]
     },
     "execution_count": 14,
     "metadata": {},
     "output_type": "execute_result"
    }
   ],
   "source": [
    "extracted_triplets = extractor.get_completion_first_query(text)\n",
    "\n",
    "extracted_triplets['triplets']"
   ]
  },
  {
   "cell_type": "code",
   "execution_count": 15,
   "metadata": {},
   "outputs": [
    {
     "name": "stdout",
     "output_type": "stream",
     "text": [
      "Anderson director of The Phoenician Scheme\n",
      "person film\n",
      "['director', 'director of photography', 'art director', 'musical conductor', 'film editor', 'choreographer', 'translator', 'nominated for', 'voice actor', 'animator']\n",
      "----------------------------------------------------------------------------------------------------\n",
      "Anderson screenwriter of The Phoenician Scheme\n",
      "person film\n",
      "['film editor', 'director', 'filmography', 'director of photography', 'lyricist', 'nominated for', 'art director', 'animator', 'voice actor', 'film crew member']\n",
      "----------------------------------------------------------------------------------------------------\n",
      "Roman Coppola co-writer of The Phoenician Scheme\n",
      "person film\n",
      "['nominated for', 'lyricist', 'director', 'voice actor', 'film editor', 'director of photography', 'filmography', 'cast member', 'choreographer', 'art director']\n",
      "----------------------------------------------------------------------------------------------------\n",
      "Focus distributor of The Phoenician Scheme\n",
      "company film\n",
      "['place of publication']\n",
      "----------------------------------------------------------------------------------------------------\n",
      "The Phoenician Scheme limited release date May 30, 2025\n",
      "film date\n",
      "[]\n",
      "----------------------------------------------------------------------------------------------------\n",
      "The Phoenician Scheme wide release date June 6, 2025\n",
      "film date\n",
      "[]\n",
      "----------------------------------------------------------------------------------------------------\n",
      "Universal Pictures international distributor of The Phoenician Scheme\n",
      "company film\n",
      "['place of publication']\n",
      "----------------------------------------------------------------------------------------------------\n"
     ]
    }
   ],
   "source": [
    "for triplet in extracted_triplets['triplets']:\n",
    "    obj_type_ids, subj_type_ids = aligner.retrieve_similar_entity_types(triplet=triplet)\n",
    "    properties = aligner.retrieve_properties_for_entity_type(target_relation=triplet['relation'], object_types=obj_type_ids, subject_types=subj_type_ids)\n",
    "    print(triplet['subject'], triplet['relation'], triplet['object_'])\n",
    "    print(triplet['subject_type'], triplet['object_type'])\n",
    "    print(properties)\n",
    "    print('-'*100)"
   ]
  }
 ],
 "metadata": {
  "kernelspec": {
   "display_name": "venv",
   "language": "python",
   "name": "python3"
  },
  "language_info": {
   "codemirror_mode": {
    "name": "ipython",
    "version": 3
   },
   "file_extension": ".py",
   "mimetype": "text/x-python",
   "name": "python",
   "nbconvert_exporter": "python",
   "pygments_lexer": "ipython3",
   "version": "3.7.12"
  }
 },
 "nbformat": 4,
 "nbformat_minor": 2
}
