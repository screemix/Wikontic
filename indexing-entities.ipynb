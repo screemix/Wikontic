{
 "cells": [
  {
   "cell_type": "code",
   "execution_count": 1,
   "metadata": {},
   "outputs": [
    {
     "name": "stderr",
     "output_type": "stream",
     "text": [
      "/cephfs/home/chepurova/.venv/lib/python3.8/site-packages/tqdm/auto.py:21: TqdmWarning: IProgress not found. Please update jupyter and ipywidgets. See https://ipywidgets.readthedocs.io/en/stable/user_install.html\n",
      "  from .autonotebook import tqdm as notebook_tqdm\n"
     ]
    }
   ],
   "source": [
    "import json \n",
    "from tqdm import tqdm\n",
    "\n",
    "import torch\n",
    "from transformers import AutoTokenizer, AutoModel\n",
    "import numpy as np\n",
    "\n",
    "import faiss"
   ]
  },
  {
   "cell_type": "code",
   "execution_count": 2,
   "metadata": {},
   "outputs": [],
   "source": [
    "# ! wget https://huggingface.co/datasets/martinjosifoski/SynthIE/resolve/main/constrained_worlds.tar.gz\n",
    "# ! tar -zxvf constrained_worlds.tar.gz && rm constrained_worlds.tar.gz \n",
    "# ! wget https://huggingface.co/datasets/martinjosifoski/SynthIE/resolve/main/id2name_mappings.tar.gz\n",
    "# ! tar -zxvf id2name_mappings.tar.gz && rm id2name_mappings.tar.gz"
   ]
  },
  {
   "cell_type": "code",
   "execution_count": 3,
   "metadata": {},
   "outputs": [
    {
     "data": {
      "text/plain": [
       "6427497"
      ]
     },
     "execution_count": 3,
     "metadata": {},
     "output_type": "execute_result"
    }
   ],
   "source": [
    "entity_mapping = {}\n",
    "with open(\"id2name_mappings/entity_mapping.jsonl\", \"r\") as f:\n",
    "    for line in f:\n",
    "        mapping = eval(line)\n",
    "        entity_mapping[mapping[\"id\"]] = mapping[\"en_label\"]\n",
    "        \n",
    "len(entity_mapping)"
   ]
  },
  {
   "cell_type": "code",
   "execution_count": 4,
   "metadata": {},
   "outputs": [
    {
     "data": {
      "text/plain": [
       "2724925"
      ]
     },
     "execution_count": 4,
     "metadata": {},
     "output_type": "execute_result"
    }
   ],
   "source": [
    "entities = []\n",
    "with open(\"constrained_worlds/genie/entities.json\", \"r\") as f:\n",
    "    entities = json.load(f)\n",
    "len(entities)"
   ]
  },
  {
   "cell_type": "code",
   "execution_count": 5,
   "metadata": {},
   "outputs": [],
   "source": [
    "constrained_entity_mapping = {}\n",
    "\n",
    "for ent in entities:\n",
    "    constrained_entity_mapping[ent] = \" \".join(entity_mapping[ent].split(\"_\"))"
   ]
  },
  {
   "cell_type": "code",
   "execution_count": 10,
   "metadata": {},
   "outputs": [
    {
     "data": {
      "text/plain": [
       "2724925"
      ]
     },
     "execution_count": 10,
     "metadata": {},
     "output_type": "execute_result"
    }
   ],
   "source": [
    "len(constrained_entity_mapping)"
   ]
  },
  {
   "cell_type": "code",
   "execution_count": 11,
   "metadata": {},
   "outputs": [],
   "source": [
    "tokenizer = AutoTokenizer.from_pretrained('facebook/contriever')\n",
    "model = AutoModel.from_pretrained('facebook/contriever').to('cuda:0')"
   ]
  },
  {
   "cell_type": "code",
   "execution_count": 12,
   "metadata": {},
   "outputs": [],
   "source": [
    "def mean_pooling(token_embeddings, mask):\n",
    "    token_embeddings = token_embeddings.masked_fill(~mask[..., None].bool(), 0.)\n",
    "    sentence_embeddings = token_embeddings.sum(dim=1) / mask.sum(dim=1)[..., None]\n",
    "    return sentence_embeddings\n",
    "\n",
    "def embed_entity_batch(entity_list):\n",
    "    inputs = tokenizer(entity_list, padding=True, truncation=True, return_tensors='pt')\n",
    "\n",
    "    outputs = model(**inputs.to('cuda:0'))\n",
    "    embeddings = mean_pooling(outputs[0], inputs['attention_mask'])\n",
    "    return embeddings"
   ]
  },
  {
   "cell_type": "code",
   "execution_count": 13,
   "metadata": {},
   "outputs": [
    {
     "data": {
      "text/plain": [
       "(2724925, 2724925)"
      ]
     },
     "execution_count": 13,
     "metadata": {},
     "output_type": "execute_result"
    }
   ],
   "source": [
    "entity_items = list(constrained_entity_mapping.items())\n",
    "ids = [int(item[0][1:]) for item in entity_items]\n",
    "names = [\" \".join(item[1].split(\"_\")) for item in entity_items]\n",
    "del entity_items\n",
    "del entity_mapping\n",
    "len(set(ids)), len(set(names))"
   ]
  },
  {
   "cell_type": "code",
   "execution_count": 14,
   "metadata": {},
   "outputs": [
    {
     "name": "stderr",
     "output_type": "stream",
     "text": [
      "100%|██████████| 13625/13625 [22:11<00:00, 10.24it/s]\n"
     ]
    }
   ],
   "source": [
    "embeddings = []\n",
    "batch_size = 200\n",
    "\n",
    "for i in tqdm(range(0, len(names), batch_size)):\n",
    "\n",
    "    if i + batch_size > len(names):\n",
    "        entity_list = names[i: len(names)]\n",
    "    else:\n",
    "        entity_list = names[i: i + batch_size]\n",
    "\n",
    "    embeddings.append(embed_entity_batch(entity_list).detach().to('cpu'))"
   ]
  },
  {
   "cell_type": "code",
   "execution_count": 15,
   "metadata": {},
   "outputs": [
    {
     "data": {
      "text/plain": [
       "(2724925, 768)"
      ]
     },
     "execution_count": 15,
     "metadata": {},
     "output_type": "execute_result"
    }
   ],
   "source": [
    "output = np.array(torch.concat(embeddings))\n",
    "output.shape"
   ]
  },
  {
   "cell_type": "code",
   "execution_count": 16,
   "metadata": {},
   "outputs": [
    {
     "data": {
      "text/plain": [
       "[1607497, 22958416, 1848116, 1513683, 19880251]"
      ]
     },
     "execution_count": 16,
     "metadata": {},
     "output_type": "execute_result"
    }
   ],
   "source": [
    "# ids = [int(id_[1:]) for id_ in ids]\n",
    "assert all(isinstance(id_, int) for id_ in ids)\n",
    "ids[:5]"
   ]
  },
  {
   "cell_type": "code",
   "execution_count": 17,
   "metadata": {},
   "outputs": [],
   "source": [
    "dim = output.shape[1]\n",
    "metric = faiss.METRIC_INNER_PRODUCT\n",
    "index = faiss.index_factory(dim, \"IDMap,Flat\", metric)\n",
    "\n",
    "index.add_with_ids(output, ids)"
   ]
  },
  {
   "cell_type": "code",
   "execution_count": 18,
   "metadata": {},
   "outputs": [
    {
     "name": "stdout",
     "output_type": "stream",
     "text": [
      "True\n"
     ]
    }
   ],
   "source": [
    "print(index.is_trained)"
   ]
  },
  {
   "cell_type": "code",
   "execution_count": 19,
   "metadata": {},
   "outputs": [
    {
     "data": {
      "text/plain": [
       "1.1845037937164307"
      ]
     },
     "execution_count": 19,
     "metadata": {},
     "output_type": "execute_result"
    }
   ],
   "source": [
    "from time import time\n",
    "\n",
    "before = time()\n",
    "distances, indices = index.search(output[100:103, :], 3)\n",
    "after = time()\n",
    "after - before"
   ]
  },
  {
   "cell_type": "code",
   "execution_count": 20,
   "metadata": {},
   "outputs": [
    {
     "data": {
      "text/plain": [
       "(array([[ 7859497,  7859498,    63570],\n",
       "        [15238435,  1810614,   892064],\n",
       "        [ 6354654,  6354658,  6354656]]),\n",
       " array([[2.3877087, 1.7078212, 1.5154692],\n",
       "        [1.8492612, 1.4968052, 1.3931653],\n",
       "        [2.3846188, 1.9597743, 1.8561847]], dtype=float32))"
      ]
     },
     "execution_count": 20,
     "metadata": {},
     "output_type": "execute_result"
    }
   ],
   "source": [
    "indices, distances"
   ]
  },
  {
   "cell_type": "code",
   "execution_count": 21,
   "metadata": {},
   "outputs": [
    {
     "data": {
      "text/plain": [
       "('Tworzanice', 'Tworzanki', 'Nowe Borza')"
      ]
     },
     "execution_count": 21,
     "metadata": {},
     "output_type": "execute_result"
    }
   ],
   "source": [
    "constrained_entity_mapping[\"Q\"+str(7859497)], constrained_entity_mapping[\"Q\"+str(7859498)], constrained_entity_mapping[\"Q\"+str(63570)]"
   ]
  },
  {
   "cell_type": "code",
   "execution_count": 22,
   "metadata": {},
   "outputs": [
    {
     "data": {
      "text/plain": [
       "('Kikoboga Airstrip', 'Kiboga', 'Kiboga District')"
      ]
     },
     "execution_count": 22,
     "metadata": {},
     "output_type": "execute_result"
    }
   ],
   "source": [
    "constrained_entity_mapping[\"Q\"+str(15238435)], constrained_entity_mapping[\"Q\"+str(1810614)], constrained_entity_mapping[\"Q\"+str(892064)]"
   ]
  },
  {
   "cell_type": "code",
   "execution_count": 23,
   "metadata": {},
   "outputs": [
    {
     "data": {
      "text/plain": [
       "('Kalutara Physical Culture Club', 'Kalutara Town Club', 'Kalutara Stadium')"
      ]
     },
     "execution_count": 23,
     "metadata": {},
     "output_type": "execute_result"
    }
   ],
   "source": [
    "constrained_entity_mapping[\"Q\"+str(6354654)], constrained_entity_mapping[\"Q\"+str(6354658)], constrained_entity_mapping[\"Q\"+str(6354656)]"
   ]
  },
  {
   "cell_type": "code",
   "execution_count": 24,
   "metadata": {},
   "outputs": [
    {
     "data": {
      "text/plain": [
       "[7859497, 15238435, 6354654]"
      ]
     },
     "execution_count": 24,
     "metadata": {},
     "output_type": "execute_result"
    }
   ],
   "source": [
    "ids[100:103]"
   ]
  },
  {
   "cell_type": "code",
   "execution_count": 25,
   "metadata": {},
   "outputs": [],
   "source": [
    "faiss.write_index(index, \"entities.index\")"
   ]
  },
  {
   "cell_type": "code",
   "execution_count": 26,
   "metadata": {},
   "outputs": [],
   "source": [
    "index = faiss.read_index(\"entities.index\")  # load the index"
   ]
  },
  {
   "cell_type": "code",
   "execution_count": 27,
   "metadata": {},
   "outputs": [],
   "source": [
    "distances, indices = index.search(output[100:103, :], 3)"
   ]
  },
  {
   "cell_type": "code",
   "execution_count": 28,
   "metadata": {},
   "outputs": [
    {
     "data": {
      "text/plain": [
       "(array([[2.3877087, 1.7078212, 1.5154692],\n",
       "        [1.8492612, 1.4968052, 1.3931653],\n",
       "        [2.3846188, 1.9597743, 1.8561847]], dtype=float32),\n",
       " array([[ 7859497,  7859498,    63570],\n",
       "        [15238435,  1810614,   892064],\n",
       "        [ 6354654,  6354658,  6354656]]))"
      ]
     },
     "execution_count": 28,
     "metadata": {},
     "output_type": "execute_result"
    }
   ],
   "source": [
    "distances, indices"
   ]
  },
  {
   "cell_type": "code",
   "execution_count": 29,
   "metadata": {},
   "outputs": [],
   "source": [
    "emb = embed_entity_batch([\"Germany\"])"
   ]
  },
  {
   "cell_type": "code",
   "execution_count": 30,
   "metadata": {},
   "outputs": [
    {
     "data": {
      "text/plain": [
       "(array([[1.2840521, 1.1428443, 1.1164908]], dtype=float32),\n",
       " array([[    183, 5552084, 1649644]]))"
      ]
     },
     "execution_count": 30,
     "metadata": {},
     "output_type": "execute_result"
    }
   ],
   "source": [
    "index.search(np.array(emb.detach().cpu()), 3)"
   ]
  },
  {
   "cell_type": "code",
   "execution_count": 31,
   "metadata": {},
   "outputs": [
    {
     "data": {
      "text/plain": [
       "('Germany', 'Germany 1985', 'Gaël Germany')"
      ]
     },
     "execution_count": 31,
     "metadata": {},
     "output_type": "execute_result"
    }
   ],
   "source": [
    "constrained_entity_mapping[\"Q\"+str(183)], constrained_entity_mapping[\"Q\"+str(5552084)], constrained_entity_mapping[\"Q\"+str(1649644)]"
   ]
  },
  {
   "cell_type": "code",
   "execution_count": 32,
   "metadata": {},
   "outputs": [],
   "source": [
    "with open(\"constrained_entity_mapping.json\", 'w') as f:\n",
    "    json.dump(constrained_entity_mapping, f)"
   ]
  }
 ],
 "metadata": {
  "kernelspec": {
   "display_name": "venv",
   "language": "python",
   "name": "python3"
  },
  "language_info": {
   "codemirror_mode": {
    "name": "ipython",
    "version": 3
   },
   "file_extension": ".py",
   "mimetype": "text/x-python",
   "name": "python",
   "nbconvert_exporter": "python",
   "pygments_lexer": "ipython3",
   "version": "3.8.10"
  }
 },
 "nbformat": 4,
 "nbformat_minor": 2
}
