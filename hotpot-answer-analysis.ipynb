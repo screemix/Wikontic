{
 "cells": [
  {
   "cell_type": "code",
   "execution_count": 1,
   "metadata": {},
   "outputs": [
    {
     "name": "stderr",
     "output_type": "stream",
     "text": [
      "/home/jovyan/chepurova/Text2KG/venv/lib/python3.7/site-packages/tqdm/auto.py:21: TqdmWarning: IProgress not found. Please update jupyter and ipywidgets. See https://ipywidgets.readthedocs.io/en/stable/user_install.html\n",
      "  from .autonotebook import tqdm as notebook_tqdm\n"
     ]
    }
   ],
   "source": [
    "from tqdm import tqdm_notebook\n",
    "from tqdm import tqdm\n",
    "\n",
    "import json\n",
    "import pandas as pd\n",
    "\n",
    "from utils.openai_utils import LLMTripletExtractor\n",
    "from utils.dynamic_index_utils import Aligner\n",
    "\n",
    "import os\n",
    "import plotly.graph_objects as go\n",
    "import matplotlib.pyplot as plt\n",
    "\n",
    "from collections import Counter\n",
    "\n",
    "import warnings\n",
    "warnings.filterwarnings('ignore')"
   ]
  },
  {
   "cell_type": "code",
   "execution_count": 2,
   "metadata": {},
   "outputs": [],
   "source": [
    "with open(\"hotpotqa200.json\", \"r\") as f:\n",
    "    ds = json.load(f)"
   ]
  },
  {
   "cell_type": "code",
   "execution_count": 3,
   "metadata": {},
   "outputs": [],
   "source": [
    "def compute_f1(prediction, truth):\n",
    "    pred_tokens = prediction.split()\n",
    "    truth_tokens = truth.split()\n",
    "    \n",
    "    if len(pred_tokens) == 0 or len(truth_tokens) == 0:\n",
    "        return int(pred_tokens == truth_tokens)\n",
    "    \n",
    "    common_tokens = set(pred_tokens) & set(truth_tokens)\n",
    "    \n",
    "    # if there are no common tokens then f1 = 0\n",
    "    if len(common_tokens) == 0:\n",
    "        return 0\n",
    "    \n",
    "    prec = len(common_tokens) / len(pred_tokens)\n",
    "    rec = len(common_tokens) / len(truth_tokens)\n",
    "    \n",
    "    return 2 * (prec * rec) / (prec + rec)"
   ]
  },
  {
   "cell_type": "markdown",
   "metadata": {},
   "source": [
    "## How many answers are in the reference texts?"
   ]
  },
  {
   "cell_type": "code",
   "execution_count": 4,
   "metadata": {},
   "outputs": [
    {
     "data": {
      "text/plain": [
       "0.99"
      ]
     },
     "execution_count": 4,
     "metadata": {},
     "output_type": "execute_result"
    }
   ],
   "source": [
    "sum([elem['answer'] in \" \".join([\" \".join(sent[1]) for sent in elem['context']]) for elem in ds]) / len(ds)"
   ]
  },
  {
   "cell_type": "code",
   "execution_count": 5,
   "metadata": {},
   "outputs": [
    {
     "data": {
      "text/plain": [
       "1.0"
      ]
     },
     "execution_count": 5,
     "metadata": {},
     "output_type": "execute_result"
    }
   ],
   "source": [
    "context_contains_ans = 0\n",
    "samples = 0\n",
    "for sample in ds:\n",
    "    ans = sample['answer']\n",
    "\n",
    "    if ans != 'no' and ans != 'yes':\n",
    "        samples += 1\n",
    "        # sample['context] - list of lists [TITLE, [TEXTS]]\n",
    "        context = \" \".join([\" \".join(context[1]) for context in sample['context']])\n",
    "        context_contains_ans += ans in context\n",
    "\n",
    "context_contains_ans / samples"
   ]
  },
  {
   "cell_type": "markdown",
   "metadata": {},
   "source": [
    "## How many answers in the constructed KG??"
   ]
  },
  {
   "cell_type": "code",
   "execution_count": 10,
   "metadata": {},
   "outputs": [],
   "source": [
    "import string\n",
    "def normalize(input_string):\n",
    "    input_string = input_string.lower()\n",
    "    translator = str.maketrans('', '', string.punctuation)\n",
    "    return input_string.translate(translator)"
   ]
  },
  {
   "cell_type": "code",
   "execution_count": 11,
   "metadata": {},
   "outputs": [
    {
     "name": "stdout",
     "output_type": "stream",
     "text": [
      "fortnightly women interest magazine\n",
      "a failed coup attempt\n",
      "2 march 1972\n",
      "pulitzer prize\n",
      "hawaii county\n",
      "german\n",
      "superregional shopping mall\n",
      "1978\n",
      "london\n",
      "chronological collection of critical quotations\n",
      "22 november\n",
      "1927\n",
      "read it and weep 2006\n",
      "velvetpark\n",
      "papa ginos\n",
      "shukratara\n",
      "captain hans geering\n",
      "frederick alexander\n"
     ]
    },
    {
     "data": {
      "text/plain": [
       "0.6170212765957447"
      ]
     },
     "execution_count": 11,
     "metadata": {},
     "output_type": "execute_result"
    }
   ],
   "source": [
    "contain_ans = 0\n",
    "file_cnt = 0\n",
    "\n",
    "wrong_ans_types = []\n",
    "types = []\n",
    "\n",
    "for file in os.listdir('hotpot200_res'):\n",
    "    df = pd.read_csv('hotpot200_res/{}'.format(file), index_col=0)\n",
    "    idx = int(file.split('.')[0])\n",
    "    ans = normalize(ds[idx]['answer'])\n",
    "\n",
    "    df['subject'] = df['subject'].apply(lambda x: normalize(x))\n",
    "    df['object'] = df['object'].apply(lambda x: normalize(x))\n",
    "\n",
    "    if ans == \"yes\" or ans == \"no\":\n",
    "        continue\n",
    "    types.append(ds[idx]['type'])\n",
    "    \n",
    "    if len(df[(df['subject'] == ans) | (df['object'] == ans)]) > 0:\n",
    "        contain_ans += 1\n",
    "    else:\n",
    "        wrong_ans_types.append(ds[idx]['type'])\n",
    "        print(ans)\n",
    "    file_cnt += 1\n",
    "\n",
    "contain_ans / file_cnt"
   ]
  },
  {
   "cell_type": "code",
   "execution_count": 12,
   "metadata": {},
   "outputs": [
    {
     "data": {
      "text/plain": [
       "(Counter({'comparison': 3, 'bridge': 15}),\n",
       " Counter({'bridge': 41, 'comparison': 6}))"
      ]
     },
     "execution_count": 12,
     "metadata": {},
     "output_type": "execute_result"
    }
   ],
   "source": [
    "Counter(wrong_ans_types), Counter(types)"
   ]
  },
  {
   "cell_type": "code",
   "execution_count": 36,
   "metadata": {},
   "outputs": [
    {
     "data": {
      "text/plain": [
       "(0.8936170212765957, 0.7745862884160757)"
      ]
     },
     "execution_count": 36,
     "metadata": {},
     "output_type": "execute_result"
    }
   ],
   "source": [
    "contain_ans = 0\n",
    "file_cnt = 0\n",
    "f1s = []\n",
    "\n",
    "contain_ans_entity = []\n",
    "not_contain_ans_entity = []\n",
    "\n",
    "wrong_ans_types = []\n",
    "types = []\n",
    "\n",
    "for file in os.listdir('hotpot200_res'):\n",
    "    df = pd.read_csv('hotpot200_res/{}'.format(file), index_col=0)\n",
    "    idx = int(file.split('.')[0])\n",
    "\n",
    "    df['subject'] = df['subject'].apply(lambda x: normalize(x))\n",
    "    df['object'] = df['object'].apply(lambda x: normalize(x))\n",
    "\n",
    "    ans = normalize(ds[idx]['answer'])\n",
    "    subj_obj = list(df['subject']) + list(df['object'])\n",
    "\n",
    "\n",
    "    types.append(ds[idx]['type'])\n",
    "\n",
    "    if ans == \"yes\" or ans == \"no\":\n",
    "        continue\n",
    "\n",
    "    if any([ans in elem for elem in subj_obj]) or any([elem in ans for elem in subj_obj]):\n",
    "        for elem in subj_obj:\n",
    "            if ans in elem or elem in ans:\n",
    "                contain_ans_entity.append((ans, elem))\n",
    "                break\n",
    "        contain_ans += 1\n",
    "       \n",
    "    else:\n",
    "        wrong_ans_types.append(ds[idx]['type'])\n",
    "        not_contain_ans_entity.append((ans, max_f1_entity))\n",
    "\n",
    "    max_f1 = 0\n",
    "    max_f1_entity = ''\n",
    "\n",
    "    for elem in subj_obj:\n",
    "        f1 = compute_f1(elem, ans)\n",
    "        if f1 > max_f1:\n",
    "            max_f1 = f1\n",
    "            max_f1_entity = elem\n",
    "    f1s.append(max_f1)\n",
    "  \n",
    "    file_cnt += 1\n",
    "\n",
    "contain_ans / file_cnt, sum(f1s)/len(f1s)"
   ]
  },
  {
   "cell_type": "code",
   "execution_count": 14,
   "metadata": {},
   "outputs": [
    {
     "name": "stdout",
     "output_type": "stream",
     "text": [
      "Entity <gesellschaft mit beschränkter haftung> contains answer <gesellschaft mit beschränkter haftung>\n",
      "Entity <jonny craig> contains answer <jonny craig>\n",
      "Entity <maine> contains answer <bath maine>\n",
      "Entity <creature comforts> contains answer <creature comforts>\n",
      "Entity <women> contains answer <fortnightly women interest magazine>\n",
      "Entity <2004> contains answer <2004>\n",
      "Entity <love and theft> contains answer <love and theft>\n",
      "Entity <9> contains answer <2 march 1972>\n",
      "Entity <tybalt> contains answer <tybalt>\n",
      "Entity <virginia> contains answer <virginia>\n",
      "Entity <engineering> contains answer <engineering>\n",
      "Entity <teen titans go> contains answer <teen titans go>\n",
      "Entity <oklahoma sooners> contains answer <oklahoma sooners>\n",
      "Entity <2011 pulitzer prize in general nonfiction> contains answer <pulitzer prize>\n",
      "Entity <1988> contains answer <1988>\n",
      "Entity <mayor of hawaii county> contains answer <hawaii county>\n",
      "Entity <sam boyd stadium> contains answer <sam boyd stadium>\n",
      "Entity <1941> contains answer <1941>\n",
      "Entity <10 january 1920> contains answer <10 january 1920>\n",
      "Entity <shopping mall> contains answer <superregional shopping mall>\n",
      "Entity <m night shyamalan> contains answer <m night shyamalan>\n",
      "Entity <1> contains answer <1978>\n",
      "Entity <22 november 1761> contains answer <22 november>\n",
      "Entity <dubai international airport> contains answer <dubai international airport>\n",
      "Entity <golden valley minnesota> contains answer <minnesota>\n",
      "Entity <november 8 1927> contains answer <1927>\n",
      "Entity <read it and weep> contains answer <read it and weep 2006>\n",
      "Entity <velvetpark dyke culture in bloom> contains answer <velvetpark>\n",
      "Entity <papa ginos inc> contains answer <papa ginos>\n",
      "Entity <shukratara by date> contains answer <shukratara>\n",
      "Entity <frederick alexander lindemann 1st viscount cherwell> contains answer <frederick alexander>\n",
      "Entity <marktown> contains answer <marktown>\n",
      "Entity <the bad hemingway contest> contains answer <the bad hemingway contest>\n",
      "Entity <vivendi sa> contains answer <vivendi sa>\n",
      "Entity <stone brewing> contains answer <stone brewing>\n",
      "Entity <jimmy ellis> contains answer <jimmy ellis>\n",
      "Entity <baudot code> contains answer <baudot code>\n",
      "Entity <raffaella reggi> contains answer <raffaella reggi>\n",
      "Entity <mark masons hall> contains answer <mark masons hall>\n",
      "Entity <stedelijk museum amsterdam> contains answer <stedelijk museum amsterdam>\n",
      "Entity <aloe vera of america> contains answer <aloe vera of america>\n",
      "Entity <sarah kerrigan> contains answer <sarah kerrigan>\n"
     ]
    }
   ],
   "source": [
    "for ans, entity in contain_ans_entity:\n",
    "    print(f\"Entity <{entity}> contains answer <{ans}>\")"
   ]
  },
  {
   "cell_type": "code",
   "execution_count": 15,
   "metadata": {},
   "outputs": [
    {
     "name": "stdout",
     "output_type": "stream",
     "text": [
      "Doesn't contain a failed coup attempt The most similar entity is  \n",
      "Doesn't contain german The most similar entity is  \n",
      "Doesn't contain london The most similar entity is  \n",
      "Doesn't contain chronological collection of critical quotations The most similar entity is  bard of avon\n",
      "Doesn't contain captain hans geering The most similar entity is  captain alberto bertorelli\n"
     ]
    }
   ],
   "source": [
    "for ans, entity in not_contain_ans_entity:\n",
    "    print(\"Doesn't contain\", ans, \"The most similar entity is \", entity)"
   ]
  },
  {
   "cell_type": "code",
   "execution_count": 16,
   "metadata": {},
   "outputs": [
    {
     "data": {
      "text/plain": [
       "(Counter({'bridge': 5}), Counter({'bridge': 41, 'comparison': 9}))"
      ]
     },
     "execution_count": 16,
     "metadata": {},
     "output_type": "execute_result"
    }
   ],
   "source": [
    "Counter(wrong_ans_types), Counter(types)"
   ]
  },
  {
   "cell_type": "markdown",
   "metadata": {},
   "source": [
    "## Extracting entities from questions"
   ]
  },
  {
   "cell_type": "code",
   "execution_count": 17,
   "metadata": {},
   "outputs": [],
   "source": [
    "model_name = 'gpt-4o'\n",
    "device = 'cuda:1'\n",
    "\n",
    "aligner = Aligner(device=device, k=2)\n",
    "extractor = LLMTripletExtractor(model=model_name)"
   ]
  },
  {
   "cell_type": "code",
   "execution_count": 18,
   "metadata": {},
   "outputs": [
    {
     "data": {
      "text/plain": [
       "0.0"
      ]
     },
     "execution_count": 18,
     "metadata": {},
     "output_type": "execute_result"
    }
   ],
   "source": [
    "extractor.calculate_cost()"
   ]
  },
  {
   "cell_type": "code",
   "execution_count": 20,
   "metadata": {},
   "outputs": [
    {
     "name": "stderr",
     "output_type": "stream",
     "text": [
      "100%|██████████| 50/50 [03:19<00:00,  3.99s/it]\n"
     ]
    }
   ],
   "source": [
    "id2unique_top_entities = {}\n",
    "id2extracted_entities = {}\n",
    "\n",
    "# retrieved_triplets = {}\n",
    "\n",
    "for sample in tqdm(os.listdir('hotpot200_res')):\n",
    "\n",
    "    df = pd.read_csv(\"hotpot200_res/\" + sample, index_col=0)\n",
    "\n",
    "    aligner = Aligner(device=device)\n",
    "    entities = list(set(list(df.subject) + list(df.object)))\n",
    "    aligner.add_entities(entities, descriptions=['' for _ in range(len(entities))])\n",
    "\n",
    "    id_ = int(sample.split(\".\")[0])\n",
    "    extracted_entities = extractor.extract_entities_from_question(ds[id_]['question'])\n",
    "\n",
    "    id2extracted_entities[id_] = extracted_entities\n",
    "\n",
    "    top_entities = aligner.top_entities_by_llm_output(list(extracted_entities.keys()))\n",
    "    unique_top_entities = []\n",
    "\n",
    "    for mapped_entities in top_entities.values():\n",
    "        unique_top_entities.extend(mapped_entities)\n",
    "\n",
    "    id2unique_top_entities[id_] = unique_top_entities\n"
   ]
  },
  {
   "cell_type": "code",
   "execution_count": 21,
   "metadata": {},
   "outputs": [
    {
     "data": {
      "text/plain": [
       "0.12673"
      ]
     },
     "execution_count": 21,
     "metadata": {},
     "output_type": "execute_result"
    }
   ],
   "source": [
    "extractor.calculate_cost()"
   ]
  },
  {
   "cell_type": "markdown",
   "metadata": {},
   "source": [
    "## 1-hop"
   ]
  },
  {
   "cell_type": "code",
   "execution_count": 22,
   "metadata": {},
   "outputs": [],
   "source": [
    "retrieved_triplets = {}\n",
    "\n",
    "for file in os.listdir('hotpot200_res'):\n",
    "    df = pd.read_csv('hotpot200_res/{}'.format(file), index_col=0)\n",
    "    idx = int(file.split('.')[0])\n",
    "\n",
    "    unique_top_entities = id2unique_top_entities[idx]\n",
    "    unique_top_entities = list(set(unique_top_entities))\n",
    "\n",
    "    triplets = df[(df['subject'].apply(lambda x: x in unique_top_entities)) | (df['object'].apply(lambda x: x in unique_top_entities))]\n",
    "\n",
    "    one_hop_entities = list(triplets['subject']) + list(triplets['object'])\n",
    "    one_hop_entities = set(one_hop_entities) - set(unique_top_entities)\n",
    "    \n",
    "    one_hop_triplets = df[(df['subject'].apply(lambda x: x in one_hop_entities)) | (df['object'].apply(lambda x: x in one_hop_entities))]\n",
    "\n",
    "    triplets = pd.concat((triplets, one_hop_triplets))\n",
    "\n",
    "    triplets = triplets.to_records(index=False)\n",
    "\n",
    "    retrieved_triplets[idx] = triplets\n"
   ]
  },
  {
   "cell_type": "code",
   "execution_count": 23,
   "metadata": {},
   "outputs": [
    {
     "data": {
      "text/plain": [
       "50"
      ]
     },
     "execution_count": 23,
     "metadata": {},
     "output_type": "execute_result"
    }
   ],
   "source": [
    "len(retrieved_triplets)"
   ]
  },
  {
   "cell_type": "code",
   "execution_count": 24,
   "metadata": {},
   "outputs": [
    {
     "name": "stdout",
     "output_type": "stream",
     "text": [
      "gesellschaft mit beschränkter haftung\n",
      "bath maine\n",
      "fortnightly women interest magazine\n",
      "a failed coup attempt\n",
      "2 march 1972\n",
      "pulitzer prize\n",
      "hawaii county\n",
      "german\n",
      "superregional shopping mall\n",
      "1978\n",
      "london\n",
      "chronological collection of critical quotations\n",
      "22 november\n",
      "1927\n",
      "read it and weep 2006\n",
      "velvetpark\n",
      "papa ginos\n",
      "shukratara\n",
      "captain hans geering\n",
      "frederick alexander\n",
      "vivendi sa\n"
     ]
    },
    {
     "data": {
      "text/plain": [
       "0.5531914893617021"
      ]
     },
     "execution_count": 24,
     "metadata": {},
     "output_type": "execute_result"
    }
   ],
   "source": [
    "contain_ans = 0\n",
    "sample_cnt = 0\n",
    "\n",
    "for i, sample in retrieved_triplets.items():\n",
    "    df = pd.DataFrame(sample)\n",
    "\n",
    "    df['subject'] = df['subject'].apply(lambda x: normalize(x))\n",
    "    df['object'] = df['object'].apply(lambda x: normalize(x))\n",
    "\n",
    "    ans = normalize(ds[i]['answer'])\n",
    "\n",
    "    if ans == \"yes\" or ans == \"no\":\n",
    "        continue\n",
    "\n",
    "    if len(df[(df['subject'] == ans) | (df['object'] == ans)]) > 0:\n",
    "        contain_ans += 1\n",
    "        # print(df[(df['subject'] == ans) | (df['object'] == ans)])\n",
    "    else:\n",
    "        print(ans)\n",
    "    sample_cnt += 1\n",
    "\n",
    "contain_ans / sample_cnt"
   ]
  },
  {
   "cell_type": "code",
   "execution_count": 25,
   "metadata": {},
   "outputs": [
    {
     "name": "stdout",
     "output_type": "stream",
     "text": [
      "Does not contain  gesellschaft mit beschränkter haftung\n",
      "Entity <jonny craig> contains answer <jonny craig>\n",
      "Entity <maine> contains answer <bath maine>\n",
      "Entity <creature comforts> contains answer <creature comforts>\n",
      "Entity <women> contains answer <fortnightly women interest magazine>\n",
      "Does not contain  a failed coup attempt\n",
      "Entity <miss new york usa 2004> contains answer <2004>\n",
      "Entity <love and theft> contains answer <love and theft>\n",
      "Does not contain  2 march 1972\n",
      "Entity <tybalt> contains answer <tybalt>\n",
      "Entity <virginia> contains answer <virginia>\n",
      "Entity <engineering> contains answer <engineering>\n",
      "Entity <teen titans go> contains answer <teen titans go>\n",
      "Entity <oklahoma sooners> contains answer <oklahoma sooners>\n",
      "Entity <2011 pulitzer prize in general nonfiction> contains answer <pulitzer prize>\n",
      "Entity <1988> contains answer <1988>\n",
      "Entity <mayor of hawaii county> contains answer <hawaii county>\n",
      "Does not contain  german\n",
      "Entity <sam boyd stadium> contains answer <sam boyd stadium>\n",
      "Entity <1941> contains answer <1941>\n",
      "Entity <10 january 1920> contains answer <10 january 1920>\n",
      "Entity <shopping mall> contains answer <superregional shopping mall>\n",
      "Entity <m night shyamalan> contains answer <m night shyamalan>\n",
      "Entity <1> contains answer <1978>\n",
      "Does not contain  london\n",
      "Does not contain  chronological collection of critical quotations\n",
      "Entity <22 november 1761> contains answer <22 november>\n",
      "Entity <dubai international airport> contains answer <dubai international airport>\n",
      "Entity <golden valley minnesota> contains answer <minnesota>\n",
      "Entity <november 8 1927> contains answer <1927>\n",
      "Entity <read it and weep> contains answer <read it and weep 2006>\n",
      "Entity <velvetpark dyke culture in bloom> contains answer <velvetpark>\n",
      "Entity <papa ginos inc> contains answer <papa ginos>\n",
      "Entity <shukratara by date> contains answer <shukratara>\n",
      "Does not contain  captain hans geering\n",
      "Entity <frederick alexander lindemann 1st viscount cherwell> contains answer <frederick alexander>\n",
      "Entity <marktown> contains answer <marktown>\n",
      "Entity <the bad hemingway contest> contains answer <the bad hemingway contest>\n",
      "Does not contain  vivendi sa\n",
      "Entity <stone brewing> contains answer <stone brewing>\n",
      "Entity <jimmy ellis> contains answer <jimmy ellis>\n",
      "Entity <baudot code> contains answer <baudot code>\n",
      "Entity <raffaella reggi> contains answer <raffaella reggi>\n",
      "Entity <mark masons hall> contains answer <mark masons hall>\n",
      "Entity <stedelijk museum amsterdam> contains answer <stedelijk museum amsterdam>\n",
      "Entity <aloe vera of america> contains answer <aloe vera of america>\n",
      "Entity <sarah kerrigan> contains answer <sarah kerrigan>\n"
     ]
    },
    {
     "data": {
      "text/plain": [
       "(0.8297872340425532, 0.6972813238770686)"
      ]
     },
     "execution_count": 25,
     "metadata": {},
     "output_type": "execute_result"
    }
   ],
   "source": [
    "contain_ans = 0\n",
    "sample_cnt = 0\n",
    "f1s = []\n",
    "\n",
    "for i, sample in retrieved_triplets.items():\n",
    "    df = pd.DataFrame(sample)\n",
    "\n",
    "    df['subject'] = df['subject'].apply(lambda x: normalize(x))\n",
    "    df['object'] = df['object'].apply(lambda x: normalize(x))\n",
    "    \n",
    "    ans = normalize(ds[i]['answer'])\n",
    "    subj_obj = list(df['subject']) + list(df['object'])\n",
    "\n",
    "    if ans == \"yes\" or ans == \"no\":\n",
    "        continue\n",
    "\n",
    "    if any([ans in elem for elem in subj_obj]) or any([elem in ans for elem in subj_obj]):\n",
    "        contain_ans += 1\n",
    "\n",
    "        for elem in subj_obj:\n",
    "            if ans in elem or elem in ans:\n",
    "                f1 = compute_f1(elem, ans)\n",
    "                f1s.append(f1)\n",
    "                print(f\"Entity <{elem}> contains answer <{ans}>\")\n",
    "                break\n",
    "        \n",
    "    else:\n",
    "        max_f1 = 0\n",
    "        max_f1_entity = ''\n",
    "        for elem in subj_obj:\n",
    "            f1 = compute_f1(elem, ans)\n",
    "            if f1 > max_f1:\n",
    "                max_f1 = f1\n",
    "                max_f1_entity = elem\n",
    "        f1s.append(max_f1)\n",
    "        print(\"Does not contain \", ans)\n",
    "    sample_cnt += 1\n",
    "\n",
    "contain_ans / sample_cnt, sum(f1s)/len(f1s)"
   ]
  },
  {
   "cell_type": "code",
   "execution_count": 40,
   "metadata": {},
   "outputs": [],
   "source": [
    "lengths_1_hop = []\n",
    "props_1_hop = []\n",
    "lengths_kg = []\n",
    "\n",
    "for i, sample in retrieved_triplets.items():\n",
    "    df = pd.DataFrame(sample)\n",
    "    df = df.drop_duplicates()\n",
    "    lengths_1_hop.append(len(df))\n",
    "\n",
    "    reference_kg = pd.read_csv(f'hotpot200_res/{i}.csv', index_col=0)\n",
    "    props_1_hop.append(len(df)/len(reference_kg))\n",
    "    lengths_kg.append(len(reference_kg))\n"
   ]
  },
  {
   "cell_type": "code",
   "execution_count": 42,
   "metadata": {},
   "outputs": [
    {
     "data": {
      "image/png": "[encoded data removed]",
      "text/plain": [
       "<Figure size 640x480 with 1 Axes>"
      ]
     },
     "metadata": {},
     "output_type": "display_data"
    }
   ],
   "source": [
    "plt.hist(lengths_kg)\n",
    "plt.show()"
   ]
  },
  {
   "cell_type": "code",
   "execution_count": 27,
   "metadata": {},
   "outputs": [
    {
     "data": {
      "image/png": "[encoded data removed]",
      "text/plain": [
       "<Figure size 640x480 with 1 Axes>"
      ]
     },
     "metadata": {},
     "output_type": "display_data"
    }
   ],
   "source": [
    "plt.hist(lengths_1_hop)\n",
    "plt.show()"
   ]
  },
  {
   "cell_type": "code",
   "execution_count": 28,
   "metadata": {},
   "outputs": [
    {
     "data": {
      "image/png": "[encoded data removed]",
      "text/plain": [
       "<Figure size 640x480 with 1 Axes>"
      ]
     },
     "metadata": {},
     "output_type": "display_data"
    }
   ],
   "source": [
    "plt.hist(props_1_hop)\n",
    "plt.show()"
   ]
  },
  {
   "cell_type": "markdown",
   "metadata": {},
   "source": [
    "## 2-hop"
   ]
  },
  {
   "cell_type": "code",
   "execution_count": 29,
   "metadata": {},
   "outputs": [],
   "source": [
    "retrieved_triplets = {}\n",
    "\n",
    "for file in os.listdir('hotpot200_res'):\n",
    "    df = pd.read_csv('hotpot200_res/{}'.format(file), index_col=0)\n",
    "    idx = int(file.split('.')[0])\n",
    "\n",
    "    unique_top_entities = id2unique_top_entities[idx]\n",
    "    unique_top_entities = list(set(unique_top_entities))\n",
    "\n",
    "    triplets = df[(df['subject'].apply(lambda x: x in unique_top_entities)) | (df['object'].apply(lambda x: x in unique_top_entities))]\n",
    "    one_hop_entities = list(triplets['subject']) + list(triplets['object'])\n",
    "    one_hop_entities = set(one_hop_entities) - set(unique_top_entities)\n",
    "    one_hop_triplets = df[(df['subject'].apply(lambda x: x in one_hop_entities)) | (df['object'].apply(lambda x: x in one_hop_entities))]\n",
    "\n",
    "    two_hop_entities = list(one_hop_triplets['subject']) + list(one_hop_triplets['object'])\n",
    "\n",
    "    two_hop_entities = set(two_hop_entities) - set(one_hop_entities) - set(unique_top_entities)\n",
    "    two_hop_triplets = df[(df['subject'].apply(lambda x: x in two_hop_entities)) | (df['object'].apply(lambda x: x in two_hop_entities))]\n",
    "\n",
    "    triplets = pd.concat((triplets, one_hop_triplets, two_hop_triplets))\n",
    "\n",
    "    triplets = triplets.to_records(index=False)\n",
    "\n",
    "    retrieved_triplets[idx] = triplets\n"
   ]
  },
  {
   "cell_type": "code",
   "execution_count": 30,
   "metadata": {},
   "outputs": [
    {
     "name": "stdout",
     "output_type": "stream",
     "text": [
      "fortnightly women interest magazine\n",
      "a failed coup attempt\n",
      "2 march 1972\n",
      "pulitzer prize\n",
      "hawaii county\n",
      "german\n",
      "superregional shopping mall\n",
      "1978\n",
      "london\n",
      "chronological collection of critical quotations\n",
      "22 november\n",
      "1927\n",
      "read it and weep 2006\n",
      "velvetpark\n",
      "papa ginos\n",
      "shukratara\n",
      "captain hans geering\n",
      "frederick alexander\n"
     ]
    },
    {
     "data": {
      "text/plain": [
       "0.6170212765957447"
      ]
     },
     "execution_count": 30,
     "metadata": {},
     "output_type": "execute_result"
    }
   ],
   "source": [
    "contain_ans = 0\n",
    "sample_cnt = 0\n",
    "\n",
    "for i, sample in retrieved_triplets.items():\n",
    "    df = pd.DataFrame(sample)\n",
    "\n",
    "    df['subject'] = df['subject'].apply(lambda x: normalize(x))\n",
    "    df['object'] = df['object'].apply(lambda x: normalize(x))\n",
    "\n",
    "    ans = normalize(ds[i]['answer'])\n",
    "\n",
    "    if ans == \"yes\" or ans == \"no\":\n",
    "        continue\n",
    "\n",
    "    if len(df[(df['subject'] == ans) | (df['object'] == ans)]) > 0:\n",
    "        contain_ans += 1\n",
    "\n",
    "    else:\n",
    "        print(ans)\n",
    "    sample_cnt += 1\n",
    "\n",
    "contain_ans / sample_cnt"
   ]
  },
  {
   "cell_type": "code",
   "execution_count": 32,
   "metadata": {},
   "outputs": [
    {
     "name": "stdout",
     "output_type": "stream",
     "text": [
      "Does not contain  a failed coup attempt\n",
      "Does not contain  german\n",
      "Does not contain  london\n",
      "Does not contain  chronological collection of critical quotations\n",
      "Does not contain  captain hans geering\n"
     ]
    },
    {
     "data": {
      "text/plain": [
       "(0.8936170212765957, 0.7745862884160757)"
      ]
     },
     "execution_count": 32,
     "metadata": {},
     "output_type": "execute_result"
    }
   ],
   "source": [
    "contain_ans = 0\n",
    "sample_cnt = 0\n",
    "f1s = []\n",
    "\n",
    "for i, sample in retrieved_triplets.items():\n",
    "    df = pd.DataFrame(sample)\n",
    "\n",
    "    df['subject'] = df['subject'].apply(lambda x: normalize(x))\n",
    "    df['object'] = df['object'].apply(lambda x: normalize(x))\n",
    "    \n",
    "    ans = normalize(ds[i]['answer'])\n",
    "    subj_obj = list(df['subject']) + list(df['object'])\n",
    "\n",
    "    if ans == \"yes\" or ans == \"no\":\n",
    "        continue\n",
    "\n",
    "    if any([ans in elem for elem in subj_obj]) or any([elem in ans for elem in subj_obj]):\n",
    "        contain_ans += 1\n",
    "\n",
    "        # for elem in subj_obj:\n",
    "        #     if ans in elem or elem in ans:\n",
    "        #         print(f\"Entity <{elem}> contains answer <{ans}>\")\n",
    "        #         break\n",
    "        \n",
    "    else:\n",
    "        print(\"Does not contain \", ans)\n",
    "\n",
    "    max_f1 = 0\n",
    "    max_f1_entity = ''\n",
    "    \n",
    "    for elem in subj_obj:\n",
    "        f1 = compute_f1(elem, ans)\n",
    "        if f1 > max_f1:\n",
    "            max_f1 = f1\n",
    "            max_f1_entity = elem\n",
    "    f1s.append(max_f1)\n",
    "  \n",
    "    sample_cnt += 1\n",
    "\n",
    "contain_ans / sample_cnt, sum(f1s)/len(f1s)"
   ]
  },
  {
   "cell_type": "code",
   "execution_count": 40,
   "metadata": {},
   "outputs": [],
   "source": [
    "lengths_2_hop = []\n",
    "props_2_hop = []\n",
    "\n",
    "for i, sample in retrieved_triplets.items():\n",
    "    df = pd.DataFrame(sample)\n",
    "    df = df.drop_duplicates()\n",
    "    lengths_2_hop.append(len(df))\n",
    "\n",
    "    reference_kg = pd.read_csv(f'hotpot200_res/{i}.csv', index_col=0)\n",
    "    props_2_hop.append(len(df)/len(reference_kg))\n"
   ]
  },
  {
   "cell_type": "code",
   "execution_count": 41,
   "metadata": {},
   "outputs": [
    {
     "data": {
      "image/png": "[encoded data removed]",
      "text/plain": [
       "<Figure size 640x480 with 1 Axes>"
      ]
     },
     "metadata": {},
     "output_type": "display_data"
    }
   ],
   "source": [
    "plt.hist(lengths_2_hop)\n",
    "plt.show()"
   ]
  },
  {
   "cell_type": "code",
   "execution_count": 42,
   "metadata": {},
   "outputs": [
    {
     "data": {
      "image/png": "[encoded data removed]",
      "text/plain": [
       "<Figure size 640x480 with 1 Axes>"
      ]
     },
     "metadata": {},
     "output_type": "display_data"
    }
   ],
   "source": [
    "plt.hist(props_2_hop)\n",
    "plt.show()"
   ]
  },
  {
   "cell_type": "code",
   "execution_count": null,
   "metadata": {},
   "outputs": [],
   "source": []
  }
 ],
 "metadata": {
  "kernelspec": {
   "display_name": "venv",
   "language": "python",
   "name": "python3"
  },
  "language_info": {
   "codemirror_mode": {
    "name": "ipython",
    "version": 3
   },
   "file_extension": ".py",
   "mimetype": "text/x-python",
   "name": "python",
   "nbconvert_exporter": "python",
   "pygments_lexer": "ipython3",
   "version": "3.7.12"
  }
 },
 "nbformat": 4,
 "nbformat_minor": 2
}
