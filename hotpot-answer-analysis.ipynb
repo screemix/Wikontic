{
 "cells": [
  {
   "cell_type": "code",
   "execution_count": 1,
   "metadata": {},
   "outputs": [
    {
     "name": "stderr",
     "output_type": "stream",
     "text": [
      "/home/jovyan/chepurova/Text2KG/venv/lib/python3.7/site-packages/tqdm/auto.py:21: TqdmWarning: IProgress not found. Please update jupyter and ipywidgets. See https://ipywidgets.readthedocs.io/en/stable/user_install.html\n",
      "  from .autonotebook import tqdm as notebook_tqdm\n"
     ]
    }
   ],
   "source": [
    "from tqdm import tqdm_notebook\n",
    "from tqdm import tqdm\n",
    "\n",
    "import json\n",
    "import pandas as pd\n",
    "\n",
    "from utils.openai_utils import LLMTripletExtractor\n",
    "from utils.dynamic_index_utils import Aligner\n",
    "\n",
    "import os\n",
    "import plotly.graph_objects as go\n",
    "import matplotlib.pyplot as plt\n",
    "\n",
    "from collections import Counter\n",
    "\n",
    "import warnings\n",
    "warnings.filterwarnings('ignore')"
   ]
  },
  {
   "cell_type": "code",
   "execution_count": 2,
   "metadata": {},
   "outputs": [],
   "source": [
    "with open(\"hotpotqa200.json\", \"r\") as f:\n",
    "    ds = json.load(f)"
   ]
  },
  {
   "cell_type": "code",
   "execution_count": 3,
   "metadata": {},
   "outputs": [],
   "source": [
    "def compute_f1(prediction, truth):\n",
    "    pred_tokens = prediction.split()\n",
    "    truth_tokens = truth.split()\n",
    "    \n",
    "    if len(pred_tokens) == 0 or len(truth_tokens) == 0:\n",
    "        return int(pred_tokens == truth_tokens)\n",
    "    \n",
    "    common_tokens = set(pred_tokens) & set(truth_tokens)\n",
    "    \n",
    "    # if there are no common tokens then f1 = 0\n",
    "    if len(common_tokens) == 0:\n",
    "        return 0\n",
    "    \n",
    "    prec = len(common_tokens) / len(pred_tokens)\n",
    "    rec = len(common_tokens) / len(truth_tokens)\n",
    "    \n",
    "    return 2 * (prec * rec) / (prec + rec)"
   ]
  },
  {
   "cell_type": "markdown",
   "metadata": {},
   "source": [
    "## How many answers are in the reference texts?"
   ]
  },
  {
   "cell_type": "code",
   "execution_count": 4,
   "metadata": {},
   "outputs": [
    {
     "data": {
      "text/plain": [
       "0.99"
      ]
     },
     "execution_count": 4,
     "metadata": {},
     "output_type": "execute_result"
    }
   ],
   "source": [
    "sum([elem['answer'] in \" \".join([\" \".join(sent[1]) for sent in elem['context']]) for elem in ds]) / len(ds)"
   ]
  },
  {
   "cell_type": "code",
   "execution_count": 5,
   "metadata": {},
   "outputs": [
    {
     "data": {
      "text/plain": [
       "1.0"
      ]
     },
     "execution_count": 5,
     "metadata": {},
     "output_type": "execute_result"
    }
   ],
   "source": [
    "context_contains_ans = 0\n",
    "samples = 0\n",
    "for sample in ds:\n",
    "    ans = sample['answer']\n",
    "\n",
    "    if ans != 'no' and ans != 'yes':\n",
    "        samples += 1\n",
    "        # sample['context] - list of lists [TITLE, [TEXTS]]\n",
    "        context = \" \".join([\" \".join(context[1]) for context in sample['context']])\n",
    "        context_contains_ans += ans in context\n",
    "\n",
    "context_contains_ans / samples"
   ]
  },
  {
   "cell_type": "markdown",
   "metadata": {},
   "source": [
    "## How many answers in the constructed KG??"
   ]
  },
  {
   "cell_type": "code",
   "execution_count": 6,
   "metadata": {},
   "outputs": [],
   "source": [
    "import string\n",
    "def normalize(input_string):\n",
    "    input_string = input_string.lower()\n",
    "    translator = str.maketrans('', '', string.punctuation)\n",
    "    return input_string.translate(translator)"
   ]
  },
  {
   "cell_type": "code",
   "execution_count": 7,
   "metadata": {},
   "outputs": [
    {
     "name": "stdout",
     "output_type": "stream",
     "text": [
      "fortnightly women interest magazine\n",
      "a failed coup attempt\n",
      "2 march 1972\n",
      "pulitzer prize\n",
      "hawaii county\n",
      "german\n",
      "superregional shopping mall\n",
      "1978\n",
      "london\n",
      "chronological collection of critical quotations\n",
      "22 november\n",
      "1927\n",
      "read it and weep 2006\n",
      "velvetpark\n",
      "papa ginos\n",
      "shukratara\n",
      "captain hans geering\n",
      "frederick alexander\n"
     ]
    },
    {
     "data": {
      "text/plain": [
       "0.6170212765957447"
      ]
     },
     "execution_count": 7,
     "metadata": {},
     "output_type": "execute_result"
    }
   ],
   "source": [
    "contain_ans = 0\n",
    "file_cnt = 0\n",
    "\n",
    "wrong_ans_types = []\n",
    "types = []\n",
    "\n",
    "for file in os.listdir('hotpot200_res'):\n",
    "    df = pd.read_csv('hotpot200_res/{}'.format(file), index_col=0)\n",
    "    idx = int(file.split('.')[0])\n",
    "    ans = normalize(ds[idx]['answer'])\n",
    "\n",
    "    df['subject'] = df['subject'].apply(lambda x: normalize(x))\n",
    "    df['object'] = df['object'].apply(lambda x: normalize(x))\n",
    "\n",
    "    if ans == \"yes\" or ans == \"no\":\n",
    "        continue\n",
    "    types.append(ds[idx]['type'])\n",
    "    \n",
    "    if len(df[(df['subject'] == ans) | (df['object'] == ans)]) > 0:\n",
    "        contain_ans += 1\n",
    "    else:\n",
    "        wrong_ans_types.append(ds[idx]['type'])\n",
    "        print(ans)\n",
    "    file_cnt += 1\n",
    "\n",
    "contain_ans / file_cnt"
   ]
  },
  {
   "cell_type": "code",
   "execution_count": 8,
   "metadata": {},
   "outputs": [
    {
     "data": {
      "text/plain": [
       "(Counter({'comparison': 3, 'bridge': 15}),\n",
       " Counter({'bridge': 41, 'comparison': 6}))"
      ]
     },
     "execution_count": 8,
     "metadata": {},
     "output_type": "execute_result"
    }
   ],
   "source": [
    "Counter(wrong_ans_types), Counter(types)"
   ]
  },
  {
   "cell_type": "code",
   "execution_count": 143,
   "metadata": {},
   "outputs": [
    {
     "data": {
      "text/plain": [
       "(0.8936170212765957, 0.7745862884160757)"
      ]
     },
     "execution_count": 143,
     "metadata": {},
     "output_type": "execute_result"
    }
   ],
   "source": [
    "contain_ans = 0\n",
    "file_cnt = 0\n",
    "f1s = []\n",
    "\n",
    "contain_ans_entity = []\n",
    "not_contain_ans_entity = []\n",
    "\n",
    "wrong_ans_types = []\n",
    "types = []\n",
    "texts = []\n",
    "\n",
    "for file in os.listdir('hotpot200_res'):\n",
    "    df = pd.read_csv('hotpot200_res/{}'.format(file), index_col=0)\n",
    "    idx = int(file.split('.')[0])\n",
    "\n",
    "    df['subject'] = df['subject'].apply(lambda x: normalize(x))\n",
    "    df['object'] = df['object'].apply(lambda x: normalize(x))\n",
    "\n",
    "    ans = normalize(ds[idx]['answer'])\n",
    "    subj_obj = list(df['subject']) + list(df['object'])\n",
    "\n",
    "\n",
    "    types.append(ds[idx]['type'])\n",
    "\n",
    "    if ans == \"yes\" or ans == \"no\":\n",
    "        continue\n",
    "\n",
    "    if any([ans in elem for elem in subj_obj]) or any([elem in ans for elem in subj_obj]):\n",
    "        for elem in subj_obj:\n",
    "            if ans in elem or elem in ans:\n",
    "                contain_ans_entity.append((ans, elem))\n",
    "                break\n",
    "        contain_ans += 1\n",
    "       \n",
    "    else:\n",
    "        wrong_ans_types.append(ds[idx]['type'])\n",
    "        not_contain_ans_entity.append((ans, max_f1_entity))\n",
    "\n",
    "    max_f1 = 0\n",
    "    max_f1_entity = ''\n",
    "\n",
    "    for elem in subj_obj:\n",
    "        f1 = compute_f1(elem, ans)\n",
    "        if f1 > max_f1:\n",
    "            max_f1 = f1\n",
    "            max_f1_entity = elem\n",
    "    for elem in ds[idx]['context']:\n",
    "        texts.append(\" \".join(elem[1]).replace(\"  \", \" \"))\n",
    "\n",
    "    f1s.append(max_f1)\n",
    "  \n",
    "    file_cnt += 1\n",
    "\n",
    "contain_ans / file_cnt, sum(f1s)/len(f1s)"
   ]
  },
  {
   "cell_type": "code",
   "execution_count": 121,
   "metadata": {},
   "outputs": [
    {
     "name": "stdout",
     "output_type": "stream",
     "text": [
      "Entity <gesellschaft mit beschränkter haftung> contains answer <gesellschaft mit beschränkter haftung>\n",
      "Entity <jonny craig> contains answer <jonny craig>\n",
      "Entity <maine> contains answer <bath maine>\n",
      "Entity <creature comforts> contains answer <creature comforts>\n",
      "Entity <women> contains answer <fortnightly women interest magazine>\n",
      "Entity <2004> contains answer <2004>\n",
      "Entity <love and theft> contains answer <love and theft>\n",
      "Entity <9> contains answer <2 march 1972>\n",
      "Entity <tybalt> contains answer <tybalt>\n",
      "Entity <virginia> contains answer <virginia>\n",
      "Entity <engineering> contains answer <engineering>\n",
      "Entity <teen titans go> contains answer <teen titans go>\n",
      "Entity <oklahoma sooners> contains answer <oklahoma sooners>\n",
      "Entity <2011 pulitzer prize in general nonfiction> contains answer <pulitzer prize>\n",
      "Entity <1988> contains answer <1988>\n",
      "Entity <mayor of hawaii county> contains answer <hawaii county>\n",
      "Entity <sam boyd stadium> contains answer <sam boyd stadium>\n",
      "Entity <1941> contains answer <1941>\n",
      "Entity <10 january 1920> contains answer <10 january 1920>\n",
      "Entity <shopping mall> contains answer <superregional shopping mall>\n",
      "Entity <m night shyamalan> contains answer <m night shyamalan>\n",
      "Entity <1> contains answer <1978>\n",
      "Entity <22 november 1761> contains answer <22 november>\n",
      "Entity <dubai international airport> contains answer <dubai international airport>\n",
      "Entity <golden valley minnesota> contains answer <minnesota>\n",
      "Entity <november 8 1927> contains answer <1927>\n",
      "Entity <read it and weep> contains answer <read it and weep 2006>\n",
      "Entity <velvetpark dyke culture in bloom> contains answer <velvetpark>\n",
      "Entity <papa ginos inc> contains answer <papa ginos>\n",
      "Entity <shukratara by date> contains answer <shukratara>\n",
      "Entity <frederick alexander lindemann 1st viscount cherwell> contains answer <frederick alexander>\n",
      "Entity <marktown> contains answer <marktown>\n",
      "Entity <the bad hemingway contest> contains answer <the bad hemingway contest>\n",
      "Entity <vivendi sa> contains answer <vivendi sa>\n",
      "Entity <stone brewing> contains answer <stone brewing>\n",
      "Entity <jimmy ellis> contains answer <jimmy ellis>\n",
      "Entity <baudot code> contains answer <baudot code>\n",
      "Entity <raffaella reggi> contains answer <raffaella reggi>\n",
      "Entity <mark masons hall> contains answer <mark masons hall>\n",
      "Entity <stedelijk museum amsterdam> contains answer <stedelijk museum amsterdam>\n",
      "Entity <aloe vera of america> contains answer <aloe vera of america>\n",
      "Entity <sarah kerrigan> contains answer <sarah kerrigan>\n"
     ]
    }
   ],
   "source": [
    "for ans, entity in contain_ans_entity:\n",
    "    print(f\"Entity <{entity}> contains answer <{ans}>\")"
   ]
  },
  {
   "cell_type": "code",
   "execution_count": 122,
   "metadata": {},
   "outputs": [
    {
     "name": "stdout",
     "output_type": "stream",
     "text": [
      "Doesn't contain a failed coup attempt The most similar entity is  women\n",
      "Doesn't contain german The most similar entity is  county of hawaii\n",
      "Doesn't contain london The most similar entity is  \n",
      "Doesn't contain chronological collection of critical quotations The most similar entity is  \n",
      "Doesn't contain captain hans geering The most similar entity is  shukratara by date\n"
     ]
    }
   ],
   "source": [
    "for ans, entity in not_contain_ans_entity:\n",
    "    print(\"Doesn't contain\", ans, \"The most similar entity is \", entity)"
   ]
  },
  {
   "cell_type": "code",
   "execution_count": 123,
   "metadata": {},
   "outputs": [
    {
     "data": {
      "text/plain": [
       "(Counter({'bridge': 5}), Counter({'bridge': 41, 'comparison': 9}))"
      ]
     },
     "execution_count": 123,
     "metadata": {},
     "output_type": "execute_result"
    }
   ],
   "source": [
    "Counter(wrong_ans_types), Counter(types)"
   ]
  },
  {
   "cell_type": "code",
   "execution_count": 124,
   "metadata": {},
   "outputs": [
    {
     "data": {
      "text/plain": [
       "469"
      ]
     },
     "execution_count": 124,
     "metadata": {},
     "output_type": "execute_result"
    }
   ],
   "source": [
    "texts = list(set(texts))\n",
    "len(texts)"
   ]
  },
  {
   "cell_type": "code",
   "execution_count": 125,
   "metadata": {},
   "outputs": [
    {
     "data": {
      "text/plain": [
       "499"
      ]
     },
     "execution_count": 125,
     "metadata": {},
     "output_type": "execute_result"
    }
   ],
   "source": [
    "text_in_logs = set()\n",
    "\n",
    "with jsonlines.open('logs/logs_hotpot200.jsonl', 'r') as f:\n",
    "    for line in f:\n",
    "        text_in_logs.add(line[0][1]['content'].replace('Text: ', ''))\n",
    "len(text_in_logs)"
   ]
  },
  {
   "cell_type": "code",
   "execution_count": 134,
   "metadata": {},
   "outputs": [
    {
     "data": {
      "text/plain": [
       "{'\"Teen Titans Go! \" is an American animated television series based on the DC Comics fictional superhero team, the \"Teen Titans\". The series was announced following the popularity of DC Nation\\'s New Teen Titans shorts, both of which are based on the 2003 \"Teen Titans\" TV series. \"Teen Titans Go!\" is a more comedic take on the DC Comics franchise, dealing with situations that happen every day. Sporting a new animation style, \"Teen Titans Go!\" serves as a comedic spin-off with no continuity to the previous series, and only certain elements are retained. Many DC characters make cameo appearances and are referenced in the background. The original principal voice cast returns to reprise their respective roles.',\n",
       " 'American entertainer Madonna has released 68 music videos, 11 concert tour videos, 2 documentary videos, 4 music video compilations, 2 music video box sets, 4 promotional videos, and 5 video singles. In 1982, Madonna signed a recording contract with Sire Records and released her first two singles before launching her eponymous debut album. Her first video to receive attention on MTV was \"Borderline\", followed by \"Lucky Star\" and \"Like a Virgin\", which popularized Madonna\\'s image and fashion among younger generation. Her early videos were released commercially on \"Madonna\" (1984), which became the best-selling videocassette of 1985. With the title track from her third studio album \"True Blue\" (1986), Madonna\\'s impact on MTV and popular music was established when a contest entitled \"Making My Video\", was held to create a music video for the song. \" La Isla Bonita\" and \"Who\\'s That Girl\", both released in 1987, showed Madonna\\'s fascination with Hispanic culture and religious symbolism. In 1989, the video of \"Like a Prayer\" portrayed her dancing in front of burning crosses, receiving stigmata, kissing a black saint and having sex with him in a church altar. It faced strong reaction from religious groups and media. \" Express Yourself\" released the same year was critically appreciated for its positive feminist themes.',\n",
       " 'Antic ( ISSN 0113-1141 ) was a home computer magazine devoted to the Atari 8-bit family (Atari 400/800, XL, XE, XEGS). It was named after the ANTIC chip which provided 2D graphics in the computers. The magazine was published from April 1982 until June/July 1990. \"Antic\" printed type-in programs (usually in BASIC), reviews, and tutorials, among other articles. Each issue contained one type-in game as \"Game of the Month.\"',\n",
       " 'Back to Tennessee is the eleventh studio album released from country music singer Billy Ray Cyrus. The album was released on April 7, 2009, on Lyric Street Records. It is also the follow-up album to 2007s \"Home at Last\". Originally planned to be released in July 2008, the album was pushed to new release dates five times. \" Somebody Said a Prayer\" was released as the album\\'s lead-off single, and was a top 40 hit on the country charts in late 2008. The title track and \"A Good Day\" followed it as the second and third singles, reaching number 47 and number #59, respectively. Also on the album is \"Butterfly Fly Away\", a duet with daughter Miley Cyrus. The song is also on the \"\" soundtrack. Cyrus and Lyric Street Records parted ways shortly after the chart debut of \"A Good Day\".',\n",
       " 'Habra railway station is a station of Eastern Railway. It is 45\\xa0km away from Sealdah railway station and 23\\xa0km from Barasat on the Sealdah-Bangaon branch line of Eastern Railway. It is part of the Kolkata Suburban Railway system. Habra, Gobordanga,Thakurnagar and Bangaon local connects this city to Sealdah Station and other stations of the Sealdah-Bangaon branch line. Habra Station Road is directly connected on NH 35 (Jessore Road). It is a major railway station between bangaon and barasat railway station',\n",
       " \"Joe Frazier's Gym was a training facility owned by American professional boxer, Joe Frazier. Frazier trained at the gym while preparing for his 1971 Fight of the Century against Muhammed Ali. \",\n",
       " \"Kevin Atherton (born 1950) is a Manx artist,based in Ireland since 1999, whose work includes performance, sculpture, film and video, installation and site-related work. Before moving to Ireland with his late wife, the Educationalist Vicky Robinson, Atherton had lived and worked in London for twenty-five years teaching part-time at The Slade School of Fine Art, the Royal College of Art and Middlesex Polytechnic. Most notably he was the Head of Department of 'Alternative Media'at Chelsea College of Art, which later when it merged with 'Print Making' became 'Combined Media'. Arriving in Dublin in 1999 Atherton set about establishing the Fine Art Media Department at the National College of Art and Design (NCAD) writing the BA Fine Art Media pathway and the ground-breaking 'Virtual Realities as a Fine Art Media' MA course. He has exhibited and performed throughout the world including at the Museum of Modern Art San Francisco (SFMOMA), The Museum of Modern Art Vienna (MUMOK) and at Tate Britain. His two-screen video installation 'In Two Minds'(1978-2014) is in the collection of the Irish Museum of Modern Art Dublin.\",\n",
       " 'Max Charles (born August 18, 2003) is an American teen actor. In addition to his appearance in the 2012 film \"The Three Stooges\", Charles played a young Peter Parker in \"The Amazing Spider-Man\" and had a role in the ABC comedy science fiction series \"The Neighbors\". In 2014, Charles voiced Sherman in DreamWorks Animation\\'s \"Mr. Peabody & Sherman\". He also voices Sherman on \"The Mr. Peabody and Sherman Show\" Netflix Series He also played a recurring role in Disney XD\\'s. \" Lab Rats: Bionic Island\" as Spin. He currently voices Kion on the Disney Junior series \"The Lion Guard,\" and Harvey on the Nickelodeon series \"Harvey Beaks\". He also plays Zack Goodweather on the TV series \"The Strain.\"',\n",
       " 'Michael J. Lotz is President and Chief Operating Officer of Mesa Air Group, joining the Company in July 1998. In January 1999, Mr. Lotz became Chief Operating Officer. In August 1999, Mr. Lotz became the Company’s Chief Financial Officer and in January 2000 returned to the position of Chief Operating Officer. On June 22, 2000, Mr. Lotz was appointed President of the Company. Prior to joining the Company, Mr. Lotz served as Chief Operating Officer of Virgin Express, a position he held from October 1996 to June 1998. Previously, Mr. Lotz was employed by Continental Airlines, most recently as Vice President of Airport Operations, Properties and Facilities at Continental Express. .',\n",
       " 'Nicholas Frankau (born 16 July 1954 in Stockport, Cheshire) is an English actor best known for playing the role of Flt. Lt. Carstairs in the British sitcom \"\\'Allo \\'Allo! \" whose recurring theme involves failure to get back to Britain.',\n",
       " 'Paul Lynch is an award-winning, internationally acclaimed Irish writer living in Dublin, Ireland. He was born in Limerick in 1977 and grew up in Co. Donegal, Ireland. His first novel, Red Sky in Morning, won him acclaim in the United States and France, where the book was a finalist for France\\'s prestigious Prix du Meilleur Livre Etranger (Best Foreign Book Award). His second novel, The Black Snow, won France\\'s bookseller prize, Prix Libr’à Nous for best foreign novel. His novels have also been nominated for France’s Prix Femina, the Prix du Premier Roman (First Novel Prize) and the Prix du Roman Fnac (Fnac Novel Prize). , as well as being shortlisted for Best Newcomer at Ireland’s Bord Gais Irish Books of the Year. Both \"Red Sky in Morning\" and \"The Black Snow\" were Amazon.com Books of the Month selections, while his debut novel was selected by Barnes and Noble pick for Discover Great New Writers series. The American novelist Ron Rash has called Lynch, \"one of his generation\\'s very finest novelists\".',\n",
       " 'Pedro \"LucifroN\" Moreno Durán (born 31 October 1991) is a Spanish professional gamer. He started his career in \"\" and later competed in both \"Starcraft 2\" and \"Heroes of the Storm\". At the age of 16, playing \"\", he became the world championship runner-up by finishing second on Blizzcon 2008. One year later he won the European Championship and the Electronic Sports World Cup Masters of Cheonan, winning the first, and to date only, gold medal for Spain in the competition. . In \"Starcraft 2\" he participated in several international tournaments, winning The Gathering and the IPL D.I.C.E Showdown among others. In \"Heroes of the Storm\" he played for Team Liquid, winning several tournaments, most notably three DreamHacks.',\n",
       " 'Richard Gibson (born 1 January 1954) is an English actor, probably best known for his role as the archetypal Gestapo Officer Herr Otto Flick in the BBC hit sitcom series, \"\\'Allo \\'Allo! \".',\n",
       " 'Roger Kitter (20 October 1949 – 3 January 2015) was an English actor best known for playing Captain Alberto Bertorelli in series 7 of the British sitcom TV series \"\\'Allo \\'Allo! \". He had previously appeared weekly with Lulu throughout the 10-week run of her 1973 BBC1 series \"It\\'s Lulu\". With Kaplan Kaye he also recorded a song \"Chalk Dust – the Umpire Strikes Back\" using the moniker \\'The Brat\\'. Released on the Hansa label, it entered the UK Singles Chart on 10 July 1982; it reached a peak of number 19, and remained in the chart for 8 weeks. The song was a Top 10 hit in the Netherlands, Belgium and South Africa, and lampooned John McEnroe complaining about line calls in tennis (\"The ball\\'s in, everyone can see that the ball\\'s in!\") . He was also an impressionist, who provided the voice of Tommy Cooper in the Lego \\'Kipper\\' advertisement.',\n",
       " 'Roger Michael Kelly (19 December 1943 – 14 June 2014), known by the stage name Sam Kelly, was an English actor who appeared in film, television, radio and theatre. He is best known for his roles as Captain Hans Geering in \"\\'Allo \\'Allo! \", Warren in \"Porridge\" and Ted Liversidge in \"Barbara\".',\n",
       " 'Tara Strong (born Tara Lyn Charendoff; February 12, 1973) is a Canadian–American actress who has done voice work for numerous animations and video games and performed in various live-action productions. Many of her major voice roles include animated series such as \"Rugrats\", \"The Powerpuff Girls\", \"The Fairly OddParents\", \"Drawn Together\", \"Teen Titans\" and the spin-off series \"Teen Titans Go! \", and \"\", as well as video games such as \"Mortal Kombat X\", \"Final Fantasy X-2\", and the \"\" series. Her portrayals have garnered nominations in the Annie Awards and Daytime Emmys, and an award from the Academy of Interactive Arts & Sciences.',\n",
       " 'Teen Titans: Trouble in Tokyo is a 2006 television animated superhero film adaptation of the DC Comics superhero team Teen Titans. It is set in the milieu of the animated series \"Teen Titans\" that ran from 2003–2006. The film premiered on Cartoon Network on September 15, 2006 and on Kids\\' WB on September 16, 2006. \" Teen Titans\" head writer David Slack returned for this movie.',\n",
       " 'The Best of \\'Allo \\'Allo! was broadcast on 17 August 1994, two years after the ending of the BBC sitcom \"\\'Allo \\'Allo! \", to celebrate the 10th anniversary of the broadcast of the first series. The actual pilot for the show had been broadcast nearly 12 years earlier, when this show was broadcast.',\n",
       " 'The Shallows: What the Internet Is Doing to Our Brains, published in the United Kingdom as The Shallows: How the Internet Is Changing the Way We Think, Read and Remember, is a 2010 book by the American journalist Nicholas G. Carr. The book expands on the themes first raised in \"Is Google Making Us Stupid? \", Carr\\'s 2008 essay in \"The Atlantic\", and explores the effects of the Internet on the brain. The book claims research shows \"online reading\" yields lower comprehension than reading a printed page. \"The Shallows\" was a finalist for the 2011 Pulitzer Prize in General Nonfiction.',\n",
       " 'The following is a list of episodes for the British sitcom \"\\'Allo \\'Allo! \" that aired from 1982 to 1992. Following the Pilot in 1982, the series was officially launched two years later in 1984 (Series 1) and continued to Series 9 (1992); including two Christmas Special episodes in 1985 (between Series 2 and 3) and in 1991 (between Series 7 and 8). The last series (Series 9) was followed by two retrospective episodes in 1994 (\"The Best of \\'Allo \\'Allo! \") & 2007 (\"The Return of \\'Allo \\'Allo! \"). In total, including the Pilot, the two Christmas Specials and the two post series retrospective episodes; there are 87 episodes. Dates shown are original air dates on BBC One (except for the \"The Return of \\'Allo \\'Allo! \" episode which was broadcast on BBC Two).',\n",
       " 'Vicki Michelle {\\'1\\': \", \\'2\\': \", \\'3\\': \", \\'4\\': \"} (born 14 December 1950) is an English actress. She is best known for her role as Yvette Carte-Blanche in the BBC television comedy series \"\\'Allo \\'Allo! \" and as a recurring character Patricia Foster in the ITV soap opera \"Emmerdale\".'}"
      ]
     },
     "execution_count": 134,
     "metadata": {},
     "output_type": "execute_result"
    }
   ],
   "source": [
    "set(texts) - set(text_in_logs)"
   ]
  },
  {
   "cell_type": "code",
   "execution_count": 146,
   "metadata": {},
   "outputs": [
    {
     "name": "stdout",
     "output_type": "stream",
     "text": [
      "The Rome Protocols were a series of three international agreements signed in Rome on 17 March 1934 between the governments of Austria, Hungary and Italy.  They were signed by Italian Prime Minister Benito Mussolini, Austrian Prime Minister Engelbert Dollfuss and Hungarian Prime Minister Gyula Gömbös.  All the three protocols went into effect on 12 July 1934 and were registered in \"League of Nations Treaty Series\" on 12 December 1934.\n",
      "Engelbert Dollfuss (German: \"Engelbert Dollfuß\" , ] ; 4 October 1892 – 25 July 1934) was an Austrian Christian Social and Patriotic Front statesman.  Having served as Minister for Forests and Agriculture, he ascended to Federal Chancellor in 1932 in the midst of a crisis for the conservative government.  In early 1933, he shut down parliament, banned the Austrian Nazi party and assumed dictatorial powers.  Suppressing the Socialist movement in February 1934, he cemented the rule of “austrofascism” through the authoritarian \"First of May Constitution\".  Dollfuss was assassinated as part of a failed coup attempt by Nazi agents in 1934.  His successor Kurt Schuschnigg maintained the regime until Adolf Hitler's annexation of Austria in 1938.\n",
      "False\n",
      "The 2014–15 Southampton F.C. season was the club's 16th season in the Premier League and their 38th in the top division of English football.  It was also the club's first season with Dutch manager Ronald Koeman, who replaced Mauricio Pochettino on 16 June 2014.  Southampton finished seventh in the Premier League, having won 18, drawn six and lost 14 matches.  The club also made it to the fourth round of the FA Cup and the fifth round of the League Cup.\n",
      "Mauricio Roberto Pochettino (] , ] ; born 2 March 1972) is an Argentine former footballer who played as a central defender, and is the current manager of Premier League club Tottenham Hotspur.\n",
      "False\n",
      "Rémi Lange (born 4 February 1969 in Gennevilliers, Hauts-de-Seine) is a French film director.  Lange's films have mostly been released directly to video, except \"Omelette\" (1998) where he filmed his own coming out, and its sequel \"Les Yeux brouillés\" (2000), which both had general cinematic release in France.  His films have been shown and have won awards at film festivals around the world.\n",
      "Darren Benjamin Shepherd is an American screenwriter and film director.  He was born in San Jose, CA and graduated with film and music degrees from San Jose State University.\n",
      "False\n",
      "The Little Brown Stein is a rivalry trophy awarded to the winner of the college football game between the University of Idaho Vandals and University of Montana Grizzlies.  The trophy is, as the name implies, a large stein mug with the results of all the games between the two painted on.\n",
      "Beer stein ( ), or simply stein, is an English neologism for either traditional beer mugs made out of stoneware, or specifically ornamental beer mugs that are usually sold as souvenirs or collectibles.  In German, the word \"stein \" means stone and is not used to refer to a beverage container.\n",
      "False\n",
      "The Tunisia national football team (Arabic: منتخب تونس لكرة القدم‎ ‎ ), nicknamed \"Les Aigles de Carthage (The Eagles of Carthage or The Carthage Eagles)\", is the national team of Tunisia and is controlled by the Tunisian Football Federation.  They have qualified for four FIFA World Cups, the first one in 1978, but have yet to make it out of the first round.  Nevertheless, they created history in that 1978 tournament in Argentina by becoming the first African side to win a World Cup match, beating Mexico 3–1.  They also held defending champions West Germany to a goalless draw before bowing out.  They have since qualified for the three tournaments in succession, in 1998, 2002 and 2006: they were the only African team to appear at both the 2002 and 2006 tournaments.\n",
      "Sadok Sassi (Arabic: الصادق ساسي‎ ‎ ), nicknamed \"Attouga\" (born 15 November 1945 in Tunis) is a former Tunisian footballer.  He was a goalkeeper and played for Club Africain and the Tunisian national team.\n",
      "False\n",
      "Otterington railway station was located in the village of South Otterington, North Yorkshire, on the East Coast Main Line.  It opened in 1841 and closed in 1958.  The station is now a private residence, though the platform can still be seen.  The buildings date from the 1930s when the East Coast Main Line was widened.\n",
      "The East Coast Main Line (ECML) is a 393 mi major railway link between London and Edinburgh via Peterborough, Doncaster, Wakefield, Leeds, York, Darlington and Newcastle, electrified along the whole route.  Services north of Edinburgh to Aberdeen and Inverness use diesel trains.  The main franchise on the line is operated by Virgin Trains East Coast.\n",
      "False\n",
      "Duke Energy, headquartered in Charlotte, North Carolina, is an electric power holding company in the United States, with assets also in Canada and Latin America.\n",
      "Affiliated Managers Group Inc. is an American international investment management company headquartered in Massachusetts that owns stakes in a number of boutique asset management, hedge fund, and specialized private equity firms.\n",
      "False\n"
     ]
    }
   ],
   "source": [
    "for file in os.listdir('hotpot200_res'):\n",
    "    df = pd.read_csv('hotpot200_res/{}'.format(file), index_col=0)\n",
    "    idx = int(file.split('.')[0])\n",
    "\n",
    "    df['subject'] = df['subject'].apply(lambda x: normalize(x))\n",
    "    df['object'] = df['object'].apply(lambda x: normalize(x))\n",
    "\n",
    "    ans = normalize(ds[idx]['answer'])\n",
    "    subj_obj = list(df['subject']) + list(df['object'])\n",
    "\n",
    "    max_f1 = 0\n",
    "    max_f1_entity = ''\n",
    "\n",
    "    for elem in subj_obj:\n",
    "        f1 = compute_f1(elem, ans)\n",
    "        if f1 > max_f1:\n",
    "            max_f1 = f1\n",
    "            max_f1_entity = elem\n",
    "    \n",
    "    if max_f1 == 0:\n",
    "        context = \"\\n\".join([\" \".join(elem[1]) for elem in ds[idx]['context'] if elem[0] in [item[0] for item in ds[idx]['supporting_facts']]])\n",
    "        print(context)\n",
    "        print(context in set(texts) - set(text_in_logs))"
   ]
  },
  {
   "cell_type": "markdown",
   "metadata": {},
   "source": [
    "## Extracting entities from questions"
   ]
  },
  {
   "cell_type": "code",
   "execution_count": 13,
   "metadata": {},
   "outputs": [],
   "source": [
    "model_name = 'gpt-4o'\n",
    "device = 'cuda:1'\n",
    "\n",
    "aligner = Aligner(device=device, k=2)\n",
    "extractor = LLMTripletExtractor(model=model_name)"
   ]
  },
  {
   "cell_type": "code",
   "execution_count": 14,
   "metadata": {},
   "outputs": [
    {
     "data": {
      "text/plain": [
       "0.0"
      ]
     },
     "execution_count": 14,
     "metadata": {},
     "output_type": "execute_result"
    }
   ],
   "source": [
    "extractor.calculate_cost()"
   ]
  },
  {
   "cell_type": "code",
   "execution_count": 15,
   "metadata": {},
   "outputs": [
    {
     "name": "stderr",
     "output_type": "stream",
     "text": [
      "  0%|          | 0/50 [00:00<?, ?it/s]"
     ]
    },
    {
     "name": "stdout",
     "output_type": "stream",
     "text": [
      "huggingface/tokenizers: The current process just got forked, after parallelism has already been used. Disabling parallelism to avoid deadlocks...\n",
      "To disable this warning, you can either:\n",
      "\t- Avoid using `tokenizers` before the fork if possible\n",
      "\t- Explicitly set the environment variable TOKENIZERS_PARALLELISM=(true | false)\n"
     ]
    },
    {
     "name": "stderr",
     "output_type": "stream",
     "text": [
      "100%|██████████| 50/50 [03:26<00:00,  4.12s/it]\n"
     ]
    }
   ],
   "source": [
    "id2unique_top_entities = {}\n",
    "id2extracted_entities = {}\n",
    "\n",
    "# retrieved_triplets = {}\n",
    "\n",
    "for sample in tqdm(os.listdir('hotpot200_res')):\n",
    "\n",
    "    df = pd.read_csv(\"hotpot200_res/\" + sample, index_col=0)\n",
    "\n",
    "    aligner = Aligner(device=device)\n",
    "    entities = list(set(list(df.subject) + list(df.object)))\n",
    "    aligner.add_entities(entities, descriptions=['' for _ in range(len(entities))])\n",
    "\n",
    "    id_ = int(sample.split(\".\")[0])\n",
    "    extracted_entities = extractor.extract_entities_from_question(ds[id_]['question'])\n",
    "\n",
    "    id2extracted_entities[id_] = extracted_entities\n",
    "\n",
    "    top_entities = aligner.top_entities_by_llm_output(list(extracted_entities.keys()))\n",
    "    unique_top_entities = []\n",
    "\n",
    "    for mapped_entities in top_entities.values():\n",
    "        unique_top_entities.extend(mapped_entities)\n",
    "\n",
    "    id2unique_top_entities[id_] = unique_top_entities\n"
   ]
  },
  {
   "cell_type": "code",
   "execution_count": 16,
   "metadata": {},
   "outputs": [
    {
     "data": {
      "text/plain": [
       "0.111535"
      ]
     },
     "execution_count": 16,
     "metadata": {},
     "output_type": "execute_result"
    }
   ],
   "source": [
    "extractor.calculate_cost()"
   ]
  },
  {
   "cell_type": "markdown",
   "metadata": {},
   "source": [
    "## 1-hop"
   ]
  },
  {
   "cell_type": "code",
   "execution_count": 17,
   "metadata": {},
   "outputs": [],
   "source": [
    "retrieved_triplets = {}\n",
    "\n",
    "for file in os.listdir('hotpot200_res'):\n",
    "    df = pd.read_csv('hotpot200_res/{}'.format(file), index_col=0)\n",
    "    idx = int(file.split('.')[0])\n",
    "\n",
    "    unique_top_entities = id2unique_top_entities[idx]\n",
    "    unique_top_entities = list(set(unique_top_entities))\n",
    "\n",
    "    triplets = df[(df['subject'].apply(lambda x: x in unique_top_entities)) | (df['object'].apply(lambda x: x in unique_top_entities))]\n",
    "\n",
    "    one_hop_entities = list(triplets['subject']) + list(triplets['object'])\n",
    "    one_hop_entities = set(one_hop_entities) - set(unique_top_entities)\n",
    "    \n",
    "    one_hop_triplets = df[(df['subject'].apply(lambda x: x in one_hop_entities)) | (df['object'].apply(lambda x: x in one_hop_entities))]\n",
    "\n",
    "    triplets = pd.concat((triplets, one_hop_triplets))\n",
    "\n",
    "    triplets = triplets.to_records(index=False)\n",
    "\n",
    "    retrieved_triplets[idx] = triplets\n"
   ]
  },
  {
   "cell_type": "code",
   "execution_count": 18,
   "metadata": {},
   "outputs": [
    {
     "data": {
      "text/plain": [
       "50"
      ]
     },
     "execution_count": 18,
     "metadata": {},
     "output_type": "execute_result"
    }
   ],
   "source": [
    "len(retrieved_triplets)"
   ]
  },
  {
   "cell_type": "code",
   "execution_count": 19,
   "metadata": {},
   "outputs": [
    {
     "name": "stdout",
     "output_type": "stream",
     "text": [
      "gesellschaft mit beschränkter haftung\n",
      "bath maine\n",
      "fortnightly women interest magazine\n",
      "a failed coup attempt\n",
      "2 march 1972\n",
      "pulitzer prize\n",
      "hawaii county\n",
      "german\n",
      "superregional shopping mall\n",
      "1978\n",
      "london\n",
      "chronological collection of critical quotations\n",
      "22 november\n",
      "1927\n",
      "read it and weep 2006\n",
      "velvetpark\n",
      "papa ginos\n",
      "shukratara\n",
      "captain hans geering\n",
      "frederick alexander\n",
      "vivendi sa\n"
     ]
    },
    {
     "data": {
      "text/plain": [
       "0.5531914893617021"
      ]
     },
     "execution_count": 19,
     "metadata": {},
     "output_type": "execute_result"
    }
   ],
   "source": [
    "contain_ans = 0\n",
    "sample_cnt = 0\n",
    "\n",
    "for i, sample in retrieved_triplets.items():\n",
    "    df = pd.DataFrame(sample)\n",
    "\n",
    "    df['subject'] = df['subject'].apply(lambda x: normalize(x))\n",
    "    df['object'] = df['object'].apply(lambda x: normalize(x))\n",
    "\n",
    "    ans = normalize(ds[i]['answer'])\n",
    "\n",
    "    if ans == \"yes\" or ans == \"no\":\n",
    "        continue\n",
    "\n",
    "    if len(df[(df['subject'] == ans) | (df['object'] == ans)]) > 0:\n",
    "        contain_ans += 1\n",
    "        # print(df[(df['subject'] == ans) | (df['object'] == ans)])\n",
    "    else:\n",
    "        print(ans)\n",
    "    sample_cnt += 1\n",
    "\n",
    "contain_ans / sample_cnt"
   ]
  },
  {
   "cell_type": "code",
   "execution_count": 20,
   "metadata": {},
   "outputs": [
    {
     "name": "stdout",
     "output_type": "stream",
     "text": [
      "Does not contain  gesellschaft mit beschränkter haftung\n",
      "Entity <jonny craig> contains answer <jonny craig>\n",
      "Entity <maine> contains answer <bath maine>\n",
      "Entity <creature comforts> contains answer <creature comforts>\n",
      "Entity <women> contains answer <fortnightly women interest magazine>\n",
      "Does not contain  a failed coup attempt\n",
      "Entity <miss new york usa 2004> contains answer <2004>\n",
      "Entity <love and theft> contains answer <love and theft>\n",
      "Does not contain  2 march 1972\n",
      "Entity <tybalt> contains answer <tybalt>\n",
      "Entity <virginia> contains answer <virginia>\n",
      "Entity <engineering> contains answer <engineering>\n",
      "Entity <teen titans go> contains answer <teen titans go>\n",
      "Entity <oklahoma sooners> contains answer <oklahoma sooners>\n",
      "Entity <2011 pulitzer prize in general nonfiction> contains answer <pulitzer prize>\n",
      "Entity <1988> contains answer <1988>\n",
      "Entity <mayor of hawaii county> contains answer <hawaii county>\n",
      "Does not contain  german\n",
      "Entity <sam boyd stadium> contains answer <sam boyd stadium>\n",
      "Entity <1941> contains answer <1941>\n",
      "Entity <10 january 1920> contains answer <10 january 1920>\n",
      "Entity <shopping mall> contains answer <superregional shopping mall>\n",
      "Entity <m night shyamalan> contains answer <m night shyamalan>\n",
      "Entity <1> contains answer <1978>\n",
      "Does not contain  london\n",
      "Does not contain  chronological collection of critical quotations\n",
      "Entity <22 november 1761> contains answer <22 november>\n",
      "Entity <dubai international airport> contains answer <dubai international airport>\n",
      "Entity <golden valley minnesota> contains answer <minnesota>\n",
      "Entity <november 8 1927> contains answer <1927>\n",
      "Entity <read it and weep> contains answer <read it and weep 2006>\n",
      "Entity <velvetpark dyke culture in bloom> contains answer <velvetpark>\n",
      "Entity <papa ginos inc> contains answer <papa ginos>\n",
      "Entity <shukratara by date> contains answer <shukratara>\n",
      "Does not contain  captain hans geering\n",
      "Entity <frederick alexander lindemann 1st viscount cherwell> contains answer <frederick alexander>\n",
      "Entity <marktown> contains answer <marktown>\n",
      "Entity <the bad hemingway contest> contains answer <the bad hemingway contest>\n",
      "Does not contain  vivendi sa\n",
      "Entity <stone brewing> contains answer <stone brewing>\n",
      "Entity <jimmy ellis> contains answer <jimmy ellis>\n",
      "Entity <baudot code> contains answer <baudot code>\n",
      "Entity <raffaella reggi> contains answer <raffaella reggi>\n",
      "Entity <mark masons hall> contains answer <mark masons hall>\n",
      "Entity <stedelijk museum amsterdam> contains answer <stedelijk museum amsterdam>\n",
      "Entity <aloe vera of america> contains answer <aloe vera of america>\n",
      "Entity <sarah kerrigan> contains answer <sarah kerrigan>\n"
     ]
    },
    {
     "data": {
      "text/plain": [
       "(0.8297872340425532, 0.6972813238770686)"
      ]
     },
     "execution_count": 20,
     "metadata": {},
     "output_type": "execute_result"
    }
   ],
   "source": [
    "contain_ans = 0\n",
    "sample_cnt = 0\n",
    "f1s = []\n",
    "\n",
    "for i, sample in retrieved_triplets.items():\n",
    "    df = pd.DataFrame(sample)\n",
    "\n",
    "    df['subject'] = df['subject'].apply(lambda x: normalize(x))\n",
    "    df['object'] = df['object'].apply(lambda x: normalize(x))\n",
    "    \n",
    "    ans = normalize(ds[i]['answer'])\n",
    "    subj_obj = list(df['subject']) + list(df['object'])\n",
    "\n",
    "    if ans == \"yes\" or ans == \"no\":\n",
    "        continue\n",
    "\n",
    "    if any([ans in elem for elem in subj_obj]) or any([elem in ans for elem in subj_obj]):\n",
    "        contain_ans += 1\n",
    "\n",
    "        for elem in subj_obj:\n",
    "            if ans in elem or elem in ans:\n",
    "                f1 = compute_f1(elem, ans)\n",
    "                f1s.append(f1)\n",
    "                print(f\"Entity <{elem}> contains answer <{ans}>\")\n",
    "                break\n",
    "        \n",
    "    else:\n",
    "        max_f1 = 0\n",
    "        max_f1_entity = ''\n",
    "        for elem in subj_obj:\n",
    "            f1 = compute_f1(elem, ans)\n",
    "            if f1 > max_f1:\n",
    "                max_f1 = f1\n",
    "                max_f1_entity = elem\n",
    "        f1s.append(max_f1)\n",
    "        print(\"Does not contain \", ans)\n",
    "    sample_cnt += 1\n",
    "\n",
    "contain_ans / sample_cnt, sum(f1s)/len(f1s)"
   ]
  },
  {
   "cell_type": "code",
   "execution_count": 21,
   "metadata": {},
   "outputs": [],
   "source": [
    "lengths_1_hop = []\n",
    "props_1_hop = []\n",
    "lengths_kg = []\n",
    "\n",
    "for i, sample in retrieved_triplets.items():\n",
    "    df = pd.DataFrame(sample)\n",
    "    df = df.drop_duplicates()\n",
    "    lengths_1_hop.append(len(df))\n",
    "\n",
    "    reference_kg = pd.read_csv(f'hotpot200_res/{i}.csv', index_col=0)\n",
    "    props_1_hop.append(len(df)/len(reference_kg))\n",
    "    lengths_kg.append(len(reference_kg))\n"
   ]
  },
  {
   "cell_type": "code",
   "execution_count": 22,
   "metadata": {},
   "outputs": [
    {
     "data": {
      "image/png": "[encoded data removed]",
      "text/plain": [
       "<Figure size 640x480 with 1 Axes>"
      ]
     },
     "metadata": {},
     "output_type": "display_data"
    }
   ],
   "source": [
    "plt.hist(lengths_kg)\n",
    "plt.show()"
   ]
  },
  {
   "cell_type": "code",
   "execution_count": 23,
   "metadata": {},
   "outputs": [
    {
     "data": {
      "image/png": "[encoded data removed]",
      "text/plain": [
       "<Figure size 640x480 with 1 Axes>"
      ]
     },
     "metadata": {},
     "output_type": "display_data"
    }
   ],
   "source": [
    "plt.hist(lengths_1_hop)\n",
    "plt.show()"
   ]
  },
  {
   "cell_type": "code",
   "execution_count": 24,
   "metadata": {},
   "outputs": [
    {
     "data": {
      "image/png": "[encoded data removed]",
      "text/plain": [
       "<Figure size 640x480 with 1 Axes>"
      ]
     },
     "metadata": {},
     "output_type": "display_data"
    }
   ],
   "source": [
    "plt.hist(props_1_hop)\n",
    "plt.show()"
   ]
  },
  {
   "cell_type": "markdown",
   "metadata": {},
   "source": [
    "## 2-hop"
   ]
  },
  {
   "cell_type": "code",
   "execution_count": 25,
   "metadata": {},
   "outputs": [],
   "source": [
    "retrieved_triplets = {}\n",
    "\n",
    "for file in os.listdir('hotpot200_res'):\n",
    "    df = pd.read_csv('hotpot200_res/{}'.format(file), index_col=0)\n",
    "    idx = int(file.split('.')[0])\n",
    "\n",
    "    unique_top_entities = id2unique_top_entities[idx]\n",
    "    unique_top_entities = list(set(unique_top_entities))\n",
    "\n",
    "    triplets = df[(df['subject'].apply(lambda x: x in unique_top_entities)) | (df['object'].apply(lambda x: x in unique_top_entities))]\n",
    "    one_hop_entities = list(triplets['subject']) + list(triplets['object'])\n",
    "    one_hop_entities = set(one_hop_entities) - set(unique_top_entities)\n",
    "    one_hop_triplets = df[(df['subject'].apply(lambda x: x in one_hop_entities)) | (df['object'].apply(lambda x: x in one_hop_entities))]\n",
    "\n",
    "    two_hop_entities = list(one_hop_triplets['subject']) + list(one_hop_triplets['object'])\n",
    "\n",
    "    two_hop_entities = set(two_hop_entities) - set(one_hop_entities) - set(unique_top_entities)\n",
    "    two_hop_triplets = df[(df['subject'].apply(lambda x: x in two_hop_entities)) | (df['object'].apply(lambda x: x in two_hop_entities))]\n",
    "\n",
    "    triplets = pd.concat((triplets, one_hop_triplets, two_hop_triplets))\n",
    "\n",
    "    triplets = triplets.to_records(index=False)\n",
    "\n",
    "    retrieved_triplets[idx] = triplets\n"
   ]
  },
  {
   "cell_type": "code",
   "execution_count": 26,
   "metadata": {},
   "outputs": [
    {
     "name": "stdout",
     "output_type": "stream",
     "text": [
      "fortnightly women interest magazine\n",
      "a failed coup attempt\n",
      "2 march 1972\n",
      "pulitzer prize\n",
      "hawaii county\n",
      "german\n",
      "superregional shopping mall\n",
      "1978\n",
      "london\n",
      "chronological collection of critical quotations\n",
      "22 november\n",
      "1927\n",
      "read it and weep 2006\n",
      "velvetpark\n",
      "papa ginos\n",
      "shukratara\n",
      "captain hans geering\n",
      "frederick alexander\n"
     ]
    },
    {
     "data": {
      "text/plain": [
       "0.6170212765957447"
      ]
     },
     "execution_count": 26,
     "metadata": {},
     "output_type": "execute_result"
    }
   ],
   "source": [
    "contain_ans = 0\n",
    "sample_cnt = 0\n",
    "\n",
    "for i, sample in retrieved_triplets.items():\n",
    "    df = pd.DataFrame(sample)\n",
    "\n",
    "    df['subject'] = df['subject'].apply(lambda x: normalize(x))\n",
    "    df['object'] = df['object'].apply(lambda x: normalize(x))\n",
    "\n",
    "    ans = normalize(ds[i]['answer'])\n",
    "\n",
    "    if ans == \"yes\" or ans == \"no\":\n",
    "        continue\n",
    "\n",
    "    if len(df[(df['subject'] == ans) | (df['object'] == ans)]) > 0:\n",
    "        contain_ans += 1\n",
    "\n",
    "    else:\n",
    "        print(ans)\n",
    "    sample_cnt += 1\n",
    "\n",
    "contain_ans / sample_cnt"
   ]
  },
  {
   "cell_type": "code",
   "execution_count": 27,
   "metadata": {},
   "outputs": [
    {
     "name": "stdout",
     "output_type": "stream",
     "text": [
      "Does not contain  a failed coup attempt\n",
      "Does not contain  german\n",
      "Does not contain  london\n",
      "Does not contain  chronological collection of critical quotations\n",
      "Does not contain  captain hans geering\n"
     ]
    },
    {
     "data": {
      "text/plain": [
       "(0.8936170212765957, 0.7745862884160757)"
      ]
     },
     "execution_count": 27,
     "metadata": {},
     "output_type": "execute_result"
    }
   ],
   "source": [
    "contain_ans = 0\n",
    "sample_cnt = 0\n",
    "f1s = []\n",
    "\n",
    "for i, sample in retrieved_triplets.items():\n",
    "    df = pd.DataFrame(sample)\n",
    "\n",
    "    df['subject'] = df['subject'].apply(lambda x: normalize(x))\n",
    "    df['object'] = df['object'].apply(lambda x: normalize(x))\n",
    "    \n",
    "    ans = normalize(ds[i]['answer'])\n",
    "    subj_obj = list(df['subject']) + list(df['object'])\n",
    "\n",
    "    if ans == \"yes\" or ans == \"no\":\n",
    "        continue\n",
    "\n",
    "    if any([ans in elem for elem in subj_obj]) or any([elem in ans for elem in subj_obj]):\n",
    "        contain_ans += 1\n",
    "\n",
    "        # for elem in subj_obj:\n",
    "        #     if ans in elem or elem in ans:\n",
    "        #         print(f\"Entity <{elem}> contains answer <{ans}>\")\n",
    "        #         break\n",
    "        \n",
    "    else:\n",
    "        print(\"Does not contain \", ans)\n",
    "\n",
    "    max_f1 = 0\n",
    "    max_f1_entity = ''\n",
    "    \n",
    "    for elem in subj_obj:\n",
    "        f1 = compute_f1(elem, ans)\n",
    "        if f1 > max_f1:\n",
    "            max_f1 = f1\n",
    "            max_f1_entity = elem\n",
    "    f1s.append(max_f1)\n",
    "  \n",
    "    sample_cnt += 1\n",
    "\n",
    "contain_ans / sample_cnt, sum(f1s)/len(f1s)"
   ]
  },
  {
   "cell_type": "code",
   "execution_count": 28,
   "metadata": {},
   "outputs": [],
   "source": [
    "lengths_2_hop = []\n",
    "props_2_hop = []\n",
    "\n",
    "for i, sample in retrieved_triplets.items():\n",
    "    df = pd.DataFrame(sample)\n",
    "    df = df.drop_duplicates()\n",
    "    lengths_2_hop.append(len(df))\n",
    "\n",
    "    reference_kg = pd.read_csv(f'hotpot200_res/{i}.csv', index_col=0)\n",
    "    props_2_hop.append(len(df)/len(reference_kg))\n"
   ]
  },
  {
   "cell_type": "code",
   "execution_count": 29,
   "metadata": {},
   "outputs": [
    {
     "data": {
      "image/png": "[encoded data removed]",
      "text/plain": [
       "<Figure size 640x480 with 1 Axes>"
      ]
     },
     "metadata": {},
     "output_type": "display_data"
    }
   ],
   "source": [
    "plt.hist(lengths_2_hop)\n",
    "plt.show()"
   ]
  },
  {
   "cell_type": "code",
   "execution_count": 30,
   "metadata": {},
   "outputs": [
    {
     "data": {
      "image/png": "[encoded data removed]",
      "text/plain": [
       "<Figure size 640x480 with 1 Axes>"
      ]
     },
     "metadata": {},
     "output_type": "display_data"
    }
   ],
   "source": [
    "plt.hist(props_2_hop)\n",
    "plt.show()"
   ]
  },
  {
   "cell_type": "code",
   "execution_count": null,
   "metadata": {},
   "outputs": [],
   "source": []
  }
 ],
 "metadata": {
  "kernelspec": {
   "display_name": "venv",
   "language": "python",
   "name": "python3"
  },
  "language_info": {
   "codemirror_mode": {
    "name": "ipython",
    "version": 3
   },
   "file_extension": ".py",
   "mimetype": "text/x-python",
   "name": "python",
   "nbconvert_exporter": "python",
   "pygments_lexer": "ipython3",
   "version": "3.7.12"
  }
 },
 "nbformat": 4,
 "nbformat_minor": 2
}
