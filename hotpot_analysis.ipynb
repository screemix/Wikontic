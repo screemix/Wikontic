{
 "cells": [
  {
   "cell_type": "code",
   "execution_count": 5,
   "metadata": {},
   "outputs": [],
   "source": [
    "import pandas as pd\n",
    "import os\n",
    "import json"
   ]
  },
  {
   "cell_type": "code",
   "execution_count": 6,
   "metadata": {},
   "outputs": [],
   "source": [
    "with open(\"hotpotqa200.json\", \"r\") as f:\n",
    "    ds = json.load(f)"
   ]
  },
  {
   "cell_type": "code",
   "execution_count": 8,
   "metadata": {},
   "outputs": [
    {
     "data": {
      "text/plain": [
       "'Jonny\" Craig'"
      ]
     },
     "execution_count": 8,
     "metadata": {},
     "output_type": "execute_result"
    }
   ],
   "source": [
    "ds[1]['answer']"
   ]
  },
  {
   "cell_type": "code",
   "execution_count": 17,
   "metadata": {},
   "outputs": [
    {
     "name": "stdout",
     "output_type": "stream",
     "text": [
      "Jonny\" Craig\n",
      "fortnightly women interest magazine\n",
      "a failed coup attempt\n",
      "2 March 1972\n",
      "no\n",
      "Pulitzer Prize\n",
      "Hawaii County\n",
      "German\n",
      "super-regional shopping mall\n",
      "1978\n",
      "London\n",
      "no\n",
      "chronological collection of critical quotations\n",
      "22 November\n",
      "1927\n",
      "\"Read It and Weep\" (2006)\n",
      "Velvetpark\n",
      "Papa Gino's\n",
      "Shukratara\n",
      "Captain Hans Geering\n",
      "Frederick Alexander\n",
      "no\n"
     ]
    },
    {
     "data": {
      "text/plain": [
       "0.56"
      ]
     },
     "execution_count": 17,
     "metadata": {},
     "output_type": "execute_result"
    }
   ],
   "source": [
    "contain_ans = 0\n",
    "file_cnt = 0\n",
    "\n",
    "for file in os.listdir('hotpot200_res'):\n",
    "    df = pd.read_csv('hotpot200_res/{}'.format(file), index_col=0)\n",
    "    idx = int(file.split('.')[0])\n",
    "    ans = ds[idx]['answer']\n",
    "    if len(df[(df['subject'] == ans) | (df['object'] == ans)]) > 0:\n",
    "        contain_ans += 1\n",
    "    else:\n",
    "        print(ans)\n",
    "    file_cnt += 1\n",
    "\n",
    "contain_ans / file_cnt"
   ]
  },
  {
   "cell_type": "code",
   "execution_count": 20,
   "metadata": {},
   "outputs": [
    {
     "name": "stdout",
     "output_type": "stream",
     "text": [
      "Jonny\" Craig\n",
      "fortnightly women interest magazine\n",
      "a failed coup attempt\n",
      "German\n",
      "super-regional shopping mall\n",
      "London\n",
      "chronological collection of critical quotations\n",
      "Captain Hans Geering\n",
      "no\n"
     ]
    },
    {
     "data": {
      "text/plain": [
       "0.82"
      ]
     },
     "execution_count": 20,
     "metadata": {},
     "output_type": "execute_result"
    }
   ],
   "source": [
    "contain_ans = 0\n",
    "file_cnt = 0\n",
    "\n",
    "for file in os.listdir('hotpot200_res'):\n",
    "    df = pd.read_csv('hotpot200_res/{}'.format(file), index_col=0)\n",
    "    idx = int(file.split('.')[0])\n",
    "    ans = ds[idx]['answer']\n",
    "    subj_obj = list(df['subject']) + list(df['object'])\n",
    "\n",
    "    if any([ans in elem for elem in subj_obj]) or any([elem in ans for elem in subj_obj]):\n",
    "        contain_ans += 1\n",
    "    else:\n",
    "        print(ans)\n",
    "    file_cnt += 1\n",
    "\n",
    "contain_ans / file_cnt"
   ]
  },
  {
   "cell_type": "code",
   "execution_count": null,
   "metadata": {},
   "outputs": [],
   "source": []
  }
 ],
 "metadata": {
  "kernelspec": {
   "display_name": "venv",
   "language": "python",
   "name": "python3"
  },
  "language_info": {
   "codemirror_mode": {
    "name": "ipython",
    "version": 3
   },
   "file_extension": ".py",
   "mimetype": "text/x-python",
   "name": "python",
   "nbconvert_exporter": "python",
   "pygments_lexer": "ipython3",
   "version": "3.6.9"
  }
 },
 "nbformat": 4,
 "nbformat_minor": 2
}
