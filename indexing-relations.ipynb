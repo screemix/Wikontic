{
 "cells": [
  {
   "cell_type": "code",
   "execution_count": 1,
   "metadata": {},
   "outputs": [
    {
     "name": "stderr",
     "output_type": "stream",
     "text": [
      "/cephfs/home/chepurova/.venv/lib/python3.8/site-packages/tqdm/auto.py:21: TqdmWarning: IProgress not found. Please update jupyter and ipywidgets. See https://ipywidgets.readthedocs.io/en/stable/user_install.html\n",
      "  from .autonotebook import tqdm as notebook_tqdm\n"
     ]
    }
   ],
   "source": [
    "import json \n",
    "from tqdm import tqdm\n",
    "\n",
    "import torch\n",
    "from transformers import AutoTokenizer, AutoModel\n",
    "import numpy as np\n",
    "\n",
    "import faiss"
   ]
  },
  {
   "cell_type": "code",
   "execution_count": 2,
   "metadata": {},
   "outputs": [],
   "source": [
    "# ! wget https://huggingface.co/datasets/martinjosifoski/SynthIE/resolve/main/constrained_worlds.tar.gz\n",
    "# ! tar -zxvf constrained_worlds.tar.gz && rm constrained_worlds.tar.gz \n",
    "# ! wget https://huggingface.co/datasets/martinjosifoski/SynthIE/resolve/main/id2name_mappings.tar.gz\n",
    "# ! tar -zxvf id2name_mappings.tar.gz && rm id2name_mappings.tar.gz"
   ]
  },
  {
   "cell_type": "code",
   "execution_count": 3,
   "metadata": {},
   "outputs": [
    {
     "data": {
      "text/plain": [
       "1187"
      ]
     },
     "execution_count": 3,
     "metadata": {},
     "output_type": "execute_result"
    }
   ],
   "source": [
    "relation_mapping = {}\n",
    "with open(\"id2name_mappings/relation_mapping.jsonl\", \"r\") as f:\n",
    "    for line in f:\n",
    "        mapping = eval(line)\n",
    "        relation_mapping[mapping[\"id\"]] = mapping[\"en_label\"]\n",
    "        \n",
    "len(relation_mapping)"
   ]
  },
  {
   "cell_type": "code",
   "execution_count": 4,
   "metadata": {},
   "outputs": [
    {
     "data": {
      "text/plain": [
       "1088"
      ]
     },
     "execution_count": 4,
     "metadata": {},
     "output_type": "execute_result"
    }
   ],
   "source": [
    "relations = []\n",
    "with open(\"constrained_worlds/genie_t5_tokenizeable/relations.json\", \"r\") as f:\n",
    "    relations = json.load(f)\n",
    "len(relations)"
   ]
  },
  {
   "cell_type": "code",
   "execution_count": 5,
   "metadata": {},
   "outputs": [],
   "source": [
    "tokenizer = AutoTokenizer.from_pretrained('facebook/contriever')\n",
    "model = AutoModel.from_pretrained('facebook/contriever').to('cuda:1')"
   ]
  },
  {
   "cell_type": "code",
   "execution_count": 6,
   "metadata": {},
   "outputs": [],
   "source": [
    "def mean_pooling(token_embeddings, mask):\n",
    "    token_embeddings = token_embeddings.masked_fill(~mask[..., None].bool(), 0.)\n",
    "    sentence_embeddings = token_embeddings.sum(dim=1) / mask.sum(dim=1)[..., None]\n",
    "    return sentence_embeddings\n",
    "\n",
    "def embed_entity_batch(entity_list):\n",
    "    inputs = tokenizer(entity_list, padding=True, truncation=True, return_tensors='pt')\n",
    "\n",
    "    outputs = model(**inputs.to('cuda:1'))\n",
    "    embeddings = mean_pooling(outputs[0], inputs['attention_mask'])\n",
    "    return embeddings"
   ]
  },
  {
   "cell_type": "code",
   "execution_count": 7,
   "metadata": {},
   "outputs": [
    {
     "data": {
      "text/plain": [
       "(1187, 1187)"
      ]
     },
     "execution_count": 7,
     "metadata": {},
     "output_type": "execute_result"
    }
   ],
   "source": [
    "relation_items = list(relation_mapping.items())\n",
    "ids = [int(item[0][1:]) for item in relation_items]\n",
    "names = [item[1] for item in relation_items]\n",
    "\n",
    "len(set(ids)), len(set(names))"
   ]
  },
  {
   "cell_type": "code",
   "execution_count": 8,
   "metadata": {},
   "outputs": [
    {
     "data": {
      "text/plain": [
       "[2673, 571, 186, 1066, 453]"
      ]
     },
     "execution_count": 8,
     "metadata": {},
     "output_type": "execute_result"
    }
   ],
   "source": [
    "ids[:5]"
   ]
  },
  {
   "cell_type": "code",
   "execution_count": 9,
   "metadata": {},
   "outputs": [
    {
     "name": "stderr",
     "output_type": "stream",
     "text": [
      "100%|██████████| 12/12 [00:01<00:00,  7.90it/s]\n"
     ]
    }
   ],
   "source": [
    "embeddings = []\n",
    "batch_size = 100\n",
    "\n",
    "for i in tqdm(range(0, len(names), batch_size)):\n",
    "\n",
    "    if i + batch_size > len(names):\n",
    "        entity_list = names[i: len(names)]\n",
    "    else:\n",
    "        entity_list = names[i: i + batch_size]\n",
    "\n",
    "    embeddings.append(embed_entity_batch(entity_list).detach().to('cpu'))"
   ]
  },
  {
   "cell_type": "code",
   "execution_count": 10,
   "metadata": {},
   "outputs": [
    {
     "data": {
      "text/plain": [
       "(1187, 768)"
      ]
     },
     "execution_count": 10,
     "metadata": {},
     "output_type": "execute_result"
    }
   ],
   "source": [
    "output = np.array(torch.concat(embeddings))\n",
    "output.shape"
   ]
  },
  {
   "cell_type": "code",
   "execution_count": 11,
   "metadata": {},
   "outputs": [],
   "source": [
    "dim = output.shape[1]\n",
    "metric = faiss.METRIC_INNER_PRODUCT\n",
    "index = faiss.index_factory(dim, \"IDMap,Flat\", metric)\n",
    "\n",
    "index.add_with_ids(output, ids)"
   ]
  },
  {
   "cell_type": "code",
   "execution_count": 12,
   "metadata": {},
   "outputs": [
    {
     "name": "stdout",
     "output_type": "stream",
     "text": [
      "True\n"
     ]
    }
   ],
   "source": [
    "print(index.is_trained)"
   ]
  },
  {
   "cell_type": "code",
   "execution_count": 13,
   "metadata": {},
   "outputs": [],
   "source": [
    "distances, indices = index.search(output[100:103, :], 3)"
   ]
  },
  {
   "cell_type": "code",
   "execution_count": 14,
   "metadata": {},
   "outputs": [
    {
     "data": {
      "text/plain": [
       "(array([[2989, 3161, 1660],\n",
       "        [2923, 2151, 7863],\n",
       "        [2578, 2579, 6153]]),\n",
       " array([[1.6228969 , 1.2542918 , 1.0368476 ],\n",
       "        [1.7279    , 1.3264964 , 1.0802442 ],\n",
       "        [1.4031705 , 0.8489038 , 0.83135617]], dtype=float32))"
      ]
     },
     "execution_count": 14,
     "metadata": {},
     "output_type": "execute_result"
    }
   ],
   "source": [
    "indices, distances"
   ]
  },
  {
   "cell_type": "code",
   "execution_count": 15,
   "metadata": {},
   "outputs": [
    {
     "data": {
      "text/plain": [
       "('has grammatical case', 'has grammatical mood', 'has index case')"
      ]
     },
     "execution_count": 15,
     "metadata": {},
     "output_type": "execute_result"
    }
   ],
   "source": [
    "relation_mapping[\"P\"+str(2989)], relation_mapping[\"P\"+str(3161)], relation_mapping[\"P\"+str(1660)]"
   ]
  },
  {
   "cell_type": "code",
   "execution_count": 16,
   "metadata": {},
   "outputs": [
    {
     "data": {
      "text/plain": [
       "('focal height', 'focal length', 'aperture')"
      ]
     },
     "execution_count": 16,
     "metadata": {},
     "output_type": "execute_result"
    }
   ],
   "source": [
    "relation_mapping[\"P\"+str(2923)], relation_mapping[\"P\"+str(2151)], relation_mapping[\"P\"+str(7863)]"
   ]
  },
  {
   "cell_type": "code",
   "execution_count": 17,
   "metadata": {},
   "outputs": [
    {
     "data": {
      "text/plain": [
       "('studies', 'studied by', 'research site')"
      ]
     },
     "execution_count": 17,
     "metadata": {},
     "output_type": "execute_result"
    }
   ],
   "source": [
    "relation_mapping[\"P\"+str(2578)], relation_mapping[\"P\"+str(2579)], relation_mapping[\"P\"+str(6153)]"
   ]
  },
  {
   "cell_type": "code",
   "execution_count": 18,
   "metadata": {},
   "outputs": [
    {
     "data": {
      "text/plain": [
       "[2989, 2923, 2578]"
      ]
     },
     "execution_count": 18,
     "metadata": {},
     "output_type": "execute_result"
    }
   ],
   "source": [
    "ids[100:103]"
   ]
  },
  {
   "cell_type": "code",
   "execution_count": 19,
   "metadata": {},
   "outputs": [],
   "source": [
    "faiss.write_index(index, \"relations.index\")"
   ]
  },
  {
   "cell_type": "code",
   "execution_count": 20,
   "metadata": {},
   "outputs": [],
   "source": [
    "with open('relation_mapping.json', 'w') as f:\n",
    "    json.dump(relation_mapping, f)"
   ]
  },
  {
   "cell_type": "code",
   "execution_count": null,
   "metadata": {},
   "outputs": [],
   "source": []
  }
 ],
 "metadata": {
  "kernelspec": {
   "display_name": ".venv",
   "language": "python",
   "name": "python3"
  },
  "language_info": {
   "codemirror_mode": {
    "name": "ipython",
    "version": 3
   },
   "file_extension": ".py",
   "mimetype": "text/x-python",
   "name": "python",
   "nbconvert_exporter": "python",
   "pygments_lexer": "ipython3",
   "version": "3.8.10"
  }
 },
 "nbformat": 4,
 "nbformat_minor": 2
}
