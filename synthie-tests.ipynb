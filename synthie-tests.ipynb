{
 "cells": [
  {
   "cell_type": "code",
   "execution_count": 2,
   "metadata": {},
   "outputs": [],
   "source": [
    "import time\n",
    "import numpy as np\n",
    "from tqdm import tqdm_notebook\n",
    "import datasets\n",
    "\n",
    "import json\n",
    "import openai\n",
    "import os\n",
    "\n",
    "from utils.eval_utils import micro_precision, micro_recall\n",
    "from utils.openai_utils import LLMTripletExtractor\n",
    "from utils.index_utils import Aligner\n",
    "from utils.verifier_utils import TripletFilter\n",
    "\n",
    "import re\n",
    "import warnings\n",
    "warnings.filterwarnings('ignore')"
   ]
  },
  {
   "cell_type": "code",
   "execution_count": 3,
   "metadata": {},
   "outputs": [],
   "source": [
    "import json\n",
    "import pandas as pd\n",
    "\n",
    "metrics = {\"precision\": [], \"recall\": []}\n",
    "\n",
    "with open(\"logs_second_prompt_with_text_and_triplets100.jsonl\", 'r') as f:\n",
    "    for line in f:\n",
    "        line = json.loads(line)\n",
    "        pr = line[-1][\"aligned_precision\"]\n",
    "        pr = float(pr)\n",
    "        recall = line[-1][\"aligned_recall\"]\n",
    "        recall = float(recall)\n",
    "\n",
    "        metrics['precision'].append(pr)\n",
    "        metrics['recall'].append(recall)\n",
    "\n",
    "\n",
    "with open(\"logs_second_prompt_with_text_and_triplets150.jsonl\", 'r') as f:\n",
    "    for line in f:\n",
    "        line = json.loads(line)\n",
    "        pr = line[-1][\"aligned_precision\"]\n",
    "        pr = float(pr)\n",
    "        recall = line[-1][\"aligned_recall\"]\n",
    "        recall = float(recall)\n",
    "\n",
    "        metrics['precision'].append(pr)\n",
    "        metrics['recall'].append(recall)\n"
   ]
  },
  {
   "cell_type": "code",
   "execution_count": 19,
   "metadata": {},
   "outputs": [],
   "source": [
    "df = pd.DataFrame(metrics)"
   ]
  },
  {
   "cell_type": "code",
   "execution_count": 20,
   "metadata": {},
   "outputs": [
    {
     "data": {
      "text/plain": [
       "<AxesSubplot:>"
      ]
     },
     "execution_count": 20,
     "metadata": {},
     "output_type": "execute_result"
    },
    {
     "data": {
      "image/png": "[encoded data removed]",
      "text/plain": [
       "<Figure size 640x480 with 1 Axes>"
      ]
     },
     "metadata": {},
     "output_type": "display_data"
    }
   ],
   "source": [
    "df.recall.hist()"
   ]
  },
  {
   "cell_type": "code",
   "execution_count": 21,
   "metadata": {},
   "outputs": [
    {
     "data": {
      "text/plain": [
       "<AxesSubplot:>"
      ]
     },
     "execution_count": 21,
     "metadata": {},
     "output_type": "execute_result"
    },
    {
     "data": {
      "image/png": "[encoded data removed]",
      "text/plain": [
       "<Figure size 640x480 with 1 Axes>"
      ]
     },
     "metadata": {},
     "output_type": "display_data"
    }
   ],
   "source": [
    "df.precision.hist()"
   ]
  },
  {
   "cell_type": "code",
   "execution_count": 22,
   "metadata": {},
   "outputs": [],
   "source": [
    "from collections import Counter\n",
    "\n",
    "rel_counter = Counter()\n",
    "entity_counter = Counter()\n",
    "with open(\"logs_second_prompt_with_text_and_triplets100.jsonl\", 'r') as f:\n",
    "    for line in f:\n",
    "        line = json.loads(line)\n",
    "        pr = line[-1][\"aligned_precision\"]\n",
    "        pr = float(pr)\n",
    "\n",
    "        if pr == 0:\n",
    "            for triplet in line[-1][\"target\"]['text_triplets']:\n",
    "             rel_counter[triplet[1]] += 1\n",
    "             entity_counter[triplet[0]] += 1\n",
    "             entity_counter[triplet[2]] += 1\n",
    "\n",
    "\n",
    "with open(\"logs_second_prompt_with_text_and_triplets150.jsonl\", 'r') as f:\n",
    "    for line in f:\n",
    "        line = json.loads(line)\n",
    "        pr = line[-1][\"aligned_precision\"]\n",
    "        pr = float(pr)\n",
    "\n",
    "        if pr == 0:\n",
    "            for triplet in line[-1][\"target\"]['text_triplets']:\n",
    "             rel_counter[triplet[1]] += 1\n",
    "             entity_counter[triplet[0]] += 1\n",
    "             entity_counter[triplet[2]] += 1"
   ]
  },
  {
   "cell_type": "code",
   "execution_count": 23,
   "metadata": {},
   "outputs": [
    {
     "data": {
      "text/plain": [
       "[('instance_of', 32),\n",
       " ('country', 21),\n",
       " ('located_in_the_administrative_territorial_entity', 19),\n",
       " ('subclass_of', 6),\n",
       " ('record_label', 6),\n",
       " ('shares_border_with', 6),\n",
       " ('product_or_material_produced', 6),\n",
       " ('facet_of', 5),\n",
       " ('sport', 5),\n",
       " ('sports_season_of_league_or_competition', 5),\n",
       " ('country_of_origin', 5),\n",
       " ('performer', 5),\n",
       " ('languages_spoken,_written_or_signed', 4),\n",
       " ('winner', 4),\n",
       " ('located_in_time_zone', 4),\n",
       " ('country_for_sport', 4),\n",
       " ('for_work', 4),\n",
       " ('legal_form', 3),\n",
       " ('language_of_work_or_name', 3),\n",
       " ('named_after', 3)]"
      ]
     },
     "execution_count": 23,
     "metadata": {},
     "output_type": "execute_result"
    }
   ],
   "source": [
    "rel_counter.most_common(20)"
   ]
  },
  {
   "cell_type": "code",
   "execution_count": 25,
   "metadata": {},
   "outputs": [
    {
     "data": {
      "text/plain": [
       "[('Deira, Dubai', 10),\n",
       " ('United States', 7),\n",
       " ('Bugahyeon-dong', 6),\n",
       " ('Artigas Mausoleum', 6),\n",
       " ('Marathon Sports', 6),\n",
       " ('Student Union at the Royal Institute of Technology', 6),\n",
       " ('2010–11 Belarusian Extraliga season', 6),\n",
       " ('Isola Sacra Necropolis', 6),\n",
       " ('Bohuslávky', 6),\n",
       " ('Confessor', 5)]"
      ]
     },
     "execution_count": 25,
     "metadata": {},
     "output_type": "execute_result"
    }
   ],
   "source": [
    "entity_counter.most_common(10)"
   ]
  },
  {
   "cell_type": "code",
   "execution_count": 29,
   "metadata": {},
   "outputs": [],
   "source": [
    "aligner = Aligner(device='cuda:2')\n",
    "extractor = LLMTripletExtractor()\n",
    "triplet_filter = TripletFilter()"
   ]
  },
  {
   "cell_type": "code",
   "execution_count": 35,
   "metadata": {},
   "outputs": [
    {
     "data": {
      "text/plain": [
       "{'names': ['Is Is',\n",
       "  '.is',\n",
       "  'Isri',\n",
       "  'Isera',\n",
       "  'Isep',\n",
       "  'Isias',\n",
       "  'Isba',\n",
       "  'Where It Is',\n",
       "  'Isetta',\n",
       "  'ISCU',\n",
       "  'ISEPIC',\n",
       "  'The Ancestor',\n",
       "  'Åre',\n",
       "  'Seeks',\n",
       "  'Isin',\n",
       "  'Isín',\n",
       "  'UNESCO',\n",
       "  'Andlu',\n",
       "  'Is the Is Are',\n",
       "  'Isco',\n",
       "  'She Is',\n",
       "  'This Is a Low',\n",
       "  'Arewa',\n",
       "  'Arega',\n",
       "  'Islord',\n",
       "  'Israna',\n",
       "  'Ishar',\n",
       "  'İşbank',\n",
       "  'Ise Line',\n",
       "  'Ishi',\n",
       "  'Õle',\n",
       "  'The Only High',\n",
       "  'He Is',\n",
       "  'Gram',\n",
       "  'Andua',\n",
       "  'Isham',\n",
       "  'Iserlia',\n",
       "  'Mark Page',\n",
       "  'AirPort',\n",
       "  'Airport',\n",
       "  'Areola',\n",
       "  'Resonance',\n",
       "  'ISG15',\n",
       "  'ISDB',\n",
       "  'Prized',\n",
       "  'AREP',\n",
       "  'Isert',\n",
       "  'Acronym',\n",
       "  'Helix',\n",
       "  'Areines'],\n",
       " 'ids': ['Q3311861',\n",
       "  'Q39896',\n",
       "  'Q1753629',\n",
       "  'Q290754',\n",
       "  'Q748284',\n",
       "  'Q2495012',\n",
       "  'Q1520533',\n",
       "  'Q4019444',\n",
       "  'Q720835',\n",
       "  'Q21105385',\n",
       "  'Q5973837',\n",
       "  'Q3818640',\n",
       "  'Q271138',\n",
       "  'Q3477678',\n",
       "  'Q501259',\n",
       "  'Q735574',\n",
       "  'Q7809',\n",
       "  'Q4754511',\n",
       "  'Q21450463',\n",
       "  'Q80892',\n",
       "  'Q24273150',\n",
       "  'Q7786016',\n",
       "  'Q4789122',\n",
       "  'Q640900',\n",
       "  'Q5824718',\n",
       "  'Q30693723',\n",
       "  'Q635004',\n",
       "  'Q909613',\n",
       "  'Q6079603',\n",
       "  'Q982102',\n",
       "  'Q3463329',\n",
       "  'Q30642940',\n",
       "  'Q728879',\n",
       "  'Q41803',\n",
       "  'Q4760304',\n",
       "  'Q671980',\n",
       "  'Q20347941',\n",
       "  'Q16212688',\n",
       "  'Q697292',\n",
       "  'Q1248784',\n",
       "  'Q843533',\n",
       "  'Q172858',\n",
       "  'Q18034520',\n",
       "  'Q1198832',\n",
       "  'Q7246542',\n",
       "  'Q2819353',\n",
       "  'Q567885',\n",
       "  'Q101244',\n",
       "  'Q201717',\n",
       "  'Q1136003']}"
      ]
     },
     "execution_count": 35,
     "metadata": {},
     "output_type": "execute_result"
    }
   ],
   "source": [
    "aligner.top_similar_entities(\"is\", 50)"
   ]
  },
  {
   "cell_type": "code",
   "execution_count": 4,
   "metadata": {},
   "outputs": [],
   "source": [
    "dataset_name = 'synthie_text' # 'synthie_code', 'rebel', 'synthie_text_pc', 'synthie_code_pc', 'rebel_pc'\n",
    "split = \"test_small\" # \"train\", \"test\", \"test_small\"\n",
    "\n",
    "dataset = datasets.load_dataset(f\"martinjosifoski/SynthIE\", dataset_name, split=split)"
   ]
  },
  {
   "cell_type": "code",
   "execution_count": 5,
   "metadata": {},
   "outputs": [
    {
     "data": {
      "text/plain": [
       "{'id': 856,\n",
       " 'text': 'Harold Schwartz is a human who is a citizen of the United States.',\n",
       " 'triplets': [{'subject': \"{'surfaceform': 'Harold_Schwartz', 'uri': 'Q65568450'}\",\n",
       "   'predicate': \"{'surfaceform': 'country of citizenship', 'uri': 'P27'}\",\n",
       "   'object': \"{'surfaceform': 'United_States', 'uri': 'Q30'}\"},\n",
       "  {'subject': \"{'surfaceform': 'Harold_Schwartz', 'uri': 'Q65568450'}\",\n",
       "   'predicate': \"{'surfaceform': 'instance of', 'uri': 'P31'}\",\n",
       "   'object': \"{'surfaceform': 'Human', 'uri': 'Q5'}\"}],\n",
       " 'entities': [{'surfaceform': 'Harold_Schwartz', 'uri': 'Q65568450'},\n",
       "  {'surfaceform': 'United_States', 'uri': 'Q30'},\n",
       "  {'surfaceform': 'Human', 'uri': 'Q5'}],\n",
       " 'relations': [{'surfaceform': 'country of citizenship', 'uri': 'P27'},\n",
       "  {'surfaceform': 'instance of', 'uri': 'P31'}]}"
      ]
     },
     "execution_count": 5,
     "metadata": {},
     "output_type": "execute_result"
    }
   ],
   "source": [
    "dataset[0]"
   ]
  },
  {
   "cell_type": "code",
   "execution_count": 27,
   "metadata": {},
   "outputs": [
    {
     "name": "stderr",
     "output_type": "stream",
     "text": [
      "100%|██████████| 10000/10000 [00:02<00:00, 3505.54it/s]\n"
     ]
    }
   ],
   "source": [
    "from tqdm import tqdm\n",
    "\n",
    "entities = set()\n",
    "relations = set()\n",
    "\n",
    "for item in tqdm(dataset):\n",
    "\n",
    "    for triplet in item['triplets']:\n",
    "        entities.add(eval(triplet['subject'])['uri'])\n",
    "        entities.add(eval(triplet['object'])['uri'])\n",
    "        relations.add(eval(triplet['predicate'])['uri'])"
   ]
  },
  {
   "cell_type": "code",
   "execution_count": 28,
   "metadata": {},
   "outputs": [],
   "source": [
    "assert len(set(entities) - set(aligner.id2entity.keys())) == 0"
   ]
  },
  {
   "cell_type": "code",
   "execution_count": 29,
   "metadata": {},
   "outputs": [],
   "source": [
    "assert len(set(relations) - set(aligner.id2relation.keys())) == 0"
   ]
  },
  {
   "cell_type": "code",
   "execution_count": 30,
   "metadata": {},
   "outputs": [],
   "source": [
    "def transform_targets_syntie(sample):\n",
    "    targets = {\"text_triplets\": [], \"triplets\": []}\n",
    "    for t in sample:\n",
    "        rel = eval(t['predicate'])\n",
    "        # rel_label =  \"_\".join(rel['surfaceform'].split())\n",
    "        rel_label =  \"_\".join(rel['surfaceform'].split())\n",
    "        rel_id = rel['uri']\n",
    "        \n",
    "        head = eval(t['subject'])\n",
    "        head_label = \" \".join(head['surfaceform'].split(\"_\"))\n",
    "        head_id = head['uri']\n",
    "\n",
    "        tail =  eval(t['object'])\n",
    "        tail_label = \" \".join(tail['surfaceform'].split(\"_\"))\n",
    "        tail_id = tail['uri']\n",
    "\n",
    "        targets['text_triplets'].append((head_label, rel_label, tail_label))\n",
    "        targets['triplets'].append((head_id, rel_id, tail_id))\n",
    "\n",
    "    return targets"
   ]
  },
  {
   "cell_type": "code",
   "execution_count": 31,
   "metadata": {},
   "outputs": [],
   "source": [
    "# ## for generated triplets\n",
    "# def transform_triplets_synthie(triplets, aligner):\n",
    "\n",
    "#     triplet2triplets = {}\n",
    "#     for triplet in triplets:\n",
    "#         print(\"TRIPLET: \", triplet['subject'], triplet['relation'], triplet['object'], \"\\nCONSTRUCTED TRIPLETS: \")\n",
    "#         similar_relations = aligner.top_similar_relations(triplet['relation'])[\"ids\"]\n",
    "#         similar_subjects = aligner.top_similar_entities(triplet['subject'])[\"ids\"]\n",
    "#         similar_objects = aligner.top_similar_entities(triplet['object'])[\"ids\"]\n",
    "\n",
    "#         resulted_valid_triplets = triplet_filter.triplet_constructor(similar_relations, similar_subjects, similar_objects)\n",
    "#         triplet = (triplet['subject'], triplet['relation'], triplet['object'])\n",
    "        \n",
    "#         if len(resulted_valid_triplets) > 0:\n",
    "#             triplet2triplets[triplet] = []\n",
    "\n",
    "#             for valid_triplet in resulted_valid_triplets:\n",
    "#                 head = aligner.id2entity[valid_triplet[0]]\n",
    "#                 relation = aligner.id2relation[valid_triplet[1]]\n",
    "#                 tail = aligner.id2entity[valid_triplet[2]]\n",
    "\n",
    "#                 triplet2triplets[triplet].append((head, relation, tail))\n",
    "\n",
    "#                 print(head, relation, tail)\n",
    "#         print()\n",
    "        \n"
   ]
  },
  {
   "cell_type": "code",
   "execution_count": 32,
   "metadata": {},
   "outputs": [],
   "source": [
    "# extract triplets in the format to calculate metrics properly, no entity aligning\n",
    "def transform_results(results):\n",
    "    transformed_results = []\n",
    "    results = json.loads(results)\n",
    "\n",
    "    for res in results:\n",
    "        rel = res['relation']\n",
    "        rel = \" \".join(rel.split(\"_\"))\n",
    "        head, tail = res['subject'], res['object']\n",
    "        transformed_results.append((head, rel, tail))\n",
    "    \n",
    "    return transformed_results"
   ]
  },
  {
   "cell_type": "code",
   "execution_count": 33,
   "metadata": {},
   "outputs": [],
   "source": [
    "def align_results(results, aligner):\n",
    "    transformed_result_ids = []\n",
    "    transformed_results = []\n",
    "    filtered_triplets = []\n",
    "    results = json.loads(results)\n",
    "\n",
    "    print(\"UNPROCESSED RESULTS\", \"\\n\", results)\n",
    "    \n",
    "\n",
    "    for res in results:\n",
    "        rel = res['relation']\n",
    "        rel = \" \".join(rel.split(\"_\"))\n",
    "        head, tail = res['subject'], res['object']\n",
    "\n",
    "        if (rel in aligner.relation2id) and (head in aligner.entity2id) and (tail in aligner.entity2id):\n",
    "            rel_id = aligner.relation2id[rel]\n",
    "            head_id = aligner.entity2id[head]\n",
    "            tail_id = aligner.entity2id[tail]\n",
    "\n",
    "            if triplet_filter.check_triplet_validity(head_id, rel_id, tail_id):\n",
    "        \n",
    "                transformed_result_ids.append((head_id, rel_id, tail_id))\n",
    "                transformed_results.append((head, rel, tail))\n",
    "\n",
    "            elif triplet_filter.check_triplet_validity(tail_id, rel_id, head_id):\n",
    "                transformed_result_ids.append((tail_id, rel_id, head_id))\n",
    "                transformed_results.append((tail_id, rel_id, head_id))\n",
    "            \n",
    "            else:\n",
    "                filtered_triplets.append((head, rel, tail))\n",
    "                \n",
    "        else:\n",
    "            filtered_triplets.append((head, rel, tail))\n",
    "            # similar_rel = aligner.top_similar_relations(rel, k=1)[0]\n",
    "            # rel = similar_rel\n",
    "            # rel_id = aligner.relation2id[similar_rel]\n",
    "\n",
    "            # similar_head = aligner.top_similar_entities(head, k=1)[0]\n",
    "            # head = similar_head\n",
    "            # head_id = aligner.entity2id[similar_head]\n",
    "\n",
    "            # similar_tail = aligner.top_similar_entities(tail, k=1)[0]\n",
    "            # tail = similar_tail\n",
    "            # tail_id = aligner.entity2id[similar_tail]\n",
    "\n",
    "    print(\"PROCESSED RESULT: \", transformed_results)\n",
    "    print(\"FILTERED TRIPLETS: \", filtered_triplets)\n",
    "        \n",
    "    return transformed_result_ids"
   ]
  },
  {
   "cell_type": "code",
   "execution_count": 34,
   "metadata": {},
   "outputs": [
    {
     "data": {
      "text/plain": [
       "array([9376, 5439,  127, 2766, 8962, 8989, 6575, 8577, 1802,  389, 2971,\n",
       "       4731, 7418, 9210, 7157, 3708, 5584, 8479, 7609, 4017, 1149, 9792,\n",
       "       3425, 5458, 2568, 7148, 1213, 2608, 6290, 3847, 2311, 2276,  399,\n",
       "       8486, 6374, 6968, 2966,  373, 5114, 4274, 5563, 9549, 8407, 1735,\n",
       "       4983, 2469, 4286, 4104, 8524, 5186])"
      ]
     },
     "execution_count": 34,
     "metadata": {},
     "output_type": "execute_result"
    }
   ],
   "source": [
    "random_items = np.random.choice(list(range(0, len(dataset))), size=50, replace=False, )\n",
    "random_items"
   ]
  },
  {
   "cell_type": "code",
   "execution_count": 12,
   "metadata": {},
   "outputs": [
    {
     "name": "stdout",
     "output_type": "stream",
     "text": [
      "TEXT: Harold Schwartz is a human who is a citizen of the United States.\n"
     ]
    },
    {
     "name": "stderr",
     "output_type": "stream",
     "text": [
      "DEBUG:openai._base_client:Request options: {'method': 'post', 'url': '/chat/completions', 'files': None, 'json_data': {'messages': [{'role': 'system', 'content': 'You are an algorithm designed for extracting facts from text in a structured format to build a knowledge graph. Knowledge graph consists of set of triplets. Each triplet contains two entities (subject and object) and one relation that connects these subject and object. Entities represent nodes in knowledge graph, while relation represents a link between these two nodes. \\nSubjects and objects could be named entities or concepts describing a group of people, event or abstract object from Wikidata knowledge graph. \\nYou will be provided with the text entitled as \"Text:\". You are expected to output only the list of identified triplets in a json format as a list of triplets. Each triplet should have fields \"subject\", \"relation\", and \"object\" for subject, relation, and object correspondingly. \\n\\n<example>\\nInput:\\nText: Albert Einstein, born in Germany, is known for developing the relativity theory\\n\\nOutput:\\n[\\n    {\\n        \"subject\": \"Albert Einstein\",\\n        \"relation\": \"place_of_birth\",\\n        \"object\": \"Germany\"\\n    },\\n    {\\n        \"subject\": \"Albert Einstein\",\\n        \"relation\": \"work\",\\n        \"object\": \"relativity theory\"\\n    }\\n]\\n</example>'}, {'role': 'user', 'content': 'Text:\\nHarold Schwartz is a human who is a citizen of the United States.'}], 'model': 'gpt-3.5-turbo', 'temperature': 0}}\n",
      "DEBUG:httpcore.connection:connect_tcp.started host='openai.deeppavlov.ai' port=443 local_address=None timeout=5.0 socket_options=None\n",
      "DEBUG:httpcore.connection:connect_tcp.complete return_value=<httpcore._backends.sync.SyncStream object at 0x7f6fe40898e0>\n",
      "DEBUG:httpcore.connection:start_tls.started ssl_context=<ssl.SSLContext object at 0x7f70e3432440> server_hostname='openai.deeppavlov.ai' timeout=5.0\n",
      "DEBUG:httpcore.connection:start_tls.complete return_value=<httpcore._backends.sync.SyncStream object at 0x7f6fe4089310>\n",
      "DEBUG:httpcore.http11:send_request_headers.started request=<Request [b'POST']>\n",
      "DEBUG:httpcore.http11:send_request_headers.complete\n",
      "DEBUG:httpcore.http11:send_request_body.started request=<Request [b'POST']>\n",
      "DEBUG:httpcore.http11:send_request_body.complete\n",
      "DEBUG:httpcore.http11:receive_response_headers.started request=<Request [b'POST']>\n",
      "DEBUG:httpcore.http11:receive_response_headers.complete return_value=(b'HTTP/1.1', 200, b'OK', [(b'Server', b'nginx'), (b'Date', b'Thu, 18 Apr 2024 16:24:37 GMT'), (b'Content-Type', b'application/json'), (b'Transfer-Encoding', b'chunked'), (b'Connection', b'keep-alive'), (b'Keep-Alive', b'timeout=20'), (b'access-control-allow-origin', b'*'), (b'Cache-Control', b'no-cache, must-revalidate'), (b'openai-model', b'gpt-3.5-turbo-0125'), (b'openai-organization', b'user-lafzdq3zadvnkudihgsmrbg5'), (b'openai-processing-ms', b'2969'), (b'openai-version', b'2020-10-01'), (b'strict-transport-security', b'max-age=15724800; includeSubDomains'), (b'x-ratelimit-limit-requests', b'10000'), (b'x-ratelimit-limit-tokens', b'2000000'), (b'x-ratelimit-remaining-requests', b'9999'), (b'x-ratelimit-remaining-tokens', b'1999673'), (b'x-ratelimit-reset-requests', b'6ms'), (b'x-ratelimit-reset-tokens', b'9ms'), (b'x-request-id', b'req_b2392be7539f11576bfe6933e845abc7'), (b'CF-Cache-Status', b'DYNAMIC'), (b'Set-Cookie', b'__cf_bm=bzD7TpCXv0GY2A0jGHUFHOvACMdeGNC6ktoQHIm5_i0-1713457477-1.0.1.1-U2.bqWkQQPgUXJ._GspncwFoBHVRWc.3Rq7QPUnwclh_HCFc4E_1kJmfSiwjCyRVrQtire2Fe8lJRa5G9n1y_w; path=/; expires=Thu, 18-Apr-24 16:54:37 GMT; domain=.api.openai.com; HttpOnly; Secure; SameSite=None'), (b'Set-Cookie', b'_cfuvid=iB7kWyVKvyNM54WnKfX_QRKsSQ1GO57b4VPBLE.52n4-1713457477983-0.0.1.1-604800000; path=/; domain=.api.openai.com; HttpOnly; Secure; SameSite=None'), (b'CF-RAY', b'87660181c944995a-FRA'), (b'Content-Encoding', b'gzip'), (b'alt-svc', b'h3=\":443\"; ma=86400'), (b'X-Cache-Status', b'MISS')])\n",
      "INFO:httpx:HTTP Request: POST https://openai.deeppavlov.ai/v1/chat/completions \"HTTP/1.1 200 OK\"\n",
      "DEBUG:httpcore.http11:receive_response_body.started request=<Request [b'POST']>\n",
      "DEBUG:httpcore.http11:receive_response_body.complete\n",
      "DEBUG:httpcore.http11:response_closed.started\n",
      "DEBUG:httpcore.http11:response_closed.complete\n",
      "DEBUG:openai._base_client:HTTP Request: POST https://openai.deeppavlov.ai/v1/chat/completions \"200 OK\"\n",
      "DEBUG:openai._base_client:Request options: {'method': 'post', 'url': '/chat/completions', 'files': None, 'json_data': {'messages': [{'role': 'system', 'content': 'You are an algorithm designed for extracting facts from text in a structured format to build a knowledge graph. Knowledge graph consists of set of triplets. Each triplet contains two entities (subject and object) and one relation that connects these subject and object. Entities represent nodes in knowledge graph, while relation represents a link between these two nodes. \\nSubjects and objects could be named entities or concepts describing a group of people, event or abstract object from Wikidata knowledge graph. \\nYou will be provided with the text entitled as \"Text:\". You are expected to output only the list of identified triplets in a json format as a list of triplets. Each triplet should have fields \"subject\", \"relation\", and \"object\" for subject, relation, and object correspondingly. \\n\\n<example>\\nInput:\\nText: Albert Einstein, born in Germany, is known for developing the relativity theory\\n\\nOutput:\\n[\\n    {\\n        \"subject\": \"Albert Einstein\",\\n        \"relation\": \"place_of_birth\",\\n        \"object\": \"Germany\"\\n    },\\n    {\\n        \"subject\": \"Albert Einstein\",\\n        \"relation\": \"work\",\\n        \"object\": \"relativity theory\"\\n    }\\n]\\n</example>'}, {'role': 'user', 'content': 'Text:\\nHarold Schwartz is a human who is a citizen of the United States.'}, {'role': 'assistant', 'content': '[\\n    {\\n        \"subject\": \"Harold Schwartz\",\\n        \"relation\": \"nationality\",\\n        \"object\": \"United States\"\\n    },\\n    {\\n        \"subject\": \"Harold Schwartz\",\\n        \"relation\": \"instance_of\",\\n        \"object\": \"human\"\\n    }\\n]'}, {'role': 'system', 'content': 'For each relation and entity from triplets obtained on the previous step you will be provided with corresponding 5 exact names of similar relation/entity from Wikidata knowledge graph.\\nThe format of input is following: ```\\n                    Mapping of top-5 similar relations from Wikidata:\\n                    \"extracted_relation_1: [exact_relation_1_1, ..., exact_relation_1_5] \\\\n ... \\\\n extracted_relation_n: [exact_relation_n_1, ..., exact_relation_n_5] \\\\n\\\\n\\n                    Mapping of top-5 similar entities from Wikidata:\\n                     \"extracted_entity_1: [exact_entity_1_1, ..., exact_entity_1_5] \\\\n ... \\\\n extracted_entity_n: [exact_entity_n_1, ..., exact_entity_n_5].\\n                    ```\\nFor each entity and relation from the extracted triplets you should choose one most probable name only from the list of 5 probable ones that better match each triplet and the context of the previously demonstrated text.\\nAs the output provide the list of updated triplets in json format, but instead of previosly extracted names of relations and entities use the chosen ones from provided list of similar names.\\n\\n<example>\\n\\nInput:                     \\nMapping of top-5 similar relations from Wikidata:\\nborn_in: place_of_birth, elected_in, birthday, introduced_in, birth_name\\nwork: in_work, for_work, present_in_work, notable_work, applies_to_work\\n                     \\nMapping of top-5 similar entities from Wikidata:\\nAlbert Einstein: Albert Einstein, Alfred Einstein, Hans Einstein, Albert Einstein Israelite Hospital, Albert Einstein Medal\\nGermany: Germany, West Germany, Germans, German Empire, Weimar Republic \\nrelativity theory: Relativity Theory of Protons and Electrons, theory of relativity, special relativity, Physical Interpretation of Relativity Theory\\n\\nOutput:\\n[\\n    {\\n        \"subject\": \"Albert Einstein\",\\n        \"relation\": \"place_of_birth\",\\n        \"object\": \"Germany\"\\n    },\\n    {\\n        \"subject\": \"Albert Einstein\",\\n        \"relation\": \"notable_work\",\\n        \"object\": \"Theory of relativity\"\\n    }\\n]\\n\\n<example>\\'\\'\\''}, {'role': 'user', 'content': 'Mapping of top-5 similar relations from Wikidata:\\nnationality: country of citizenship, country of origin, native language, date of birth, place of birth\\ninstance_of: is metaclass for, has index case, index case of, instance of, has grammatical case\\n\\nMapping of top-5 similar entities from Wikidata:\\nHarold Schwartz: Harold Schwartz, Morris Schwartz, Jerome Schwartz, Paul Schwartz, Irving Schwartz\\nHarold Schwartz: Harold Schwartz, Morris Schwartz, Jerome Schwartz, Paul Schwartz, Irving Schwartz\\nUnited States: United States, United Residents, The United, United Kingdom, United Republic\\nhuman: Human, Humanos, Human Is, Human Entertainment, Humanin'}], 'model': 'gpt-3.5-turbo', 'temperature': 0}}\n",
      "DEBUG:httpcore.http11:send_request_headers.started request=<Request [b'POST']>\n",
      "DEBUG:httpcore.http11:send_request_headers.complete\n",
      "DEBUG:httpcore.http11:send_request_body.started request=<Request [b'POST']>\n",
      "DEBUG:httpcore.http11:send_request_body.complete\n",
      "DEBUG:httpcore.http11:receive_response_headers.started request=<Request [b'POST']>\n"
     ]
    },
    {
     "name": "stdout",
     "output_type": "stream",
     "text": [
      "Mapping of top-5 similar relations from Wikidata:\n",
      "nationality: country of citizenship, country of origin, native language, date of birth, place of birth\n",
      "instance_of: is metaclass for, has index case, index case of, instance of, has grammatical case\n",
      "\n",
      "Mapping of top-5 similar entities from Wikidata:\n",
      "Harold Schwartz: Harold Schwartz, Morris Schwartz, Jerome Schwartz, Paul Schwartz, Irving Schwartz\n",
      "Harold Schwartz: Harold Schwartz, Morris Schwartz, Jerome Schwartz, Paul Schwartz, Irving Schwartz\n",
      "United States: United States, United Residents, The United, United Kingdom, United Republic\n",
      "human: Human, Humanos, Human Is, Human Entertainment, Humanin\n"
     ]
    },
    {
     "name": "stderr",
     "output_type": "stream",
     "text": [
      "DEBUG:httpcore.http11:receive_response_headers.complete return_value=(b'HTTP/1.1', 200, b'OK', [(b'Server', b'nginx'), (b'Date', b'Thu, 18 Apr 2024 16:24:45 GMT'), (b'Content-Type', b'application/json'), (b'Transfer-Encoding', b'chunked'), (b'Connection', b'keep-alive'), (b'Keep-Alive', b'timeout=20'), (b'access-control-allow-origin', b'*'), (b'Cache-Control', b'no-cache, must-revalidate'), (b'openai-model', b'gpt-3.5-turbo-0125'), (b'openai-organization', b'user-lafzdq3zadvnkudihgsmrbg5'), (b'openai-processing-ms', b'2310'), (b'openai-version', b'2020-10-01'), (b'strict-transport-security', b'max-age=15724800; includeSubDomains'), (b'x-ratelimit-limit-requests', b'10000'), (b'x-ratelimit-limit-tokens', b'2000000'), (b'x-ratelimit-remaining-requests', b'9999'), (b'x-ratelimit-remaining-tokens', b'1998937'), (b'x-ratelimit-reset-requests', b'6ms'), (b'x-ratelimit-reset-tokens', b'31ms'), (b'x-request-id', b'req_d912e0805f4360689ccb6e47929ad4d9'), (b'CF-Cache-Status', b'DYNAMIC'), (b'Set-Cookie', b'__cf_bm=k.yucXVv7bGy.KG7rtmUy35PVwzvyCoJ_gOgbtedjYs-1713457485-1.0.1.1-FqBhICHTi.LF15_ABi9aEUJRl7PyHv8zdVWthKWFV1nDR6GZAqFoQNU_zhe2qCgeJDKEeLyGuDpctIW6BuKzNw; path=/; expires=Thu, 18-Apr-24 16:54:45 GMT; domain=.api.openai.com; HttpOnly; Secure; SameSite=None'), (b'Set-Cookie', b'_cfuvid=jA.PFhiku.nnNbiqCdj3IHCsVGvz1wc2f3Qf9xA3PGY-1713457485168-0.0.1.1-604800000; path=/; domain=.api.openai.com; HttpOnly; Secure; SameSite=None'), (b'CF-RAY', b'876601b29dc91907-FRA'), (b'Content-Encoding', b'gzip'), (b'alt-svc', b'h3=\":443\"; ma=86400'), (b'X-Cache-Status', b'MISS')])\n",
      "INFO:httpx:HTTP Request: POST https://openai.deeppavlov.ai/v1/chat/completions \"HTTP/1.1 200 OK\"\n",
      "DEBUG:httpcore.http11:receive_response_body.started request=<Request [b'POST']>\n",
      "DEBUG:httpcore.http11:receive_response_body.complete\n",
      "DEBUG:httpcore.http11:response_closed.started\n",
      "DEBUG:httpcore.http11:response_closed.complete\n",
      "DEBUG:openai._base_client:HTTP Request: POST https://openai.deeppavlov.ai/v1/chat/completions \"200 OK\"\n"
     ]
    },
    {
     "name": "stdout",
     "output_type": "stream",
     "text": [
      "UNPROCESSED RESULTS \n",
      " [{'subject': 'Harold Schwartz', 'relation': 'country of citizenship', 'object': 'United States'}, {'subject': 'Harold Schwartz', 'relation': 'instance of', 'object': 'Human'}]\n",
      "PROCESSED RESULT:  [('Harold Schwartz', 'country of citizenship', 'United States'), ('Harold Schwartz', 'instance of', 'Human')]\n",
      "FILTERED TRIPLETS:  []\n",
      "TARGETS: [('Harold Schwartz', 'country_of_citizenship', 'United States'), ('Harold Schwartz', 'instance_of', 'Human')]\n",
      "\n",
      "TEXT: Nate Blackwell was born in Philadelphia, Pennsylvania. He is a professional basketball player in the National Basketball Association and was educated at Temple University. His native language is English. Philadelphia County, Pennsylvania is coextensive with Philadelphia and shares a border with Lower Moreland Township, Montgomery County, Pennsylvania.\n"
     ]
    },
    {
     "name": "stderr",
     "output_type": "stream",
     "text": [
      "DEBUG:openai._base_client:Request options: {'method': 'post', 'url': '/chat/completions', 'files': None, 'json_data': {'messages': [{'role': 'system', 'content': 'You are an algorithm designed for extracting facts from text in a structured format to build a knowledge graph. Knowledge graph consists of set of triplets. Each triplet contains two entities (subject and object) and one relation that connects these subject and object. Entities represent nodes in knowledge graph, while relation represents a link between these two nodes. \\nSubjects and objects could be named entities or concepts describing a group of people, event or abstract object from Wikidata knowledge graph. \\nYou will be provided with the text entitled as \"Text:\". You are expected to output only the list of identified triplets in a json format as a list of triplets. Each triplet should have fields \"subject\", \"relation\", and \"object\" for subject, relation, and object correspondingly. \\n\\n<example>\\nInput:\\nText: Albert Einstein, born in Germany, is known for developing the relativity theory\\n\\nOutput:\\n[\\n    {\\n        \"subject\": \"Albert Einstein\",\\n        \"relation\": \"place_of_birth\",\\n        \"object\": \"Germany\"\\n    },\\n    {\\n        \"subject\": \"Albert Einstein\",\\n        \"relation\": \"work\",\\n        \"object\": \"relativity theory\"\\n    }\\n]\\n</example>'}, {'role': 'user', 'content': 'Text:\\nNate Blackwell was born in Philadelphia, Pennsylvania. He is a professional basketball player in the National Basketball Association and was educated at Temple University. His native language is English. Philadelphia County, Pennsylvania is coextensive with Philadelphia and shares a border with Lower Moreland Township, Montgomery County, Pennsylvania.'}], 'model': 'gpt-3.5-turbo', 'temperature': 0}}\n",
      "DEBUG:httpcore.http11:send_request_headers.started request=<Request [b'POST']>\n",
      "DEBUG:httpcore.http11:send_request_headers.complete\n",
      "DEBUG:httpcore.http11:send_request_body.started request=<Request [b'POST']>\n",
      "DEBUG:httpcore.http11:send_request_body.complete\n",
      "DEBUG:httpcore.http11:receive_response_headers.started request=<Request [b'POST']>\n",
      "DEBUG:httpcore.http11:receive_response_headers.complete return_value=(b'HTTP/1.1', 200, b'OK', [(b'Server', b'nginx'), (b'Date', b'Thu, 18 Apr 2024 16:24:52 GMT'), (b'Content-Type', b'application/json'), (b'Transfer-Encoding', b'chunked'), (b'Connection', b'keep-alive'), (b'Keep-Alive', b'timeout=20'), (b'access-control-allow-origin', b'*'), (b'Cache-Control', b'no-cache, must-revalidate'), (b'openai-model', b'gpt-3.5-turbo-0125'), (b'openai-organization', b'user-lafzdq3zadvnkudihgsmrbg5'), (b'openai-processing-ms', b'6312'), (b'openai-version', b'2020-10-01'), (b'strict-transport-security', b'max-age=15724800; includeSubDomains'), (b'x-ratelimit-limit-requests', b'10000'), (b'x-ratelimit-limit-tokens', b'2000000'), (b'x-ratelimit-remaining-requests', b'9999'), (b'x-ratelimit-remaining-tokens', b'1999602'), (b'x-ratelimit-reset-requests', b'6ms'), (b'x-ratelimit-reset-tokens', b'11ms'), (b'x-request-id', b'req_273c7d9101b15c0e3091c70cbf9b0404'), (b'CF-Cache-Status', b'DYNAMIC'), (b'Set-Cookie', b'__cf_bm=atMUfV4niA7ukTiZuvGyN4NMvV8sLWxnOIpVoj8v3eM-1713457492-1.0.1.1-ks4aY1YO1PaLTc9wlzvaCJ4D2Jcvuw08nyzDM86_Xgw9U28vNKJ5_VTkPkxjMwIrQ7rHqfzkl0EqZLzJX7o9wA; path=/; expires=Thu, 18-Apr-24 16:54:52 GMT; domain=.api.openai.com; HttpOnly; Secure; SameSite=None'), (b'Set-Cookie', b'_cfuvid=Nr3YS3SM78l36Mw96U5aqBU2V15DOcxQ_yiGVtRqd14-1713457492972-0.0.1.1-604800000; path=/; domain=.api.openai.com; HttpOnly; Secure; SameSite=None'), (b'CF-RAY', b'876601ca7d142c3f-FRA'), (b'Content-Encoding', b'gzip'), (b'alt-svc', b'h3=\":443\"; ma=86400'), (b'X-Cache-Status', b'MISS')])\n",
      "INFO:httpx:HTTP Request: POST https://openai.deeppavlov.ai/v1/chat/completions \"HTTP/1.1 200 OK\"\n",
      "DEBUG:httpcore.http11:receive_response_body.started request=<Request [b'POST']>\n",
      "DEBUG:httpcore.http11:receive_response_body.complete\n",
      "DEBUG:httpcore.http11:response_closed.started\n",
      "DEBUG:httpcore.http11:response_closed.complete\n",
      "DEBUG:openai._base_client:HTTP Request: POST https://openai.deeppavlov.ai/v1/chat/completions \"200 OK\"\n",
      "DEBUG:openai._base_client:Request options: {'method': 'post', 'url': '/chat/completions', 'files': None, 'json_data': {'messages': [{'role': 'system', 'content': 'You are an algorithm designed for extracting facts from text in a structured format to build a knowledge graph. Knowledge graph consists of set of triplets. Each triplet contains two entities (subject and object) and one relation that connects these subject and object. Entities represent nodes in knowledge graph, while relation represents a link between these two nodes. \\nSubjects and objects could be named entities or concepts describing a group of people, event or abstract object from Wikidata knowledge graph. \\nYou will be provided with the text entitled as \"Text:\". You are expected to output only the list of identified triplets in a json format as a list of triplets. Each triplet should have fields \"subject\", \"relation\", and \"object\" for subject, relation, and object correspondingly. \\n\\n<example>\\nInput:\\nText: Albert Einstein, born in Germany, is known for developing the relativity theory\\n\\nOutput:\\n[\\n    {\\n        \"subject\": \"Albert Einstein\",\\n        \"relation\": \"place_of_birth\",\\n        \"object\": \"Germany\"\\n    },\\n    {\\n        \"subject\": \"Albert Einstein\",\\n        \"relation\": \"work\",\\n        \"object\": \"relativity theory\"\\n    }\\n]\\n</example>'}, {'role': 'user', 'content': 'Text:\\nNate Blackwell was born in Philadelphia, Pennsylvania. He is a professional basketball player in the National Basketball Association and was educated at Temple University. His native language is English. Philadelphia County, Pennsylvania is coextensive with Philadelphia and shares a border with Lower Moreland Township, Montgomery County, Pennsylvania.'}, {'role': 'assistant', 'content': '[\\n    {\\n        \"subject\": \"Nate Blackwell\",\\n        \"relation\": \"place_of_birth\",\\n        \"object\": \"Philadelphia, Pennsylvania\"\\n    },\\n    {\\n        \"subject\": \"Nate Blackwell\",\\n        \"relation\": \"occupation\",\\n        \"object\": \"professional basketball player\"\\n    },\\n    {\\n        \"subject\": \"Nate Blackwell\",\\n        \"relation\": \"organization\",\\n        \"object\": \"National Basketball Association\"\\n    },\\n    {\\n        \"subject\": \"Nate Blackwell\",\\n        \"relation\": \"education\",\\n        \"object\": \"Temple University\"\\n    },\\n    {\\n        \"subject\": \"Nate Blackwell\",\\n        \"relation\": \"native_language\",\\n        \"object\": \"English\"\\n    },\\n    {\\n        \"subject\": \"Philadelphia County, Pennsylvania\",\\n        \"relation\": \"coextensive_with\",\\n        \"object\": \"Philadelphia\"\\n    },\\n    {\\n        \"subject\": \"Philadelphia County, Pennsylvania\",\\n        \"relation\": \"shares_border_with\",\\n        \"object\": \"Lower Moreland Township, Montgomery County, Pennsylvania\"\\n    }\\n]'}, {'role': 'system', 'content': 'For each relation and entity from triplets obtained on the previous step you will be provided with corresponding 5 exact names of similar relation/entity from Wikidata knowledge graph.\\nThe format of input is following: ```\\n                    Mapping of top-5 similar relations from Wikidata:\\n                    \"extracted_relation_1: [exact_relation_1_1, ..., exact_relation_1_5] \\\\n ... \\\\n extracted_relation_n: [exact_relation_n_1, ..., exact_relation_n_5] \\\\n\\\\n\\n                    Mapping of top-5 similar entities from Wikidata:\\n                     \"extracted_entity_1: [exact_entity_1_1, ..., exact_entity_1_5] \\\\n ... \\\\n extracted_entity_n: [exact_entity_n_1, ..., exact_entity_n_5].\\n                    ```\\nFor each entity and relation from the extracted triplets you should choose one most probable name only from the list of 5 probable ones that better match each triplet and the context of the previously demonstrated text.\\nAs the output provide the list of updated triplets in json format, but instead of previosly extracted names of relations and entities use the chosen ones from provided list of similar names.\\n\\n<example>\\n\\nInput:                     \\nMapping of top-5 similar relations from Wikidata:\\nborn_in: place_of_birth, elected_in, birthday, introduced_in, birth_name\\nwork: in_work, for_work, present_in_work, notable_work, applies_to_work\\n                     \\nMapping of top-5 similar entities from Wikidata:\\nAlbert Einstein: Albert Einstein, Alfred Einstein, Hans Einstein, Albert Einstein Israelite Hospital, Albert Einstein Medal\\nGermany: Germany, West Germany, Germans, German Empire, Weimar Republic \\nrelativity theory: Relativity Theory of Protons and Electrons, theory of relativity, special relativity, Physical Interpretation of Relativity Theory\\n\\nOutput:\\n[\\n    {\\n        \"subject\": \"Albert Einstein\",\\n        \"relation\": \"place_of_birth\",\\n        \"object\": \"Germany\"\\n    },\\n    {\\n        \"subject\": \"Albert Einstein\",\\n        \"relation\": \"notable_work\",\\n        \"object\": \"Theory of relativity\"\\n    }\\n]\\n\\n<example>\\'\\'\\''}, {'role': 'user', 'content': 'Mapping of top-5 similar relations from Wikidata:\\nplace_of_birth: place of birth, place of death, date of birth, place of burial, date of baptism in early childhood\\noccupation: occupation, field of this occupation, enclave within, territory claimed by, residence\\norganization: office held by head of the organization, parent organization, student organization of, organization directed by the office or position, organizer\\neducation: educational stage, student, academic degree, grants, school of\\nnative_language: native language, name in native language, language regulatory body, original language of film or TV show, official language\\ncoextensive_with: coextensive with, linguistic typology, generalization of, partially coincident with, grammatical option indicates\\nshares_border_with: shares border with, territory overlaps, has boundary, graph radius, central bank/issuer\\n\\nMapping of top-5 similar entities from Wikidata:\\nNate Blackwell: Nate Blackwell, Cory Blackwell, Nick Blackwell, Luke Blackwell, Bubba Blackwell\\nNate Blackwell: Nate Blackwell, Cory Blackwell, Nick Blackwell, Luke Blackwell, Bubba Blackwell\\nNate Blackwell: Nate Blackwell, Cory Blackwell, Nick Blackwell, Luke Blackwell, Bubba Blackwell\\nNate Blackwell: Nate Blackwell, Cory Blackwell, Nick Blackwell, Luke Blackwell, Bubba Blackwell\\nNate Blackwell: Nate Blackwell, Cory Blackwell, Nick Blackwell, Luke Blackwell, Bubba Blackwell\\nPhiladelphia County, Pennsylvania: Philadelphia County, Pennsylvania, Montgomery County, Pennsylvania, Delaware County, Pennsylvania, Bucks County, Pennsylvania, Philadelphia\\nPhiladelphia County, Pennsylvania: Philadelphia County, Pennsylvania, Montgomery County, Pennsylvania, Delaware County, Pennsylvania, Bucks County, Pennsylvania, Philadelphia\\nPhiladelphia, Pennsylvania: Kensington, Philadelphia, Bridesburg, Philadelphia, Philadelphia, Fishtown, Philadelphia, Franklintown, Philadelphia\\nprofessional basketball player: World Basketball League, \"NCAA Mens Basketball All-Americans\", NBA draft, Bill Blair (basketball), World Basketball Association\\nNational Basketball Association: National Basketball Association, National Basketball Players Association, Continental Basketball Association, National Basketball Conference, National Athletic Basketball League\\nTemple University: Temple University, Temple University Hospital, Temple College, Temple University School of Pharmacy, Temple University Graduate Students Association\\nEnglish: British English, English language, Des English, English Opening, American English\\nPhiladelphia: Philadelphia, Philadelphia Club, Kensington, Philadelphia, Germantown, Philadelphia, Philadelphia Carey\\nLower Moreland Township, Montgomery County, Pennsylvania: Lower Moreland Township, Montgomery County, Pennsylvania, Upper Moreland Township, Montgomery County, Pennsylvania, Lower Frederick Township, Montgomery County, Pennsylvania, Lessland, Lower Providence Township, Montgomery County, Pennsylvania'}], 'model': 'gpt-3.5-turbo', 'temperature': 0}}\n",
      "DEBUG:httpcore.connection:close.started\n",
      "DEBUG:httpcore.connection:close.complete\n",
      "DEBUG:httpcore.connection:connect_tcp.started host='openai.deeppavlov.ai' port=443 local_address=None timeout=5.0 socket_options=None\n",
      "DEBUG:httpcore.connection:connect_tcp.complete return_value=<httpcore._backends.sync.SyncStream object at 0x7f6fd5f86f40>\n",
      "DEBUG:httpcore.connection:start_tls.started ssl_context=<ssl.SSLContext object at 0x7f70e3432440> server_hostname='openai.deeppavlov.ai' timeout=5.0\n",
      "DEBUG:httpcore.connection:start_tls.complete return_value=<httpcore._backends.sync.SyncStream object at 0x7f7024eed430>\n",
      "DEBUG:httpcore.http11:send_request_headers.started request=<Request [b'POST']>\n",
      "DEBUG:httpcore.http11:send_request_headers.complete\n",
      "DEBUG:httpcore.http11:send_request_body.started request=<Request [b'POST']>\n",
      "DEBUG:httpcore.http11:send_request_body.complete\n",
      "DEBUG:httpcore.http11:receive_response_headers.started request=<Request [b'POST']>\n"
     ]
    },
    {
     "name": "stdout",
     "output_type": "stream",
     "text": [
      "Mapping of top-5 similar relations from Wikidata:\n",
      "place_of_birth: place of birth, place of death, date of birth, place of burial, date of baptism in early childhood\n",
      "occupation: occupation, field of this occupation, enclave within, territory claimed by, residence\n",
      "organization: office held by head of the organization, parent organization, student organization of, organization directed by the office or position, organizer\n",
      "education: educational stage, student, academic degree, grants, school of\n",
      "native_language: native language, name in native language, language regulatory body, original language of film or TV show, official language\n",
      "coextensive_with: coextensive with, linguistic typology, generalization of, partially coincident with, grammatical option indicates\n",
      "shares_border_with: shares border with, territory overlaps, has boundary, graph radius, central bank/issuer\n",
      "\n",
      "Mapping of top-5 similar entities from Wikidata:\n",
      "Nate Blackwell: Nate Blackwell, Cory Blackwell, Nick Blackwell, Luke Blackwell, Bubba Blackwell\n",
      "Nate Blackwell: Nate Blackwell, Cory Blackwell, Nick Blackwell, Luke Blackwell, Bubba Blackwell\n",
      "Nate Blackwell: Nate Blackwell, Cory Blackwell, Nick Blackwell, Luke Blackwell, Bubba Blackwell\n",
      "Nate Blackwell: Nate Blackwell, Cory Blackwell, Nick Blackwell, Luke Blackwell, Bubba Blackwell\n",
      "Nate Blackwell: Nate Blackwell, Cory Blackwell, Nick Blackwell, Luke Blackwell, Bubba Blackwell\n",
      "Philadelphia County, Pennsylvania: Philadelphia County, Pennsylvania, Montgomery County, Pennsylvania, Delaware County, Pennsylvania, Bucks County, Pennsylvania, Philadelphia\n",
      "Philadelphia County, Pennsylvania: Philadelphia County, Pennsylvania, Montgomery County, Pennsylvania, Delaware County, Pennsylvania, Bucks County, Pennsylvania, Philadelphia\n",
      "Philadelphia, Pennsylvania: Kensington, Philadelphia, Bridesburg, Philadelphia, Philadelphia, Fishtown, Philadelphia, Franklintown, Philadelphia\n",
      "professional basketball player: World Basketball League, \"NCAA Mens Basketball All-Americans\", NBA draft, Bill Blair (basketball), World Basketball Association\n",
      "National Basketball Association: National Basketball Association, National Basketball Players Association, Continental Basketball Association, National Basketball Conference, National Athletic Basketball League\n",
      "Temple University: Temple University, Temple University Hospital, Temple College, Temple University School of Pharmacy, Temple University Graduate Students Association\n",
      "English: British English, English language, Des English, English Opening, American English\n",
      "Philadelphia: Philadelphia, Philadelphia Club, Kensington, Philadelphia, Germantown, Philadelphia, Philadelphia Carey\n",
      "Lower Moreland Township, Montgomery County, Pennsylvania: Lower Moreland Township, Montgomery County, Pennsylvania, Upper Moreland Township, Montgomery County, Pennsylvania, Lower Frederick Township, Montgomery County, Pennsylvania, Lessland, Lower Providence Township, Montgomery County, Pennsylvania\n"
     ]
    },
    {
     "name": "stderr",
     "output_type": "stream",
     "text": [
      "DEBUG:httpcore.http11:receive_response_headers.complete return_value=(b'HTTP/1.1', 200, b'OK', [(b'Server', b'nginx'), (b'Date', b'Thu, 18 Apr 2024 16:25:04 GMT'), (b'Content-Type', b'application/json'), (b'Transfer-Encoding', b'chunked'), (b'Connection', b'keep-alive'), (b'Keep-Alive', b'timeout=20'), (b'access-control-allow-origin', b'*'), (b'Cache-Control', b'no-cache, must-revalidate'), (b'openai-model', b'gpt-3.5-turbo-0125'), (b'openai-organization', b'user-lafzdq3zadvnkudihgsmrbg5'), (b'openai-processing-ms', b'5176'), (b'openai-version', b'2020-10-01'), (b'strict-transport-security', b'max-age=15724800; includeSubDomains'), (b'x-ratelimit-limit-requests', b'10000'), (b'x-ratelimit-limit-tokens', b'2000000'), (b'x-ratelimit-remaining-requests', b'9999'), (b'x-ratelimit-remaining-tokens', b'1998104'), (b'x-ratelimit-reset-requests', b'6ms'), (b'x-ratelimit-reset-tokens', b'56ms'), (b'x-request-id', b'req_d9bb38664dd5ab33a199cc5f924820a4'), (b'CF-Cache-Status', b'DYNAMIC'), (b'Set-Cookie', b'__cf_bm=JOdeyG4PhgHcTAeRlFIOniskgLp_8HLM1R4uNFM4WvM-1713457504-1.0.1.1-pTXFp4OLZo0dA0AYT157HZJDso0Xxe_Rfj6VIR6S4yth8.6GNANnctzPtn8zsqPlInYfHOGLle540hLGiwxTJQ; path=/; expires=Thu, 18-Apr-24 16:55:04 GMT; domain=.api.openai.com; HttpOnly; Secure; SameSite=None'), (b'Set-Cookie', b'_cfuvid=WjAelfEvX_4JLcMnStAZQyxCGefPwIXHxGPE585H0Xw-1713457504071-0.0.1.1-604800000; path=/; domain=.api.openai.com; HttpOnly; Secure; SameSite=None'), (b'CF-RAY', b'876602166dea37da-FRA'), (b'Content-Encoding', b'gzip'), (b'alt-svc', b'h3=\":443\"; ma=86400'), (b'X-Cache-Status', b'MISS')])\n",
      "INFO:httpx:HTTP Request: POST https://openai.deeppavlov.ai/v1/chat/completions \"HTTP/1.1 200 OK\"\n",
      "DEBUG:httpcore.http11:receive_response_body.started request=<Request [b'POST']>\n",
      "DEBUG:httpcore.http11:receive_response_body.complete\n",
      "DEBUG:httpcore.http11:response_closed.started\n",
      "DEBUG:httpcore.http11:response_closed.complete\n",
      "DEBUG:openai._base_client:HTTP Request: POST https://openai.deeppavlov.ai/v1/chat/completions \"200 OK\"\n"
     ]
    },
    {
     "name": "stdout",
     "output_type": "stream",
     "text": [
      "UNPROCESSED RESULTS \n",
      " [{'subject': 'Nate Blackwell', 'relation': 'place of birth', 'object': 'Philadelphia, Pennsylvania'}, {'subject': 'Nate Blackwell', 'relation': 'occupation', 'object': 'professional basketball player'}, {'subject': 'Nate Blackwell', 'relation': 'organization', 'object': 'National Basketball Association'}, {'subject': 'Nate Blackwell', 'relation': 'education', 'object': 'Temple University'}, {'subject': 'Nate Blackwell', 'relation': 'native language', 'object': 'English'}, {'subject': 'Philadelphia County, Pennsylvania', 'relation': 'coextensive with', 'object': 'Philadelphia'}, {'subject': 'Philadelphia County, Pennsylvania', 'relation': 'shares border with', 'object': 'Lower Moreland Township, Montgomery County, Pennsylvania'}]\n",
      "PROCESSED RESULT:  [('Philadelphia County, Pennsylvania', 'coextensive with', 'Philadelphia'), ('Philadelphia County, Pennsylvania', 'shares border with', 'Lower Moreland Township, Montgomery County, Pennsylvania')]\n",
      "FILTERED TRIPLETS:  [('Nate Blackwell', 'place of birth', 'Philadelphia, Pennsylvania'), ('Nate Blackwell', 'occupation', 'professional basketball player'), ('Nate Blackwell', 'organization', 'National Basketball Association'), ('Nate Blackwell', 'education', 'Temple University'), ('Nate Blackwell', 'native language', 'English')]\n",
      "TARGETS: [('Nate Blackwell', 'place_of_birth', 'Philadelphia'), ('Nate Blackwell', 'league', 'National Basketball Association'), ('Nate Blackwell', 'educated_at', 'Temple University'), ('Nate Blackwell', 'native_language', 'English language'), ('Philadelphia', 'shares_border_with', 'Lower Moreland Township, Montgomery County, Pennsylvania'), ('Philadelphia', 'coextensive_with', 'Philadelphia County, Pennsylvania')]\n",
      "\n",
      "TEXT: Nathan George Evans was born in Marion, South Carolina and served in the Confederate States of America during the American Civil War. He attained the rank of Brigadier General and General Officer and fought in the Battle of Antietam, Battle of Ball's Bluff, and Second Battle of Bull Run. The Kansas–Nebraska Act and John Brown's raid on Harpers Ferry were contributing factors to the war.\n"
     ]
    },
    {
     "name": "stderr",
     "output_type": "stream",
     "text": [
      "DEBUG:openai._base_client:Request options: {'method': 'post', 'url': '/chat/completions', 'files': None, 'json_data': {'messages': [{'role': 'system', 'content': 'You are an algorithm designed for extracting facts from text in a structured format to build a knowledge graph. Knowledge graph consists of set of triplets. Each triplet contains two entities (subject and object) and one relation that connects these subject and object. Entities represent nodes in knowledge graph, while relation represents a link between these two nodes. \\nSubjects and objects could be named entities or concepts describing a group of people, event or abstract object from Wikidata knowledge graph. \\nYou will be provided with the text entitled as \"Text:\". You are expected to output only the list of identified triplets in a json format as a list of triplets. Each triplet should have fields \"subject\", \"relation\", and \"object\" for subject, relation, and object correspondingly. \\n\\n<example>\\nInput:\\nText: Albert Einstein, born in Germany, is known for developing the relativity theory\\n\\nOutput:\\n[\\n    {\\n        \"subject\": \"Albert Einstein\",\\n        \"relation\": \"place_of_birth\",\\n        \"object\": \"Germany\"\\n    },\\n    {\\n        \"subject\": \"Albert Einstein\",\\n        \"relation\": \"work\",\\n        \"object\": \"relativity theory\"\\n    }\\n]\\n</example>'}, {'role': 'user', 'content': \"Text:\\nNathan George Evans was born in Marion, South Carolina and served in the Confederate States of America during the American Civil War. He attained the rank of Brigadier General and General Officer and fought in the Battle of Antietam, Battle of Ball's Bluff, and Second Battle of Bull Run. The Kansas–Nebraska Act and John Brown's raid on Harpers Ferry were contributing factors to the war.\"}], 'model': 'gpt-3.5-turbo', 'temperature': 0}}\n",
      "DEBUG:httpcore.http11:send_request_headers.started request=<Request [b'POST']>\n",
      "DEBUG:httpcore.http11:send_request_headers.complete\n",
      "DEBUG:httpcore.http11:send_request_body.started request=<Request [b'POST']>\n",
      "DEBUG:httpcore.http11:send_request_body.complete\n",
      "DEBUG:httpcore.http11:receive_response_headers.started request=<Request [b'POST']>\n",
      "DEBUG:httpcore.http11:receive_response_headers.complete return_value=(b'HTTP/1.1', 200, b'OK', [(b'Server', b'nginx'), (b'Date', b'Thu, 18 Apr 2024 16:25:13 GMT'), (b'Content-Type', b'application/json'), (b'Transfer-Encoding', b'chunked'), (b'Connection', b'keep-alive'), (b'Keep-Alive', b'timeout=20'), (b'access-control-allow-origin', b'*'), (b'Cache-Control', b'no-cache, must-revalidate'), (b'openai-model', b'gpt-3.5-turbo-0125'), (b'openai-organization', b'user-lafzdq3zadvnkudihgsmrbg5'), (b'openai-processing-ms', b'6927'), (b'openai-version', b'2020-10-01'), (b'strict-transport-security', b'max-age=15724800; includeSubDomains'), (b'x-ratelimit-limit-requests', b'10000'), (b'x-ratelimit-limit-tokens', b'2000000'), (b'x-ratelimit-remaining-requests', b'9999'), (b'x-ratelimit-remaining-tokens', b'1999593'), (b'x-ratelimit-reset-requests', b'6ms'), (b'x-ratelimit-reset-tokens', b'12ms'), (b'x-request-id', b'req_efb9c7230ff7173ca3f3cb84760a9483'), (b'CF-Cache-Status', b'DYNAMIC'), (b'Set-Cookie', b'__cf_bm=33jw0dnt.zTPnoYmyTZjmhkyZ.9osW6ErA4BdtDqcBA-1713457513-1.0.1.1-Ut21.Vwo6ZZylHvjRwKkZPYbmwbYMOUD37UWXBBoBLErO5QXtvetOC1G7b3pvS5NrBqiNgPdZ..6sj4Lv9jv7A; path=/; expires=Thu, 18-Apr-24 16:55:13 GMT; domain=.api.openai.com; HttpOnly; Secure; SameSite=None'), (b'Set-Cookie', b'_cfuvid=mBGPk3.i6Tdq9GoTewkQlXa0ZpyGXHTbwYqAwopfTXY-1713457513138-0.0.1.1-604800000; path=/; domain=.api.openai.com; HttpOnly; Secure; SameSite=None'), (b'CF-RAY', b'8766024419ab9954-FRA'), (b'Content-Encoding', b'gzip'), (b'alt-svc', b'h3=\":443\"; ma=86400'), (b'X-Cache-Status', b'MISS')])\n",
      "INFO:httpx:HTTP Request: POST https://openai.deeppavlov.ai/v1/chat/completions \"HTTP/1.1 200 OK\"\n",
      "DEBUG:httpcore.http11:receive_response_body.started request=<Request [b'POST']>\n",
      "DEBUG:httpcore.http11:receive_response_body.complete\n",
      "DEBUG:httpcore.http11:response_closed.started\n",
      "DEBUG:httpcore.http11:response_closed.complete\n",
      "DEBUG:openai._base_client:HTTP Request: POST https://openai.deeppavlov.ai/v1/chat/completions \"200 OK\"\n",
      "DEBUG:openai._base_client:Request options: {'method': 'post', 'url': '/chat/completions', 'files': None, 'json_data': {'messages': [{'role': 'system', 'content': 'You are an algorithm designed for extracting facts from text in a structured format to build a knowledge graph. Knowledge graph consists of set of triplets. Each triplet contains two entities (subject and object) and one relation that connects these subject and object. Entities represent nodes in knowledge graph, while relation represents a link between these two nodes. \\nSubjects and objects could be named entities or concepts describing a group of people, event or abstract object from Wikidata knowledge graph. \\nYou will be provided with the text entitled as \"Text:\". You are expected to output only the list of identified triplets in a json format as a list of triplets. Each triplet should have fields \"subject\", \"relation\", and \"object\" for subject, relation, and object correspondingly. \\n\\n<example>\\nInput:\\nText: Albert Einstein, born in Germany, is known for developing the relativity theory\\n\\nOutput:\\n[\\n    {\\n        \"subject\": \"Albert Einstein\",\\n        \"relation\": \"place_of_birth\",\\n        \"object\": \"Germany\"\\n    },\\n    {\\n        \"subject\": \"Albert Einstein\",\\n        \"relation\": \"work\",\\n        \"object\": \"relativity theory\"\\n    }\\n]\\n</example>'}, {'role': 'user', 'content': \"Text:\\nNathan George Evans was born in Marion, South Carolina and served in the Confederate States of America during the American Civil War. He attained the rank of Brigadier General and General Officer and fought in the Battle of Antietam, Battle of Ball's Bluff, and Second Battle of Bull Run. The Kansas–Nebraska Act and John Brown's raid on Harpers Ferry were contributing factors to the war.\"}, {'role': 'assistant', 'content': '[\\n    {\\n        \"subject\": \"Nathan George Evans\",\\n        \"relation\": \"place_of_birth\",\\n        \"object\": \"Marion, South Carolina\"\\n    },\\n    {\\n        \"subject\": \"Nathan George Evans\",\\n        \"relation\": \"served_in\",\\n        \"object\": \"Confederate States of America\"\\n    },\\n    {\\n        \"subject\": \"Nathan George Evans\",\\n        \"relation\": \"rank\",\\n        \"object\": \"Brigadier General\"\\n    },\\n    {\\n        \"subject\": \"Nathan George Evans\",\\n        \"relation\": \"rank\",\\n        \"object\": \"General Officer\"\\n    },\\n    {\\n        \"subject\": \"Nathan George Evans\",\\n        \"relation\": \"fought_in\",\\n        \"object\": \"Battle of Antietam\"\\n    },\\n    {\\n        \"subject\": \"Nathan George Evans\",\\n        \"relation\": \"fought_in\",\\n        \"object\": \"Battle of Ball\\'s Bluff\"\\n    },\\n    {\\n        \"subject\": \"Nathan George Evans\",\\n        \"relation\": \"fought_in\",\\n        \"object\": \"Second Battle of Bull Run\"\\n    },\\n    {\\n        \"subject\": \"Kansas–Nebraska Act\",\\n        \"relation\": \"contributed_to\",\\n        \"object\": \"American Civil War\"\\n    },\\n    {\\n        \"subject\": \"John Brown\\'s raid on Harpers Ferry\",\\n        \"relation\": \"contributed_to\",\\n        \"object\": \"American Civil War\"\\n    }\\n]'}, {'role': 'system', 'content': 'For each relation and entity from triplets obtained on the previous step you will be provided with corresponding 5 exact names of similar relation/entity from Wikidata knowledge graph.\\nThe format of input is following: ```\\n                    Mapping of top-5 similar relations from Wikidata:\\n                    \"extracted_relation_1: [exact_relation_1_1, ..., exact_relation_1_5] \\\\n ... \\\\n extracted_relation_n: [exact_relation_n_1, ..., exact_relation_n_5] \\\\n\\\\n\\n                    Mapping of top-5 similar entities from Wikidata:\\n                     \"extracted_entity_1: [exact_entity_1_1, ..., exact_entity_1_5] \\\\n ... \\\\n extracted_entity_n: [exact_entity_n_1, ..., exact_entity_n_5].\\n                    ```\\nFor each entity and relation from the extracted triplets you should choose one most probable name only from the list of 5 probable ones that better match each triplet and the context of the previously demonstrated text.\\nAs the output provide the list of updated triplets in json format, but instead of previosly extracted names of relations and entities use the chosen ones from provided list of similar names.\\n\\n<example>\\n\\nInput:                     \\nMapping of top-5 similar relations from Wikidata:\\nborn_in: place_of_birth, elected_in, birthday, introduced_in, birth_name\\nwork: in_work, for_work, present_in_work, notable_work, applies_to_work\\n                     \\nMapping of top-5 similar entities from Wikidata:\\nAlbert Einstein: Albert Einstein, Alfred Einstein, Hans Einstein, Albert Einstein Israelite Hospital, Albert Einstein Medal\\nGermany: Germany, West Germany, Germans, German Empire, Weimar Republic \\nrelativity theory: Relativity Theory of Protons and Electrons, theory of relativity, special relativity, Physical Interpretation of Relativity Theory\\n\\nOutput:\\n[\\n    {\\n        \"subject\": \"Albert Einstein\",\\n        \"relation\": \"place_of_birth\",\\n        \"object\": \"Germany\"\\n    },\\n    {\\n        \"subject\": \"Albert Einstein\",\\n        \"relation\": \"notable_work\",\\n        \"object\": \"Theory of relativity\"\\n    }\\n]\\n\\n<example>\\'\\'\\''}, {'role': 'user', 'content': 'Mapping of top-5 similar relations from Wikidata:\\nplace_of_birth: place of birth, place of death, date of birth, place of burial, date of baptism in early childhood\\nserved_in: service entry, service retirement, repealed by, serving temperature, OCLC number\\nrank: military rank, next higher rank, next lower rank, ranking, captain\\nrank: military rank, next higher rank, next lower rank, ranking, captain\\nfought_in: conflict, order of battle, number of casualties, colonel-in-chief, military casualty classification\\nfought_in: conflict, order of battle, number of casualties, colonel-in-chief, military casualty classification\\nfought_in: conflict, order of battle, number of casualties, colonel-in-chief, military casualty classification\\ncontributed_to: signatory, contributed to creative work, reply to, contributor to the creative work or subject, dedicated to\\ncontributed_to: signatory, contributed to creative work, reply to, contributor to the creative work or subject, dedicated to\\n\\nMapping of top-5 similar entities from Wikidata:\\nNathan George Evans: Nathan George Evans, Nathan George, Nathan Rees, George Jean Nathan, Abel John Evans\\nNathan George Evans: Nathan George Evans, Nathan George, Nathan Rees, George Jean Nathan, Abel John Evans\\nNathan George Evans: Nathan George Evans, Nathan George, Nathan Rees, George Jean Nathan, Abel John Evans\\nNathan George Evans: Nathan George Evans, Nathan George, Nathan Rees, George Jean Nathan, Abel John Evans\\nNathan George Evans: Nathan George Evans, Nathan George, Nathan Rees, George Jean Nathan, Abel John Evans\\nNathan George Evans: Nathan George Evans, Nathan George, Nathan Rees, George Jean Nathan, Abel John Evans\\nNathan George Evans: Nathan George Evans, Nathan George, Nathan Rees, George Jean Nathan, Abel John Evans\\nKansas–Nebraska Act: Kansas–Nebraska Act, Chamberlain–Ferris Act, Edmunds–Tucker Act, Kansas Legislature, Wheeler–Lea Act\\n\"John Browns raid on Harpers Ferry\": \"John Browns raid on Harpers Ferry\", Battle of Harpers Ferry, \"Battle of Browns Ferry\", Harpers Ferry Armory, Harpers Ferry station\\nMarion, South Carolina: Marion, South Carolina, Marion County, South Carolina, Marion, North Carolina, Marion, Virginia, Columbia, South Carolina\\nConfederate States of America: Confederate States of America, President of the Confederate States of America, Flags of the Confederate States of America, Vice President of the Confederate States of America, Economy of the Confederate States of America\\nBrigadier General: Brigadier general, Major general, Colonel general, Lieutenant general, Sergeant major general\\nGeneral Officer: General officer, General Commander, Divisional general, Major general, General Military Academy\\nBattle of Antietam: Battle of Antietam, Antietam National Battlefield, Antietam Academy, Antietam, Maryland, Antietam Formation\\n\"Battle of Balls Bluff\": \"Battle of Balls Bluff\", \"Battle of Snyders Bluff\", Bluff War, \"Battle of Drewrys Bluff\", Battle of Pine Bluff\\nSecond Battle of Bull Run: Second Battle of Bull Run, First Battle of Bull Run, Second Battle of Fredericksburg, Second Battle of Chattanooga, Battle of Fort Bull\\nAmerican Civil War: American Civil War, Western Theater of the American Civil War, The Civil War in the United States, Eastern Theater of the American Civil War, Civil war\\nAmerican Civil War: American Civil War, Western Theater of the American Civil War, The Civil War in the United States, Eastern Theater of the American Civil War, Civil war'}], 'model': 'gpt-3.5-turbo', 'temperature': 0}}\n",
      "DEBUG:httpcore.connection:close.started\n",
      "DEBUG:httpcore.connection:close.complete\n",
      "DEBUG:httpcore.connection:connect_tcp.started host='openai.deeppavlov.ai' port=443 local_address=None timeout=5.0 socket_options=None\n",
      "DEBUG:httpcore.connection:connect_tcp.complete return_value=<httpcore._backends.sync.SyncStream object at 0x7f6fd5fcdee0>\n",
      "DEBUG:httpcore.connection:start_tls.started ssl_context=<ssl.SSLContext object at 0x7f70e3432440> server_hostname='openai.deeppavlov.ai' timeout=5.0\n",
      "DEBUG:httpcore.connection:start_tls.complete return_value=<httpcore._backends.sync.SyncStream object at 0x7f6fd5f9c280>\n",
      "DEBUG:httpcore.http11:send_request_headers.started request=<Request [b'POST']>\n",
      "DEBUG:httpcore.http11:send_request_headers.complete\n",
      "DEBUG:httpcore.http11:send_request_body.started request=<Request [b'POST']>\n",
      "DEBUG:httpcore.http11:send_request_body.complete\n",
      "DEBUG:httpcore.http11:receive_response_headers.started request=<Request [b'POST']>\n"
     ]
    },
    {
     "name": "stdout",
     "output_type": "stream",
     "text": [
      "Mapping of top-5 similar relations from Wikidata:\n",
      "place_of_birth: place of birth, place of death, date of birth, place of burial, date of baptism in early childhood\n",
      "served_in: service entry, service retirement, repealed by, serving temperature, OCLC number\n",
      "rank: military rank, next higher rank, next lower rank, ranking, captain\n",
      "rank: military rank, next higher rank, next lower rank, ranking, captain\n",
      "fought_in: conflict, order of battle, number of casualties, colonel-in-chief, military casualty classification\n",
      "fought_in: conflict, order of battle, number of casualties, colonel-in-chief, military casualty classification\n",
      "fought_in: conflict, order of battle, number of casualties, colonel-in-chief, military casualty classification\n",
      "contributed_to: signatory, contributed to creative work, reply to, contributor to the creative work or subject, dedicated to\n",
      "contributed_to: signatory, contributed to creative work, reply to, contributor to the creative work or subject, dedicated to\n",
      "\n",
      "Mapping of top-5 similar entities from Wikidata:\n",
      "Nathan George Evans: Nathan George Evans, Nathan George, Nathan Rees, George Jean Nathan, Abel John Evans\n",
      "Nathan George Evans: Nathan George Evans, Nathan George, Nathan Rees, George Jean Nathan, Abel John Evans\n",
      "Nathan George Evans: Nathan George Evans, Nathan George, Nathan Rees, George Jean Nathan, Abel John Evans\n",
      "Nathan George Evans: Nathan George Evans, Nathan George, Nathan Rees, George Jean Nathan, Abel John Evans\n",
      "Nathan George Evans: Nathan George Evans, Nathan George, Nathan Rees, George Jean Nathan, Abel John Evans\n",
      "Nathan George Evans: Nathan George Evans, Nathan George, Nathan Rees, George Jean Nathan, Abel John Evans\n",
      "Nathan George Evans: Nathan George Evans, Nathan George, Nathan Rees, George Jean Nathan, Abel John Evans\n",
      "Kansas–Nebraska Act: Kansas–Nebraska Act, Chamberlain–Ferris Act, Edmunds–Tucker Act, Kansas Legislature, Wheeler–Lea Act\n",
      "\"John Browns raid on Harpers Ferry\": \"John Browns raid on Harpers Ferry\", Battle of Harpers Ferry, \"Battle of Browns Ferry\", Harpers Ferry Armory, Harpers Ferry station\n",
      "Marion, South Carolina: Marion, South Carolina, Marion County, South Carolina, Marion, North Carolina, Marion, Virginia, Columbia, South Carolina\n",
      "Confederate States of America: Confederate States of America, President of the Confederate States of America, Flags of the Confederate States of America, Vice President of the Confederate States of America, Economy of the Confederate States of America\n",
      "Brigadier General: Brigadier general, Major general, Colonel general, Lieutenant general, Sergeant major general\n",
      "General Officer: General officer, General Commander, Divisional general, Major general, General Military Academy\n",
      "Battle of Antietam: Battle of Antietam, Antietam National Battlefield, Antietam Academy, Antietam, Maryland, Antietam Formation\n",
      "\"Battle of Balls Bluff\": \"Battle of Balls Bluff\", \"Battle of Snyders Bluff\", Bluff War, \"Battle of Drewrys Bluff\", Battle of Pine Bluff\n",
      "Second Battle of Bull Run: Second Battle of Bull Run, First Battle of Bull Run, Second Battle of Fredericksburg, Second Battle of Chattanooga, Battle of Fort Bull\n",
      "American Civil War: American Civil War, Western Theater of the American Civil War, The Civil War in the United States, Eastern Theater of the American Civil War, Civil war\n",
      "American Civil War: American Civil War, Western Theater of the American Civil War, The Civil War in the United States, Eastern Theater of the American Civil War, Civil war\n"
     ]
    },
    {
     "name": "stderr",
     "output_type": "stream",
     "text": [
      "DEBUG:httpcore.http11:receive_response_headers.complete return_value=(b'HTTP/1.1', 200, b'OK', [(b'Server', b'nginx'), (b'Date', b'Thu, 18 Apr 2024 16:25:41 GMT'), (b'Content-Type', b'application/json'), (b'Transfer-Encoding', b'chunked'), (b'Connection', b'keep-alive'), (b'Keep-Alive', b'timeout=20'), (b'access-control-allow-origin', b'*'), (b'Cache-Control', b'no-cache, must-revalidate'), (b'openai-model', b'gpt-3.5-turbo-0125'), (b'openai-organization', b'user-lafzdq3zadvnkudihgsmrbg5'), (b'openai-processing-ms', b'7405'), (b'openai-version', b'2020-10-01'), (b'strict-transport-security', b'max-age=15724800; includeSubDomains'), (b'x-ratelimit-limit-requests', b'10000'), (b'x-ratelimit-limit-tokens', b'2000000'), (b'x-ratelimit-remaining-requests', b'9999'), (b'x-ratelimit-remaining-tokens', b'1997912'), (b'x-ratelimit-reset-requests', b'6ms'), (b'x-ratelimit-reset-tokens', b'62ms'), (b'x-request-id', b'req_9e955df8304d99f57eb3961761bed051'), (b'CF-Cache-Status', b'DYNAMIC'), (b'Set-Cookie', b'__cf_bm=Fg0q9glyVgqsVGURiA7iriKbiJrmcetJ_gujhIZ9Hqg-1713457541-1.0.1.1-Te0iPTNha3.BmvZenTRmg22SQ4UDAZ4WBTLFYYtAB6bmichwuShDRTXSlIIRmnSWJ.wXuoccoPxWHtSGOd3Tiw; path=/; expires=Thu, 18-Apr-24 16:55:41 GMT; domain=.api.openai.com; HttpOnly; Secure; SameSite=None'), (b'Set-Cookie', b'_cfuvid=uxocsfi1RMLnlM64UvsbshvWKes3fink.v711Hoafok-1713457541002-0.0.1.1-604800000; path=/; domain=.api.openai.com; HttpOnly; Secure; SameSite=None'), (b'CF-RAY', b'876602efc94d9119-FRA'), (b'Content-Encoding', b'gzip'), (b'alt-svc', b'h3=\":443\"; ma=86400'), (b'X-Cache-Status', b'MISS')])\n",
      "INFO:httpx:HTTP Request: POST https://openai.deeppavlov.ai/v1/chat/completions \"HTTP/1.1 200 OK\"\n",
      "DEBUG:httpcore.http11:receive_response_body.started request=<Request [b'POST']>\n",
      "DEBUG:httpcore.http11:receive_response_body.complete\n",
      "DEBUG:httpcore.http11:response_closed.started\n",
      "DEBUG:httpcore.http11:response_closed.complete\n",
      "DEBUG:openai._base_client:HTTP Request: POST https://openai.deeppavlov.ai/v1/chat/completions \"200 OK\"\n"
     ]
    },
    {
     "name": "stdout",
     "output_type": "stream",
     "text": [
      "UNPROCESSED RESULTS \n",
      " [{'subject': 'Nathan George Evans', 'relation': 'place of birth', 'object': 'Marion, South Carolina'}, {'subject': 'Nathan George Evans', 'relation': 'served_in', 'object': 'Confederate States of America'}, {'subject': 'Nathan George Evans', 'relation': 'military rank', 'object': 'Brigadier general'}, {'subject': 'Nathan George Evans', 'relation': 'fought_in', 'object': 'Battle of Antietam'}, {'subject': 'Nathan George Evans', 'relation': 'fought_in', 'object': 'Battle of Balls Bluff'}, {'subject': 'Nathan George Evans', 'relation': 'fought_in', 'object': 'Second Battle of Bull Run'}, {'subject': 'Kansas–Nebraska Act', 'relation': 'contributed to', 'object': 'American Civil War'}, {'subject': 'John Browns raid on Harpers Ferry', 'relation': 'contributed to', 'object': 'American Civil War'}]\n",
      "PROCESSED RESULT:  [('Nathan George Evans', 'place of birth', 'Marion, South Carolina'), ('Nathan George Evans', 'military rank', 'Brigadier general')]\n",
      "FILTERED TRIPLETS:  [('Nathan George Evans', 'served in', 'Confederate States of America'), ('Nathan George Evans', 'fought in', 'Battle of Antietam'), ('Nathan George Evans', 'fought in', 'Battle of Balls Bluff'), ('Nathan George Evans', 'fought in', 'Second Battle of Bull Run'), ('Kansas–Nebraska Act', 'contributed to', 'American Civil War'), ('John Browns raid on Harpers Ferry', 'contributed to', 'American Civil War')]\n",
      "TARGETS: [('Nathan George Evans', 'conflict', 'American Civil War'), ('Nathan George Evans', 'place_of_birth', 'Marion, South Carolina'), ('Nathan George Evans', 'conflict', 'Battle of Antietam'), ('Nathan George Evans', 'conflict', \"Battle of Ball's Bluff\"), ('Nathan George Evans', 'conflict', 'Second Battle of Bull Run'), ('Nathan George Evans', 'allegiance', 'Confederate States of America'), ('Nathan George Evans', 'military_rank', 'Brigadier general'), ('Nathan George Evans', 'military_rank', 'General officer'), ('American Civil War', 'has_contributing_factor', 'Kansas–Nebraska Act'), ('American Civil War', 'has_contributing_factor', \"John Brown's raid on Harpers Ferry\")]\n",
      "\n",
      "TEXT: Family Matters is set in the year 1989 and features a list of characters, known as the List of Family Matters characters.\n"
     ]
    },
    {
     "name": "stderr",
     "output_type": "stream",
     "text": [
      "DEBUG:openai._base_client:Request options: {'method': 'post', 'url': '/chat/completions', 'files': None, 'json_data': {'messages': [{'role': 'system', 'content': 'You are an algorithm designed for extracting facts from text in a structured format to build a knowledge graph. Knowledge graph consists of set of triplets. Each triplet contains two entities (subject and object) and one relation that connects these subject and object. Entities represent nodes in knowledge graph, while relation represents a link between these two nodes. \\nSubjects and objects could be named entities or concepts describing a group of people, event or abstract object from Wikidata knowledge graph. \\nYou will be provided with the text entitled as \"Text:\". You are expected to output only the list of identified triplets in a json format as a list of triplets. Each triplet should have fields \"subject\", \"relation\", and \"object\" for subject, relation, and object correspondingly. \\n\\n<example>\\nInput:\\nText: Albert Einstein, born in Germany, is known for developing the relativity theory\\n\\nOutput:\\n[\\n    {\\n        \"subject\": \"Albert Einstein\",\\n        \"relation\": \"place_of_birth\",\\n        \"object\": \"Germany\"\\n    },\\n    {\\n        \"subject\": \"Albert Einstein\",\\n        \"relation\": \"work\",\\n        \"object\": \"relativity theory\"\\n    }\\n]\\n</example>'}, {'role': 'user', 'content': 'Text:\\nFamily Matters is set in the year 1989 and features a list of characters, known as the List of Family Matters characters.'}], 'model': 'gpt-3.5-turbo', 'temperature': 0}}\n",
      "DEBUG:httpcore.http11:send_request_headers.started request=<Request [b'POST']>\n",
      "DEBUG:httpcore.http11:send_request_headers.complete\n",
      "DEBUG:httpcore.http11:send_request_body.started request=<Request [b'POST']>\n",
      "DEBUG:httpcore.http11:send_request_body.complete\n",
      "DEBUG:httpcore.http11:receive_response_headers.started request=<Request [b'POST']>\n",
      "DEBUG:httpcore.http11:receive_response_headers.complete return_value=(b'HTTP/1.1', 200, b'OK', [(b'Server', b'nginx'), (b'Date', b'Thu, 18 Apr 2024 16:25:45 GMT'), (b'Content-Type', b'application/json'), (b'Transfer-Encoding', b'chunked'), (b'Connection', b'keep-alive'), (b'Keep-Alive', b'timeout=20'), (b'access-control-allow-origin', b'*'), (b'Cache-Control', b'no-cache, must-revalidate'), (b'openai-model', b'gpt-3.5-turbo-0125'), (b'openai-organization', b'user-lafzdq3zadvnkudihgsmrbg5'), (b'openai-processing-ms', b'1351'), (b'openai-version', b'2020-10-01'), (b'strict-transport-security', b'max-age=15724800; includeSubDomains'), (b'x-ratelimit-limit-requests', b'10000'), (b'x-ratelimit-limit-tokens', b'2000000'), (b'x-ratelimit-remaining-requests', b'9999'), (b'x-ratelimit-remaining-tokens', b'1999660'), (b'x-ratelimit-reset-requests', b'6ms'), (b'x-ratelimit-reset-tokens', b'10ms'), (b'x-request-id', b'req_81c08d0244262a0cb4dc0247de22cf8b'), (b'CF-Cache-Status', b'DYNAMIC'), (b'Set-Cookie', b'__cf_bm=QLJIQrkkqZdDpGrfJAomTprYxVtPAG7saAHPJnGl34I-1713457545-1.0.1.1-tVxcG1A50lPkWGXTox2dJKouT018efUuGWQeViUitHwC0oL0_bMZzvfR3iJOYOFcAGvaojNWle.yhToAI.h3wA; path=/; expires=Thu, 18-Apr-24 16:55:45 GMT; domain=.api.openai.com; HttpOnly; Secure; SameSite=None'), (b'Set-Cookie', b'_cfuvid=s8JEhsLCA.ATAULEot2dI1MD7hoUmE_NfMxDh8cEujw-1713457545352-0.0.1.1-604800000; path=/; domain=.api.openai.com; HttpOnly; Secure; SameSite=None'), (b'CF-RAY', b'876603304bb63664-FRA'), (b'Content-Encoding', b'gzip'), (b'alt-svc', b'h3=\":443\"; ma=86400'), (b'X-Cache-Status', b'MISS')])\n",
      "INFO:httpx:HTTP Request: POST https://openai.deeppavlov.ai/v1/chat/completions \"HTTP/1.1 200 OK\"\n",
      "DEBUG:httpcore.http11:receive_response_body.started request=<Request [b'POST']>\n",
      "DEBUG:httpcore.http11:receive_response_body.complete\n",
      "DEBUG:httpcore.http11:response_closed.started\n",
      "DEBUG:httpcore.http11:response_closed.complete\n",
      "DEBUG:openai._base_client:HTTP Request: POST https://openai.deeppavlov.ai/v1/chat/completions \"200 OK\"\n",
      "DEBUG:openai._base_client:Request options: {'method': 'post', 'url': '/chat/completions', 'files': None, 'json_data': {'messages': [{'role': 'system', 'content': 'You are an algorithm designed for extracting facts from text in a structured format to build a knowledge graph. Knowledge graph consists of set of triplets. Each triplet contains two entities (subject and object) and one relation that connects these subject and object. Entities represent nodes in knowledge graph, while relation represents a link between these two nodes. \\nSubjects and objects could be named entities or concepts describing a group of people, event or abstract object from Wikidata knowledge graph. \\nYou will be provided with the text entitled as \"Text:\". You are expected to output only the list of identified triplets in a json format as a list of triplets. Each triplet should have fields \"subject\", \"relation\", and \"object\" for subject, relation, and object correspondingly. \\n\\n<example>\\nInput:\\nText: Albert Einstein, born in Germany, is known for developing the relativity theory\\n\\nOutput:\\n[\\n    {\\n        \"subject\": \"Albert Einstein\",\\n        \"relation\": \"place_of_birth\",\\n        \"object\": \"Germany\"\\n    },\\n    {\\n        \"subject\": \"Albert Einstein\",\\n        \"relation\": \"work\",\\n        \"object\": \"relativity theory\"\\n    }\\n]\\n</example>'}, {'role': 'user', 'content': 'Text:\\nFamily Matters is set in the year 1989 and features a list of characters, known as the List of Family Matters characters.'}, {'role': 'assistant', 'content': '[\\n    {\\n        \"subject\": \"Family Matters\",\\n        \"relation\": \"set_in\",\\n        \"object\": \"1989\"\\n    },\\n    {\\n        \"subject\": \"Family Matters\",\\n        \"relation\": \"features\",\\n        \"object\": \"List of Family Matters characters\"\\n    }\\n]'}, {'role': 'system', 'content': 'For each relation and entity from triplets obtained on the previous step you will be provided with corresponding 5 exact names of similar relation/entity from Wikidata knowledge graph.\\nThe format of input is following: ```\\n                    Mapping of top-5 similar relations from Wikidata:\\n                    \"extracted_relation_1: [exact_relation_1_1, ..., exact_relation_1_5] \\\\n ... \\\\n extracted_relation_n: [exact_relation_n_1, ..., exact_relation_n_5] \\\\n\\\\n\\n                    Mapping of top-5 similar entities from Wikidata:\\n                     \"extracted_entity_1: [exact_entity_1_1, ..., exact_entity_1_5] \\\\n ... \\\\n extracted_entity_n: [exact_entity_n_1, ..., exact_entity_n_5].\\n                    ```\\nFor each entity and relation from the extracted triplets you should choose one most probable name only from the list of 5 probable ones that better match each triplet and the context of the previously demonstrated text.\\nAs the output provide the list of updated triplets in json format, but instead of previosly extracted names of relations and entities use the chosen ones from provided list of similar names.\\n\\n<example>\\n\\nInput:                     \\nMapping of top-5 similar relations from Wikidata:\\nborn_in: place_of_birth, elected_in, birthday, introduced_in, birth_name\\nwork: in_work, for_work, present_in_work, notable_work, applies_to_work\\n                     \\nMapping of top-5 similar entities from Wikidata:\\nAlbert Einstein: Albert Einstein, Alfred Einstein, Hans Einstein, Albert Einstein Israelite Hospital, Albert Einstein Medal\\nGermany: Germany, West Germany, Germans, German Empire, Weimar Republic \\nrelativity theory: Relativity Theory of Protons and Electrons, theory of relativity, special relativity, Physical Interpretation of Relativity Theory\\n\\nOutput:\\n[\\n    {\\n        \"subject\": \"Albert Einstein\",\\n        \"relation\": \"place_of_birth\",\\n        \"object\": \"Germany\"\\n    },\\n    {\\n        \"subject\": \"Albert Einstein\",\\n        \"relation\": \"notable_work\",\\n        \"object\": \"Theory of relativity\"\\n    }\\n]\\n\\n<example>\\'\\'\\''}, {'role': 'user', 'content': 'Mapping of top-5 similar relations from Wikidata:\\nset_in: input set, instruction set, set in environment, group cardinality, is metaclass for\\nfeatures: introduced feature, located on terrain feature, supports programming language, replaces, socket supported\\n\\nMapping of top-5 similar entities from Wikidata:\\nFamily Matters: Family Matters, Family Affairs, List of Family Matters characters, Family Relations, Food Matters\\nFamily Matters: Family Matters, Family Affairs, List of Family Matters characters, Family Relations, Food Matters\\n1989: 1989, 1990, 1988, 1987, 1991\\nList of Family Matters characters: List of Family Matters characters, List of Family Affairs characters, List of Modern Family characters, Family Matters, Family Values (comics)'}], 'model': 'gpt-3.5-turbo', 'temperature': 0}}\n",
      "DEBUG:httpcore.http11:send_request_headers.started request=<Request [b'POST']>\n",
      "DEBUG:httpcore.http11:send_request_headers.complete\n",
      "DEBUG:httpcore.http11:send_request_body.started request=<Request [b'POST']>\n",
      "DEBUG:httpcore.http11:send_request_body.complete\n",
      "DEBUG:httpcore.http11:receive_response_headers.started request=<Request [b'POST']>\n"
     ]
    },
    {
     "name": "stdout",
     "output_type": "stream",
     "text": [
      "Mapping of top-5 similar relations from Wikidata:\n",
      "set_in: input set, instruction set, set in environment, group cardinality, is metaclass for\n",
      "features: introduced feature, located on terrain feature, supports programming language, replaces, socket supported\n",
      "\n",
      "Mapping of top-5 similar entities from Wikidata:\n",
      "Family Matters: Family Matters, Family Affairs, List of Family Matters characters, Family Relations, Food Matters\n",
      "Family Matters: Family Matters, Family Affairs, List of Family Matters characters, Family Relations, Food Matters\n",
      "1989: 1989, 1990, 1988, 1987, 1991\n",
      "List of Family Matters characters: List of Family Matters characters, List of Family Affairs characters, List of Modern Family characters, Family Matters, Family Values (comics)\n"
     ]
    },
    {
     "name": "stderr",
     "output_type": "stream",
     "text": [
      "DEBUG:httpcore.http11:receive_response_headers.complete return_value=(b'HTTP/1.1', 200, b'OK', [(b'Server', b'nginx'), (b'Date', b'Thu, 18 Apr 2024 16:25:50 GMT'), (b'Content-Type', b'application/json'), (b'Transfer-Encoding', b'chunked'), (b'Connection', b'keep-alive'), (b'Keep-Alive', b'timeout=20'), (b'access-control-allow-origin', b'*'), (b'Cache-Control', b'no-cache, must-revalidate'), (b'openai-model', b'gpt-3.5-turbo-0125'), (b'openai-organization', b'user-lafzdq3zadvnkudihgsmrbg5'), (b'openai-processing-ms', b'1875'), (b'openai-version', b'2020-10-01'), (b'strict-transport-security', b'max-age=15724800; includeSubDomains'), (b'x-ratelimit-limit-requests', b'10000'), (b'x-ratelimit-limit-tokens', b'2000000'), (b'x-ratelimit-remaining-requests', b'9999'), (b'x-ratelimit-remaining-tokens', b'1998896'), (b'x-ratelimit-reset-requests', b'6ms'), (b'x-ratelimit-reset-tokens', b'33ms'), (b'x-request-id', b'req_6250c182984b4518abf074001f5c8241'), (b'CF-Cache-Status', b'DYNAMIC'), (b'Set-Cookie', b'__cf_bm=1.boJqjbxLZMdKDPQLEe7XM29VcIQKRbGpuvjNQM7AA-1713457550-1.0.1.1-5rAVL7RdGaN.Wpbpeywv9VnEuk_vKz3PZz6VVnyL38khuofEPMUJ1m.03QC3wGhVFE3g6TKOIkj634_ABg0.2Q; path=/; expires=Thu, 18-Apr-24 16:55:50 GMT; domain=.api.openai.com; HttpOnly; Secure; SameSite=None'), (b'Set-Cookie', b'_cfuvid=k_TyedQYycu3M5c.MNkKiXLMWOmi8PoQX0kLxcuk3zo-1713457550049-0.0.1.1-604800000; path=/; domain=.api.openai.com; HttpOnly; Secure; SameSite=None'), (b'CF-RAY', b'8766034a7a833647-FRA'), (b'Content-Encoding', b'gzip'), (b'alt-svc', b'h3=\":443\"; ma=86400'), (b'X-Cache-Status', b'MISS')])\n",
      "INFO:httpx:HTTP Request: POST https://openai.deeppavlov.ai/v1/chat/completions \"HTTP/1.1 200 OK\"\n",
      "DEBUG:httpcore.http11:receive_response_body.started request=<Request [b'POST']>\n",
      "DEBUG:httpcore.http11:receive_response_body.complete\n",
      "DEBUG:httpcore.http11:response_closed.started\n",
      "DEBUG:httpcore.http11:response_closed.complete\n",
      "DEBUG:openai._base_client:HTTP Request: POST https://openai.deeppavlov.ai/v1/chat/completions \"200 OK\"\n"
     ]
    },
    {
     "name": "stdout",
     "output_type": "stream",
     "text": [
      "UNPROCESSED RESULTS \n",
      " [{'subject': 'Family Matters', 'relation': 'input set', 'object': '1989'}, {'subject': 'Family Matters', 'relation': 'introduced feature', 'object': 'List of Family Matters characters'}]\n",
      "PROCESSED RESULT:  []\n",
      "FILTERED TRIPLETS:  [('Family Matters', 'input set', '1989'), ('Family Matters', 'introduced feature', 'List of Family Matters characters')]\n",
      "TARGETS: [('Family Matters', 'set_in_period', '1989'), ('Family Matters', 'list_of_characters', 'List of Family Matters characters')]\n",
      "\n",
      "TEXT: Harry Agar Lyons was an actor.\n"
     ]
    },
    {
     "name": "stderr",
     "output_type": "stream",
     "text": [
      "DEBUG:openai._base_client:Request options: {'method': 'post', 'url': '/chat/completions', 'files': None, 'json_data': {'messages': [{'role': 'system', 'content': 'You are an algorithm designed for extracting facts from text in a structured format to build a knowledge graph. Knowledge graph consists of set of triplets. Each triplet contains two entities (subject and object) and one relation that connects these subject and object. Entities represent nodes in knowledge graph, while relation represents a link between these two nodes. \\nSubjects and objects could be named entities or concepts describing a group of people, event or abstract object from Wikidata knowledge graph. \\nYou will be provided with the text entitled as \"Text:\". You are expected to output only the list of identified triplets in a json format as a list of triplets. Each triplet should have fields \"subject\", \"relation\", and \"object\" for subject, relation, and object correspondingly. \\n\\n<example>\\nInput:\\nText: Albert Einstein, born in Germany, is known for developing the relativity theory\\n\\nOutput:\\n[\\n    {\\n        \"subject\": \"Albert Einstein\",\\n        \"relation\": \"place_of_birth\",\\n        \"object\": \"Germany\"\\n    },\\n    {\\n        \"subject\": \"Albert Einstein\",\\n        \"relation\": \"work\",\\n        \"object\": \"relativity theory\"\\n    }\\n]\\n</example>'}, {'role': 'user', 'content': 'Text:\\nHarry Agar Lyons was an actor.'}], 'model': 'gpt-3.5-turbo', 'temperature': 0}}\n",
      "DEBUG:httpcore.http11:send_request_headers.started request=<Request [b'POST']>\n",
      "DEBUG:httpcore.http11:send_request_headers.complete\n",
      "DEBUG:httpcore.http11:send_request_body.started request=<Request [b'POST']>\n",
      "DEBUG:httpcore.http11:send_request_body.complete\n",
      "DEBUG:httpcore.http11:receive_response_headers.started request=<Request [b'POST']>\n",
      "DEBUG:httpcore.http11:receive_response_headers.complete return_value=(b'HTTP/1.1', 200, b'OK', [(b'Server', b'nginx'), (b'Date', b'Thu, 18 Apr 2024 16:25:53 GMT'), (b'Content-Type', b'application/json'), (b'Transfer-Encoding', b'chunked'), (b'Connection', b'keep-alive'), (b'Keep-Alive', b'timeout=20'), (b'access-control-allow-origin', b'*'), (b'Cache-Control', b'no-cache, must-revalidate'), (b'openai-model', b'gpt-3.5-turbo-0125'), (b'openai-organization', b'user-lafzdq3zadvnkudihgsmrbg5'), (b'openai-processing-ms', b'757'), (b'openai-version', b'2020-10-01'), (b'strict-transport-security', b'max-age=15724800; includeSubDomains'), (b'x-ratelimit-limit-requests', b'10000'), (b'x-ratelimit-limit-tokens', b'2000000'), (b'x-ratelimit-remaining-requests', b'9999'), (b'x-ratelimit-remaining-tokens', b'1999682'), (b'x-ratelimit-reset-requests', b'6ms'), (b'x-ratelimit-reset-tokens', b'9ms'), (b'x-request-id', b'req_529b82ebc2ab2ed9384ea1ad848bbee3'), (b'CF-Cache-Status', b'DYNAMIC'), (b'Set-Cookie', b'__cf_bm=o5harr8me7JdZu0rAGfPU7Xdsdaii0402UmIFSSBocA-1713457553-1.0.1.1-A0q84MMggnin6.KE4rxrn0_nnC_PNmBvUIiwtfsns22CX8ZadTCUQvfP1CWzufLmDH3MIsoHyB8XIokTvRDfSA; path=/; expires=Thu, 18-Apr-24 16:55:53 GMT; domain=.api.openai.com; HttpOnly; Secure; SameSite=None'), (b'Set-Cookie', b'_cfuvid=OwtEl1IqH8Yi7F9HmQCuUul5oSznbxBPNAgBFxNRuPE-1713457553449-0.0.1.1-604800000; path=/; domain=.api.openai.com; HttpOnly; Secure; SameSite=None'), (b'CF-RAY', b'87660366bbc49f2a-FRA'), (b'Content-Encoding', b'gzip'), (b'alt-svc', b'h3=\":443\"; ma=86400'), (b'X-Cache-Status', b'MISS')])\n",
      "INFO:httpx:HTTP Request: POST https://openai.deeppavlov.ai/v1/chat/completions \"HTTP/1.1 200 OK\"\n",
      "DEBUG:httpcore.http11:receive_response_body.started request=<Request [b'POST']>\n",
      "DEBUG:httpcore.http11:receive_response_body.complete\n",
      "DEBUG:httpcore.http11:response_closed.started\n",
      "DEBUG:httpcore.http11:response_closed.complete\n",
      "DEBUG:openai._base_client:HTTP Request: POST https://openai.deeppavlov.ai/v1/chat/completions \"200 OK\"\n",
      "DEBUG:openai._base_client:Request options: {'method': 'post', 'url': '/chat/completions', 'files': None, 'json_data': {'messages': [{'role': 'system', 'content': 'You are an algorithm designed for extracting facts from text in a structured format to build a knowledge graph. Knowledge graph consists of set of triplets. Each triplet contains two entities (subject and object) and one relation that connects these subject and object. Entities represent nodes in knowledge graph, while relation represents a link between these two nodes. \\nSubjects and objects could be named entities or concepts describing a group of people, event or abstract object from Wikidata knowledge graph. \\nYou will be provided with the text entitled as \"Text:\". You are expected to output only the list of identified triplets in a json format as a list of triplets. Each triplet should have fields \"subject\", \"relation\", and \"object\" for subject, relation, and object correspondingly. \\n\\n<example>\\nInput:\\nText: Albert Einstein, born in Germany, is known for developing the relativity theory\\n\\nOutput:\\n[\\n    {\\n        \"subject\": \"Albert Einstein\",\\n        \"relation\": \"place_of_birth\",\\n        \"object\": \"Germany\"\\n    },\\n    {\\n        \"subject\": \"Albert Einstein\",\\n        \"relation\": \"work\",\\n        \"object\": \"relativity theory\"\\n    }\\n]\\n</example>'}, {'role': 'user', 'content': 'Text:\\nHarry Agar Lyons was an actor.'}, {'role': 'assistant', 'content': '[\\n    {\\n        \"subject\": \"Harry Agar Lyons\",\\n        \"relation\": \"occupation\",\\n        \"object\": \"actor\"\\n    }\\n]'}, {'role': 'system', 'content': 'For each relation and entity from triplets obtained on the previous step you will be provided with corresponding 5 exact names of similar relation/entity from Wikidata knowledge graph.\\nThe format of input is following: ```\\n                    Mapping of top-5 similar relations from Wikidata:\\n                    \"extracted_relation_1: [exact_relation_1_1, ..., exact_relation_1_5] \\\\n ... \\\\n extracted_relation_n: [exact_relation_n_1, ..., exact_relation_n_5] \\\\n\\\\n\\n                    Mapping of top-5 similar entities from Wikidata:\\n                     \"extracted_entity_1: [exact_entity_1_1, ..., exact_entity_1_5] \\\\n ... \\\\n extracted_entity_n: [exact_entity_n_1, ..., exact_entity_n_5].\\n                    ```\\nFor each entity and relation from the extracted triplets you should choose one most probable name only from the list of 5 probable ones that better match each triplet and the context of the previously demonstrated text.\\nAs the output provide the list of updated triplets in json format, but instead of previosly extracted names of relations and entities use the chosen ones from provided list of similar names.\\n\\n<example>\\n\\nInput:                     \\nMapping of top-5 similar relations from Wikidata:\\nborn_in: place_of_birth, elected_in, birthday, introduced_in, birth_name\\nwork: in_work, for_work, present_in_work, notable_work, applies_to_work\\n                     \\nMapping of top-5 similar entities from Wikidata:\\nAlbert Einstein: Albert Einstein, Alfred Einstein, Hans Einstein, Albert Einstein Israelite Hospital, Albert Einstein Medal\\nGermany: Germany, West Germany, Germans, German Empire, Weimar Republic \\nrelativity theory: Relativity Theory of Protons and Electrons, theory of relativity, special relativity, Physical Interpretation of Relativity Theory\\n\\nOutput:\\n[\\n    {\\n        \"subject\": \"Albert Einstein\",\\n        \"relation\": \"place_of_birth\",\\n        \"object\": \"Germany\"\\n    },\\n    {\\n        \"subject\": \"Albert Einstein\",\\n        \"relation\": \"notable_work\",\\n        \"object\": \"Theory of relativity\"\\n    }\\n]\\n\\n<example>\\'\\'\\''}, {'role': 'user', 'content': 'Mapping of top-5 similar relations from Wikidata:\\noccupation: occupation, field of this occupation, enclave within, territory claimed by, residence\\n\\nMapping of top-5 similar entities from Wikidata:\\nHarry Agar Lyons: Harry Agar Lyons, Cyril Lyons, Lewis Lyons, Edward Lyons, John Agar\\nactor: Actor, Character actor, Hari (actor), Bach (actor), Leading actor'}], 'model': 'gpt-3.5-turbo', 'temperature': 0}}\n",
      "DEBUG:httpcore.http11:send_request_headers.started request=<Request [b'POST']>\n",
      "DEBUG:httpcore.http11:send_request_headers.complete\n",
      "DEBUG:httpcore.http11:send_request_body.started request=<Request [b'POST']>\n",
      "DEBUG:httpcore.http11:send_request_body.complete\n",
      "DEBUG:httpcore.http11:receive_response_headers.started request=<Request [b'POST']>\n"
     ]
    },
    {
     "name": "stdout",
     "output_type": "stream",
     "text": [
      "Mapping of top-5 similar relations from Wikidata:\n",
      "occupation: occupation, field of this occupation, enclave within, territory claimed by, residence\n",
      "\n",
      "Mapping of top-5 similar entities from Wikidata:\n",
      "Harry Agar Lyons: Harry Agar Lyons, Cyril Lyons, Lewis Lyons, Edward Lyons, John Agar\n",
      "actor: Actor, Character actor, Hari (actor), Bach (actor), Leading actor\n"
     ]
    },
    {
     "name": "stderr",
     "output_type": "stream",
     "text": [
      "DEBUG:httpcore.http11:receive_response_headers.complete return_value=(b'HTTP/1.1', 200, b'OK', [(b'Server', b'nginx'), (b'Date', b'Thu, 18 Apr 2024 16:25:58 GMT'), (b'Content-Type', b'application/json'), (b'Transfer-Encoding', b'chunked'), (b'Connection', b'keep-alive'), (b'Keep-Alive', b'timeout=20'), (b'access-control-allow-origin', b'*'), (b'Cache-Control', b'no-cache, must-revalidate'), (b'openai-model', b'gpt-3.5-turbo-0125'), (b'openai-organization', b'user-lafzdq3zadvnkudihgsmrbg5'), (b'openai-processing-ms', b'806'), (b'openai-version', b'2020-10-01'), (b'strict-transport-security', b'max-age=15724800; includeSubDomains'), (b'x-ratelimit-limit-requests', b'10000'), (b'x-ratelimit-limit-tokens', b'2000000'), (b'x-ratelimit-remaining-requests', b'9999'), (b'x-ratelimit-remaining-tokens', b'1999050'), (b'x-ratelimit-reset-requests', b'6ms'), (b'x-ratelimit-reset-tokens', b'28ms'), (b'x-request-id', b'req_e0cb480573bd74ae58ab84f08ba5bf80'), (b'CF-Cache-Status', b'DYNAMIC'), (b'Set-Cookie', b'__cf_bm=oOTzmfs56OaieYMYpQW0p1jFUWQaAzxf2nHFTDKmI6o-1713457558-1.0.1.1-JpxXrQRyQ4e4Yaw6TM2CeKu1yFXir5d_Mbzrcnc6qjNU2uTFNQQgdlbanaIVswQQtHWMMfx9PoSfFKEgc0nZsQ; path=/; expires=Thu, 18-Apr-24 16:55:58 GMT; domain=.api.openai.com; HttpOnly; Secure; SameSite=None'), (b'Set-Cookie', b'_cfuvid=9fcF3PznMuz1BcDNmjq5iYmgwtja7aZZB6tKbsKKN_8-1713457558702-0.0.1.1-604800000; path=/; domain=.api.openai.com; HttpOnly; Secure; SameSite=None'), (b'CF-RAY', b'876603871e52996f-FRA'), (b'Content-Encoding', b'gzip'), (b'alt-svc', b'h3=\":443\"; ma=86400'), (b'X-Cache-Status', b'MISS')])\n",
      "INFO:httpx:HTTP Request: POST https://openai.deeppavlov.ai/v1/chat/completions \"HTTP/1.1 200 OK\"\n",
      "DEBUG:httpcore.http11:receive_response_body.started request=<Request [b'POST']>\n",
      "DEBUG:httpcore.http11:receive_response_body.complete\n",
      "DEBUG:httpcore.http11:response_closed.started\n",
      "DEBUG:httpcore.http11:response_closed.complete\n",
      "DEBUG:openai._base_client:HTTP Request: POST https://openai.deeppavlov.ai/v1/chat/completions \"200 OK\"\n"
     ]
    },
    {
     "name": "stdout",
     "output_type": "stream",
     "text": [
      "UNPROCESSED RESULTS \n",
      " [{'subject': 'Harry Agar Lyons', 'relation': 'occupation', 'object': 'Actor'}]\n",
      "PROCESSED RESULT:  [('Harry Agar Lyons', 'occupation', 'Actor')]\n",
      "FILTERED TRIPLETS:  []\n",
      "TARGETS: [('Harry Agar Lyons', 'occupation', 'Actor')]\n",
      "\n",
      "TEXT: Swissair was an airline based in Switzerland with its headquarters in Zürich. It was the hub for Zurich Airport, and had a subsidiary called Crossair. In 2002, it was replaced by Swiss International Air Lines.\n"
     ]
    },
    {
     "name": "stderr",
     "output_type": "stream",
     "text": [
      "DEBUG:openai._base_client:Request options: {'method': 'post', 'url': '/chat/completions', 'files': None, 'json_data': {'messages': [{'role': 'system', 'content': 'You are an algorithm designed for extracting facts from text in a structured format to build a knowledge graph. Knowledge graph consists of set of triplets. Each triplet contains two entities (subject and object) and one relation that connects these subject and object. Entities represent nodes in knowledge graph, while relation represents a link between these two nodes. \\nSubjects and objects could be named entities or concepts describing a group of people, event or abstract object from Wikidata knowledge graph. \\nYou will be provided with the text entitled as \"Text:\". You are expected to output only the list of identified triplets in a json format as a list of triplets. Each triplet should have fields \"subject\", \"relation\", and \"object\" for subject, relation, and object correspondingly. \\n\\n<example>\\nInput:\\nText: Albert Einstein, born in Germany, is known for developing the relativity theory\\n\\nOutput:\\n[\\n    {\\n        \"subject\": \"Albert Einstein\",\\n        \"relation\": \"place_of_birth\",\\n        \"object\": \"Germany\"\\n    },\\n    {\\n        \"subject\": \"Albert Einstein\",\\n        \"relation\": \"work\",\\n        \"object\": \"relativity theory\"\\n    }\\n]\\n</example>'}, {'role': 'user', 'content': 'Text:\\nSwissair was an airline based in Switzerland with its headquarters in Zürich. It was the hub for Zurich Airport, and had a subsidiary called Crossair. In 2002, it was replaced by Swiss International Air Lines.'}], 'model': 'gpt-3.5-turbo', 'temperature': 0}}\n",
      "DEBUG:httpcore.http11:send_request_headers.started request=<Request [b'POST']>\n",
      "DEBUG:httpcore.http11:send_request_headers.complete\n",
      "DEBUG:httpcore.http11:send_request_body.started request=<Request [b'POST']>\n",
      "DEBUG:httpcore.http11:send_request_body.complete\n",
      "DEBUG:httpcore.http11:receive_response_headers.started request=<Request [b'POST']>\n",
      "DEBUG:httpcore.http11:receive_response_headers.complete return_value=(b'HTTP/1.1', 200, b'OK', [(b'Server', b'nginx'), (b'Date', b'Thu, 18 Apr 2024 16:26:05 GMT'), (b'Content-Type', b'application/json'), (b'Transfer-Encoding', b'chunked'), (b'Connection', b'keep-alive'), (b'Keep-Alive', b'timeout=20'), (b'access-control-allow-origin', b'*'), (b'Cache-Control', b'no-cache, must-revalidate'), (b'openai-model', b'gpt-3.5-turbo-0125'), (b'openai-organization', b'user-lafzdq3zadvnkudihgsmrbg5'), (b'openai-processing-ms', b'4006'), (b'openai-version', b'2020-10-01'), (b'strict-transport-security', b'max-age=15724800; includeSubDomains'), (b'x-ratelimit-limit-requests', b'10000'), (b'x-ratelimit-limit-tokens', b'2000000'), (b'x-ratelimit-remaining-requests', b'9999'), (b'x-ratelimit-remaining-tokens', b'1999637'), (b'x-ratelimit-reset-requests', b'6ms'), (b'x-ratelimit-reset-tokens', b'10ms'), (b'x-request-id', b'req_3979bc53e966888291baad4b00660030'), (b'CF-Cache-Status', b'DYNAMIC'), (b'Set-Cookie', b'__cf_bm=FGfgmApw_Oo4m7s9dabEPjVqc_dqg9tIGrKhQ8XE2GI-1713457565-1.0.1.1-IF29TTCEIFZQo6Z8H1Gm4ClqTx9JkwELx0JToF3tkUWTv.jK._mpeq4HXRF2PScQ.uBSUnz32xemZfgZrigtbA; path=/; expires=Thu, 18-Apr-24 16:56:05 GMT; domain=.api.openai.com; HttpOnly; Secure; SameSite=None'), (b'Set-Cookie', b'_cfuvid=sFe9MTCoZLA6y15k8jYYTRV6t6mU2R3DKKnC3r4jCVE-1713457565327-0.0.1.1-604800000; path=/; domain=.api.openai.com; HttpOnly; Secure; SameSite=None'), (b'CF-RAY', b'8766039d0855365a-FRA'), (b'Content-Encoding', b'gzip'), (b'alt-svc', b'h3=\":443\"; ma=86400'), (b'X-Cache-Status', b'MISS')])\n",
      "INFO:httpx:HTTP Request: POST https://openai.deeppavlov.ai/v1/chat/completions \"HTTP/1.1 200 OK\"\n",
      "DEBUG:httpcore.http11:receive_response_body.started request=<Request [b'POST']>\n",
      "DEBUG:httpcore.http11:receive_response_body.complete\n",
      "DEBUG:httpcore.http11:response_closed.started\n",
      "DEBUG:httpcore.http11:response_closed.complete\n",
      "DEBUG:openai._base_client:HTTP Request: POST https://openai.deeppavlov.ai/v1/chat/completions \"200 OK\"\n",
      "DEBUG:openai._base_client:Request options: {'method': 'post', 'url': '/chat/completions', 'files': None, 'json_data': {'messages': [{'role': 'system', 'content': 'You are an algorithm designed for extracting facts from text in a structured format to build a knowledge graph. Knowledge graph consists of set of triplets. Each triplet contains two entities (subject and object) and one relation that connects these subject and object. Entities represent nodes in knowledge graph, while relation represents a link between these two nodes. \\nSubjects and objects could be named entities or concepts describing a group of people, event or abstract object from Wikidata knowledge graph. \\nYou will be provided with the text entitled as \"Text:\". You are expected to output only the list of identified triplets in a json format as a list of triplets. Each triplet should have fields \"subject\", \"relation\", and \"object\" for subject, relation, and object correspondingly. \\n\\n<example>\\nInput:\\nText: Albert Einstein, born in Germany, is known for developing the relativity theory\\n\\nOutput:\\n[\\n    {\\n        \"subject\": \"Albert Einstein\",\\n        \"relation\": \"place_of_birth\",\\n        \"object\": \"Germany\"\\n    },\\n    {\\n        \"subject\": \"Albert Einstein\",\\n        \"relation\": \"work\",\\n        \"object\": \"relativity theory\"\\n    }\\n]\\n</example>'}, {'role': 'user', 'content': 'Text:\\nSwissair was an airline based in Switzerland with its headquarters in Zürich. It was the hub for Zurich Airport, and had a subsidiary called Crossair. In 2002, it was replaced by Swiss International Air Lines.'}, {'role': 'assistant', 'content': '[\\n    {\\n        \"subject\": \"Swissair\",\\n        \"relation\": \"country\",\\n        \"object\": \"Switzerland\"\\n    },\\n    {\\n        \"subject\": \"Swissair\",\\n        \"relation\": \"headquarters\",\\n        \"object\": \"Zürich\"\\n    },\\n    {\\n        \"subject\": \"Swissair\",\\n        \"relation\": \"hub\",\\n        \"object\": \"Zurich Airport\"\\n    },\\n    {\\n        \"subject\": \"Swissair\",\\n        \"relation\": \"subsidary\",\\n        \"object\": \"Crossair\"\\n    },\\n    {\\n        \"subject\": \"Swissair\",\\n        \"relation\": \"replaced_by\",\\n        \"object\": \"Swiss International Air Lines\"\\n    }\\n]'}, {'role': 'system', 'content': 'For each relation and entity from triplets obtained on the previous step you will be provided with corresponding 5 exact names of similar relation/entity from Wikidata knowledge graph.\\nThe format of input is following: ```\\n                    Mapping of top-5 similar relations from Wikidata:\\n                    \"extracted_relation_1: [exact_relation_1_1, ..., exact_relation_1_5] \\\\n ... \\\\n extracted_relation_n: [exact_relation_n_1, ..., exact_relation_n_5] \\\\n\\\\n\\n                    Mapping of top-5 similar entities from Wikidata:\\n                     \"extracted_entity_1: [exact_entity_1_1, ..., exact_entity_1_5] \\\\n ... \\\\n extracted_entity_n: [exact_entity_n_1, ..., exact_entity_n_5].\\n                    ```\\nFor each entity and relation from the extracted triplets you should choose one most probable name only from the list of 5 probable ones that better match each triplet and the context of the previously demonstrated text.\\nAs the output provide the list of updated triplets in json format, but instead of previosly extracted names of relations and entities use the chosen ones from provided list of similar names.\\n\\n<example>\\n\\nInput:                     \\nMapping of top-5 similar relations from Wikidata:\\nborn_in: place_of_birth, elected_in, birthday, introduced_in, birth_name\\nwork: in_work, for_work, present_in_work, notable_work, applies_to_work\\n                     \\nMapping of top-5 similar entities from Wikidata:\\nAlbert Einstein: Albert Einstein, Alfred Einstein, Hans Einstein, Albert Einstein Israelite Hospital, Albert Einstein Medal\\nGermany: Germany, West Germany, Germans, German Empire, Weimar Republic \\nrelativity theory: Relativity Theory of Protons and Electrons, theory of relativity, special relativity, Physical Interpretation of Relativity Theory\\n\\nOutput:\\n[\\n    {\\n        \"subject\": \"Albert Einstein\",\\n        \"relation\": \"place_of_birth\",\\n        \"object\": \"Germany\"\\n    },\\n    {\\n        \"subject\": \"Albert Einstein\",\\n        \"relation\": \"notable_work\",\\n        \"object\": \"Theory of relativity\"\\n    }\\n]\\n\\n<example>\\'\\'\\''}, {'role': 'user', 'content': 'Mapping of top-5 similar relations from Wikidata:\\ncountry: country, country for sport, basin country, country of citizenship, head of state\\nheadquarters: headquarters location, capital, official residence, location, office held by head of the organization\\nhub: airline hub, place served by transport hub, primary destinations, capital, base\\nsubsidary: radix, source of income, subclass of, legislated by, linguistic typology\\nreplaced_by: replaced by, proved by, solved by, structure replaced by, studied by\\n\\nMapping of top-5 similar entities from Wikidata:\\nSwissair: Swissair, Swiss World Airways, Swiss International Air Lines, Swiss Global Air Lines, ASL Airlines Switzerland\\nSwissair: Swissair, Swiss World Airways, Swiss International Air Lines, Swiss Global Air Lines, ASL Airlines Switzerland\\nSwissair: Swissair, Swiss World Airways, Swiss International Air Lines, Swiss Global Air Lines, ASL Airlines Switzerland\\nSwissair: Swissair, Swiss World Airways, Swiss International Air Lines, Swiss Global Air Lines, ASL Airlines Switzerland\\nSwissair: Swissair, Swiss World Airways, Swiss International Air Lines, Swiss Global Air Lines, ASL Airlines Switzerland\\nSwitzerland: Switzerland, Matt, Switzerland, Lens, Switzerland, Norman Switzerland, Lü, Switzerland\\nZürich: Zürich, Zürich German, Wil, Zürich, Zürich West, Central, Zürich\\nZurich Airport: Zurich Airport, Zürich Airport railway station, Jets to Zurich, Bern Airport, Lausanne Airport\\nCrossair: Crossair, Crossair Europe, Wildair, Vanair, RegionAir\\nSwiss International Air Lines: Swiss International Air Lines, Swiss Global Air Lines, Swiss World Airways, ASL Airlines Switzerland, Swissair'}], 'model': 'gpt-3.5-turbo', 'temperature': 0}}\n",
      "DEBUG:httpcore.http11:send_request_headers.started request=<Request [b'POST']>\n",
      "DEBUG:httpcore.http11:send_request_headers.complete\n",
      "DEBUG:httpcore.http11:send_request_body.started request=<Request [b'POST']>\n",
      "DEBUG:httpcore.http11:send_request_body.complete\n",
      "DEBUG:httpcore.http11:receive_response_headers.started request=<Request [b'POST']>\n"
     ]
    },
    {
     "name": "stdout",
     "output_type": "stream",
     "text": [
      "Mapping of top-5 similar relations from Wikidata:\n",
      "country: country, country for sport, basin country, country of citizenship, head of state\n",
      "headquarters: headquarters location, capital, official residence, location, office held by head of the organization\n",
      "hub: airline hub, place served by transport hub, primary destinations, capital, base\n",
      "subsidary: radix, source of income, subclass of, legislated by, linguistic typology\n",
      "replaced_by: replaced by, proved by, solved by, structure replaced by, studied by\n",
      "\n",
      "Mapping of top-5 similar entities from Wikidata:\n",
      "Swissair: Swissair, Swiss World Airways, Swiss International Air Lines, Swiss Global Air Lines, ASL Airlines Switzerland\n",
      "Swissair: Swissair, Swiss World Airways, Swiss International Air Lines, Swiss Global Air Lines, ASL Airlines Switzerland\n",
      "Swissair: Swissair, Swiss World Airways, Swiss International Air Lines, Swiss Global Air Lines, ASL Airlines Switzerland\n",
      "Swissair: Swissair, Swiss World Airways, Swiss International Air Lines, Swiss Global Air Lines, ASL Airlines Switzerland\n",
      "Swissair: Swissair, Swiss World Airways, Swiss International Air Lines, Swiss Global Air Lines, ASL Airlines Switzerland\n",
      "Switzerland: Switzerland, Matt, Switzerland, Lens, Switzerland, Norman Switzerland, Lü, Switzerland\n",
      "Zürich: Zürich, Zürich German, Wil, Zürich, Zürich West, Central, Zürich\n",
      "Zurich Airport: Zurich Airport, Zürich Airport railway station, Jets to Zurich, Bern Airport, Lausanne Airport\n",
      "Crossair: Crossair, Crossair Europe, Wildair, Vanair, RegionAir\n",
      "Swiss International Air Lines: Swiss International Air Lines, Swiss Global Air Lines, Swiss World Airways, ASL Airlines Switzerland, Swissair\n"
     ]
    },
    {
     "name": "stderr",
     "output_type": "stream",
     "text": [
      "DEBUG:httpcore.http11:receive_response_headers.complete return_value=(b'HTTP/1.1', 200, b'OK', [(b'Server', b'nginx'), (b'Date', b'Thu, 18 Apr 2024 16:26:14 GMT'), (b'Content-Type', b'application/json'), (b'Transfer-Encoding', b'chunked'), (b'Connection', b'keep-alive'), (b'Keep-Alive', b'timeout=20'), (b'access-control-allow-origin', b'*'), (b'Cache-Control', b'no-cache, must-revalidate'), (b'openai-model', b'gpt-3.5-turbo-0125'), (b'openai-organization', b'user-lafzdq3zadvnkudihgsmrbg5'), (b'openai-processing-ms', b'5178'), (b'openai-version', b'2020-10-01'), (b'strict-transport-security', b'max-age=15724800; includeSubDomains'), (b'x-ratelimit-limit-requests', b'10000'), (b'x-ratelimit-limit-tokens', b'2000000'), (b'x-ratelimit-remaining-requests', b'9999'), (b'x-ratelimit-remaining-tokens', b'1998569'), (b'x-ratelimit-reset-requests', b'6ms'), (b'x-ratelimit-reset-tokens', b'42ms'), (b'x-request-id', b'req_a5050220c34007e54a8fb32dd5a4a06a'), (b'CF-Cache-Status', b'DYNAMIC'), (b'Set-Cookie', b'__cf_bm=HKQYX4ji428mld9wP0N.gpG99fKiCaGVIvlr.K5p9t4-1713457574-1.0.1.1-puQPs.LgQh4mGNonk0kD75Rtsf6KDw844NgHmtXNTx5E1u7MTq2MMVzZLl2Jq7OJDaF9dB9WHGJiC4C4BpPANw; path=/; expires=Thu, 18-Apr-24 16:56:14 GMT; domain=.api.openai.com; HttpOnly; Secure; SameSite=None'), (b'Set-Cookie', b'_cfuvid=rVwJ13hrBjwlybYmltGrNZx9RmLwJHGNIqeNy9k9SEQ-1713457574069-0.0.1.1-604800000; path=/; domain=.api.openai.com; HttpOnly; Secure; SameSite=None'), (b'CF-RAY', b'876603cc5c00085d-FRA'), (b'Content-Encoding', b'gzip'), (b'alt-svc', b'h3=\":443\"; ma=86400'), (b'X-Cache-Status', b'MISS')])\n",
      "INFO:httpx:HTTP Request: POST https://openai.deeppavlov.ai/v1/chat/completions \"HTTP/1.1 200 OK\"\n",
      "DEBUG:httpcore.http11:receive_response_body.started request=<Request [b'POST']>\n",
      "DEBUG:httpcore.http11:receive_response_body.complete\n",
      "DEBUG:httpcore.http11:response_closed.started\n",
      "DEBUG:httpcore.http11:response_closed.complete\n",
      "DEBUG:openai._base_client:HTTP Request: POST https://openai.deeppavlov.ai/v1/chat/completions \"200 OK\"\n"
     ]
    },
    {
     "name": "stdout",
     "output_type": "stream",
     "text": [
      "UNPROCESSED RESULTS \n",
      " [{'subject': 'Swissair', 'relation': 'country', 'object': 'Switzerland'}, {'subject': 'Swissair', 'relation': 'headquarters location', 'object': 'Zürich'}, {'subject': 'Swissair', 'relation': 'airline hub', 'object': 'Zurich Airport'}, {'subject': 'Swissair', 'relation': 'subsidary', 'object': 'Crossair'}, {'subject': 'Swissair', 'relation': 'replaced by', 'object': 'Swiss International Air Lines'}]\n",
      "PROCESSED RESULT:  [('Swissair', 'country', 'Switzerland'), ('Swissair', 'headquarters location', 'Zürich'), ('Swissair', 'airline hub', 'Zurich Airport'), ('Swissair', 'replaced by', 'Swiss International Air Lines')]\n",
      "FILTERED TRIPLETS:  [('Swissair', 'subsidary', 'Crossair')]\n",
      "TARGETS: [('Swissair', 'airline_hub', 'Zurich Airport'), ('Swissair', 'replaced_by', 'Swiss International Air Lines'), ('Swissair', 'subsidiary', 'Crossair'), ('Swissair', 'headquarters_location', 'Zürich'), ('Swissair', 'country', 'Switzerland')]\n",
      "\n",
      "TEXT: Carlos Semprún was a prolific writer who wrote in both the French and Spanish languages. He passed away in Paris and had a brother named Jorge Semprún.\n"
     ]
    },
    {
     "name": "stderr",
     "output_type": "stream",
     "text": [
      "DEBUG:openai._base_client:Request options: {'method': 'post', 'url': '/chat/completions', 'files': None, 'json_data': {'messages': [{'role': 'system', 'content': 'You are an algorithm designed for extracting facts from text in a structured format to build a knowledge graph. Knowledge graph consists of set of triplets. Each triplet contains two entities (subject and object) and one relation that connects these subject and object. Entities represent nodes in knowledge graph, while relation represents a link between these two nodes. \\nSubjects and objects could be named entities or concepts describing a group of people, event or abstract object from Wikidata knowledge graph. \\nYou will be provided with the text entitled as \"Text:\". You are expected to output only the list of identified triplets in a json format as a list of triplets. Each triplet should have fields \"subject\", \"relation\", and \"object\" for subject, relation, and object correspondingly. \\n\\n<example>\\nInput:\\nText: Albert Einstein, born in Germany, is known for developing the relativity theory\\n\\nOutput:\\n[\\n    {\\n        \"subject\": \"Albert Einstein\",\\n        \"relation\": \"place_of_birth\",\\n        \"object\": \"Germany\"\\n    },\\n    {\\n        \"subject\": \"Albert Einstein\",\\n        \"relation\": \"work\",\\n        \"object\": \"relativity theory\"\\n    }\\n]\\n</example>'}, {'role': 'user', 'content': 'Text:\\nCarlos Semprún was a prolific writer who wrote in both the French and Spanish languages. He passed away in Paris and had a brother named Jorge Semprún.'}], 'model': 'gpt-3.5-turbo', 'temperature': 0}}\n",
      "DEBUG:httpcore.http11:send_request_headers.started request=<Request [b'POST']>\n",
      "DEBUG:httpcore.http11:send_request_headers.complete\n",
      "DEBUG:httpcore.http11:send_request_body.started request=<Request [b'POST']>\n",
      "DEBUG:httpcore.http11:send_request_body.complete\n",
      "DEBUG:httpcore.http11:receive_response_headers.started request=<Request [b'POST']>\n",
      "DEBUG:httpcore.http11:receive_response_headers.complete return_value=(b'HTTP/1.1', 200, b'OK', [(b'Server', b'nginx'), (b'Date', b'Thu, 18 Apr 2024 16:26:20 GMT'), (b'Content-Type', b'application/json'), (b'Transfer-Encoding', b'chunked'), (b'Connection', b'keep-alive'), (b'Keep-Alive', b'timeout=20'), (b'access-control-allow-origin', b'*'), (b'Cache-Control', b'no-cache, must-revalidate'), (b'openai-model', b'gpt-3.5-turbo-0125'), (b'openai-organization', b'user-lafzdq3zadvnkudihgsmrbg5'), (b'openai-processing-ms', b'2802'), (b'openai-version', b'2020-10-01'), (b'strict-transport-security', b'max-age=15724800; includeSubDomains'), (b'x-ratelimit-limit-requests', b'10000'), (b'x-ratelimit-limit-tokens', b'2000000'), (b'x-ratelimit-remaining-requests', b'9999'), (b'x-ratelimit-remaining-tokens', b'1999652'), (b'x-ratelimit-reset-requests', b'6ms'), (b'x-ratelimit-reset-tokens', b'10ms'), (b'x-request-id', b'req_33a4c96e67f7c307bba579709b93f4ed'), (b'CF-Cache-Status', b'DYNAMIC'), (b'Set-Cookie', b'__cf_bm=7DZebPqYjJtISOaF5Tof8sB5Tbh0cORRv8TQc7vkYeI-1713457580-1.0.1.1-8SyS_CB3BSv37t81DGPdVDG9kzhH0iRqIELrbhzft8AQLhjdZIOF_Ns7pybk2vGfFqsPUzUZmSAqvthdon55hQ; path=/; expires=Thu, 18-Apr-24 16:56:20 GMT; domain=.api.openai.com; HttpOnly; Secure; SameSite=None'), (b'Set-Cookie', b'_cfuvid=vWMYDA18W7k0jEwKnmvHAIv4UanUy3ruO3vm_cdTejo-1713457580179-0.0.1.1-604800000; path=/; domain=.api.openai.com; HttpOnly; Secure; SameSite=None'), (b'CF-RAY', b'876604018ddbbbf1-FRA'), (b'Content-Encoding', b'gzip'), (b'alt-svc', b'h3=\":443\"; ma=86400'), (b'X-Cache-Status', b'MISS')])\n",
      "INFO:httpx:HTTP Request: POST https://openai.deeppavlov.ai/v1/chat/completions \"HTTP/1.1 200 OK\"\n",
      "DEBUG:httpcore.http11:receive_response_body.started request=<Request [b'POST']>\n",
      "DEBUG:httpcore.http11:receive_response_body.complete\n",
      "DEBUG:httpcore.http11:response_closed.started\n",
      "DEBUG:httpcore.http11:response_closed.complete\n",
      "DEBUG:openai._base_client:HTTP Request: POST https://openai.deeppavlov.ai/v1/chat/completions \"200 OK\"\n",
      "DEBUG:openai._base_client:Request options: {'method': 'post', 'url': '/chat/completions', 'files': None, 'json_data': {'messages': [{'role': 'system', 'content': 'You are an algorithm designed for extracting facts from text in a structured format to build a knowledge graph. Knowledge graph consists of set of triplets. Each triplet contains two entities (subject and object) and one relation that connects these subject and object. Entities represent nodes in knowledge graph, while relation represents a link between these two nodes. \\nSubjects and objects could be named entities or concepts describing a group of people, event or abstract object from Wikidata knowledge graph. \\nYou will be provided with the text entitled as \"Text:\". You are expected to output only the list of identified triplets in a json format as a list of triplets. Each triplet should have fields \"subject\", \"relation\", and \"object\" for subject, relation, and object correspondingly. \\n\\n<example>\\nInput:\\nText: Albert Einstein, born in Germany, is known for developing the relativity theory\\n\\nOutput:\\n[\\n    {\\n        \"subject\": \"Albert Einstein\",\\n        \"relation\": \"place_of_birth\",\\n        \"object\": \"Germany\"\\n    },\\n    {\\n        \"subject\": \"Albert Einstein\",\\n        \"relation\": \"work\",\\n        \"object\": \"relativity theory\"\\n    }\\n]\\n</example>'}, {'role': 'user', 'content': 'Text:\\nCarlos Semprún was a prolific writer who wrote in both the French and Spanish languages. He passed away in Paris and had a brother named Jorge Semprún.'}, {'role': 'assistant', 'content': '[\\n    {\\n        \"subject\": \"Carlos Semprún\",\\n        \"relation\": \"language\",\\n        \"object\": \"French\"\\n    },\\n    {\\n        \"subject\": \"Carlos Semprún\",\\n        \"relation\": \"language\",\\n        \"object\": \"Spanish\"\\n    },\\n    {\\n        \"subject\": \"Carlos Semprún\",\\n        \"relation\": \"place_of_death\",\\n        \"object\": \"Paris\"\\n    },\\n    {\\n        \"subject\": \"Carlos Semprún\",\\n        \"relation\": \"has_sibling\",\\n        \"object\": \"Jorge Semprún\"\\n    }\\n]'}, {'role': 'system', 'content': 'For each relation and entity from triplets obtained on the previous step you will be provided with corresponding 5 exact names of similar relation/entity from Wikidata knowledge graph.\\nThe format of input is following: ```\\n                    Mapping of top-5 similar relations from Wikidata:\\n                    \"extracted_relation_1: [exact_relation_1_1, ..., exact_relation_1_5] \\\\n ... \\\\n extracted_relation_n: [exact_relation_n_1, ..., exact_relation_n_5] \\\\n\\\\n\\n                    Mapping of top-5 similar entities from Wikidata:\\n                     \"extracted_entity_1: [exact_entity_1_1, ..., exact_entity_1_5] \\\\n ... \\\\n extracted_entity_n: [exact_entity_n_1, ..., exact_entity_n_5].\\n                    ```\\nFor each entity and relation from the extracted triplets you should choose one most probable name only from the list of 5 probable ones that better match each triplet and the context of the previously demonstrated text.\\nAs the output provide the list of updated triplets in json format, but instead of previosly extracted names of relations and entities use the chosen ones from provided list of similar names.\\n\\n<example>\\n\\nInput:                     \\nMapping of top-5 similar relations from Wikidata:\\nborn_in: place_of_birth, elected_in, birthday, introduced_in, birth_name\\nwork: in_work, for_work, present_in_work, notable_work, applies_to_work\\n                     \\nMapping of top-5 similar entities from Wikidata:\\nAlbert Einstein: Albert Einstein, Alfred Einstein, Hans Einstein, Albert Einstein Israelite Hospital, Albert Einstein Medal\\nGermany: Germany, West Germany, Germans, German Empire, Weimar Republic \\nrelativity theory: Relativity Theory of Protons and Electrons, theory of relativity, special relativity, Physical Interpretation of Relativity Theory\\n\\nOutput:\\n[\\n    {\\n        \"subject\": \"Albert Einstein\",\\n        \"relation\": \"place_of_birth\",\\n        \"object\": \"Germany\"\\n    },\\n    {\\n        \"subject\": \"Albert Einstein\",\\n        \"relation\": \"notable_work\",\\n        \"object\": \"Theory of relativity\"\\n    }\\n]\\n\\n<example>\\'\\'\\''}, {'role': 'user', 'content': 'Mapping of top-5 similar relations from Wikidata:\\nlanguage: language used, official language, native language, dialect of, language regulatory body\\nlanguage: language used, official language, native language, dialect of, language regulatory body\\nplace_of_death: place of death, place of burial, place of birth, location of creation, manner of death\\nhas_sibling: sibling, relative, parent cell line, mode of inheritance, parent taxon\\n\\nMapping of top-5 similar entities from Wikidata:\\nCarlos Semprún: Carlos Semprún, Jorge Semprún, Pablo Semprún, Jaime Semprún, José Alejandro Semprún\\nCarlos Semprún: Carlos Semprún, Jorge Semprún, Pablo Semprún, Jaime Semprún, José Alejandro Semprún\\nCarlos Semprún: Carlos Semprún, Jorge Semprún, Pablo Semprún, Jaime Semprún, José Alejandro Semprún\\nCarlos Semprún: Carlos Semprún, Jorge Semprún, Pablo Semprún, Jaime Semprún, José Alejandro Semprún\\nFrench: French California, French Laurence, Frenchie, France, French polish\\nSpanish: Old Spanish, Spanish real, Mexican Spanish, Chilean Spanish, Peninsular Spanish\\nParis: Paris, Paris Paris, Parisu, Edmond Paris, Paris Theatre\\nJorge Semprún: Jorge Semprún, Carlos Semprún, Pablo Semprún, Jaime Semprún, José Alejandro Semprún'}], 'model': 'gpt-3.5-turbo', 'temperature': 0}}\n",
      "DEBUG:httpcore.http11:send_request_headers.started request=<Request [b'POST']>\n",
      "DEBUG:httpcore.http11:send_request_headers.complete\n",
      "DEBUG:httpcore.http11:send_request_body.started request=<Request [b'POST']>\n",
      "DEBUG:httpcore.http11:send_request_body.complete\n",
      "DEBUG:httpcore.http11:receive_response_headers.started request=<Request [b'POST']>\n"
     ]
    },
    {
     "name": "stdout",
     "output_type": "stream",
     "text": [
      "Mapping of top-5 similar relations from Wikidata:\n",
      "language: language used, official language, native language, dialect of, language regulatory body\n",
      "language: language used, official language, native language, dialect of, language regulatory body\n",
      "place_of_death: place of death, place of burial, place of birth, location of creation, manner of death\n",
      "has_sibling: sibling, relative, parent cell line, mode of inheritance, parent taxon\n",
      "\n",
      "Mapping of top-5 similar entities from Wikidata:\n",
      "Carlos Semprún: Carlos Semprún, Jorge Semprún, Pablo Semprún, Jaime Semprún, José Alejandro Semprún\n",
      "Carlos Semprún: Carlos Semprún, Jorge Semprún, Pablo Semprún, Jaime Semprún, José Alejandro Semprún\n",
      "Carlos Semprún: Carlos Semprún, Jorge Semprún, Pablo Semprún, Jaime Semprún, José Alejandro Semprún\n",
      "Carlos Semprún: Carlos Semprún, Jorge Semprún, Pablo Semprún, Jaime Semprún, José Alejandro Semprún\n",
      "French: French California, French Laurence, Frenchie, France, French polish\n",
      "Spanish: Old Spanish, Spanish real, Mexican Spanish, Chilean Spanish, Peninsular Spanish\n",
      "Paris: Paris, Paris Paris, Parisu, Edmond Paris, Paris Theatre\n",
      "Jorge Semprún: Jorge Semprún, Carlos Semprún, Pablo Semprún, Jaime Semprún, José Alejandro Semprún\n"
     ]
    },
    {
     "name": "stderr",
     "output_type": "stream",
     "text": [
      "DEBUG:httpcore.http11:receive_response_headers.complete return_value=(b'HTTP/1.1', 200, b'OK', [(b'Server', b'nginx'), (b'Date', b'Thu, 18 Apr 2024 16:26:27 GMT'), (b'Content-Type', b'application/json'), (b'Transfer-Encoding', b'chunked'), (b'Connection', b'keep-alive'), (b'Keep-Alive', b'timeout=20'), (b'access-control-allow-origin', b'*'), (b'Cache-Control', b'no-cache, must-revalidate'), (b'openai-model', b'gpt-3.5-turbo-0125'), (b'openai-organization', b'user-lafzdq3zadvnkudihgsmrbg5'), (b'openai-processing-ms', b'2959'), (b'openai-version', b'2020-10-01'), (b'strict-transport-security', b'max-age=15724800; includeSubDomains'), (b'x-ratelimit-limit-requests', b'10000'), (b'x-ratelimit-limit-tokens', b'2000000'), (b'x-ratelimit-remaining-requests', b'9999'), (b'x-ratelimit-remaining-tokens', b'1998711'), (b'x-ratelimit-reset-requests', b'6ms'), (b'x-ratelimit-reset-tokens', b'38ms'), (b'x-request-id', b'req_04001a8fb36d5543c6e2a3adbb76a7dd'), (b'CF-Cache-Status', b'DYNAMIC'), (b'Set-Cookie', b'__cf_bm=OGIM7h91QqrkMycA5aqhpRRUFKKhF92h9CgES6VgbfI-1713457587-1.0.1.1-8Qmam7quKUWISAIA363rDl1Xq_z8oJYB41CZmfZKTtdZCu2mYDmr2iirBfve35xZZq2BeIve_ESibHNcmDmukQ; path=/; expires=Thu, 18-Apr-24 16:56:27 GMT; domain=.api.openai.com; HttpOnly; Secure; SameSite=None'), (b'Set-Cookie', b'_cfuvid=BF0pL7CsUFf7ibNxZV1WAKI322RmTp7P_YnRAN3ConY-1713457587104-0.0.1.1-604800000; path=/; domain=.api.openai.com; HttpOnly; Secure; SameSite=None'), (b'CF-RAY', b'8766042b2b1c1ca9-FRA'), (b'Content-Encoding', b'gzip'), (b'alt-svc', b'h3=\":443\"; ma=86400'), (b'X-Cache-Status', b'MISS')])\n",
      "INFO:httpx:HTTP Request: POST https://openai.deeppavlov.ai/v1/chat/completions \"HTTP/1.1 200 OK\"\n",
      "DEBUG:httpcore.http11:receive_response_body.started request=<Request [b'POST']>\n",
      "DEBUG:httpcore.http11:receive_response_body.complete\n",
      "DEBUG:httpcore.http11:response_closed.started\n",
      "DEBUG:httpcore.http11:response_closed.complete\n",
      "DEBUG:openai._base_client:HTTP Request: POST https://openai.deeppavlov.ai/v1/chat/completions \"200 OK\"\n"
     ]
    },
    {
     "name": "stdout",
     "output_type": "stream",
     "text": [
      "UNPROCESSED RESULTS \n",
      " [{'subject': 'Carlos Semprún', 'relation': 'language used', 'object': 'French'}, {'subject': 'Carlos Semprún', 'relation': 'language used', 'object': 'Spanish'}, {'subject': 'Carlos Semprún', 'relation': 'place of death', 'object': 'Paris'}, {'subject': 'Carlos Semprún', 'relation': 'sibling', 'object': 'Jorge Semprún'}]\n",
      "PROCESSED RESULT:  [('Carlos Semprún', 'place of death', 'Paris'), ('Carlos Semprún', 'sibling', 'Jorge Semprún')]\n",
      "FILTERED TRIPLETS:  [('Carlos Semprún', 'language used', 'French'), ('Carlos Semprún', 'language used', 'Spanish')]\n",
      "TARGETS: [('Carlos Semprún', 'writing_language', 'French language'), ('Carlos Semprún', 'writing_language', 'Spanish language'), ('Carlos Semprún', 'place_of_death', 'Paris'), ('Carlos Semprún', 'sibling', 'Jorge Semprún')]\n",
      "\n",
      "TEXT: The Alliance Theatre is a theatre located in the U.S. state of Georgia and is a subsidiary of the Woodruff Arts Center. It has received the Regional Theatre Tony Award and is part of the United States.\n"
     ]
    },
    {
     "name": "stderr",
     "output_type": "stream",
     "text": [
      "DEBUG:openai._base_client:Request options: {'method': 'post', 'url': '/chat/completions', 'files': None, 'json_data': {'messages': [{'role': 'system', 'content': 'You are an algorithm designed for extracting facts from text in a structured format to build a knowledge graph. Knowledge graph consists of set of triplets. Each triplet contains two entities (subject and object) and one relation that connects these subject and object. Entities represent nodes in knowledge graph, while relation represents a link between these two nodes. \\nSubjects and objects could be named entities or concepts describing a group of people, event or abstract object from Wikidata knowledge graph. \\nYou will be provided with the text entitled as \"Text:\". You are expected to output only the list of identified triplets in a json format as a list of triplets. Each triplet should have fields \"subject\", \"relation\", and \"object\" for subject, relation, and object correspondingly. \\n\\n<example>\\nInput:\\nText: Albert Einstein, born in Germany, is known for developing the relativity theory\\n\\nOutput:\\n[\\n    {\\n        \"subject\": \"Albert Einstein\",\\n        \"relation\": \"place_of_birth\",\\n        \"object\": \"Germany\"\\n    },\\n    {\\n        \"subject\": \"Albert Einstein\",\\n        \"relation\": \"work\",\\n        \"object\": \"relativity theory\"\\n    }\\n]\\n</example>'}, {'role': 'user', 'content': 'Text:\\nThe Alliance Theatre is a theatre located in the U.S. state of Georgia and is a subsidiary of the Woodruff Arts Center. It has received the Regional Theatre Tony Award and is part of the United States.'}], 'model': 'gpt-3.5-turbo', 'temperature': 0}}\n",
      "DEBUG:httpcore.http11:send_request_headers.started request=<Request [b'POST']>\n",
      "DEBUG:httpcore.http11:send_request_headers.complete\n",
      "DEBUG:httpcore.http11:send_request_body.started request=<Request [b'POST']>\n",
      "DEBUG:httpcore.http11:send_request_body.complete\n",
      "DEBUG:httpcore.http11:receive_response_headers.started request=<Request [b'POST']>\n",
      "DEBUG:httpcore.http11:receive_response_headers.complete return_value=(b'HTTP/1.1', 200, b'OK', [(b'Server', b'nginx'), (b'Date', b'Thu, 18 Apr 2024 16:26:32 GMT'), (b'Content-Type', b'application/json'), (b'Transfer-Encoding', b'chunked'), (b'Connection', b'keep-alive'), (b'Keep-Alive', b'timeout=20'), (b'access-control-allow-origin', b'*'), (b'Cache-Control', b'no-cache, must-revalidate'), (b'openai-model', b'gpt-3.5-turbo-0125'), (b'openai-organization', b'user-lafzdq3zadvnkudihgsmrbg5'), (b'openai-processing-ms', b'2800'), (b'openai-version', b'2020-10-01'), (b'strict-transport-security', b'max-age=15724800; includeSubDomains'), (b'x-ratelimit-limit-requests', b'10000'), (b'x-ratelimit-limit-tokens', b'2000000'), (b'x-ratelimit-remaining-requests', b'9999'), (b'x-ratelimit-remaining-tokens', b'1999639'), (b'x-ratelimit-reset-requests', b'6ms'), (b'x-ratelimit-reset-tokens', b'10ms'), (b'x-request-id', b'req_6019d37e8e7a820d03d24e40911e6b0c'), (b'CF-Cache-Status', b'DYNAMIC'), (b'Set-Cookie', b'__cf_bm=6PA_1hk4qEBIwY4MCsitw1YsmTWyxolU_j.ECGpxMBg-1713457592-1.0.1.1-JEY0zARLo6gV1rVwKuUZMnS7CtBMn0MzJLuUf2GoIWtgxpO2IE_jU4URntUht5iBqksOJRcA8jI6lZT7LJ2I1Q; path=/; expires=Thu, 18-Apr-24 16:56:32 GMT; domain=.api.openai.com; HttpOnly; Secure; SameSite=None'), (b'Set-Cookie', b'_cfuvid=yUPTL9JCNJQv9Fz92ZKfPqfW_Q6ddxli2bpVjhNqFgg-1713457592939-0.0.1.1-604800000; path=/; domain=.api.openai.com; HttpOnly; Secure; SameSite=None'), (b'CF-RAY', b'87660450a878049f-FRA'), (b'Content-Encoding', b'gzip'), (b'alt-svc', b'h3=\":443\"; ma=86400'), (b'X-Cache-Status', b'MISS')])\n",
      "INFO:httpx:HTTP Request: POST https://openai.deeppavlov.ai/v1/chat/completions \"HTTP/1.1 200 OK\"\n",
      "DEBUG:httpcore.http11:receive_response_body.started request=<Request [b'POST']>\n",
      "DEBUG:httpcore.http11:receive_response_body.complete\n",
      "DEBUG:httpcore.http11:response_closed.started\n",
      "DEBUG:httpcore.http11:response_closed.complete\n",
      "DEBUG:openai._base_client:HTTP Request: POST https://openai.deeppavlov.ai/v1/chat/completions \"200 OK\"\n",
      "DEBUG:openai._base_client:Request options: {'method': 'post', 'url': '/chat/completions', 'files': None, 'json_data': {'messages': [{'role': 'system', 'content': 'You are an algorithm designed for extracting facts from text in a structured format to build a knowledge graph. Knowledge graph consists of set of triplets. Each triplet contains two entities (subject and object) and one relation that connects these subject and object. Entities represent nodes in knowledge graph, while relation represents a link between these two nodes. \\nSubjects and objects could be named entities or concepts describing a group of people, event or abstract object from Wikidata knowledge graph. \\nYou will be provided with the text entitled as \"Text:\". You are expected to output only the list of identified triplets in a json format as a list of triplets. Each triplet should have fields \"subject\", \"relation\", and \"object\" for subject, relation, and object correspondingly. \\n\\n<example>\\nInput:\\nText: Albert Einstein, born in Germany, is known for developing the relativity theory\\n\\nOutput:\\n[\\n    {\\n        \"subject\": \"Albert Einstein\",\\n        \"relation\": \"place_of_birth\",\\n        \"object\": \"Germany\"\\n    },\\n    {\\n        \"subject\": \"Albert Einstein\",\\n        \"relation\": \"work\",\\n        \"object\": \"relativity theory\"\\n    }\\n]\\n</example>'}, {'role': 'user', 'content': 'Text:\\nThe Alliance Theatre is a theatre located in the U.S. state of Georgia and is a subsidiary of the Woodruff Arts Center. It has received the Regional Theatre Tony Award and is part of the United States.'}, {'role': 'assistant', 'content': '[\\n    {\\n        \"subject\": \"Alliance Theatre\",\\n        \"relation\": \"location\",\\n        \"object\": \"Georgia\"\\n    },\\n    {\\n        \"subject\": \"Alliance Theatre\",\\n        \"relation\": \"awards_received\",\\n        \"object\": \"Regional Theatre Tony Award\"\\n    },\\n    {\\n        \"subject\": \"Alliance Theatre\",\\n        \"relation\": \"part_of\",\\n        \"object\": \"Woodruff Arts Center\"\\n    },\\n    {\\n        \"subject\": \"Alliance Theatre\",\\n        \"relation\": \"part_of\",\\n        \"object\": \"United States\"\\n    }\\n]'}, {'role': 'system', 'content': 'For each relation and entity from triplets obtained on the previous step you will be provided with corresponding 5 exact names of similar relation/entity from Wikidata knowledge graph.\\nThe format of input is following: ```\\n                    Mapping of top-5 similar relations from Wikidata:\\n                    \"extracted_relation_1: [exact_relation_1_1, ..., exact_relation_1_5] \\\\n ... \\\\n extracted_relation_n: [exact_relation_n_1, ..., exact_relation_n_5] \\\\n\\\\n\\n                    Mapping of top-5 similar entities from Wikidata:\\n                     \"extracted_entity_1: [exact_entity_1_1, ..., exact_entity_1_5] \\\\n ... \\\\n extracted_entity_n: [exact_entity_n_1, ..., exact_entity_n_5].\\n                    ```\\nFor each entity and relation from the extracted triplets you should choose one most probable name only from the list of 5 probable ones that better match each triplet and the context of the previously demonstrated text.\\nAs the output provide the list of updated triplets in json format, but instead of previosly extracted names of relations and entities use the chosen ones from provided list of similar names.\\n\\n<example>\\n\\nInput:                     \\nMapping of top-5 similar relations from Wikidata:\\nborn_in: place_of_birth, elected_in, birthday, introduced_in, birth_name\\nwork: in_work, for_work, present_in_work, notable_work, applies_to_work\\n                     \\nMapping of top-5 similar entities from Wikidata:\\nAlbert Einstein: Albert Einstein, Alfred Einstein, Hans Einstein, Albert Einstein Israelite Hospital, Albert Einstein Medal\\nGermany: Germany, West Germany, Germans, German Empire, Weimar Republic \\nrelativity theory: Relativity Theory of Protons and Electrons, theory of relativity, special relativity, Physical Interpretation of Relativity Theory\\n\\nOutput:\\n[\\n    {\\n        \"subject\": \"Albert Einstein\",\\n        \"relation\": \"place_of_birth\",\\n        \"object\": \"Germany\"\\n    },\\n    {\\n        \"subject\": \"Albert Einstein\",\\n        \"relation\": \"notable_work\",\\n        \"object\": \"Theory of relativity\"\\n    }\\n]\\n\\n<example>\\'\\'\\''}, {'role': 'user', 'content': 'Mapping of top-5 similar relations from Wikidata:\\nlocation: location, work location, coordinate location, headquarters location, terminus location\\nawards_received: award received, nominated by, member category, conferred by, related category\\npart_of: part of, has part, applies to part, does not have part, part of the series\\npart_of: part of, has part, applies to part, does not have part, part of the series\\n\\nMapping of top-5 similar entities from Wikidata:\\nAlliance Theatre: Alliance Theatre, Alliance Films, Alliance University, The Alliance School, Alliance Center\\nAlliance Theatre: Alliance Theatre, Alliance Films, Alliance University, The Alliance School, Alliance Center\\nAlliance Theatre: Alliance Theatre, Alliance Films, Alliance University, The Alliance School, Alliance Center\\nAlliance Theatre: Alliance Theatre, Alliance Films, Alliance University, The Alliance School, Alliance Center\\nGeorgia: Georgia Hard, 112 Georgia, Sky Georgia, Georgia Rose, Georgia, Georgia\\nRegional Theatre Tony Award: Regional Theatre Tony Award, Regional Community Theater, Touring Broadway Awards, Award Theatre, Theatre World Award\\nWoodruff Arts Center: Woodruff Arts Center, Woodruff Park, Woodruff County Courthouse, Woodruff Hall, Judy Woodruff\\nUnited States: United States, United Residents, The United, United Kingdom, United Republic'}], 'model': 'gpt-3.5-turbo', 'temperature': 0}}\n",
      "DEBUG:httpcore.connection:close.started\n",
      "DEBUG:httpcore.connection:close.complete\n",
      "DEBUG:httpcore.connection:connect_tcp.started host='openai.deeppavlov.ai' port=443 local_address=None timeout=5.0 socket_options=None\n",
      "DEBUG:httpcore.connection:connect_tcp.complete return_value=<httpcore._backends.sync.SyncStream object at 0x7f6fd5ff3d90>\n",
      "DEBUG:httpcore.connection:start_tls.started ssl_context=<ssl.SSLContext object at 0x7f70e3432440> server_hostname='openai.deeppavlov.ai' timeout=5.0\n",
      "DEBUG:httpcore.connection:start_tls.complete return_value=<httpcore._backends.sync.SyncStream object at 0x7f6fd5ff3e80>\n",
      "DEBUG:httpcore.http11:send_request_headers.started request=<Request [b'POST']>\n",
      "DEBUG:httpcore.http11:send_request_headers.complete\n",
      "DEBUG:httpcore.http11:send_request_body.started request=<Request [b'POST']>\n",
      "DEBUG:httpcore.http11:send_request_body.complete\n",
      "DEBUG:httpcore.http11:receive_response_headers.started request=<Request [b'POST']>\n"
     ]
    },
    {
     "name": "stdout",
     "output_type": "stream",
     "text": [
      "Mapping of top-5 similar relations from Wikidata:\n",
      "location: location, work location, coordinate location, headquarters location, terminus location\n",
      "awards_received: award received, nominated by, member category, conferred by, related category\n",
      "part_of: part of, has part, applies to part, does not have part, part of the series\n",
      "part_of: part of, has part, applies to part, does not have part, part of the series\n",
      "\n",
      "Mapping of top-5 similar entities from Wikidata:\n",
      "Alliance Theatre: Alliance Theatre, Alliance Films, Alliance University, The Alliance School, Alliance Center\n",
      "Alliance Theatre: Alliance Theatre, Alliance Films, Alliance University, The Alliance School, Alliance Center\n",
      "Alliance Theatre: Alliance Theatre, Alliance Films, Alliance University, The Alliance School, Alliance Center\n",
      "Alliance Theatre: Alliance Theatre, Alliance Films, Alliance University, The Alliance School, Alliance Center\n",
      "Georgia: Georgia Hard, 112 Georgia, Sky Georgia, Georgia Rose, Georgia, Georgia\n",
      "Regional Theatre Tony Award: Regional Theatre Tony Award, Regional Community Theater, Touring Broadway Awards, Award Theatre, Theatre World Award\n",
      "Woodruff Arts Center: Woodruff Arts Center, Woodruff Park, Woodruff County Courthouse, Woodruff Hall, Judy Woodruff\n",
      "United States: United States, United Residents, The United, United Kingdom, United Republic\n"
     ]
    },
    {
     "name": "stderr",
     "output_type": "stream",
     "text": [
      "DEBUG:httpcore.http11:receive_response_headers.complete return_value=(b'HTTP/1.1', 200, b'OK', [(b'Server', b'nginx'), (b'Date', b'Thu, 18 Apr 2024 16:26:41 GMT'), (b'Content-Type', b'application/json'), (b'Transfer-Encoding', b'chunked'), (b'Connection', b'keep-alive'), (b'Keep-Alive', b'timeout=20'), (b'access-control-allow-origin', b'*'), (b'Cache-Control', b'no-cache, must-revalidate'), (b'openai-model', b'gpt-3.5-turbo-0125'), (b'openai-organization', b'user-lafzdq3zadvnkudihgsmrbg5'), (b'openai-processing-ms', b'2971'), (b'openai-version', b'2020-10-01'), (b'strict-transport-security', b'max-age=15724800; includeSubDomains'), (b'x-ratelimit-limit-requests', b'10000'), (b'x-ratelimit-limit-tokens', b'2000000'), (b'x-ratelimit-remaining-requests', b'9999'), (b'x-ratelimit-remaining-tokens', b'1998668'), (b'x-ratelimit-reset-requests', b'6ms'), (b'x-ratelimit-reset-tokens', b'39ms'), (b'x-request-id', b'req_601b80aad4faed10c9c6f935d9c1cee5'), (b'CF-Cache-Status', b'DYNAMIC'), (b'Set-Cookie', b'__cf_bm=ZnwEkFKFGs3iAEZXT0KFZCjaswNcs._Ec3l02z3zgDs-1713457601-1.0.1.1-T.KPJ7WNOnpiFZP8pKN31jE8oWN9ScHTLl9iCuaU5is3_0awHWE3Ltb11Me72jPtilQGikgdo4nwrYm3Nop.TA; path=/; expires=Thu, 18-Apr-24 16:56:41 GMT; domain=.api.openai.com; HttpOnly; Secure; SameSite=None'), (b'Set-Cookie', b'_cfuvid=C2HIGclWFdqfOWfqTg6EMe9pyP0TaZG8GGghS63lhCA-1713457601863-0.0.1.1-604800000; path=/; domain=.api.openai.com; HttpOnly; Secure; SameSite=None'), (b'CF-RAY', b'87660487d83a35f8-FRA'), (b'Content-Encoding', b'gzip'), (b'alt-svc', b'h3=\":443\"; ma=86400'), (b'X-Cache-Status', b'MISS')])\n",
      "INFO:httpx:HTTP Request: POST https://openai.deeppavlov.ai/v1/chat/completions \"HTTP/1.1 200 OK\"\n",
      "DEBUG:httpcore.http11:receive_response_body.started request=<Request [b'POST']>\n",
      "DEBUG:httpcore.http11:receive_response_body.complete\n",
      "DEBUG:httpcore.http11:response_closed.started\n",
      "DEBUG:httpcore.http11:response_closed.complete\n",
      "DEBUG:openai._base_client:HTTP Request: POST https://openai.deeppavlov.ai/v1/chat/completions \"200 OK\"\n"
     ]
    },
    {
     "name": "stdout",
     "output_type": "stream",
     "text": [
      "UNPROCESSED RESULTS \n",
      " [{'subject': 'Alliance Theatre', 'relation': 'location', 'object': 'Georgia'}, {'subject': 'Alliance Theatre', 'relation': 'award received', 'object': 'Regional Theatre Tony Award'}, {'subject': 'Alliance Theatre', 'relation': 'part of', 'object': 'Woodruff Arts Center'}, {'subject': 'Alliance Theatre', 'relation': 'part of', 'object': 'United States'}]\n",
      "PROCESSED RESULT:  [('Alliance Theatre', 'award received', 'Regional Theatre Tony Award'), ('Alliance Theatre', 'part of', 'Woodruff Arts Center'), ('Alliance Theatre', 'part of', 'United States')]\n",
      "FILTERED TRIPLETS:  [('Alliance Theatre', 'location', 'Georgia')]\n",
      "TARGETS: [('Alliance Theatre', 'parent_organization', 'Woodruff Arts Center'), ('Alliance Theatre', 'award_received', 'Regional Theatre Tony Award'), ('Alliance Theatre', 'located_in_the_administrative_territorial_entity', 'Georgia (U.S. state)'), ('Alliance Theatre', 'country', 'United States'), ('Woodruff Arts Center', 'subsidiary', 'Alliance Theatre')]\n",
      "\n",
      "TEXT: Makineh Nasiri is an Iranian village.\n"
     ]
    },
    {
     "name": "stderr",
     "output_type": "stream",
     "text": [
      "DEBUG:openai._base_client:Request options: {'method': 'post', 'url': '/chat/completions', 'files': None, 'json_data': {'messages': [{'role': 'system', 'content': 'You are an algorithm designed for extracting facts from text in a structured format to build a knowledge graph. Knowledge graph consists of set of triplets. Each triplet contains two entities (subject and object) and one relation that connects these subject and object. Entities represent nodes in knowledge graph, while relation represents a link between these two nodes. \\nSubjects and objects could be named entities or concepts describing a group of people, event or abstract object from Wikidata knowledge graph. \\nYou will be provided with the text entitled as \"Text:\". You are expected to output only the list of identified triplets in a json format as a list of triplets. Each triplet should have fields \"subject\", \"relation\", and \"object\" for subject, relation, and object correspondingly. \\n\\n<example>\\nInput:\\nText: Albert Einstein, born in Germany, is known for developing the relativity theory\\n\\nOutput:\\n[\\n    {\\n        \"subject\": \"Albert Einstein\",\\n        \"relation\": \"place_of_birth\",\\n        \"object\": \"Germany\"\\n    },\\n    {\\n        \"subject\": \"Albert Einstein\",\\n        \"relation\": \"work\",\\n        \"object\": \"relativity theory\"\\n    }\\n]\\n</example>'}, {'role': 'user', 'content': 'Text:\\nMakineh Nasiri is an Iranian village.'}], 'model': 'gpt-3.5-turbo', 'temperature': 0}}\n",
      "DEBUG:httpcore.http11:send_request_headers.started request=<Request [b'POST']>\n",
      "DEBUG:httpcore.http11:send_request_headers.complete\n",
      "DEBUG:httpcore.http11:send_request_body.started request=<Request [b'POST']>\n",
      "DEBUG:httpcore.http11:send_request_body.complete\n",
      "DEBUG:httpcore.http11:receive_response_headers.started request=<Request [b'POST']>\n",
      "DEBUG:httpcore.http11:receive_response_headers.complete return_value=(b'HTTP/1.1', 200, b'OK', [(b'Server', b'nginx'), (b'Date', b'Thu, 18 Apr 2024 16:26:45 GMT'), (b'Content-Type', b'application/json'), (b'Transfer-Encoding', b'chunked'), (b'Connection', b'keep-alive'), (b'Keep-Alive', b'timeout=20'), (b'access-control-allow-origin', b'*'), (b'Cache-Control', b'no-cache, must-revalidate'), (b'openai-model', b'gpt-3.5-turbo-0125'), (b'openai-organization', b'user-lafzdq3zadvnkudihgsmrbg5'), (b'openai-processing-ms', b'2311'), (b'openai-version', b'2020-10-01'), (b'strict-transport-security', b'max-age=15724800; includeSubDomains'), (b'x-ratelimit-limit-requests', b'10000'), (b'x-ratelimit-limit-tokens', b'2000000'), (b'x-ratelimit-remaining-requests', b'9999'), (b'x-ratelimit-remaining-tokens', b'1999680'), (b'x-ratelimit-reset-requests', b'6ms'), (b'x-ratelimit-reset-tokens', b'9ms'), (b'x-request-id', b'req_2085d174e67eca77719a58f8ec6bf9ea'), (b'CF-Cache-Status', b'DYNAMIC'), (b'Set-Cookie', b'__cf_bm=MvK32IRLXHKqPhznbmqW_YOmABam_.eVw41D2iMjPZg-1713457605-1.0.1.1-88b0iBcakl_bo1V6sLQiDAXAfshPpk75uGOg1ZdeEK2IM6ib_qqg34iMYjvqjHV7wVRT911yR8.LE31Zzsc.ug; path=/; expires=Thu, 18-Apr-24 16:56:45 GMT; domain=.api.openai.com; HttpOnly; Secure; SameSite=None'), (b'Set-Cookie', b'_cfuvid=V2q8iwQ2pow72cRQ6UW2ReTyiKw4QC.6AgZTOwU1B9Y-1713457605690-0.0.1.1-604800000; path=/; domain=.api.openai.com; HttpOnly; Secure; SameSite=None'), (b'CF-RAY', b'876604a3ecb33624-FRA'), (b'Content-Encoding', b'gzip'), (b'alt-svc', b'h3=\":443\"; ma=86400'), (b'X-Cache-Status', b'MISS')])\n",
      "INFO:httpx:HTTP Request: POST https://openai.deeppavlov.ai/v1/chat/completions \"HTTP/1.1 200 OK\"\n",
      "DEBUG:httpcore.http11:receive_response_body.started request=<Request [b'POST']>\n",
      "DEBUG:httpcore.http11:receive_response_body.complete\n",
      "DEBUG:httpcore.http11:response_closed.started\n",
      "DEBUG:httpcore.http11:response_closed.complete\n",
      "DEBUG:openai._base_client:HTTP Request: POST https://openai.deeppavlov.ai/v1/chat/completions \"200 OK\"\n",
      "DEBUG:openai._base_client:Request options: {'method': 'post', 'url': '/chat/completions', 'files': None, 'json_data': {'messages': [{'role': 'system', 'content': 'You are an algorithm designed for extracting facts from text in a structured format to build a knowledge graph. Knowledge graph consists of set of triplets. Each triplet contains two entities (subject and object) and one relation that connects these subject and object. Entities represent nodes in knowledge graph, while relation represents a link between these two nodes. \\nSubjects and objects could be named entities or concepts describing a group of people, event or abstract object from Wikidata knowledge graph. \\nYou will be provided with the text entitled as \"Text:\". You are expected to output only the list of identified triplets in a json format as a list of triplets. Each triplet should have fields \"subject\", \"relation\", and \"object\" for subject, relation, and object correspondingly. \\n\\n<example>\\nInput:\\nText: Albert Einstein, born in Germany, is known for developing the relativity theory\\n\\nOutput:\\n[\\n    {\\n        \"subject\": \"Albert Einstein\",\\n        \"relation\": \"place_of_birth\",\\n        \"object\": \"Germany\"\\n    },\\n    {\\n        \"subject\": \"Albert Einstein\",\\n        \"relation\": \"work\",\\n        \"object\": \"relativity theory\"\\n    }\\n]\\n</example>'}, {'role': 'user', 'content': 'Text:\\nMakineh Nasiri is an Iranian village.'}, {'role': 'assistant', 'content': '[\\n    {\\n        \"subject\": \"Makineh Nasiri\",\\n        \"relation\": \"type\",\\n        \"object\": \"village\"\\n    },\\n    {\\n        \"subject\": \"Makineh Nasiri\",\\n        \"relation\": \"located_in\",\\n        \"object\": \"Iran\"\\n    }\\n]'}, {'role': 'system', 'content': 'For each relation and entity from triplets obtained on the previous step you will be provided with corresponding 5 exact names of similar relation/entity from Wikidata knowledge graph.\\nThe format of input is following: ```\\n                    Mapping of top-5 similar relations from Wikidata:\\n                    \"extracted_relation_1: [exact_relation_1_1, ..., exact_relation_1_5] \\\\n ... \\\\n extracted_relation_n: [exact_relation_n_1, ..., exact_relation_n_5] \\\\n\\\\n\\n                    Mapping of top-5 similar entities from Wikidata:\\n                     \"extracted_entity_1: [exact_entity_1_1, ..., exact_entity_1_5] \\\\n ... \\\\n extracted_entity_n: [exact_entity_n_1, ..., exact_entity_n_5].\\n                    ```\\nFor each entity and relation from the extracted triplets you should choose one most probable name only from the list of 5 probable ones that better match each triplet and the context of the previously demonstrated text.\\nAs the output provide the list of updated triplets in json format, but instead of previosly extracted names of relations and entities use the chosen ones from provided list of similar names.\\n\\n<example>\\n\\nInput:                     \\nMapping of top-5 similar relations from Wikidata:\\nborn_in: place_of_birth, elected_in, birthday, introduced_in, birth_name\\nwork: in_work, for_work, present_in_work, notable_work, applies_to_work\\n                     \\nMapping of top-5 similar entities from Wikidata:\\nAlbert Einstein: Albert Einstein, Alfred Einstein, Hans Einstein, Albert Einstein Israelite Hospital, Albert Einstein Medal\\nGermany: Germany, West Germany, Germans, German Empire, Weimar Republic \\nrelativity theory: Relativity Theory of Protons and Electrons, theory of relativity, special relativity, Physical Interpretation of Relativity Theory\\n\\nOutput:\\n[\\n    {\\n        \"subject\": \"Albert Einstein\",\\n        \"relation\": \"place_of_birth\",\\n        \"object\": \"Germany\"\\n    },\\n    {\\n        \"subject\": \"Albert Einstein\",\\n        \"relation\": \"notable_work\",\\n        \"object\": \"Theory of relativity\"\\n    }\\n]\\n\\n<example>\\'\\'\\''}, {'role': 'user', 'content': 'Mapping of top-5 similar relations from Wikidata:\\ntype: voice type, has fruit type, type of orbit, type of electrification, payment types accepted\\nlocated_in: location, coordinate location, headquarters location, located in time zone, work location\\n\\nMapping of top-5 similar entities from Wikidata:\\nMakineh Nasiri: Makineh Nasiri, Naseh, Nasiriyah, Mehdi Nasiri, Alireza Nasiri\\nMakineh Nasiri: Makineh Nasiri, Naseh, Nasiriyah, Mehdi Nasiri, Alireza Nasiri\\nvillage: Village, Village District, Urban village, Voivodeship, German Village\\nIran: Iran, Tehran Province, Taft, Iran, Iranian Persian, Iranistan'}], 'model': 'gpt-3.5-turbo', 'temperature': 0}}\n",
      "DEBUG:httpcore.http11:send_request_headers.started request=<Request [b'POST']>\n",
      "DEBUG:httpcore.http11:send_request_headers.complete\n",
      "DEBUG:httpcore.http11:send_request_body.started request=<Request [b'POST']>\n",
      "DEBUG:httpcore.http11:send_request_body.complete\n",
      "DEBUG:httpcore.http11:receive_response_headers.started request=<Request [b'POST']>\n"
     ]
    },
    {
     "name": "stdout",
     "output_type": "stream",
     "text": [
      "Mapping of top-5 similar relations from Wikidata:\n",
      "type: voice type, has fruit type, type of orbit, type of electrification, payment types accepted\n",
      "located_in: location, coordinate location, headquarters location, located in time zone, work location\n",
      "\n",
      "Mapping of top-5 similar entities from Wikidata:\n",
      "Makineh Nasiri: Makineh Nasiri, Naseh, Nasiriyah, Mehdi Nasiri, Alireza Nasiri\n",
      "Makineh Nasiri: Makineh Nasiri, Naseh, Nasiriyah, Mehdi Nasiri, Alireza Nasiri\n",
      "village: Village, Village District, Urban village, Voivodeship, German Village\n",
      "Iran: Iran, Tehran Province, Taft, Iran, Iranian Persian, Iranistan\n"
     ]
    },
    {
     "name": "stderr",
     "output_type": "stream",
     "text": [
      "DEBUG:httpcore.http11:receive_response_headers.complete return_value=(b'HTTP/1.1', 200, b'OK', [(b'Server', b'nginx'), (b'Date', b'Thu, 18 Apr 2024 16:26:52 GMT'), (b'Content-Type', b'application/json'), (b'Transfer-Encoding', b'chunked'), (b'Connection', b'keep-alive'), (b'Keep-Alive', b'timeout=20'), (b'access-control-allow-origin', b'*'), (b'Cache-Control', b'no-cache, must-revalidate'), (b'openai-model', b'gpt-3.5-turbo-0125'), (b'openai-organization', b'user-lafzdq3zadvnkudihgsmrbg5'), (b'openai-processing-ms', b'1549'), (b'openai-version', b'2020-10-01'), (b'strict-transport-security', b'max-age=15724800; includeSubDomains'), (b'x-ratelimit-limit-requests', b'10000'), (b'x-ratelimit-limit-tokens', b'2000000'), (b'x-ratelimit-remaining-requests', b'9999'), (b'x-ratelimit-remaining-tokens', b'1998961'), (b'x-ratelimit-reset-requests', b'6ms'), (b'x-ratelimit-reset-tokens', b'31ms'), (b'x-request-id', b'req_c7d8fe66e9b53231b03cbd8f77ce16d0'), (b'CF-Cache-Status', b'DYNAMIC'), (b'Set-Cookie', b'__cf_bm=iQe9jRG1Kqu2x2voH0vtb9Pbc0CYWHanVZw9jKyTabI-1713457612-1.0.1.1-MnQwSJ7n1LmtpUKA0Vgs.PMf7uzE8E60G7kSL0x2PJ5r.bpouOzm4y1TdKBNWUxRKQZEDStF5coHt1hpa.p_Sw; path=/; expires=Thu, 18-Apr-24 16:56:52 GMT; domain=.api.openai.com; HttpOnly; Secure; SameSite=None'), (b'Set-Cookie', b'_cfuvid=Udoqm0NRORRyDgoUuCugfVMqmsChKr4y9X5s4jr2P3w-1713457612092-0.0.1.1-604800000; path=/; domain=.api.openai.com; HttpOnly; Secure; SameSite=None'), (b'CF-RAY', b'876604d01cf0bbef-FRA'), (b'Content-Encoding', b'gzip'), (b'alt-svc', b'h3=\":443\"; ma=86400'), (b'X-Cache-Status', b'MISS')])\n",
      "INFO:httpx:HTTP Request: POST https://openai.deeppavlov.ai/v1/chat/completions \"HTTP/1.1 200 OK\"\n",
      "DEBUG:httpcore.http11:receive_response_body.started request=<Request [b'POST']>\n",
      "DEBUG:httpcore.http11:receive_response_body.complete\n",
      "DEBUG:httpcore.http11:response_closed.started\n",
      "DEBUG:httpcore.http11:response_closed.complete\n",
      "DEBUG:openai._base_client:HTTP Request: POST https://openai.deeppavlov.ai/v1/chat/completions \"200 OK\"\n"
     ]
    },
    {
     "name": "stdout",
     "output_type": "stream",
     "text": [
      "UNPROCESSED RESULTS \n",
      " [{'subject': 'Makineh Nasiri', 'relation': 'type', 'object': 'Village'}, {'subject': 'Makineh Nasiri', 'relation': 'located_in', 'object': 'Iran'}]\n",
      "PROCESSED RESULT:  []\n",
      "FILTERED TRIPLETS:  [('Makineh Nasiri', 'type', 'Village'), ('Makineh Nasiri', 'located in', 'Iran')]\n",
      "TARGETS: [('Makineh Nasiri', 'instance_of', 'Village'), ('Makineh Nasiri', 'country', 'Iran')]\n",
      "\n",
      "TEXT: Csaba Szentpétery, born in Budapest, Hungary, competed in Ice dance and Figure skating as a professional athlete. He had a business and sport partnership with Regina Woodward. Ice dance is distinct from Figure skating.\n"
     ]
    },
    {
     "name": "stderr",
     "output_type": "stream",
     "text": [
      "DEBUG:openai._base_client:Request options: {'method': 'post', 'url': '/chat/completions', 'files': None, 'json_data': {'messages': [{'role': 'system', 'content': 'You are an algorithm designed for extracting facts from text in a structured format to build a knowledge graph. Knowledge graph consists of set of triplets. Each triplet contains two entities (subject and object) and one relation that connects these subject and object. Entities represent nodes in knowledge graph, while relation represents a link between these two nodes. \\nSubjects and objects could be named entities or concepts describing a group of people, event or abstract object from Wikidata knowledge graph. \\nYou will be provided with the text entitled as \"Text:\". You are expected to output only the list of identified triplets in a json format as a list of triplets. Each triplet should have fields \"subject\", \"relation\", and \"object\" for subject, relation, and object correspondingly. \\n\\n<example>\\nInput:\\nText: Albert Einstein, born in Germany, is known for developing the relativity theory\\n\\nOutput:\\n[\\n    {\\n        \"subject\": \"Albert Einstein\",\\n        \"relation\": \"place_of_birth\",\\n        \"object\": \"Germany\"\\n    },\\n    {\\n        \"subject\": \"Albert Einstein\",\\n        \"relation\": \"work\",\\n        \"object\": \"relativity theory\"\\n    }\\n]\\n</example>'}, {'role': 'user', 'content': 'Text:\\nCsaba Szentpétery, born in Budapest, Hungary, competed in Ice dance and Figure skating as a professional athlete. He had a business and sport partnership with Regina Woodward. Ice dance is distinct from Figure skating.'}], 'model': 'gpt-3.5-turbo', 'temperature': 0}}\n",
      "DEBUG:httpcore.http11:send_request_headers.started request=<Request [b'POST']>\n",
      "DEBUG:httpcore.http11:send_request_headers.complete\n",
      "DEBUG:httpcore.http11:send_request_body.started request=<Request [b'POST']>\n",
      "DEBUG:httpcore.http11:send_request_body.complete\n",
      "DEBUG:httpcore.http11:receive_response_headers.started request=<Request [b'POST']>\n",
      "DEBUG:httpcore.http11:receive_response_headers.complete return_value=(b'HTTP/1.1', 200, b'OK', [(b'Server', b'nginx'), (b'Date', b'Thu, 18 Apr 2024 16:26:58 GMT'), (b'Content-Type', b'application/json'), (b'Transfer-Encoding', b'chunked'), (b'Connection', b'keep-alive'), (b'Keep-Alive', b'timeout=20'), (b'access-control-allow-origin', b'*'), (b'Cache-Control', b'no-cache, must-revalidate'), (b'openai-model', b'gpt-3.5-turbo-0125'), (b'openai-organization', b'user-lafzdq3zadvnkudihgsmrbg5'), (b'openai-processing-ms', b'5011'), (b'openai-version', b'2020-10-01'), (b'strict-transport-security', b'max-age=15724800; includeSubDomains'), (b'x-ratelimit-limit-requests', b'10000'), (b'x-ratelimit-limit-tokens', b'2000000'), (b'x-ratelimit-remaining-requests', b'9999'), (b'x-ratelimit-remaining-tokens', b'1999636'), (b'x-ratelimit-reset-requests', b'6ms'), (b'x-ratelimit-reset-tokens', b'10ms'), (b'x-request-id', b'req_a2015c5ebb70fee55b478fb3113afbd5'), (b'CF-Cache-Status', b'DYNAMIC'), (b'Set-Cookie', b'__cf_bm=snHjyb.9nIpZ5iEsIE5s9mo7qH6sfefjLuUsqQtc6Vs-1713457618-1.0.1.1-NJXAjkekZTjQj6qmmHeDIY2_rtTGBLmVrrLzffZFFWyECHZNi6j_FMUgMGgAfgK5md04dBL0BiSbrhI50EXGzA; path=/; expires=Thu, 18-Apr-24 16:56:58 GMT; domain=.api.openai.com; HttpOnly; Secure; SameSite=None'), (b'Set-Cookie', b'_cfuvid=Ad5InJyhpylploJPiEB9NrwpJeqElfv5.yESPJF5Cbk-1713457618279-0.0.1.1-604800000; path=/; domain=.api.openai.com; HttpOnly; Secure; SameSite=None'), (b'CF-RAY', b'876604e1c8ef1992-FRA'), (b'Content-Encoding', b'gzip'), (b'alt-svc', b'h3=\":443\"; ma=86400'), (b'X-Cache-Status', b'MISS')])\n",
      "INFO:httpx:HTTP Request: POST https://openai.deeppavlov.ai/v1/chat/completions \"HTTP/1.1 200 OK\"\n",
      "DEBUG:httpcore.http11:receive_response_body.started request=<Request [b'POST']>\n",
      "DEBUG:httpcore.http11:receive_response_body.complete\n",
      "DEBUG:httpcore.http11:response_closed.started\n",
      "DEBUG:httpcore.http11:response_closed.complete\n",
      "DEBUG:openai._base_client:HTTP Request: POST https://openai.deeppavlov.ai/v1/chat/completions \"200 OK\"\n",
      "DEBUG:openai._base_client:Request options: {'method': 'post', 'url': '/chat/completions', 'files': None, 'json_data': {'messages': [{'role': 'system', 'content': 'You are an algorithm designed for extracting facts from text in a structured format to build a knowledge graph. Knowledge graph consists of set of triplets. Each triplet contains two entities (subject and object) and one relation that connects these subject and object. Entities represent nodes in knowledge graph, while relation represents a link between these two nodes. \\nSubjects and objects could be named entities or concepts describing a group of people, event or abstract object from Wikidata knowledge graph. \\nYou will be provided with the text entitled as \"Text:\". You are expected to output only the list of identified triplets in a json format as a list of triplets. Each triplet should have fields \"subject\", \"relation\", and \"object\" for subject, relation, and object correspondingly. \\n\\n<example>\\nInput:\\nText: Albert Einstein, born in Germany, is known for developing the relativity theory\\n\\nOutput:\\n[\\n    {\\n        \"subject\": \"Albert Einstein\",\\n        \"relation\": \"place_of_birth\",\\n        \"object\": \"Germany\"\\n    },\\n    {\\n        \"subject\": \"Albert Einstein\",\\n        \"relation\": \"work\",\\n        \"object\": \"relativity theory\"\\n    }\\n]\\n</example>'}, {'role': 'user', 'content': 'Text:\\nCsaba Szentpétery, born in Budapest, Hungary, competed in Ice dance and Figure skating as a professional athlete. He had a business and sport partnership with Regina Woodward. Ice dance is distinct from Figure skating.'}, {'role': 'assistant', 'content': '[\\n    {\\n        \"subject\": \"Csaba Szentpétery\",\\n        \"relation\": \"place_of_birth\",\\n        \"object\": \"Budapest, Hungary\"\\n    },\\n    {\\n        \"subject\": \"Csaba Szentpétery\",\\n        \"relation\": \"profession\",\\n        \"object\": \"professional athlete\"\\n    },\\n    {\\n        \"subject\": \"Csaba Szentpétery\",\\n        \"relation\": \"sport\",\\n        \"object\": \"Ice dance\"\\n    },\\n    {\\n        \"subject\": \"Csaba Szentpétery\",\\n        \"relation\": \"sport\",\\n        \"object\": \"Figure skating\"\\n    },\\n    {\\n        \"subject\": \"Csaba Szentpétery\",\\n        \"relation\": \"partnership\",\\n        \"object\": \"Regina Woodward\"\\n    },\\n    {\\n        \"subject\": \"Ice dance\",\\n        \"relation\": \"distinct_from\",\\n        \"object\": \"Figure skating\"\\n    }\\n]'}, {'role': 'system', 'content': 'For each relation and entity from triplets obtained on the previous step you will be provided with corresponding 5 exact names of similar relation/entity from Wikidata knowledge graph.\\nThe format of input is following: ```\\n                    Mapping of top-5 similar relations from Wikidata:\\n                    \"extracted_relation_1: [exact_relation_1_1, ..., exact_relation_1_5] \\\\n ... \\\\n extracted_relation_n: [exact_relation_n_1, ..., exact_relation_n_5] \\\\n\\\\n\\n                    Mapping of top-5 similar entities from Wikidata:\\n                     \"extracted_entity_1: [exact_entity_1_1, ..., exact_entity_1_5] \\\\n ... \\\\n extracted_entity_n: [exact_entity_n_1, ..., exact_entity_n_5].\\n                    ```\\nFor each entity and relation from the extracted triplets you should choose one most probable name only from the list of 5 probable ones that better match each triplet and the context of the previously demonstrated text.\\nAs the output provide the list of updated triplets in json format, but instead of previosly extracted names of relations and entities use the chosen ones from provided list of similar names.\\n\\n<example>\\n\\nInput:                     \\nMapping of top-5 similar relations from Wikidata:\\nborn_in: place_of_birth, elected_in, birthday, introduced_in, birth_name\\nwork: in_work, for_work, present_in_work, notable_work, applies_to_work\\n                     \\nMapping of top-5 similar entities from Wikidata:\\nAlbert Einstein: Albert Einstein, Alfred Einstein, Hans Einstein, Albert Einstein Israelite Hospital, Albert Einstein Medal\\nGermany: Germany, West Germany, Germans, German Empire, Weimar Republic \\nrelativity theory: Relativity Theory of Protons and Electrons, theory of relativity, special relativity, Physical Interpretation of Relativity Theory\\n\\nOutput:\\n[\\n    {\\n        \"subject\": \"Albert Einstein\",\\n        \"relation\": \"place_of_birth\",\\n        \"object\": \"Germany\"\\n    },\\n    {\\n        \"subject\": \"Albert Einstein\",\\n        \"relation\": \"notable_work\",\\n        \"object\": \"Theory of relativity\"\\n    }\\n]\\n\\n<example>\\'\\'\\''}, {'role': 'user', 'content': 'Mapping of top-5 similar relations from Wikidata:\\nplace_of_birth: place of birth, place of death, date of birth, place of burial, date of baptism in early childhood\\nprofession: field of this occupation, industry, field of work, health specialty, service retirement\\nsport: sport, sport number, country for sport, sports league level, sports season of league or competition\\nsport: sport, sport number, country for sport, sports league level, sports season of league or competition\\npartnership: partnership with, together with, affiliation, airline alliance, partner in business or sport\\ndistinct_from: separated from, different from, group cardinality, generalization of, is metaclass for\\n\\nMapping of top-5 similar entities from Wikidata:\\nCsaba Szentpétery: Csaba Szentpétery, Viktor Szentpéteri, Szentpéterúr, Sajószentpéter, Szentpéterfa\\nCsaba Szentpétery: Csaba Szentpétery, Viktor Szentpéteri, Szentpéterúr, Sajószentpéter, Szentpéterfa\\nCsaba Szentpétery: Csaba Szentpétery, Viktor Szentpéteri, Szentpéterúr, Sajószentpéter, Szentpéterfa\\nCsaba Szentpétery: Csaba Szentpétery, Viktor Szentpéteri, Szentpéterúr, Sajószentpéter, Szentpéterfa\\nCsaba Szentpétery: Csaba Szentpétery, Viktor Szentpéteri, Szentpéterúr, Sajószentpéter, Szentpéterfa\\nIce dance: Ice dance, Dancing on Ice, Ice show, Chorus Skating, Ice skate\\nBudapest, Hungary: Budapest, Pest, Hungary, Tata, Hungary, Budapesti TC, MAC Budapest\\nprofessional athlete: Professional, Professional sports, Amateur sports, Amateur wrestling, Semi-professional sports\\nIce dance: Ice dance, Dancing on Ice, Ice show, Chorus Skating, Ice skate\\nFigure skating: Figure skating, Figure skate, Figure skating season, Figure skating club, Figure skating competition\\nRegina Woodward: Regina Woodward, Victoria Woodward, Kathleen Woodward, Georgia Woodward, Grace Woodward\\nFigure skating: Figure skating, Figure skate, Figure skating season, Figure skating club, Figure skating competition'}], 'model': 'gpt-3.5-turbo', 'temperature': 0}}\n",
      "DEBUG:httpcore.http11:send_request_headers.started request=<Request [b'POST']>\n",
      "DEBUG:httpcore.http11:send_request_headers.complete\n",
      "DEBUG:httpcore.http11:send_request_body.started request=<Request [b'POST']>\n",
      "DEBUG:httpcore.http11:send_request_body.complete\n",
      "DEBUG:httpcore.http11:receive_response_headers.started request=<Request [b'POST']>\n"
     ]
    },
    {
     "name": "stdout",
     "output_type": "stream",
     "text": [
      "Mapping of top-5 similar relations from Wikidata:\n",
      "place_of_birth: place of birth, place of death, date of birth, place of burial, date of baptism in early childhood\n",
      "profession: field of this occupation, industry, field of work, health specialty, service retirement\n",
      "sport: sport, sport number, country for sport, sports league level, sports season of league or competition\n",
      "sport: sport, sport number, country for sport, sports league level, sports season of league or competition\n",
      "partnership: partnership with, together with, affiliation, airline alliance, partner in business or sport\n",
      "distinct_from: separated from, different from, group cardinality, generalization of, is metaclass for\n",
      "\n",
      "Mapping of top-5 similar entities from Wikidata:\n",
      "Csaba Szentpétery: Csaba Szentpétery, Viktor Szentpéteri, Szentpéterúr, Sajószentpéter, Szentpéterfa\n",
      "Csaba Szentpétery: Csaba Szentpétery, Viktor Szentpéteri, Szentpéterúr, Sajószentpéter, Szentpéterfa\n",
      "Csaba Szentpétery: Csaba Szentpétery, Viktor Szentpéteri, Szentpéterúr, Sajószentpéter, Szentpéterfa\n",
      "Csaba Szentpétery: Csaba Szentpétery, Viktor Szentpéteri, Szentpéterúr, Sajószentpéter, Szentpéterfa\n",
      "Csaba Szentpétery: Csaba Szentpétery, Viktor Szentpéteri, Szentpéterúr, Sajószentpéter, Szentpéterfa\n",
      "Ice dance: Ice dance, Dancing on Ice, Ice show, Chorus Skating, Ice skate\n",
      "Budapest, Hungary: Budapest, Pest, Hungary, Tata, Hungary, Budapesti TC, MAC Budapest\n",
      "professional athlete: Professional, Professional sports, Amateur sports, Amateur wrestling, Semi-professional sports\n",
      "Ice dance: Ice dance, Dancing on Ice, Ice show, Chorus Skating, Ice skate\n",
      "Figure skating: Figure skating, Figure skate, Figure skating season, Figure skating club, Figure skating competition\n",
      "Regina Woodward: Regina Woodward, Victoria Woodward, Kathleen Woodward, Georgia Woodward, Grace Woodward\n",
      "Figure skating: Figure skating, Figure skate, Figure skating season, Figure skating club, Figure skating competition\n"
     ]
    },
    {
     "name": "stderr",
     "output_type": "stream",
     "text": [
      "DEBUG:httpcore.http11:receive_response_headers.complete return_value=(b'HTTP/1.1', 200, b'OK', [(b'Server', b'nginx'), (b'Date', b'Thu, 18 Apr 2024 16:27:05 GMT'), (b'Content-Type', b'application/json'), (b'Transfer-Encoding', b'chunked'), (b'Connection', b'keep-alive'), (b'Keep-Alive', b'timeout=20'), (b'access-control-allow-origin', b'*'), (b'Cache-Control', b'no-cache, must-revalidate'), (b'openai-model', b'gpt-3.5-turbo-0125'), (b'openai-organization', b'user-lafzdq3zadvnkudihgsmrbg5'), (b'openai-processing-ms', b'4423'), (b'openai-version', b'2020-10-01'), (b'strict-transport-security', b'max-age=15724800; includeSubDomains'), (b'x-ratelimit-limit-requests', b'10000'), (b'x-ratelimit-limit-tokens', b'2000000'), (b'x-ratelimit-remaining-requests', b'9999'), (b'x-ratelimit-remaining-tokens', b'1998444'), (b'x-ratelimit-reset-requests', b'6ms'), (b'x-ratelimit-reset-tokens', b'46ms'), (b'x-request-id', b'req_4ffcc658ae6fc5223d86d25a2227e4ec'), (b'CF-Cache-Status', b'DYNAMIC'), (b'Set-Cookie', b'__cf_bm=UOoWI5.6qHZC5oBcRtw3u1qo7baOIcKJ.9jSj5JTv0E-1713457625-1.0.1.1-6Gv1c2epUhH9LNuAUa1ZOsdmi2d12D8cvX0Qhesul4SMGtbjc4GMu.imBfV.nFrLuqShHWYaNsrx3IFf3YL47w; path=/; expires=Thu, 18-Apr-24 16:57:05 GMT; domain=.api.openai.com; HttpOnly; Secure; SameSite=None'), (b'Set-Cookie', b'_cfuvid=lAtOnxpU8LN9o37qyPd_IVn31t.MvHy7WQi9tUyuWTs-1713457625515-0.0.1.1-604800000; path=/; domain=.api.openai.com; HttpOnly; Secure; SameSite=None'), (b'CF-RAY', b'876605121ce7365d-FRA'), (b'Content-Encoding', b'gzip'), (b'alt-svc', b'h3=\":443\"; ma=86400'), (b'X-Cache-Status', b'MISS')])\n",
      "INFO:httpx:HTTP Request: POST https://openai.deeppavlov.ai/v1/chat/completions \"HTTP/1.1 200 OK\"\n",
      "DEBUG:httpcore.http11:receive_response_body.started request=<Request [b'POST']>\n",
      "DEBUG:httpcore.http11:receive_response_body.complete\n",
      "DEBUG:httpcore.http11:response_closed.started\n",
      "DEBUG:httpcore.http11:response_closed.complete\n",
      "DEBUG:openai._base_client:HTTP Request: POST https://openai.deeppavlov.ai/v1/chat/completions \"200 OK\"\n"
     ]
    },
    {
     "name": "stdout",
     "output_type": "stream",
     "text": [
      "UNPROCESSED RESULTS \n",
      " [{'subject': 'Csaba Szentpétery', 'relation': 'place of birth', 'object': 'Budapest, Hungary'}, {'subject': 'Csaba Szentpétery', 'relation': 'profession', 'object': 'professional athlete'}, {'subject': 'Csaba Szentpétery', 'relation': 'sport', 'object': 'Ice dance'}, {'subject': 'Csaba Szentpétery', 'relation': 'sport', 'object': 'Figure skating'}, {'subject': 'Csaba Szentpétery', 'relation': 'partnership with', 'object': 'Regina Woodward'}, {'subject': 'Ice dance', 'relation': 'distinct_from', 'object': 'Figure skating'}]\n",
      "PROCESSED RESULT:  [('Csaba Szentpétery', 'sport', 'Ice dance'), ('Csaba Szentpétery', 'sport', 'Figure skating')]\n",
      "FILTERED TRIPLETS:  [('Csaba Szentpétery', 'place of birth', 'Budapest, Hungary'), ('Csaba Szentpétery', 'profession', 'professional athlete'), ('Csaba Szentpétery', 'partnership with', 'Regina Woodward'), ('Ice dance', 'distinct from', 'Figure skating')]\n",
      "TARGETS: [('Csaba Szentpétery', 'sports_discipline_competed_in', 'Ice dance'), ('Csaba Szentpétery', 'partner_in_business_or_sport', 'Regina Woodward'), ('Csaba Szentpétery', 'sport', 'Figure skating'), ('Csaba Szentpétery', 'country_for_sport', 'Hungary'), ('Csaba Szentpétery', 'place_of_birth', 'Budapest'), ('Ice dance', 'different_from', 'Figure skating')]\n",
      "\n"
     ]
    }
   ],
   "source": [
    "logs = []\n",
    "\n",
    "unaligned_results = []\n",
    "result_ids = []\n",
    "\n",
    "targets = []\n",
    "target_ids = []\n",
    "\n",
    "\n",
    "for i in range(0, 10):\n",
    "\n",
    "    i = int(i)\n",
    "    text = dataset[i]['text']\n",
    "    print(\"TEXT: \" + text)\n",
    "\n",
    "    target = transform_targets_syntie(dataset['triplets'][i])\n",
    "\n",
    "    triplets = extractor.get_completion_first_query(text)\n",
    "\n",
    "    triplets = triplets.strip()\n",
    "\n",
    "    result_unaligned = transform_results(triplets)\n",
    "    \n",
    "\n",
    "    similar_relations = aligner.top_relations_by_llm_output(llm_output=triplets)\n",
    "    similar_entities = aligner.top_entities_by_llm_output(llm_output=triplets, entity_type='subject')\n",
    "    similar_entities.extend(aligner.top_entities_by_llm_output(llm_output=triplets, entity_type='object'))\n",
    "\n",
    "    similar_relations = \"\\n\".join([re.sub(\"[\\[\\]\\{\\}\\']\", '', str(item)) for item in similar_relations])\n",
    "    similar_entities = \"\\n\".join([re.sub(\"[\\[\\]\\{\\}\\']\", '', str(item)) for item in similar_entities])\n",
    "    \n",
    "    res = extractor.get_completion_second_query(similar_entities=similar_entities, similar_relations=similar_relations)\n",
    "    res_ids = align_results(res, aligner)\n",
    "\n",
    "    print('TARGETS: ' + str(target['text_triplets']), end='\\n\\n')\n",
    "\n",
    "    targets.append(target['text_triplets'])\n",
    "    target_ids.append(target['triplets'])\n",
    "\n",
    "    result_ids.append(res_ids)\n",
    "    unaligned_results.append(result_unaligned)\n",
    "\n",
    "    logs.append(extractor.messages.copy())\n",
    "    \n",
    "    time.sleep(0.5)"
   ]
  },
  {
   "cell_type": "code",
   "execution_count": 13,
   "metadata": {},
   "outputs": [
    {
     "data": {
      "text/plain": [
       "'[\\n    {\\n        \"subject\": \"Csaba Szentpétery\",\\n        \"relation\": \"place_of_birth\",\\n        \"object\": \"Budapest, Hungary\"\\n    },\\n    {\\n        \"subject\": \"Csaba Szentpétery\",\\n        \"relation\": \"profession\",\\n        \"object\": \"professional athlete\"\\n    },\\n    {\\n        \"subject\": \"Csaba Szentpétery\",\\n        \"relation\": \"sport\",\\n        \"object\": \"Ice dance\"\\n    },\\n    {\\n        \"subject\": \"Csaba Szentpétery\",\\n        \"relation\": \"sport\",\\n        \"object\": \"Figure skating\"\\n    },\\n    {\\n        \"subject\": \"Csaba Szentpétery\",\\n        \"relation\": \"partnership\",\\n        \"object\": \"Regina Woodward\"\\n    },\\n    {\\n        \"subject\": \"Ice dance\",\\n        \"relation\": \"distinct_from\",\\n        \"object\": \"Figure skating\"\\n    }\\n]'"
      ]
     },
     "execution_count": 13,
     "metadata": {},
     "output_type": "execute_result"
    }
   ],
   "source": [
    "triplets"
   ]
  },
  {
   "cell_type": "code",
   "execution_count": 16,
   "metadata": {},
   "outputs": [
    {
     "data": {
      "text/plain": [
       "[[('Harold Schwartz', 'nationality', 'United States'),\n",
       "  ('Harold Schwartz', 'instance of', 'human')],\n",
       " [('Nate Blackwell', 'place of birth', 'Philadelphia, Pennsylvania'),\n",
       "  ('Nate Blackwell', 'occupation', 'professional basketball player'),\n",
       "  ('Nate Blackwell', 'organization', 'National Basketball Association'),\n",
       "  ('Nate Blackwell', 'education', 'Temple University'),\n",
       "  ('Nate Blackwell', 'native language', 'English'),\n",
       "  ('Philadelphia County, Pennsylvania', 'coextensive with', 'Philadelphia'),\n",
       "  ('Philadelphia County, Pennsylvania',\n",
       "   'shares border with',\n",
       "   'Lower Moreland Township, Montgomery County, Pennsylvania')],\n",
       " [('Nathan George Evans', 'place of birth', 'Marion, South Carolina'),\n",
       "  ('Nathan George Evans', 'served in', 'Confederate States of America'),\n",
       "  ('Nathan George Evans', 'rank', 'Brigadier General'),\n",
       "  ('Nathan George Evans', 'rank', 'General Officer'),\n",
       "  ('Nathan George Evans', 'fought in', 'Battle of Antietam'),\n",
       "  ('Nathan George Evans', 'fought in', \"Battle of Ball's Bluff\"),\n",
       "  ('Nathan George Evans', 'fought in', 'Second Battle of Bull Run'),\n",
       "  ('Kansas–Nebraska Act', 'contributed to', 'American Civil War'),\n",
       "  (\"John Brown's raid on Harpers Ferry\",\n",
       "   'contributed to',\n",
       "   'American Civil War')],\n",
       " [('Family Matters', 'set in', '1989'),\n",
       "  ('Family Matters', 'features', 'List of Family Matters characters')],\n",
       " [('Harry Agar Lyons', 'occupation', 'actor')],\n",
       " [('Swissair', 'country', 'Switzerland'),\n",
       "  ('Swissair', 'headquarters', 'Zürich'),\n",
       "  ('Swissair', 'hub', 'Zurich Airport'),\n",
       "  ('Swissair', 'subsidary', 'Crossair'),\n",
       "  ('Swissair', 'replaced by', 'Swiss International Air Lines')],\n",
       " [('Carlos Semprún', 'language', 'French'),\n",
       "  ('Carlos Semprún', 'language', 'Spanish'),\n",
       "  ('Carlos Semprún', 'place of death', 'Paris'),\n",
       "  ('Carlos Semprún', 'has sibling', 'Jorge Semprún')],\n",
       " [('Alliance Theatre', 'location', 'Georgia'),\n",
       "  ('Alliance Theatre', 'awards received', 'Regional Theatre Tony Award'),\n",
       "  ('Alliance Theatre', 'part of', 'Woodruff Arts Center'),\n",
       "  ('Alliance Theatre', 'part of', 'United States')],\n",
       " [('Makineh Nasiri', 'type', 'village'),\n",
       "  ('Makineh Nasiri', 'located in', 'Iran')],\n",
       " [('Csaba Szentpétery', 'place of birth', 'Budapest, Hungary'),\n",
       "  ('Csaba Szentpétery', 'profession', 'professional athlete'),\n",
       "  ('Csaba Szentpétery', 'sport', 'Ice dance'),\n",
       "  ('Csaba Szentpétery', 'sport', 'Figure skating'),\n",
       "  ('Csaba Szentpétery', 'partnership', 'Regina Woodward'),\n",
       "  ('Ice dance', 'distinct from', 'Figure skating')]]"
      ]
     },
     "execution_count": 16,
     "metadata": {},
     "output_type": "execute_result"
    }
   ],
   "source": [
    "unaligned_results"
   ]
  },
  {
   "cell_type": "code",
   "execution_count": 17,
   "metadata": {},
   "outputs": [
    {
     "data": {
      "text/plain": [
       "[[('Q65568450', 'P27', 'Q30'), ('Q65568450', 'P31', 'Q5')],\n",
       " [('Q4401184', 'P19', 'Q1345'),\n",
       "  ('Q4401184', 'P118', 'Q155223'),\n",
       "  ('Q4401184', 'P69', 'Q1420239'),\n",
       "  ('Q4401184', 'P103', 'Q1860'),\n",
       "  ('Q1345', 'P47', 'Q6693640'),\n",
       "  ('Q1345', 'P3403', 'Q496900')],\n",
       " [('Q1966555', 'P607', 'Q8676'),\n",
       "  ('Q1966555', 'P19', 'Q1424514'),\n",
       "  ('Q1966555', 'P607', 'Q719252'),\n",
       "  ('Q1966555', 'P607', 'Q1497909'),\n",
       "  ('Q1966555', 'P607', 'Q233343'),\n",
       "  ('Q1966555', 'P945', 'Q81931'),\n",
       "  ('Q1966555', 'P410', 'Q152956'),\n",
       "  ('Q1966555', 'P410', 'Q83460'),\n",
       "  ('Q8676', 'P1479', 'Q619762'),\n",
       "  ('Q8676', 'P1479', 'Q6223430')],\n",
       " [('Q593838', 'P2408', 'Q2425'), ('Q593838', 'P1881', 'Q6570699')],\n",
       " [('Q5666835', 'P106', 'Q33999')],\n",
       " [('Q694098', 'P113', 'Q15114'),\n",
       "  ('Q694098', 'P1366', 'Q156776'),\n",
       "  ('Q694098', 'P355', 'Q667656'),\n",
       "  ('Q694098', 'P159', 'Q72'),\n",
       "  ('Q694098', 'P17', 'Q39')],\n",
       " [('Q2555120', 'P6886', 'Q150'),\n",
       "  ('Q2555120', 'P6886', 'Q1321'),\n",
       "  ('Q2555120', 'P20', 'Q90'),\n",
       "  ('Q2555120', 'P3373', 'Q157004')],\n",
       " [('Q4732331', 'P749', 'Q8033228'),\n",
       "  ('Q4732331', 'P166', 'Q3423542'),\n",
       "  ('Q4732331', 'P131', 'Q1428'),\n",
       "  ('Q4732331', 'P17', 'Q30'),\n",
       "  ('Q8033228', 'P355', 'Q4732331')],\n",
       " [('Q5848864', 'P31', 'Q532'), ('Q5848864', 'P17', 'Q794')],\n",
       " [('Q56839660', 'P2416', 'Q926191'),\n",
       "  ('Q56839660', 'P1327', 'Q56839666'),\n",
       "  ('Q56839660', 'P641', 'Q38108'),\n",
       "  ('Q56839660', 'P1532', 'Q28'),\n",
       "  ('Q56839660', 'P19', 'Q1781'),\n",
       "  ('Q926191', 'P1889', 'Q38108')]]"
      ]
     },
     "execution_count": 17,
     "metadata": {},
     "output_type": "execute_result"
    }
   ],
   "source": [
    "target_ids"
   ]
  },
  {
   "cell_type": "code",
   "execution_count": 18,
   "metadata": {},
   "outputs": [
    {
     "data": {
      "text/plain": [
       "[[('Q65568450', 'P27', 'Q30'), ('Q65568450', 'P31', 'Q5')],\n",
       " [('Q496900', 'P3403', 'Q1345'), ('Q496900', 'P47', 'Q6693640')],\n",
       " [('Q1966555', 'P19', 'Q1424514'), ('Q1966555', 'P410', 'Q152956')],\n",
       " [],\n",
       " [('Q5666835', 'P106', 'Q33999')],\n",
       " [('Q694098', 'P17', 'Q39'),\n",
       "  ('Q694098', 'P159', 'Q72'),\n",
       "  ('Q694098', 'P113', 'Q15114'),\n",
       "  ('Q694098', 'P1366', 'Q156776')],\n",
       " [('Q2555120', 'P20', 'Q90'), ('Q2555120', 'P3373', 'Q157004')],\n",
       " [('Q4732331', 'P166', 'Q3423542'),\n",
       "  ('Q4732331', 'P361', 'Q8033228'),\n",
       "  ('Q4732331', 'P361', 'Q30')],\n",
       " [],\n",
       " [('Q56839660', 'P641', 'Q926191'), ('Q56839660', 'P641', 'Q38108')]]"
      ]
     },
     "execution_count": 18,
     "metadata": {},
     "output_type": "execute_result"
    }
   ],
   "source": [
    "result_ids"
   ]
  },
  {
   "cell_type": "code",
   "execution_count": 20,
   "metadata": {},
   "outputs": [
    {
     "data": {
      "text/plain": [
       "[[('Harold Schwartz', 'country_of_citizenship', 'United States'),\n",
       "  ('Harold Schwartz', 'instance_of', 'Human')],\n",
       " [('Nate Blackwell', 'place_of_birth', 'Philadelphia'),\n",
       "  ('Nate Blackwell', 'league', 'National Basketball Association'),\n",
       "  ('Nate Blackwell', 'educated_at', 'Temple University'),\n",
       "  ('Nate Blackwell', 'native_language', 'English language'),\n",
       "  ('Philadelphia',\n",
       "   'shares_border_with',\n",
       "   'Lower Moreland Township, Montgomery County, Pennsylvania'),\n",
       "  ('Philadelphia', 'coextensive_with', 'Philadelphia County, Pennsylvania')],\n",
       " [('Nathan George Evans', 'conflict', 'American Civil War'),\n",
       "  ('Nathan George Evans', 'place_of_birth', 'Marion, South Carolina'),\n",
       "  ('Nathan George Evans', 'conflict', 'Battle of Antietam'),\n",
       "  ('Nathan George Evans', 'conflict', \"Battle of Ball's Bluff\"),\n",
       "  ('Nathan George Evans', 'conflict', 'Second Battle of Bull Run'),\n",
       "  ('Nathan George Evans', 'allegiance', 'Confederate States of America'),\n",
       "  ('Nathan George Evans', 'military_rank', 'Brigadier general'),\n",
       "  ('Nathan George Evans', 'military_rank', 'General officer'),\n",
       "  ('American Civil War', 'has_contributing_factor', 'Kansas–Nebraska Act'),\n",
       "  ('American Civil War',\n",
       "   'has_contributing_factor',\n",
       "   \"John Brown's raid on Harpers Ferry\")],\n",
       " [('Family Matters', 'set_in_period', '1989'),\n",
       "  ('Family Matters',\n",
       "   'list_of_characters',\n",
       "   'List of Family Matters characters')],\n",
       " [('Harry Agar Lyons', 'occupation', 'Actor')],\n",
       " [('Swissair', 'airline_hub', 'Zurich Airport'),\n",
       "  ('Swissair', 'replaced_by', 'Swiss International Air Lines'),\n",
       "  ('Swissair', 'subsidiary', 'Crossair'),\n",
       "  ('Swissair', 'headquarters_location', 'Zürich'),\n",
       "  ('Swissair', 'country', 'Switzerland')],\n",
       " [('Carlos Semprún', 'writing_language', 'French language'),\n",
       "  ('Carlos Semprún', 'writing_language', 'Spanish language'),\n",
       "  ('Carlos Semprún', 'place_of_death', 'Paris'),\n",
       "  ('Carlos Semprún', 'sibling', 'Jorge Semprún')],\n",
       " [('Alliance Theatre', 'parent_organization', 'Woodruff Arts Center'),\n",
       "  ('Alliance Theatre', 'award_received', 'Regional Theatre Tony Award'),\n",
       "  ('Alliance Theatre',\n",
       "   'located_in_the_administrative_territorial_entity',\n",
       "   'Georgia (U.S. state)'),\n",
       "  ('Alliance Theatre', 'country', 'United States'),\n",
       "  ('Woodruff Arts Center', 'subsidiary', 'Alliance Theatre')],\n",
       " [('Makineh Nasiri', 'instance_of', 'Village'),\n",
       "  ('Makineh Nasiri', 'country', 'Iran')],\n",
       " [('Csaba Szentpétery', 'sports_discipline_competed_in', 'Ice dance'),\n",
       "  ('Csaba Szentpétery', 'partner_in_business_or_sport', 'Regina Woodward'),\n",
       "  ('Csaba Szentpétery', 'sport', 'Figure skating'),\n",
       "  ('Csaba Szentpétery', 'country_for_sport', 'Hungary'),\n",
       "  ('Csaba Szentpétery', 'place_of_birth', 'Budapest'),\n",
       "  ('Ice dance', 'different_from', 'Figure skating')]]"
      ]
     },
     "execution_count": 20,
     "metadata": {},
     "output_type": "execute_result"
    }
   ],
   "source": [
    "targets"
   ]
  },
  {
   "cell_type": "code",
   "execution_count": 21,
   "metadata": {},
   "outputs": [
    {
     "data": {
      "text/plain": [
       "10"
      ]
     },
     "execution_count": 21,
     "metadata": {},
     "output_type": "execute_result"
    }
   ],
   "source": [
    "len(logs)"
   ]
  },
  {
   "cell_type": "code",
   "execution_count": 22,
   "metadata": {},
   "outputs": [],
   "source": [
    "with open('logs.json', 'w') as f:\n",
    "    json.dump(logs, f)"
   ]
  },
  {
   "cell_type": "code",
   "execution_count": 23,
   "metadata": {},
   "outputs": [
    {
     "data": {
      "text/plain": [
       "(0.3023255813953488, 0.7222222222222222)"
      ]
     },
     "execution_count": 23,
     "metadata": {},
     "output_type": "execute_result"
    }
   ],
   "source": [
    "micro_recall(result_ids, target_ids), micro_precision(result_ids, target_ids)"
   ]
  },
  {
   "cell_type": "code",
   "execution_count": 24,
   "metadata": {},
   "outputs": [
    {
     "data": {
      "text/plain": [
       "(0.3023255813953488, 0.7222222222222222)"
      ]
     },
     "execution_count": 24,
     "metadata": {},
     "output_type": "execute_result"
    }
   ],
   "source": [
    "micro_recall(result_ids, target_ids), micro_precision(result_ids, target_ids)"
   ]
  },
  {
   "cell_type": "code",
   "execution_count": 25,
   "metadata": {},
   "outputs": [
    {
     "data": {
      "text/plain": [
       "(0.046511627906976744, 0.047619047619047616)"
      ]
     },
     "execution_count": 25,
     "metadata": {},
     "output_type": "execute_result"
    }
   ],
   "source": [
    "micro_recall(unaligned_results, targets), micro_precision(unaligned_results, targets)"
   ]
  },
  {
   "cell_type": "code",
   "execution_count": 26,
   "metadata": {},
   "outputs": [
    {
     "data": {
      "text/plain": [
       "(0.3023255813953488, 0.7222222222222222)"
      ]
     },
     "execution_count": 26,
     "metadata": {},
     "output_type": "execute_result"
    }
   ],
   "source": [
    "micro_recall(result_ids, target_ids), micro_precision(result_ids, target_ids)"
   ]
  },
  {
   "cell_type": "code",
   "execution_count": 37,
   "metadata": {},
   "outputs": [
    {
     "data": {
      "text/plain": [
       "2.9999999999999997e-05"
      ]
     },
     "execution_count": 37,
     "metadata": {},
     "output_type": "execute_result"
    }
   ],
   "source": [
    "0.03 / 1000"
   ]
  },
  {
   "cell_type": "code",
   "execution_count": 38,
   "metadata": {},
   "outputs": [
    {
     "data": {
      "text/plain": [
       "5e-07"
      ]
     },
     "execution_count": 38,
     "metadata": {},
     "output_type": "execute_result"
    }
   ],
   "source": [
    "0.5/1000000"
   ]
  },
  {
   "cell_type": "code",
   "execution_count": 11,
   "metadata": {},
   "outputs": [],
   "source": [
    "import json\n",
    "\n",
    "res = []\n",
    "with open('logs_100.jsonl', 'r') as f:\n",
    "    i = 0\n",
    "    for line in f:\n",
    "        res.append(eval(line)[-1])\n",
    "        i += 1\n"
   ]
  },
  {
   "cell_type": "code",
   "execution_count": 12,
   "metadata": {},
   "outputs": [
    {
     "data": {
      "text/plain": [
       "100"
      ]
     },
     "execution_count": 12,
     "metadata": {},
     "output_type": "execute_result"
    }
   ],
   "source": [
    "res = res[-100:]\n",
    "len(res)"
   ]
  },
  {
   "cell_type": "code",
   "execution_count": null,
   "metadata": {},
   "outputs": [],
   "source": [
    "micro_recall(result_ids, target_ids), micro_precision(result_ids, target_ids)"
   ]
  },
  {
   "cell_type": "code",
   "execution_count": 22,
   "metadata": {},
   "outputs": [
    {
     "data": {
      "text/plain": [
       "(0.3057142857142857, 0.5846994535519126)"
      ]
     },
     "execution_count": 22,
     "metadata": {},
     "output_type": "execute_result"
    }
   ],
   "source": [
    "result_ids = []\n",
    "target_ids = []\n",
    "\n",
    "for r in res:\n",
    "    result_ids.append([tuple(elem) for elem in r[\"result_aligned\"]])\n",
    "    target_ids.append([tuple(elem) for elem in r[\"target\"]['triplets']] )\n",
    "\n",
    "micro_recall(result_ids, target_ids), micro_precision(result_ids, target_ids)"
   ]
  },
  {
   "cell_type": "code",
   "execution_count": 14,
   "metadata": {},
   "outputs": [
    {
     "data": {
      "text/plain": [
       "0.30430952380952375"
      ]
     },
     "execution_count": 14,
     "metadata": {},
     "output_type": "execute_result"
    }
   ],
   "source": [
    "aligned_recall = 0\n",
    "for r in res:\n",
    "    aligned_recall += r[\"aligned_recall\"]\n",
    "aligned_recall/len(res)"
   ]
  },
  {
   "cell_type": "code",
   "execution_count": 8,
   "metadata": {},
   "outputs": [
    {
     "data": {
      "text/plain": [
       "{'index': 19206,\n",
       " 'text': 'Klwatka Szlachecka is located in Poland and its time zone is UTC+02:00 or UTC+01:00.',\n",
       " 'target': {'text_triplets': [['Klwatka Szlachecka',\n",
       "    'located_in_time_zone',\n",
       "    'UTC+02:00'],\n",
       "   ['Klwatka Szlachecka', 'located_in_time_zone', 'UTC+01:00'],\n",
       "   ['Klwatka Szlachecka', 'country', 'Poland']],\n",
       "  'triplets': [['Q629466', 'P421', 'Q6723'],\n",
       "   ['Q629466', 'P421', 'Q6655'],\n",
       "   ['Q629466', 'P17', 'Q36']]},\n",
       " 'result_unaligned': [['Klwatka Szlachecka', 'located in', 'Poland'],\n",
       "  ['Klwatka Szlachecka', 'time zone', 'UTC+02:00 or UTC+01:00']],\n",
       " 'unaligned_precision': 0.0,\n",
       " 'unaligned_recall': 0.0,\n",
       " 'similar_relations': [{'located_in': ['location',\n",
       "    'coordinate location',\n",
       "    'headquarters location',\n",
       "    'located in time zone',\n",
       "    'work location']},\n",
       "  {'time_zone': ['located in time zone',\n",
       "    'UTC timezone offset',\n",
       "    'time index',\n",
       "    'start time',\n",
       "    'temporal range start']}],\n",
       " 'similar_entities': [{'Klwatka Szlachecka': ['Klwatka Szlachecka',\n",
       "    'Wistka Szlachecka',\n",
       "    'Kępka Szlachecka',\n",
       "    'Rewica Szlachecka',\n",
       "    'Okolica szlachecka']},\n",
       "  {'Klwatka Szlachecka': ['Klwatka Szlachecka',\n",
       "    'Wistka Szlachecka',\n",
       "    'Kępka Szlachecka',\n",
       "    'Rewica Szlachecka',\n",
       "    'Okolica szlachecka']},\n",
       "  {'Poland': ['Poland',\n",
       "    'Ł',\n",
       "    'Polesia',\n",
       "    'Poland Together',\n",
       "    'Poland Railroad Station']},\n",
       "  {'UTC+02:00 or UTC+01:00': ['UTC+02:00',\n",
       "    'UTC+01:00',\n",
       "    'UTC+03:00',\n",
       "    'UTC+11:00',\n",
       "    'UTC+07:00']}],\n",
       " 'result_aligned': [['Q629466', 'P276', 'Q36']],\n",
       " 'aligned_precision': 0.0,\n",
       " 'aligned_recall': 0.0}"
      ]
     },
     "execution_count": 8,
     "metadata": {},
     "output_type": "execute_result"
    }
   ],
   "source": [
    "r"
   ]
  },
  {
   "cell_type": "code",
   "execution_count": null,
   "metadata": {},
   "outputs": [],
   "source": [
    "[['Q629466', 'P421', 'Q6723'],\n",
    "   ['Q629466', 'P421', 'Q6655'],\n",
    "   ['Q629466', 'P17', 'Q36']]},"
   ]
  }
 ],
 "metadata": {
  "kernelspec": {
   "display_name": "venv",
   "language": "python",
   "name": "python3"
  },
  "language_info": {
   "codemirror_mode": {
    "name": "ipython",
    "version": 3
   },
   "file_extension": ".py",
   "mimetype": "text/x-python",
   "name": "python",
   "nbconvert_exporter": "python",
   "pygments_lexer": "ipython3",
   "version": "3.8.10"
  }
 },
 "nbformat": 4,
 "nbformat_minor": 2
}
