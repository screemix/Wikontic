{
 "cells": [
  {
   "cell_type": "code",
   "execution_count": 1,
   "metadata": {},
   "outputs": [],
   "source": [
    "import time\n",
    "import numpy as np\n",
    "from tqdm import tqdm_notebook\n",
    "import datasets\n",
    "from tqdm import tqdm\n",
    "\n",
    "import json\n",
    "import openai\n",
    "import os\n",
    "\n",
    "from utils.eval_utils import micro_precision, micro_recall, f1_score\n",
    "from utils.openai_utils import LLMTripletExtractor\n",
    "from utils.index_utils import Aligner\n",
    "from utils.verifier_utils import TripletFilter\n",
    "\n",
    "import re\n",
    "import warnings\n",
    "warnings.filterwarnings('ignore')"
   ]
  },
  {
   "cell_type": "code",
   "execution_count": 2,
   "metadata": {},
   "outputs": [
    {
     "data": {
      "text/html": [
       "<div>\n",
       "<style scoped>\n",
       "    .dataframe tbody tr th:only-of-type {\n",
       "        vertical-align: middle;\n",
       "    }\n",
       "\n",
       "    .dataframe tbody tr th {\n",
       "        vertical-align: top;\n",
       "    }\n",
       "\n",
       "    .dataframe thead th {\n",
       "        text-align: right;\n",
       "    }\n",
       "</style>\n",
       "<table border=\"1\" class=\"dataframe\">\n",
       "  <thead>\n",
       "    <tr style=\"text-align: right;\">\n",
       "      <th></th>\n",
       "      <th>ID</th>\n",
       "      <th>Text</th>\n",
       "      <th>Entities</th>\n",
       "      <th>Natural language text</th>\n",
       "      <th>SyntIE Generated triplets</th>\n",
       "      <th>gpt Generated triplets</th>\n",
       "    </tr>\n",
       "  </thead>\n",
       "  <tbody>\n",
       "    <tr>\n",
       "      <th>0</th>\n",
       "      <td>12534</td>\n",
       "      <td>Bob Dylan is an American singer-songwriter who...</td>\n",
       "      <td>Bob_Dylan Bob_Dylan_discography</td>\n",
       "      <td>Bob Dylan is an American singer-songwriter. Bl...</td>\n",
       "      <td>Blonde_on_Blonde performer Bob_Dylan\\nBlonde_o...</td>\n",
       "      <td>Bob Dylan occupation Singer-songwriter\\nBlonde...</td>\n",
       "    </tr>\n",
       "    <tr>\n",
       "      <th>1</th>\n",
       "      <td>1926</td>\n",
       "      <td>Amalie Murtfeldt passed away in Bremen.</td>\n",
       "      <td>Amalie_Murtfeldt Bremen</td>\n",
       "      <td>On June 28, 1888, aged 60, Amalie, who had bee...</td>\n",
       "      <td>Funeral manifestation of Death\\nFuneral descri...</td>\n",
       "      <td>NaN</td>\n",
       "    </tr>\n",
       "    <tr>\n",
       "      <th>2</th>\n",
       "      <td>18858</td>\n",
       "      <td>Gibson, Georgia is the capital of Glascock Cou...</td>\n",
       "      <td>Gibson,_Georgia Glascock_County,_Georgia Easte...</td>\n",
       "      <td>Gibson is a city in Glascock County, Georgia, ...</td>\n",
       "      <td>Gibson,_Georgia country United_States\\nGibson,...</td>\n",
       "      <td>Glascock County Courthouse instance of Nationa...</td>\n",
       "    </tr>\n",
       "    <tr>\n",
       "      <th>3</th>\n",
       "      <td>44871</td>\n",
       "      <td>Parsonsfield Seminary is located in Parsonsfie...</td>\n",
       "      <td>Parsonsfield_Seminary Parsonsfield,_Maine Unit...</td>\n",
       "      <td>Parsonsfield Seminary, which operated from 183...</td>\n",
       "      <td>Parsonsfield_Seminary country United_States\\nP...</td>\n",
       "      <td>Parsonsfield Seminary instance of Educational ...</td>\n",
       "    </tr>\n",
       "    <tr>\n",
       "      <th>4</th>\n",
       "      <td>5573</td>\n",
       "      <td>Hatfield Forest is operated by the National Tr...</td>\n",
       "      <td>Hatfield_Forest National_Trust Site_of_Special...</td>\n",
       "      <td>Hatfield Forest is a biological Site of Specia...</td>\n",
       "      <td>Hatfield_Forest significant place Bishop's_Sto...</td>\n",
       "      <td>Hatfield Forest instance of Site of Special Sc...</td>\n",
       "    </tr>\n",
       "    <tr>\n",
       "      <th>...</th>\n",
       "      <td>...</td>\n",
       "      <td>...</td>\n",
       "      <td>...</td>\n",
       "      <td>...</td>\n",
       "      <td>...</td>\n",
       "      <td>...</td>\n",
       "    </tr>\n",
       "    <tr>\n",
       "      <th>95</th>\n",
       "      <td>26682</td>\n",
       "      <td>Åsensbruk is located in the UTC+01:00 time zone.</td>\n",
       "      <td>Åsensbruk UTC+01:00</td>\n",
       "      <td>Åsensbruk is a locality situated in Mellerud M...</td>\n",
       "      <td>Mellerud_Municipality legal form Municipalitie...</td>\n",
       "      <td>Åsensbruk located in the administrative territ...</td>\n",
       "    </tr>\n",
       "    <tr>\n",
       "      <th>96</th>\n",
       "      <td>43737</td>\n",
       "      <td>Richard Brookhiser is a historian who received...</td>\n",
       "      <td>Richard_Brookhiser National_Humanities_Medal R...</td>\n",
       "      <td>In 2008, President George W. Bush awarded Broo...</td>\n",
       "      <td>George_W._Bush award received National_Humanit...</td>\n",
       "      <td>National Humanities Medal instance of Medal\\nW...</td>\n",
       "    </tr>\n",
       "    <tr>\n",
       "      <th>97</th>\n",
       "      <td>45299</td>\n",
       "      <td>The Pentium III processor was built on the P6 ...</td>\n",
       "      <td>Pentium_III Socket_370 P6_(microarchitecture) ...</td>\n",
       "      <td>The Pentium III brand refers to Intel's 32-bit...</td>\n",
       "      <td>Pentium_III brand Pentium\\nPentium_III microar...</td>\n",
       "      <td>Pentium III manufacturer Intel\\nPentium III in...</td>\n",
       "    </tr>\n",
       "    <tr>\n",
       "      <th>98</th>\n",
       "      <td>1424</td>\n",
       "      <td>Mel Bush made her first appearance in the Doct...</td>\n",
       "      <td>Mel_Bush Terror_of_the_Vervoids Sixth_Doctor S...</td>\n",
       "      <td>Melanie \"Mel\" Bush is a fictional character pl...</td>\n",
       "      <td>Mel_Bush sidekick of Sixth_Doctor\\nMel_Bush pr...</td>\n",
       "      <td>NaN</td>\n",
       "    </tr>\n",
       "    <tr>\n",
       "      <th>99</th>\n",
       "      <td>31834</td>\n",
       "      <td>Predator vs. Judge Dredd is an instance of a l...</td>\n",
       "      <td>Predator_vs._Judge_Dredd Limited_series_(comic...</td>\n",
       "      <td>Predator vs. Judge Dredd is an intercompany cr...</td>\n",
       "      <td>Predator_vs._Judge_Dredd publisher Dark_Horse_...</td>\n",
       "      <td>Predator vs. Judge Dredd publication date 1997...</td>\n",
       "    </tr>\n",
       "  </tbody>\n",
       "</table>\n",
       "<p>100 rows × 6 columns</p>\n",
       "</div>"
      ],
      "text/plain": [
       "       ID                                               Text  \\\n",
       "0   12534  Bob Dylan is an American singer-songwriter who...   \n",
       "1    1926            Amalie Murtfeldt passed away in Bremen.   \n",
       "2   18858  Gibson, Georgia is the capital of Glascock Cou...   \n",
       "3   44871  Parsonsfield Seminary is located in Parsonsfie...   \n",
       "4    5573  Hatfield Forest is operated by the National Tr...   \n",
       "..    ...                                                ...   \n",
       "95  26682   Åsensbruk is located in the UTC+01:00 time zone.   \n",
       "96  43737  Richard Brookhiser is a historian who received...   \n",
       "97  45299  The Pentium III processor was built on the P6 ...   \n",
       "98   1424  Mel Bush made her first appearance in the Doct...   \n",
       "99  31834  Predator vs. Judge Dredd is an instance of a l...   \n",
       "\n",
       "                                             Entities  \\\n",
       "0                     Bob_Dylan Bob_Dylan_discography   \n",
       "1                             Amalie_Murtfeldt Bremen   \n",
       "2   Gibson,_Georgia Glascock_County,_Georgia Easte...   \n",
       "3   Parsonsfield_Seminary Parsonsfield,_Maine Unit...   \n",
       "4   Hatfield_Forest National_Trust Site_of_Special...   \n",
       "..                                                ...   \n",
       "95                                Åsensbruk UTC+01:00   \n",
       "96  Richard_Brookhiser National_Humanities_Medal R...   \n",
       "97  Pentium_III Socket_370 P6_(microarchitecture) ...   \n",
       "98  Mel_Bush Terror_of_the_Vervoids Sixth_Doctor S...   \n",
       "99  Predator_vs._Judge_Dredd Limited_series_(comic...   \n",
       "\n",
       "                                Natural language text  \\\n",
       "0   Bob Dylan is an American singer-songwriter. Bl...   \n",
       "1   On June 28, 1888, aged 60, Amalie, who had bee...   \n",
       "2   Gibson is a city in Glascock County, Georgia, ...   \n",
       "3   Parsonsfield Seminary, which operated from 183...   \n",
       "4   Hatfield Forest is a biological Site of Specia...   \n",
       "..                                                ...   \n",
       "95  Åsensbruk is a locality situated in Mellerud M...   \n",
       "96  In 2008, President George W. Bush awarded Broo...   \n",
       "97  The Pentium III brand refers to Intel's 32-bit...   \n",
       "98  Melanie \"Mel\" Bush is a fictional character pl...   \n",
       "99  Predator vs. Judge Dredd is an intercompany cr...   \n",
       "\n",
       "                            SyntIE Generated triplets  \\\n",
       "0   Blonde_on_Blonde performer Bob_Dylan\\nBlonde_o...   \n",
       "1   Funeral manifestation of Death\\nFuneral descri...   \n",
       "2   Gibson,_Georgia country United_States\\nGibson,...   \n",
       "3   Parsonsfield_Seminary country United_States\\nP...   \n",
       "4   Hatfield_Forest significant place Bishop's_Sto...   \n",
       "..                                                ...   \n",
       "95  Mellerud_Municipality legal form Municipalitie...   \n",
       "96  George_W._Bush award received National_Humanit...   \n",
       "97  Pentium_III brand Pentium\\nPentium_III microar...   \n",
       "98  Mel_Bush sidekick of Sixth_Doctor\\nMel_Bush pr...   \n",
       "99  Predator_vs._Judge_Dredd publisher Dark_Horse_...   \n",
       "\n",
       "                               gpt Generated triplets  \n",
       "0   Bob Dylan occupation Singer-songwriter\\nBlonde...  \n",
       "1                                                 NaN  \n",
       "2   Glascock County Courthouse instance of Nationa...  \n",
       "3   Parsonsfield Seminary instance of Educational ...  \n",
       "4   Hatfield Forest instance of Site of Special Sc...  \n",
       "..                                                ...  \n",
       "95  Åsensbruk located in the administrative territ...  \n",
       "96  National Humanities Medal instance of Medal\\nW...  \n",
       "97  Pentium III manufacturer Intel\\nPentium III in...  \n",
       "98                                                NaN  \n",
       "99  Predator vs. Judge Dredd publication date 1997...  \n",
       "\n",
       "[100 rows x 6 columns]"
      ]
     },
     "execution_count": 2,
     "metadata": {},
     "output_type": "execute_result"
    }
   ],
   "source": [
    "import pandas as pd\n",
    "\n",
    "df = pd.read_csv('assessment_100_samples_from_test_small.csv', index_col=0)\n",
    "df"
   ]
  },
  {
   "cell_type": "code",
   "execution_count": 3,
   "metadata": {},
   "outputs": [
    {
     "data": {
      "text/plain": [
       "['Bob Dylan is an American singer-songwriter. Blonde on Blonde is his seventh studio album.',\n",
       " 'On June 28, 1888, aged 60, Amalie, who had been weakening, died. Her grave is located in the Riensberg Cemetery.',\n",
       " 'Gibson is a city in Glascock County, Georgia, United States. The city is the county seat of Glascock County and home to the Glascock County Courthouse, a National Register of Historic Places listed site.',\n",
       " 'Parsonsfield Seminary, which operated from 1832 to 1949, was a well-known Free Will Baptist school in North Parsonsfield, Maine, in the United States. ',\n",
       " \"Hatfield Forest is a biological Site of Special Scientific Interest in Essex, three miles east of Bishop's Stortford. It is also a National Nature Reserve and a Nature Conservation Review site. It is owned and managed by the National Trust.\",\n",
       " 'The Sakuradamon Incident was the assassination of Ii Naosuke, Chief Minister of the Tokugawa shogunate, on March 24, 1860 by rōnin samurai of the Mito Domain and Satsuma Domain.',\n",
       " 'Al-Khirniq bint Badr ibn Hiffān was an early Arabic elegiac poet. ',\n",
       " 'Princess Thyra of Denmark was the youngest daughter and fifth child of Christian IX of Denmark and Louise of Hesse-Kassel.',\n",
       " 'The Paatsjoki River flows from Lake Inari in Finland and for most of its duration, it marks the border between Russia and Norway. On the river there are several Norwegian and Russian hydroelectric stations.',\n",
       " \"Stop1984 was a citizens' initiative of German Internet users founded in 2001, which campaigned for data protection and civil rights and opposed surveillance measures and censorship. The name of the group refers to the novel 1984 by George Orwell, which describes a totalitarian surveillance and prevention state.\"]"
      ]
     },
     "execution_count": 3,
     "metadata": {},
     "output_type": "execute_result"
    }
   ],
   "source": [
    "texts = list(df['Natural language text'])\n",
    "texts[:10]"
   ]
  },
  {
   "cell_type": "markdown",
   "metadata": {},
   "source": [
    "## Auxilary"
   ]
  },
  {
   "cell_type": "code",
   "execution_count": 4,
   "metadata": {},
   "outputs": [],
   "source": [
    "def parse_output(output):\n",
    "    try:\n",
    "        output = re.findall(\"\\[([\\s\\S]*?)\\]\", output)\n",
    "        return \"[\" + output[0] + \"]\"\n",
    "\n",
    "    except Exception as e:\n",
    "        print(e, output)\n",
    "\n",
    "############## transform target triplets into tuples with labels and ids to calculate metrics properly ############## \n",
    "def transform_targets_syntie(sample):\n",
    "    \n",
    "    targets = {\"triplet_texts\": [], \"triplet_ids\": []}\n",
    "    for t in sample:\n",
    "        rel = eval(t['predicate'])\n",
    "        rel_label = rel['surfaceform'].strip()\n",
    "        rel_id = rel['uri']\n",
    "        \n",
    "        head = eval(t['subject'])\n",
    "        head_label = \" \".join(head['surfaceform'].split(\"_\")).strip()\n",
    "        head_id = head['uri']\n",
    "\n",
    "        tail =  eval(t['object'])\n",
    "        tail_label = \" \".join(tail['surfaceform'].split(\"_\")).strip()\n",
    "        tail_id = tail['uri']\n",
    "\n",
    "        targets['triplet_texts'].append((head_label, rel_label, tail_label))\n",
    "        targets['triplet_ids'].append((head_id, rel_id, tail_id))\n",
    "\n",
    "    return targets\n",
    "\n",
    "\n",
    "############## align extracted triplets to wikidata ids ############## \n",
    "def align_outputs(outputs, aligner, triplet_filter, verify=True):\n",
    "    transformed_output_ids = []\n",
    "    filtered_triplets = []\n",
    "\n",
    "    outputs = json.loads(outputs)\n",
    "\n",
    "    for res in outputs:\n",
    "        rel = res['relation']\n",
    "        rel = \" \".join(rel.split(\"_\")).strip()\n",
    "\n",
    "        head, tail = res['subject'], res['object']\n",
    "        head = \" \".join(head.split(\"_\")).strip()\n",
    "        tail = \" \".join(tail.split(\"_\")).strip()\n",
    "\n",
    "        if (rel in aligner.relation2id) and (head in aligner.entity2id) and (tail in aligner.entity2id):\n",
    "            rel_id = aligner.relation2id[rel]\n",
    "            head_id = aligner.entity2id[head]\n",
    "            tail_id = aligner.entity2id[tail]\n",
    "\n",
    "            if verify:\n",
    "\n",
    "                if triplet_filter.check_triplet_validity(head_id, rel_id, tail_id):\n",
    "                    transformed_output_ids.append((head_id, rel_id, tail_id))\n",
    "\n",
    "                elif triplet_filter.check_triplet_validity(tail_id, rel_id, head_id):\n",
    "                    transformed_output_ids.append((tail_id, rel_id, head_id))\n",
    "                \n",
    "                else:\n",
    "                    filtered_triplets.append({\"subject\": head, \"relation\": rel, \"object\": tail})\n",
    "\n",
    "            else:\n",
    "                transformed_output_ids.append((head_id, rel_id, tail_id))\n",
    "                \n",
    "        else:\n",
    "            filtered_triplets.append({\"subject\": head, \"relation\": rel, \"object\": tail})\n",
    "        \n",
    "    return {'transformed_outputs': transformed_output_ids, 'filtered_triplets': filtered_triplets}"
   ]
  },
  {
   "cell_type": "markdown",
   "metadata": {},
   "source": [
    "## Inference"
   ]
  },
  {
   "cell_type": "code",
   "execution_count": 5,
   "metadata": {},
   "outputs": [],
   "source": [
    "aligner = Aligner(device='cuda:5')\n",
    "triplet_filter = TripletFilter()\n",
    "extractor = LLMTripletExtractor()"
   ]
  },
  {
   "cell_type": "code",
   "execution_count": 6,
   "metadata": {},
   "outputs": [
    {
     "name": "stderr",
     "output_type": "stream",
     "text": [
      "  0%|          | 0/100 [00:00<?, ?it/s]"
     ]
    },
    {
     "name": "stderr",
     "output_type": "stream",
     "text": [
      "100%|██████████| 100/100 [24:03<00:00, 14.43s/it]\n"
     ]
    }
   ],
   "source": [
    "generated_triplets = []\n",
    "\n",
    "for i, text in tqdm(enumerate(texts), total=len(texts)):\n",
    "\n",
    "    ############## first step prompting ##############\n",
    "    extracted_triplets = extractor.get_completion_first_query(text)\n",
    "    extracted_triplets = parse_output(extracted_triplets)\n",
    "\n",
    "    ############## second step aligning all entity and relation names ##############\n",
    "\n",
    "    similar_relations = aligner.top_relations_by_llm_output(llm_output=extracted_triplets)\n",
    "    similar_entities = aligner.top_entities_by_llm_output(llm_output=extracted_triplets, entity_type='subject')\n",
    "    similar_entities.update(aligner.top_entities_by_llm_output(llm_output=extracted_triplets, entity_type='object'))\n",
    "\n",
    "\n",
    "    ############## second step prompting for choosing among aligned entity and relation names ##############\n",
    "    second_step_output = extractor.get_completion_second_query(similar_entities=similar_entities, \n",
    "        similar_relations=similar_relations, text=text, triplets=extracted_triplets)\n",
    "    \n",
    "    second_step_output = parse_output(second_step_output)\n",
    "\n",
    "    ############## second step entity linking, with constraints verification ##############\n",
    "\n",
    "    second_step_output_ids = align_outputs(second_step_output, aligner=aligner, triplet_filter=triplet_filter, verify=True)['transformed_outputs']\n",
    "\n",
    "    generated_triplets.append([(aligner.id2entity[item[0]], aligner.id2relation[item[1]], aligner.id2entity[item[2]]) \\\n",
    "        for item in second_step_output_ids])\n",
    "\n"
   ]
  },
  {
   "cell_type": "code",
   "execution_count": 8,
   "metadata": {},
   "outputs": [
    {
     "data": {
      "text/plain": [
       "[[('Bob Dylan', 'occupation', 'Singer-songwriter'),\n",
       "  ('Blonde on Blonde', 'instance of', 'Album Album'),\n",
       "  ('Blonde on Blonde', 'performer', 'Bob Dylan')],\n",
       " [],\n",
       " [('Glascock County Courthouse',\n",
       "   'instance of',\n",
       "   'National Historic Site (United States)')],\n",
       " [('Parsonsfield Seminary', 'instance of', 'Educational institution'),\n",
       "  ('Parsonsfield Seminary', 'country', 'United States'),\n",
       "  ('Parsonsfield Seminary', 'affiliation', 'Free Will Baptist')],\n",
       " [('Hatfield Forest', 'instance of', 'Site of Special Scientific Interest'),\n",
       "  ('Hatfield Forest',\n",
       "   'located in the administrative territorial entity',\n",
       "   'Essex'),\n",
       "  ('Hatfield Forest', 'direction', 'East of West'),\n",
       "  ('Hatfield Forest', 'owned by', 'National Trust'),\n",
       "  ('Hatfield Forest', 'instance of', 'A Nature Conservation Review')],\n",
       " [('Ii Naosuke', 'instance of', 'Human')],\n",
       " [],\n",
       " [('Princess Thyra of Denmark', 'country of citizenship', 'Denmark'),\n",
       "  ('Princess Thyra of Denmark', 'child', 'Christian IX of Denmark'),\n",
       "  ('Princess Thyra of Denmark', 'child', 'Louise of Hesse-Kassel')],\n",
       " [],\n",
       " [],\n",
       " [('Rantalinna Manor', 'instance of', 'Manor house'),\n",
       "  ('Rantalinna Manor',\n",
       "   'located in the administrative territorial entity',\n",
       "   'Ruokolahti'),\n",
       "  ('Rantalinna Manor', 'country', 'Finland')],\n",
       " [('Water', 'contains', 'Material'),\n",
       "  ('Edward Bach', 'country of citizenship', 'England'),\n",
       "  ('Edward Bach', 'date of birth', '1930s')],\n",
       " [('Omar Alghabra', 'country of citizenship', 'Saudi Arabia'),\n",
       "  ('Omar Alghabra', 'country of citizenship', 'Syria'),\n",
       "  ('Omar Alghabra', 'country of citizenship', 'Canada'),\n",
       "  ('Omar Alghabra', 'occupation', 'Politician'),\n",
       "  ('Omar Alghabra', 'position held', 'Minister of Transport (Canada)'),\n",
       "  ('Minister of Transport (Canada)', 'start time', '2021')],\n",
       " [],\n",
       " [('Peniarth 28', 'instance of', 'Manuscript'),\n",
       "  ('Peniarth 28', 'language of work or name', 'Latin')],\n",
       " [('Amerongen Castle', 'instance of', 'Castle'),\n",
       "  ('Amerongen Castle',\n",
       "   'located in the administrative territorial entity',\n",
       "   'Amerongen'),\n",
       "  ('Amerongen Castle',\n",
       "   'located in the administrative territorial entity',\n",
       "   'Utrechtse Heuvelrug'),\n",
       "  ('Amerongen Castle', 'country', 'Netherlands')],\n",
       " [('Castile and León', 'part of', 'Spain')],\n",
       " [('Hydrogen sulfide', 'instance of', 'Chemical compound')],\n",
       " [('Friederike Hauffe', 'country of citizenship', 'Germany'),\n",
       "  ('Friederike Hauffe', 'place of death', 'Löwenstein')],\n",
       " [('Mariam Veiszadeh', 'country of citizenship', 'Australia'),\n",
       "  ('Mariam Veiszadeh',\n",
       "   'languages spoken, written or signed',\n",
       "   'English language'),\n",
       "  ('Mariam Veiszadeh', 'occupation', 'Lawyer'),\n",
       "  ('Mariam Veiszadeh', 'occupation', 'Writer'),\n",
       "  ('Mariam Veiszadeh', 'notable work', 'Anti-racism')],\n",
       " [],\n",
       " [(\"Apostolic Church Fullness of God's Throne\",\n",
       "   'instance of',\n",
       "   'Neo-charismatic movement')],\n",
       " [('Alison Lever', 'country of citizenship', 'Australia'),\n",
       "  ('Alison Lever', 'occupation', 'Athlete'),\n",
       "  ('Alison Lever', 'instance of', 'Human'),\n",
       "  ('Alison Lever', 'participant in', '2000 Summer Olympics'),\n",
       "  ('2000 Summer Olympics', 'instance of', 'Olympic Games'),\n",
       "  ('2000 Summer Olympics', 'location', 'Sydney'),\n",
       "  ('2000 Summer Olympics', 'time period', '2000'),\n",
       "  ('2000 Summer Olympics', 'sport', 'Discus throw')],\n",
       " [],\n",
       " [('Atoll', 'instance of', 'Island'),\n",
       "  ('Atoll', 'has part', 'Lagoon'),\n",
       "  ('The Voyage of the Beagle', 'start time', '1831'),\n",
       "  ('HMS Beagle', 'instance of', 'Ship'),\n",
       "  ('HMS Beagle', 'location', 'Pacific Ocean')],\n",
       " [('Sarah-Léonie Cysique', 'country of citizenship', 'France'),\n",
       "  ('Sarah-Léonie Cysique', 'sport', 'Judo'),\n",
       "  ('2020 Summer Olympics', 'location', 'Tokyo'),\n",
       "  ('2020 Summer Olympics', 'instance of', 'Olympic Games')],\n",
       " [('Governor-General of New Zealand',\n",
       "   'appointed by',\n",
       "   'Minister of Finance and the Public Service')],\n",
       " [('Čekovce', 'instance of', 'Village'),\n",
       "  ('Čekovce',\n",
       "   'located in the administrative territorial entity',\n",
       "   'Krupina District'),\n",
       "  ('Čekovce',\n",
       "   'located in the administrative territorial entity',\n",
       "   'Banská Bystrica Region'),\n",
       "  ('Čekovce', 'country', 'Slovakia')],\n",
       " [('Mangeli-ye Sofla',\n",
       "   'located in the administrative territorial entity',\n",
       "   'Safiabad Rural District'),\n",
       "  ('Mangeli-ye Sofla',\n",
       "   'located in the administrative territorial entity',\n",
       "   'Bam and Safiabad District'),\n",
       "  ('Mangeli-ye Sofla',\n",
       "   'located in the administrative territorial entity',\n",
       "   'Esfarayen County'),\n",
       "  ('Mangeli-ye Sofla', 'country', 'Iran')],\n",
       " [('George Bowes', 'owner of', 'Gibside'),\n",
       "  ('George Bowes', 'owner of', 'Streatlam Castle'),\n",
       "  ('George Bowes', 'occupation', 'Politician')],\n",
       " [('Elvira Barbey', 'country of citizenship', 'Switzerland'),\n",
       "  ('Elvira Barbey', 'participant in', '1928 Winter Olympics'),\n",
       "  ('1928 Winter Olympics', 'instance of', 'Olympic Games'),\n",
       "  ('Elvira Barbey', 'partner in business or sport', 'Louis Barbey'),\n",
       "  ('Louis Barbey', 'partner in business or sport', 'Elvira Barbey')],\n",
       " [('Ban Qan', 'instance of', 'Village'),\n",
       "  ('Ban Qan',\n",
       "   'located in the administrative territorial entity',\n",
       "   'Khavashod Rural District'),\n",
       "  ('Ban Qan',\n",
       "   'located in the administrative territorial entity',\n",
       "   'Sabzevar County'),\n",
       "  ('Ban Qan',\n",
       "   'located in the administrative territorial entity',\n",
       "   'Razavi Khorasan Province'),\n",
       "  ('Ban Qan', 'country', 'Iran')],\n",
       " [],\n",
       " [('Trygve Hegnar', 'occupation', 'Editor-in-chief'),\n",
       "  ('Trygve Hegnar', 'instance of', 'Person'),\n",
       "  ('Trygve Hegnar', 'country of citizenship', 'Norway')],\n",
       " [],\n",
       " [('Ankycorbin', 'instance of', 'Protein'),\n",
       "  ('Ankycorbin', 'encoded by', 'RAI14')],\n",
       " [],\n",
       " [('Colder Than Here', 'date of first performance', '2005'),\n",
       "  ('Colder Than Here', 'location of first performance', 'Soho Theatre')],\n",
       " [],\n",
       " [],\n",
       " [('Šarkanica', 'instance of', 'National nature reserve'),\n",
       "  ('Šarkanica',\n",
       "   'located in the administrative territorial entity',\n",
       "   'Revúca District'),\n",
       "  ('Šarkanica',\n",
       "   'located in the administrative territorial entity',\n",
       "   'Rimavská Sobota District')],\n",
       " [('The Redwood Session', 'instance of', 'Album'),\n",
       "  ('The Redwood Session', 'performer', 'Evan Parker'),\n",
       "  ('The Redwood Session', 'performer', 'Paul Lytton')],\n",
       " [('Junior Eurovision Song Contest', 'instance of', 'Music competition'),\n",
       "  ('Junior Eurovision Song Contest',\n",
       "   'organizer',\n",
       "   'European Broadcasting Union'),\n",
       "  ('European Broadcasting Union', 'instance of', 'Organization')],\n",
       " [('Casigua-El Cubo',\n",
       "   'located in the administrative territorial entity',\n",
       "   'Zulia'),\n",
       "  ('Casigua-El Cubo', 'country', 'Venezuela'),\n",
       "  ('Casigua-El Cubo', 'located on terrain feature', 'Lake Maracaibo')],\n",
       " [('The Football Association', 'instance of', 'Sports governing body'),\n",
       "  ('The Football Association', 'sport', 'Association football'),\n",
       "  ('The Football Association', 'country', 'England'),\n",
       "  ('The Football Association', 'country', 'Jersey'),\n",
       "  ('The Football Association', 'country', 'Isle of Man'),\n",
       "  ('The Football Association', 'inception', '1863')],\n",
       " [('Guimboari',\n",
       "   'located in the administrative territorial entity',\n",
       "   'Piéla Department'),\n",
       "  ('Guimboari',\n",
       "   'located in the administrative territorial entity',\n",
       "   'Gnagna Province'),\n",
       "  ('Guimboari',\n",
       "   'located in the administrative territorial entity',\n",
       "   'Burkina Faso'),\n",
       "  ('Guimboari', 'instance of', 'Village')],\n",
       " [('Haptic perception', 'instance of', 'Perception')],\n",
       " [('Jean-Paul Berjeau', 'country of citizenship', 'France'),\n",
       "  ('Jean-Paul Berjeau', 'instance of', 'Human'),\n",
       "  ('1970 European Aquatics Championships', 'winner', 'Jean-Paul Berjeau'),\n",
       "  ('1972 Summer Olympics', 'location', 'Munich'),\n",
       "  ('Jean-Paul Berjeau', 'participant in', '1972 Summer Olympics'),\n",
       "  ('1972 Summer Olympics', 'participant', 'Jean-Paul Berjeau')],\n",
       " [('Beltex', 'instance of', 'Breed'),\n",
       "  ('Beltex', 'country of origin', 'Belgium')],\n",
       " [('Think Fast, Mr. Moto', 'instance of', 'Film'),\n",
       "  ('Think Fast, Mr. Moto', 'director', 'Norman Foster (director)'),\n",
       "  ('Think Fast, Mr. Moto', 'cast member', 'Peter Lorre'),\n",
       "  ('Think Fast, Mr. Moto', 'cast member', 'Virginia Field'),\n",
       "  ('Think Fast, Mr. Moto', 'cast member', 'Sig Ruman'),\n",
       "  ('Think Fast, Mr. Moto', 'based on', 'Mr. Moto'),\n",
       "  ('Mr. Moto', 'creator', 'John P. Marquand')],\n",
       " [('2019 FA Trophy Final', 'sport', 'Football'),\n",
       "  ('AFC Fylde', 'participant in', '2019 FA Trophy Final')],\n",
       " [('Finns Party Youth', 'part of', 'Finns Party')],\n",
       " [('Karma', 'instance of', 'Album Album'),\n",
       "  ('Delerium', 'contains', 'Bill Leeb'),\n",
       "  ('Bill Leeb', 'instance of', 'Human')],\n",
       " [('Survivin', 'instance of', 'Protein')],\n",
       " [('Plénée-Jugon',\n",
       "   'located in the administrative territorial entity',\n",
       "   \"Côtes-d'Armor\"),\n",
       "  ('Plénée-Jugon',\n",
       "   'located in the administrative territorial entity',\n",
       "   'Brittany'),\n",
       "  ('Plénée-Jugon', 'country', 'France')],\n",
       " [('The Mass Extermination of Jews in German Occupied Poland',\n",
       "   'publication date',\n",
       "   '1943'),\n",
       "  ('Polish government-in-exile', 'location of formation', 'London')],\n",
       " [],\n",
       " [],\n",
       " [],\n",
       " [],\n",
       " [('Theophil Hansen', 'instance of', 'Architect')],\n",
       " [],\n",
       " [('Central Europe',\n",
       "   'located in the administrative territorial entity',\n",
       "   'East Germany'),\n",
       "  ('East Germany', 'instance of', 'Country'),\n",
       "  ('East Germany', 'political ideology', 'Communism'),\n",
       "  ('East Germany',\n",
       "   'described by source',\n",
       "   \"Workers and Peasants' Socialist Party\")],\n",
       " [('Jean-Marie le Guillou', 'country of citizenship', 'France'),\n",
       "  ('Jean-Marie le Guillou', 'occupation', 'Sailor'),\n",
       "  ('Jean-Marie le Guillou', 'instance of', 'Human'),\n",
       "  ('Jean-Marie le Guillou', 'participant in', '1972 Summer Olympics')],\n",
       " [('On the Hills of Manchuria', 'publication date', '1906'),\n",
       "  ('Battle of Mukden', 'described by source', 'On the Hills of Manchuria'),\n",
       "  ('Battle of Mukden', 'part of', 'Russo-Japanese War')],\n",
       " [('Cleansing of the Temple', 'narrative motif', 'Jesus'),\n",
       "  ('Cleansing of the Temple', 'instance of', 'Narrative'),\n",
       "  ('Cleansing of the Temple', 'location', 'Temple')],\n",
       " [('European route E65', 'direction', 'North-South'),\n",
       "  ('European route E65', 'length', '360 km'),\n",
       "  ('European route E65', 'length', '600 Miles'),\n",
       "  ('European route E65', 'start point', 'Malmö'),\n",
       "  ('Malmö', 'located in the administrative territorial entity', 'Sweden'),\n",
       "  ('Chania', 'located in the administrative territorial entity', 'Greece')],\n",
       " [],\n",
       " [('Kevin Legg', 'occupation', 'Football player'),\n",
       "  ('Football player', 'subclass of', 'Human'),\n",
       "  ('Football player', 'sport', 'Association football'),\n",
       "  ('Kevin Legg', 'instance of', 'Human'),\n",
       "  ('Continental Indoor Soccer League', 'league', 'Indoor soccer')],\n",
       " [],\n",
       " [('James Adomian', 'country of citizenship', 'United States'),\n",
       "  ('James Adomian', 'occupation', 'Actor'),\n",
       "  ('James Adomian', 'ethnic group', 'Armenians')],\n",
       " [('Super League', 'part of', 'British rugby league system')],\n",
       " [('Carantoc', 'instance of', 'Abbot'),\n",
       "  ('Carantoc', 'occupation', 'Confessor'),\n",
       "  ('Carantoc', 'country of citizenship', 'Wales'),\n",
       "  ('Carantoc', 'instance of', 'Human')],\n",
       " [('Joseph Wheeler', 'occupation', 'Politician'),\n",
       "  ('Joseph Wheeler', 'military branch', 'Confederate States Army'),\n",
       "  ('Joseph Wheeler', 'military branch', 'United States Army'),\n",
       "  ('Joseph Wheeler', 'conflict', 'American Civil War'),\n",
       "  ('Joseph Wheeler', 'conflict', 'Spanish–American War'),\n",
       "  ('Joseph Wheeler', 'conflict', 'Philippine–American War'),\n",
       "  ('Confederate States of America', 'instance of', 'Country'),\n",
       "  ('United States Army', 'instance of', 'Military'),\n",
       "  ('American Civil War', 'instance of', 'War'),\n",
       "  ('Philippine–American War', 'instance of', 'War')],\n",
       " [('Discworld', 'game mechanics', 'Point and click'),\n",
       "  ('Discworld', 'publisher', 'Psygnosis')],\n",
       " [('Heart symbol', 'instance of', 'Ideogram'),\n",
       "  ('Heart symbol', 'used by', 'Heart'),\n",
       "  ('Heart symbol', 'iconographic symbol', 'Heart'),\n",
       "  ('ACCURATE', 'shape', 'Heart symbol'),\n",
       "  ('Heart symbol', 'symbolizes', 'At the Center'),\n",
       "  ('Heart symbol', 'symbolizes', 'Affection'),\n",
       "  ('Heart symbol', 'symbolizes', 'Love')],\n",
       " [('13th Age', 'instance of', 'Role-playing game'),\n",
       "  ('13th Age', 'designed by', 'Rob Heinsoo'),\n",
       "  ('13th Age', 'designed by', 'Jonathan Tweet')],\n",
       " [('Rimrock Lake', 'country', 'United States'),\n",
       "  ('Rimrock Lake', 'located on terrain feature', 'Tieton River'),\n",
       "  ('Rimrock Lake', 'instance of', 'Lake')],\n",
       " [('Applethorpe Farm',\n",
       "   'located in the administrative territorial entity',\n",
       "   'Ross County, Ohio'),\n",
       "  ('Applethorpe Farm', 'country', 'United States'),\n",
       "  ('Greek Revival architecture', 'subclass of', 'Architectural style')],\n",
       " [('Tiago Leifert', 'country of citizenship', 'Brazil'),\n",
       "  ('Tiago Leifert', 'occupation', 'Journalist'),\n",
       "  ('Tiago Leifert', 'occupation', 'Television presenter'),\n",
       "  ('Tiago Leifert', 'place of birth', 'São Paulo'),\n",
       "  ('Tiago Leifert', 'educated at', 'University of Miami')],\n",
       " [('Hubei', 'located in the administrative territorial entity', 'China'),\n",
       "  ('Jiang Chaoliang', 'end time', 'COVID-19 pandemic')],\n",
       " [('Scorpius', 'instance of', 'Constellation'),\n",
       "  ('Scorpius', 'location', 'Milky Way')],\n",
       " [('Extensively drug-resistant tuberculosis', 'instance of', 'Tuberculosis')],\n",
       " [('Hermes Pan', 'work period (start)', '1930s'),\n",
       "  ('Springtime in the Rockies', 'instance of', 'Film')],\n",
       " [(\"Rotorua Girls' High School\",\n",
       "   'member of',\n",
       "   \"Alliance of Girls' Schools Australasia\"),\n",
       "  (\"Rotorua Girls' High School\", 'country', 'New Zealand'),\n",
       "  (\"Rotorua Girls' High School\",\n",
       "   'located in the administrative territorial entity',\n",
       "   'Rotorua'),\n",
       "  (\"Rotorua Girls' High School\", 'instance of', 'State school')],\n",
       " [('Grand Duchess Tatiana Nikolaevna of Russia',\n",
       "   'place of birth',\n",
       "   'Peterhof Palace'),\n",
       "  ('Grand Duchess Tatiana Nikolaevna of Russia',\n",
       "   'location',\n",
       "   'Saint Petersburg'),\n",
       "  ('Russia', 'head of state', 'Nicholas II of Russia')],\n",
       " [('Opuiaki River', 'direction', 'North'),\n",
       "  ('Opuiaki River', 'instance of', 'River')],\n",
       " [('Yang Zaisi', 'country of citizenship', 'China'),\n",
       "  ('Yang Zaisi', 'occupation', 'Politician'),\n",
       "  ('Yang Zaisi', 'position held', 'Chancellor'),\n",
       "  ('Wu Zetian', 'instance of', 'Monarch')],\n",
       " [],\n",
       " [('Srđan Radosavljev',\n",
       "   'languages spoken, written or signed',\n",
       "   'Serbian language'),\n",
       "  ('Srđan Radosavljev', 'sport', 'Association football'),\n",
       "  ('Srđan Radosavljev', 'position played on team / speciality', 'Midfielder'),\n",
       "  ('Srđan Radosavljev', 'member of sports team', 'FK Bačka 1901'),\n",
       "  ('Srđan Radosavljev', 'place of birth', 'Vršac'),\n",
       "  ('Srđan Radosavljev', 'country of citizenship', 'Serbia')],\n",
       " [('Moneyneany', 'instance of', 'Village'),\n",
       "  ('Moneyneany',\n",
       "   'located in the administrative territorial entity',\n",
       "   'County Londonderry'),\n",
       "  ('Moneyneany',\n",
       "   'located in the administrative territorial entity',\n",
       "   'Northern Ireland'),\n",
       "  ('County Londonderry', 'country', 'United Kingdom'),\n",
       "  ('Northern Ireland', 'country', 'United Kingdom'),\n",
       "  ('Mid Ulster (district)',\n",
       "   'located in the administrative territorial entity',\n",
       "   'Northern Ireland')],\n",
       " [],\n",
       " [('Knud Aage Nielsen', 'sex or gender', 'Male'),\n",
       "  ('Knud Aage Nielsen', 'country of citizenship', 'Denmark'),\n",
       "  ('Knud Aage Nielsen', 'date of birth', '1937')],\n",
       " [],\n",
       " [('Stenalia araxicola', 'instance of', 'Beetle')],\n",
       " [('Åsensbruk',\n",
       "   'located in the administrative territorial entity',\n",
       "   'Mellerud Municipality'),\n",
       "  ('Åsensbruk',\n",
       "   'located in the administrative territorial entity',\n",
       "   'Västra Götaland County'),\n",
       "  ('Åsensbruk', 'country', 'Sweden')],\n",
       " [('National Humanities Medal', 'instance of', 'Medal'),\n",
       "  ('White House', 'location', 'Washington, D.C.')],\n",
       " [('Pentium III', 'manufacturer', 'Intel'),\n",
       "  ('Pentium III', 'inspired by', 'P6 (microarchitecture)')],\n",
       " [],\n",
       " [('Predator vs. Judge Dredd', 'publication date', '1997'),\n",
       "  ('Predator vs. Judge Dredd', 'published in', 'Judge Dredd Megazine'),\n",
       "  ('Predator vs. Judge Dredd', 'published in', 'Dark Horse Comics')]]"
      ]
     },
     "execution_count": 8,
     "metadata": {},
     "output_type": "execute_result"
    }
   ],
   "source": [
    "generated_triplets"
   ]
  },
  {
   "cell_type": "code",
   "execution_count": 9,
   "metadata": {},
   "outputs": [],
   "source": [
    "outputs = []\n",
    "for triplets in generated_triplets:\n",
    "    output = []\n",
    "    for triplet in triplets:\n",
    "        output.append(\" \".join(triplet))\n",
    "    outputs.append('\\n'.join(output))"
   ]
  },
  {
   "cell_type": "code",
   "execution_count": 10,
   "metadata": {},
   "outputs": [
    {
     "data": {
      "text/plain": [
       "['Bob Dylan occupation Singer-songwriter\\nBlonde on Blonde instance of Album Album\\nBlonde on Blonde performer Bob Dylan',\n",
       " '',\n",
       " 'Glascock County Courthouse instance of National Historic Site (United States)',\n",
       " 'Parsonsfield Seminary instance of Educational institution\\nParsonsfield Seminary country United States\\nParsonsfield Seminary affiliation Free Will Baptist',\n",
       " 'Hatfield Forest instance of Site of Special Scientific Interest\\nHatfield Forest located in the administrative territorial entity Essex\\nHatfield Forest direction East of West\\nHatfield Forest owned by National Trust\\nHatfield Forest instance of A Nature Conservation Review',\n",
       " 'Ii Naosuke instance of Human',\n",
       " '',\n",
       " 'Princess Thyra of Denmark country of citizenship Denmark\\nPrincess Thyra of Denmark child Christian IX of Denmark\\nPrincess Thyra of Denmark child Louise of Hesse-Kassel',\n",
       " '',\n",
       " '',\n",
       " 'Rantalinna Manor instance of Manor house\\nRantalinna Manor located in the administrative territorial entity Ruokolahti\\nRantalinna Manor country Finland',\n",
       " 'Water contains Material\\nEdward Bach country of citizenship England\\nEdward Bach date of birth 1930s',\n",
       " 'Omar Alghabra country of citizenship Saudi Arabia\\nOmar Alghabra country of citizenship Syria\\nOmar Alghabra country of citizenship Canada\\nOmar Alghabra occupation Politician\\nOmar Alghabra position held Minister of Transport (Canada)\\nMinister of Transport (Canada) start time 2021',\n",
       " '',\n",
       " 'Peniarth 28 instance of Manuscript\\nPeniarth 28 language of work or name Latin',\n",
       " 'Amerongen Castle instance of Castle\\nAmerongen Castle located in the administrative territorial entity Amerongen\\nAmerongen Castle located in the administrative territorial entity Utrechtse Heuvelrug\\nAmerongen Castle country Netherlands',\n",
       " 'Castile and León part of Spain',\n",
       " 'Hydrogen sulfide instance of Chemical compound',\n",
       " 'Friederike Hauffe country of citizenship Germany\\nFriederike Hauffe place of death Löwenstein',\n",
       " 'Mariam Veiszadeh country of citizenship Australia\\nMariam Veiszadeh languages spoken, written or signed English language\\nMariam Veiszadeh occupation Lawyer\\nMariam Veiszadeh occupation Writer\\nMariam Veiszadeh notable work Anti-racism',\n",
       " '',\n",
       " \"Apostolic Church Fullness of God's Throne instance of Neo-charismatic movement\",\n",
       " 'Alison Lever country of citizenship Australia\\nAlison Lever occupation Athlete\\nAlison Lever instance of Human\\nAlison Lever participant in 2000 Summer Olympics\\n2000 Summer Olympics instance of Olympic Games\\n2000 Summer Olympics location Sydney\\n2000 Summer Olympics time period 2000\\n2000 Summer Olympics sport Discus throw',\n",
       " '',\n",
       " 'Atoll instance of Island\\nAtoll has part Lagoon\\nThe Voyage of the Beagle start time 1831\\nHMS Beagle instance of Ship\\nHMS Beagle location Pacific Ocean',\n",
       " 'Sarah-Léonie Cysique country of citizenship France\\nSarah-Léonie Cysique sport Judo\\n2020 Summer Olympics location Tokyo\\n2020 Summer Olympics instance of Olympic Games',\n",
       " 'Governor-General of New Zealand appointed by Minister of Finance and the Public Service',\n",
       " 'Čekovce instance of Village\\nČekovce located in the administrative territorial entity Krupina District\\nČekovce located in the administrative territorial entity Banská Bystrica Region\\nČekovce country Slovakia',\n",
       " 'Mangeli-ye Sofla located in the administrative territorial entity Safiabad Rural District\\nMangeli-ye Sofla located in the administrative territorial entity Bam and Safiabad District\\nMangeli-ye Sofla located in the administrative territorial entity Esfarayen County\\nMangeli-ye Sofla country Iran',\n",
       " 'George Bowes owner of Gibside\\nGeorge Bowes owner of Streatlam Castle\\nGeorge Bowes occupation Politician',\n",
       " 'Elvira Barbey country of citizenship Switzerland\\nElvira Barbey participant in 1928 Winter Olympics\\n1928 Winter Olympics instance of Olympic Games\\nElvira Barbey partner in business or sport Louis Barbey\\nLouis Barbey partner in business or sport Elvira Barbey',\n",
       " 'Ban Qan instance of Village\\nBan Qan located in the administrative territorial entity Khavashod Rural District\\nBan Qan located in the administrative territorial entity Sabzevar County\\nBan Qan located in the administrative territorial entity Razavi Khorasan Province\\nBan Qan country Iran',\n",
       " '',\n",
       " 'Trygve Hegnar occupation Editor-in-chief\\nTrygve Hegnar instance of Person\\nTrygve Hegnar country of citizenship Norway',\n",
       " '',\n",
       " 'Ankycorbin instance of Protein\\nAnkycorbin encoded by RAI14',\n",
       " '',\n",
       " 'Colder Than Here date of first performance 2005\\nColder Than Here location of first performance Soho Theatre',\n",
       " '',\n",
       " '',\n",
       " 'Šarkanica instance of National nature reserve\\nŠarkanica located in the administrative territorial entity Revúca District\\nŠarkanica located in the administrative territorial entity Rimavská Sobota District',\n",
       " 'The Redwood Session instance of Album\\nThe Redwood Session performer Evan Parker\\nThe Redwood Session performer Paul Lytton',\n",
       " 'Junior Eurovision Song Contest instance of Music competition\\nJunior Eurovision Song Contest organizer European Broadcasting Union\\nEuropean Broadcasting Union instance of Organization',\n",
       " 'Casigua-El Cubo located in the administrative territorial entity Zulia\\nCasigua-El Cubo country Venezuela\\nCasigua-El Cubo located on terrain feature Lake Maracaibo',\n",
       " 'The Football Association instance of Sports governing body\\nThe Football Association sport Association football\\nThe Football Association country England\\nThe Football Association country Jersey\\nThe Football Association country Isle of Man\\nThe Football Association inception 1863',\n",
       " 'Guimboari located in the administrative territorial entity Piéla Department\\nGuimboari located in the administrative territorial entity Gnagna Province\\nGuimboari located in the administrative territorial entity Burkina Faso\\nGuimboari instance of Village',\n",
       " 'Haptic perception instance of Perception',\n",
       " 'Jean-Paul Berjeau country of citizenship France\\nJean-Paul Berjeau instance of Human\\n1970 European Aquatics Championships winner Jean-Paul Berjeau\\n1972 Summer Olympics location Munich\\nJean-Paul Berjeau participant in 1972 Summer Olympics\\n1972 Summer Olympics participant Jean-Paul Berjeau',\n",
       " 'Beltex instance of Breed\\nBeltex country of origin Belgium',\n",
       " 'Think Fast, Mr. Moto instance of Film\\nThink Fast, Mr. Moto director Norman Foster (director)\\nThink Fast, Mr. Moto cast member Peter Lorre\\nThink Fast, Mr. Moto cast member Virginia Field\\nThink Fast, Mr. Moto cast member Sig Ruman\\nThink Fast, Mr. Moto based on Mr. Moto\\nMr. Moto creator John P. Marquand',\n",
       " '2019 FA Trophy Final sport Football\\nAFC Fylde participant in 2019 FA Trophy Final',\n",
       " 'Finns Party Youth part of Finns Party',\n",
       " 'Karma instance of Album Album\\nDelerium contains Bill Leeb\\nBill Leeb instance of Human',\n",
       " 'Survivin instance of Protein',\n",
       " \"Plénée-Jugon located in the administrative territorial entity Côtes-d'Armor\\nPlénée-Jugon located in the administrative territorial entity Brittany\\nPlénée-Jugon country France\",\n",
       " 'The Mass Extermination of Jews in German Occupied Poland publication date 1943\\nPolish government-in-exile location of formation London',\n",
       " '',\n",
       " '',\n",
       " '',\n",
       " '',\n",
       " 'Theophil Hansen instance of Architect',\n",
       " '',\n",
       " \"Central Europe located in the administrative territorial entity East Germany\\nEast Germany instance of Country\\nEast Germany political ideology Communism\\nEast Germany described by source Workers and Peasants' Socialist Party\",\n",
       " 'Jean-Marie le Guillou country of citizenship France\\nJean-Marie le Guillou occupation Sailor\\nJean-Marie le Guillou instance of Human\\nJean-Marie le Guillou participant in 1972 Summer Olympics',\n",
       " 'On the Hills of Manchuria publication date 1906\\nBattle of Mukden described by source On the Hills of Manchuria\\nBattle of Mukden part of Russo-Japanese War',\n",
       " 'Cleansing of the Temple narrative motif Jesus\\nCleansing of the Temple instance of Narrative\\nCleansing of the Temple location Temple',\n",
       " 'European route E65 direction North-South\\nEuropean route E65 length 360 km\\nEuropean route E65 length 600 Miles\\nEuropean route E65 start point Malmö\\nMalmö located in the administrative territorial entity Sweden\\nChania located in the administrative territorial entity Greece',\n",
       " '',\n",
       " 'Kevin Legg occupation Football player\\nFootball player subclass of Human\\nFootball player sport Association football\\nKevin Legg instance of Human\\nContinental Indoor Soccer League league Indoor soccer',\n",
       " '',\n",
       " 'James Adomian country of citizenship United States\\nJames Adomian occupation Actor\\nJames Adomian ethnic group Armenians',\n",
       " 'Super League part of British rugby league system',\n",
       " 'Carantoc instance of Abbot\\nCarantoc occupation Confessor\\nCarantoc country of citizenship Wales\\nCarantoc instance of Human',\n",
       " 'Joseph Wheeler occupation Politician\\nJoseph Wheeler military branch Confederate States Army\\nJoseph Wheeler military branch United States Army\\nJoseph Wheeler conflict American Civil War\\nJoseph Wheeler conflict Spanish–American War\\nJoseph Wheeler conflict Philippine–American War\\nConfederate States of America instance of Country\\nUnited States Army instance of Military\\nAmerican Civil War instance of War\\nPhilippine–American War instance of War',\n",
       " 'Discworld game mechanics Point and click\\nDiscworld publisher Psygnosis',\n",
       " 'Heart symbol instance of Ideogram\\nHeart symbol used by Heart\\nHeart symbol iconographic symbol Heart\\nACCURATE shape Heart symbol\\nHeart symbol symbolizes At the Center\\nHeart symbol symbolizes Affection\\nHeart symbol symbolizes Love',\n",
       " '13th Age instance of Role-playing game\\n13th Age designed by Rob Heinsoo\\n13th Age designed by Jonathan Tweet',\n",
       " 'Rimrock Lake country United States\\nRimrock Lake located on terrain feature Tieton River\\nRimrock Lake instance of Lake',\n",
       " 'Applethorpe Farm located in the administrative territorial entity Ross County, Ohio\\nApplethorpe Farm country United States\\nGreek Revival architecture subclass of Architectural style',\n",
       " 'Tiago Leifert country of citizenship Brazil\\nTiago Leifert occupation Journalist\\nTiago Leifert occupation Television presenter\\nTiago Leifert place of birth São Paulo\\nTiago Leifert educated at University of Miami',\n",
       " 'Hubei located in the administrative territorial entity China\\nJiang Chaoliang end time COVID-19 pandemic',\n",
       " 'Scorpius instance of Constellation\\nScorpius location Milky Way',\n",
       " 'Extensively drug-resistant tuberculosis instance of Tuberculosis',\n",
       " 'Hermes Pan work period (start) 1930s\\nSpringtime in the Rockies instance of Film',\n",
       " \"Rotorua Girls' High School member of Alliance of Girls' Schools Australasia\\nRotorua Girls' High School country New Zealand\\nRotorua Girls' High School located in the administrative territorial entity Rotorua\\nRotorua Girls' High School instance of State school\",\n",
       " 'Grand Duchess Tatiana Nikolaevna of Russia place of birth Peterhof Palace\\nGrand Duchess Tatiana Nikolaevna of Russia location Saint Petersburg\\nRussia head of state Nicholas II of Russia',\n",
       " 'Opuiaki River direction North\\nOpuiaki River instance of River',\n",
       " 'Yang Zaisi country of citizenship China\\nYang Zaisi occupation Politician\\nYang Zaisi position held Chancellor\\nWu Zetian instance of Monarch',\n",
       " '',\n",
       " 'Srđan Radosavljev languages spoken, written or signed Serbian language\\nSrđan Radosavljev sport Association football\\nSrđan Radosavljev position played on team / speciality Midfielder\\nSrđan Radosavljev member of sports team FK Bačka 1901\\nSrđan Radosavljev place of birth Vršac\\nSrđan Radosavljev country of citizenship Serbia',\n",
       " 'Moneyneany instance of Village\\nMoneyneany located in the administrative territorial entity County Londonderry\\nMoneyneany located in the administrative territorial entity Northern Ireland\\nCounty Londonderry country United Kingdom\\nNorthern Ireland country United Kingdom\\nMid Ulster (district) located in the administrative territorial entity Northern Ireland',\n",
       " '',\n",
       " 'Knud Aage Nielsen sex or gender Male\\nKnud Aage Nielsen country of citizenship Denmark\\nKnud Aage Nielsen date of birth 1937',\n",
       " '',\n",
       " 'Stenalia araxicola instance of Beetle',\n",
       " 'Åsensbruk located in the administrative territorial entity Mellerud Municipality\\nÅsensbruk located in the administrative territorial entity Västra Götaland County\\nÅsensbruk country Sweden',\n",
       " 'National Humanities Medal instance of Medal\\nWhite House location Washington, D.C.',\n",
       " 'Pentium III manufacturer Intel\\nPentium III inspired by P6 (microarchitecture)',\n",
       " '',\n",
       " 'Predator vs. Judge Dredd publication date 1997\\nPredator vs. Judge Dredd published in Judge Dredd Megazine\\nPredator vs. Judge Dredd published in Dark Horse Comics']"
      ]
     },
     "execution_count": 10,
     "metadata": {},
     "output_type": "execute_result"
    }
   ],
   "source": [
    "outputs"
   ]
  },
  {
   "cell_type": "code",
   "execution_count": 11,
   "metadata": {},
   "outputs": [],
   "source": [
    "df['gpt Generated triplets'] = outputs"
   ]
  },
  {
   "cell_type": "code",
   "execution_count": 12,
   "metadata": {},
   "outputs": [
    {
     "data": {
      "text/html": [
       "<div>\n",
       "<style scoped>\n",
       "    .dataframe tbody tr th:only-of-type {\n",
       "        vertical-align: middle;\n",
       "    }\n",
       "\n",
       "    .dataframe tbody tr th {\n",
       "        vertical-align: top;\n",
       "    }\n",
       "\n",
       "    .dataframe thead th {\n",
       "        text-align: right;\n",
       "    }\n",
       "</style>\n",
       "<table border=\"1\" class=\"dataframe\">\n",
       "  <thead>\n",
       "    <tr style=\"text-align: right;\">\n",
       "      <th></th>\n",
       "      <th>ID</th>\n",
       "      <th>Text</th>\n",
       "      <th>Entities</th>\n",
       "      <th>Natural language text</th>\n",
       "      <th>SyntIE Generated triplets</th>\n",
       "      <th>gpt Generated triplets</th>\n",
       "    </tr>\n",
       "  </thead>\n",
       "  <tbody>\n",
       "    <tr>\n",
       "      <th>0</th>\n",
       "      <td>12534</td>\n",
       "      <td>Bob Dylan is an American singer-songwriter who...</td>\n",
       "      <td>Bob_Dylan Bob_Dylan_discography</td>\n",
       "      <td>Bob Dylan is an American singer-songwriter. Bl...</td>\n",
       "      <td>Blonde_on_Blonde performer Bob_Dylan\\nBlonde_o...</td>\n",
       "      <td>Bob Dylan occupation Singer-songwriter\\nBlonde...</td>\n",
       "    </tr>\n",
       "    <tr>\n",
       "      <th>1</th>\n",
       "      <td>1926</td>\n",
       "      <td>Amalie Murtfeldt passed away in Bremen.</td>\n",
       "      <td>Amalie_Murtfeldt Bremen</td>\n",
       "      <td>On June 28, 1888, aged 60, Amalie, who had bee...</td>\n",
       "      <td>Funeral manifestation of Death\\nFuneral descri...</td>\n",
       "      <td></td>\n",
       "    </tr>\n",
       "    <tr>\n",
       "      <th>2</th>\n",
       "      <td>18858</td>\n",
       "      <td>Gibson, Georgia is the capital of Glascock Cou...</td>\n",
       "      <td>Gibson,_Georgia Glascock_County,_Georgia Easte...</td>\n",
       "      <td>Gibson is a city in Glascock County, Georgia, ...</td>\n",
       "      <td>Gibson,_Georgia country United_States\\nGibson,...</td>\n",
       "      <td>Glascock County Courthouse instance of Nationa...</td>\n",
       "    </tr>\n",
       "    <tr>\n",
       "      <th>3</th>\n",
       "      <td>44871</td>\n",
       "      <td>Parsonsfield Seminary is located in Parsonsfie...</td>\n",
       "      <td>Parsonsfield_Seminary Parsonsfield,_Maine Unit...</td>\n",
       "      <td>Parsonsfield Seminary, which operated from 183...</td>\n",
       "      <td>Parsonsfield_Seminary country United_States\\nP...</td>\n",
       "      <td>Parsonsfield Seminary instance of Educational ...</td>\n",
       "    </tr>\n",
       "    <tr>\n",
       "      <th>4</th>\n",
       "      <td>5573</td>\n",
       "      <td>Hatfield Forest is operated by the National Tr...</td>\n",
       "      <td>Hatfield_Forest National_Trust Site_of_Special...</td>\n",
       "      <td>Hatfield Forest is a biological Site of Specia...</td>\n",
       "      <td>Hatfield_Forest significant place Bishop's_Sto...</td>\n",
       "      <td>Hatfield Forest instance of Site of Special Sc...</td>\n",
       "    </tr>\n",
       "    <tr>\n",
       "      <th>...</th>\n",
       "      <td>...</td>\n",
       "      <td>...</td>\n",
       "      <td>...</td>\n",
       "      <td>...</td>\n",
       "      <td>...</td>\n",
       "      <td>...</td>\n",
       "    </tr>\n",
       "    <tr>\n",
       "      <th>95</th>\n",
       "      <td>26682</td>\n",
       "      <td>Åsensbruk is located in the UTC+01:00 time zone.</td>\n",
       "      <td>Åsensbruk UTC+01:00</td>\n",
       "      <td>Åsensbruk is a locality situated in Mellerud M...</td>\n",
       "      <td>Mellerud_Municipality legal form Municipalitie...</td>\n",
       "      <td>Åsensbruk located in the administrative territ...</td>\n",
       "    </tr>\n",
       "    <tr>\n",
       "      <th>96</th>\n",
       "      <td>43737</td>\n",
       "      <td>Richard Brookhiser is a historian who received...</td>\n",
       "      <td>Richard_Brookhiser National_Humanities_Medal R...</td>\n",
       "      <td>In 2008, President George W. Bush awarded Broo...</td>\n",
       "      <td>George_W._Bush award received National_Humanit...</td>\n",
       "      <td>National Humanities Medal instance of Medal\\nW...</td>\n",
       "    </tr>\n",
       "    <tr>\n",
       "      <th>97</th>\n",
       "      <td>45299</td>\n",
       "      <td>The Pentium III processor was built on the P6 ...</td>\n",
       "      <td>Pentium_III Socket_370 P6_(microarchitecture) ...</td>\n",
       "      <td>The Pentium III brand refers to Intel's 32-bit...</td>\n",
       "      <td>Pentium_III brand Pentium\\nPentium_III microar...</td>\n",
       "      <td>Pentium III manufacturer Intel\\nPentium III in...</td>\n",
       "    </tr>\n",
       "    <tr>\n",
       "      <th>98</th>\n",
       "      <td>1424</td>\n",
       "      <td>Mel Bush made her first appearance in the Doct...</td>\n",
       "      <td>Mel_Bush Terror_of_the_Vervoids Sixth_Doctor S...</td>\n",
       "      <td>Melanie \"Mel\" Bush is a fictional character pl...</td>\n",
       "      <td>Mel_Bush sidekick of Sixth_Doctor\\nMel_Bush pr...</td>\n",
       "      <td></td>\n",
       "    </tr>\n",
       "    <tr>\n",
       "      <th>99</th>\n",
       "      <td>31834</td>\n",
       "      <td>Predator vs. Judge Dredd is an instance of a l...</td>\n",
       "      <td>Predator_vs._Judge_Dredd Limited_series_(comic...</td>\n",
       "      <td>Predator vs. Judge Dredd is an intercompany cr...</td>\n",
       "      <td>Predator_vs._Judge_Dredd publisher Dark_Horse_...</td>\n",
       "      <td>Predator vs. Judge Dredd publication date 1997...</td>\n",
       "    </tr>\n",
       "  </tbody>\n",
       "</table>\n",
       "<p>100 rows × 6 columns</p>\n",
       "</div>"
      ],
      "text/plain": [
       "       ID                                               Text  \\\n",
       "0   12534  Bob Dylan is an American singer-songwriter who...   \n",
       "1    1926            Amalie Murtfeldt passed away in Bremen.   \n",
       "2   18858  Gibson, Georgia is the capital of Glascock Cou...   \n",
       "3   44871  Parsonsfield Seminary is located in Parsonsfie...   \n",
       "4    5573  Hatfield Forest is operated by the National Tr...   \n",
       "..    ...                                                ...   \n",
       "95  26682   Åsensbruk is located in the UTC+01:00 time zone.   \n",
       "96  43737  Richard Brookhiser is a historian who received...   \n",
       "97  45299  The Pentium III processor was built on the P6 ...   \n",
       "98   1424  Mel Bush made her first appearance in the Doct...   \n",
       "99  31834  Predator vs. Judge Dredd is an instance of a l...   \n",
       "\n",
       "                                             Entities  \\\n",
       "0                     Bob_Dylan Bob_Dylan_discography   \n",
       "1                             Amalie_Murtfeldt Bremen   \n",
       "2   Gibson,_Georgia Glascock_County,_Georgia Easte...   \n",
       "3   Parsonsfield_Seminary Parsonsfield,_Maine Unit...   \n",
       "4   Hatfield_Forest National_Trust Site_of_Special...   \n",
       "..                                                ...   \n",
       "95                                Åsensbruk UTC+01:00   \n",
       "96  Richard_Brookhiser National_Humanities_Medal R...   \n",
       "97  Pentium_III Socket_370 P6_(microarchitecture) ...   \n",
       "98  Mel_Bush Terror_of_the_Vervoids Sixth_Doctor S...   \n",
       "99  Predator_vs._Judge_Dredd Limited_series_(comic...   \n",
       "\n",
       "                                Natural language text  \\\n",
       "0   Bob Dylan is an American singer-songwriter. Bl...   \n",
       "1   On June 28, 1888, aged 60, Amalie, who had bee...   \n",
       "2   Gibson is a city in Glascock County, Georgia, ...   \n",
       "3   Parsonsfield Seminary, which operated from 183...   \n",
       "4   Hatfield Forest is a biological Site of Specia...   \n",
       "..                                                ...   \n",
       "95  Åsensbruk is a locality situated in Mellerud M...   \n",
       "96  In 2008, President George W. Bush awarded Broo...   \n",
       "97  The Pentium III brand refers to Intel's 32-bit...   \n",
       "98  Melanie \"Mel\" Bush is a fictional character pl...   \n",
       "99  Predator vs. Judge Dredd is an intercompany cr...   \n",
       "\n",
       "                            SyntIE Generated triplets  \\\n",
       "0   Blonde_on_Blonde performer Bob_Dylan\\nBlonde_o...   \n",
       "1   Funeral manifestation of Death\\nFuneral descri...   \n",
       "2   Gibson,_Georgia country United_States\\nGibson,...   \n",
       "3   Parsonsfield_Seminary country United_States\\nP...   \n",
       "4   Hatfield_Forest significant place Bishop's_Sto...   \n",
       "..                                                ...   \n",
       "95  Mellerud_Municipality legal form Municipalitie...   \n",
       "96  George_W._Bush award received National_Humanit...   \n",
       "97  Pentium_III brand Pentium\\nPentium_III microar...   \n",
       "98  Mel_Bush sidekick of Sixth_Doctor\\nMel_Bush pr...   \n",
       "99  Predator_vs._Judge_Dredd publisher Dark_Horse_...   \n",
       "\n",
       "                               gpt Generated triplets  \n",
       "0   Bob Dylan occupation Singer-songwriter\\nBlonde...  \n",
       "1                                                      \n",
       "2   Glascock County Courthouse instance of Nationa...  \n",
       "3   Parsonsfield Seminary instance of Educational ...  \n",
       "4   Hatfield Forest instance of Site of Special Sc...  \n",
       "..                                                ...  \n",
       "95  Åsensbruk located in the administrative territ...  \n",
       "96  National Humanities Medal instance of Medal\\nW...  \n",
       "97  Pentium III manufacturer Intel\\nPentium III in...  \n",
       "98                                                     \n",
       "99  Predator vs. Judge Dredd publication date 1997...  \n",
       "\n",
       "[100 rows x 6 columns]"
      ]
     },
     "execution_count": 12,
     "metadata": {},
     "output_type": "execute_result"
    }
   ],
   "source": [
    "df"
   ]
  },
  {
   "cell_type": "code",
   "execution_count": 13,
   "metadata": {},
   "outputs": [],
   "source": [
    "df.to_csv('assessment_100_samples_from_test_small.csv')"
   ]
  },
  {
   "cell_type": "markdown",
   "metadata": {},
   "source": [
    "## Evaluation on SynthIE"
   ]
  },
  {
   "cell_type": "code",
   "execution_count": 160,
   "metadata": {},
   "outputs": [],
   "source": [
    "import datasets\n",
    "\n",
    "dataset_name = 'synthie_code' # 'synthie_code', 'rebel', 'synthie_text_pc', 'synthie_code_pc', 'rebel_pc'\n",
    "split = \"train\" # \"train\", \"test\", \"test_small\"\n",
    "\n",
    "dataset = datasets.load_dataset(f\"martinjosifoski/SynthIE\", dataset_name, split=split)"
   ]
  },
  {
   "cell_type": "code",
   "execution_count": 183,
   "metadata": {},
   "outputs": [
    {
     "data": {
      "text/plain": [
       "{'id': 156,\n",
       " 'text': 'Dr. Babasaheb Ambedkar College of Arts, Commerce and Science is an academic institution in India.',\n",
       " 'triplets': [{'subject': \"{'surfaceform': 'Dr._Babasaheb_Ambedkar_College_of_Arts,_Commerce_and_Science', 'uri': 'Q48726547'}\",\n",
       "   'predicate': \"{'surfaceform': 'instance of', 'uri': 'P31'}\",\n",
       "   'object': \"{'surfaceform': 'Academic_institution', 'uri': 'Q4671277'}\"},\n",
       "  {'subject': \"{'surfaceform': 'Dr._Babasaheb_Ambedkar_College_of_Arts,_Commerce_and_Science', 'uri': 'Q48726547'}\",\n",
       "   'predicate': \"{'surfaceform': 'country', 'uri': 'P17'}\",\n",
       "   'object': \"{'surfaceform': 'India', 'uri': 'Q668'}\"},\n",
       "  {'subject': \"{'surfaceform': 'Academic_institution', 'uri': 'Q4671277'}\",\n",
       "   'predicate': \"{'surfaceform': 'subclass of', 'uri': 'P279'}\",\n",
       "   'object': \"{'surfaceform': 'Educational_institution', 'uri': 'Q2385804'}\"},\n",
       "  {'subject': \"{'surfaceform': 'Academic_institution', 'uri': 'Q4671277'}\",\n",
       "   'predicate': \"{'surfaceform': 'subclass of', 'uri': 'P279'}\",\n",
       "   'object': \"{'surfaceform': 'Research_institute', 'uri': 'Q31855'}\"},\n",
       "  {'subject': \"{'surfaceform': 'India', 'uri': 'Q668'}\",\n",
       "   'predicate': \"{'surfaceform': 'language used', 'uri': 'P2936'}\",\n",
       "   'object': \"{'surfaceform': 'Brokskat', 'uri': 'Q2925988'}\"},\n",
       "  {'subject': \"{'surfaceform': 'India', 'uri': 'Q668'}\",\n",
       "   'predicate': \"{'surfaceform': 'public holiday', 'uri': 'P832'}\",\n",
       "   'object': \"{'surfaceform': 'Independence_Day_(India)', 'uri': 'Q56106'}\"}],\n",
       " 'entities': [{'surfaceform': 'Dr._Babasaheb_Ambedkar_College_of_Arts,_Commerce_and_Science',\n",
       "   'uri': 'Q48726547'},\n",
       "  {'surfaceform': 'Academic_institution', 'uri': 'Q4671277'},\n",
       "  {'surfaceform': 'India', 'uri': 'Q668'},\n",
       "  {'surfaceform': 'Educational_institution', 'uri': 'Q2385804'},\n",
       "  {'surfaceform': 'Research_institute', 'uri': 'Q31855'},\n",
       "  {'surfaceform': 'Brokskat', 'uri': 'Q2925988'},\n",
       "  {'surfaceform': 'Independence_Day_(India)', 'uri': 'Q56106'}],\n",
       " 'relations': [{'surfaceform': 'instance of', 'uri': 'P31'},\n",
       "  {'surfaceform': 'country', 'uri': 'P17'},\n",
       "  {'surfaceform': 'subclass of', 'uri': 'P279'},\n",
       "  {'surfaceform': 'language used', 'uri': 'P2936'},\n",
       "  {'surfaceform': 'public holiday', 'uri': 'P832'}]}"
      ]
     },
     "execution_count": 183,
     "metadata": {},
     "output_type": "execute_result"
    }
   ],
   "source": [
    "dataset[156]"
   ]
  },
  {
   "cell_type": "code",
   "execution_count": 157,
   "metadata": {},
   "outputs": [
    {
     "data": {
      "text/plain": [
       "(26828, 27843)"
      ]
     },
     "execution_count": 157,
     "metadata": {},
     "output_type": "execute_result"
    }
   ],
   "source": [
    "len(train_entities), len(test_entities)"
   ]
  },
  {
   "cell_type": "code",
   "execution_count": 159,
   "metadata": {},
   "outputs": [
    {
     "data": {
      "text/plain": [
       "5270"
      ]
     },
     "execution_count": 159,
     "metadata": {},
     "output_type": "execute_result"
    }
   ],
   "source": [
    "len(set(train_entities) & set(test_entities))"
   ]
  },
  {
   "cell_type": "code",
   "execution_count": null,
   "metadata": {},
   "outputs": [],
   "source": [
    "    dataset[0]['entities']"
   ]
  },
  {
   "cell_type": "code",
   "execution_count": 147,
   "metadata": {},
   "outputs": [
    {
     "name": "stdout",
     "output_type": "stream",
     "text": [
      "{'id': 1925, 'text': 'Bach flower remedies are a form of alternative medicine named after Edward Bach, and they are related to both flowers and plants. Flowers are part of a shoot.', 'triplets': [{'subject': \"{'surfaceform': 'Bach_flower_remedies', 'uri': 'Q788110'}\", 'predicate': \"{'surfaceform': 'relative to', 'uri': 'P2210'}\", 'object': \"{'surfaceform': 'Flower', 'uri': 'Q506'}\"}, {'subject': \"{'surfaceform': 'Bach_flower_remedies', 'uri': 'Q788110'}\", 'predicate': \"{'surfaceform': 'relative to', 'uri': 'P2210'}\", 'object': \"{'surfaceform': 'Plant', 'uri': 'Q756'}\"}, {'subject': \"{'surfaceform': 'Bach_flower_remedies', 'uri': 'Q788110'}\", 'predicate': \"{'surfaceform': 'relative to', 'uri': 'P2210'}\", 'object': \"{'surfaceform': 'Alternative_medicine', 'uri': 'Q188504'}\"}, {'subject': \"{'surfaceform': 'Bach_flower_remedies', 'uri': 'Q788110'}\", 'predicate': \"{'surfaceform': 'named after', 'uri': 'P138'}\", 'object': \"{'surfaceform': 'Edward_Bach', 'uri': 'Q969176'}\"}, {'subject': \"{'surfaceform': 'Flower', 'uri': 'Q506'}\", 'predicate': \"{'surfaceform': 'part of', 'uri': 'P361'}\", 'object': \"{'surfaceform': 'Shoot', 'uri': 'Q220869'}\"}], 'entities': [{'surfaceform': 'Bach_flower_remedies', 'uri': 'Q788110'}, {'surfaceform': 'Flower', 'uri': 'Q506'}, {'surfaceform': 'Plant', 'uri': 'Q756'}, {'surfaceform': 'Alternative_medicine', 'uri': 'Q188504'}, {'surfaceform': 'Edward_Bach', 'uri': 'Q969176'}, {'surfaceform': 'Shoot', 'uri': 'Q220869'}], 'relations': [{'surfaceform': 'relative to', 'uri': 'P2210'}, {'surfaceform': 'named after', 'uri': 'P138'}, {'surfaceform': 'part of', 'uri': 'P361'}]}\n"
     ]
    }
   ],
   "source": [
    "for i in range(0, len(dataset)):\n",
    "    if dataset[i]['id'] == 1925:\n",
    "        print(dataset[i])"
   ]
  },
  {
   "cell_type": "code",
   "execution_count": 7,
   "metadata": {},
   "outputs": [],
   "source": [
    "gpt_res = []\n",
    "\n",
    "for i in range(0, 3):\n",
    "\n",
    "    logs_filename = f'logs/logs_improved_prompt_synthie_text_test_small_10000_launch_{int(i)}.jsonl'\n",
    "    gpt_res.append({})\n",
    "\n",
    "    with open(logs_filename, 'r') as f:\n",
    "        for line in f:\n",
    "            out = json.loads(line)[-1]\n",
    "            index = dataset[out['index']]['id']\n",
    "            gpt_res[i][index] = out\n",
    "            "
   ]
  },
  {
   "cell_type": "code",
   "execution_count": 40,
   "metadata": {},
   "outputs": [],
   "source": [
    "zero_shot_gpt_res = {}\n",
    "\n",
    "for i in range(0, 2):\n",
    "\n",
    "    logs_filename = f'logs/logs_improved_prompt_synthie_text_test_small_10000_launch_{int(i+4)}.jsonl'\n",
    "\n",
    "    with open(logs_filename, 'r') as f:\n",
    "        for line in f:\n",
    "            out = json.loads(line)[-1]\n",
    "            index = dataset[out['index']]['id']\n",
    "            zero_shot_gpt_res[index] = out\n",
    "            "
   ]
  },
  {
   "cell_type": "code",
   "execution_count": 41,
   "metadata": {},
   "outputs": [
    {
     "data": {
      "text/plain": [
       "(5847, 6302, 5596)"
      ]
     },
     "execution_count": 41,
     "metadata": {},
     "output_type": "execute_result"
    }
   ],
   "source": [
    "len(gpt_res[0].keys()), len(gpt_res[1].keys()), len(gpt_res[2].keys())"
   ]
  },
  {
   "cell_type": "code",
   "execution_count": 42,
   "metadata": {},
   "outputs": [
    {
     "data": {
      "text/plain": [
       "5587"
      ]
     },
     "execution_count": 42,
     "metadata": {},
     "output_type": "execute_result"
    }
   ],
   "source": [
    "len(zero_shot_gpt_res)"
   ]
  },
  {
   "cell_type": "code",
   "execution_count": 12,
   "metadata": {},
   "outputs": [],
   "source": [
    "logs_synthie_filename_1 = '/home/chepurova/SynthIE/notebooks/logs/logs_0_to_5000.jsonl'\n",
    "synthie_res = {}\n",
    "\n",
    "with open(logs_synthie_filename_1, 'r') as f:\n",
    "    for line in f:\n",
    "        out = json.loads(line)\n",
    "        index = out['id']\n",
    "        synthie_res[index] = out\n",
    "\n",
    "logs_synthie_filename_2 = '/home/chepurova/SynthIE/notebooks/logs/logs_5000_to_10000.jsonl'\n",
    "with open(logs_synthie_filename_2, 'r') as f:\n",
    "    for line in f:\n",
    "        out = json.loads(line)\n",
    "        index = out['id']\n",
    "        synthie_res[index] = out\n",
    "\n"
   ]
  },
  {
   "cell_type": "code",
   "execution_count": 13,
   "metadata": {},
   "outputs": [
    {
     "data": {
      "text/plain": [
       "10000"
      ]
     },
     "execution_count": 13,
     "metadata": {},
     "output_type": "execute_result"
    }
   ],
   "source": [
    "len(synthie_res)"
   ]
  },
  {
   "cell_type": "code",
   "execution_count": 14,
   "metadata": {},
   "outputs": [
    {
     "data": {
      "text/plain": [
       "dict_keys([856, 43678, 27842, 44904, 34729, 7599, 19328, 48010, 39054, 8755, 36270, 6173, 22219, 40183, 22122, 25622, 7377, 6538, 8414, 41401, 4463, 42017, 9351, 35521, 9270, 16035, 40904, 17315, 48815, 32999, 34508, 13713, 26109, 3440, 12129, 26755, 35805, 29751, 17986, 3097, 36902, 38043, 2888, 15656, 8407, 46285, 37473, 41487, 38641, 23591, 15886, 16110, 27616, 34870, 36731, 34347, 12899, 16827, 10022, 26504, 26008, 33121, 5272, 42947, 27173, 3902, 30145, 34249, 17251, 20353, 25706, 8578, 41841, 11448, 2194, 2594, 24374, 39151, 22733, 6432, 35141, 48336, 8099, 49172, 28488, 36614, 24861, 21302, 47004, 17060, 9091, 2838, 36879, 26145, 299, 37973, 27470, 34879, 10886, 15109, 42785, 23551, 38427, 42439, 50103, 9238, 33628, 28352, 10504, 33141, 44088, 6336, 29983, 22793, 29370, 1829, 35622, 43266, 111, 33122, 35198, 19268, 13997, 4911, 35820, 22957, 30021, 44746, 18786, 43026, 21406, 11113, 45056, 39074, 39973, 50188, 1558, 30537, 7042, 45193, 27395, 37496, 38156, 11473, 46206, 19083, 19551, 48464, 6240, 4279, 10389, 11746, 707, 41835, 41421, 6419, 43363, 264, 38698, 26875, 47817, 3172, 24588, 17572, 42959, 39060, 22408, 16688, 37560, 362, 7875, 43770, 7674, 41136, 19315, 41029, 24359, 3997, 44728, 14648, 7109, 41986, 5733, 28278, 38204, 5211, 11672, 19459, 17868, 40121, 40699, 7063, 29820, 26836, 30759, 16176, 5899, 20501, 20183, 7703, 25887, 43579, 31376, 4640, 11654, 29049, 39641, 45461, 14515, 3145, 14857, 2082, 27096, 45978, 10182, 26659, 26058, 19690, 44276, 37656, 24319, 25774, 25127, 22130, 23596, 8005, 3666, 4471, 3554, 39494, 31860, 3555, 43023, 17309, 49386, 40700, 33624, 26604, 38352, 25867, 48927, 19144, 40953, 43643, 11181, 37161, 39664, 7055, 14164, 6829, 25357, 4062, 40547, 33044, 37160, 39715, 18639, 9977, 22822, 35067, 1235, 11290, 46, 43702, 42614, 24147, 40623, 3337, 35124, 48404, 2807, 12914, 39703, 47909, 4984, 21743, 1859, 49700, 7259, 2069, 6038, 20064, 44503, 3093, 12484, 22850, 39943, 3262, 24446, 38529, 12940, 43942, 11130, 35915, 29924, 42209, 17198, 26877, 45481, 27040, 19777, 32814, 36764, 48844, 43386, 13302, 20019, 44979, 6192, 1253, 27871, 4596, 37908, 14091, 32051, 26203, 41123, 7689, 50075, 47640, 9537, 39502, 34458, 2499, 22311, 8976, 3131, 21637, 33410, 28327, 7271, 39930, 7940, 21376, 22105, 9739, 42653, 17597, 26762, 48236, 36888, 2882, 43422, 26887, 6086, 14204, 26749, 30155, 31213, 2389, 14094, 43808, 21530, 9477, 42812, 32855, 7738, 31861, 21317, 12059, 24506, 37963, 36750, 34919, 47029, 38860, 45839, 43783, 6400, 40407, 21079, 25590, 38801, 10719, 4398, 10979, 37938, 6859, 23393, 32463, 45621, 2516, 4661, 46933, 17017, 11242, 33519, 5574, 42632, 39666, 22521, 48255, 4870, 9864, 21175, 45039, 15237, 26960, 33298, 9636, 10196, 35051, 16944, 6873, 40177, 24160, 36404, 45211, 9603, 775, 29646, 49840, 13675, 21518, 26351, 20333, 6204, 39900, 8426, 25750, 22990, 45785, 14602, 32766, 42453, 1117, 9735, 35084, 22973, 49014, 13286, 11073, 44293, 36293, 47869, 121, 19584, 19430, 50278, 23557, 42874, 9833, 33088, 23389, 19560, 9389, 28399, 37080, 24630, 21043, 42118, 2617, 41424, 47703, 1953, 2051, 9422, 36708, 30048, 43019, 4832, 8479, 40847, 47834, 7247, 39721, 25207, 13309, 23366, 33092, 8588, 15811, 48555, 30392, 22064, 10846, 16478, 25236, 23142, 6286, 20348, 40602, 40204, 24140, 40170, 18176, 26329, 12655, 29644, 21739, 45565, 22839, 30375, 25645, 43307, 41824, 15240, 24504, 28981, 31709, 16411, 29317, 47253, 19331, 37629, 26245, 21785, 20948, 21704, 5851, 49946, 34236, 47716, 27727, 9173, 28788, 6582, 33268, 34958, 23924, 29559, 24231, 686, 49401, 24772, 10004, 20529, 32395, 8605, 35310, 35752, 38284, 19733, 8891, 16200, 31834, 15091, 27160, 4456, 18111, 39988, 15539, 35338, 13966, 15944, 37269, 23037, 11486, 28228, 26128, 32117, 40633, 6236, 48575, 11325, 5858, 2222, 14771, 39683, 32764, 8086, 4459, 35353, 46200, 43773, 40365, 11997, 42858, 3509, 16864, 22288, 9883, 5739, 27182, 1795, 36598, 9879, 20371, 41185, 3251, 41853, 48763, 27601, 8690, 29815, 43778, 33805, 5006, 1368, 25636, 23726, 44018, 7890, 3550, 20420, 13463, 40774, 2686, 182, 46952, 11545, 45332, 43196, 21331, 7849, 34666, 28328, 45925, 1983, 12408, 8496, 45910, 5728, 40884, 36120, 22910, 15901, 8018, 37590, 19917, 39430, 13469, 19839, 34282, 4950, 3176, 25205, 48076, 1182, 13606, 8259, 23193, 23371, 33986, 18565, 42547, 41664, 7961, 6333, 47614, 24340, 3814, 3685, 36674, 24307, 46630, 8759, 2265, 28700, 36139, 22824, 7234, 28642, 27778, 5310, 44474, 33112, 25749, 12527, 21284, 49655, 14080, 46198, 36453, 27103, 29220, 6001, 33806, 17535, 15977, 35224, 41715, 47746, 44537, 48483, 43548, 23840, 44920, 47002, 727, 18899, 45636, 32191, 35028, 9233, 189, 20365, 40949, 37019, 49018, 28396, 41818, 20399, 29577, 26560, 11604, 39731, 22926, 13841, 44908, 47379, 2359, 7839, 5369, 39098, 11453, 39565, 34538, 19501, 47255, 21147, 27155, 190, 16830, 47265, 29096, 19198, 11161, 14123, 29038, 45678, 43937, 37646, 12208, 30083, 5784, 19952, 20954, 31226, 42437, 43212, 8138, 32540, 3203, 23159, 49776, 13387, 28120, 27434, 12482, 12348, 50048, 37024, 35018, 9757, 449, 19482, 23483, 1675, 27747, 11392, 43964, 27403, 33741, 23785, 12747, 27856, 38688, 35920, 7071, 5882, 19050, 10495, 15815, 36434, 30356, 18282, 16235, 8033, 37796, 29911, 13312, 43549, 29144, 12051, 44853, 21341, 30664, 34837, 22676, 9030, 3720, 44769, 48642, 39808, 24245, 36990, 48115, 33010, 44290, 772, 688, 36062, 37780, 4883, 2271, 36001, 42329, 47472, 44789, 17052, 47948, 17668, 38503, 10724, 19088, 49186, 40837, 6262, 42961, 10145, 12868, 5504, 17904, 25152, 19852, 41525, 19262, 40295, 37528, 35955, 15993, 3255, 44563, 19045, 26155, 40023, 17203, 20729, 45599, 38654, 41429, 4308, 7103, 38038, 16476, 2593, 36814, 15951, 38213, 25700, 8993, 40541, 33983, 26100, 3952, 48425, 16309, 26103, 9230, 38879, 18779, 45360, 38794, 11108, 7308, 25304, 9169, 16777, 39530, 28636, 27212, 11849, 43721, 35333, 20225, 10122, 29250, 6577, 43839, 32617, 8371, 2191, 41122, 5423, 531, 48031, 26820, 33229, 12961, 19740, 39031, 11264, 23715, 46705, 11840, 43185, 13698, 33441, 4591, 35062, 23190, 26320, 6939, 24572, 5309, 34534, 13500, 28859, 48687, 33282, 18721, 6844, 18926, 33981, 32106, 9275, 18437, 9266, 44768, 2767, 39640, 22627, 19079, 28426, 32820, 6228, 25705, 29573, 12540, 7911, 25685, 30124, 14213, 6711, 22220, 34930, 45951, 7393, 41732, 46469, 10300, 35421, 47851, 16899, 45807, 5174, 10286, 25558, 16876, 18998, 18823, 38938, 31291, 38258, 34146, 6882, 20829, 7125, 31965, 31140, 33319, 21151, 43272, 30981, 31676, 5940, 48603, 42327, 34137, 47345, 41672, 28195, 26247, 23449, 22583, 43072, 10764, 45377, 33364, 39540, 35934, 3433, 6805, 23491, 37878, 39395, 24781, 28521, 39712, 48804, 48409, 30330, 4318, 36696, 28298, 49710, 16256, 31642, 6338, 20370, 30240, 29857, 47500, 15371, 17464, 4342, 8577, 45777, 29576, 43418, 9152, 10027, 24985, 17038, 40741, 6843, 3306, 39161, 11601, 25045, 4337, 34324, 30172, 20970, 50009, 8713, 302, 7020, 12155, 30417, 49492, 10270, 48910, 39218, 8497, 8066, 27345, 40351, 12309, 36995, 8329, 30937, 47147, 45806, 40516, 36661, 30441, 44188, 18720, 273, 48408, 38417, 14405, 43930, 36440, 34724, 25504, 10875, 34965, 12835, 5376, 3564, 24209, 16984, 3146, 7056, 4524, 45311, 21817, 18869, 21142, 38464, 40248, 39541, 41778, 3385, 8531, 4106, 21150, 22324, 45410, 4628, 5103, 16389, 43880, 5371, 43336, 13634, 8733, 29167, 22792, 48415, 31813, 1102, 4843, 11223, 44133, 26898, 37939, 48579, 42727, 48888, 44049, 6901, 7336, 21358, 563, 30366, 47108, 18198, 13922, 34320, 9320, 32681, 48309, 45845, 20014, 12988, 25778, 9033, 2081, 43887, 23292, 36865, 17206, 34127, 43353, 1592, 4781, 13971, 20379, 28466, 18802, 7733, 48090, 10538, 49761, 31584, 18471, 37167, 23360, 44032, 19768, 6784, 624, 48123, 49096, 534, 35433, 48232, 49994, 16517, 25185, 8143, 13751, 33115, 36786, 19953, 47813, 24437, 21515, 580, 39287, 28618, 20142, 32448, 5549, 42318, 4750, 19942, 5348, 21565, 35159, 37427, 14694, 42299, 44588, 8540, 36402, 41336, 37133, 32749, 33544, 34342, 1870, 2283, 2543, 2121, 23927, 28479, 640, 35131, 9409, 28125, 40519, 16181, 7511, 12600, 4716, 22339, 12792, 33924, 37746, 29320, 13204, 17054, 45302, 4414, 28443, 28720, 43586, 9221, 18252, 48006, 41052, 41183, 30900, 38662, 49622, 30727, 16418, 25676, 38832, 22783, 18144, 34708, 31553, 33434, 39018, 19913, 17969, 9934, 21448, 21205, 18271, 29703, 30496, 47471, 32920, 16207, 39178, 40927, 20742, 13865, 4473, 28320, 35986, 46646, 31033, 8952, 29117, 6908, 8205, 48621, 435, 37360, 33909, 20581, 23579, 45441, 31708, 27989, 17959, 28362, 26169, 41387, 41086, 11796, 13995, 43400, 5193, 37144, 49908, 30719, 17645, 2339, 13892, 9645, 12345, 37453, 43542, 9124, 45013, 9196, 41352, 27218, 33955, 28725, 19807, 50143, 32114, 20317, 6450, 12780, 1372, 36490, 25084, 5647, 18139, 30752, 34254, 27603, 38058, 14326, 2288, 34769, 38460, 2753, 13431, 26583, 25963, 10994, 6537, 13798, 2755, 21291, 2723, 37728, 35929, 3274, 47307, 4851, 1114, 17119, 42465, 11956, 39790, 16779, 48358, 36250, 48296, 36417, 46405, 8975, 6327, 6791, 9848, 22013, 46138, 7686, 25472, 6743, 35423, 36466, 12713, 10416, 36347, 16320, 10840, 47803, 47230, 31101, 34004, 35505, 8984, 3988, 23701, 39034, 44871, 10788, 27230, 9287, 10480, 42839, 30003, 43003, 931, 3853, 47218, 34671, 8021, 35428, 15339, 24061, 50276, 30224, 39870, 1652, 32284, 27354, 10253, 31680, 34349, 37345, 2009, 33211, 35728, 21780, 20315, 29982, 20159, 36969, 1087, 11439, 47067, 44925, 34009, 12048, 29896, 38223, 8580, 40357, 13712, 25522, 20227, 48355, 18143, 36265, 4449, 24238, 16215, 16761, 49696, 36103, 23894, 22873, 46728, 22574, 962, 41298, 31800, 11687, 32790, 6985, 18391, 13320, 16946, 2907, 11299, 2924, 2623, 41297, 16860, 5655, 21655, 8887, 9180, 26725, 43393, 26682, 41599, 12537, 32967, 23465, 4887, 16988, 35132, 5482, 10012, 40154, 17187, 16785, 24383, 33540, 27825, 46174, 48866, 49649, 44033, 6687, 12419, 35393, 12959, 14430, 2256, 1226, 39495, 23926, 43598, 6365, 25702, 44803, 50097, 32925, 15533, 5015, 14718, 39339, 23480, 38961, 5464, 19107, 20976, 29894, 25387, 48108, 7937, 42451, 33845, 38655, 11251, 8130, 30040, 42374, 27902, 19555, 1693, 19697, 23415, 30353, 22076, 35666, 44808, 35611, 26435, 40408, 18646, 14630, 34937, 38601, 25650, 40227, 21598, 48351, 3024, 14224, 22912, 33353, 11715, 30108, 20997, 24470, 36145, 31199, 16393, 28201, 20556, 1844, 32942, 25697, 9944, 903, 44689, 31277, 41184, 25929, 44219, 37332, 20755, 18032, 16044, 16882, 25864, 32886, 5874, 35466, 45156, 46595, 31922, 26501, 1714, 7988, 44039, 40490, 38899, 43193, 34541, 28174, 35682, 11501, 1119, 1696, 34553, 36655, 14079, 8788, 43951, 36561, 34825, 41779, 41621, 7684, 6298, 38486, 15866, 15014, 15297, 3659, 26134, 28907, 7627, 265, 4394, 37649, 6475, 31693, 8622, 40752, 41304, 36801, 17437, 45306, 32646, 19103, 36213, 33546, 38512, 23797, 40165, 4075, 33430, 50035, 38536, 16222, 22954, 17749, 48328, 2003, 26133, 33609, 3729, 41508, 32127, 1722, 35575, 45079, 31092, 6448, 10195, 37036, 15572, 43153, 16142, 21152, 10198, 22639, 20377, 50039, 8470, 40948, 1369, 43404, 42617, 25495, 16415, 10126, 21401, 26405, 3712, 46039, 30621, 3813, 6746, 32331, 27599, 38650, 36082, 40290, 2057, 9732, 43111, 38810, 30627, 15992, 25049, 43227, 44628, 7982, 24486, 35400, 43877, 25229, 15903, 13475, 33590, 39546, 20413, 14980, 23275, 35479, 21847, 23370, 28740, 14252, 36743, 31236, 10844, 34805, 49289, 42028, 49196, 15509, 22694, 18699, 50, 13852, 33429, 48028, 30918, 32587, 15444, 26334, 16796, 33501, 423, 21725, 33638, 5746, 29152, 25856, 33314, 44827, 37380, 34310, 4340, 19524, 34260, 31988, 8323, 3705, 13361, 9580, 37957, 6354, 31097, 13809, 40881, 13061, 3665, 15564, 35099, 38341, 29165, 40586, 20519, 1417, 2262, 41655, 4442, 37101, 15047, 40007, 13651, 9189, 20681, 11643, 30335, 50012, 39076, 17764, 9242, 47947, 14035, 2664, 35981, 10835, 9936, 49031, 39893, 49642, 7290, 34517, 21778, 32089, 18976, 5284, 12699, 671, 17015, 32746, 3876, 7634, 43402, 33243, 12188, 16512, 20967, 39127, 39437, 33471, 33594, 9363, 983, 26886, 15554, 13089, 32200, 38105, 22430, 10129, 16048, 6810, 22483, 40382, 331, 33948, 8828, 34311, 44244, 3126, 50087, 20734, 38615, 40903, 5277, 28400, 49918, 1993, 16878, 15284, 45049, 34806, 27532, 26017, 2691, 22984, 45249, 25143, 29512, 26561, 25583, 39881, 2332, 48120, 9448, 28251, 9940, 40127, 37880, 38020, 23831, 38313, 9632, 2572, 5986, 45117, 29618, 6245, 4115, 211, 23626, 26800, 2496, 43677, 37707, 34728, 41730, 25134, 49, 15, 49987, 44905, 16626, 38120, 32721, 29846, 37934, 20532, 5150, 36416, 14017, 28557, 43433, 29252, 43662, 17496, 26528, 4805, 7866, 24680, 39702, 1886, 19678, 43040, 35371, 27281, 24300, 33518, 17815, 15664, 17898, 30532, 40729, 21465, 21034, 26891, 6244, 2678, 9708, 39574, 32234, 40537, 13548, 38807, 38776, 30706, 39558, 31895, 27999, 23259, 48145, 27788, 21646, 31424, 45143, 31050, 12615, 30824, 45412, 35323, 49363, 40555, 8232, 20978, 33286, 21218, 11474, 33800, 40308, 26766, 7851, 29945, 5447, 32947, 7829, 25763, 34604, 27435, 8741, 29338, 44497, 16307, 1078, 3149, 48651, 46818, 15774, 1916, 42303, 19382, 32776, 29200, 7805, 13677, 7868, 47668, 28392, 39840, 48502, 20520, 44324, 41850, 22543, 11200, 16308, 16772, 28007, 36372, 15196, 30583, 2086, 15236, 22279, 1825, 17473, 47584, 29640, 4207, 29690, 43080, 13717, 14963, 48260, 34744, 19527, 46939, 33432, 1586, 2026, 48072, 26414, 36367, 4886, 852, 9985, 33210, 48082, 40999, 49121, 12805, 8614, 9074, 7810, 34722, 5347, 26794, 14260, 12194, 1741, 5995, 8752, 44500, 7844, 16582, 25985, 11178, 49345, 360, 44527, 3405, 1943, 28249, 5116, 43806, 33928, 24600, 725, 10916, 15965, 36755, 46373, 13573, 2642, 4603, 29102, 40684, 49417, 1115, 40512, 5693, 28834, 12139, 44034, 44670, 33562, 40232, 71, 7273, 22833, 36583, 18108, 31281, 15317, 6900, 29961, 19333, 19986, 14286, 24393, 41169, 36488, 3459, 561, 4134, 19197, 36984, 1640, 38263, 16242, 44362, 36819, 13110, 38805, 16804, 30514, 11121, 47883, 1971, 44094, 45997, 14507, 10180, 14869, 4458, 42571, 41126, 7781, 6585, 44909, 8651, 4593, 2063, 9912, 12497, 4434, 12943, 38764, 17475, 34290, 27731, 34285, 24884, 6874, 1045, 44847, 26853, 2978, 46769, 398, 42778, 10323, 40145, 26597, 25416, 27786, 32205, 18204, 36184, 6328, 39814, 36892, 36328, 11419, 19937, 16021, 49338, 49328, 46115, 22210, 34865, 25897, 42186, 47766, 9032, 724, 48032, 40425, 6197, 31110, 5333, 47381, 31532, 6999, 1315, 19377, 12797, 37305, 3293, 33184, 49342, 23931, 31529, 44273, 49272, 32178, 43572, 2469, 6952, 33747, 5968, 26239, 15589, 28454, 21793, 14016, 22648, 49677, 12366, 46149, 32387, 22006, 3258, 29170, 38943, 19836, 5600, 2106, 21277, 32608, 25137, 38278, 19129, 22866, 21735, 28110, 38825, 13899, 48516, 35942, 18526, 28361, 5780, 5379, 41529, 10403, 28545, 19421, 11410, 46719, 44641, 29361, 8156, 38988, 41105, 29767, 32030, 36446, 42167, 36388, 21889, 34513, 20036, 10989, 38078, 10997, 2130, 8571, 37952, 12552, 20020, 42711, 25579, 10711, 32372, 41142, 48833, 27704, 20574, 38552, 43297, 17970, 35630, 34475, 25666, 39568, 5575, 49775, 24824, 43522, 5792, 23369, 43995, 780, 15475, 7171, 34982, 36295, 2788, 11521, 46994, 3402, 39691, 45572, 45913, 8601, 37617, 17256, 26196, 22891, 20021, 17879, 2491, 12439, 37226, 26708, 13600, 19052, 24117, 9907, 21506, 46629, 44072, 6597, 17677, 41873, 41723, 4217, 21071, 9453, 38311, 34045, 17434, 46407, 49935, 20752, 16187, 27414, 29103, 32943, 30598, 20149, 49651, 8906, 18126, 34606, 7675, 33197, 24525, 50207, 2542, 44220, 47929, 13903, 26105, 17055, 12145, 25964, 48282, 20773, 13257, 49410, 40404, 42968, 45355, 29070, 47475, 10414, 38348, 27992, 6925, 3048, 20987, 5473, 26681, 30343, 24784, 21180, 48995, 7419, 10748, 30399, 35293, 33517, 45170, 15337, 5771, 37683, 1932, 40849, 24438, 9916, 38790, 31335, 14708, 14409, 5086, 44806, 39522, 9608, 29230, 6427, 32493, 33217, 12571, 5070, 17278, 35434, 25162, 39902, 8862, 36875, 37868, 48035, 1037, 9078, 4747, 41718, 13507, 9465, 8668, 25933, 821, 17115, 7803, 37149, 3150, 31715, 11922, 48374, 6794, 5814, 26932, 40990, 12061, 26730, 11664, 46524, 15472, 43704, 35793, 45262, 44412, 40059, 5276, 7284, 11265, 46671, 33361, 13080, 49048, 39215, 23018, 18236, 18814, 13222, 6172, 30295, 2164, 37430, 18205, 7345, 35165, 24094, 35258, 40085, 40001, 2779, 4554, 7410, 31498, 5113, 43436, 43264, 10535, 31526, 46715, 33163, 5896, 13026, 15272, 16197, 28152, 6690, 24930, 21519, 25529, 47317, 43059, 24493, 28109, 33368, 16310, 9957, 17287, 15491, 49474, 34613, 9085, 49483, 14831, 5492, 26047, 19273, 14862, 8411, 9088, 40473, 46398, 357, 16321, 14756, 29138, 46647, 16298, 18106, 12682, 35775, 43440, 47624, 8790, 22215, 47016, 38087, 5431, 15661, 37712, 33207, 41288, 24320, 32099, 43886, 48817, 36958, 44901, 45805, 39991, 21200, 6044, 30518, 26663, 17841, 498, 31370, 11815, 26797, 27578, 47018, 28059, 14693, 21503, 6289, 15738, 39013, 4276, 45308, 17300, 10715, 21311, 21942, 19957, 39907, 27938, 44419, 23123, 48753, 9041, 50161, 24363, 3928, 3208, 31087, 13538, 33323, 49671, 42062, 32801, 1528, 36226, 6579, 27910, 23910, 17783, 11171, 41518, 12761, 10361, 12843, 10778, 46400, 8973, 19460, 45908, 30544, 30764, 14800, 25994, 25183, 94, 23630, 19000, 26054, 40161, 26939, 18783, 11660, 41113, 28270, 13208, 5484, 30364, 32321, 21241, 10526, 28906, 19405, 7350, 13839, 28284, 27153, 41902, 6768, 13586, 41995, 22461, 11932, 23514, 45232, 33970, 3642, 37798, 24888, 7588, 10547, 18522, 13524, 15077, 38515, 37481, 3531, 24756, 6278, 35849, 15088, 43344, 3014, 24977, 1474, 48901, 17301, 23100, 41195, 42035, 5562, 9725, 6893, 24845, 29202, 35068, 45729, 5188, 31545, 28669, 33929, 8231, 11663, 37926, 7947, 17916, 16947, 1286, 24120, 45779, 37795, 21495, 17562, 39867, 30303, 45209, 2640, 40868, 42429, 27374, 42886, 48142, 20812, 17148, 3634, 44113, 46289, 25543, 39123, 39096, 36318, 4589, 15294, 506, 7612, 36741, 2144, 26931, 34650, 2104, 23850, 28388, 29473, 31899, 13931, 10136, 5854, 28598, 31348, 26965, 4506, 46389, 21677, 23337, 14276, 11125, 28737, 15674, 8639, 43698, 2184, 45541, 21557, 32691, 10320, 18723, 30400, 39174, 18199, 675, 36651, 33867, 4566, 14359, 45742, 38282, 37987, 45603, 13349, 31387, 29864, 1440, 33468, 44432, 49829, 43461, 4617, 5411, 17979, 27891, 31076, 23312, 20508, 25268, 18305, 49097, 353, 32669, 20104, 38762, 42093, 35386, 34954, 11803, 37915, 47924, 4534, 19124, 2471, 8521, 47976, 10364, 25010, 8302, 32550, 26490, 20727, 8712, 13382, 50045, 8041, 4429, 15985, 16742, 7708, 14149, 28166, 15746, 32538, 21972, 43451, 43430, 37764, 45789, 36521, 5061, 30027, 16443, 34959, 32367, 18695, 44016, 42526, 5633, 47342, 34266, 35549, 40249, 18776, 34764, 25965, 5263, 23233, 34122, 29261, 47940, 10353, 7978, 30306, 44996, 2721, 50024, 41274, 31206, 20676, 42069, 7765, 48734, 26927, 13488, 25783, 19773, 17646, 27852, 40649, 42543, 28904, 14096, 10349, 27904, 38365, 42066, 34826, 47873, 11115, 48178, 10148, 11169, 29378, 28959, 33793, 15917, 32570, 31038, 28529, 48859, 37215, 33355, 42441, 32557, 10996, 3042, 22151, 40296, 42725, 47553, 4339, 16897, 21314, 23019, 27537, 3986, 39513, 30522, 6898, 19988, 35926, 10175, 30575, 2718, 25546, 31051, 13685, 44757, 49561, 21922, 45092, 42849, 18286, 19141, 18053, 36903, 37758, 33132, 46106, 21500, 27226, 33008, 3012, 44620, 48546, 36870, 2665, 30709, 43932, 7231, 7254, 49632, 27658, 23170, 29979, 11926, 7843, 25945, 24982, 35813, 3542, 16344, 19206, 7463, 47286, 23173, 42714, 44546, 39420, 774, 43516, 36121, 17432, 32713, 36363, 39274, 36698, 44233, 2047, 39975, 41911, 502, 1264, 30739, 12601, 27754, 21933, 46992, 47052, 28150, 15622, 48498, 29812, 7888, 35862, 24837, 21528, 35566, 37633, 14337, 15239, 15825, 21290, 47784, 14554, 44237, 9756, 20240, 36056, 20724, 26795, 28663, 14311, 35850, 10143, 483, 22629, 4451, 24725, 28512, 29180, 22554, 40226, 26063, 18583, 37727, 49583, 47904, 49753, 39520, 3023, 40811, 27185, 7608, 3340, 40173, 34578, 28013, 39567, 14205, 30118, 47980, 18353, 38382, 47445, 2634, 14426, 42815, 27757, 11414, 48050, 36795, 25444, 45350, 35501, 31909, 25813, 6629, 25065, 10758, 30687, 13502, 64, 40845, 44480, 13064, 28961, 31188, 30965, 6929, 32335, 31139, 27406, 20838, 18936, 4042, 38719, 45979, 35064, 38211, 34995, 7532, 47222, 10250, 46664, 4484, 18354, 7657, 45868, 31183, 31309, 36925, 24249, 26580, 48760, 31994, 33462, 46071, 45576, 24216, 20795, 13505, 3216, 27766, 9993, 16303, 11273, 49003, 41992, 46970, 20153, 30875, 3028, 49929, 4586, 33276, 29639, 1814, 26333, 21759, 18023, 100, 12857, 29394, 38179, 23609, 30203, 29365, 16293, 28745, 41098, 44775, 33017, 30947, 17917, 14354, 16650, 20127, 17042, 17140, 36493, 47460, 39222, 41164, 35316, 48738, 8858, 32287, 3825, 28096, 14759, 46195, 14470, 45987, 25379, 16439, 24611, 18760, 13845, 37628, 30898, 18590, 2041, 13518, 37540, 16426, 27195, 33091, 33897, 37768, 10156, 47254, 36150, 1978, 49336, 2466, 28698, 5110, 20515, 27140, 2597, 36474, 27459, 45264, 42201, 14696, 21728, 29256, 9412, 13338, 5329, 30377, 49869, 6098, 17032, 47122, 5573, 14845, 47688, 8218, 13405, 36832, 49698, 38821, 4685, 3546, 12027, 30909, 2381, 28982, 4146, 28579, 21028, 24108, 24053, 8129, 30703, 37011, 8023, 45131, 45189, 47207, 25681, 15849, 575, 16919, 37945, 33775, 2394, 7895, 34789, 44980, 8954, 30685, 30742, 5977, 41601, 3107, 16670, 20955, 11885, 516, 28784, 13478, 30841, 40807, 5742, 6296, 43427, 24329, 30961, 38809, 8464, 6225, 29335, 47879, 4160, 9388, 35060, 34240, 3801, 26765, 45325, 29695, 30478, 23151, 42284, 13065, 33419, 25105, 29434, 30363, 22557, 15493, 26094, 25825, 50263, 36282, 14453, 621, 29887, 20749, 16348, 8325, 18513, 50071, 12189, 21665, 17383, 32662, 19429, 24003, 6695, 27841, 14775, 26779, 39989, 31391, 13736, 46125, 24353, 40118, 12766, 21905, 39169, 10468, 38696, 20249, 50076, 43638, 49555, 31172, 16092, 5828, 25970, 50085, 2959, 6615, 16372, 18667, 28994, 26726, 15604, 22081, 8850, 49968, 26019, 27493, 22545, 9986, 3299, 29768, 11656, 24729, 2270, 10865, 4557, 26778, 14034, 3941, 12171, 38171, 2124, 41296, 17549, 13098, 1852, 29462, 40569, 5904, 20184, 37997, 28089, 18211, 45315, 7339, 13927, 42195, 19499, 1258, 3479, 4355, 43988, 35101, 16523, 35937, 18982, 34032, 7483, 25919, 47063, 33748, 30808, 19139, 28147, 44566, 40229, 37954, 30880, 12784, 7173, 47051, 49076, 33352, 25417, 5393, 41825, 28772, 9565, 30811, 11049, 22966, 47849, 24777, 35045, 26359, 36641, 21624, 34279, 5824, 13138, 3789, 24963, 25903, 3778, 24657, 47264, 40860, 45196, 41167, 43150, 22302, 44516, 33005, 8241, 20029, 47865, 1003, 22748, 19618, 13063, 23751, 27746, 26472, 10301, 45158, 12489, 2633, 11210, 40878, 24625, 46609, 17733, 38022, 38843, 6679, 29939, 32703, 1618, 16978, 48505, 13348, 22343, 10486, 18853, 33116, 4090, 39313, 35331, 47859, 24298, 26573, 46774, 40105, 35115, 47957, 21012, 45483, 10896, 14886, 23220, 41402, 17413, 25555, 25632, 34813, 50267, 24754, 19073, 23771, 47905, 6442, 14850, 31963, 49284, 3429, 47031, 35948, 2050, 24485, 32371, 36432, 18645, 34595, 583, 5890, 39638, 45842, 36991, 39497, 38127, 47532, 3322, 4049, 7715, 25846, 17083, 39362, 19770, 9358, 9797, 18221, 6838, 16756, 3536, 9752, 17858, 38811, 3845, 25386, 26410, 25911, 14909, 6122, 10855, 10790, 13177, 6560, 49025, 29291, 5115, 20010, 15048, 25797, 25780, 5535, 9454, 266, 8349, 43744, 26539, 4320, 29711, 47699, 28967, 18799, 18436, 39455, 14069, 4372, 36010, 19653, 38906, 18655, 16585, 46410, 23583, 8030, 14921, 19024, 5552, 49577, 287, 5062, 2619, 35886, 44495, 5020, 6168, 22536, 19041, 5749, 17784, 46754, 23241, 6158, 29581, 35624, 2099, 3858, 8235, 31274, 23096, 13658, 35153, 39042, 18073, 7353, 33099, 48935, 36609, 607, 42804, 22432, 44812, 49712, 23800, 6623, 378, 36777, 26815, 3498, 43161, 29663, 28381, 35436, 39971, 1222, 6094, 10052, 23283, 15355, 33224, 31126, 12122, 16639, 46414, 17180, 26464, 45661, 4229, 37426, 47261, 34161, 39315, 33779, 5820, 13415, 2964, 14838, 8912, 49032, 40536, 11167, 1407, 39994, 40206, 4978, 4133, 32544, 20339, 36110, 2387, 21408, 38610, 35435, 10109, 22297, 37524, 42321, 16645, 26491, 24232, 24871, 19503, 50175, 4687, 8181, 23464, 15342, 44159, 17892, 14125, 44107, 33854, 42433, 18697, 43136, 31329, 14014, 37797, 19008, 11697, 35526, 31259, 35205, 5982, 43717, 49381, 31393, 16053, 19319, 20665, 40208, 42456, 28257, 22661, 20357, 4959, 31689, 41443, 7932, 46738, 34443, 43963, 30494, 46775, 37049, 36060, 33958, 19493, 33753, 14965, 3773, 28533, 9564, 6041, 5587, 24189, 17700, 37851, 17487, 7000, 7069, 9740, 9171, 48361, 35951, 37007, 32848, 47321, 21714, 35370, 39349, 34567, 44264, 22265, 35453, 39642, 12085, 35887, 44928, 6732, 22019, 21960, 48492, 224, 18832, 10834, 46038, 7210, 39406, 6593, 5641, 27445, 12612, 49658, 23934, 45675, 46386, 7088, 46971, 28648, 15404, 25767, 44777, 5148, 21582, 34776, 24236, 28936, 44296, 31312, 20832, 28846, 277, 8940, 1845, 12259, 14981, 31773, 1773, 29655, 11221, 14619, 22906, 1377, 6176, 45134, 16574, 17223, 21534, 861, 7632, 4344, 25562, 21583, 41791, 32543, 7885, 4871, 32993, 6897, 9425, 18369, 27320, 29720, 34199, 45770, 532, 13418, 32151, 35889, 15075, 29848, 45514, 34372, 34070, 14275, 49063, 13604, 2777, 5385, 8202, 9890, 29383, 27945, 9694, 32898, 18680, 39230, 666, 50072, 2412, 47009, 45795, 26776, 45384, 44475, 1566, 17656, 29797, 37448, 26373, 2205, 8434, 46222, 8312, 18593, 3051, 34720, 29684, 44305, 49864, 38334, 24605, 40262, 14302, 20856, 24306, 45647, 16755, 30885, 10453, 14868, 40198, 46839, 35554, 30381, 47562, 17604, 36715, 45980, 25425, 20897, 11122, 2556, 26750, 12424, 21351, 7614, 19552, 39017, 34742, 26677, 23304, 13728, 20092, 29275, 32569, 39120, 36852, 14799, 1345, 24402, 30184, 25839, 46722, 24523, 32979, 10443, 18233, 17348, 32215, 26057, 22529, 17258, 46226, 4776, 13352, 12533, 3817, 40980, 42592, 24720, 15191, 20750, 27423, 13857, 39766, 29181, 3649, 47603, 36502, 43978, 17929, 31761, 49525, 28076, 38883, 40542, 10246, 29439, 18946, 36648, 28090, 4003, 24037, 1939, 43611, 33178, 21392, 37876, 45859, 6428, 23293, 16616, 29115, 363, 24766, 1498, 2635, 11890, 46433, 9948, 32118, 38233, 33448, 8737, 8602, 2004, 33002, 23606, 28496, 46957, 25347, 11156, 41898, 37125, 9939, 16995, 16769, 11953, 17272, 38524, 2172, 49330, 48258, 48941, 25384, 46743, 48109, 11682, 42940, 6937, 12230, 5685, 29998, 30669, 31557, 4552, 38489, 11208, 35350, 18455, 47116, 44507, 48233, 8939, 95, 20867, 3999, 31567, 25975, 10651, 37591, 3599, 12893, 49134, 28800, 17316, 45466, 35626, 1034, 41546, 17247, 22789, 4600, 605, 41081, 40238, 1183, 11118, 27889, 20130, 6157, 11530, 19127, 43475, 44750, 28266, 23473, 19307, 36541, 34326, 14277, 49350, 7408, 6877, 18026, 15876, 23262, 15710, 37923, 19570, 20492, 28246, 33580, 33777, 23803, 33219, 49465, 13476, 43410, 18820, 19012, 8362, 135, 49882, 50114, 14238, 20680, 22885, 16674, 45546, 50080, 18678, 31942, 23705, 422, 5830, 34911, 44705, 24819, 43502, 40704, 42067, 30146, 43584, 13480, 36307, 27940, 49009, 12248, 9212, 32116, 21706, 20538, 25956, 43619, 12622, 5417, 7613, 33769, 1097, 11554, 23228, 17613, 10645, 27356, 40809, 22093, 15875, 38134, 21197, 17875, 35066, 17732, 20660, 34315, 20164, 34027, 4700, 32641, 8432, 44181, 8388, 44454, 44285, 11965, 34916, 17375, 21343, 3655, 26461, 2361, 12052, 6683, 4136, 41945, 8699, 1539, 37000, 30236, 26751, 30114, 3787, 8370, 28210, 36075, 1904, 18119, 29305, 37223, 35583, 38876, 35868, 31264, 29710, 1999, 35458, 27598, 50129, 22893, 12786, 29308, 17950, 2752, 29669, 5259, 32970, 9069, 79, 9183, 10290, 17351, 31882, 39091, 32025, 5041, 48069, 15195, 14994, 40442, 8252, 12712, 24940, 32992, 802, 46033, 16008, 39007, 23289, 1285, 30099, 37196, 28592, 26469, 15225, 21041, 7048, 38011, 31377, 29239, 11278, 32918, 42050, 1598, 48488, 24511, 10920, 43496, 23295, 20619, 44381, 43278, 5071, 26050, 45283, 1092, 48434, 41783, 7267, 19115, 46608, 17012, 12253, 36160, 14656, 38343, 36887, 14256, 4231, 13281, 36550, 37440, 32235, 21898, 19093, 30993, 2632, 44141, 19178, 14692, 32743, 44052, 1376, 22314, 20980, 9239, 18856, 31196, 15861, 22015, 43874, 32145, 37191, 33231, 10176, 27583, 39699, 47837, 27284, 43746, 22041, 33516, 1657, 43528, 28671, 45749, 27953, 47726, 45008, 42373, 6680, 2741, 31952, 36433, 18107, 18923, 36796, 18735, 18748, 25192, 21649, 4836, 23849, 26519, 2987, 22401, 16806, 9188, 39729, 7893, 27011, 28742, 43334, 20797, 3888, 31230, 44176, 11630, 23036, 34545, 18258, 42963, 40349, 47565, 22205, 37254, 1435, 44887, 19023, 22074, 50059, 13539, 32095, 35660, 18518, 49075, 5909, 9923, 2764, 634, 12265, 23406, 10939, 29409, 47089, 4469, 27751, 44541, 48764, 19286, 40062, 36471, 48723, 47377, 37485, 18452, 38652, 40909, 9579, 6415, 38415, 28853, 39711, 29941, 9447, 40337, 12702, 42459, 34583, 47457, 3240, 20711, 9323, 6396, 50216, 8740, 16343, 4089, 16641, 15130, 8760, 4037, 39768, 6361, 31991, 18269, 30190, 47439, 1974, 22640, 37884, 12328, 23876, 44093, 33296, 49891, 4737, 28866, 25182, 4837, 37998, 26552, 12928, 35201, 14233, 7642, 42247, 3199, 3708, 40287, 13774, 8119, 41313, 13894, 18826, 12057, 3183, 31088, 26358, 6756, 34073, 3978, 1867, 44385, 636, 28359, 29725, 9721, 18464, 43217, 28026, 16964, 48277, 40283, 13092, 18298, 17531, 43632, 2886, 44408, 28068, 36913, 48711, 48062, 48677, 1783, 38153, 19633, 37904, 42566, 12214, 2078, 24752, 41407, 36230, 3313, 17796, 6553, 30471, 12180, 31004, 11240, 35346, 39457, 5085, 17836, 10259, 50243, 45086, 32344, 6997, 45529, 28354, 15466, 33065, 32924, 32889, 2116, 6010, 32657, 7062, 1118, 5759, 47249, 13769, 18896, 47361, 27931, 41910, 38778, 32937, 41561, 15114, 3822, 17511, 11779, 3883, 15489, 43737, 770, 19450, 5898, 30691, 6429, 13992, 15278, 12841, 38394, 9496, 29929, 32837, 44522, 22584, 37572, 41610, 26193, 47407, 4656, 2296, 39451, 44054, 3408, 35460, 22055, 5057, 30962, 17579, 11227, 38720, 45791, 29977, 20915, 39234, 47247, 27266, 30840, 33242, 36168, 3244, 1320, 4980, 24230, 22857, 48626, 6789, 17255, 30274, 3471, 45656, 26314, 17204, 44531, 24825, 50198, 13905, 34495, 19349, 46254, 35100, 20646, 8802, 18890, 26823, 48598, 23409, 37135, 29080, 8791, 23314, 1163, 50231, 34787, 35211, 6666, 34060, 41016, 22153, 36220, 34883, 3613, 20754, 43083, 37402, 39843, 44991, 25616, 46345, 4777, 49215, 29762, 11408, 15306, 7335, 13653, 18822, 35148, 17650, 29650, 12579, 8736, 24651, 41320, 37410, 29843, 29700, 9973, 16968, 27247, 6766, 15026, 4734, 663, 1607, 40940, 38815, 8844, 441, 28508, 25591, 33478, 48201, 48395, 29300, 39659, 11508, 18306, 41335, 46843, 20766, 40166, 1428, 49785, 3521, 18103, 25480, 9367, 34348, 5257, 19145, 3460, 23634, 42125, 39002, 33914, 39961, 28049, 31266, 21436, 33131, 26500, 3009, 22465, 41761, 41756, 22739, 34987, 5189, 14037, 50093, 45793, 10549, 49306, 28826, 29772, 42443, 47839, 9185, 24899, 34745, 35200, 23121, 37858, 22411, 28783, 10925, 32675, 43302, 16328, 40182, 27914, 39753, 5420, 42499, 22819, 19995, 3837, 372, 27665, 29619, 17553, 11791, 39048, 24365, 303, 50079, 33630, 31332, 17349, 18240, 1770, 18838, 22475, 22079, 29841, 37015, 11990, 30309, 17551, 7517, 28233, 30252, 23636, 33110, 17593, 48435, 12354, 1366, 42623, 45226, 1330, 37890, 17153, 9176, 11432, 34247, 13184, 39982, 18014, 36179, 47518, 35007, 1257, 22535, 21912, 26889, 41413, 6658, 37812, 49780, 43356, 22615, 42985, 31783, 439, 17971, 36806, 3297, 35112, 3520, 41981, 12894, 42231, 23237, 44799, 34618, 23663, 48736, 28366, 28406, 49850, 16353, 6910, 37467, 9750, 20873, 48324, 9223, 4386, 11035, 35551, 762, 46519, 18307, 11695, 45705, 36068, 5278, 7341, 27508, 17603, 20910, 2965, 7963, 27246, 31466, 41985, 2225, 30533, 7631, 41682, 41792, 3226, 1450, 26336, 40412, 10157, 39249, 42579, 20648, 10083, 27494, 11669, 31047, 40521, 33183, 12162, 1157, 17612, 34346, 3860, 29845, 42057, 14631, 13219, 44256, 17319, 23462, 176, 33853, 4150, 249, 3703, 42325, 25902, 44299, 42259, 19783, 43039, 20859, 35299, 26675, 30515, 26824, 39548, 21210, 36937, 41260, 31798, 15056, 29173, 12945, 21551, 49053, 33935, 30098, 7693, 16198, 39936, 19394, 30446, 5924, 37168, 39586, 16573, 23236, 3259, 9852, 20518, 13404, 32180, 13084, 35857, 24970, 22014, 44333, 11435, 28229, 30704, 30715, 44835, 46103, 21974, 37507, 13605, 10511, 19758, 48197, 39135, 5897, 20787, 28750, 36422, 24608, 19940, 17925, 3907, 30336, 21369, 30325, 34089, 12652, 34664, 46329, 41234, 410, 31227, 23509, 28494, 25479, 43, 3437, 22919, 12186, 25776, 4855, 15281, 48733, 15888, 43126, 16898, 1030, 49809, 18596, 27473, 28586, 40594, 42781, 47715, 38015, 38977, 20394, 7461, 15340, 34880, 9665, 19424, 27461, 4944, 16611, 32360, 37662, 7338, 7905, 15204, 1874, 2460, 31362, 48943, 4996, 21397, 43342, 18969, 43450, 29159, 15853, 26071, 8088, 15867, 26530, 43495, 27565, 17808, 35222, 27422, 44242, 24388, 19352, 2370, 29560, 26882, 9146, 7487, 37463, 24737, 36800, 28696, 21602, 22510, 21272, 3683, 11144, 9880, 50151, 28509, 20835, 46537, 22218, 22681, 11644, 23683, 20051, 23219, 38168, 8839, 20144, 5043, 34412, 34998, 13440, 11016, 43051, 3532, 37732, 17193, 42970, 42229, 1623, 29863, 1866, 29948, 27706, 805, 39484, 4143, 44677, 43242, 21713, 16461, 9498, 11493, 11260, 28178, 42535, 13401, 2586, 46279, 1763, 14721, 44993, 36591, 19987, 27248, 16776, 11880, 4380, 15519, 26267, 38232, 20573, 3008, 16717, 25914, 13148, 38321, 37264, 9172, 34915, 32528, 22127, 49693, 4356, 25040, 46680, 11069, 12036, 314, 3951, 49158, 1711, 33273, 19065, 31470, 9776, 40568, 47840, 13911, 28627, 24887, 15943, 32216, 11918, 14464, 1777, 39515, 13036, 34452, 49123, 31669, 39792, 43412, 28019, 33985, 10909, 15725, 4844, 10307, 47492, 26969, 35321, 7845, 45670, 4385, 40346, 30934, 19870, 22341, 19708, 43164, 12867, 28456, 13745, 27202, 19169, 15563, 42364, 46526, 7650, 12359, 34222, 12181, 39767, 17158, 9808, 34692, 15099, 46709, 24971, 5145, 18702, 22173, 45098, 45383, 16210, 36953, 44196, 10415, 47103, 34481, 10842, 15808, 24099, 1095, 21698, 5141, 18959, 35117, 12753, 31824, 46880, 21363, 17512, 4893, 2511, 2422, 28163, 19924, 40088, 7154, 33503, 18432, 14964, 14859, 34941, 30998, 30946, 4198, 47182, 41580, 11683, 23119, 16077, 16867, 30047, 32211, 4874, 38372, 21475, 29106, 42629, 15465, 27117, 23709, 33188, 28367, 47868, 4256, 20669, 12495, 12187, 49153, 47641, 24378, 32628, 30935, 44748, 840, 42622, 4672, 12775, 38594, 35673, 33135, 29471, 33390, 45477, 15576, 44236, 27712, 32915, 28870, 15433, 33829, 41342, 39949, 15611, 41371, 27228, 41598, 34739, 45034, 28265, 8832, 970, 41679, 9888, 36664, 5186, 741, 10297, 32436, 35404, 42841, 46466, 14937, 37091, 47967, 33959, 14825, 42605, 12131, 36789, 45824, 30716, 7563, 27259, 10959, 37756, 36798, 6075, 37318, 2253, 49385, 39066, 10574, 10753, 44226, 22453, 30603, 32237, 19875, 49040, 13231, 24442, 41905, 21856, 8587, 36354, 34610, 15069, 27811, 2660, 13164, 1532, 13856, 36166, 21190, 18392, 8068, 34292, 38035, 35786, 8350, 49325, 30933, 6407, 6032, 43002, 19082, 47081, 31019, 553, 48107, 2620, 47314, 7739, 892, 49396, 44011, 32305, 42688, 22773, 30810, 10727, 13552, 11836, 9325, 34362, 1915, 17685, 30357, 6323, 36756, 25716, 37492, 450, 13409, 31962, 13109, 10128, 41444, 3055, 20446, 40106, 18022, 31565, 33467, 9494, 44431, 42430, 27525, 24346, 26347, 35743, 47867, 27136, 14033, 33103, 19819, 5644, 42752, 47861, 28865, 26689, 43148, 29157, 16840, 14699, 10209, 30871, 4760, 1899, 10998, 21253, 21453, 23064, 18431, 7669, 48216, 49724, 17993, 34298, 39353, 39003, 21308, 50099, 24859, 32133, 49299, 21568, 33208, 14922, 6013, 37793, 43960, 5883, 26770, 23561, 21130, 22208, 39785, 22632, 30017, 1671, 18940, 42761, 4204, 5432, 24637, 49489, 4378, 35864, 27896, 99, 13117, 26235, 36623, 46334, 36130, 42117, 45299, 6061, 46901, 4177, 12887, 27556, 41924, 3541, 570, 7616, 38478, 29060, 8517, 20197, 38501, 17958, 34683, 6123, 42743, 14903, 12054, 41540, 4735, 13307, 44314, 35818, 3463, 17394, 44800, 14070, 30008, 31993, 13358, 47346, 26313, 10932, 27762, 7176, 15780, 24889, 1802, 33536, 44145, 36771, 14492, 17074, 1541, 38511, 4699, 1194, 37637, 45509, 34555, 20004, 6762, 27175, 41378, 6437, 3421, 38091, 31971, 5776, 37838, 43530, 4304, 42148, 13526, 28055, 38031, 43296, 14293, 24049, 34433, 39819, 29392, 8589, 6353, 16089, 11802, 18082, 31906, 30348, 27803, 558, 26295, 12846, 18973, 31954, 21184, 48323, 28301, 3238, 19283, 24994, 11403, 5316, 36465, 42000, 15418, 31285, 1323, 17804, 8377, 20986, 38915, 41653, 24133, 8386, 3032, 18334, 11496, 26289, 7514, 44989, 41134, 47111, 35038, 17885, 33900, 11972, 43944, 2661, 49596, 50086, 20604, 26279, 37112, 22924, 21834, 22743, 19677, 8716, 35980, 10229, 28809, 4493, 23318, 19782, 15282, 31879, 16369, 42694, 17230, 20667, 7021, 49130, 29432, 3570, 30837, 4419, 32416, 15456, 1885, 7731, 27818, 18000, 28346, 15535, 41539, 43011, 42698, 29967, 9255, 9161, 38402, 41245, 7886, 39269, 33161, 31920, 746, 16954, 30865, 34763, 28122, 13369, 29350, 8075, 11228, 1065, 37044, 15967, 17701, 13091, 5721, 33701, 22610, 45827, 6992, 21742, 9290, 42046, 20531, 36629, 4345, 10772, 5275, 27602, 9318, 22890, 31822, 45044, 1909, 34395, 13624, 16471, 8026, 1142, 17824, 5649, 35727, 46603, 26485, 21935, 23728, 42427, 26513, 34790, 38355, 27041, 22922, 30195, 32354, 16991, 26218, 3181, 17228, 44741, 28729, 46682, 45598, 32748, 24456, 4044, 28425, 44108, 3030, 12954, 24151, 9228, 9213, 4521, 41865, 10562, 28212, 38534, 45942, 1233, 36600, 38535, 11175, 29403, 49202, 19602, 2970, 48977, 27795, 2236, 23169, 25765, 49875, 40401, 15841, 21188, 5698, 3192, 3868, 40591, 48520, 16386, 9117, 355, 4833, 44013, 3034, 47895, 40478, 17442, 16010, 10951, 19289, 23131, 37118, 27498, 18266, 43976, 35094, 10506, 32810, 6319, 2608, 6100, 16551, 28991, 28612, 19944, 2805, 23675, 33152, 21280, 22702, 36188, 20480, 22423, 30804, 26829, 36026, 7181, 180, 2386, 15379, 20512, 44589, 8691, 21042, 20428, 25999, 3989, 28438, 40876, 45363, 34844, 24590, 22768, 2891, 11529, 27171, 44499, 29460, 29464, 11123, 3910, 38007, 8286, 19420, 48772, 38575, 29223, 46862, 20772, 36829, 21979, 17285, 46325, 42967, 48472, 42316, 7151, 1251, 5513, 11767, 24783, 1767, 4741, 24488, 6953, 49518, 29009, 31483, 49866, 16651, 14966, 44467, 39333, 14911, 43503, 4677, 7524, 20941, 42937, 23748, 49131, 1439, 4872, 48303, 3766, 13537, 35641, 15473, 47586, 46886, 24576, 13648, 30160, 34469, 17292, 19619, 6817, 34459, 12981, 28581, 29888, 10016, 44288, 16427, 33289, 14085, 37293, 49496, 1454, 12690, 42741, 34898, 47923, 11679, 19548, 7098, 40639, 12624, 28883, 31635, 27353, 23857, 27405, 17740, 29391, 777, 48948, 45592, 45055, 45801, 2973, 537, 45065, 28917, 3717, 12100, 36322, 46885, 25713, 6980, 34434, 38950, 33682, 16232, 18096, 7721, 27702, 35218, 16302, 2321, 35461, 32623, 13941, 37529, 11335, 3246, 23213, 565, 10144, 23047, 18834, 49486, 18531, 20674, 40598, 25219, 48176, 40212, 4432, 13024, 909, 47902, 39355, 30561, 9094, 25729, 17065, 39863, 44222, 337, 36672, 30542, 17338, 19809, 25042, 17262, 17823, 9365, 20644, 8603, 17175, 29613, 27659, 30448, 17151, 16395, 8818, 978, 13142, 44459, 36822, 37874, 12827, 33158, 48423, 26594, 48639, 22347, 5760, 47493, 17130, 41070, 38255, 38089, 19893, 1665, 5142, 46659, 32435, 38254, 15255, 35760, 49218, 36927, 21873, 36775, 45539, 35315, 6337, 41140, 41495, 5522, 22433, 34019, 23257, 5128, 48729, 7908, 49187, 21138, 10330, 19710, 39677, 15898, 48257, 13301, 45591, 49614, 36706, 23066, 48397, 15119, 45941, 44418, 11255, 35446, 42795, 30201, 23673, 41729, 28276, 17539, 8530, 35606, 40469, 16122, 44473, 5650, 545, 12341, 45608, 49190, 22831, 24612, 46258, 43686, 31063, 34896, 42867, 9442, 8161, 45958, 22879, 5158, 40770, 4646, 13587, 26113, 3652, 32819, 2774, 19662, 35319, 36774, 15591, 38504, 19117, 33326, 34406, 15268, 41684, 30519, 4181, 43017, 8895, 37762, 33428, 8523, 15097, 1536, 17136, 9685, 46440, 22264, 23428, 46824, 18558, 25737, 20844, 26706, 31551, 8847, 44160, 50284, 105, 15024, 46779, 32973, 24939, 3612, 9576, 4823, 39764, 2180, 30775, 46296, 19553, 8296, 46438, 12251, 31475, 41339, 29349, 39875, 21428, 37300, 8008, 50111, 15346, 25435, 29534, 29374, 29510, 46064, 2237, 29148, 12378, 35649, 21976, 30652, 44453, 22687, 7083, 46165, 37219, 1926, 40798, 23905, 22690, 49803, 2486, 46987, 18739, 32112, 12486, 7179, 23183, 1676, 10839, 20489, 914, 8405, 38963, 14388, 40960, 12518, 46988, 12973, 2168, 32217, 49180, 3816, 12454, 31757, 24242, 40961, 48407, 46840, 42011, 27122, 18373, 23590, 14261, 21881, 32496, 47177, 1509, 3980, 10742, 11254, 13493, 45123, 43828, 16264, 24086, 45129, 38871, 5140, 29506, 41488, 17745, 46305, 18901, 37311, 11384, 35465, 49141, 21211, 30860, 37477, 29531, 21442, 34936, 5388, 20180, 31300, 36835, 48937, 41764, 15831, 43772, 976, 32300, 44907, 18684, 12874, 37981, 2011, 36067, 19787, 47473, 10609, 18499, 36726, 38572, 8545, 1010, 34868, 4077, 25680, 43149, 19699, 6895, 5921, 20088, 8969, 12123, 27724, 1341, 16158, 2936, 32165, 31323, 3347, 28148, 1445, 38215, 42359, 3398, 25995, 16127, 37095, 27924, 31972, 31430, 5956, 35003, 43052, 43306, 6862, 3086, 39039, 28595, 49670, 31736, 10021, 26831, 30457, 35692, 33681, 30673, 36526, 49755, 37138, 8983, 43315, 31316, 17369, 13886, 27102, 25323, 7921, 9974, 4453, 38116, 37883, 34152, 49301, 33738, 16612, 4501, 48073, 6721, 39557, 37401, 36396, 1933, 18253, 21913, 43199, 19983, 32430, 44865, 21196, 10977, 17561, 45450, 2217, 30123, 45669, 7831, 17260, 3588, 39919, 42448, 19269, 457, 22917, 28673, 24814, 40666, 24554, 48287, 20792, 2334, 24210, 10945, 34392, 43798, 37971, 30010, 5726, 19212, 47121, 6095, 48924, 12944, 34989, 7348, 17295, 41933, 40151, 25072, 48150, 4727, 30789, 29643, 13060, 43729, 23552, 27101, 4476, 30929, 26789, 49965, 22800, 49275, 41575, 40389, 1762, 42074, 36675, 44024, 18909, 24853, 23822, 37089, 21426, 48647, 33617, 15900, 44099, 3857, 13384, 40915, 47360, 12215, 35418, 2257, 39035, 42721, 1492, 50241, 29010, 37290, 24380, 6003, 6832, 21615, 24989, 38919, 31893, 20588, 31585, 31748, 13168, 3101, 35352, 37533, 38390, 17846, 31292, 48151, 19085, 42814, 958, 45757, 17830, 4315, 3317, 46055, 27168, 13427, 9734, 1389, 46826, 16282, 16925, 5952, 42203, 16109, 14521, 41455, 23002, 9478, 34353, 37466, 42672, 34189, 45420, 24304, 14389, 26253, 24610, 6257, 29614, 37863, 10555, 22386, 32264, 37415, 10050, 21819, 48089, 42497, 40669, 37262, 25176, 33337, 36697, 8439, 8229, 8968, 5745, 17609, 24723, 2490, 16273, 12031, 26003, 30821, 37735, 20024, 44051, 46450, 15759, 33459, 35266, 9605, 44320, 18443, 5889, 36099, 29032, 32442, 27163, 31552, 6284, 32179, 6867, 22112, 37961, 12326, 45370, 41692, 951, 22916, 42763, 364, 26201, 23424, 16248, 16682, 48527, 43489, 13003, 47823, 37271, 26077, 44829, 43724, 36199, 28401, 45458, 10654, 939, 39826, 48782, 34910, 32828, 28659, 35619, 9508, 6978, 42910, 24873, 23528, 44125, 39345, 50081, 19236, 8417, 34466, 17401, 26925, 49979, 25613, 29854, 31964, 33832, 34155, 6444, 41555, 45173, 35681, 15485, 10667, 48152, 5627, 8118, 9623, 6386, 47635, 315, 45116, 15636, 36473, 22539, 8665, 23928, 43110, 18388, 31825, 47713, 2073, 9806, 45390, 45981, 38620, 3548, 39956, 1516, 48188, 3852, 49464, 27380, 28766, 16272, 8014])"
      ]
     },
     "execution_count": 14,
     "metadata": {},
     "output_type": "execute_result"
    }
   ],
   "source": [
    "gpt_res[1].keys()"
   ]
  },
  {
   "cell_type": "code",
   "execution_count": 15,
   "metadata": {},
   "outputs": [
    {
     "data": {
      "text/plain": [
       "dict_keys([856, 43678, 27842, 44904, 34729, 7599, 19328, 48010, 39054, 8755, 36270, 6173, 22219, 40183, 22122, 25622, 7377, 6538, 8414, 41401, 4463, 42017, 9351, 35521, 9270, 16035, 40904, 17315, 48815, 32999, 34508, 13713, 26109, 3440, 12129, 26755, 35805, 29751, 17986, 3097, 36902, 38043, 2888, 15656, 8407, 46285, 37473, 41487, 38641, 23591, 15886, 16110, 27616, 34870, 36731, 34347, 12899, 16827, 10022, 26504, 26008, 33121, 5272, 42947, 27173, 3902, 30145, 34249, 17251, 20353, 25706, 8578, 41841, 11448, 2194, 2594, 24374, 39151, 22733, 6432, 35141, 48336, 8099, 49172, 28488, 36614, 24861, 21302, 47004, 17060, 9091, 2838, 36879, 26145, 299, 37973, 27470, 34879, 10886, 15109, 42785, 23551, 38427, 42439, 50103, 9238, 33628, 28352, 10504, 33141, 44088, 6336, 29983, 22793, 29370, 1829, 35622, 43266, 111, 33122, 35198, 19268, 13997, 4911, 35820, 22957, 30021, 44746, 18786, 43026, 21406, 11113, 45056, 39074, 39973, 50188, 1558, 30537, 7042, 45193, 27395, 37496, 38156, 11473, 46206, 19083, 19551, 48464, 6240, 4279, 10389, 11746, 707, 41835, 41421, 6419, 43363, 264, 38698, 26875, 47817, 3172, 24588, 17572, 42959, 39060, 22408, 16688, 37560, 362, 7875, 43770, 7674, 41136, 19315, 41029, 24359, 3997, 44728, 14648, 7109, 41986, 5733, 28278, 38204, 5211, 11672, 19459, 17868, 40121, 40699, 7063, 29820, 26836, 30759, 16176, 5899, 20501, 20183, 7703, 25887, 43579, 31376, 4640, 11654, 29049, 39641, 45461, 14515, 3145, 14857, 2082, 27096, 45978, 10182, 26659, 26058, 19690, 44276, 37656, 24319, 25774, 25127, 22130, 23596, 8005, 3666, 4471, 3554, 39494, 31860, 3555, 43023, 17309, 49386, 40700, 33624, 26604, 38352, 25867, 48927, 19144, 40953, 43643, 11181, 37161, 39664, 7055, 14164, 6829, 25357, 4062, 40547, 33044, 37160, 39715, 18639, 9977, 22822, 35067, 1235, 11290, 46, 43702, 42614, 24147, 40623, 3337, 35124, 48404, 2807, 12914, 39703, 47909, 4984, 21743, 1859, 49700, 7259, 2069, 6038, 20064, 44503, 3093, 12484, 22850, 39943, 3262, 24446, 38529, 12940, 43942, 11130, 35915, 29924, 42209, 17198, 26877, 45481, 27040, 19777, 32814, 36764, 48844, 43386, 13302, 20019, 44979, 6192, 1253, 27871, 4596, 37908, 14091, 32051, 26203, 41123, 7689, 50075, 47640, 9537, 39502, 34458, 2499, 22311, 8976, 3131, 21637, 33410, 28327, 7271, 39930, 7940, 21376, 22105, 9739, 42653, 17597, 26762, 48236, 36888, 2882, 43422, 26887, 6086, 14204, 26749, 30155, 31213, 2389, 14094, 43808, 21530, 9477, 42812, 32855, 7738, 31861, 21317, 12059, 24506, 37963, 36750, 34919, 47029, 38860, 45839, 43783, 6400, 40407, 21079, 25590, 38801, 10719, 4398, 10979, 37938, 6859, 23393, 32463, 45621, 2516, 4661, 46933, 17017, 11242, 33519, 5574, 42632, 39666, 22521, 48255, 4870, 9864, 21175, 45039, 15237, 26960, 33298, 9636, 10196, 35051, 16944, 6873, 40177, 24160, 36404, 45211, 9603, 775, 29646, 49840, 13675, 21518, 26351, 20333, 6204, 39900, 8426, 25750, 22990, 45785, 14602, 32766, 42453, 1117, 9735, 35084, 22973, 49014, 13286, 11073, 44293, 36293, 47869, 121, 19584, 19430, 50278, 23557, 42874, 9833, 33088, 23389, 19560, 9389, 28399, 37080, 24630, 21043, 42118, 2617, 41424, 47703, 1953, 2051, 9422, 36708, 30048, 43019, 4832, 8479, 40847, 47834, 7247, 39721, 25207, 13309, 23366, 33092, 8588, 15811, 48555, 30392, 22064, 10846, 16478, 25236, 23142, 6286, 20348, 40602, 40204, 24140, 40170, 18176, 26329, 12655, 29644, 21739, 45565, 22839, 30375, 25645, 43307, 41824, 15240, 24504, 28981, 31709, 16411, 29317, 47253, 19331, 37629, 26245, 21785, 20948, 21704, 5851, 49946, 34236, 47716, 27727, 9173, 28788, 6582, 33268, 34958, 23924, 29559, 24231, 686, 49401, 24772, 10004, 20529, 32395, 8605, 35310, 35752, 38284, 19733, 8891, 16200, 31834, 15091, 27160, 4456, 18111, 39988, 15539, 35338, 13966, 15944, 37269, 23037, 11486, 28228, 26128, 32117, 40633, 6236, 48575, 11325, 5858, 2222, 14771, 39683, 32764, 8086, 4459, 35353, 46200, 43773, 40365, 11997, 42858, 3509, 16864, 22288, 9883, 5739, 27182, 1795, 36598, 9879, 20371, 41185, 3251, 41853, 48763, 27601, 8690, 29815, 43778, 33805, 5006, 1368, 25636, 23726, 44018, 7890, 3550, 20420, 13463, 40774, 2686, 182, 46952, 11545, 45332, 43196, 21331, 7849, 34666, 28328, 45925, 1983, 12408, 8496, 45910, 5728, 40884, 36120, 22910, 15901, 8018, 37590, 19917, 39430, 13469, 19839, 34282, 4950, 3176, 25205, 48076, 1182, 13606, 8259, 23193, 23371, 33986, 18565, 42547, 41664, 7961, 6333, 47614, 24340, 3814, 3685, 36674, 24307, 46630, 8759, 2265, 28700, 36139, 22824, 7234, 28642, 27778, 5310, 44474, 33112, 25749, 12527, 21284, 49655, 14080, 46198, 36453, 27103, 29220, 6001, 33806, 17535, 15977, 35224, 41715, 47746, 44537, 48483, 43548, 23840, 44920, 47002, 727, 18899, 45636, 32191, 35028, 9233, 189, 20365, 40949, 37019, 49018, 28396, 41818, 20399, 29577, 26560, 11604, 39731, 22926, 13841, 44908, 47379, 2359, 7839, 5369, 39098, 11453, 39565, 34538, 19501, 47255, 21147, 27155, 190, 16830, 47265, 29096, 19198, 11161, 14123, 29038, 45678, 43937, 37646, 12208, 30083, 5784, 19952, 20954, 31226, 42437, 43212, 8138, 32540, 3203, 23159, 49776, 13387, 28120, 27434, 12482, 12348, 50048, 37024, 35018, 9757, 449, 19482, 23483, 1675, 27747, 11392, 43964, 27403, 33741, 23785, 12747, 27856, 38688, 35920, 7071, 5882, 19050, 10495, 15815, 36434, 30356, 18282, 16235, 8033, 37796, 29911, 13312, 43549, 29144, 12051, 44853, 21341, 30664, 34837, 22676, 9030, 3720, 44769, 48642, 39808, 24245, 36990, 48115, 33010, 44290, 772, 688, 36062, 37780, 4883, 2271, 36001, 42329, 47472, 44789, 17052, 47948, 17668, 38503, 10724, 19088, 49186, 40837, 6262, 42961, 10145, 12868, 5504, 17904, 25152, 19852, 41525, 19262, 40295, 37528, 35955, 15993, 3255, 44563, 19045, 26155, 40023, 17203, 20729, 45599, 38654, 41429, 4308, 7103, 38038, 16476, 2593, 36814, 15951, 38213, 25700, 8993, 40541, 33983, 26100, 3952, 48425, 16309, 26103, 9230, 38879, 18779, 45360, 38794, 11108, 7308, 25304, 9169, 16777, 39530, 28636, 27212, 11849, 43721, 35333, 20225, 10122, 29250, 6577, 43839, 32617, 8371, 2191, 41122, 5423, 531, 48031, 26820, 33229, 12961, 19740, 39031, 11264, 23715, 46705, 11840, 43185, 13698, 33441, 4591, 35062, 23190, 26320, 6939, 24572, 5309, 34534, 13500, 28859, 48687, 33282, 18721, 6844, 18926, 33981, 32106, 9275, 18437, 9266, 44768, 2767, 39640, 22627, 19079, 28426, 32820, 6228, 25705, 29573, 12540, 7911, 25685, 30124, 14213, 6711, 22220, 34930, 45951, 7393, 41732, 46469, 10300, 35421, 47851, 16899, 45807, 5174, 10286, 25558, 16876, 18998, 18823, 38938, 31291, 38258, 34146, 6882, 20829, 7125, 31965, 31140, 33319, 21151, 43272, 30981, 31676, 5940, 48603, 42327, 34137, 47345, 41672, 28195, 26247, 23449, 22583, 43072, 10764, 45377, 33364, 39540, 35934, 3433, 6805, 23491, 37878, 39395, 24781, 28521, 39712, 48804, 48409, 30330, 4318, 36696, 28298, 49710, 16256, 31642, 6338, 20370, 30240, 29857, 47500, 15371, 17464, 4342, 8577, 45777, 29576, 43418, 9152, 10027, 24985, 17038, 40741, 6843, 3306, 39161, 11601, 25045, 4337, 34324, 30172, 20970, 50009, 8713, 302, 7020, 12155, 30417, 49492, 10270, 48910, 39218, 8497, 8066, 27345, 40351, 12309, 36995, 8329, 30937, 47147, 45806, 40516, 36661, 30441, 44188, 18720, 273, 48408, 38417, 14405, 43930, 36440, 34724, 25504, 10875, 34965, 12835, 5376, 3564, 24209, 16984, 3146, 7056, 4524, 45311, 21817, 18869, 21142, 38464, 40248, 39541, 41778, 3385, 8531, 4106, 21150, 22324, 45410, 4628, 5103, 16389, 43880, 5371, 43336, 13634, 8733, 29167, 22792, 48415, 31813, 1102, 4843, 11223, 44133, 26898, 37939, 48579, 42727, 48888, 44049, 6901, 7336, 21358, 563, 30366, 47108, 18198, 13922, 34320, 9320, 32681, 48309, 45845, 20014, 12988, 25778, 9033, 2081, 43887, 23292, 36865, 17206, 34127, 43353, 1592, 4781, 13971, 20379, 28466, 18802, 7733, 48090, 10538, 49761, 31584, 18471, 37167, 23360, 44032, 19768, 6784, 624, 48123, 49096, 534, 35433, 48232, 49994, 16517, 25185, 8143, 13751, 33115, 36786, 19953, 47813, 24437, 21515, 580, 39287, 28618, 20142, 32448, 5549, 42318, 4750, 19942, 5348, 21565, 35159, 37427, 14694, 42299, 44588, 8540, 36402, 41336, 37133, 32749, 33544, 34342, 1870, 2283, 2543, 2121, 23927, 28479, 640, 35131, 9409, 28125, 40519, 16181, 7511, 12600, 4716, 22339, 12792, 33924, 37746, 29320, 13204, 17054, 45302, 4414, 28443, 28720, 43586, 9221, 18252, 48006, 41052, 41183, 30900, 38662, 49622, 30727, 16418, 25676, 38832, 22783, 18144, 34708, 31553, 33434, 39018, 19913, 17969, 9934, 21448, 21205, 18271, 29703, 30496, 47471, 32920, 16207, 39178, 40927, 20742, 13865, 4473, 28320, 35986, 46646, 31033, 8952, 29117, 6908, 8205, 48621, 435, 37360, 33909, 20581, 23579, 45441, 31708, 27989, 17959, 28362, 26169, 41387, 41086, 11796, 13995, 43400, 5193, 37144, 49908, 30719, 17645, 2339, 13892, 9645, 12345, 37453, 43542, 9124, 45013, 9196, 41352, 27218, 33955, 28725, 19807, 50143, 32114, 20317, 6450, 12780, 1372, 36490, 25084, 5647, 18139, 30752, 34254, 27603, 38058, 14326, 2288, 34769, 38460, 2753, 13431, 26583, 25963, 10994, 6537, 13798, 2755, 21291, 2723, 37728, 35929, 3274, 47307, 4851, 1114, 17119, 42465, 11956, 39790, 16779, 48358, 36250, 48296, 36417, 46405, 8975, 6327, 6791, 9848, 22013, 46138, 7686, 25472, 6743, 35423, 36466, 12713, 10416, 36347, 16320, 10840, 47803, 47230, 31101, 34004, 35505, 8984, 3988, 23701, 39034, 44871, 10788, 27230, 9287, 10480, 42839, 30003, 43003, 931, 3853, 47218, 34671, 8021, 35428, 15339, 24061, 50276, 30224, 39870, 1652, 32284, 27354, 10253, 31680, 34349, 37345, 2009, 33211, 35728, 21780, 20315, 29982, 20159, 36969, 1087, 11439, 47067, 44925, 34009, 12048, 29896, 38223, 8580, 40357, 13712, 25522, 20227, 48355, 18143, 36265, 4449, 24238, 16215, 16761, 49696, 36103, 23894, 22873, 46728, 22574, 962, 41298, 31800, 11687, 32790, 6985, 18391, 13320, 16946, 2907, 11299, 2924, 2623, 41297, 16860, 5655, 21655, 8887, 9180, 26725, 43393, 26682, 41599, 12537, 32967, 23465, 4887, 16988, 35132, 5482, 10012, 40154, 17187, 16785, 24383, 33540, 27825, 46174, 48866, 49649, 44033, 6687, 12419, 35393, 12959, 14430, 2256, 1226, 39495, 23926, 43598, 6365, 25702, 44803, 50097, 32925, 15533, 5015, 14718, 39339, 23480, 38961, 5464, 19107, 20976, 29894, 25387, 48108, 7937, 42451, 33845, 38655, 11251, 8130, 30040, 42374, 27902, 19555, 1693, 19697, 23415, 30353, 22076, 35666, 44808, 35611, 26435, 40408, 18646, 14630, 34937, 38601, 25650, 40227, 21598, 48351, 3024, 14224, 22912, 33353, 11715, 30108, 20997, 24470, 36145, 31199, 16393, 28201, 20556, 1844, 32942, 25697, 9944, 903, 44689, 31277, 41184, 25929, 44219, 37332, 20755, 18032, 16044, 16882, 25864, 32886, 5874, 35466, 45156, 46595, 31922, 26501, 1714, 7988, 44039, 40490, 38899, 43193, 34541, 28174, 35682, 11501, 1119, 1696, 34553, 36655, 14079, 8788, 43951, 36561, 34825, 41779, 41621, 7684, 6298, 38486, 15866, 15014, 15297, 3659, 26134, 28907, 7627, 265, 4394, 37649, 6475, 31693, 8622, 40752, 41304, 36801, 17437, 45306, 32646, 19103, 36213, 33546, 38512, 23797, 40165, 4075, 33430, 50035, 38536, 16222, 22954, 17749, 48328, 2003, 26133, 33609, 3729, 41508, 32127, 1722, 35575, 45079, 31092, 6448, 10195, 37036, 15572, 43153, 16142, 21152, 10198, 22639, 20377, 50039, 8470, 40948, 1369, 43404, 42617, 25495, 16415, 10126, 21401, 26405, 3712, 46039, 30621, 3813, 6746, 32331, 27599, 38650, 36082, 40290, 2057, 9732, 43111, 38810, 30627, 15992, 25049, 43227, 44628, 7982, 24486, 35400, 43877, 25229, 15903, 13475, 33590, 39546, 20413, 14980, 23275, 35479, 21847, 23370, 28740, 14252, 36743, 31236, 10844, 34805, 49289, 42028, 49196, 15509, 22694, 18699, 50, 13852, 33429, 48028, 30918, 32587, 15444, 26334, 16796, 33501, 423, 21725, 33638, 5746, 29152, 25856, 33314, 44827, 37380, 34310, 4340, 19524, 34260, 31988, 8323, 3705, 13361, 9580, 37957, 6354, 31097, 13809, 40881, 13061, 3665, 15564, 35099, 38341, 29165, 40586, 20519, 1417, 2262, 41655, 4442, 37101, 15047, 40007, 13651, 9189, 20681, 11643, 30335, 50012, 39076, 17764, 9242, 47947, 14035, 2664, 35981, 10835, 9936, 49031, 39893, 49642, 7290, 34517, 21778, 32089, 18976, 5284, 12699, 671, 17015, 32746, 3876, 7634, 43402, 33243, 12188, 16512, 20967, 39127, 39437, 33471, 33594, 9363, 983, 26886, 15554, 13089, 32200, 38105, 22430, 10129, 16048, 6810, 22483, 40382, 331, 33948, 8828, 34311, 44244, 3126, 50087, 20734, 38615, 40903, 5277, 28400, 49918, 1993, 16878, 15284, 45049, 34806, 27532, 26017, 2691, 22984, 45249, 25143, 29512, 26561, 25583, 39881, 2332, 48120, 9448, 28251, 9940, 40127, 37880, 38020, 23831, 38313, 9632, 2572, 5986, 45117, 29618, 6245, 4115, 211, 23626, 26800, 2496, 43677, 37707, 34728, 41730, 25134, 49, 15, 49987, 44905, 16626, 38120, 32721, 29846, 37934, 20532, 5150, 36416, 14017, 28557, 43433, 29252, 43662, 17496, 26528, 4805, 7866, 24680, 39702, 1886, 19678, 43040, 35371, 27281, 24300, 33518, 17815, 15664, 17898, 30532, 40729, 21465, 21034, 26891, 6244, 2678, 9708, 39574, 32234, 40537, 13548, 38807, 38776, 30706, 39558, 31895, 27999, 23259, 48145, 27788, 21646, 31424, 45143, 31050, 12615, 30824, 45412, 35323, 49363, 40555, 8232, 20978, 33286, 21218, 11474, 33800, 40308, 26766, 7851, 29945, 5447, 32947, 7829, 25763, 34604, 27435, 8741, 29338, 44497, 16307, 1078, 3149, 48651, 46818, 15774, 1916, 42303, 19382, 32776, 29200, 7805, 13677, 7868, 47668, 28392, 39840, 48502, 20520, 44324, 41850, 22543, 11200, 16308, 16772, 28007, 36372, 15196, 30583, 2086, 15236, 22279, 1825, 17473, 47584, 29640, 4207, 29690, 43080, 13717, 14963, 48260, 34744, 19527, 46939, 33432, 1586, 2026, 48072, 26414, 36367, 4886, 852, 9985, 33210, 48082, 40999, 49121, 12805, 8614, 9074, 7810, 34722, 5347, 26794, 14260, 12194, 1741, 5995, 8752, 44500, 7844, 16582, 25985, 11178, 49345, 360, 44527, 3405, 1943, 28249, 5116, 43806, 33928, 24600, 725, 10916, 15965, 36755, 46373, 13573, 2642, 4603, 29102, 40684, 49417, 1115, 40512, 5693, 28834, 12139, 44034, 44670, 33562, 40232, 71, 7273, 22833, 36583, 18108, 31281, 15317, 6900, 29961, 19333, 19986, 14286, 24393, 41169, 36488, 3459, 561, 4134, 19197, 36984, 1640, 38263, 16242, 44362, 36819, 13110, 38805, 16804, 30514, 11121, 47883, 1971, 44094, 45997, 14507, 10180, 14869, 4458, 42571, 41126, 7781, 6585, 44909, 8651, 4593, 2063, 9912, 12497, 4434, 12943, 38764, 17475, 34290, 27731, 34285, 24884, 6874, 1045, 44847, 26853, 2978, 46769, 398, 42778, 10323, 40145, 26597, 25416, 27786, 32205, 18204, 36184, 6328, 39814, 36892, 36328, 11419, 19937, 16021, 49338, 49328, 46115, 22210, 34865, 25897, 42186, 47766, 9032, 724, 48032, 40425, 6197, 31110, 5333, 47381, 31532, 6999, 1315, 19377, 12797, 37305, 3293, 33184, 49342, 23931, 31529, 44273, 49272, 32178, 43572, 2469, 6952, 33747, 5968, 26239, 15589, 28454, 21793, 14016, 22648, 49677, 12366, 46149, 32387, 22006, 3258, 29170, 38943, 19836, 5600, 2106, 21277, 32608, 25137, 38278, 19129, 22866, 21735, 28110, 38825, 13899, 48516, 35942, 18526, 28361, 5780, 5379, 41529, 10403, 28545, 19421, 11410, 46719, 44641, 29361, 8156, 38988, 41105, 29767, 32030, 36446, 42167, 36388, 21889, 34513, 20036, 10989, 38078, 10997, 2130, 8571, 37952, 12552, 20020, 42711, 25579, 10711, 32372, 41142, 48833, 27704, 20574, 38552, 43297, 17970, 35630, 34475, 25666, 39568, 5575, 49775, 24824, 43522, 5792, 23369, 43995, 780, 15475, 7171, 34982, 36295, 2788, 11521, 46994, 3402, 39691, 45572, 45913, 8601, 37617, 17256, 26196, 22891, 20021, 17879, 2491, 12439, 37226, 26708, 13600, 19052, 24117, 9907, 21506, 46629, 44072, 6597, 17677, 41873, 41723, 4217, 21071, 9453, 38311, 34045, 17434, 46407, 49935, 20752, 16187, 27414, 29103, 32943, 30598, 20149, 49651, 8906, 18126, 34606, 7675, 33197, 24525, 50207, 2542, 44220, 47929, 13903, 26105, 17055, 12145, 25964, 48282, 20773, 13257, 49410, 40404, 42968, 45355, 29070, 47475, 10414, 38348, 27992, 6925, 3048, 20987, 5473, 26681, 30343, 24784, 21180, 48995, 7419, 10748, 30399, 35293, 33517, 45170, 15337, 5771, 37683, 1932, 40849, 24438, 9916, 38790, 31335, 14708, 14409, 5086, 44806, 39522, 9608, 29230, 6427, 32493, 33217, 12571, 5070, 17278, 35434, 25162, 39902, 8862, 36875, 37868, 48035, 1037, 9078, 4747, 41718, 13507, 9465, 8668, 25933, 821, 17115, 7803, 37149, 3150, 31715, 11922, 48374, 6794, 5814, 26932, 40990, 12061, 26730, 11664, 46524, 15472, 43704, 35793, 45262, 44412, 40059, 5276, 7284, 11265, 46671, 33361, 13080, 49048, 39215, 23018, 18236, 18814, 13222, 6172, 30295, 2164, 37430, 18205, 7345, 35165, 24094, 35258, 40085, 40001, 2779, 4554, 7410, 31498, 5113, 43436, 43264, 10535, 31526, 46715, 33163, 5896, 13026, 15272, 16197, 28152, 6690, 24930, 21519, 25529, 47317, 43059, 24493, 28109, 33368, 16310, 9957, 17287, 15491, 49474, 34613, 9085, 49483, 14831, 5492, 26047, 19273, 14862, 8411, 9088, 40473, 46398, 357, 16321, 14756, 29138, 46647, 16298, 18106, 12682, 35775, 43440, 47624, 8790, 22215, 47016, 38087, 5431, 15661, 37712, 33207, 41288, 24320, 32099, 43886, 48817, 36958, 44901, 45805, 39991, 21200, 6044, 30518, 26663, 17841, 498, 31370, 11815, 26797, 27578, 47018, 28059, 14693, 21503, 6289, 15738, 39013, 4276, 45308, 17300, 10715, 21311, 21942, 19957, 39907, 27938, 44419, 23123, 48753, 9041, 50161, 24363, 3928, 3208, 31087, 13538, 33323, 49671, 42062, 32801, 1528, 36226, 6579, 27910, 23910, 17783, 11171, 41518, 12761, 10361, 12843, 10778, 46400, 8973, 19460, 45908, 30544, 30764, 14800, 25994, 25183, 94, 23630, 19000, 26054, 40161, 26939, 18783, 11660, 41113, 28270, 13208, 5484, 30364, 32321, 21241, 10526, 28906, 19405, 7350, 13839, 28284, 27153, 41902, 6768, 13586, 41995, 22461, 11932, 23514, 45232, 33970, 3642, 37798, 24888, 7588, 10547, 18522, 13524, 15077, 38515, 37481, 3531, 24756, 6278, 35849, 15088, 43344, 3014, 24977, 1474, 48901, 17301, 23100, 41195, 42035, 5562, 9725, 6893, 24845, 29202, 35068, 45729, 5188, 31545, 28669, 33929, 8231, 11663, 37926, 7947, 17916, 16947, 1286, 24120, 45779, 37795, 21495, 17562, 39867, 30303, 45209, 2640, 40868, 42429, 27374, 42886, 48142, 20812, 17148, 3634, 44113, 46289, 25543, 39123, 39096, 36318, 4589, 15294, 506, 7612, 36741, 2144, 26931, 34650, 2104, 23850, 28388, 29473, 31899, 13931, 10136, 5854, 28598, 31348, 26965, 4506, 46389, 21677, 23337, 14276, 11125, 28737, 15674, 8639, 43698, 2184, 45541, 21557, 32691, 10320, 18723, 30400, 39174, 18199, 675, 36651, 33867, 4566, 14359, 45742, 38282, 37987, 45603, 13349, 31387, 29864, 1440, 33468, 44432, 49829, 43461, 4617, 5411, 17979, 27891, 31076, 23312, 20508, 25268, 18305, 49097, 353, 32669, 20104, 38762, 42093, 35386, 34954, 11803, 37915, 47924, 4534, 19124, 2471, 8521, 47976, 10364, 25010, 8302, 32550, 26490, 20727, 8712, 13382, 50045, 8041, 4429, 15985, 16742, 7708, 14149, 28166, 15746, 32538, 21972, 43451, 43430, 37764, 45789, 36521, 5061, 30027, 16443, 34959, 32367, 18695, 44016, 42526, 5633, 47342, 34266, 35549, 40249, 18776, 34764, 25965, 5263, 23233, 34122, 29261, 47940, 10353, 7978, 30306, 44996, 2721, 50024, 41274, 31206, 20676, 42069, 7765, 48734, 26927, 13488, 25783, 19773, 17646, 27852, 40649, 42543, 28904, 14096, 10349, 27904, 38365, 42066, 34826, 47873, 11115, 48178, 10148, 11169, 29378, 28959, 33793, 15917, 32570, 31038, 28529, 48859, 37215, 33355, 42441, 32557, 10996, 3042, 22151, 40296, 42725, 47553, 4339, 16897, 21314, 23019, 27537, 3986, 39513, 30522, 6898, 19988, 35926, 10175, 30575, 2718, 25546, 31051, 13685, 44757, 49561, 21922, 45092, 42849, 18286, 19141, 18053, 36903, 37758, 33132, 46106, 21500, 27226, 33008, 3012, 44620, 48546, 36870, 2665, 30709, 43932, 7231, 7254, 49632, 27658, 23170, 29979, 11926, 7843, 25945, 24982, 35813, 3542, 16344, 19206, 7463, 47286, 23173, 42714, 44546, 39420, 774, 43516, 36121, 17432, 32713, 36363, 39274, 36698, 44233, 2047, 39975, 41911, 502, 1264, 30739, 12601, 27754, 21933, 46992, 47052, 28150, 15622, 48498, 29812, 7888, 35862, 24837, 21528, 35566, 37633, 14337, 15239, 15825, 21290, 47784, 14554, 44237, 9756, 20240, 36056, 20724, 26795, 28663, 14311, 35850, 10143, 483, 22629, 4451, 24725, 28512, 29180, 22554, 40226, 26063, 18583, 37727, 49583, 47904, 49753, 39520, 3023, 40811, 27185, 7608, 3340, 40173, 34578, 28013, 39567, 14205, 30118, 47980, 18353, 38382, 47445, 2634, 14426, 42815, 27757, 11414, 48050, 36795, 25444, 45350, 35501, 31909, 25813, 6629, 25065, 10758, 30687, 13502, 64, 40845, 44480, 13064, 28961, 31188, 30965, 6929, 32335, 31139, 27406, 20838, 18936, 4042, 38719, 45979, 35064, 38211, 34995, 7532, 47222, 10250, 46664, 4484, 18354, 7657, 45868, 31183, 31309, 36925, 24249, 26580, 48760, 31994, 33462, 46071, 45576, 24216, 20795, 13505, 3216, 27766, 9993, 16303, 11273, 49003, 41992, 46970, 20153, 30875, 3028, 49929, 4586, 33276, 29639, 1814, 26333, 21759, 18023, 100, 12857, 29394, 38179, 23609, 30203, 29365, 16293, 28745, 41098, 44775, 33017, 30947, 17917, 14354, 16650, 20127, 17042, 17140, 36493, 47460, 39222, 41164, 35316, 48738, 8858, 32287, 3825, 28096, 14759, 46195, 14470, 45987, 25379, 16439, 24611, 18760, 13845, 37628, 30898, 18590, 2041, 13518, 37540, 16426, 27195, 33091, 33897, 37768, 10156, 47254, 36150, 1978, 49336, 2466, 28698, 5110, 20515, 27140, 2597, 36474, 27459, 45264, 42201, 14696, 21728, 29256, 9412, 13338, 5329, 30377, 49869, 6098, 17032, 47122, 5573, 14845, 47688, 8218, 13405, 36832, 49698, 38821, 4685, 3546, 12027, 30909, 2381, 28982, 4146, 28579, 21028, 24108, 24053, 8129, 30703, 37011, 8023, 45131, 45189, 47207, 25681, 15849, 575, 16919, 37945, 33775, 2394, 7895, 34789, 44980, 8954, 30685, 30742, 5977, 41601, 3107, 16670, 20955, 11885, 516, 28784, 13478, 30841, 40807, 5742, 6296, 43427, 24329, 30961, 38809, 8464, 6225, 29335, 47879, 4160, 9388, 35060, 34240, 3801, 26765, 45325, 29695, 30478, 23151, 42284, 13065, 33419, 25105, 29434, 30363, 22557, 15493, 26094, 33972, 25825, 50263, 36282, 14453, 621, 29887, 20749, 16348, 8325, 18513, 50071, 12189, 21665, 17383, 32662, 19429, 24003, 6695, 27841, 14775, 26779, 39989, 31391, 13736, 46125, 24353, 40118, 12766, 21905, 39169, 10468, 38696, 20249, 50076, 43638, 49555, 31172, 16092, 5828, 25970, 50085, 2959, 6615, 16372, 18667, 28994, 26726, 15604, 22081, 8850, 49968, 26019, 27493, 22545, 9986, 3299, 29768, 11656, 24729, 2270, 10865, 4557, 26778, 14034, 3941, 12171, 38171, 2124, 41296, 17549, 13098, 1852, 29462, 40569, 5904, 20184, 37997, 28089, 18211, 45315, 7339, 13927, 42195, 19499, 1258, 3479, 4355, 43988, 35101, 16523, 35937, 18982, 34032, 7483, 25919, 47063, 33748, 30808, 19139, 28147, 44566, 40229, 37954, 30880, 12784, 7173, 47051, 49076, 33352, 25417, 5393, 41825, 28772, 9565, 30811, 11049, 22966, 47849, 24777, 35045, 26359, 36641, 21624, 34279, 5824, 13138, 3789, 24963, 25903, 3778, 24657, 47264, 40860, 45196, 41167, 43150, 22302, 44516, 33005, 8241, 20029, 47865, 1003, 22748, 19618, 13063, 23751, 27746, 26472, 10301, 45158, 12489, 2633, 11210, 40878, 24625, 46609, 17733, 38022, 38843, 6679, 29939, 32703, 1618, 16978, 48505, 13348, 22343, 10486, 18853, 33116, 4090, 39313, 35331, 47859, 24298, 26573, 46774, 40105, 35115, 47957, 21012, 45483, 10896, 14886, 23220, 41402, 17413, 25555, 25632, 34813, 50267, 24754, 19073, 23771, 47905, 6442, 14850, 31963, 49284, 3429, 47031, 35948, 2050, 24485, 32371, 36432, 18645, 34595, 583, 5890, 39638, 45842, 36991, 39497, 38127, 47532, 3322, 4049, 7715, 25846, 17083, 39362, 19770, 9358, 9797, 18221, 6838, 16756, 3536, 9752, 17858, 38811, 3845, 25386, 26410, 25911, 14909, 6122, 10855, 10790, 13177, 6560, 49025, 29291, 5115, 20010, 15048, 25797, 25780, 5535, 9454, 266, 8349, 43744, 26539, 4320, 29711, 47699, 28967, 18799, 18436, 39455, 14069, 4372, 36010, 19653, 38906, 18655, 16585, 46410, 23583, 8030, 14921, 19024, 5552, 49577, 287, 5062, 2619, 35886, 44495, 5020, 6168, 22536, 19041, 5749, 17784, 46754, 23241, 6158, 29581, 35624, 2099, 3858, 8235, 31274, 23096, 13658, 35153, 39042, 18073, 7353, 33099, 48935, 36609, 607, 42804, 22432, 44812, 49712, 23800, 6623, 378, 36777, 26815, 3498, 43161, 29663, 28381, 35436, 39971, 1222, 6094, 10052, 23283, 15355, 33224, 31126, 12122, 16639, 46414, 17180, 26464, 45661, 4229, 37426, 47261, 34161, 39315, 33779, 5820, 13415, 2964, 14838, 8912, 49032, 40536, 11167, 1407, 39994, 40206, 4978, 4133, 32544, 20339, 36110, 2387, 21408, 38610, 35435, 10109, 22297, 37524, 42321, 16645, 26491, 24232, 24871, 19503, 50175, 4687, 8181, 23464, 15342, 44159, 17892, 14125, 44107, 33854, 42433, 18697, 43136, 31329, 14014, 37797, 19008, 11697, 35526, 31259, 35205, 5982, 43717, 49381, 31393, 16053, 19319, 20665, 40208, 42456, 28257, 22661, 20357, 4959, 31689, 41443, 7932, 46738, 34443, 43963, 30494, 46775, 37049, 36060, 33958, 19493, 33753, 14965, 3773, 28533, 9564, 6041, 5587, 24189, 17700, 37851, 17487, 7000, 7069, 9740, 9171, 48361, 35951, 37007, 32848, 47321, 21714, 35370, 39349, 34567, 44264, 22265, 35453, 39642, 12085, 35887, 44928, 6732, 22019, 21960, 48492, 224, 18832, 10834, 46038, 7210, 39406, 6593, 5641, 27445, 12612, 49658, 23934, 45675, 46386, 7088, 46971, 28648, 15404, 25767, 44777, 5148, 21582, 34776, 24236, 28936, 44296, 31312, 20832, 28846, 277, 8940, 1845, 12259, 14981, 31773, 1773, 29655, 11221, 14619, 22906, 1377, 6176, 45134, 16574, 17223, 21534, 861, 7632, 4344, 25562, 21583, 41791, 32543, 7885, 4871, 32993, 6897, 9425, 18369, 27320, 29720, 34199, 45770, 532, 13418, 32151, 35889, 15075, 29848, 45514, 34372, 34070, 14275, 49063, 13604, 2777, 5385, 8202, 9890, 29383, 27945, 9694, 32898, 18680, 39230, 666, 50072, 2412, 47009, 45795, 26776, 45384, 44475, 1566, 17656, 29797, 37448, 26373, 2205, 8434, 46222, 8312, 18593, 3051, 34720, 29684, 44305, 49864, 38334, 24605, 40262, 14302, 20856, 24306, 45647, 16755, 30885, 10453, 14868, 40198, 46839, 35554, 30381, 47562, 17604, 36715, 45980, 25425, 20897, 11122, 2556, 26750, 12424, 21351, 7614, 19552, 39017, 34742, 26677, 23304, 13728, 20092, 29275, 32569, 39120, 36852, 14799, 1345, 24402, 30184, 25839, 46722, 24523, 32979, 10443, 18233, 17348, 32215, 26057, 22529, 17258, 46226, 4776, 13352, 12533, 3817, 40980, 42592, 24720, 15191, 20750, 27423, 13857, 39766, 29181, 3649, 47603, 36502, 43978, 17929, 31761, 49525, 28076, 38883, 40542, 10246, 29439, 18946, 36648, 28090, 4003, 24037, 1939, 43611, 33178, 21392, 37876, 45859, 6428, 23293, 16616, 29115, 363, 24766, 1498, 2635, 11890, 46433, 9948, 32118, 38233, 33448, 8737, 8602, 2004, 33002, 23606, 28496, 46957, 25347, 11156, 41898, 37125, 9939, 16995, 16769, 11953, 17272, 38524, 2172, 49330, 48258, 48941, 25384, 46743, 48109, 11682, 42940, 6937, 12230, 5685, 29998, 30669, 31557, 4552, 38489, 11208, 35350, 18455, 47116, 44507, 48233, 8939, 95, 20867, 3999, 31567, 25975, 10651, 37591, 3599, 12893, 49134, 28800, 17316, 45466, 35626, 1034, 41546, 17247, 22789, 4600, 605, 41081, 40238, 1183, 11118, 27889, 20130, 6157, 11530, 19127, 43475, 44750, 28266, 23473, 19307, 36541, 34326, 14277, 49350, 7408, 6877, 18026, 15876, 23262, 15710, 37923, 8189, 19570, 20492, 28246, 33580, 33777, 23803, 33219, 49465, 13476, 43410, 18820, 19012, 8362, 135, 49882, 50114, 14238, 20680, 22885, 16674, 45546, 50080, 18678, 31942, 23705, 422, 5830, 34911, 44705, 24819, 43502, 40704, 42067, 30146, 43584, 13480, 36307, 27940, 49009, 12248, 9212, 32116, 21706, 20538, 25956, 43619, 12622, 5417, 7613, 33769, 1097, 11554, 23228, 17613, 10645, 27356, 40809, 22093, 15875, 38134, 21197, 17875, 35066, 17732, 20660, 34315, 20164, 34027, 4700, 32641, 8432, 44181, 8388, 44454, 44285, 11965, 34916, 17375, 21343, 3655, 26461, 2361, 12052, 6683, 4136, 41945, 8699, 1539, 37000, 30236, 26751, 30114, 3787, 8370, 28210, 36075, 1904, 18119, 29305, 37223, 35583, 38876, 35868, 31264, 29710, 1999, 35458, 27598, 50129, 22893, 12786, 29308, 17950, 2752, 29669, 5259, 32970, 9069, 79, 9183, 10290, 17351, 31882, 39091, 32025, 5041, 48069, 15195, 14994, 40442, 8252, 12712, 24940, 32992, 802, 46033, 16008, 39007, 23289, 1285, 30099, 37196, 28592, 26469, 15225, 21041, 7048, 38011, 31377, 29239, 11278, 32918, 42050, 1598, 48488, 24511, 10920, 43496, 23295, 20619, 44381, 43278, 5071, 26050, 45283, 1092, 48434, 41783, 7267, 19115, 46608, 17012, 12253, 36160, 14656, 38343, 36887, 14256, 4231, 13281, 36550, 37440, 32235, 21898, 19093, 30993, 2632, 44141, 19178, 14692, 32743, 44052, 1376, 22314, 20980, 9239, 18856, 31196, 15861, 22015, 43874, 32145, 37191, 33231, 10176, 27583, 39699, 47837, 27284, 43746, 22041, 33516, 1657, 43528, 28671, 45749, 27953, 47726, 45008, 42373, 6680, 2741, 31952, 36433, 18107, 18923, 36796, 18735, 18748, 25192, 21649, 4836, 23849, 26519, 2987, 22401, 16806, 9188, 39729, 7893, 27011, 28742, 43334, 20797, 3888, 31230, 44176, 11630, 23036, 34545, 18258, 42963, 40349, 47565, 22205, 37254, 1435, 44887, 19023, 22074, 50059, 13539, 32095, 35660, 18518, 49075, 5909, 9923, 2764, 634, 12265, 23406, 10939, 29409, 47089, 4469, 27751, 44541, 48764, 19286, 40062, 36471, 48723, 47377, 37485, 18452, 38652, 40909, 9579, 6415, 38415, 28853, 39711, 29941, 9447, 40337, 12702, 42459, 34583, 47457, 3240, 20711, 9323, 6396, 50216, 8740, 16343, 4089, 16641, 15130, 8760, 4037, 39768, 6361, 31991, 18269, 30190, 47439, 1974, 22640, 37884, 12328, 23876, 44093, 33296, 49891, 4737, 28866, 25182, 4837, 37998, 26552, 12928, 35201, 14233, 7642, 42247, 3199, 3708, 40287, 13774, 8119, 41313, 13894, 18826, 12057, 3183, 31088, 26358, 6756, 34073, 3978, 1867, 44385, 636, 28359, 29725, 9721, 18464, 43217, 28026, 16964, 48277, 40283, 13092, 18298, 17531, 43632, 2886, 44408, 28068, 36913, 48711, 48062, 48677, 1783, 38153, 19633, 37904, 42566, 12214, 2078, 24752, 41407, 36230, 3313, 17796, 6553, 30471, 12180, 31004, 11240, 35346, 39457, 5085, 17836, 10259, 50243, 45086, 32344, 6997, 45529, 28354, 15466, 33065, 32924, 32889, 2116, 6010, 32657, 7062, 1118, 5759, 47249, 13769, 18896, 47361, 27931, 41910, 38778, 32937, 41561, 15114, 3822, 17511, 11779, 3883, 15489, 43737, 770, 19450, 5898, 30691, 6429, 13992, 15278, 12841, 38394, 9496, 29929, 32837, 44522, 22584, 37572, 41610, 26193, 47407, 4656, 2296, 39451, 44054, 3408, 35460, 22055, 5057, 30962, 17579, 11227, 38720, 45791, 29977, 20915, 39234, 47247, 27266, 30840, 33242, 36168, 3244, 1320, 4980, 24230, 22857, 48626, 6789, 17255, 30274, 3471, 45656, 26314, 17204, 44531, 24825, 50198, 13905, 34495, 19349, 46254, 35100, 20646, 8802, 18890, 26823, 48598, 23409, 37135, 29080, 8791, 23314, 1163, 50231, 34787, 35211, 6666, 34060, 41016, 22153, 36220, 34883, 3613, 20754, 43083, 37402, 39843, 44991, 25616, 46345, 4777, 49215, 29762, 11408, 15306, 7335, 13653, 18822, 35148, 17650, 29650, 12579, 8736, 24651, 41320, 37410, 29843, 29700, 9973, 16968, 27247, 6766, 15026, 4734, 663, 1607, 40940, 38815, 8844, 441, 28508, 25591, 33478, 48201, 48395, 29300, 39659, 11508, 18306, 41335, 46843, 20766, 40166, 1428, 49785, 3521, 18103, 25480, 9367, 34348, 5257, 19145, 3460, 23634, 42125, 39002, 33914, 39961, 28049, 31266, 21436, 33131, 26500, 3009, 22465, 41761, 41756, 22739, 34987, 5189, 14037, 50093, 45793, 10549, 49306, 28826, 29772, 42443, 47839, 9185, 24899, 34745, 35200, 23121, 37858, 22411, 28783, 10925, 32675, 43302, 16328, 40182, 27914, 39753, 5420, 42499, 22819, 19995, 3837, 372, 27665, 29619, 17553, 11791, 39048, 24365, 303, 50079, 33630, 31332, 17349, 18240, 1770, 18838, 22475, 22079, 29841, 37015, 11990, 30309, 17551, 7517, 28233, 30252, 23636, 33110, 17593, 48435, 12354, 1366, 42623, 45226, 1330, 37890, 17153, 9176, 11432, 34247, 13184, 39982, 18014, 36179, 47518, 35007, 1257, 22535, 21912, 26889, 41413, 6658, 37812, 49780, 43356, 22615, 42985, 31783, 439, 17971, 36806, 3297, 35112, 3520, 41981, 12894, 42231, 23237, 44799, 34618, 23663, 48736, 28366, 28406, 49850, 16353, 6910, 37467, 9750, 20873, 48324, 9223, 4386, 11035, 35551, 762, 46519, 18307, 11695, 45705, 36068, 5278, 7341, 27508, 17603, 20910, 2965, 7963, 27246, 31466, 41985, 2225, 30533, 7631, 41682, 41792, 3226, 1450, 26336, 40412, 10157, 39249, 42579, 20648, 10083, 27494, 11669, 31047, 40521, 33183, 12162, 1157, 17612, 34346, 3860, 29845, 42057, 14631, 13219, 44256, 17319, 23462, 176, 33853, 4150, 249, 3703, 42325, 25902, 44299, 42259, 19783, 43039, 20859, 35299, 26675, 30515, 26824, 39548, 21210, 36937, 41260, 31798, 15056, 29173, 12945, 21551, 49053, 33935, 30098, 7693, 16198, 39936, 19394, 30446, 5924, 37168, 39586, 16573, 23236, 3259, 9852, 20518, 13404, 32180, 13084, 35857, 24970, 22014, 44333, 11435, 28229, 30704, 30715, 44835, 46103, 21974, 37507, 13605, 10511, 19758, 48197, 39135, 5897, 20787, 28750, 36422, 24608, 19940, 17925, 3907, 30336, 21369, 30325, 34089, 12652, 34664, 46329, 41234, 410, 31227, 23509, 28494, 25479, 43, 3437, 22919, 12186, 25776, 4855, 15281, 48733, 15888, 43126, 16898, 1030, 49809, 18596, 27473, 28586, 40594, 42781, 47715, 38015, 38977, 20394, 7461, 15340, 34880, 9665, 19424, 27461, 4944, 16611, 32360, 37662, 7338, 7905, 15204, 1874, 2460, 31362, 48943, 4996, 21397, 43342, 18969, 43450, 29159, 15853, 26071, 8088, 15867, 26530, 43495, 27565, 17808, 35222, 27422, 44242, 24388, 19352, 2370, 29560, 26882, 9146, 7487, 37463, 24737, 36800, 28696, 21602, 22510, 21272, 3683, 11144, 9880, 50151, 28509, 20835, 46537, 22218, 22681, 11644, 23683, 20051, 23219, 38168, 8839, 20144, 5043, 34412, 34998, 13440, 11016, 43051, 3532, 37732, 17193, 42970, 42229, 1623, 29863, 1866, 29948, 27706, 805, 39484, 4143, 44677, 43242, 21713, 16461, 9498, 11493, 11260, 28178, 42535, 13401, 2586, 46279, 1763, 14721, 44993, 36591, 19987, 27248, 16776, 11880, 4380, 15519, 26267, 38232, 20573, 3008, 16717, 25914, 13148, 38321, 37264, 9172, 34915, 32528, 22127, 49693, 4356, 25040, 46680, 11069, 12036, 314, 3951, 49158, 1711, 33273, 19065, 31470, 9776, 40568, 47840, 13911, 28627, 24887, 15943, 32216, 11918, 14464, 1777, 39515, 13036, 34452, 49123, 31669, 39792, 43412, 28019, 33985, 10909, 15725, 4844, 10307, 47492, 26969, 35321, 7845, 45670, 4385, 40346, 30934, 19870, 22341, 19708, 43164, 12867, 28456, 13745, 27202, 19169, 15563, 42364, 46526, 7650, 12359, 34222, 12181, 39767, 17158, 9808, 34692, 15099, 46709, 24971, 5145, 18702, 22173, 45098, 45383, 16210, 36953, 44196, 10415, 47103, 34481, 10842, 15808, 24099, 1095, 21698, 5141, 18959, 35117, 12753, 31824, 46880, 21363, 17512, 4893, 2511, 2422, 28163, 19924, 40088, 7154, 33503, 18432, 14964, 14859, 34941, 30998, 30946, 4198, 47182, 41580, 11683, 23119, 16077, 16867, 30047, 32211, 4874, 38372, 21475, 29106, 42629, 15465, 27117, 23709, 33188, 28367, 47868, 4256, 20669, 12495, 12187, 49153, 47641, 24378, 32628, 30935, 44748, 840, 42622, 4672, 12775, 38594, 35673, 33135, 29471, 33390, 45477, 15576, 44236, 27712, 32915, 28870, 15433, 33829, 41342, 39949, 15611, 41371, 27228, 41598, 34739, 45034, 28265, 8832, 970, 41679, 9888, 36664, 5186, 741, 10297, 32436, 35404, 42841, 46466, 14937, 37091, 47967, 33959, 14825, 42605, 12131, 36789, 45824, 30716, 7563, 27259, 10959, 37756, 36798, 6075, 37318, 2253, 49385, 39066, 10574, 10753, 44226, 22453, 30603, 32237, 19875, 49040, 13231, 24442, 41905, 21856, 8587, 36354, 34610, 15069, 27811, 2660, 13164, 1532, 13856, 36166, 21190, 18392, 8068, 34292, 38035, 35786, 8350, 49325, 30933, 6407, 6032, 43002, 19082, 47081, 31019, 553, 48107, 2620, 47314, 7739, 892, 49396, 44011, 32305, 42688, 22773, 30810, 10727, 13552, 11836, 9325, 34362, 1915, 17685, 30357, 6323, 36756, 25716, 37492, 450, 13409, 31962, 13109, 10128, 41444, 3055, 20446, 40106, 18022, 31565, 33467, 9494, 44431, 42430, 27525, 24346, 23670, 26347, 35743, 47867, 27136, 14033, 33103, 19819, 5644, 42752, 47861, 28865, 26689, 43148, 29157, 16840, 14699, 10209, 30871, 4760, 1899, 10998, 21253, 21453, 23064, 18431, 7669, 48216, 49724, 17993, 34298, 39353, 39003, 21308, 50099, 24859, 32133, 49299, 21568, 33208, 14922, 6013, 37793, 43960, 5883, 26770, 23561, 21130, 22208, 39785, 22632, 30017, 1671, 18940, 42761, 4204, 5432, 24637, 49489, 4378, 35864, 27896, 99, 13117, 26235, 36623, 46334, 36130, 42117, 45299, 6061, 46901, 4177, 12887, 27556, 41924, 3541, 570, 7616, 38478, 29060, 8517, 20197, 38501, 17958, 34683, 6123, 42743, 14903, 12054, 41540, 4735, 13307, 44314, 35818, 3463, 17394, 44800, 14070, 30008, 31993, 13358, 47346, 26313, 10932, 27762, 7176, 15780, 24889, 1802, 33536, 44145, 36771, 14492, 17074, 1541, 38511, 4699, 1194, 37637, 45509, 34555, 20004, 6762, 27175, 41378, 6437, 3421, 38091, 31971, 5776, 37838, 43530, 4304, 42148, 13526, 28055, 38031, 43296, 14293, 24049, 34433, 39819, 29392, 8589, 6353, 16089, 11802, 18082, 31906, 30348, 27803, 558, 26295, 12846, 18973, 31954, 21184, 48323, 28301, 3238, 19283, 24994, 11403, 5316, 36465, 42000, 15418, 31285, 1323, 17804, 8377, 20986, 38915, 41653, 24133, 8386, 3032, 18334, 11496, 26289, 7514, 44989, 41134, 47111, 35038, 17885, 33900, 11972, 43944, 2661, 49596, 50086, 20604, 26279, 37112, 22924, 21834, 22743, 19677, 8716, 35980, 10229, 28809, 4493, 23318, 19782, 15282, 31879, 16369, 42694, 17230, 20667, 7021, 49130, 29432, 3570, 30837, 4419, 32416, 15456, 1885, 7731, 27818, 18000, 28346, 15535, 41539, 43011, 42698, 29967, 9255, 9161, 38402, 41245, 7886, 39269, 33161, 31920, 746, 16954, 30865, 34763, 28122, 13369, 29350, 8075, 11228, 1065, 37044, 15967, 17701, 13091, 5721, 33701, 22610, 45827, 6992, 21742, 9290, 42046, 20531, 36629, 4345, 10772, 5275, 27602, 9318, 22890, 31822, 45044, 1909, 34395, 13624, 16471, 8026, 1142, 17824, 5649, 35727, 46603, 26485, 21935, 23728, 42427, 26513, 34790, 38355, 27041, 22922, 30195, 32354, 16991, 26218, 3181, 17228, 44741, 28729, 46682, 45598, 32748, 24456, 4044, 28425, 44108, 3030, 12954, 24151, 9228, 9213, 4521, 41865, 10562, 28212, 38534, 45942, 1233, 36600, 38535, 11175, 29403, 49202, 19602, 2970, 48977, 27795, 2236, 23169, 25765, 49875, 40401, 15841, 21188, 5698, 3192, 3868, 40591, 48520, 16386, 9117, 355, 4833, 44013, 3034, 47895, 40478, 17442, 16010, 10951, 19289, 23131, 37118, 27498, 18266, 43976, 35094, 10506, 32810, 6319, 2608, 6100, 16551, 28991, 28612, 19944, 2805, 23675, 33152, 21280, 22702, 36188, 20480, 22423, 30804, 26829, 36026, 7181, 180, 2386, 15379, 20512, 44589, 8691, 21042, 20428, 25999, 3989, 28438, 40876, 45363, 34844, 24590, 22768, 2891, 11529, 27171, 44499, 29460, 29464, 11123, 3910, 38007, 8286, 19420, 48772, 38575, 29223, 46862, 20772, 36829, 21979, 17285, 46325, 42967, 48472, 42316, 7151, 1251, 5513, 11767, 24783, 1767, 4741, 24488, 6953, 49518, 29009, 31483, 49866, 16651, 14966, 44467, 39333, 14911, 43503, 4677, 7524, 20941, 42937, 23748, 49131, 1439, 4872, 48303, 3766, 13537, 35641, 15473, 47586, 46886, 24576, 13648, 30160, 34469, 17292, 19619, 6817, 34459, 12981, 28581, 29888, 10016, 44288, 16427, 33289, 14085, 37293, 49496, 1454, 12690, 42741, 34898, 47923, 11679, 19548, 7098, 40639, 12624, 28883, 31635, 27353, 23857, 27405, 17740, 29391, 777, 48948, 45592, 45055, 45801, 2973, 537, 45065, 28917, 3717, 12100, 36322, 46885, 25713, 6980, 34434, 38950, 33682, 16232, 18096, 7721, 27702, 35218, 16302, 2321, 35461, 32623, 13941, 37529, 11335, 3246, 23213, 565, 10144, 23047, 18834, 49486, 18531, 20674, 40598, 25219, 48176, 40212, 4432, 13024, 909, 47902, 39355, 30561, 9094, 25729, 17065, 39863, 44222, 337, 36672, 30542, 17338, 19809, 25042, 17262, 17823, 9365, 20644, 8603, 17175, 29613, 27659, 30448, 17151, 16395, 8818, 978, 13142, 44459, 36822, 37874, 12827, 33158, 48423, 26594, 48639, 22347, 5760, 47493, 17130, 41070, 38255, 38089, 19893, 1665, 5142, 46659, 32435, 38254, 15255, 35760, 49218, 36927, 21873, 36775, 45539, 35315, 6337, 41140, 41495, 5522, 22433, 34019, 23257, 5128, 48729, 7908, 49187, 21138, 10330, 19710, 39677, 15898, 48257, 13301, 45591, 49614, 36706, 23066, 48397, 15119, 45941, 44418, 11255, 35446, 42795, 30201, 23673, 41729, 28276, 17539, 8530, 35606, 40469, 16122, 44473, 5650, 545, 12341, 45608, 49190, 22831, 24612, 46258, 43686, 31063, 34896, 42867, 9442, 8161, 45958, 22879, 5158, 40770, 4646, 13587, 26113, 3652, 32819, 2774, 19662, 35319, 36774, 15591, 38504, 19117, 33326, 34406, 15268, 41684, 30519, 4181, 43017, 8895, 37762, 33428, 8523, 15097, 1536, 17136, 9685, 46440, 22264, 23428, 46824, 18558, 25737, 20844, 26706, 31551, 8847, 44160, 50284, 105, 15024, 46779, 32973, 24939, 3612, 9576, 4823, 39764, 2180, 30775, 46296, 19553, 8296, 46438, 12251, 31475, 41339, 29349, 39875, 21428, 37300, 8008, 50111, 15346, 25435, 29534, 29374, 29510, 46064, 2237, 29148, 12378, 35649, 21976, 30652, 44453, 22687, 7083, 46165, 37219, 1926, 40798, 23905, 22690, 49803, 2486, 46987, 18739, 32112, 12486, 7179, 23183, 1676, 10839, 20489, 914, 8405, 38963, 14388, 40960, 12518, 46988, 12973, 2168, 32217, 49180, 3816, 12454, 31757, 24242, 40961, 48407, 46840, 42011, 27122, 18373, 23590, 14261, 21881, 32496, 47177, 1509, 3980, 10742, 11254, 13493, 45123, 43828, 16264, 24086, 45129, 38871, 5140, 29506, 41488, 17745, 46305, 18901, 37311, 11384, 35465, 49141, 21211, 30860, 37477, 29531, 21442, 34936, 5388, 20180, 31300, 36835, 48937, 41764, 15831, 43772, 976, 32300, 44907, 18684, 12874, 37981, 2011, 36067, 19787, 47473, 10609, 18499, 36726, 38572, 8545, 1010, 34868, 4077, 25680, 43149, 19699, 6895, 5921, 20088, 8969, 12123, 27724, 1341, 16158, 2936, 32165, 31323, 3347, 28148, 1445, 38215, 42359, 3398, 25995, 16127, 37095, 27924, 31972, 31430, 5956, 35003, 43052, 43306, 6862, 3086, 39039, 28595, 49670, 31736, 10021, 26831, 30457, 35692, 33681, 30673, 36526, 49755, 37138, 8983, 43315, 31316, 17369, 13886, 27102, 25323, 7921, 9974, 4453, 38116, 37883, 34152, 49301, 33738, 16612, 4501, 48073, 6721, 39557, 37401, 36396, 1933, 18253, 21913, 43199, 19983, 32430, 44865, 21196, 10977, 17561, 45450, 2217, 30123, 45669, 7831, 17260, 3588, 39919, 42448, 19269, 457, 22917, 28673, 24814, 40666, 24554, 48287, 20792, 2334, 24210, 10945, 34392, 43798, 37971, 30010, 5726, 19212, 47121, 6095, 48924, 12944, 34989, 7348, 17295, 41933, 40151, 25072, 48150, 4727, 30789, 29643, 13060, 43729, 23552, 27101, 4476, 30929, 26789, 49965, 22800, 49275, 41575, 40389, 1762, 42074, 36675, 44024, 18909, 24853, 23822, 37089, 21426, 48647, 33617, 15900, 44099, 3857, 13384, 40915, 47360, 12215, 35418, 2257, 39035, 42721, 1492, 50241, 29010, 37290, 24380, 6003, 6832, 21615, 24989, 38919, 31893, 20588, 31585, 31748, 13168, 3101, 35352, 37533, 38390, 17846, 31292, 48151, 19085, 42814, 958, 45757, 17830, 4315, 3317, 46055, 27168, 13427, 9734, 1389, 46826, 16282, 16925, 5952, 42203, 16109, 14521, 41455, 23002, 9478, 34353, 37466, 42672, 34189, 45420, 24304, 14389, 26253, 24610, 6257, 29614, 37863, 10555, 22386, 32264, 37415, 10050, 21819, 48089, 42497, 40669, 37262, 25176, 33337, 36697, 8439, 8229, 8968, 5745, 17609, 24723, 2490, 16273, 12031, 26003, 30821, 37735, 20024, 44051, 46450, 15759, 33459, 35266, 9605, 44320, 18443, 5889, 36099, 29032, 32442, 27163, 31552, 6284, 32179, 6867, 22112, 37961, 12326, 45370, 41692, 951, 22916, 42763, 364, 26201, 23424, 16248, 16682, 48527, 43489, 13003, 47823, 37271, 26077, 44829, 43724, 36199, 28401, 45458, 10654, 939, 39826, 48782, 34910, 32828, 28659, 35619, 9508, 6978, 42910, 24873, 23528, 44125, 39345, 50081, 19236, 8417, 34466, 17401, 26925, 49979, 25613, 29854, 31964, 33832, 34155, 6444, 41555, 45173, 35681, 15485, 10667, 48152, 5627, 8118, 9623, 6386, 47635, 315, 45116, 15636, 36473, 22539, 8665, 23928, 43110, 18388, 31825, 47713, 2073, 9806, 45390, 45981, 38620, 3548, 39956, 1516, 48188, 3852, 49464, 27380, 28766, 16272, 8014, 17257, 11059, 37382, 40914, 21450, 17507, 10446, 7473, 17499, 9181, 28332, 43381, 46481, 17076, 27627, 20539, 50178, 6460, 160, 22523, 15217, 6154, 13096, 29389, 4192, 13100, 13766, 47836, 539, 42357, 24377, 34644, 19724, 15442, 35424, 16584, 3426, 22485, 44538, 15249, 45001, 1512, 25310, 981, 26722, 20228, 2872, 29867, 23281, 33783, 31098, 31351, 26759, 47349, 18670, 12750, 26497, 47941, 45630, 13097, 3768, 18136, 14010, 14350, 24217, 43034, 45589, 37699, 5471, 166, 18624, 33278, 10234, 4694, 25502, 32201, 44849, 6438, 16605, 4769, 17947, 10454, 4759, 47866, 5996, 3380, 39542, 43163, 16403, 46653, 50034, 32966, 25243, 8738, 29628, 9992, 9843, 23544, 25327, 23350, 32351, 40332, 24505, 32851, 33842, 40989, 43257, 8480, 8533, 12869, 6772, 18134, 21608, 36413, 26125, 5998, 25695, 33552, 3716, 16135, 6277, 43647, 44943, 23597, 38760, 43735, 33611, 12645, 48494, 28316, 26195, 16231, 29178, 45879, 44888, 37755, 23403, 23269, 18917, 1871, 32740, 5918, 44583, 46581, 29579, 22662, 46313, 2454, 15422, 34088, 18594, 16472, 25817, 1614, 251, 19751, 18132, 24869, 37437, 33285, 41377, 10244, 14703, 19075, 6290, 21357, 50260, 27073, 27895, 36928, 10818, 37765, 29006, 27166, 38636, 34891, 13039, 4001, 42354, 22634, 42980, 46022, 37169, 47893, 34685, 19232, 35982, 6697, 45828, 10769, 30405, 36770, 11339, 1925, 34568, 36325, 12534, 12950, 3054, 28017, 4662, 18523, 38994, 5254, 20122, 31282, 26277, 41947, 221, 35504, 23077, 49779, 1147, 49006, 20360, 44992, 10990, 12636, 32390, 42091, 19670, 20767, 48363, 9658, 48400, 11999, 490, 6769, 4711, 47928, 14863, 21213, 38718, 46638, 44386, 8293, 20820, 12206, 46316, 39904, 11860, 6543, 25703, 34521, 9834, 6839, 45983, 34357, 20458, 22810, 10656, 7919, 17213, 3160, 50186, 2436, 11060, 27857, 6779, 11050, 13178, 49892, 5149, 17961, 32825, 36106, 36639, 23083, 21106, 25223, 2736, 42309, 1854, 19723, 12802, 40986, 7792, 44577, 49305, 34877, 12255, 29634, 27834, 35897, 28186, 22168, 39421, 37126, 46958, 3494, 44831, 29905, 22399, 7512, 46476, 34409, 20513, 27240, 40341, 15387, 47325, 44561, 30380, 29172, 9476, 23244, 49701, 29095, 11103, 256, 36, 29448, 19674, 15775, 5040, 32411, 2842, 49073, 3214, 49868, 15345, 16547, 34948, 41289, 30461, 46034, 49239, 30597, 38864, 10036, 16072, 42488, 4597, 44185, 44127, 11126, 20138, 4366, 34465, 47019, 37450, 25633, 5021, 38383, 44047, 18116, 37887, 36716, 4201, 32888, 5567, 33576, 12343, 1633, 49249, 46324, 32549, 25980, 36853, 3725, 15968, 35716, 30483, 9866, 38306, 47334, 25103, 4728, 3272, 47086, 30079, 20774, 27980, 34593, 29836, 4922, 26763, 8319, 6847, 3017, 37495, 17999, 24452, 49805, 125, 3223, 4399, 10567, 26671, 11652, 46585, 22794, 35537, 45061, 37353, 2188, 42603, 33054, 6943, 901, 2415, 6765, 44713, 8331, 4749, 41459, 10692, 1231, 25184, 29452, 42484, 22834, 9656, 32271, 20589, 48663, 29852, 36164, 46461, 30242, 21971, 39293, 9411, 11269, 20226, 26268, 43668, 47770, 38100, 23988, 24722, 46193, 38400, 2877, 17649, 22642, 39579, 6628, 41279, 12814, 8466, 28034, 46158, 39384, 23605, 22854, 7203, 27066, 8245, 49977, 38165, 26039, 14494, 23885, 49626, 17910, 2320, 17884, 28847, 42362, 38318, 10167, 34243, 2975, 22183, 21415, 8553, 32301, 36714, 1375, 8963, 16429, 45772, 42567, 5327, 26225, 8756, 14893, 47488, 49397, 7755, 34512, 23498, 11480, 42073, 1164, 13353, 26293, 50212, 21070, 8306, 41299, 21566, 28978, 23714, 44744, 7794, 24221, 5500, 22010, 45199, 39499, 36012, 3994, 47241, 15772, 27759, 27596, 46390, 38131, 47033, 12670, 48721, 46192, 50011, 21398, 30315, 48708, 25307, 29907, 5658, 46342, 4925, 35408, 17673, 45686, 12164, 16870, 37494, 21904, 43406, 1191, 49369, 35325, 44134, 29737, 38483, 6902, 49140, 18927, 16078, 4960, 23658, 19202, 11490, 14345, 42678, 22355, 2643, 38479, 2470, 37257, 45566, 48881, 9846, 709, 26854, 4571, 32860, 5358, 7593, 22635, 42246, 7704, 41188, 38146, 45597, 2019, 26895, 6058, 43065, 38893, 826, 6146, 3156, 4665, 2439, 7332, 12344, 16337, 9184, 31116, 45500, 8316, 34397, 45257, 685, 36314, 45666, 17094, 35355, 23694, 4145, 20271, 45035, 9744, 36005, 28318, 32885, 41528, 21356, 40358, 39634, 17283, 15637, 21177, 9714, 1523, 2899, 46554, 16695, 17299, 19894, 43357, 10030, 28066, 46455, 5761, 24244, 18099, 11655, 38287, 24922, 35001, 35828, 45135, 34669, 29567, 41492, 39335, 14287, 14784, 6516, 7479, 48, 43981, 46099, 28535, 1158, 36031, 40659, 43020, 6451, 31070, 5855, 31354, 38799, 43546, 49495, 15955, 12310, 1296, 12286, 44932, 17633, 44223, 49064, 40178, 19241, 19712, 14820, 7235, 310, 41773, 19064, 42365, 32562, 18821, 27115, 47399, 16157, 45478, 40255, 50148, 4614, 25272, 39965, 27071, 43521, 42375, 9179, 18025, 3732, 22143, 11629, 37399, 33220, 24002, 38732, 23311, 18411, 8297, 14134, 41813, 574, 28297, 10566, 43317, 27050, 20839, 39478, 4032, 29835, 22028, 8841, 44869, 32407, 3332, 38235, 14128, 34842, 3013, 30663, 19904, 45884, 38009, 46569, 14595, 48587, 9870, 40388, 19468, 38711, 32490, 46077, 27776, 24711, 14788, 14826, 8036, 15398, 4425, 27244, 44954, 21587, 20635, 29207, 34999, 10299, 33818, 44615, 5797, 24878, 3138, 42366, 44292, 34204, 6300, 43557, 11966, 29189, 44022, 10461, 49467, 16567, 2738, 21072, 49591, 5869, 39800, 37504, 32906, 38867, 48256, 22048, 6488, 49191, 46459, 26646, 6161, 39680, 6530, 4936, 3552, 26672, 43805, 6638, 45386, 21589, 45577, 31056, 36256, 40870, 2295, 14288, 29586, 10123, 25653, 23897, 68, 12113, 29793, 2129, 23381, 14027, 25422, 44038, 19401, 43352, 2923, 5879, 42267, 15761, 49736, 41658, 22351, 5849, 47935, 39466, 6231, 19943, 22943, 4882, 27456, 48560, 21032, 30089, 30060, 22438, 15747, 23243, 6989, 35376, 3799, 18713, 10169, 4197, 38195, 33320, 24328, 41453, 35116, 42042, 39331, 12742, 43568, 1627, 13487, 6961, 26338, 23118, 18580, 10674, 30014, 46360, 24038, 12733, 16631, 21782, 45578, 34143, 12346, 48008, 35403, 4151, 7422, 49553, 10673, 2952, 20000, 48553, 26843, 33672, 9472, 20548, 46593, 30275, 32450, 43243, 18223, 33413, 36407, 34596, 36177, 37258, 43793, 27919, 45595, 35360, 36138, 738, 47783, 30776, 43884, 49391, 35506, 16381, 45939, 22159, 26319, 15308, 27515, 26430, 28577, 14053, 15568, 8626, 34749, 8061, 4664, 8640, 34554, 11790, 39148, 18693, 41724, 29198, 1358, 4268, 48887, 34719, 36791, 2766, 1656, 28243, 32726, 21686, 36114, 1771, 48356, 17833, 22805, 22470, 18798, 37416, 43206, 573, 13101, 16704, 23923, 38077, 7080, 19219, 19756, 1334, 4643, 38178, 38922, 33760, 18709, 14036, 26028, 22736, 30999, 10710, 47245, 31921, 1803, 11676, 43627, 20871, 30313, 2967, 40180, 45229, 21981, 35335, 43933, 40731, 41218, 3924, 48254, 38210, 32013, 35291, 22498, 37435, 4907, 19512, 30987, 22568, 27559, 37421, 40489, 14109, 37454, 23524, 31497, 49740, 8366, 45623, 20705, 47456, 6928, 8139, 46209, 7807, 48807, 26140, 8287, 12964, 47461, 25882, 26409, 49425, 10814, 37962, 3925, 27299, 43024, 17865, 35005, 34329, 22418, 19253, 17792, 39658, 32940, 15581, 11861, 44916, 37456, 1275, 3810, 31381, 19533, 1005, 14873, 36463, 29251, 43970, 48092, 913, 6689, 1898, 35090, 29413, 12257, 1267, 910, 31238, 41467, 14119, 46626, 31355, 1256, 38469, 4242, 27192, 30509, 36974, 31855, 37779, 17557, 25421, 27126, 2740, 16990, 27710, 35687, 33502, 27714, 47516, 49551, 17078, 15973, 35399, 9415, 21554, 13527, 20381, 11085, 47806, 7356, 43634, 34499, 8637, 3232, 27303, 47060, 7199, 9982, 35653, 17928, 14373, 4503, 49799, 7566, 24501, 49155, 33270, 28666, 18406, 26014, 765, 15098, 16338, 5282, 3033, 3075, 13879, 29759, 6885, 14452, 26330, 6540, 28442, 29088, 20922, 6722, 19076, 45596, 16847, 48813, 24577, 8182, 49380, 14601, 26872, 48166, 16420, 7135, 9682, 23962, 7498, 24598, 12718, 18888, 13166, 8829, 16888, 27297, 36728, 27666, 24911, 44348, 40549, 4789, 31634, 17627, 38308, 29681, 2476, 30854, 39078, 45607, 7132, 21736, 32759, 28840, 43105, 34843, 49554, 7809, 36668, 27279, 16917, 4138, 40527, 19498, 36332, 34428, 9741, 22573, 40619, 14323, 49514, 49539, 35282, 1972, 26212, 32568, 14051, 27086, 47459, 14571, 8678, 6787, 22860, 8019, 14657, 11250, 27513, 14340, 34149, 12803, 46330, 44581, 40370, 11363, 2911, 28111, 14440, 45593, 45891, 44245, 24283, 35040, 26661, 38337, 44221, 34350, 19557, 12409, 13877, 46365, 35853, 36784, 32805, 16693, 19406, 40245, 38037, 17444, 37154, 21088, 17616, 25640, 41634, 20242, 12564, 6212, 14003, 10230, 6798, 41239, 20151, 36581, 4890, 22555, 12744, 11314, 47464, 50248, 46632, 6436, 34367, 49415, 25534, 6104, 32057, 36838, 32869, 15847, 21936, 29514, 1955, 41500, 42254, 27357, 5469, 26470, 19049, 43991, 49787, 27097, 2706, 3917, 5204, 25313, 24075, 39593, 5929, 8264, 7018, 30296, 27495, 12638, 14083, 47101, 42349, 17240, 18294, 16437, 10217, 10119, 38771, 27184, 40265, 35787, 7699, 15450, 9951, 16288, 36504, 41348, 7153, 12394, 43821, 35739, 3278, 39207, 3234, 9947, 6134, 6283, 22037, 49428, 17191, 45662, 46167, 3114, 16734, 6848, 44747, 37369, 5485, 50232, 30754, 48919, 31409, 47788, 42800, 7406, 32473, 5777, 17771, 26428, 34514, 43691, 14456, 36125, 2846, 5094, 37696, 16904, 16822, 963, 44491, 38030, 11032, 40269, 28957, 31535, 42728, 32633, 1726, 204, 39805, 18625, 41807, 9115, 16883, 32977, 49588, 8034, 8281, 7117, 37928, 36261, 44428, 32229, 46761, 35717, 6648, 12433, 22106, 5231, 22864, 40304, 33971, 26546, 11911, 37601, 5483, 42637, 17856, 40376, 16064, 15640, 50230, 6876, 27005, 30551, 27364, 253, 7509, 13935, 40604, 38276, 38969, 10657, 26165, 46792, 13004, 7997, 19454, 41547, 19637, 23780, 8693, 24569, 20793, 31580, 37710, 14849, 9552, 38926, 8007, 33855, 26119, 14223, 696, 28915, 36979, 49828, 16184, 39124, 26835, 42953, 2373, 25140, 37919, 24424, 22102, 47068, 39857, 13636, 44246, 49928, 35516, 47737, 46376, 31267, 29832, 6457, 48510, 33180, 39836, 18147, 43097, 16522, 28661, 32111, 6796, 17064, 9822, 34286, 19321, 23442, 46572, 37509, 16258, 20110, 47544, 9107, 21938, 37989, 49145, 30826, 1542, 44622, 30006, 50283, 33335, 35634, 15227, 4558, 14545, 33111, 36041, 15247, 28634, 13122, 46231, 21492, 41168, 5789, 26521, 31520, 36546, 16802, 25394, 28872, 30996, 8925, 26970, 26989, 46154, 19412, 24170, 38533, 21383, 13680, 18858, 2731, 47319, 12798, 27725, 18291, 33825, 21479, 31852, 42788, 27198, 11785, 27402, 44554, 19997, 30800, 44627, 45513, 42540, 45180, 17339, 47042, 28543, 34043, 48462, 9931, 32230, 43628, 20946, 33493, 6199, 7064, 823, 14030, 21199, 30924, 47484, 48612, 26605, 36036, 4852, 41129, 25843, 33732, 7009, 46202, 15070, 13876, 11742, 47550, 24490, 45149, 7022, 22046, 26654, 44265, 41887, 6433, 49054, 36932, 10573, 34885, 8822, 17966, 48978, 19488, 25290, 1391, 3428, 25120, 22469, 3514, 30608, 5047, 6248, 13272, 38618, 30889, 8536, 45642, 12751, 1779, 47561, 18179, 22323, 21623, 42223, 41259, 7565, 44253, 14881, 25675, 29077, 34746, 41094, 46488, 17573, 38357, 22258, 48422, 46050, 45151, 49608, 29085, 34036, 29218, 6813, 27310, 13752, 7701, 41956, 39425, 14812, 34373, 41589, 35903, 7453, 13494, 8917, 49203, 36529, 15750, 42003, 17462, 34307, 31525, 5572, 35751, 21433, 18067, 6783, 49087, 20736, 47601, 44838, 36867, 16596, 9096, 39474, 45482, 4933, 38606, 34061, 2963, 15487, 36590, 30882, 26327, 18578, 10957, 13804, 22788, 34572, 6571, 47028, 31361, 31012, 15580, 21656, 44922, 12313, 47000, 7202, 9873, 10799, 6998, 39073, 12045, 14332, 30290, 37776, 4746, 30324, 36619, 27377, 48198, 27805, 24992, 194, 1611, 44217, 30132, 3218, 48872, 28177, 14797, 49852, 39415, 41738, 46788, 46579, 22056, 32129, 12159, 11718, 11080, 24960, 3753, 22561, 40565, 11328, 35974, 2149, 37322, 26729, 29865, 24186, 18769, 45340, 35683, 29208, 23669, 11347, 10853, 27851, 10071, 34882, 48658, 18155, 6656, 24373, 48056, 39402, 36551, 43189, 49270, 34944, 20684, 40072, 21741, 25494, 32802, 25430, 17448, 43268, 12879, 17888, 33964, 4210, 44753, 38748, 22308, 48274, 30856, 31898, 33356, 11048, 14419, 19776, 45830, 37977, 31352, 32512, 17288, 5668, 26441, 1420, 17588, 18613, 21260, 33060, 7074, 38604, 33048, 41337, 18812, 30395, 40804, 31011, 7529, 11094, 42611, 42902, 5152, 32238, 15385, 45699, 22775, 25299, 38180, 46721, 16823, 110, 22131, 15234, 35776, 24849, 10558, 13367, 18055, 14561, 4257, 37010, 16156, 39251, 15743, 36246, 44685, 28475, 49697, 39186, 27796, 28130, 18517, 29003, 1944, 49416, 36393, 23280, 43878, 27870, 25367, 15830, 29273, 12598, 1140, 50058, 28522, 32020, 3289, 32602, 32862, 23826, 2985, 49170, 18457, 27520, 45088, 25916, 49894, 37726, 43401, 37195, 13411, 18986, 8046, 16016, 41633, 3137, 1167, 12783, 37761, 26848, 26328, 39125, 29837, 19058, 4238, 17577, 28314, 36517, 7546, 49936, 20344, 9692, 17922, 5606, 3595, 42922, 2719, 49042, 23247, 33707, 3141, 2758, 48207, 43064, 13182, 37784, 47385, 28635, 15821, 47566, 1189, 5936, 39891, 17470, 14247, 38445, 24776, 46141, 46525, 40053, 21918, 45904, 3823, 12398, 11754, 45835, 8471, 28709, 9871, 19298, 42575, 16636, 47623, 48438, 43760, 17045, 39133, 17026, 1936, 1820, 39916, 46367, 22371, 23516, 33050, 37600, 49679, 13629, 27419, 43527, 16863, 691, 29419, 50145, 23189, 2131, 19709, 26893, 21044, 32059, 49971, 7047, 29281, 34623, 13808, 42957, 17813, 37894, 30607, 26362, 47777, 5638, 41768, 23810, 29325, 33307, 8236, 25604, 11204, 33891, 4094, 40481, 5449, 682, 25857, 23646, 45062, 12350, 39153, 3153, 35059, 28884, 19950, 10090, 47720, 41776, 46257, 39905, 18058, 30068, 8463, 38301, 22939, 32738, 27504, 27172, 9020, 45465, 40384, 8634, 27361, 8669, 40718, 15044, 4619, 43648, 40189, 48565, 16747, 36394, 38836, 34228, 4405, 27549, 18497, 17280, 12241, 2666, 46232, 37900, 130, 38545, 47927, 2071, 26311, 49721, 8203, 34680, 11088, 5731, 23252, 22249, 44949, 1144, 36782, 20192, 19240, 755, 11515, 21547, 23032, 21674, 32651, 11195, 29869, 48592, 37428, 37352, 10289, 8600, 24011, 48024, 39240, 33189, 3122, 11458, 31514, 27269, 18284, 31326, 8117, 17087, 7570, 19164, 10744, 25538, 46267, 22515, 22962, 10647, 12925, 34713, 34393, 44498, 30943, 9413, 21191, 10294, 384, 15966, 32452, 8857, 39195, 15324, 34198, 36080, 31239, 47540, 18175, 7900, 27655, 23746, 46752, 11015, 27483, 16943, 25199, 27496, 37701, 39358, 25054, 4188, 9262, 16838, 49084, 2679, 33537, 7317, 36069, 9872, 22407, 5534, 50027, 46731, 45574, 19218, 41940, 4508, 48682, 37212, 17117, 47850, 49654, 45638, 22876, 36713, 45905, 35298, 22178, 30555, 13843, 35936, 27453, 13116, 15334, 286, 3135, 48979, 15276, 20695, 43154, 8923, 27291, 5985, 18220, 8, 43367, 50277, 37803, 8758, 14, 18050, 13155, 17734, 3746, 32181, 6947, 11321, 17530, 32363, 33453, 39220, 9039, 43122, 39572, 38453, 18237, 26948, 24678, 13838, 9321, 14106, 12182, 33693, 12103, 1175, 19840, 6234, 13008, 33086, 40508, 31016, 12634, 43044, 34159, 38273, 14958, 1449, 35522, 45454, 44875, 23842, 27427, 30902, 36320, 17312, 25328, 29795, 26020, 23461, 17454, 44961, 49137, 28786, 20032, 42580, 44154, 26126, 42337, 38694, 36475, 34380, 35451, 29092, 24163, 30975, 44438, 30051, 4784, 25693, 6326, 16852, 24695, 36427, 32021, 46905, 42399, 12314, 2827, 18797, 1663, 22945, 37104, 2560, 8171, 6341, 20073, 12330, 18030, 48127, 49136, 17146, 40418, 44545, 23267, 26085, 15551, 13238, 48346, 9618, 47731, 5144, 26374, 5670, 5578, 35127, 36089, 9624, 2017, 22117, 32196, 31818, 5845, 8825, 20527, 8907, 34464, 18407, 4638, 45518, 25001, 48433, 10747, 8586, 21685, 34278, 11095, 15363, 39229, 6113, 42208, 5802, 39948, 882, 12866, 36340, 44252, 33222, 39460, 4644, 36864, 47125, 47417, 39986, 3462, 23307, 18166, 2085, 891, 3111, 48411, 18011, 22707, 24603, 32135, 23034, 5592, 24467, 18756, 41538, 30624, 19096, 1847, 11648, 35590, 42525, 4810, 40600, 17548, 43287, 20182, 9968, 37718, 43432, 37946, 38385, 26305, 13678, 30678, 19594, 47805, 28599, 29799, 18943, 23723, 24205, 16766, 39330, 35851, 27657, 19472, 41755, 46998, 17570, 41842, 34529, 30833, 47412, 19931, 43437, 8956, 31324, 15794, 45404, 34225, 33042, 12839, 29794, 8032, 42680, 49572, 18094, 21709, 46936, 41823, 41522, 32964, 49485, 34377, 23447, 38144, 48643, 40570, 8025, 9430, 45936, 21603, 10873, 26934, 18922, 9937, 20566, 31583, 37671, 12270, 40805, 11344, 7605, 2267, 45643, 14877, 20836, 39817, 45517, 49855, 39321, 18363, 49487, 492, 43078, 14743, 20945, 29314, 46049, 3266, 30879, 7624, 35050, 42892, 44877, 42986, 2181, 35517, 39544, 21678, 40590, 45815, 10285, 9727, 49926, 11447, 29713, 10020, 407, 23165, 26693, 6622, 23263, 9128, 16243, 42523, 38269, 46814, 22394, 42215, 11406, 21224, 34673, 12198, 46431, 27315, 19155, 11912, 1601, 5591, 6110, 17407, 30067, 35242, 17219, 31496, 41620, 22563, 33181, 9920, 38838, 17182, 7438, 25308, 20664, 17923, 4169, 8992, 48801, 14186, 4653, 3815, 35420, 22728, 17132, 27679, 48350, 25719, 19081, 19711, 43608, 43472, 11074, 1098, 17058, 17428, 26185, 36187, 9935, 14575, 13049, 41891, 9118, 44115, 4816, 14498, 12778, 4830, 12447, 26620, 43006, 31151, 22277, 23086, 38071, 15577, 18279, 48413, 35780, 42831, 48741, 47413, 17325, 30983, 38550, 16285, 12938, 47278, 28939, 30188, 42669, 22129, 30406, 2961, 12485, 44334, 29968, 2615, 8278, 45855, 25978, 26902, 24541, 27452, 16056, 45217, 42126, 14371, 35770, 49641, 15660, 33982, 38199, 32246, 11202, 20323, 36167, 22511, 10164, 36965, 30090, 59, 29604, 4272, 4787, 43338, 16034, 29733, 33918, 49640, 45078, 14641, 19539, 5212, 2302, 5859, 36024, 25280, 46986, 13441, 22367, 35250, 8987, 29631, 39443, 24022, 33095, 33341, 43929, 27605, 38484, 40251, 44974, 19999, 41450, 32189, 31735, 37913, 27647, 31204, 38593, 38177, 26844, 38403, 27100, 49842, 5988, 37283, 14020, 22679, 31951, 29243, 24996, 29872, 44534, 30050, 20190, 17455, 9715, 1894, 43086, 27947, 5539, 2910, 38774, 16424, 27030, 35916, 38094, 44187, 35199, 26962, 26503, 33555, 40563, 33632, 8107, 10222, 48529, 31072, 21097, 6741, 42397, 19192, 30912, 44602, 2428, 7474, 36813, 37301, 5510, 44375, 12581, 36683, 29068, 42260, 28459, 25537, 28453, 42212, 10880, 16955, 42386, 35917, 12683, 11031, 8776, 4788, 24070, 12828, 17837, 19436, 46272, 31698, 14807, 39725, 12285, 46748, 5980, 10787, 46720, 45921, 486, 2818, 11622, 31864, 45374, 35134, 13897, 14977, 23328, 38013, 11834, 20602, 19378, 43300, 28041, 9065, 39103, 13468, 48582, 38259, 30896, 39376, 38592, 23598, 3128, 33589, 34907, 42776, 49557, 21373, 29205, 27077, 13439, 34183, 30379, 17896, 19432, 8498, 2465, 37186, 14956, 167, 28378, 13445, 14391, 2808, 34301, 45549, 327, 5003, 49963, 13332, 23132, 19536, 8972, 28100, 8266, 44259, 16361, 9485, 13614, 48707, 12591, 34640, 11248, 7696, 5048, 3610, 12269, 674, 19579, 45569, 8974, 6586, 2478, 45605, 15480, 43740, 23127, 40846, 30469, 15933, 25751, 37627, 13136, 14976, 16821, 48001, 17024, 38436, 21409, 22887, 1986, 40721, 37277, 1921, 37578, 36971, 36768, 49544, 42612, 14989, 9972, 43957, 49732, 42250, 18281, 46777, 23992, 2274, 26938, 21286, 9533, 9687, 5994, 24799, 20468, 31645, 40488, 11434, 19592, 14687, 31978, 17169, 34540, 12892, 38064, 7585, 25119, 41758, 20552, 10808, 47521, 5178, 8548, 1344, 29625, 41110, 32957, 39417, 46635, 39266, 12993, 4682, 5463, 40156, 1038, 23862, 15504, 20459, 1165, 20205, 40188, 22988, 26022, 19742, 23890, 4234, 16317, 19606, 22227, 25597, 38251, 34210, 4085, 34391, 6887, 37404, 35757, 17606, 43602, 43310, 2656, 49493, 32253, 39136, 5796, 5208, 12249, 32600, 39348, 44576, 8869, 3851, 29539, 24862, 6156, 270, 9307, 9291, 23892, 10845, 46703, 14361, 31209, 17438, 14802, 9625, 23084, 24027, 12029, 4280, 29254, 14603, 17106, 4888, 42539, 47303, 41797, 17880, 23533, 20585, 38839, 37682, 2880, 26945, 16846, 37390, 11096, 32709, 30173, 26964, 41913, 27060, 18202, 33179, 17145, 32714, 44287, 1070, 13592, 33623, 18468, 49904, 45907, 30659, 5320, 30994, 24823, 9402, 45696, 34832, 31253, 42377, 38081, 48755, 33145, 4683, 5905, 2208, 34718, 1419, 44664, 1482, 40113, 24802, 34821, 37862, 2667, 26197, 3083, 4529, 17183, 39556, 23878, 9519, 2804, 45422, 13939, 38841, 30568, 7241, 27874, 37730, 35705, 20677, 36007, 19645, 33957, 18401, 39713, 4190, 30713, 45385, 10605, 6280, 37543, 4068, 6747, 4063, 31248, 3233, 1013, 38949, 6850, 10255, 21839, 20530, 30566, 47877, 23563, 17839, 2, 4573, 40096, 30278, 13212, 38139, 20738, 15148, 21, 10007, 28338, 27541, 17062, 20179, 35312, 14166, 27984, 18796, 9630, 34716, 40558, 32688, 47696, 50282, 26037, 32863, 24364, 38577, 35954, 6102, 16770, 39023, 26764, 38837, 22784, 23696, 33650, 29944, 28489, 41625, 20789, 17779, 50246, 13186, 44216, 47295, 9141, 28132, 24898, 10356, 8918, 12572, 17667, 23569, 20041, 44437, 29168, 36421, 26850, 1775, 14278, 5412, 27013, 49959, 19729, 12459, 12667, 25180, 33902, 14175, 48341, 9342, 13504, 47560, 26141, 10341, 10584, 13228, 37906, 29286, 44070, 40801, 31432, 15686, 39442, 4401, 8584, 37667, 2565, 24540, 31334, 14055, 14574, 3579, 20739, 22454, 12553, 20653, 48595, 38200, 6160, 26453, 18968, 44391, 48369, 37652, 14978, 38658, 8763, 21127, 31190, 31814, 16245, 24273, 46967, 39932, 41960, 24586, 16974, 44332, 19706, 1152, 49148, 29355, 48205, 2993, 41350, 50156, 26427, 48540, 7528, 4159, 38542, 35871, 47745, 5326, 18061, 15799, 17902, 6399, 25269, 33232, 42037, 23960, 43368, 32357, 35693, 41777, 5159, 4635, 45463, 6505, 1245, 40505, 13171, 32295, 23753, 45764, 36972, 42384, 5265, 2072, 26393, 19332, 13914, 27944, 17296, 15919, 11342, 48976, 36156, 38198, 2468, 49442, 47723, 16118, 13514, 38176, 42076, 49537, 2357, 37103, 11217, 14138, 45851, 30493, 17330, 9490, 11070, 20902, 35431, 9004, 20241, 4948, 21917, 48416, 23496, 2399, 12651, 7548, 34188, 26215, 45378, 44481, 25901, 6490, 3464, 22723, 43769, 4626, 23611, 1785, 28990, 25951, 24679, 13747, 29405, 36869, 28637, 20172, 17797, 4869, 49472, 11509, 11522, 37565, 12570, 6207, 27637, 43482, 40263, 34107, 15283, 16059, 18835, 22213, 10380, 8948, 41699, 32735, 39363, 24371, 43233, 27458, 48421, 40567, 28137, 5481, 2726, 18321, 4341, 24418, 19675, 16080, 2782, 47611, 20496, 26618, 49132, 11283, 7822, 30819, 1522, 24500, 48853, 24138, 49248, 31148, 40609, 32579, 34964, 36097, 45157, 22623, 40618, 47549, 27838, 29057, 1964, 16728, 10268, 17112, 4011, 46359, 41207, 14378, 2759, 22286, 12837, 33227, 16367, 42704, 20294, 27197, 14793, 24192, 49653, 16483, 14550, 29597, 16977, 27124, 5202, 22283, 28167, 15954, 417, 7032, 47577, 3589, 2980, 38070, 34887, 44240, 3710, 26958, 16632, 26638, 25195, 21755, 26011, 34023, 29635, 49824, 2087, 31848, 19046, 23303, 11553, 12250, 2484, 1506, 22938, 32695, 40231, 37964, 39392, 40032, 33976, 3625, 41713, 3381, 22164, 25921, 34817, 19903, 18419, 21422, 31723, 6465, 36240, 24447, 30735, 48009, 37770, 14617, 21494, 17022, 26129, 1578, 32070, 15177, 19228, 36525, 39137, 43195, 40399, 28620, 12937, 647, 25560, 11252, 26510, 26710, 22104, 39816, 27781, 14250, 21416, 48312, 31618, 29621, 6224, 9577, 45946, 18367, 39105, 32597, 14846, 22012, 13987, 28569, 25271, 45674, 6163, 42391, 24705, 10898, 18752, 43552, 47194, 49666, 26053, 27368, 8683, 368, 48114, 24050, 2668, 9113, 32813, 9717, 45022, 17023, 35594, 36064, 11468, 48685, 15176, 38781, 45668, 35700, 9467, 16370, 17453, 39888, 42442, 10368, 8449, 40347, 4729, 18592, 50036, 6005, 16754, 10722, 40836, 48826, 38378, 46531, 42913, 46017, 46794, 18327, 42524, 32054, 10065, 14663, 34012, 20563, 4446, 19336, 17352, 18884, 34773, 16627, 9376, 39822, 46953, 21585, 41642, 24379, 25151, 3102, 47210, 12609, 10418, 21737, 19094, 16146, 24482, 50044, 35730, 41830, 7547, 43247, 16203, 24351, 13721, 19721, 3500, 43130, 34390, 29875, 26045, 49598, 38112, 40133, 40240, 15484, 11617, 40102, 29016, 32102, 19696, 11139, 23126, 736, 3393, 48973, 37563, 42296, 14669, 14279, 41284, 23848, 4715, 35869, 20728, 6667, 49008, 49212, 28597, 20606, 37247, 20663, 3315, 29293, 27773, 31716, 36364, 15180, 26834, 18089, 20162, 41045, 13237, 45538, 22877, 32083, 45883, 13087, 32049, 49957, 32097, 31537, 22780, 13944, 28837, 27968, 6602, 21319, 9393, 46318, 28050, 32035, 41156, 2113, 43031, 12949, 2866, 2904, 4504, 50236, 11899, 8884, 4806, 40035, 39861, 24516, 48508, 24330, 34042, 32262, 30481, 11817, 33297, 7475, 3947, 50265, 43589, 13206, 11955, 42650, 11560, 10130, 44596, 47841, 37714, 10265, 33072, 23271, 48934, 31996, 23174, 33870, 33128, 17834, 37760, 4519, 38624, 38363, 23882, 24592, 2525, 49579, 34590, 44765, 38944, 38373, 39637, 23614, 29241, 15055, 31505, 41662, 44739, 15610, 19014, 5240, 38371, 17955, 43459, 10447, 9530, 36802, 9139, 40994, 8111, 21118, 262, 3770, 49976, 20222, 18791, 41943, 49278, 13456, 35953, 4161, 1274, 33696, 24101, 20638, 46057, 6509, 12478, 22665, 15639, 18790, 2448, 9788, 23113, 19885, 38457, 8299, 11737, 5866, 20892, 47394, 44841, 1821, 48962, 5629, 7072, 10121, 6226, 38525, 2210, 15269, 2054, 8430, 35447, 28236, 31917, 47793, 12773, 41261, 31681, 44224, 21067, 41408, 27413, 18781, 25445, 19306, 49033, 17318, 1062, 2745, 34028, 42185, 41703, 40144, 41550, 42111, 13693, 17976, 13124, 1424, 5932, 40273, 11176, 38115, 31896, 4710, 43118, 22659, 38272, 33596, 973, 21907, 40824, 38209, 25154, 9382, 26972, 34862, 32345, 44523, 12544, 20248, 14637, 32881, 17382, 36358, 14240, 47035, 21924, 4742, 26615, 46509, 30658, 45285, 25913, 27092, 48193, 29892, 47680, 26342, 41645, 38449, 33975, 10525, 47652, 35592, 4165, 3966, 22157, 23647, 48153, 46233, 3847, 34796, 32729, 6287, 32109, 32840, 19813, 48020, 15756, 36634, 41106, 13990, 32155, 36904, 20814, 4783, 29760, 27069, 16404, 44570, 38924, 41630, 11921, 5249, 25886, 40662, 5395, 17036, 28491, 25030, 13437, 6568, 45235, 6967, 4363, 26412, 44442])"
      ]
     },
     "execution_count": 15,
     "metadata": {},
     "output_type": "execute_result"
    }
   ],
   "source": [
    "synthie_res.keys()"
   ]
  },
  {
   "cell_type": "code",
   "execution_count": 48,
   "metadata": {},
   "outputs": [
    {
     "data": {
      "text/plain": [
       "5587"
      ]
     },
     "execution_count": 48,
     "metadata": {},
     "output_type": "execute_result"
    }
   ],
   "source": [
    "eval_indices = list(set(synthie_res.keys()) & set(gpt_res[0].keys()) & set(gpt_res[1].keys()) & set(gpt_res[2].keys()) & set(zero_shot_gpt_res.keys()))\n",
    "len(eval_indices)"
   ]
  },
  {
   "cell_type": "code",
   "execution_count": 49,
   "metadata": {},
   "outputs": [
    {
     "data": {
      "text/plain": [
       "5000"
      ]
     },
     "execution_count": 49,
     "metadata": {},
     "output_type": "execute_result"
    }
   ],
   "source": [
    "import numpy as np\n",
    "np.random.seed(seed=42)\n",
    "eval_ids = np.random.choice(eval_indices, size=5000, replace=False)\n",
    "len(eval_ids)"
   ]
  },
  {
   "cell_type": "code",
   "execution_count": 50,
   "metadata": {},
   "outputs": [],
   "source": [
    "def convert(s):\n",
    "    return \"_\".join(s.split())"
   ]
  },
  {
   "cell_type": "code",
   "execution_count": 82,
   "metadata": {},
   "outputs": [],
   "source": [
    "target_texts = []\n",
    "first_step_texts = {i: [] for i in range(3)}\n",
    "first_step_unverified_texts = {i: [] for i in range(3)}\n",
    "second_step_texts = {i: [] for i in range(3)}\n",
    "second_step_unverified_texts = {i: [] for i in range(3)}\n",
    "zero_shot_second_step_texts = []\n",
    "synthie_texts = []\n",
    "texts = []\n",
    "\n",
    "for i in eval_ids:\n",
    "    texts.append(synthie_res[i]['text'])\n",
    "    synthie_texts.append(list(map(tuple,synthie_res[i]['output_texts'])))\n",
    "    target_texts.append(list(map(tuple, synthie_res[i]['target_texts'])))\n",
    "\n",
    "    zero_shot_second_step_texts.append(list(map(lambda x: (convert(x[0]), x[1], convert(x[2])), zero_shot_gpt_res[i]['second_step_output'])))\n",
    "\n",
    "    for num, res in enumerate(gpt_res): \n",
    "        assert synthie_res[i]['text'] == res[i]['text']\n",
    "\n",
    "        first_step_texts[num].append(list(map(lambda x: (convert(x[0]), x[1], convert(x[2])), res[i]['first_step_output'])))\n",
    "        first_step_unverified_texts[num].append(list(map(lambda x: (convert(x[0]), x[1], convert(x[2])), res[i]['first_step_unverified_output'])))\n",
    "\n",
    "        second_step_texts[num].append(list(map(lambda x: (convert(x[0]), x[1], convert(x[2])), res[i]['second_step_output'])))\n",
    "        second_step_unverified_texts[num].append(list(map(lambda x: (convert(x[0]), x[1], convert(x[2])), res[i]['second_step_unverified_output'])))\n"
   ]
  },
  {
   "cell_type": "code",
   "execution_count": 83,
   "metadata": {},
   "outputs": [
    {
     "data": {
      "text/plain": [
       "(5000, 5000, 5000, 5000)"
      ]
     },
     "execution_count": 83,
     "metadata": {},
     "output_type": "execute_result"
    }
   ],
   "source": [
    "len(synthie_texts), len(first_step_unverified_texts[0]), len(first_step_unverified_texts[1]), len(first_step_unverified_texts[2])"
   ]
  },
  {
   "cell_type": "code",
   "execution_count": 53,
   "metadata": {},
   "outputs": [
    {
     "data": {
      "text/plain": [
       "(0.8764598861435531, 0.8845060412224591, 0.8804645815523392)"
      ]
     },
     "execution_count": 53,
     "metadata": {},
     "output_type": "execute_result"
    }
   ],
   "source": [
    "precision = micro_precision(synthie_texts, target_texts)\n",
    "recall = micro_recall(synthie_texts, target_texts)\n",
    "f1 = f1_score(precision, recall)\n",
    "precision, recall, f1"
   ]
  },
  {
   "cell_type": "code",
   "execution_count": 74,
   "metadata": {},
   "outputs": [
    {
     "data": {
      "text/plain": [
       "(0.6572237960339944, 0.09618573797678276, 0.1678119349005425)"
      ]
     },
     "execution_count": 74,
     "metadata": {},
     "output_type": "execute_result"
    }
   ],
   "source": [
    "zero_shot_precision = micro_precision(zero_shot_second_step_texts, target_texts)\n",
    "zero_shot_recall = micro_recall(zero_shot_second_step_texts, target_texts)\n",
    "zero_shot_f1 = f1_score(zero_shot_precision, zero_shot_recall)\n",
    "zero_shot_precision, zero_shot_recall, zero_shot_f1"
   ]
  },
  {
   "cell_type": "code",
   "execution_count": 77,
   "metadata": {},
   "outputs": [
    {
     "data": {
      "text/plain": [
       "[('Budget_Direct', 'industry', 'Insurance'),\n",
       " ('Budget_Direct', 'legal form', 'Company'),\n",
       " ('Budget_Direct', 'headquarters location', 'Brisbane')]"
      ]
     },
     "execution_count": 77,
     "metadata": {},
     "output_type": "execute_result"
    }
   ],
   "source": [
    "target_texts[10]"
   ]
  },
  {
   "cell_type": "code",
   "execution_count": 54,
   "metadata": {},
   "outputs": [
    {
     "data": {
      "text/plain": [
       "([0.6099285017874553, 0.6440329218106996, 0.5598185452867908],\n",
       " [0.4446221274579484, 0.4449182658137882, 0.4312366737739872],\n",
       " [0.5143189915045219, 0.5262715426649852, 0.487186349949816])"
      ]
     },
     "execution_count": 54,
     "metadata": {},
     "output_type": "execute_result"
    }
   ],
   "source": [
    "first_step_precision = []\n",
    "first_step_recall = []\n",
    "first_step_f1 = []\n",
    "\n",
    "for i in range(0, 3):\n",
    "    first_step_precision.append(micro_precision(first_step_texts[i], target_texts))\n",
    "    first_step_recall.append(micro_recall(first_step_texts[i], target_texts))\n",
    "    first_step_f1.append(f1_score(first_step_precision[i], first_step_recall[i]))\n",
    "first_step_precision, first_step_recall, first_step_f1"
   ]
  },
  {
   "cell_type": "code",
   "execution_count": 55,
   "metadata": {},
   "outputs": [
    {
     "data": {
      "text/plain": [
       "(0.6045933229616486, 0.0345867354454004)"
      ]
     },
     "execution_count": 55,
     "metadata": {},
     "output_type": "execute_result"
    }
   ],
   "source": [
    "np.mean(first_step_precision), np.std(first_step_precision)"
   ]
  },
  {
   "cell_type": "code",
   "execution_count": 56,
   "metadata": {},
   "outputs": [
    {
     "data": {
      "text/plain": [
       "(0.44025902234857456, 0.00638090927859392)"
      ]
     },
     "execution_count": 56,
     "metadata": {},
     "output_type": "execute_result"
    }
   ],
   "source": [
    "np.mean(first_step_recall), np.std(first_step_recall)"
   ]
  },
  {
   "cell_type": "code",
   "execution_count": 57,
   "metadata": {},
   "outputs": [
    {
     "data": {
      "text/plain": [
       "(0.5092589613731078, 0.016352696028353514)"
      ]
     },
     "execution_count": 57,
     "metadata": {},
     "output_type": "execute_result"
    }
   ],
   "source": [
    "np.mean(first_step_f1), np.std(first_step_f1)"
   ]
  },
  {
   "cell_type": "code",
   "execution_count": 58,
   "metadata": {},
   "outputs": [
    {
     "data": {
      "text/plain": [
       "([0.5890700956562647, 0.6210222588623248, 0.5390486069946651],\n",
       " [0.4449774934849562, 0.44616204690831557, 0.4308813077469794],\n",
       " [0.506984276941764, 0.5192665609705659, 0.4789335088874259])"
      ]
     },
     "execution_count": 58,
     "metadata": {},
     "output_type": "execute_result"
    }
   ],
   "source": [
    "first_step_unverified_precision = []\n",
    "first_step_unverified_recall = []\n",
    "first_step_unverified_f1 = []\n",
    "\n",
    "for i in range(0, 3):\n",
    "    first_step_unverified_precision.append(micro_precision(first_step_unverified_texts[i], target_texts))\n",
    "    first_step_unverified_recall.append(micro_recall(first_step_unverified_texts[i], target_texts))\n",
    "    first_step_unverified_f1.append(f1_score(first_step_unverified_precision[i], first_step_unverified_recall[i]))\n",
    "\n",
    "first_step_unverified_precision, first_step_unverified_recall, first_step_unverified_f1"
   ]
  },
  {
   "cell_type": "code",
   "execution_count": 59,
   "metadata": {},
   "outputs": [
    {
     "data": {
      "text/plain": [
       "(0.5830469871710848, 0.033735523087671755)"
      ]
     },
     "execution_count": 59,
     "metadata": {},
     "output_type": "execute_result"
    }
   ],
   "source": [
    "np.mean(first_step_unverified_precision), np.std(first_step_unverified_precision)"
   ]
  },
  {
   "cell_type": "code",
   "execution_count": 60,
   "metadata": {},
   "outputs": [
    {
     "data": {
      "text/plain": [
       "(0.44067361604675037, 0.006941074272354905)"
      ]
     },
     "execution_count": 60,
     "metadata": {},
     "output_type": "execute_result"
    }
   ],
   "source": [
    "np.mean(first_step_unverified_recall), np.std(first_step_unverified_recall)"
   ]
  },
  {
   "cell_type": "code",
   "execution_count": 61,
   "metadata": {},
   "outputs": [
    {
     "data": {
      "text/plain": [
       "(0.5017281155999186, 0.016880150011654767)"
      ]
     },
     "execution_count": 61,
     "metadata": {},
     "output_type": "execute_result"
    }
   ],
   "source": [
    "np.mean(first_step_unverified_f1), np.std(first_step_unverified_f1)"
   ]
  },
  {
   "cell_type": "code",
   "execution_count": 65,
   "metadata": {},
   "outputs": [
    {
     "data": {
      "text/plain": [
       "([0.591933731667572, 0.6314592366195181, 0.5532320600012712],\n",
       " [0.5163468372423596, 0.5261786306562426, 0.515517649846008],\n",
       " [0.5515626977097304, 0.5740315962911511, 0.5337094153355613])"
      ]
     },
     "execution_count": 65,
     "metadata": {},
     "output_type": "execute_result"
    }
   ],
   "source": [
    "second_step_precision = []\n",
    "second_step_recall = []\n",
    "second_step_f1 = []\n",
    "\n",
    "for i in range(0, 3):\n",
    "    second_step_precision.append(micro_precision(second_step_texts[i], target_texts))\n",
    "    second_step_recall.append(micro_recall(second_step_texts[i], target_texts))\n",
    "    second_step_f1.append(f1_score(second_step_precision[i], second_step_recall[i]))\n",
    "\n",
    "second_step_precision, second_step_recall, second_step_f1"
   ]
  },
  {
   "cell_type": "code",
   "execution_count": 66,
   "metadata": {},
   "outputs": [
    {
     "data": {
      "text/plain": [
       "(0.5922083427627871, 0.031936701445785)"
      ]
     },
     "execution_count": 66,
     "metadata": {},
     "output_type": "execute_result"
    }
   ],
   "source": [
    "np.mean(second_step_precision), np.std(second_step_precision)"
   ]
  },
  {
   "cell_type": "code",
   "execution_count": 67,
   "metadata": {},
   "outputs": [
    {
     "data": {
      "text/plain": [
       "(0.51934770591487, 0.004842040723447672)"
      ]
     },
     "execution_count": 67,
     "metadata": {},
     "output_type": "execute_result"
    }
   ],
   "source": [
    "np.mean(second_step_recall), np.std(second_step_recall)"
   ]
  },
  {
   "cell_type": "code",
   "execution_count": 68,
   "metadata": {},
   "outputs": [
    {
     "data": {
      "text/plain": [
       "(0.5531012364454809, 0.016497371413549212)"
      ]
     },
     "execution_count": 68,
     "metadata": {},
     "output_type": "execute_result"
    }
   ],
   "source": [
    "np.mean(second_step_f1), np.std(second_step_f1)"
   ]
  },
  {
   "cell_type": "code",
   "execution_count": 69,
   "metadata": {},
   "outputs": [
    {
     "data": {
      "text/plain": [
       "([0.5538823230397764, 0.5886440341473099, 0.5151119292203551],\n",
       " [0.5162876095711917, 0.5268301350390903, 0.5138000473821369],\n",
       " [0.5344246214211269, 0.5560243788091889, 0.514455151964418])"
      ]
     },
     "execution_count": 69,
     "metadata": {},
     "output_type": "execute_result"
    }
   ],
   "source": [
    "second_step_unverified_precision = []\n",
    "second_step_unverified_recall = []\n",
    "second_step_unverified_f1 = []\n",
    "\n",
    "for i in range(0, 3):\n",
    "    second_step_unverified_precision.append(micro_precision(second_step_unverified_texts[i], target_texts))\n",
    "    second_step_unverified_recall.append(micro_recall(second_step_unverified_texts[i], target_texts))\n",
    "    second_step_unverified_f1.append(f1_score(second_step_unverified_precision[i], second_step_unverified_recall[i]))\n",
    "\n",
    "second_step_unverified_precision, second_step_unverified_recall, second_step_unverified_f1"
   ]
  },
  {
   "cell_type": "code",
   "execution_count": 70,
   "metadata": {},
   "outputs": [
    {
     "data": {
      "text/plain": [
       "(0.5525460954691471, 0.03003422205681996)"
      ]
     },
     "execution_count": 70,
     "metadata": {},
     "output_type": "execute_result"
    }
   ],
   "source": [
    "np.mean(second_step_unverified_precision), np.std(second_step_unverified_precision)"
   ]
  },
  {
   "cell_type": "code",
   "execution_count": 71,
   "metadata": {},
   "outputs": [
    {
     "data": {
      "text/plain": [
       "(0.5189725973308063, 0.005648165810770323)"
      ]
     },
     "execution_count": 71,
     "metadata": {},
     "output_type": "execute_result"
    }
   ],
   "source": [
    "np.mean(second_step_unverified_recall), np.std(second_step_unverified_recall)"
   ]
  },
  {
   "cell_type": "code",
   "execution_count": 72,
   "metadata": {},
   "outputs": [
    {
     "data": {
      "text/plain": [
       "(0.5349680507315779, 0.016974915643965104)"
      ]
     },
     "execution_count": 72,
     "metadata": {},
     "output_type": "execute_result"
    }
   ],
   "source": [
    "np.mean(second_step_unverified_f1), np.std(second_step_unverified_f1)"
   ]
  }
 ],
 "metadata": {
  "kernelspec": {
   "display_name": ".venv",
   "language": "python",
   "name": "python3"
  },
  "language_info": {
   "codemirror_mode": {
    "name": "ipython",
    "version": 3
   },
   "file_extension": ".py",
   "mimetype": "text/x-python",
   "name": "python",
   "nbconvert_exporter": "python",
   "pygments_lexer": "ipython3",
   "version": "3.8.10"
  }
 },
 "nbformat": 4,
 "nbformat_minor": 2
}
