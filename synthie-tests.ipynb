{
 "cells": [
  {
   "cell_type": "code",
   "execution_count": 1,
   "metadata": {},
   "outputs": [
    {
     "name": "stderr",
     "output_type": "stream",
     "text": [
      "/Users/alla/text2graph/venv/lib/python3.10/site-packages/tqdm/auto.py:22: TqdmWarning: IProgress not found. Please update jupyter and ipywidgets. See https://ipywidgets.readthedocs.io/en/stable/user_install.html\n",
      "  from .autonotebook import tqdm as notebook_tqdm\n"
     ]
    }
   ],
   "source": [
    "import time\n",
    "import numpy as np\n",
    "from tqdm import tqdm_notebook\n",
    "import datasets\n",
    "\n",
    "from utils.eval_utils import micro_precision, micro_recall\n",
    "from utils.openai_utils import system_prompt_1, system_prompt_2, get_completion_first_query, get_completion_second_query\n",
    "from utils.index_utils import load_prop_mapping, load_index, top5_relations"
   ]
  },
  {
   "cell_type": "code",
   "execution_count": 2,
   "metadata": {},
   "outputs": [],
   "source": [
    "dataset_name = 'synthie_text' # 'synthie_code', 'rebel', 'synthie_text_pc', 'synthie_code_pc', 'rebel_pc'\n",
    "split = \"test\" # \"train\", \"test\", \"test_small\"\n",
    "\n",
    "dataset = datasets.load_dataset(f\"martinjosifoski/SynthIE\", dataset_name, split=split)"
   ]
  },
  {
   "cell_type": "code",
   "execution_count": 3,
   "metadata": {},
   "outputs": [],
   "source": [
    "def transform_targets(sample):\n",
    "    targets = []\n",
    "    for t in sample:\n",
    "        # print(t)\n",
    "        rel = \"_\".join(eval(t['predicate'])['surfaceform'].split())\n",
    "        head = \" \".join(eval(t['subject'])['surfaceform'].split(\"_\"))\n",
    "        tail =  \" \".join(eval(t['object'])['surfaceform'].split(\"_\"))\n",
    "        targets.append(rel + \"(\" + head + \", \" + tail + \")\")\n",
    "\n",
    "    return targets"
   ]
  },
  {
   "cell_type": "code",
   "execution_count": 4,
   "metadata": {},
   "outputs": [
    {
     "data": {
      "text/plain": [
       "[\"record_label(Pickin' Up the Pieces (Fitz and the Tantrums album), Dangerbird Records)\",\n",
       " \"place_of_publication(Pickin' Up the Pieces (Fitz and the Tantrums album), United States)\",\n",
       " \"genre(Pickin' Up the Pieces (Fitz and the Tantrums album), Neo soul)\",\n",
       " 'founded_by(Dangerbird Records, Jeff Castelaz)']"
      ]
     },
     "execution_count": 4,
     "metadata": {},
     "output_type": "execute_result"
    }
   ],
   "source": [
    "transform_targets(dataset['triplets'][0])"
   ]
  },
  {
   "cell_type": "code",
   "execution_count": 5,
   "metadata": {},
   "outputs": [
    {
     "name": "stdout",
     "output_type": "stream",
     "text": [
      "TEXT: Pickin' Up the Pieces (Fitz and the Tantrums album) was published in the United States by Dangerbird Records, a label founded by Jeff Castelaz, and is of the Neo soul genre.\n",
      "RESULTS: published_in(Pickin' Up the Pieces, United States)\n",
      "published_by(Pickin' Up the Pieces, Dangerbird Records)\n",
      "founded_by(Dangerbird Records, Jeff Castelaz)\n",
      "genre(Pickin' Up the Pieces, Neo soul)\n",
      "TARGETS: record_label(Pickin' Up the Pieces (Fitz and the Tantrums album), Dangerbird Records)\n",
      "place_of_publication(Pickin' Up the Pieces (Fitz and the Tantrums album), United States)\n",
      "genre(Pickin' Up the Pieces (Fitz and the Tantrums album), Neo soul)\n",
      "founded_by(Dangerbird Records, Jeff Castelaz)\n",
      "\n",
      "TEXT: Primarily Jazz was recorded at Fullerton College.\n",
      "RESULTS: recorded_at(Primarily Jazz, Fullerton College)\n",
      "TARGETS: recording_location(Primarily Jazz, Fullerton College)\n",
      "\n",
      "TEXT: Njombe Region is an instance of a region in Tanzania, with its capital being Njombe Mjini, which is the capital of Njombe Urban District.\n",
      "RESULTS: instance_of(Njombe Region, region)\n",
      "located_in(Njombe Region, Tanzania)\n",
      "capital_of(Njombe Region, Njombe Mjini)\n",
      "capital_of(Njombe Mjini, Njombe Urban District)\n",
      "TARGETS: capital(Njombe Region, Njombe Mjini)\n",
      "instance_of(Njombe Region, Regions of Tanzania)\n",
      "country(Njombe Region, Tanzania)\n",
      "capital_of(Njombe Mjini, Njombe Urban District)\n",
      "\n",
      "TEXT: Konstadinos Anastasiou is a Greek athlete, specializing in the sport of athletics.\n",
      "RESULTS: country_of_citizenship(Konstadinos Anastasiou, Greece)\n",
      "occupation(Konstadinos Anastasiou, athlete)\n",
      "field_of_work(Konstadinos Anastasiou, athletics)\n",
      "TARGETS: sport(Konstadinos Anastasiou, Sport of athletics)\n",
      "country_of_citizenship(Konstadinos Anastasiou, Greece)\n",
      "\n",
      "TEXT: Harold Schwartz is a human who is a citizen of the United States.\n",
      "RESULTS: country_of_citizenship(Harold Schwartz, United States)\n",
      "TARGETS: country_of_citizenship(Harold Schwartz, United States)\n",
      "instance_of(Harold Schwartz, Human)\n",
      "\n",
      "TEXT: Chitra Lekha Yadav is a politician from Nepal, born in Siraha. She is a member of the Nepali Congress political party and speaks, writes, and signs in the Nepali language.\n",
      "RESULTS: place_of_birth(Chitra Lekha Yadav, place of birth)\n",
      "member_of(Chitra Lekha Yadav, member of)\n",
      "language(Chitra Lekha Yadav, writing language)\n",
      "TARGETS: member_of_political_party(Chitra Lekha Yadav, Nepali Congress)\n",
      "languages_spoken,_written_or_signed(Chitra Lekha Yadav, Nepali language)\n",
      "country_of_citizenship(Chitra Lekha Yadav, Nepal)\n",
      "place_of_birth(Chitra Lekha Yadav, Siraha)\n",
      "occupation(Chitra Lekha Yadav, Politician)\n",
      "\n",
      "TEXT: Panachaiki F.C. is a Greek football club whose official colors are red and black. Their home venue is the Kostas Davourlis Stadium. Red is a subclass of color.\n",
      "RESULTS: has_official_colors(Panachaiki F.C., official color)\n",
      "has_home_venue(Panachaiki F.C., home venue)\n",
      "subclass_of(red, color)\n",
      "TARGETS: official_color_or_colors(Panachaiki F.C., Red)\n",
      "country(Panachaiki F.C., Greece)\n",
      "official_color_or_colors(Panachaiki F.C., Black)\n",
      "home_venue(Panachaiki F.C., Kostas Davourlis Stadium)\n",
      "subclass_of(Red, Color)\n",
      "\n",
      "TEXT: Kroczyce Okupne is located in the administrative territorial entity Gmina Kroczyce and is in the UTC+02:00 time zone.\n",
      "RESULTS: location(Kroczyce Okupne, Gmina Kroczyce)\n",
      "located_in_time_zone(Kroczyce Okupne, UTC+02:00)\n",
      "TARGETS: located_in_the_administrative_territorial_entity(Kroczyce Okupne, Gmina Kroczyce)\n",
      "located_in_time_zone(Kroczyce Okupne, UTC+02:00)\n",
      "\n",
      "TEXT: Studies in Mycology is a journal cataloged in the Directory of Open Access Journals and its main subject is Biology. It is indexed in bibliographic review Scopus.\n",
      "RESULTS: indexed_in(Studies in Mycology, Scopus)\n",
      "journal_cataloged_in(Studies in Mycology, Directory of Open Access Journals)\n",
      "subject(Studies in Mycology, Biology)\n",
      "TARGETS: catalog(Studies in Mycology, Directory of Open Access Journals)\n",
      "main_subject(Studies in Mycology, Biology)\n",
      "indexed_in_bibliographic_review(Studies in Mycology, Scopus)\n",
      "\n",
      "TEXT: Nate Blackwell was born in Philadelphia, Pennsylvania. He is a professional basketball player in the National Basketball Association and was educated at Temple University. His native language is English. Philadelphia County, Pennsylvania is coextensive with Philadelphia and shares a border with Lower Moreland Township, Montgomery County, Pennsylvania.\n",
      "RESULTS: place_of_birth(Nate Blackwell, Philadelphia, Pennsylvania)\n",
      "occupation(Nate Blackwell, professional basketball player)\n",
      "educated_at(Nate Blackwell, Temple University)\n",
      "native_language(Nate Blackwell, English)\n",
      "shares_border_with(Philadelphia County, Pennsylvania, Lower Moreland Township, Montgomery County, Pennsylvania)\n",
      "TARGETS: place_of_birth(Nate Blackwell, Philadelphia)\n",
      "league(Nate Blackwell, National Basketball Association)\n",
      "educated_at(Nate Blackwell, Temple University)\n",
      "native_language(Nate Blackwell, English language)\n",
      "shares_border_with(Philadelphia, Lower Moreland Township, Montgomery County, Pennsylvania)\n",
      "coextensive_with(Philadelphia, Philadelphia County, Pennsylvania)\n",
      "\n",
      "TEXT: Magic Valley is a country located in the administrative territorial entity of Twin Falls, Idaho, in the United States. The official symbol of the United States is the Bald eagle, and the US has diplomatic relations with Bolivia and Libya.\n",
      "RESULTS: located_in(Magic Valley, Twin Falls, Idaho)\n",
      "official_symbol(United States, Bald eagle)\n",
      "diplomatic_relation(United States, Bolivia)\n",
      "diplomatic_relation(United States, Libya)\n",
      "TARGETS: country(Magic Valley, United States)\n",
      "located_in_the_administrative_territorial_entity(Magic Valley, Twin Falls, Idaho)\n",
      "official_symbol(United States, Bald eagle)\n",
      "diplomatic_relation(United States, Bolivia)\n",
      "diplomatic_relation(United States, Libya)\n",
      "\n",
      "TEXT: Nathan George Evans was born in Marion, South Carolina and served in the Confederate States of America during the American Civil War. He attained the rank of Brigadier General and General Officer and fought in the Battle of Antietam, Battle of Ball's Bluff, and Second Battle of Bull Run. The Kansas–Nebraska Act and John Brown's raid on Harpers Ferry were contributing factors to the war.\n",
      "RESULTS: place_of_birth(Nathan George Evans, Marion, South Carolina)\n",
      "military_rank(Nathan George Evans, Brigadier General)\n",
      "military_rank(Nathan George Evans, General Officer)\n",
      "battle_participated(Nathan George Evans, Battle of Antietam)\n",
      "battle_participated(Nathan George Evans, Battle of Ball's Bluff)\n",
      "battle_participated(Nathan George Evans, Second Battle of Bull Run)\n",
      "contributing_factor_of(American Civil War, Kansas–Nebraska Act)\n",
      "contributing_factor_of(American Civil War, John Brown's raid on Harpers Ferry)\n",
      "TARGETS: conflict(Nathan George Evans, American Civil War)\n",
      "place_of_birth(Nathan George Evans, Marion, South Carolina)\n",
      "conflict(Nathan George Evans, Battle of Antietam)\n",
      "conflict(Nathan George Evans, Battle of Ball's Bluff)\n",
      "conflict(Nathan George Evans, Second Battle of Bull Run)\n",
      "allegiance(Nathan George Evans, Confederate States of America)\n",
      "military_rank(Nathan George Evans, Brigadier general)\n",
      "military_rank(Nathan George Evans, General officer)\n",
      "has_contributing_factor(American Civil War, Kansas–Nebraska Act)\n",
      "has_contributing_factor(American Civil War, John Brown's raid on Harpers Ferry)\n",
      "\n",
      "TEXT: Niranjan Iyengar was the screenwriter for the 2014 film Heartless.\n",
      "RESULTS: screenwriter(Niranjan Iyengar, Heartless)\n",
      "publication_date(Heartless, 2014)\n",
      "TARGETS: screenwriter(Heartless (2014 film), Niranjan Iyengar)\n",
      "\n",
      "TEXT: Lev Natochenny is a pianist born in Moscow who holds dual citizenship in the United States and the Soviet Union.\n",
      "RESULTS: occupation(Lev Natochenny, pianist)\n",
      "place_of_birth(Lev Natochenny, Moscow)\n",
      "country_of_citizenship(Lev Natochenny, United States)\n",
      "country_of_citizenship(Lev Natochenny, Soviet Union)\n",
      "TARGETS: instrument(Lev Natochenny, Piano)\n",
      "place_of_birth(Lev Natochenny, Moscow)\n",
      "country_of_citizenship(Lev Natochenny, United States)\n",
      "country_of_citizenship(Lev Natochenny, Soviet Union)\n",
      "\n",
      "TEXT: Family Matters is set in the year 1989 and features a list of characters, known as the List of Family Matters characters.\n",
      "RESULTS: set_in(Family Matters, 1989)\n",
      "located_in(Family Matters, List of Family Matters characters)\n",
      "TARGETS: set_in_period(Family Matters, 1989)\n",
      "list_of_characters(Family Matters, List of Family Matters characters)\n",
      "\n",
      "TEXT: Harry Agar Lyons was an actor.\n",
      "RESULTS: occupation(Harry Agar Lyons, occupation)\n",
      "TARGETS: occupation(Harry Agar Lyons, Actor)\n",
      "\n",
      "TEXT: The 1923 Mississippi gubernatorial election was held in the state of Mississippi in the United States. Data.gov, the open data portal of the United States, provides access to government data and information. In an emergency, the emergency phone number to call in the United States is 9-1-1.\n",
      "RESULTS: located_in(1923 Mississippi gubernatorial election, Mississippi)\n",
      "located_in(1923 Mississippi gubernatorial election, United States)\n",
      "host(Data.gov, United States)\n",
      "grants(Data.gov, government data)\n",
      "grants(Data.gov, information)\n",
      "emergency_phone_number(United States, 9-1-1)\n",
      "TARGETS: applies_to_jurisdiction(1923 Mississippi gubernatorial election, Mississippi)\n",
      "country(1923 Mississippi gubernatorial election, United States)\n",
      "Open_Data_portal(United States, Data.gov)\n",
      "emergency_phone_number(United States, 9-1-1)\n",
      "country(Data.gov, United States)\n",
      "\n",
      "TEXT: The Barbur Boulevard Transit Center is owned by TriMet, an organization based in Portland, Oregon. It is an instance of a bus station.\n",
      "RESULTS: owned_by(Barbur Boulevard Transit Center, TriMet)\n",
      "instance_of(Barbur Boulevard Transit Center, Bus station)\n",
      "location(Barbur Boulevard Transit Center, Oregon)\n",
      "headquarters_location(TriMet, Portland)\n",
      "TARGETS: owned_by(Barbur Boulevard Transit Center, TriMet)\n",
      "instance_of(Barbur Boulevard Transit Center, Bus station)\n",
      "headquarters_location(TriMet, Portland, Oregon)\n",
      "\n",
      "TEXT: Mobberley Old Hall is an English country house located in the United Kingdom.\n",
      "RESULTS: location(Mobberley Old Hall, United Kingdom)\n",
      "instance_of(Mobberley Old Hall, English country house)\n",
      "TARGETS: instance_of(Mobberley Old Hall, English country house)\n",
      "country(Mobberley Old Hall, United Kingdom)\n",
      "\n",
      "TEXT: Southwark Bridge is the next crossing upstream of the Millennium Bridge, London, on the River Thames. It carries A roads in Zone 3 of the Great Britain numbering scheme, and is made of steel. It is maintained by the Bridge House Estates. The structural engineer for the Millennium Bridge, London, was the Arup Group, and it was designed by Norman Foster, Baron Foster of Thames Bank.\n",
      "RESULTS: located_on(Southwark Bridge, River Thames)\n",
      "next_crossing(Southwark Bridge, Millennium Bridge)\n",
      "located_in(Southwark Bridge, London)\n",
      "carries(Southwark Bridge, A roads)\n",
      "located_in(Southwark Bridge, Zone 3)\n",
      "part_of(Southwark Bridge, Great Britain numbering scheme)\n",
      "made_of(Southwark Bridge, steel)\n",
      "maintained_by(Southwark Bridge, Bridge House Estates)\n",
      "designed_by(Millennium Bridge, Norman Foster)\n",
      "designed_by(Millennium Bridge, Arup Group)\n",
      "has_title(Norman Foster, Baron Foster of Thames Bank)\n",
      "TARGETS: next_crossing_upstream(Southwark Bridge, Millennium Bridge, London)\n",
      "carries(Southwark Bridge, A roads in Zone 3 of the Great Britain numbering scheme)\n",
      "material_used(Southwark Bridge, Steel)\n",
      "crosses(Southwark Bridge, River Thames)\n",
      "maintained_by(Southwark Bridge, Bridge House Estates)\n",
      "structural_engineer(Millennium Bridge, London, Arup Group)\n",
      "architect(Millennium Bridge, London, Norman Foster, Baron Foster of Thames Bank)\n",
      "\n"
     ]
    },
    {
     "data": {
      "text/plain": [
       "0.2465753424657534"
      ]
     },
     "execution_count": 5,
     "metadata": {},
     "output_type": "execute_result"
    }
   ],
   "source": [
    "results = []\n",
    "targets = []\n",
    "\n",
    "faiss_index = load_index()\n",
    "prop_names = load_prop_mapping()\n",
    "\n",
    "for i in range(0, 20):\n",
    "\n",
    "    text = dataset[i]['text']\n",
    "    triplets = get_completion_first_query(system_prompt=system_prompt_1, text=text)\n",
    "    similar_relations = top5_relations(llm_output=triplets, faiss_index=faiss_index, prop_names=prop_names)\n",
    "    triplets=\"\\n\".join(triplets)\n",
    "    \n",
    "    res = get_completion_second_query(text=text, triplets=triplets, similar_relations=similar_relations, system_prompt=system_prompt_2)\n",
    "    target = transform_targets(dataset['triplets'][i])\n",
    "\n",
    "    print(\"TEXT: \" + text)\n",
    "    print(\"RESULTS: \" + \"\\n\".join(res), end='\\n')\n",
    "    print('TARGETS: ' + \"\\n\".join(target), end='\\n\\n')\n",
    "    \n",
    "    results.append(res)\n",
    "    targets.append(target)\n",
    "    \n",
    "    time.sleep(1)\n",
    "\n",
    "micro_precision(results, targets)"
   ]
  },
  {
   "cell_type": "code",
   "execution_count": 8,
   "metadata": {},
   "outputs": [
    {
     "data": {
      "text/plain": [
       "0.2465753424657534"
      ]
     },
     "execution_count": 8,
     "metadata": {},
     "output_type": "execute_result"
    }
   ],
   "source": [
    "micro_precision(results, targets)"
   ]
  },
  {
   "cell_type": "code",
   "execution_count": 9,
   "metadata": {},
   "outputs": [
    {
     "data": {
      "text/plain": [
       "0.24324324324324326"
      ]
     },
     "execution_count": 9,
     "metadata": {},
     "output_type": "execute_result"
    }
   ],
   "source": [
    "micro_recall(results, targets)"
   ]
  },
  {
   "cell_type": "code",
   "execution_count": null,
   "metadata": {},
   "outputs": [],
   "source": []
  }
 ],
 "metadata": {
  "kernelspec": {
   "display_name": "venv",
   "language": "python",
   "name": "python3"
  },
  "language_info": {
   "codemirror_mode": {
    "name": "ipython",
    "version": 3
   },
   "file_extension": ".py",
   "mimetype": "text/x-python",
   "name": "python",
   "nbconvert_exporter": "python",
   "pygments_lexer": "ipython3",
   "version": "3.10.9"
  }
 },
 "nbformat": 4,
 "nbformat_minor": 2
}
