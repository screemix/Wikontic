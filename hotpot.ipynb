{
 "cells": [
  {
   "cell_type": "code",
   "execution_count": 23,
   "metadata": {},
   "outputs": [],
   "source": [
    "from datasets import load_dataset\n",
    "from tqdm import tqdm_notebook\n",
    "import datasets\n",
    "from tqdm import tqdm\n",
    "\n",
    "import json\n",
    "import openai\n",
    "import os\n",
    "\n",
    "from utils.eval_utils import micro_precision, micro_recall, f1_score\n",
    "from utils.openai_utils import LLMTripletExtractor\n",
    "from utils.dynamic_index_utils import Aligner\n",
    "from utils.verifier_utils import TripletFilter\n",
    "\n",
    "import pandas as pd\n",
    "import networkx as nx\n",
    "import plotly.graph_objects as go\n",
    "\n",
    "import warnings\n",
    "warnings.filterwarnings('ignore')"
   ]
  },
  {
   "cell_type": "code",
   "execution_count": 24,
   "metadata": {},
   "outputs": [],
   "source": [
    "# ds = load_dataset(\"hotpotqa/hotpot_qa\", \"fullwiki\")"
   ]
  },
  {
   "cell_type": "code",
   "execution_count": 25,
   "metadata": {},
   "outputs": [],
   "source": [
    "with open(\"hotpotqa200.json\", \"r\") as f:\n",
    "    ds = json.load(f)"
   ]
  },
  {
   "cell_type": "code",
   "execution_count": 35,
   "metadata": {},
   "outputs": [
    {
     "data": {
      "text/plain": [
       "{'_id': '5adf2fa35542993344016c11',\n",
       " 'answer': 'Jonny\" Craig',\n",
       " 'question': 'Which of Jonny Craig and Pete Doherty has been a member of more bands ?',\n",
       " 'supporting_facts': [['Jonny Craig', 0],\n",
       "  ['Jonny Craig', 2],\n",
       "  ['Pete Doherty', 1],\n",
       "  ['Pete Doherty', 2]],\n",
       " 'context': [['Pete Doherty',\n",
       "   ['Peter Doherty (born 12 March 1979) is an English musician, songwriter, actor, poet, writer, and artist.',\n",
       "    ' He is best known for being co-frontman of the Libertines, which he formed with Carl Barât in 1997.',\n",
       "    ' His other musical projects are indie band Babyshambles and Peter Doherty and the Puta Madres.']],\n",
       "  ['Relativity (Emarosa album)',\n",
       "   ['Relativity is the debut album by American post-hardcore band Emarosa released on July 8, 2008 through Rise Records.',\n",
       "    ' \"Relativity\" was produced by Kris Crummett, producer of other bands such as Drop Dead, Gorgeous and Fear Before, whom Jonny Craig worked with on Dance Gavin Dance\\'s debut album the year before.']],\n",
       "  ['Jonny Craig',\n",
       "   ['Jonathan Monroe \"Jonny\" Craig (born March 26, 1986) is a Canadian-American singer and songwriter.',\n",
       "    ' He is currently working as a solo musician.',\n",
       "    ' He has been the lead vocalist for the bands Dance Gavin Dance, Emarosa, Ghost Runner on Third, Slaves, and westerHALTS.',\n",
       "    ' As a solo artist, he has released one studio album, two EPs and a live album to date.',\n",
       "    ' He was also a part of the supergroup Isles & Glaciers.',\n",
       "    ' Craig possesses the vocal range of a baritenor and his distinct type of soul-based singing has earned him considerable acclaim.']],\n",
       "  ['Up the Shambles – Live in Manchester',\n",
       "   ['Up the Shambles – Live in Manchester is a live DVD of the band Babyshambles.',\n",
       "    ' The DVD was released without the bands prior knowledge according to bassist Drew McConnell.',\n",
       "    ' The DVD was released around the time of the band\\'s second album \"Shotters Nation\", but not only featured a much older version of the band, it was recorded prior to the release of the first album \"Down in Albion\".',\n",
       "    \" The set list features not only songs on the band's debut but B-sides, unreleased songs and songs by Pete Doherty's former band The Libertines.\"]],\n",
       "  ['The Libertines',\n",
       "   ['The Libertines are an English rock band, formed in London in 1997 by frontmen Carl Barât (vocals/guitar) and Pete Doherty (vocals/guitar).',\n",
       "    ' The band, centred on the songwriting partnership of Barât and Doherty, has also included John Hassall (bass) and Gary Powell (drums) for most of its recording career.',\n",
       "    ' The band was part of the garage rock revival and spearheaded the movement in the UK.']],\n",
       "  ['Paul Roundhill',\n",
       "   ['Paul Nicholas Roundhill (born 25 March 1955 in London) is an English artist and writer based in the East End of London, England.',\n",
       "    ' He is best known for his association with musician Pete Doherty, acting as his self-styled literary agent and previously running the website balachada.com (Bala Chadha being street slang for crack cocaine from the Bengali translation of \"good white\"), which was closed by Doherty in May 2006.']],\n",
       "  ['Books of Albion',\n",
       "   ['The Books of Albion, or Journals: The Collected Writings of Peter Doherty, is an anthology of the poetry and diary entries of English musician and poet Pete Doherty.',\n",
       "    ' He is also currently a member of the group Babyshambles but is most known for his time as front man of The Libertines.',\n",
       "    ' The book has writings from 1999 up until 2007 and was released on the 30 May 2007 by Orion Books.']],\n",
       "  ['Dirty Pretty Things (band)',\n",
       "   ['Dirty Pretty Things were an English band fronted by Carl Barât, a member of The Libertines.',\n",
       "    ' The formation of the band was announced in September 2005, after a dispute between Barât and Pete Doherty led to the breakup of The Libertines in 2004.',\n",
       "    ' Barât had worked with Vertigo Records and had previously revealed that his new project was with the label.',\n",
       "    ' Didz Hammond announced he was leaving the Cooper Temple Clause to join the band alongside Libertines drummer Gary Powell and guitarist Anthony Rossomando, who had filled in for Doherty following his departure from The Libertines.',\n",
       "    ' They played their first shows in October 2005 in Italy and Paris, France.',\n",
       "    ' They announced their split on 1 October 2008 and played their final shows during November.']],\n",
       "  ['Stalking Pete Doherty',\n",
       "   ['Stalking Pete Doherty is a rockumentary assembled from footage shot by Max Carlish, a BAFTA Award–winning film director.',\n",
       "    ' As the title suggests, it is about both attempts by Carlish to interview Pete Doherty.']],\n",
       "  ['The Greatest of All Lost Arts',\n",
       "   ['The Greatest of All Lost Arts is the second album by the American post-hardcore band Lower Definition.',\n",
       "    ' The album was recorded in early 2008 with producer Kris Crummett and was released on July 8.',\n",
       "    ' The album contains 11 tracks, with Jonny Craig providing guest vocals on \"Pueblo Cicada\".',\n",
       "    ' The band hand-picked Kris Crummett as their producer.',\n",
       "    ' This album marks the last appearance by bassist Stefan Toler and founding member/drummer Valentino Arteaga.']]],\n",
       " 'type': 'comparison',\n",
       " 'level': 'hard'}"
      ]
     },
     "execution_count": 35,
     "metadata": {},
     "output_type": "execute_result"
    }
   ],
   "source": [
    "ds[1]"
   ]
  },
  {
   "cell_type": "code",
   "execution_count": 28,
   "metadata": {},
   "outputs": [],
   "source": [
    "device = 'cuda:1'\n",
    "model_name = 'gpt-4o'\n",
    "aligner = Aligner(device=device)\n",
    "\n",
    "triplet_filter = TripletFilter()\n",
    "extractor = LLMTripletExtractor(model=model_name,  prompt2_individual_triplets_path='utils/prompts/prompt2_individual_triplets_dynamic.txt')"
   ]
  },
  {
   "cell_type": "code",
   "execution_count": 29,
   "metadata": {},
   "outputs": [],
   "source": [
    "def extract_kg_from_texts(texts):\n",
    "    first_step_triplets = []\n",
    "    second_step_triplets = []\n",
    "    generated_triplets = []\n",
    "\n",
    "    for i, text in tqdm(enumerate(texts), total=len(texts)):\n",
    "\n",
    "        print(\"Text: \", text)\n",
    "\n",
    "        ############## first step prompting ##############\n",
    "        extracted_triplets = extractor.get_completion_first_query(text)\n",
    "        # extracted_triplets = parse_output(extracted_triplets)\n",
    "        first_step_triplets.append(extracted_triplets)\n",
    "\n",
    "        ############## second step aligning all entity and relation names ##############\n",
    "        print(\"Extracted triplets after 1st step prompting: \", extracted_triplets)    \n",
    "        \n",
    "        for triplet in extracted_triplets:\n",
    "\n",
    "            try:\n",
    "                    \n",
    "                subject_description = triplet['subject'] + \"; \" + extractor.generate_description_for_entity(text=text, triplet=triplet, entity=triplet['subject'])[triplet['subject']]\n",
    "                \n",
    "                object_description = triplet['object']  + \"; \" + extractor.generate_description_for_entity(text=text, triplet=triplet, entity=triplet['object'])[triplet['object']]\n",
    "                \n",
    "                relation_description = triplet['relation'] + \"; \" + \\\n",
    "                    extractor.generate_description_for_relation(text=text, triplet=triplet,  relation=triplet['relation'])[triplet['relation']]\n",
    "                \n",
    "\n",
    "                if len(aligner.id2entity) > 0 and len(aligner.id2relation) > 0:\n",
    "\n",
    "                    similar_relations_with_descriptions = aligner.top_relations_by_llm_output(relations=[relation_description], with_descriptions=True)\n",
    "                    similar_entities_with_descriptions = aligner.top_entities_by_llm_output(entities=[subject_description, object_description], with_descriptions=True)\n",
    "\n",
    "                    similar_relations = aligner.top_relations_by_llm_output(relations=[triplet['relation']], with_descriptions=False)\n",
    "                    similar_entities = aligner.top_entities_by_llm_output(entities=[triplet['subject'], triplet['object']], with_descriptions=False)\n",
    "                    \n",
    "                    for key in similar_relations:\n",
    "                        similar_relations[key] = list(set(similar_relations[key] + similar_relations_with_descriptions[key]))\n",
    "                    \n",
    "                    for key in similar_entities:\n",
    "                        similar_entities[key] = list(set(similar_entities[key] + similar_entities_with_descriptions[key]))\n",
    "\n",
    "\n",
    "                    output = extractor.get_completion_second_query_by_single_triplet(similar_entities=similar_entities, \n",
    "                        similar_relations=similar_relations, text=text, triplet=triplet)\n",
    "                    \n",
    "                    print(\"OUTPUT: \", output)\n",
    "                    if output['subject'] == 'None' or output['subject'] == None:\n",
    "                        aligner.add_entities([triplet['subject']], [subject_description])\n",
    "                        output['subject'] = triplet['subject']\n",
    "\n",
    "                    if output['object'] == 'None' or output['object'] == None:\n",
    "                        aligner.add_entities([triplet['object']], [object_description])\n",
    "                        output['object'] = triplet['object']\n",
    "\n",
    "                    if output['relation'] == 'None' or output['relation'] == None:\n",
    "                        aligner.add_relations([triplet['relation']], [relation_description])\n",
    "                        output['relation'] = triplet['relation']\n",
    "                    \n",
    "                    second_step_triplets.append(output.copy())\n",
    "                \n",
    "                else:\n",
    "                    aligner.add_entities([triplet['subject'], triplet['object']], [subject_description, object_description])\n",
    "                    aligner.add_relations([triplet['relation']], [relation_description])\n",
    "                    \n",
    "                    second_step_triplets.append(triplet)\n",
    "                \n",
    "\n",
    "                # print(\"Extracted triplets after 2nd step prompting: \", second_step_triplets)\n",
    "\n",
    "                generated_triplets.append(second_step_triplets)\n",
    "\n",
    "            except Exception as e:\n",
    "                print(str(e))\n",
    "    \n",
    "    graph_triplets = []\n",
    "    for item in generated_triplets:\n",
    "        graph_triplets.extend(item)\n",
    "        df = pd.DataFrame(graph_triplets)\n",
    "        df = df.drop_duplicates()\n",
    "\n",
    "    return df"
   ]
  },
  {
   "cell_type": "code",
   "execution_count": 40,
   "metadata": {},
   "outputs": [
    {
     "data": {
      "text/plain": [
       "'The creator of \"Wallace and Gromit\" also created what animation comedy that matched animated zoo animals with a soundtrack of people talking about their homes? '"
      ]
     },
     "execution_count": 40,
     "metadata": {},
     "output_type": "execute_result"
    }
   ],
   "source": [
    "ds[3]['question']"
   ]
  },
  {
   "cell_type": "code",
   "execution_count": 33,
   "metadata": {},
   "outputs": [
    {
     "data": {
      "text/plain": [
       "['Peter Doherty (born 12 March 1979) is an English musician, songwriter, actor, poet, writer, and artist. He is best known for being co-frontman of the Libertines, which he formed with Carl Barât in 1997. His other musical projects are indie band Babyshambles and Peter Doherty and the Puta Madres.',\n",
       " 'Relativity is the debut album by American post-hardcore band Emarosa released on July 8, 2008 through Rise Records. \"Relativity\" was produced by Kris Crummett, producer of other bands such as Drop Dead, Gorgeous and Fear Before, whom Jonny Craig worked with on Dance Gavin Dance\\'s debut album the year before.',\n",
       " 'Jonathan Monroe \"Jonny\" Craig (born March 26, 1986) is a Canadian-American singer and songwriter. He is currently working as a solo musician. He has been the lead vocalist for the bands Dance Gavin Dance, Emarosa, Ghost Runner on Third, Slaves, and westerHALTS. As a solo artist, he has released one studio album, two EPs and a live album to date. He was also a part of the supergroup Isles & Glaciers. Craig possesses the vocal range of a baritenor and his distinct type of soul-based singing has earned him considerable acclaim.',\n",
       " 'Up the Shambles – Live in Manchester is a live DVD of the band Babyshambles. The DVD was released without the bands prior knowledge according to bassist Drew McConnell. The DVD was released around the time of the band\\'s second album \"Shotters Nation\", but not only featured a much older version of the band, it was recorded prior to the release of the first album \"Down in Albion\". The set list features not only songs on the band\\'s debut but B-sides, unreleased songs and songs by Pete Doherty\\'s former band The Libertines.',\n",
       " 'The Libertines are an English rock band, formed in London in 1997 by frontmen Carl Barât (vocals/guitar) and Pete Doherty (vocals/guitar). The band, centred on the songwriting partnership of Barât and Doherty, has also included John Hassall (bass) and Gary Powell (drums) for most of its recording career. The band was part of the garage rock revival and spearheaded the movement in the UK.',\n",
       " 'Paul Nicholas Roundhill (born 25 March 1955 in London) is an English artist and writer based in the East End of London, England. He is best known for his association with musician Pete Doherty, acting as his self-styled literary agent and previously running the website balachada.com (Bala Chadha being street slang for crack cocaine from the Bengali translation of \"good white\"), which was closed by Doherty in May 2006.',\n",
       " 'The Books of Albion, or Journals: The Collected Writings of Peter Doherty, is an anthology of the poetry and diary entries of English musician and poet Pete Doherty. He is also currently a member of the group Babyshambles but is most known for his time as front man of The Libertines. The book has writings from 1999 up until 2007 and was released on the 30 May 2007 by Orion Books.',\n",
       " 'Dirty Pretty Things were an English band fronted by Carl Barât, a member of The Libertines. The formation of the band was announced in September 2005, after a dispute between Barât and Pete Doherty led to the breakup of The Libertines in 2004. Barât had worked with Vertigo Records and had previously revealed that his new project was with the label. Didz Hammond announced he was leaving the Cooper Temple Clause to join the band alongside Libertines drummer Gary Powell and guitarist Anthony Rossomando, who had filled in for Doherty following his departure from The Libertines. They played their first shows in October 2005 in Italy and Paris, France. They announced their split on 1 October 2008 and played their final shows during November.',\n",
       " 'Stalking Pete Doherty is a rockumentary assembled from footage shot by Max Carlish, a BAFTA Award–winning film director. As the title suggests, it is about both attempts by Carlish to interview Pete Doherty.',\n",
       " 'The Greatest of All Lost Arts is the second album by the American post-hardcore band Lower Definition. The album was recorded in early 2008 with producer Kris Crummett and was released on July 8. The album contains 11 tracks, with Jonny Craig providing guest vocals on \"Pueblo Cicada\". The band hand-picked Kris Crummett as their producer. This album marks the last appearance by bassist Stefan Toler and founding member/drummer Valentino Arteaga.']"
      ]
     },
     "execution_count": 33,
     "metadata": {},
     "output_type": "execute_result"
    }
   ],
   "source": [
    "texts = [\"\".join(text[1]) for text in ds[1]['context']]\n",
    "texts"
   ]
  },
  {
   "cell_type": "code",
   "execution_count": 34,
   "metadata": {},
   "outputs": [
    {
     "name": "stderr",
     "output_type": "stream",
     "text": [
      "  0%|          | 0/10 [00:00<?, ?it/s]"
     ]
    },
    {
     "name": "stdout",
     "output_type": "stream",
     "text": [
      "Text:  Peter Doherty (born 12 March 1979) is an English musician, songwriter, actor, poet, writer, and artist. He is best known for being co-frontman of the Libertines, which he formed with Carl Barât in 1997. His other musical projects are indie band Babyshambles and Peter Doherty and the Puta Madres.\n",
      "Extracted triplets after 1st step prompting:  [{'subject': 'Peter Doherty', 'relation': 'date of birth', 'object': '12 March 1979'}, {'subject': 'Peter Doherty', 'relation': 'country of citizenship', 'object': 'England'}, {'subject': 'Peter Doherty', 'relation': 'occupation', 'object': 'Musician'}, {'subject': 'Peter Doherty', 'relation': 'occupation', 'object': 'Songwriter'}, {'subject': 'Peter Doherty', 'relation': 'occupation', 'object': 'Actor'}, {'subject': 'Peter Doherty', 'relation': 'occupation', 'object': 'Poet'}, {'subject': 'Peter Doherty', 'relation': 'occupation', 'object': 'Writer'}, {'subject': 'Peter Doherty', 'relation': 'occupation', 'object': 'Artist'}, {'subject': 'Peter Doherty', 'relation': 'member of', 'object': 'The Libertines'}, {'subject': 'The Libertines', 'relation': 'has part', 'object': 'Peter Doherty'}, {'subject': 'The Libertines', 'relation': 'has part', 'object': 'Carl Barât'}, {'subject': 'The Libertines', 'relation': 'inception', 'object': '1997'}, {'subject': 'Peter Doherty', 'relation': 'member of', 'object': 'Babyshambles'}, {'subject': 'Peter Doherty', 'relation': 'member of', 'object': 'Peter Doherty and the Puta Madres'}]\n",
      "OUTPUT:  {'subject': 'Peter Doherty', 'relation': 'None', 'object': 'None'}\n",
      "OUTPUT:  {'subject': 'None', 'relation': 'country of origin', 'object': 'United Kingdom'}\n",
      "OUTPUT:  {'subject': 'Peter Doherty', 'relation': 'formerly known as', 'object': 'None'}\n",
      "OUTPUT:  {'subject': 'Peter Doherty', 'relation': 'instance of', 'object': 'Musician'}\n",
      "OUTPUT:  {'subject': 'Peter Doherty', 'relation': 'instance of', 'object': 'None'}\n",
      "OUTPUT:  {'subject': 'Peter Doherty', 'relation': 'instance of', 'object': 'None'}\n",
      "OUTPUT:  {'subject': 'Peter Doherty', 'relation': 'instance of', 'object': 'Poet'}\n",
      "OUTPUT:  {'subject': 'Peter Doherty', 'relation': 'instance of', 'object': 'Musician'}\n",
      "OUTPUT:  {'subject': 'Peter Doherty', 'relation': 'None', 'object': 'None'}\n",
      "OUTPUT:  {'subject': 'The Libertines', 'relation': 'member of', 'object': 'Peter Doherty'}\n",
      "OUTPUT:  {'subject': 'The Libertines', 'relation': 'member of', 'object': 'None'}\n",
      "OUTPUT:  {'subject': 'The Libertines', 'relation': 'inception', 'object': 'None'}\n",
      "OUTPUT:  {'subject': 'Peter Doherty', 'relation': 'member of', 'object': 'None'}\n"
     ]
    },
    {
     "name": "stderr",
     "output_type": "stream",
     "text": [
      " 10%|█         | 1/10 [02:04<18:37, 124.18s/it]"
     ]
    },
    {
     "name": "stdout",
     "output_type": "stream",
     "text": [
      "OUTPUT:  {'subject': 'Peter Doherty', 'relation': 'member of', 'object': 'None'}\n",
      "Text:  Relativity is the debut album by American post-hardcore band Emarosa released on July 8, 2008 through Rise Records. \"Relativity\" was produced by Kris Crummett, producer of other bands such as Drop Dead, Gorgeous and Fear Before, whom Jonny Craig worked with on Dance Gavin Dance's debut album the year before.\n",
      "Extracted triplets after 1st step prompting:  [{'subject': 'Relativity', 'relation': 'instance of', 'object': 'Album'}, {'subject': 'Relativity', 'relation': 'performer', 'object': 'Emarosa'}, {'subject': 'Relativity', 'relation': 'publication date', 'object': 'July 8, 2008'}, {'subject': 'Relativity', 'relation': 'record label', 'object': 'Rise Records'}, {'subject': 'Relativity', 'relation': 'producer', 'object': 'Kris Crummett'}, {'subject': 'Emarosa', 'relation': 'instance of', 'object': 'Post-hardcore band'}, {'subject': 'Kris Crummett', 'relation': 'producer of', 'object': 'Drop Dead, Gorgeous'}, {'subject': 'Kris Crummett', 'relation': 'producer of', 'object': 'Fear Before'}, {'subject': 'Jonny Craig', 'relation': 'collaborated with', 'object': 'Kris Crummett'}, {'subject': 'Jonny Craig', 'relation': 'performer', 'object': 'Dance Gavin Dance'}, {'subject': 'Dance Gavin Dance', 'relation': 'debut album', 'object': \"Dance Gavin Dance's debut album\"}]\n",
      "OUTPUT:  {'subject': 'None', 'relation': 'instance of', 'object': 'None'}\n",
      "OUTPUT:  {'subject': 'Relativity', 'relation': 'None', 'object': 'None'}\n",
      "OUTPUT:  {'subject': 'Relativity', 'relation': 'inception', 'object': 'None'}\n",
      "OUTPUT:  {'subject': 'Relativity', 'relation': 'owned by', 'object': 'Relativity'}\n",
      "OUTPUT:  {'subject': 'Relativity', 'relation': 'None', 'object': 'None'}\n",
      "OUTPUT:  {'subject': 'Emarosa', 'relation': 'instance of', 'object': 'None'}\n",
      "OUTPUT:  {'subject': 'Kris Crummett', 'relation': 'producer', 'object': 'None'}\n",
      "OUTPUT:  {'subject': 'Kris Crummett', 'relation': 'producer', 'object': 'None'}\n",
      "OUTPUT:  {'subject': 'Jonny Craig', 'relation': 'producer', 'object': 'Kris Crummett'}\n",
      "OUTPUT:  {'subject': 'Jonny Craig', 'relation': 'member of', 'object': 'Post-hardcore band'}\n"
     ]
    },
    {
     "name": "stderr",
     "output_type": "stream",
     "text": [
      " 20%|██        | 2/10 [03:53<15:23, 115.50s/it]"
     ]
    },
    {
     "name": "stdout",
     "output_type": "stream",
     "text": [
      "OUTPUT:  {'subject': 'None', 'relation': 'instance of', 'object': 'Album'}\n",
      "Text:  Jonathan Monroe \"Jonny\" Craig (born March 26, 1986) is a Canadian-American singer and songwriter. He is currently working as a solo musician. He has been the lead vocalist for the bands Dance Gavin Dance, Emarosa, Ghost Runner on Third, Slaves, and westerHALTS. As a solo artist, he has released one studio album, two EPs and a live album to date. He was also a part of the supergroup Isles & Glaciers. Craig possesses the vocal range of a baritenor and his distinct type of soul-based singing has earned him considerable acclaim.\n",
      "Extracted triplets after 1st step prompting:  [{'subject': 'Jonny Craig', 'relation': 'instance of', 'object': 'Human'}, {'subject': 'Jonny Craig', 'relation': 'country of citizenship', 'object': 'Canada'}, {'subject': 'Jonny Craig', 'relation': 'country of citizenship', 'object': 'United States of America'}, {'subject': 'Jonny Craig', 'relation': 'occupation', 'object': 'Singer'}, {'subject': 'Jonny Craig', 'relation': 'occupation', 'object': 'Songwriter'}, {'subject': 'Jonny Craig', 'relation': 'occupation', 'object': 'Musician'}, {'subject': 'Jonny Craig', 'relation': 'member of', 'object': 'Dance Gavin Dance'}, {'subject': 'Jonny Craig', 'relation': 'member of', 'object': 'Emarosa'}, {'subject': 'Jonny Craig', 'relation': 'member of', 'object': 'Ghost Runner on Third'}, {'subject': 'Jonny Craig', 'relation': 'member of', 'object': 'Slaves'}, {'subject': 'Jonny Craig', 'relation': 'member of', 'object': 'westerHALTS'}, {'subject': 'Jonny Craig', 'relation': 'member of', 'object': 'Isles & Glaciers'}, {'subject': 'Jonny Craig', 'relation': 'vocal range', 'object': 'Baritenor'}, {'subject': 'Jonny Craig', 'relation': 'genre', 'object': 'Soul music'}, {'subject': 'Jonny Craig', 'relation': 'has part', 'object': 'Studio album'}, {'subject': 'Jonny Craig', 'relation': 'has part', 'object': 'EP'}, {'subject': 'Jonny Craig', 'relation': 'has part', 'object': 'Live album'}]\n",
      "OUTPUT:  {'subject': 'None', 'relation': 'performer', 'object': 'Musician'}\n",
      "OUTPUT:  {'subject': 'Jonny Craig', 'relation': 'country of origin', 'object': 'None'}\n",
      "OUTPUT:  {'subject': 'Jonny Craig', 'relation': 'country of origin', 'object': 'None'}\n",
      "OUTPUT:  {'subject': 'Jonny Craig', 'relation': 'performer', 'object': 'Musician'}\n",
      "OUTPUT:  {'subject': 'Jonny Craig', 'relation': 'performer', 'object': 'Musician'}\n",
      "OUTPUT:  {'subject': 'Jonny Craig', 'relation': 'performer', 'object': 'Musician'}\n",
      "OUTPUT:  {'subject': 'Jonny Craig', 'relation': 'member of', 'object': 'Dance Gavin Dance'}\n",
      "OUTPUT:  {'subject': 'Jonny Craig', 'relation': 'member of', 'object': 'Emarosa'}\n",
      "OUTPUT:  {'subject': 'Jonny Craig', 'relation': 'member of', 'object': 'Post-hardcore band'}\n",
      "OUTPUT:  {'subject': 'Jonny Craig', 'relation': 'member of', 'object': 'Post-hardcore band'}\n",
      "OUTPUT:  {'subject': 'Jonny Craig', 'relation': 'member of', 'object': 'None'}\n",
      "OUTPUT:  {'subject': 'Jonny Craig', 'relation': 'member of', 'object': 'None'}\n",
      "OUTPUT:  {'subject': 'Jonny Craig', 'relation': 'performer', 'object': 'None'}\n",
      "OUTPUT:  {'subject': 'Jonny Craig', 'relation': 'performer', 'object': 'None'}\n",
      "OUTPUT:  {'subject': 'Jonny Craig', 'relation': 'instance of', 'object': 'Album'}\n",
      "OUTPUT:  {'subject': 'Jonny Craig', 'relation': 'None', 'object': 'None'}\n"
     ]
    },
    {
     "name": "stderr",
     "output_type": "stream",
     "text": [
      " 30%|███       | 3/10 [06:51<16:47, 143.97s/it]"
     ]
    },
    {
     "name": "stdout",
     "output_type": "stream",
     "text": [
      "OUTPUT:  {'subject': 'Jonny Craig', 'relation': 'has part', 'object': 'Album'}\n",
      "Text:  Up the Shambles – Live in Manchester is a live DVD of the band Babyshambles. The DVD was released without the bands prior knowledge according to bassist Drew McConnell. The DVD was released around the time of the band's second album \"Shotters Nation\", but not only featured a much older version of the band, it was recorded prior to the release of the first album \"Down in Albion\". The set list features not only songs on the band's debut but B-sides, unreleased songs and songs by Pete Doherty's former band The Libertines.\n",
      "Extracted triplets after 1st step prompting:  [{'subject': 'Up the Shambles – Live in Manchester', 'relation': 'instance of', 'object': 'Live DVD'}, {'subject': 'Up the Shambles – Live in Manchester', 'relation': 'performer', 'object': 'Babyshambles'}, {'subject': 'Up the Shambles – Live in Manchester', 'relation': 'release statement by', 'object': 'Drew McConnell'}, {'subject': 'Up the Shambles – Live in Manchester', 'relation': 'release date', 'object': 'around the time of Shotters Nation'}, {'subject': 'Up the Shambles – Live in Manchester', 'relation': 'recording date', 'object': 'prior to the release of Down in Albion'}, {'subject': 'Shotters Nation', 'relation': 'instance of', 'object': 'Album'}, {'subject': 'Down in Albion', 'relation': 'instance of', 'object': 'Album'}, {'subject': 'Pete Doherty', 'relation': 'member of', 'object': 'The Libertines'}, {'subject': 'The Libertines', 'relation': 'instance of', 'object': 'Band'}]\n",
      "OUTPUT:  {'subject': 'None', 'relation': 'instance of', 'object': 'None'}\n",
      "OUTPUT:  {'subject': 'Up the Shambles – Live in Manchester', 'relation': 'performer', 'object': 'Babyshambles'}\n",
      "OUTPUT:  {'subject': 'Up the Shambles – Live in Manchester', 'relation': 'None', 'object': 'None'}\n",
      "OUTPUT:  {'subject': 'Up the Shambles – Live in Manchester', 'relation': 'None', 'object': 'None'}\n",
      "OUTPUT:  {'subject': 'Up the Shambles – Live in Manchester', 'relation': 'inception', 'object': 'None'}\n",
      "OUTPUT:  {'subject': 'None', 'relation': 'instance of', 'object': 'Album'}\n",
      "OUTPUT:  {'subject': 'Down in Albion', 'relation': 'instance of', 'object': 'Album'}\n",
      "OUTPUT:  {'subject': 'Peter Doherty', 'relation': 'member of', 'object': 'The Libertines'}\n"
     ]
    },
    {
     "name": "stderr",
     "output_type": "stream",
     "text": [
      " 40%|████      | 4/10 [08:25<12:26, 124.38s/it]"
     ]
    },
    {
     "name": "stdout",
     "output_type": "stream",
     "text": [
      "OUTPUT:  {'subject': 'The Libertines', 'relation': 'instance of', 'object': 'None'}\n",
      "Text:  The Libertines are an English rock band, formed in London in 1997 by frontmen Carl Barât (vocals/guitar) and Pete Doherty (vocals/guitar). The band, centred on the songwriting partnership of Barât and Doherty, has also included John Hassall (bass) and Gary Powell (drums) for most of its recording career. The band was part of the garage rock revival and spearheaded the movement in the UK.\n",
      "Extracted triplets after 1st step prompting:  [{'subject': 'The Libertines', 'relation': 'instance of', 'object': 'Rock band'}, {'subject': 'The Libertines', 'relation': 'country of origin', 'object': 'England'}, {'subject': 'The Libertines', 'relation': 'location of formation', 'object': 'London'}, {'subject': 'The Libertines', 'relation': 'inception', 'object': '1997'}, {'subject': 'The Libertines', 'relation': 'has part', 'object': 'Carl Barât'}, {'subject': 'The Libertines', 'relation': 'has part', 'object': 'Pete Doherty'}, {'subject': 'The Libertines', 'relation': 'has part', 'object': 'John Hassall'}, {'subject': 'The Libertines', 'relation': 'has part', 'object': 'Gary Powell'}, {'subject': 'The Libertines', 'relation': 'genre', 'object': 'Garage rock'}, {'subject': 'The Libertines', 'relation': 'movement', 'object': 'Garage rock revival'}, {'subject': 'Carl Barât', 'relation': 'occupation', 'object': 'Vocalist'}, {'subject': 'Carl Barât', 'relation': 'occupation', 'object': 'Guitarist'}, {'subject': 'Pete Doherty', 'relation': 'occupation', 'object': 'Vocalist'}, {'subject': 'Pete Doherty', 'relation': 'occupation', 'object': 'Guitarist'}, {'subject': 'John Hassall', 'relation': 'occupation', 'object': 'Bassist'}, {'subject': 'Gary Powell', 'relation': 'occupation', 'object': 'Drummer'}]\n",
      "OUTPUT:  {'subject': 'The Libertines', 'relation': 'instance of', 'object': 'Band'}\n",
      "OUTPUT:  {'subject': 'The Libertines', 'relation': 'country of origin', 'object': 'United Kingdom'}\n",
      "OUTPUT:  {'subject': 'The Libertines', 'relation': 'inception', 'object': 'United Kingdom'}\n",
      "OUTPUT:  {'subject': 'The Libertines', 'relation': 'inception', 'object': '1997'}\n",
      "OUTPUT:  {'subject': 'The Libertines', 'relation': 'member of', 'object': 'Carl Barât'}\n",
      "OUTPUT:  {'subject': 'The Libertines', 'relation': 'member of', 'object': 'Peter Doherty'}\n",
      "OUTPUT:  {'subject': 'The Libertines', 'relation': 'member of', 'object': 'None'}\n",
      "OUTPUT:  {'subject': 'The Libertines', 'relation': 'member of', 'object': 'None'}\n",
      "OUTPUT:  {'subject': 'The Libertines', 'relation': 'instance of', 'object': 'None'}\n",
      "OUTPUT:  {'subject': 'The Libertines', 'relation': 'member of', 'object': 'Garage rock'}\n",
      "OUTPUT:  {'subject': 'Carl Barât', 'relation': 'performer', 'object': 'Musician'}\n",
      "OUTPUT:  {'subject': 'Carl Barât', 'relation': 'performer', 'object': 'Musician'}\n",
      "OUTPUT:  {'subject': 'Peter Doherty', 'relation': 'performer', 'object': 'Musician'}\n",
      "OUTPUT:  {'subject': 'Peter Doherty', 'relation': 'performer', 'object': 'Musician'}\n",
      "OUTPUT:  {'subject': 'John Hassall', 'relation': 'member of', 'object': 'Musician'}\n"
     ]
    },
    {
     "name": "stderr",
     "output_type": "stream",
     "text": [
      " 50%|█████     | 5/10 [11:17<11:46, 141.36s/it]"
     ]
    },
    {
     "name": "stdout",
     "output_type": "stream",
     "text": [
      "OUTPUT:  {'subject': 'Gary Powell', 'relation': 'performer', 'object': 'Musician'}\n",
      "Text:  Paul Nicholas Roundhill (born 25 March 1955 in London) is an English artist and writer based in the East End of London, England. He is best known for his association with musician Pete Doherty, acting as his self-styled literary agent and previously running the website balachada.com (Bala Chadha being street slang for crack cocaine from the Bengali translation of \"good white\"), which was closed by Doherty in May 2006.\n",
      "Extracted triplets after 1st step prompting:  [{'subject': 'Paul Nicholas Roundhill', 'relation': 'date of birth', 'object': '25 March 1955'}, {'subject': 'Paul Nicholas Roundhill', 'relation': 'place of birth', 'object': 'London'}, {'subject': 'Paul Nicholas Roundhill', 'relation': 'country of citizenship', 'object': 'England'}, {'subject': 'Paul Nicholas Roundhill', 'relation': 'occupation', 'object': 'Artist'}, {'subject': 'Paul Nicholas Roundhill', 'relation': 'occupation', 'object': 'Writer'}, {'subject': 'Paul Nicholas Roundhill', 'relation': 'location', 'object': 'East End of London'}, {'subject': 'Paul Nicholas Roundhill', 'relation': 'notable work', 'object': 'balachada.com'}, {'subject': 'Paul Nicholas Roundhill', 'relation': 'notable association', 'object': 'Pete Doherty'}, {'subject': 'balachada.com', 'relation': 'closure date', 'object': 'May 2006'}, {'subject': 'balachada.com', 'relation': 'related to', 'object': 'Bala Chadha'}, {'subject': 'Bala Chadha', 'relation': 'meaning', 'object': 'crack cocaine'}, {'subject': 'Bala Chadha', 'relation': 'language of origin', 'object': 'Bengali'}]\n",
      "OUTPUT:  {'subject': 'None', 'relation': 'date of birth', 'object': 'None'}\n",
      "OUTPUT:  {'subject': 'Paul Nicholas Roundhill', 'relation': 'None', 'object': 'None'}\n",
      "OUTPUT:  {'subject': 'Paul Nicholas Roundhill', 'relation': 'country of origin', 'object': 'United Kingdom'}\n",
      "OUTPUT:  {'subject': 'Paul Nicholas Roundhill', 'relation': 'None', 'object': 'Poet'}\n",
      "OUTPUT:  {'subject': 'Paul Nicholas Roundhill', 'relation': 'occupation', 'object': 'Poet'}\n",
      "OUTPUT:  {'subject': 'Paul Nicholas Roundhill', 'relation': 'None', 'object': 'London'}\n",
      "OUTPUT:  {'subject': 'Paul Nicholas Roundhill', 'relation': 'formerly known as', 'object': 'None'}\n",
      "OUTPUT:  {'subject': 'Paul Nicholas Roundhill', 'relation': 'formerly known as', 'object': 'Peter Doherty'}\n",
      "OUTPUT:  {'subject': 'balachada.com', 'relation': 'release date', 'object': 'None'}\n",
      "OUTPUT:  {'subject': 'balachada.com', 'relation': 'formerly known as', 'object': 'balachada.com'}\n",
      "OUTPUT:  {'subject': 'balachada.com', 'relation': 'formerly known as', 'object': 'None'}\n"
     ]
    },
    {
     "name": "stderr",
     "output_type": "stream",
     "text": [
      " 60%|██████    | 6/10 [13:14<08:53, 133.28s/it]"
     ]
    },
    {
     "name": "stdout",
     "output_type": "stream",
     "text": [
      "OUTPUT:  {'subject': 'balachada.com', 'relation': 'formerly known as', 'object': 'crack cocaine'}\n",
      "Text:  The Books of Albion, or Journals: The Collected Writings of Peter Doherty, is an anthology of the poetry and diary entries of English musician and poet Pete Doherty. He is also currently a member of the group Babyshambles but is most known for his time as front man of The Libertines. The book has writings from 1999 up until 2007 and was released on the 30 May 2007 by Orion Books.\n",
      "Extracted triplets after 1st step prompting:  [{'subject': 'The Books of Albion', 'relation': 'instance of', 'object': 'Anthology'}, {'subject': 'The Books of Albion', 'relation': 'author', 'object': 'Pete Doherty'}, {'subject': 'The Books of Albion', 'relation': 'publication date', 'object': '30 May 2007'}, {'subject': 'The Books of Albion', 'relation': 'publisher', 'object': 'Orion Books'}, {'subject': 'Pete Doherty', 'relation': 'occupation', 'object': 'Musician'}, {'subject': 'Pete Doherty', 'relation': 'occupation', 'object': 'Poet'}, {'subject': 'Pete Doherty', 'relation': 'member of', 'object': 'Babyshambles'}, {'subject': 'Pete Doherty', 'relation': 'member of', 'object': 'The Libertines'}, {'subject': 'Pete Doherty', 'relation': 'country of citizenship', 'object': 'England'}, {'subject': 'The Libertines', 'relation': 'has part', 'object': 'Pete Doherty'}, {'subject': 'Babyshambles', 'relation': 'has part', 'object': 'Pete Doherty'}]\n",
      "OUTPUT:  {'subject': 'None', 'relation': 'instance of', 'object': 'None'}\n",
      "OUTPUT:  {'subject': 'The Books of Albion', 'relation': 'None', 'object': 'Peter Doherty'}\n",
      "OUTPUT:  {'subject': 'The Books of Albion', 'relation': 'release date', 'object': 'None'}\n",
      "OUTPUT:  {'subject': 'The Books of Albion', 'relation': 'None', 'object': 'None'}\n",
      "OUTPUT:  {'subject': 'Peter Doherty', 'relation': 'occupation', 'object': 'Musician'}\n",
      "OUTPUT:  {'subject': 'Peter Doherty', 'relation': 'occupation', 'object': 'Poet'}\n",
      "OUTPUT:  {'subject': 'Peter Doherty', 'relation': 'member of', 'object': 'Babyshambles'}\n",
      "OUTPUT:  {'subject': 'Peter Doherty', 'relation': 'member of', 'object': 'The Libertines'}\n",
      "OUTPUT:  {'subject': 'Peter Doherty', 'relation': 'country of origin', 'object': 'United Kingdom'}\n",
      "OUTPUT:  {'subject': 'The Libertines', 'relation': 'member of', 'object': 'Peter Doherty'}\n"
     ]
    },
    {
     "name": "stderr",
     "output_type": "stream",
     "text": [
      " 70%|███████   | 7/10 [15:10<06:22, 127.57s/it]"
     ]
    },
    {
     "name": "stdout",
     "output_type": "stream",
     "text": [
      "OUTPUT:  {'subject': 'Babyshambles', 'relation': 'member of', 'object': 'Peter Doherty'}\n",
      "Text:  Dirty Pretty Things were an English band fronted by Carl Barât, a member of The Libertines. The formation of the band was announced in September 2005, after a dispute between Barât and Pete Doherty led to the breakup of The Libertines in 2004. Barât had worked with Vertigo Records and had previously revealed that his new project was with the label. Didz Hammond announced he was leaving the Cooper Temple Clause to join the band alongside Libertines drummer Gary Powell and guitarist Anthony Rossomando, who had filled in for Doherty following his departure from The Libertines. They played their first shows in October 2005 in Italy and Paris, France. They announced their split on 1 October 2008 and played their final shows during November.\n",
      "Extracted triplets after 1st step prompting:  [{'subject': 'Dirty Pretty Things', 'relation': 'instance of', 'object': 'Band'}, {'subject': 'Dirty Pretty Things', 'relation': 'country of origin', 'object': 'England'}, {'subject': 'Dirty Pretty Things', 'relation': 'fronted by', 'object': 'Carl Barât'}, {'subject': 'Carl Barât', 'relation': 'member of', 'object': 'The Libertines'}, {'subject': 'Dirty Pretty Things', 'relation': 'formation announced', 'object': 'September 2005'}, {'subject': 'The Libertines', 'relation': 'dissolved, abolished or demolished date', 'object': '2004'}, {'subject': 'Carl Barât', 'relation': 'conflict with', 'object': 'Pete Doherty'}, {'subject': 'Carl Barât', 'relation': 'worked with', 'object': 'Vertigo Records'}, {'subject': 'Didz Hammond', 'relation': 'left', 'object': 'The Cooper Temple Clause'}, {'subject': 'Didz Hammond', 'relation': 'joined', 'object': 'Dirty Pretty Things'}, {'subject': 'Gary Powell', 'relation': 'member of', 'object': 'Dirty Pretty Things'}, {'subject': 'Anthony Rossomando', 'relation': 'member of', 'object': 'Dirty Pretty Things'}, {'subject': 'Anthony Rossomando', 'relation': 'filled in for', 'object': 'Pete Doherty'}, {'subject': 'Dirty Pretty Things', 'relation': 'first shows date', 'object': 'October 2005'}, {'subject': 'Dirty Pretty Things', 'relation': 'first shows location', 'object': 'Italy'}, {'subject': 'Dirty Pretty Things', 'relation': 'first shows location', 'object': 'Paris, France'}, {'subject': 'Dirty Pretty Things', 'relation': 'dissolved, abolished or demolished date', 'object': '1 October 2008'}, {'subject': 'Dirty Pretty Things', 'relation': 'final shows date', 'object': 'November 2008'}]\n",
      "OUTPUT:  {'subject': 'None', 'relation': 'instance of', 'object': 'Band'}\n",
      "OUTPUT:  {'subject': 'Dirty Pretty Things', 'relation': 'country of origin', 'object': 'United Kingdom'}\n",
      "OUTPUT:  {'subject': 'Dirty Pretty Things', 'relation': 'performer', 'object': 'Carl Barât'}\n",
      "OUTPUT:  {'subject': 'Carl Barât', 'relation': 'member of', 'object': 'The Libertines'}\n",
      "OUTPUT:  {'subject': 'Dirty Pretty Things', 'relation': 'inception', 'object': 'None'}\n",
      "OUTPUT:  {'subject': 'The Libertines', 'relation': 'None', 'object': 'None'}\n",
      "OUTPUT:  {'subject': 'Carl Barât', 'relation': 'None', 'object': 'Peter Doherty'}\n",
      "OUTPUT:  {'subject': 'Carl Barât', 'relation': 'None', 'object': 'None'}\n",
      "OUTPUT:  {'subject': 'None', 'relation': 'None', 'object': 'None'}\n",
      "OUTPUT:  {'subject': 'Didz Hammond', 'relation': 'member of', 'object': 'Dirty Pretty Things'}\n",
      "OUTPUT:  {'subject': 'Gary Powell', 'relation': 'member of', 'object': 'Dirty Pretty Things'}\n",
      "OUTPUT:  {'subject': 'Anthony Rossomando', 'relation': 'member of', 'object': 'Dirty Pretty Things'}\n",
      "OUTPUT:  {'subject': 'None', 'relation': 'performer', 'object': 'Peter Doherty'}\n",
      "OUTPUT:  {'subject': 'Dirty Pretty Things', 'relation': 'inception', 'object': 'None'}\n",
      "OUTPUT:  {'subject': 'Dirty Pretty Things', 'relation': 'location', 'object': 'None'}\n",
      "OUTPUT:  {'subject': 'Dirty Pretty Things', 'relation': 'location', 'object': 'None'}\n",
      "OUTPUT:  {'subject': 'Dirty Pretty Things', 'relation': 'dissolved, abolished or demolished date', 'object': 'None'}\n"
     ]
    },
    {
     "name": "stderr",
     "output_type": "stream",
     "text": [
      " 80%|████████  | 8/10 [18:22<04:56, 148.02s/it]"
     ]
    },
    {
     "name": "stdout",
     "output_type": "stream",
     "text": [
      "OUTPUT:  {'subject': 'Dirty Pretty Things', 'relation': 'dissolved, abolished or demolished date', 'object': 'None'}\n",
      "Text:  Stalking Pete Doherty is a rockumentary assembled from footage shot by Max Carlish, a BAFTA Award–winning film director. As the title suggests, it is about both attempts by Carlish to interview Pete Doherty.\n",
      "Extracted triplets after 1st step prompting:  [{'subject': 'Stalking Pete Doherty', 'relation': 'instance of', 'object': 'Rockumentary'}, {'subject': 'Stalking Pete Doherty', 'relation': 'director', 'object': 'Max Carlish'}, {'subject': 'Max Carlish', 'relation': 'award received', 'object': 'BAFTA Award'}, {'subject': 'Stalking Pete Doherty', 'relation': 'main subject', 'object': 'Pete Doherty'}]\n",
      "OUTPUT:  {'subject': 'None', 'relation': 'instance of', 'object': 'Film'}\n",
      "OUTPUT:  {'subject': 'Stalking Pete Doherty', 'relation': 'producer', 'object': 'None'}\n",
      "OUTPUT:  {'subject': 'Max Carlish', 'relation': None, 'object': None}\n"
     ]
    },
    {
     "name": "stderr",
     "output_type": "stream",
     "text": [
      " 90%|█████████ | 9/10 [19:00<01:53, 113.58s/it]"
     ]
    },
    {
     "name": "stdout",
     "output_type": "stream",
     "text": [
      "OUTPUT:  {'subject': 'Stalking Pete Doherty', 'relation': 'None', 'object': 'Peter Doherty'}\n",
      "Text:  The Greatest of All Lost Arts is the second album by the American post-hardcore band Lower Definition. The album was recorded in early 2008 with producer Kris Crummett and was released on July 8. The album contains 11 tracks, with Jonny Craig providing guest vocals on \"Pueblo Cicada\". The band hand-picked Kris Crummett as their producer. This album marks the last appearance by bassist Stefan Toler and founding member/drummer Valentino Arteaga.\n",
      "Extracted triplets after 1st step prompting:  [{'subject': 'The Greatest of All Lost Arts', 'relation': 'instance of', 'object': 'Album'}, {'subject': 'The Greatest of All Lost Arts', 'relation': 'performer', 'object': 'Lower Definition'}, {'subject': 'Lower Definition', 'relation': 'instance of', 'object': 'Post-hardcore band'}, {'subject': 'The Greatest of All Lost Arts', 'relation': 'producer', 'object': 'Kris Crummett'}, {'subject': 'The Greatest of All Lost Arts', 'relation': 'publication date', 'object': 'July 8, 2008'}, {'subject': 'The Greatest of All Lost Arts', 'relation': 'number of tracks', 'object': '11'}, {'subject': 'The Greatest of All Lost Arts', 'relation': 'guest performer', 'object': 'Jonny Craig'}, {'subject': 'The Greatest of All Lost Arts', 'relation': 'track', 'object': 'Pueblo Cicada'}, {'subject': 'The Greatest of All Lost Arts', 'relation': 'last appearance by', 'object': 'Stefan Toler'}, {'subject': 'The Greatest of All Lost Arts', 'relation': 'last appearance by', 'object': 'Valentino Arteaga'}]\n",
      "OUTPUT:  {'subject': 'None', 'relation': 'instance of', 'object': 'Album'}\n",
      "OUTPUT:  {'subject': 'The Greatest of All Lost Arts', 'relation': 'None', 'object': 'Post-hardcore band'}\n",
      "OUTPUT:  {'subject': 'Lower Definition', 'relation': 'instance of', 'object': 'Post-hardcore band'}\n",
      "OUTPUT:  {'subject': 'The Greatest of All Lost Arts', 'relation': 'producer', 'object': 'Kris Crummett'}\n",
      "OUTPUT:  {'subject': 'The Greatest of All Lost Arts', 'relation': 'release date', 'object': 'July 8, 2008'}\n",
      "OUTPUT:  {'subject': 'The Greatest of All Lost Arts', 'relation': 'None', 'object': 'None'}\n",
      "OUTPUT:  {'subject': 'The Greatest of All Lost Arts', 'relation': 'performer', 'object': 'Jonny Craig'}\n",
      "OUTPUT:  {'subject': 'The Greatest of All Lost Arts', 'relation': 'number of tracks', 'object': 'None'}\n",
      "OUTPUT:  {'subject': 'The Greatest of All Lost Arts', 'relation': 'left', 'object': 'None'}\n"
     ]
    },
    {
     "name": "stderr",
     "output_type": "stream",
     "text": [
      "100%|██████████| 10/10 [20:43<00:00, 124.34s/it]"
     ]
    },
    {
     "name": "stdout",
     "output_type": "stream",
     "text": [
      "OUTPUT:  {'subject': 'The Greatest of All Lost Arts', 'relation': 'left', 'object': 'None'}\n"
     ]
    },
    {
     "name": "stderr",
     "output_type": "stream",
     "text": [
      "\n"
     ]
    }
   ],
   "source": [
    "df = extract_kg_from_texts(texts)"
   ]
  },
  {
   "cell_type": "code",
   "execution_count": 14,
   "metadata": {},
   "outputs": [
    {
     "data": {
      "text/html": [
       "<div>\n",
       "<style scoped>\n",
       "    .dataframe tbody tr th:only-of-type {\n",
       "        vertical-align: middle;\n",
       "    }\n",
       "\n",
       "    .dataframe tbody tr th {\n",
       "        vertical-align: top;\n",
       "    }\n",
       "\n",
       "    .dataframe thead th {\n",
       "        text-align: right;\n",
       "    }\n",
       "</style>\n",
       "<table border=\"1\" class=\"dataframe\">\n",
       "  <thead>\n",
       "    <tr style=\"text-align: right;\">\n",
       "      <th></th>\n",
       "      <th>subject</th>\n",
       "      <th>relation</th>\n",
       "      <th>object</th>\n",
       "    </tr>\n",
       "  </thead>\n",
       "  <tbody>\n",
       "    <tr>\n",
       "      <th>0</th>\n",
       "      <td>Constantin Medien AG</td>\n",
       "      <td>formerly known as</td>\n",
       "      <td>EM.Entertainment</td>\n",
       "    </tr>\n",
       "    <tr>\n",
       "      <th>1</th>\n",
       "      <td>Constantin Medien AG</td>\n",
       "      <td>formerly known as</td>\n",
       "      <td>EM.TV &amp; Merchandising AG</td>\n",
       "    </tr>\n",
       "    <tr>\n",
       "      <th>2</th>\n",
       "      <td>Constantin Medien AG</td>\n",
       "      <td>formerly known as</td>\n",
       "      <td>EM.TV AG</td>\n",
       "    </tr>\n",
       "    <tr>\n",
       "      <th>3</th>\n",
       "      <td>Constantin Medien AG</td>\n",
       "      <td>formerly known as</td>\n",
       "      <td>em.sport media ag</td>\n",
       "    </tr>\n",
       "    <tr>\n",
       "      <th>4</th>\n",
       "      <td>Constantin Medien AG</td>\n",
       "      <td>formerly known as</td>\n",
       "      <td>Germany</td>\n",
       "    </tr>\n",
       "    <tr>\n",
       "      <th>...</th>\n",
       "      <td>...</td>\n",
       "      <td>...</td>\n",
       "      <td>...</td>\n",
       "    </tr>\n",
       "    <tr>\n",
       "      <th>99</th>\n",
       "      <td>John M. Keller</td>\n",
       "      <td>notable work</td>\n",
       "      <td>ARCS model of instructional design</td>\n",
       "    </tr>\n",
       "    <tr>\n",
       "      <th>100</th>\n",
       "      <td>ARCS model of instructional design</td>\n",
       "      <td>component of</td>\n",
       "      <td>Attention</td>\n",
       "    </tr>\n",
       "    <tr>\n",
       "      <th>101</th>\n",
       "      <td>ARCS model of instructional design</td>\n",
       "      <td>component of</td>\n",
       "      <td>Relevance</td>\n",
       "    </tr>\n",
       "    <tr>\n",
       "      <th>102</th>\n",
       "      <td>ARCS model of instructional design</td>\n",
       "      <td>component of</td>\n",
       "      <td>Confidence</td>\n",
       "    </tr>\n",
       "    <tr>\n",
       "      <th>103</th>\n",
       "      <td>ARCS model of instructional design</td>\n",
       "      <td>component of</td>\n",
       "      <td>Satisfaction</td>\n",
       "    </tr>\n",
       "  </tbody>\n",
       "</table>\n",
       "<p>98 rows × 3 columns</p>\n",
       "</div>"
      ],
      "text/plain": [
       "                                subject           relation  \\\n",
       "0                  Constantin Medien AG  formerly known as   \n",
       "1                  Constantin Medien AG  formerly known as   \n",
       "2                  Constantin Medien AG  formerly known as   \n",
       "3                  Constantin Medien AG  formerly known as   \n",
       "4                  Constantin Medien AG  formerly known as   \n",
       "..                                  ...                ...   \n",
       "99                       John M. Keller       notable work   \n",
       "100  ARCS model of instructional design       component of   \n",
       "101  ARCS model of instructional design       component of   \n",
       "102  ARCS model of instructional design       component of   \n",
       "103  ARCS model of instructional design       component of   \n",
       "\n",
       "                                 object  \n",
       "0                      EM.Entertainment  \n",
       "1              EM.TV & Merchandising AG  \n",
       "2                              EM.TV AG  \n",
       "3                     em.sport media ag  \n",
       "4                               Germany  \n",
       "..                                  ...  \n",
       "99   ARCS model of instructional design  \n",
       "100                           Attention  \n",
       "101                           Relevance  \n",
       "102                          Confidence  \n",
       "103                        Satisfaction  \n",
       "\n",
       "[98 rows x 3 columns]"
      ]
     },
     "execution_count": 14,
     "metadata": {},
     "output_type": "execute_result"
    }
   ],
   "source": [
    "df.drop_duplicates()"
   ]
  },
  {
   "cell_type": "code",
   "execution_count": 41,
   "metadata": {},
   "outputs": [],
   "source": [
    "G = nx.Graph()\n",
    "for _, row in df.iterrows():\n",
    "  G.add_edge(row['subject'], row['object'], label=row['relation'])\n",
    "\n",
    "pos = nx.fruchterman_reingold_layout(G, k=0.5)"
   ]
  },
  {
   "cell_type": "code",
   "execution_count": 42,
   "metadata": {},
   "outputs": [
    {
     "data": {
      "application/vnd.plotly.v1+json": {
       "config": {
        "plotlyServerURL": "https://plot.ly"
       },
       "data": [
        {
         "hoverinfo": "none",
         "line": {
          "color": "gray",
          "width": 0.5
         },
         "mode": "lines",
         "type": "scatter",
         "x": [
          -0.02807589770064372,
          0.41068091325948414,
          null
         ],
         "y": [
          0.2625143075762723,
          0.6261959841488433,
          null
         ]
        },
        {
         "hoverinfo": "none",
         "line": {
          "color": "gray",
          "width": 0.5
         },
         "mode": "lines",
         "type": "scatter",
         "x": [
          -0.02807589770064372,
          0.12094718706376555,
          null
         ],
         "y": [
          0.2625143075762723,
          -0.10639184547854914,
          null
         ]
        },
        {
         "hoverinfo": "none",
         "line": {
          "color": "gray",
          "width": 0.5
         },
         "mode": "lines",
         "type": "scatter",
         "x": [
          -0.02807589770064372,
          -0.11490432333712865,
          null
         ],
         "y": [
          0.2625143075762723,
          -0.18675238884376777,
          null
         ]
        },
        {
         "hoverinfo": "none",
         "line": {
          "color": "gray",
          "width": 0.5
         },
         "mode": "lines",
         "type": "scatter",
         "x": [
          -0.02807589770064372,
          0.22483015535001857,
          null
         ],
         "y": [
          0.2625143075762723,
          0.8011763686574237,
          null
         ]
        },
        {
         "hoverinfo": "none",
         "line": {
          "color": "gray",
          "width": 0.5
         },
         "mode": "lines",
         "type": "scatter",
         "x": [
          -0.02807589770064372,
          0.35599636984554006,
          null
         ],
         "y": [
          0.2625143075762723,
          -0.09861266325777773,
          null
         ]
        },
        {
         "hoverinfo": "none",
         "line": {
          "color": "gray",
          "width": 0.5
         },
         "mode": "lines",
         "type": "scatter",
         "x": [
          -0.02807589770064372,
          -0.21017845023781606,
          null
         ],
         "y": [
          0.2625143075762723,
          -0.19395002585339924,
          null
         ]
        },
        {
         "hoverinfo": "none",
         "line": {
          "color": "gray",
          "width": 0.5
         },
         "mode": "lines",
         "type": "scatter",
         "x": [
          -0.02807589770064372,
          0.11730495133291265,
          null
         ],
         "y": [
          0.2625143075762723,
          0.7618404295166633,
          null
         ]
        },
        {
         "hoverinfo": "none",
         "line": {
          "color": "gray",
          "width": 0.5
         },
         "mode": "lines",
         "type": "scatter",
         "x": [
          -0.02807589770064372,
          -0.3742035602159701,
          null
         ],
         "y": [
          0.2625143075762723,
          0.7340082195644506,
          null
         ]
        },
        {
         "hoverinfo": "none",
         "line": {
          "color": "gray",
          "width": 0.5
         },
         "mode": "lines",
         "type": "scatter",
         "x": [
          -0.02807589770064372,
          0.25179788805961506,
          null
         ],
         "y": [
          0.2625143075762723,
          -0.41880722604605347,
          null
         ]
        },
        {
         "hoverinfo": "none",
         "line": {
          "color": "gray",
          "width": 0.5
         },
         "mode": "lines",
         "type": "scatter",
         "x": [
          -0.02807589770064372,
          -0.5680780534620379,
          null
         ],
         "y": [
          0.2625143075762723,
          0.43107231017644526,
          null
         ]
        },
        {
         "hoverinfo": "none",
         "line": {
          "color": "gray",
          "width": 0.5
         },
         "mode": "lines",
         "type": "scatter",
         "x": [
          -0.02807589770064372,
          -0.3194447215386878,
          null
         ],
         "y": [
          0.2625143075762723,
          -0.22536614433984595,
          null
         ]
        },
        {
         "hoverinfo": "none",
         "line": {
          "color": "gray",
          "width": 0.5
         },
         "mode": "lines",
         "type": "scatter",
         "x": [
          -0.02807589770064372,
          0.17807648248314772,
          null
         ],
         "y": [
          0.2625143075762723,
          0.40408963406697457,
          null
         ]
        },
        {
         "hoverinfo": "none",
         "line": {
          "color": "gray",
          "width": 0.5
         },
         "mode": "lines",
         "type": "scatter",
         "x": [
          -0.02807589770064372,
          -0.3666804501630165,
          null
         ],
         "y": [
          0.2625143075762723,
          0.6285221819838835,
          null
         ]
        },
        {
         "hoverinfo": "none",
         "line": {
          "color": "gray",
          "width": 0.5
         },
         "mode": "lines",
         "type": "scatter",
         "x": [
          0.12094718706376555,
          -0.21017845023781606,
          null
         ],
         "y": [
          -0.10639184547854914,
          -0.19395002585339924,
          null
         ]
        },
        {
         "hoverinfo": "none",
         "line": {
          "color": "gray",
          "width": 0.5
         },
         "mode": "lines",
         "type": "scatter",
         "x": [
          0.12094718706376555,
          0.25179788805961506,
          null
         ],
         "y": [
          -0.10639184547854914,
          -0.41880722604605347,
          null
         ]
        },
        {
         "hoverinfo": "none",
         "line": {
          "color": "gray",
          "width": 0.5
         },
         "mode": "lines",
         "type": "scatter",
         "x": [
          0.12094718706376555,
          0.20478539543862553,
          null
         ],
         "y": [
          -0.10639184547854914,
          -0.0670934015712377,
          null
         ]
        },
        {
         "hoverinfo": "none",
         "line": {
          "color": "gray",
          "width": 0.5
         },
         "mode": "lines",
         "type": "scatter",
         "x": [
          -0.11490432333712865,
          0.2247085077671312,
          null
         ],
         "y": [
          -0.18675238884376777,
          -0.20163030086355155,
          null
         ]
        },
        {
         "hoverinfo": "none",
         "line": {
          "color": "gray",
          "width": 0.5
         },
         "mode": "lines",
         "type": "scatter",
         "x": [
          -0.11490432333712865,
          -0.3194447215386878,
          null
         ],
         "y": [
          -0.18675238884376777,
          -0.22536614433984595,
          null
         ]
        },
        {
         "hoverinfo": "none",
         "line": {
          "color": "gray",
          "width": 0.5
         },
         "mode": "lines",
         "type": "scatter",
         "x": [
          -0.11490432333712865,
          -0.3668903526656767,
          null
         ],
         "y": [
          -0.18675238884376777,
          -0.4583529298017353,
          null
         ]
        },
        {
         "hoverinfo": "none",
         "line": {
          "color": "gray",
          "width": 0.5
         },
         "mode": "lines",
         "type": "scatter",
         "x": [
          -0.11490432333712865,
          -0.24324453149028813,
          null
         ],
         "y": [
          -0.18675238884376777,
          -0.15415899341189748,
          null
         ]
        },
        {
         "hoverinfo": "none",
         "line": {
          "color": "gray",
          "width": 0.5
         },
         "mode": "lines",
         "type": "scatter",
         "x": [
          0.35599636984554006,
          0.25179788805961506,
          null
         ],
         "y": [
          -0.09861266325777773,
          -0.41880722604605347,
          null
         ]
        },
        {
         "hoverinfo": "none",
         "line": {
          "color": "gray",
          "width": 0.5
         },
         "mode": "lines",
         "type": "scatter",
         "x": [
          -0.21017845023781606,
          -0.3194447215386878,
          null
         ],
         "y": [
          -0.19395002585339924,
          -0.22536614433984595,
          null
         ]
        },
        {
         "hoverinfo": "none",
         "line": {
          "color": "gray",
          "width": 0.5
         },
         "mode": "lines",
         "type": "scatter",
         "x": [
          -0.21017845023781606,
          0.1610736563291208,
          null
         ],
         "y": [
          -0.19395002585339924,
          -0.48535962195809823,
          null
         ]
        },
        {
         "hoverinfo": "none",
         "line": {
          "color": "gray",
          "width": 0.5
         },
         "mode": "lines",
         "type": "scatter",
         "x": [
          -0.21017845023781606,
          -0.244834003860911,
          null
         ],
         "y": [
          -0.19395002585339924,
          0.05833397426752566,
          null
         ]
        },
        {
         "hoverinfo": "none",
         "line": {
          "color": "gray",
          "width": 0.5
         },
         "mode": "lines",
         "type": "scatter",
         "x": [
          -0.21017845023781606,
          -0.3668903526656767,
          null
         ],
         "y": [
          -0.19395002585339924,
          -0.4583529298017353,
          null
         ]
        },
        {
         "hoverinfo": "none",
         "line": {
          "color": "gray",
          "width": 0.5
         },
         "mode": "lines",
         "type": "scatter",
         "x": [
          -0.21017845023781606,
          -0.24324453149028813,
          null
         ],
         "y": [
          -0.19395002585339924,
          -0.15415899341189748,
          null
         ]
        },
        {
         "hoverinfo": "none",
         "line": {
          "color": "gray",
          "width": 0.5
         },
         "mode": "lines",
         "type": "scatter",
         "x": [
          -0.21017845023781606,
          -0.43001273565218495,
          null
         ],
         "y": [
          -0.19395002585339924,
          0.30431327059263164,
          null
         ]
        },
        {
         "hoverinfo": "none",
         "line": {
          "color": "gray",
          "width": 0.5
         },
         "mode": "lines",
         "type": "scatter",
         "x": [
          -0.21017845023781606,
          -0.4968955780195456,
          null
         ],
         "y": [
          -0.19395002585339924,
          -0.6597929214541475,
          null
         ]
        },
        {
         "hoverinfo": "none",
         "line": {
          "color": "gray",
          "width": 0.5
         },
         "mode": "lines",
         "type": "scatter",
         "x": [
          -0.3194447215386878,
          0.20478539543862553,
          null
         ],
         "y": [
          -0.22536614433984595,
          -0.0670934015712377,
          null
         ]
        },
        {
         "hoverinfo": "none",
         "line": {
          "color": "gray",
          "width": 0.5
         },
         "mode": "lines",
         "type": "scatter",
         "x": [
          -0.3194447215386878,
          -0.775612353501107,
          null
         ],
         "y": [
          -0.22536614433984595,
          -0.57777710163817,
          null
         ]
        },
        {
         "hoverinfo": "none",
         "line": {
          "color": "gray",
          "width": 0.5
         },
         "mode": "lines",
         "type": "scatter",
         "x": [
          0.11730495133291265,
          0.2511335302304682,
          null
         ],
         "y": [
          0.7618404295166633,
          0.6775708508869738,
          null
         ]
        },
        {
         "hoverinfo": "none",
         "line": {
          "color": "gray",
          "width": 0.5
         },
         "mode": "lines",
         "type": "scatter",
         "x": [
          -0.1029991711128717,
          -0.15429087151866194,
          null
         ],
         "y": [
          0.033323405126749785,
          -0.35719702524712554,
          null
         ]
        },
        {
         "hoverinfo": "none",
         "line": {
          "color": "gray",
          "width": 0.5
         },
         "mode": "lines",
         "type": "scatter",
         "x": [
          -0.1029991711128717,
          -0.17199808957464938,
          null
         ],
         "y": [
          0.033323405126749785,
          0.016499705503318494,
          null
         ]
        },
        {
         "hoverinfo": "none",
         "line": {
          "color": "gray",
          "width": 0.5
         },
         "mode": "lines",
         "type": "scatter",
         "x": [
          -0.1029991711128717,
          0.1631023186856485,
          null
         ],
         "y": [
          0.033323405126749785,
          0.26127411736583805,
          null
         ]
        },
        {
         "hoverinfo": "none",
         "line": {
          "color": "gray",
          "width": 0.5
         },
         "mode": "lines",
         "type": "scatter",
         "x": [
          -0.1029991711128717,
          -0.1029991711128717,
          null
         ],
         "y": [
          0.033323405126749785,
          0.033323405126749785,
          null
         ]
        },
        {
         "hoverinfo": "none",
         "line": {
          "color": "gray",
          "width": 0.5
         },
         "mode": "lines",
         "type": "scatter",
         "x": [
          -0.1029991711128717,
          -0.4201090533907767,
          null
         ],
         "y": [
          0.033323405126749785,
          -0.017491686936387606,
          null
         ]
        },
        {
         "hoverinfo": "none",
         "line": {
          "color": "gray",
          "width": 0.5
         },
         "mode": "lines",
         "type": "scatter",
         "x": [
          -0.15429087151866194,
          0.253266124907856,
          null
         ],
         "y": [
          -0.35719702524712554,
          -0.07326019947354762,
          null
         ]
        },
        {
         "hoverinfo": "none",
         "line": {
          "color": "gray",
          "width": 0.5
         },
         "mode": "lines",
         "type": "scatter",
         "x": [
          -0.15429087151866194,
          0.2247085077671312,
          null
         ],
         "y": [
          -0.35719702524712554,
          -0.20163030086355155,
          null
         ]
        },
        {
         "hoverinfo": "none",
         "line": {
          "color": "gray",
          "width": 0.5
         },
         "mode": "lines",
         "type": "scatter",
         "x": [
          -0.15429087151866194,
          -0.6131458015119462,
          null
         ],
         "y": [
          -0.35719702524712554,
          -0.5756871726436851,
          null
         ]
        },
        {
         "hoverinfo": "none",
         "line": {
          "color": "gray",
          "width": 0.5
         },
         "mode": "lines",
         "type": "scatter",
         "x": [
          -0.15429087151866194,
          -0.30862409438383825,
          null
         ],
         "y": [
          -0.35719702524712554,
          -0.88524600922989,
          null
         ]
        },
        {
         "hoverinfo": "none",
         "line": {
          "color": "gray",
          "width": 0.5
         },
         "mode": "lines",
         "type": "scatter",
         "x": [
          -0.15429087151866194,
          -0.12331945154815839,
          null
         ],
         "y": [
          -0.35719702524712554,
          0.14413972245084672,
          null
         ]
        },
        {
         "hoverinfo": "none",
         "line": {
          "color": "gray",
          "width": 0.5
         },
         "mode": "lines",
         "type": "scatter",
         "x": [
          -0.17199808957464938,
          -0.40420047443023016,
          null
         ],
         "y": [
          0.016499705503318494,
          -0.11689657721735368,
          null
         ]
        },
        {
         "hoverinfo": "none",
         "line": {
          "color": "gray",
          "width": 0.5
         },
         "mode": "lines",
         "type": "scatter",
         "x": [
          -0.17199808957464938,
          0.2247085077671312,
          null
         ],
         "y": [
          0.016499705503318494,
          -0.20163030086355155,
          null
         ]
        },
        {
         "hoverinfo": "none",
         "line": {
          "color": "gray",
          "width": 0.5
         },
         "mode": "lines",
         "type": "scatter",
         "x": [
          0.1631023186856485,
          -0.12331945154815839,
          null
         ],
         "y": [
          0.26127411736583805,
          0.14413972245084672,
          null
         ]
        },
        {
         "hoverinfo": "none",
         "line": {
          "color": "gray",
          "width": 0.5
         },
         "mode": "lines",
         "type": "scatter",
         "x": [
          -0.4201090533907767,
          -0.9294289537248523,
          null
         ],
         "y": [
          -0.017491686936387606,
          0.19440940316515132,
          null
         ]
        },
        {
         "hoverinfo": "none",
         "line": {
          "color": "gray",
          "width": 0.5
         },
         "mode": "lines",
         "type": "scatter",
         "x": [
          -0.4201090533907767,
          -0.6444821608600002,
          null
         ],
         "y": [
          -0.017491686936387606,
          -0.33533874151032966,
          null
         ]
        },
        {
         "hoverinfo": "none",
         "line": {
          "color": "gray",
          "width": 0.5
         },
         "mode": "lines",
         "type": "scatter",
         "x": [
          -0.4201090533907767,
          0.2247085077671312,
          null
         ],
         "y": [
          -0.017491686936387606,
          -0.20163030086355155,
          null
         ]
        },
        {
         "hoverinfo": "none",
         "line": {
          "color": "gray",
          "width": 0.5
         },
         "mode": "lines",
         "type": "scatter",
         "x": [
          -0.4201090533907767,
          -0.12331945154815839,
          null
         ],
         "y": [
          -0.017491686936387606,
          0.14413972245084672,
          null
         ]
        },
        {
         "hoverinfo": "none",
         "line": {
          "color": "gray",
          "width": 0.5
         },
         "mode": "lines",
         "type": "scatter",
         "x": [
          -0.40420047443023016,
          0.2247085077671312,
          null
         ],
         "y": [
          -0.11689657721735368,
          -0.20163030086355155,
          null
         ]
        },
        {
         "hoverinfo": "none",
         "line": {
          "color": "gray",
          "width": 0.5
         },
         "mode": "lines",
         "type": "scatter",
         "x": [
          -0.40420047443023016,
          -0.12331945154815839,
          null
         ],
         "y": [
          -0.11689657721735368,
          0.14413972245084672,
          null
         ]
        },
        {
         "hoverinfo": "none",
         "line": {
          "color": "gray",
          "width": 0.5
         },
         "mode": "lines",
         "type": "scatter",
         "x": [
          -0.40420047443023016,
          -0.9490190298568684,
          null
         ],
         "y": [
          -0.11689657721735368,
          -0.17233469985733882,
          null
         ]
        },
        {
         "hoverinfo": "none",
         "line": {
          "color": "gray",
          "width": 0.5
         },
         "mode": "lines",
         "type": "scatter",
         "x": [
          0.2247085077671312,
          0.7734073563715704,
          null
         ],
         "y": [
          -0.20163030086355155,
          -0.41937391744237135,
          null
         ]
        },
        {
         "hoverinfo": "none",
         "line": {
          "color": "gray",
          "width": 0.5
         },
         "mode": "lines",
         "type": "scatter",
         "x": [
          0.2247085077671312,
          0.6559718490735456,
          null
         ],
         "y": [
          -0.20163030086355155,
          -0.40120259845941214,
          null
         ]
        },
        {
         "hoverinfo": "none",
         "line": {
          "color": "gray",
          "width": 0.5
         },
         "mode": "lines",
         "type": "scatter",
         "x": [
          0.2247085077671312,
          0.253266124907856,
          null
         ],
         "y": [
          -0.20163030086355155,
          -0.07326019947354762,
          null
         ]
        },
        {
         "hoverinfo": "none",
         "line": {
          "color": "gray",
          "width": 0.5
         },
         "mode": "lines",
         "type": "scatter",
         "x": [
          0.2247085077671312,
          0.6526343774458215,
          null
         ],
         "y": [
          -0.20163030086355155,
          -0.5409108840535926,
          null
         ]
        },
        {
         "hoverinfo": "none",
         "line": {
          "color": "gray",
          "width": 0.5
         },
         "mode": "lines",
         "type": "scatter",
         "x": [
          0.2247085077671312,
          0.6506481130877133,
          null
         ],
         "y": [
          -0.20163030086355155,
          0.09600614627844233,
          null
         ]
        },
        {
         "hoverinfo": "none",
         "line": {
          "color": "gray",
          "width": 0.5
         },
         "mode": "lines",
         "type": "scatter",
         "x": [
          0.2247085077671312,
          0.33598605679132304,
          null
         ],
         "y": [
          -0.20163030086355155,
          -0.6545788147670601,
          null
         ]
        },
        {
         "hoverinfo": "none",
         "line": {
          "color": "gray",
          "width": 0.5
         },
         "mode": "lines",
         "type": "scatter",
         "x": [
          0.2247085077671312,
          0.11325928121724708,
          null
         ],
         "y": [
          -0.20163030086355155,
          0.2722127458487644,
          null
         ]
        },
        {
         "hoverinfo": "none",
         "line": {
          "color": "gray",
          "width": 0.5
         },
         "mode": "lines",
         "type": "scatter",
         "x": [
          0.2247085077671312,
          0.7891130038209134,
          null
         ],
         "y": [
          -0.20163030086355155,
          -0.26780422616508437,
          null
         ]
        },
        {
         "hoverinfo": "none",
         "line": {
          "color": "gray",
          "width": 0.5
         },
         "mode": "lines",
         "type": "scatter",
         "x": [
          0.2247085077671312,
          -0.12331945154815839,
          null
         ],
         "y": [
          -0.20163030086355155,
          0.14413972245084672,
          null
         ]
        },
        {
         "hoverinfo": "none",
         "line": {
          "color": "gray",
          "width": 0.5
         },
         "mode": "lines",
         "type": "scatter",
         "x": [
          0.2511335302304682,
          -0.3044123392181173,
          null
         ],
         "y": [
          0.6775708508869738,
          0.39885342740603125,
          null
         ]
        },
        {
         "hoverinfo": "none",
         "line": {
          "color": "gray",
          "width": 0.5
         },
         "mode": "lines",
         "type": "scatter",
         "x": [
          0.2511335302304682,
          0.6986700468666645,
          null
         ],
         "y": [
          0.6775708508869738,
          0.4255915432774289,
          null
         ]
        },
        {
         "hoverinfo": "none",
         "line": {
          "color": "gray",
          "width": 0.5
         },
         "mode": "lines",
         "type": "scatter",
         "x": [
          0.2511335302304682,
          0.7242827042692707,
          null
         ],
         "y": [
          0.6775708508869738,
          0.6216032226830339,
          null
         ]
        },
        {
         "hoverinfo": "none",
         "line": {
          "color": "gray",
          "width": 0.5
         },
         "mode": "lines",
         "type": "scatter",
         "x": [
          0.2511335302304682,
          -0.11155583139409928,
          null
         ],
         "y": [
          0.6775708508869738,
          0.9999999999999999,
          null
         ]
        },
        {
         "hoverinfo": "none",
         "line": {
          "color": "gray",
          "width": 0.5
         },
         "mode": "lines",
         "type": "scatter",
         "x": [
          -0.244834003860911,
          0.20478539543862553,
          null
         ],
         "y": [
          0.05833397426752566,
          -0.0670934015712377,
          null
         ]
        },
        {
         "hoverinfo": "none",
         "line": {
          "color": "gray",
          "width": 0.5
         },
         "mode": "lines",
         "type": "scatter",
         "x": [
          -0.24324453149028813,
          0.20478539543862553,
          null
         ],
         "y": [
          -0.15415899341189748,
          -0.0670934015712377,
          null
         ]
        },
        {
         "hoverinfo": "none",
         "line": {
          "color": "gray",
          "width": 0.5
         },
         "mode": "lines",
         "type": "scatter",
         "x": [
          0.25179788805961506,
          0.5459046443881301,
          null
         ],
         "y": [
          -0.41880722604605347,
          -0.8130148860972002,
          null
         ]
        },
        {
         "hoverinfo": "none",
         "line": {
          "color": "gray",
          "width": 0.5
         },
         "mode": "lines",
         "type": "scatter",
         "x": [
          0.25179788805961506,
          -0.10810220099941714,
          null
         ],
         "y": [
          -0.41880722604605347,
          -0.7496599394317022,
          null
         ]
        },
        {
         "hoverinfo": "none",
         "line": {
          "color": "gray",
          "width": 0.5
         },
         "mode": "lines",
         "type": "scatter",
         "x": [
          0.25179788805961506,
          0.4362438263852672,
          null
         ],
         "y": [
          -0.41880722604605347,
          -0.885648170701933,
          null
         ]
        },
        {
         "hoverinfo": "none",
         "line": {
          "color": "gray",
          "width": 0.5
         },
         "mode": "lines",
         "type": "scatter",
         "x": [
          0.4362438263852672,
          0.5769059480877673,
          null
         ],
         "y": [
          -0.885648170701933,
          -0.7117052772922972,
          null
         ]
        },
        {
         "hoverinfo": "none",
         "line": {
          "color": "gray",
          "width": 0.5
         },
         "mode": "lines",
         "type": "scatter",
         "x": [
          0.4362438263852672,
          0.4362438263852672,
          null
         ],
         "y": [
          -0.885648170701933,
          -0.885648170701933,
          null
         ]
        },
        {
         "hoverinfo": "none",
         "line": {
          "color": "gray",
          "width": 0.5
         },
         "mode": "lines",
         "type": "scatter",
         "x": [
          0.4362438263852672,
          0.2859318862150741,
          null
         ],
         "y": [
          -0.885648170701933,
          -0.8404931914065539,
          null
         ]
        },
        {
         "hoverinfo": "none",
         "line": {
          "color": "gray",
          "width": 0.5
         },
         "mode": "lines",
         "type": "scatter",
         "x": [
          -0.5680780534620379,
          -0.8392317961591329,
          null
         ],
         "y": [
          0.43107231017644526,
          -0.03391759014792579,
          null
         ]
        },
        {
         "hoverinfo": "none",
         "line": {
          "color": "gray",
          "width": 0.5
         },
         "mode": "lines",
         "type": "scatter",
         "x": [
          -0.5680780534620379,
          -0.1542353791060299,
          null
         ],
         "y": [
          0.43107231017644526,
          0.6640630078910403,
          null
         ]
        },
        {
         "hoverinfo": "none",
         "line": {
          "color": "gray",
          "width": 0.5
         },
         "mode": "lines",
         "type": "scatter",
         "x": [
          -0.5680780534620379,
          -0.8559725296680426,
          null
         ],
         "y": [
          0.43107231017644526,
          0.7385650721759098,
          null
         ]
        },
        {
         "hoverinfo": "none",
         "line": {
          "color": "gray",
          "width": 0.5
         },
         "mode": "lines",
         "type": "scatter",
         "x": [
          0.20478539543862553,
          -0.11848822674330863,
          null
         ],
         "y": [
          -0.0670934015712377,
          -0.496608286327413,
          null
         ]
        },
        {
         "hoverinfo": "none",
         "line": {
          "color": "gray",
          "width": 0.5
         },
         "mode": "lines",
         "type": "scatter",
         "x": [
          0.20478539543862553,
          0.6294084067195145,
          null
         ],
         "y": [
          -0.0670934015712377,
          0.3538784953028246,
          null
         ]
        },
        {
         "hoverinfo": "none",
         "line": {
          "color": "gray",
          "width": 0.5
         },
         "mode": "lines",
         "type": "scatter",
         "x": [
          0.20478539543862553,
          0.17807648248314772,
          null
         ],
         "y": [
          -0.0670934015712377,
          0.40408963406697457,
          null
         ]
        },
        {
         "hoverinfo": "none",
         "line": {
          "color": "gray",
          "width": 0.5
         },
         "mode": "lines",
         "type": "scatter",
         "x": [
          0.20478539543862553,
          0.23854300381740678,
          null
         ],
         "y": [
          -0.0670934015712377,
          -0.5701785286270976,
          null
         ]
        },
        {
         "hoverinfo": "none",
         "line": {
          "color": "gray",
          "width": 0.5
         },
         "mode": "lines",
         "type": "scatter",
         "x": [
          0.20478539543862553,
          0.0946214716402494,
          null
         ],
         "y": [
          -0.0670934015712377,
          -0.5625036280439678,
          null
         ]
        },
        {
         "hoverinfo": "none",
         "line": {
          "color": "gray",
          "width": 0.5
         },
         "mode": "lines",
         "type": "scatter",
         "x": [
          0.20478539543862553,
          0.38286804528446006,
          null
         ],
         "y": [
          -0.0670934015712377,
          0.4273748279950318,
          null
         ]
        },
        {
         "hoverinfo": "none",
         "line": {
          "color": "gray",
          "width": 0.5
         },
         "mode": "lines",
         "type": "scatter",
         "x": [
          0.20478539543862553,
          0.7414911973621161,
          null
         ],
         "y": [
          -0.0670934015712377,
          0.00779754472659879,
          null
         ]
        },
        {
         "hoverinfo": "none",
         "line": {
          "color": "gray",
          "width": 0.5
         },
         "mode": "lines",
         "type": "scatter",
         "x": [
          0.20478539543862553,
          0.7116944577286176,
          null
         ],
         "y": [
          -0.0670934015712377,
          -0.12465632409577447,
          null
         ]
        },
        {
         "hoverinfo": "none",
         "line": {
          "color": "gray",
          "width": 0.5
         },
         "mode": "lines",
         "type": "scatter",
         "x": [
          0.6294084067195145,
          0.8444876030623875,
          null
         ],
         "y": [
          0.3538784953028246,
          0.694443984658664,
          null
         ]
        },
        {
         "hoverinfo": "none",
         "line": {
          "color": "gray",
          "width": 0.5
         },
         "mode": "lines",
         "type": "scatter",
         "x": [
          -0.3666804501630165,
          0.023256813878307105,
          null
         ],
         "y": [
          0.6285221819838835,
          0.8438384783301277,
          null
         ]
        },
        {
         "hoverinfo": "none",
         "line": {
          "color": "gray",
          "width": 0.5
         },
         "mode": "lines",
         "type": "scatter",
         "x": [
          -0.3666804501630165,
          -0.7718450221779586,
          null
         ],
         "y": [
          0.6285221819838835,
          0.39630743525743667,
          null
         ]
        },
        {
         "hoverinfo": "none",
         "line": {
          "color": "gray",
          "width": 0.5
         },
         "mode": "lines",
         "type": "scatter",
         "x": [
          -0.7718450221779586,
          -0.8101640834129605,
          null
         ],
         "y": [
          0.39630743525743667,
          0.02340521167754819,
          null
         ]
        },
        {
         "hoverinfo": "none",
         "line": {
          "color": "gray",
          "width": 0.5
         },
         "mode": "lines",
         "type": "scatter",
         "x": [
          -0.12331945154815839,
          -0.2415165509472376,
          null
         ],
         "y": [
          0.14413972245084672,
          0.6707893943158039,
          null
         ]
        },
        {
         "hoverinfo": "none",
         "line": {
          "color": "gray",
          "width": 0.5
         },
         "mode": "lines",
         "type": "scatter",
         "x": [
          -0.12331945154815839,
          -0.543139587088578,
          null
         ],
         "y": [
          0.14413972245084672,
          0.5199908011832877,
          null
         ]
        },
        {
         "hoverinfo": "none",
         "line": {
          "color": "gray",
          "width": 0.5
         },
         "mode": "lines",
         "type": "scatter",
         "x": [
          -0.12331945154815839,
          -0.0010844118995526472,
          null
         ],
         "y": [
          0.14413972245084672,
          -0.1861003957280209,
          null
         ]
        },
        {
         "hoverinfo": "none",
         "line": {
          "color": "gray",
          "width": 0.5
         },
         "mode": "lines",
         "type": "scatter",
         "x": [
          -0.12331945154815839,
          0.39738654830560416,
          null
         ],
         "y": [
          0.14413972245084672,
          0.13184911136332833,
          null
         ]
        },
        {
         "hoverinfo": "text",
         "marker": {
          "color": "lightblue",
          "size": 10
         },
         "mode": "markers+text",
         "text": [
          "Peter Doherty",
          "12 March 1979",
          "United Kingdom",
          "Musician",
          "Actor",
          "Poet",
          "The Libertines",
          "Carl Barât",
          "1997",
          "Babyshambles",
          "Peter Doherty and the Puta Madres",
          "Relativity",
          "Album",
          "Emarosa",
          "July 8, 2008",
          "Kris Crummett",
          "Post-hardcore band",
          "Drop Dead, Gorgeous",
          "Fear Before",
          "Jonny Craig",
          "Dance Gavin Dance",
          "Canada",
          "United States of America",
          "westerHALTS",
          "Isles & Glaciers",
          "Baritenor",
          "Soul music",
          "EP",
          "Up the Shambles – Live in Manchester",
          "Live DVD",
          "Drew McConnell",
          "around the time of Shotters Nation",
          "prior to the release of Down in Albion",
          "Shotters Nation",
          "Down in Albion",
          "Band",
          "John Hassall",
          "Gary Powell",
          "Garage rock",
          "Paul Nicholas Roundhill",
          "25 March 1955",
          "London",
          "balachada.com",
          "May 2006",
          "crack cocaine",
          "The Books of Albion",
          "Anthology",
          "30 May 2007",
          "Orion Books",
          "Dirty Pretty Things",
          "September 2005",
          "2004",
          "Vertigo Records",
          "Didz Hammond",
          "The Cooper Temple Clause",
          "Anthony Rossomando",
          "October 2005",
          "Italy",
          "Paris, France",
          "1 October 2008",
          "November 2008",
          "Stalking Pete Doherty",
          "Film",
          "Max Carlish",
          "BAFTA Award",
          "The Greatest of All Lost Arts",
          "Lower Definition",
          "11",
          "Pueblo Cicada",
          "Stefan Toler",
          "Valentino Arteaga"
         ],
         "textfont": {
          "size": 7
         },
         "textposition": "top center",
         "type": "scatter",
         "x": [
          -0.02807589770064372,
          0.41068091325948414,
          0.12094718706376555,
          -0.11490432333712865,
          0.22483015535001857,
          0.35599636984554006,
          -0.21017845023781606,
          -0.3194447215386878,
          0.1610736563291208,
          0.11730495133291265,
          -0.3742035602159701,
          -0.1029991711128717,
          -0.15429087151866194,
          -0.17199808957464938,
          0.1631023186856485,
          -0.4201090533907767,
          -0.40420047443023016,
          -0.9294289537248523,
          -0.6444821608600002,
          0.2247085077671312,
          0.253266124907856,
          0.7734073563715704,
          0.6559718490735456,
          0.6526343774458215,
          0.6506481130877133,
          0.33598605679132304,
          0.11325928121724708,
          0.7891130038209134,
          0.2511335302304682,
          -0.3044123392181173,
          0.6986700468666645,
          0.7242827042692707,
          -0.11155583139409928,
          -0.6131458015119462,
          -0.30862409438383825,
          -0.244834003860911,
          -0.3668903526656767,
          -0.24324453149028813,
          -0.43001273565218495,
          0.25179788805961506,
          0.5459046443881301,
          -0.10810220099941714,
          0.4362438263852672,
          0.5769059480877673,
          0.2859318862150741,
          -0.5680780534620379,
          -0.8392317961591329,
          -0.1542353791060299,
          -0.8559725296680426,
          0.20478539543862553,
          -0.11848822674330863,
          -0.4968955780195456,
          -0.775612353501107,
          0.6294084067195145,
          0.8444876030623875,
          0.17807648248314772,
          0.23854300381740678,
          0.0946214716402494,
          0.38286804528446006,
          0.7414911973621161,
          0.7116944577286176,
          -0.3666804501630165,
          0.023256813878307105,
          -0.7718450221779586,
          -0.8101640834129605,
          -0.12331945154815839,
          -0.9490190298568684,
          -0.2415165509472376,
          -0.543139587088578,
          -0.0010844118995526472,
          0.39738654830560416
         ],
         "y": [
          0.2625143075762723,
          0.6261959841488433,
          -0.10639184547854914,
          -0.18675238884376777,
          0.8011763686574237,
          -0.09861266325777773,
          -0.19395002585339924,
          -0.22536614433984595,
          -0.48535962195809823,
          0.7618404295166633,
          0.7340082195644506,
          0.033323405126749785,
          -0.35719702524712554,
          0.016499705503318494,
          0.26127411736583805,
          -0.017491686936387606,
          -0.11689657721735368,
          0.19440940316515132,
          -0.33533874151032966,
          -0.20163030086355155,
          -0.07326019947354762,
          -0.41937391744237135,
          -0.40120259845941214,
          -0.5409108840535926,
          0.09600614627844233,
          -0.6545788147670601,
          0.2722127458487644,
          -0.26780422616508437,
          0.6775708508869738,
          0.39885342740603125,
          0.4255915432774289,
          0.6216032226830339,
          0.9999999999999999,
          -0.5756871726436851,
          -0.88524600922989,
          0.05833397426752566,
          -0.4583529298017353,
          -0.15415899341189748,
          0.30431327059263164,
          -0.41880722604605347,
          -0.8130148860972002,
          -0.7496599394317022,
          -0.885648170701933,
          -0.7117052772922972,
          -0.8404931914065539,
          0.43107231017644526,
          -0.03391759014792579,
          0.6640630078910403,
          0.7385650721759098,
          -0.0670934015712377,
          -0.496608286327413,
          -0.6597929214541475,
          -0.57777710163817,
          0.3538784953028246,
          0.694443984658664,
          0.40408963406697457,
          -0.5701785286270976,
          -0.5625036280439678,
          0.4273748279950318,
          0.00779754472659879,
          -0.12465632409577447,
          0.6285221819838835,
          0.8438384783301277,
          0.39630743525743667,
          0.02340521167754819,
          0.14413972245084672,
          -0.17233469985733882,
          0.6707893943158039,
          0.5199908011832877,
          -0.1861003957280209,
          0.13184911136332833
         ]
        },
        {
         "hoverinfo": "none",
         "mode": "text",
         "text": [
          "date of birth",
          "country of origin",
          "occupation",
          "instance of",
          "occupation",
          "member of",
          "member of",
          "member of",
          "formerly known as",
          "author",
          "conflict with",
          "performer",
          "main subject",
          "inception",
          "country of origin",
          "country of origin",
          "performer",
          "performer",
          "member of",
          "performer",
          "occupation",
          "member of",
          "inception",
          "instance of",
          "member of",
          "member of",
          "member of",
          "dissolved, abolished or demolished date",
          "performer",
          "worked with",
          "performer",
          "instance of",
          "performer",
          "inception",
          "owned by",
          "producer",
          "instance of",
          "has part",
          "instance of",
          "instance of",
          "instance of",
          "instance of",
          "member of",
          "release date",
          "producer",
          "producer",
          "producer",
          "producer",
          "member of",
          "performer",
          "instance of",
          "country of origin",
          "country of origin",
          "member of",
          "member of",
          "member of",
          "performer",
          "performer",
          "has part",
          "performer",
          "instance of",
          "release statement by",
          "release date",
          "inception",
          "instance of",
          "member of",
          "date of birth",
          "location",
          "formerly known as",
          "release date",
          "formerly known as",
          "formerly known as",
          "instance of",
          "release date",
          "publisher",
          "inception",
          "member of",
          "member of",
          "inception",
          "location",
          "location",
          "dissolved, abolished or demolished date",
          "dissolved, abolished or demolished date",
          "left",
          "instance of",
          "producer",
          "award received",
          "number of tracks",
          "number of tracks",
          "left",
          "left"
         ],
         "textfont": {
          "size": 7
         },
         "textposition": "middle center",
         "type": "scatter",
         "x": [
          0.1913025077794202,
          0.04643564468156092,
          -0.07149011051888618,
          0.09837712882468742,
          0.16396023607244817,
          -0.1191271739692299,
          0.04461452681613447,
          -0.20113972895830692,
          0.11186099517948567,
          -0.2980769755813408,
          -0.17376030961966576,
          0.075000292391252,
          -0.1973781739318301,
          -0.04461563158702526,
          0.1863725375616903,
          0.16286629125119553,
          0.05490209221500127,
          -0.21717452243790822,
          -0.24089733800140267,
          -0.17907442741370838,
          0.3038971289525776,
          -0.26481158588825193,
          -0.024552396954347633,
          -0.22750622704936352,
          -0.28853440145174636,
          -0.2267114908640521,
          -0.3200955929450005,
          -0.3535370141286808,
          -0.057329663050031135,
          -0.5475285375198974,
          0.1842192407816904,
          -0.12864502131576683,
          -0.13749863034376053,
          0.030051573786388404,
          -0.1029991711128717,
          -0.2615541122518242,
          0.049487626694597026,
          0.035208818124234625,
          -0.38371833651530407,
          -0.2314574829512501,
          -0.13880516153341016,
          -0.2880992820024398,
          0.02635520909624091,
          0.019891433568745058,
          -0.6747690035578146,
          -0.5322956071253885,
          -0.09770027281182275,
          -0.27171425246946757,
          -0.08974598333154948,
          -0.2637599629891943,
          -0.6766097521435492,
          0.4990579320693508,
          0.44034017842033835,
          0.2389873163374936,
          0.4386714426064764,
          0.4376783104274222,
          0.2803472822792271,
          0.16898389449218915,
          0.5069107557940223,
          0.0506945281094864,
          -0.026639404493824542,
          0.47490178854856635,
          0.4877081172498694,
          0.06978884941818446,
          -0.020024304211142735,
          -0.019229568025831298,
          0.39885126622387257,
          0.07184784353009896,
          0.34402085722244113,
          0.5065748872365172,
          0.4362438263852672,
          0.36108785630017065,
          -0.7036549248105854,
          -0.3611567162840339,
          -0.7120252915650402,
          0.043148584347658454,
          0.41709690107907,
          0.19143093896088664,
          0.22166419962801615,
          0.14970343353943746,
          0.2938267203615428,
          0.4731382964003708,
          0.45823992658362156,
          0.7369480048909509,
          -0.1717118181423547,
          -0.5692627361704875,
          -0.7910045527954596,
          -0.182418001247698,
          -0.3332295193183682,
          -0.06220193172385552,
          0.1370335483787229
         ],
         "y": [
          0.44435514586255775,
          0.07806123104886159,
          0.03788095936625227,
          0.531845338116848,
          0.08195082215924729,
          0.034282140861436536,
          0.5121773685464678,
          0.4982612635703615,
          -0.07814645923489058,
          0.3467933088763588,
          0.01857408161821318,
          0.33330197082162344,
          0.44551824478007795,
          -0.1501709356659742,
          -0.26259953576230133,
          -0.08674262352489343,
          -0.19419134485365966,
          -0.20605926659180684,
          -0.32255265932275157,
          -0.17045569112783263,
          -0.2587099446519156,
          -0.2096580850966226,
          -0.33965482390574875,
          -0.0678080257929368,
          -0.32615147782756726,
          -0.17405450963264835,
          0.0551816223696162,
          -0.42687147365377337,
          -0.14622977295554182,
          -0.40157162298900795,
          0.7197056402018185,
          -0.16193681006018787,
          0.02491155531503414,
          0.14729876124629393,
          0.033323405126749785,
          0.00791585909518109,
          -0.21522861236033658,
          -0.27941366305533855,
          -0.46644209894540534,
          -0.6212215172385078,
          -0.10652865139813941,
          -0.050198435857017595,
          -0.09256529768011652,
          0.2027069199083424,
          0.08845885811438185,
          -0.17641521422335862,
          -0.10956099389996958,
          0.06332401775722955,
          -0.15926343904045262,
          0.01362157261674652,
          -0.14461563853734624,
          -0.31050210915296145,
          -0.30141644966148184,
          -0.13744525016854958,
          -0.3712705924585721,
          -0.05281207729255461,
          -0.4281045578153059,
          0.03529122249260644,
          -0.23471726351431796,
          -0.028745289206352415,
          0.5382121391465025,
          0.5515811970822013,
          0.6495870367850038,
          0.8387854254434868,
          -0.004379713651856024,
          -0.1106261974915676,
          -0.6159110560716268,
          -0.5842335827388778,
          -0.6522276983739932,
          -0.7986767239971151,
          -0.885648170701933,
          -0.8630706810542434,
          0.19857736001425974,
          0.5475676590337428,
          0.5848186911761776,
          -0.28185084394932536,
          0.14339254686579345,
          0.16849811624786842,
          -0.31863596509916764,
          -0.31479851480760274,
          0.18014071321189704,
          -0.029647928422319458,
          -0.09587486283350609,
          0.5241612399807443,
          0.7361803301570056,
          0.5124148086206601,
          0.20985632346749242,
          0.4074645583833253,
          0.3320652618170672,
          -0.020980336638587088,
          0.13799441690708752
         ]
        }
       ],
       "layout": {
        "hovermode": "closest",
        "margin": {
         "b": 20,
         "l": 5,
         "r": 5,
         "t": 40
        },
        "showlegend": false,
        "template": {
         "data": {
          "bar": [
           {
            "error_x": {
             "color": "#2a3f5f"
            },
            "error_y": {
             "color": "#2a3f5f"
            },
            "marker": {
             "line": {
              "color": "#E5ECF6",
              "width": 0.5
             },
             "pattern": {
              "fillmode": "overlay",
              "size": 10,
              "solidity": 0.2
             }
            },
            "type": "bar"
           }
          ],
          "barpolar": [
           {
            "marker": {
             "line": {
              "color": "#E5ECF6",
              "width": 0.5
             },
             "pattern": {
              "fillmode": "overlay",
              "size": 10,
              "solidity": 0.2
             }
            },
            "type": "barpolar"
           }
          ],
          "carpet": [
           {
            "aaxis": {
             "endlinecolor": "#2a3f5f",
             "gridcolor": "white",
             "linecolor": "white",
             "minorgridcolor": "white",
             "startlinecolor": "#2a3f5f"
            },
            "baxis": {
             "endlinecolor": "#2a3f5f",
             "gridcolor": "white",
             "linecolor": "white",
             "minorgridcolor": "white",
             "startlinecolor": "#2a3f5f"
            },
            "type": "carpet"
           }
          ],
          "choropleth": [
           {
            "colorbar": {
             "outlinewidth": 0,
             "ticks": ""
            },
            "type": "choropleth"
           }
          ],
          "contour": [
           {
            "colorbar": {
             "outlinewidth": 0,
             "ticks": ""
            },
            "colorscale": [
             [
              0,
              "#0d0887"
             ],
             [
              0.1111111111111111,
              "#46039f"
             ],
             [
              0.2222222222222222,
              "#7201a8"
             ],
             [
              0.3333333333333333,
              "#9c179e"
             ],
             [
              0.4444444444444444,
              "#bd3786"
             ],
             [
              0.5555555555555556,
              "#d8576b"
             ],
             [
              0.6666666666666666,
              "#ed7953"
             ],
             [
              0.7777777777777778,
              "#fb9f3a"
             ],
             [
              0.8888888888888888,
              "#fdca26"
             ],
             [
              1,
              "#f0f921"
             ]
            ],
            "type": "contour"
           }
          ],
          "contourcarpet": [
           {
            "colorbar": {
             "outlinewidth": 0,
             "ticks": ""
            },
            "type": "contourcarpet"
           }
          ],
          "heatmap": [
           {
            "colorbar": {
             "outlinewidth": 0,
             "ticks": ""
            },
            "colorscale": [
             [
              0,
              "#0d0887"
             ],
             [
              0.1111111111111111,
              "#46039f"
             ],
             [
              0.2222222222222222,
              "#7201a8"
             ],
             [
              0.3333333333333333,
              "#9c179e"
             ],
             [
              0.4444444444444444,
              "#bd3786"
             ],
             [
              0.5555555555555556,
              "#d8576b"
             ],
             [
              0.6666666666666666,
              "#ed7953"
             ],
             [
              0.7777777777777778,
              "#fb9f3a"
             ],
             [
              0.8888888888888888,
              "#fdca26"
             ],
             [
              1,
              "#f0f921"
             ]
            ],
            "type": "heatmap"
           }
          ],
          "heatmapgl": [
           {
            "colorbar": {
             "outlinewidth": 0,
             "ticks": ""
            },
            "colorscale": [
             [
              0,
              "#0d0887"
             ],
             [
              0.1111111111111111,
              "#46039f"
             ],
             [
              0.2222222222222222,
              "#7201a8"
             ],
             [
              0.3333333333333333,
              "#9c179e"
             ],
             [
              0.4444444444444444,
              "#bd3786"
             ],
             [
              0.5555555555555556,
              "#d8576b"
             ],
             [
              0.6666666666666666,
              "#ed7953"
             ],
             [
              0.7777777777777778,
              "#fb9f3a"
             ],
             [
              0.8888888888888888,
              "#fdca26"
             ],
             [
              1,
              "#f0f921"
             ]
            ],
            "type": "heatmapgl"
           }
          ],
          "histogram": [
           {
            "marker": {
             "pattern": {
              "fillmode": "overlay",
              "size": 10,
              "solidity": 0.2
             }
            },
            "type": "histogram"
           }
          ],
          "histogram2d": [
           {
            "colorbar": {
             "outlinewidth": 0,
             "ticks": ""
            },
            "colorscale": [
             [
              0,
              "#0d0887"
             ],
             [
              0.1111111111111111,
              "#46039f"
             ],
             [
              0.2222222222222222,
              "#7201a8"
             ],
             [
              0.3333333333333333,
              "#9c179e"
             ],
             [
              0.4444444444444444,
              "#bd3786"
             ],
             [
              0.5555555555555556,
              "#d8576b"
             ],
             [
              0.6666666666666666,
              "#ed7953"
             ],
             [
              0.7777777777777778,
              "#fb9f3a"
             ],
             [
              0.8888888888888888,
              "#fdca26"
             ],
             [
              1,
              "#f0f921"
             ]
            ],
            "type": "histogram2d"
           }
          ],
          "histogram2dcontour": [
           {
            "colorbar": {
             "outlinewidth": 0,
             "ticks": ""
            },
            "colorscale": [
             [
              0,
              "#0d0887"
             ],
             [
              0.1111111111111111,
              "#46039f"
             ],
             [
              0.2222222222222222,
              "#7201a8"
             ],
             [
              0.3333333333333333,
              "#9c179e"
             ],
             [
              0.4444444444444444,
              "#bd3786"
             ],
             [
              0.5555555555555556,
              "#d8576b"
             ],
             [
              0.6666666666666666,
              "#ed7953"
             ],
             [
              0.7777777777777778,
              "#fb9f3a"
             ],
             [
              0.8888888888888888,
              "#fdca26"
             ],
             [
              1,
              "#f0f921"
             ]
            ],
            "type": "histogram2dcontour"
           }
          ],
          "mesh3d": [
           {
            "colorbar": {
             "outlinewidth": 0,
             "ticks": ""
            },
            "type": "mesh3d"
           }
          ],
          "parcoords": [
           {
            "line": {
             "colorbar": {
              "outlinewidth": 0,
              "ticks": ""
             }
            },
            "type": "parcoords"
           }
          ],
          "pie": [
           {
            "automargin": true,
            "type": "pie"
           }
          ],
          "scatter": [
           {
            "fillpattern": {
             "fillmode": "overlay",
             "size": 10,
             "solidity": 0.2
            },
            "type": "scatter"
           }
          ],
          "scatter3d": [
           {
            "line": {
             "colorbar": {
              "outlinewidth": 0,
              "ticks": ""
             }
            },
            "marker": {
             "colorbar": {
              "outlinewidth": 0,
              "ticks": ""
             }
            },
            "type": "scatter3d"
           }
          ],
          "scattercarpet": [
           {
            "marker": {
             "colorbar": {
              "outlinewidth": 0,
              "ticks": ""
             }
            },
            "type": "scattercarpet"
           }
          ],
          "scattergeo": [
           {
            "marker": {
             "colorbar": {
              "outlinewidth": 0,
              "ticks": ""
             }
            },
            "type": "scattergeo"
           }
          ],
          "scattergl": [
           {
            "marker": {
             "colorbar": {
              "outlinewidth": 0,
              "ticks": ""
             }
            },
            "type": "scattergl"
           }
          ],
          "scattermapbox": [
           {
            "marker": {
             "colorbar": {
              "outlinewidth": 0,
              "ticks": ""
             }
            },
            "type": "scattermapbox"
           }
          ],
          "scatterpolar": [
           {
            "marker": {
             "colorbar": {
              "outlinewidth": 0,
              "ticks": ""
             }
            },
            "type": "scatterpolar"
           }
          ],
          "scatterpolargl": [
           {
            "marker": {
             "colorbar": {
              "outlinewidth": 0,
              "ticks": ""
             }
            },
            "type": "scatterpolargl"
           }
          ],
          "scatterternary": [
           {
            "marker": {
             "colorbar": {
              "outlinewidth": 0,
              "ticks": ""
             }
            },
            "type": "scatterternary"
           }
          ],
          "surface": [
           {
            "colorbar": {
             "outlinewidth": 0,
             "ticks": ""
            },
            "colorscale": [
             [
              0,
              "#0d0887"
             ],
             [
              0.1111111111111111,
              "#46039f"
             ],
             [
              0.2222222222222222,
              "#7201a8"
             ],
             [
              0.3333333333333333,
              "#9c179e"
             ],
             [
              0.4444444444444444,
              "#bd3786"
             ],
             [
              0.5555555555555556,
              "#d8576b"
             ],
             [
              0.6666666666666666,
              "#ed7953"
             ],
             [
              0.7777777777777778,
              "#fb9f3a"
             ],
             [
              0.8888888888888888,
              "#fdca26"
             ],
             [
              1,
              "#f0f921"
             ]
            ],
            "type": "surface"
           }
          ],
          "table": [
           {
            "cells": {
             "fill": {
              "color": "#EBF0F8"
             },
             "line": {
              "color": "white"
             }
            },
            "header": {
             "fill": {
              "color": "#C8D4E3"
             },
             "line": {
              "color": "white"
             }
            },
            "type": "table"
           }
          ]
         },
         "layout": {
          "annotationdefaults": {
           "arrowcolor": "#2a3f5f",
           "arrowhead": 0,
           "arrowwidth": 1
          },
          "autotypenumbers": "strict",
          "coloraxis": {
           "colorbar": {
            "outlinewidth": 0,
            "ticks": ""
           }
          },
          "colorscale": {
           "diverging": [
            [
             0,
             "#8e0152"
            ],
            [
             0.1,
             "#c51b7d"
            ],
            [
             0.2,
             "#de77ae"
            ],
            [
             0.3,
             "#f1b6da"
            ],
            [
             0.4,
             "#fde0ef"
            ],
            [
             0.5,
             "#f7f7f7"
            ],
            [
             0.6,
             "#e6f5d0"
            ],
            [
             0.7,
             "#b8e186"
            ],
            [
             0.8,
             "#7fbc41"
            ],
            [
             0.9,
             "#4d9221"
            ],
            [
             1,
             "#276419"
            ]
           ],
           "sequential": [
            [
             0,
             "#0d0887"
            ],
            [
             0.1111111111111111,
             "#46039f"
            ],
            [
             0.2222222222222222,
             "#7201a8"
            ],
            [
             0.3333333333333333,
             "#9c179e"
            ],
            [
             0.4444444444444444,
             "#bd3786"
            ],
            [
             0.5555555555555556,
             "#d8576b"
            ],
            [
             0.6666666666666666,
             "#ed7953"
            ],
            [
             0.7777777777777778,
             "#fb9f3a"
            ],
            [
             0.8888888888888888,
             "#fdca26"
            ],
            [
             1,
             "#f0f921"
            ]
           ],
           "sequentialminus": [
            [
             0,
             "#0d0887"
            ],
            [
             0.1111111111111111,
             "#46039f"
            ],
            [
             0.2222222222222222,
             "#7201a8"
            ],
            [
             0.3333333333333333,
             "#9c179e"
            ],
            [
             0.4444444444444444,
             "#bd3786"
            ],
            [
             0.5555555555555556,
             "#d8576b"
            ],
            [
             0.6666666666666666,
             "#ed7953"
            ],
            [
             0.7777777777777778,
             "#fb9f3a"
            ],
            [
             0.8888888888888888,
             "#fdca26"
            ],
            [
             1,
             "#f0f921"
            ]
           ]
          },
          "colorway": [
           "#636efa",
           "#EF553B",
           "#00cc96",
           "#ab63fa",
           "#FFA15A",
           "#19d3f3",
           "#FF6692",
           "#B6E880",
           "#FF97FF",
           "#FECB52"
          ],
          "font": {
           "color": "#2a3f5f"
          },
          "geo": {
           "bgcolor": "white",
           "lakecolor": "white",
           "landcolor": "#E5ECF6",
           "showlakes": true,
           "showland": true,
           "subunitcolor": "white"
          },
          "hoverlabel": {
           "align": "left"
          },
          "hovermode": "closest",
          "mapbox": {
           "style": "light"
          },
          "paper_bgcolor": "white",
          "plot_bgcolor": "#E5ECF6",
          "polar": {
           "angularaxis": {
            "gridcolor": "white",
            "linecolor": "white",
            "ticks": ""
           },
           "bgcolor": "#E5ECF6",
           "radialaxis": {
            "gridcolor": "white",
            "linecolor": "white",
            "ticks": ""
           }
          },
          "scene": {
           "xaxis": {
            "backgroundcolor": "#E5ECF6",
            "gridcolor": "white",
            "gridwidth": 2,
            "linecolor": "white",
            "showbackground": true,
            "ticks": "",
            "zerolinecolor": "white"
           },
           "yaxis": {
            "backgroundcolor": "#E5ECF6",
            "gridcolor": "white",
            "gridwidth": 2,
            "linecolor": "white",
            "showbackground": true,
            "ticks": "",
            "zerolinecolor": "white"
           },
           "zaxis": {
            "backgroundcolor": "#E5ECF6",
            "gridcolor": "white",
            "gridwidth": 2,
            "linecolor": "white",
            "showbackground": true,
            "ticks": "",
            "zerolinecolor": "white"
           }
          },
          "shapedefaults": {
           "line": {
            "color": "#2a3f5f"
           }
          },
          "ternary": {
           "aaxis": {
            "gridcolor": "white",
            "linecolor": "white",
            "ticks": ""
           },
           "baxis": {
            "gridcolor": "white",
            "linecolor": "white",
            "ticks": ""
           },
           "bgcolor": "#E5ECF6",
           "caxis": {
            "gridcolor": "white",
            "linecolor": "white",
            "ticks": ""
           }
          },
          "title": {
           "x": 0.05
          },
          "xaxis": {
           "automargin": true,
           "gridcolor": "white",
           "linecolor": "white",
           "ticks": "",
           "title": {
            "standoff": 15
           },
           "zerolinecolor": "white",
           "zerolinewidth": 2
          },
          "yaxis": {
           "automargin": true,
           "gridcolor": "white",
           "linecolor": "white",
           "ticks": "",
           "title": {
            "standoff": 15
           },
           "zerolinecolor": "white",
           "zerolinewidth": 2
          }
         }
        },
        "title": {
         "font": {
          "size": 16
         },
         "text": "Knowledge Graph",
         "x": 0.5
        },
        "xaxis": {
         "visible": false
        },
        "yaxis": {
         "visible": false
        }
       }
      },
      "text/html": [
       "<div>                            <div id=\"38dae489-43a9-4978-97ec-b010e66d38f0\" class=\"plotly-graph-div\" style=\"height:525px; width:100%;\"></div>            <script type=\"text/javascript\">                require([\"plotly\"], function(Plotly) {                    window.PLOTLYENV=window.PLOTLYENV || {};                                    if (document.getElementById(\"38dae489-43a9-4978-97ec-b010e66d38f0\")) {                    Plotly.newPlot(                        \"38dae489-43a9-4978-97ec-b010e66d38f0\",                        [{\"hoverinfo\":\"none\",\"line\":{\"color\":\"gray\",\"width\":0.5},\"mode\":\"lines\",\"x\":[-0.02807589770064372,0.41068091325948414,null],\"y\":[0.2625143075762723,0.6261959841488433,null],\"type\":\"scatter\"},{\"hoverinfo\":\"none\",\"line\":{\"color\":\"gray\",\"width\":0.5},\"mode\":\"lines\",\"x\":[-0.02807589770064372,0.12094718706376555,null],\"y\":[0.2625143075762723,-0.10639184547854914,null],\"type\":\"scatter\"},{\"hoverinfo\":\"none\",\"line\":{\"color\":\"gray\",\"width\":0.5},\"mode\":\"lines\",\"x\":[-0.02807589770064372,-0.11490432333712865,null],\"y\":[0.2625143075762723,-0.18675238884376777,null],\"type\":\"scatter\"},{\"hoverinfo\":\"none\",\"line\":{\"color\":\"gray\",\"width\":0.5},\"mode\":\"lines\",\"x\":[-0.02807589770064372,0.22483015535001857,null],\"y\":[0.2625143075762723,0.8011763686574237,null],\"type\":\"scatter\"},{\"hoverinfo\":\"none\",\"line\":{\"color\":\"gray\",\"width\":0.5},\"mode\":\"lines\",\"x\":[-0.02807589770064372,0.35599636984554006,null],\"y\":[0.2625143075762723,-0.09861266325777773,null],\"type\":\"scatter\"},{\"hoverinfo\":\"none\",\"line\":{\"color\":\"gray\",\"width\":0.5},\"mode\":\"lines\",\"x\":[-0.02807589770064372,-0.21017845023781606,null],\"y\":[0.2625143075762723,-0.19395002585339924,null],\"type\":\"scatter\"},{\"hoverinfo\":\"none\",\"line\":{\"color\":\"gray\",\"width\":0.5},\"mode\":\"lines\",\"x\":[-0.02807589770064372,0.11730495133291265,null],\"y\":[0.2625143075762723,0.7618404295166633,null],\"type\":\"scatter\"},{\"hoverinfo\":\"none\",\"line\":{\"color\":\"gray\",\"width\":0.5},\"mode\":\"lines\",\"x\":[-0.02807589770064372,-0.3742035602159701,null],\"y\":[0.2625143075762723,0.7340082195644506,null],\"type\":\"scatter\"},{\"hoverinfo\":\"none\",\"line\":{\"color\":\"gray\",\"width\":0.5},\"mode\":\"lines\",\"x\":[-0.02807589770064372,0.25179788805961506,null],\"y\":[0.2625143075762723,-0.41880722604605347,null],\"type\":\"scatter\"},{\"hoverinfo\":\"none\",\"line\":{\"color\":\"gray\",\"width\":0.5},\"mode\":\"lines\",\"x\":[-0.02807589770064372,-0.5680780534620379,null],\"y\":[0.2625143075762723,0.43107231017644526,null],\"type\":\"scatter\"},{\"hoverinfo\":\"none\",\"line\":{\"color\":\"gray\",\"width\":0.5},\"mode\":\"lines\",\"x\":[-0.02807589770064372,-0.3194447215386878,null],\"y\":[0.2625143075762723,-0.22536614433984595,null],\"type\":\"scatter\"},{\"hoverinfo\":\"none\",\"line\":{\"color\":\"gray\",\"width\":0.5},\"mode\":\"lines\",\"x\":[-0.02807589770064372,0.17807648248314772,null],\"y\":[0.2625143075762723,0.40408963406697457,null],\"type\":\"scatter\"},{\"hoverinfo\":\"none\",\"line\":{\"color\":\"gray\",\"width\":0.5},\"mode\":\"lines\",\"x\":[-0.02807589770064372,-0.3666804501630165,null],\"y\":[0.2625143075762723,0.6285221819838835,null],\"type\":\"scatter\"},{\"hoverinfo\":\"none\",\"line\":{\"color\":\"gray\",\"width\":0.5},\"mode\":\"lines\",\"x\":[0.12094718706376555,-0.21017845023781606,null],\"y\":[-0.10639184547854914,-0.19395002585339924,null],\"type\":\"scatter\"},{\"hoverinfo\":\"none\",\"line\":{\"color\":\"gray\",\"width\":0.5},\"mode\":\"lines\",\"x\":[0.12094718706376555,0.25179788805961506,null],\"y\":[-0.10639184547854914,-0.41880722604605347,null],\"type\":\"scatter\"},{\"hoverinfo\":\"none\",\"line\":{\"color\":\"gray\",\"width\":0.5},\"mode\":\"lines\",\"x\":[0.12094718706376555,0.20478539543862553,null],\"y\":[-0.10639184547854914,-0.0670934015712377,null],\"type\":\"scatter\"},{\"hoverinfo\":\"none\",\"line\":{\"color\":\"gray\",\"width\":0.5},\"mode\":\"lines\",\"x\":[-0.11490432333712865,0.2247085077671312,null],\"y\":[-0.18675238884376777,-0.20163030086355155,null],\"type\":\"scatter\"},{\"hoverinfo\":\"none\",\"line\":{\"color\":\"gray\",\"width\":0.5},\"mode\":\"lines\",\"x\":[-0.11490432333712865,-0.3194447215386878,null],\"y\":[-0.18675238884376777,-0.22536614433984595,null],\"type\":\"scatter\"},{\"hoverinfo\":\"none\",\"line\":{\"color\":\"gray\",\"width\":0.5},\"mode\":\"lines\",\"x\":[-0.11490432333712865,-0.3668903526656767,null],\"y\":[-0.18675238884376777,-0.4583529298017353,null],\"type\":\"scatter\"},{\"hoverinfo\":\"none\",\"line\":{\"color\":\"gray\",\"width\":0.5},\"mode\":\"lines\",\"x\":[-0.11490432333712865,-0.24324453149028813,null],\"y\":[-0.18675238884376777,-0.15415899341189748,null],\"type\":\"scatter\"},{\"hoverinfo\":\"none\",\"line\":{\"color\":\"gray\",\"width\":0.5},\"mode\":\"lines\",\"x\":[0.35599636984554006,0.25179788805961506,null],\"y\":[-0.09861266325777773,-0.41880722604605347,null],\"type\":\"scatter\"},{\"hoverinfo\":\"none\",\"line\":{\"color\":\"gray\",\"width\":0.5},\"mode\":\"lines\",\"x\":[-0.21017845023781606,-0.3194447215386878,null],\"y\":[-0.19395002585339924,-0.22536614433984595,null],\"type\":\"scatter\"},{\"hoverinfo\":\"none\",\"line\":{\"color\":\"gray\",\"width\":0.5},\"mode\":\"lines\",\"x\":[-0.21017845023781606,0.1610736563291208,null],\"y\":[-0.19395002585339924,-0.48535962195809823,null],\"type\":\"scatter\"},{\"hoverinfo\":\"none\",\"line\":{\"color\":\"gray\",\"width\":0.5},\"mode\":\"lines\",\"x\":[-0.21017845023781606,-0.244834003860911,null],\"y\":[-0.19395002585339924,0.05833397426752566,null],\"type\":\"scatter\"},{\"hoverinfo\":\"none\",\"line\":{\"color\":\"gray\",\"width\":0.5},\"mode\":\"lines\",\"x\":[-0.21017845023781606,-0.3668903526656767,null],\"y\":[-0.19395002585339924,-0.4583529298017353,null],\"type\":\"scatter\"},{\"hoverinfo\":\"none\",\"line\":{\"color\":\"gray\",\"width\":0.5},\"mode\":\"lines\",\"x\":[-0.21017845023781606,-0.24324453149028813,null],\"y\":[-0.19395002585339924,-0.15415899341189748,null],\"type\":\"scatter\"},{\"hoverinfo\":\"none\",\"line\":{\"color\":\"gray\",\"width\":0.5},\"mode\":\"lines\",\"x\":[-0.21017845023781606,-0.43001273565218495,null],\"y\":[-0.19395002585339924,0.30431327059263164,null],\"type\":\"scatter\"},{\"hoverinfo\":\"none\",\"line\":{\"color\":\"gray\",\"width\":0.5},\"mode\":\"lines\",\"x\":[-0.21017845023781606,-0.4968955780195456,null],\"y\":[-0.19395002585339924,-0.6597929214541475,null],\"type\":\"scatter\"},{\"hoverinfo\":\"none\",\"line\":{\"color\":\"gray\",\"width\":0.5},\"mode\":\"lines\",\"x\":[-0.3194447215386878,0.20478539543862553,null],\"y\":[-0.22536614433984595,-0.0670934015712377,null],\"type\":\"scatter\"},{\"hoverinfo\":\"none\",\"line\":{\"color\":\"gray\",\"width\":0.5},\"mode\":\"lines\",\"x\":[-0.3194447215386878,-0.775612353501107,null],\"y\":[-0.22536614433984595,-0.57777710163817,null],\"type\":\"scatter\"},{\"hoverinfo\":\"none\",\"line\":{\"color\":\"gray\",\"width\":0.5},\"mode\":\"lines\",\"x\":[0.11730495133291265,0.2511335302304682,null],\"y\":[0.7618404295166633,0.6775708508869738,null],\"type\":\"scatter\"},{\"hoverinfo\":\"none\",\"line\":{\"color\":\"gray\",\"width\":0.5},\"mode\":\"lines\",\"x\":[-0.1029991711128717,-0.15429087151866194,null],\"y\":[0.033323405126749785,-0.35719702524712554,null],\"type\":\"scatter\"},{\"hoverinfo\":\"none\",\"line\":{\"color\":\"gray\",\"width\":0.5},\"mode\":\"lines\",\"x\":[-0.1029991711128717,-0.17199808957464938,null],\"y\":[0.033323405126749785,0.016499705503318494,null],\"type\":\"scatter\"},{\"hoverinfo\":\"none\",\"line\":{\"color\":\"gray\",\"width\":0.5},\"mode\":\"lines\",\"x\":[-0.1029991711128717,0.1631023186856485,null],\"y\":[0.033323405126749785,0.26127411736583805,null],\"type\":\"scatter\"},{\"hoverinfo\":\"none\",\"line\":{\"color\":\"gray\",\"width\":0.5},\"mode\":\"lines\",\"x\":[-0.1029991711128717,-0.1029991711128717,null],\"y\":[0.033323405126749785,0.033323405126749785,null],\"type\":\"scatter\"},{\"hoverinfo\":\"none\",\"line\":{\"color\":\"gray\",\"width\":0.5},\"mode\":\"lines\",\"x\":[-0.1029991711128717,-0.4201090533907767,null],\"y\":[0.033323405126749785,-0.017491686936387606,null],\"type\":\"scatter\"},{\"hoverinfo\":\"none\",\"line\":{\"color\":\"gray\",\"width\":0.5},\"mode\":\"lines\",\"x\":[-0.15429087151866194,0.253266124907856,null],\"y\":[-0.35719702524712554,-0.07326019947354762,null],\"type\":\"scatter\"},{\"hoverinfo\":\"none\",\"line\":{\"color\":\"gray\",\"width\":0.5},\"mode\":\"lines\",\"x\":[-0.15429087151866194,0.2247085077671312,null],\"y\":[-0.35719702524712554,-0.20163030086355155,null],\"type\":\"scatter\"},{\"hoverinfo\":\"none\",\"line\":{\"color\":\"gray\",\"width\":0.5},\"mode\":\"lines\",\"x\":[-0.15429087151866194,-0.6131458015119462,null],\"y\":[-0.35719702524712554,-0.5756871726436851,null],\"type\":\"scatter\"},{\"hoverinfo\":\"none\",\"line\":{\"color\":\"gray\",\"width\":0.5},\"mode\":\"lines\",\"x\":[-0.15429087151866194,-0.30862409438383825,null],\"y\":[-0.35719702524712554,-0.88524600922989,null],\"type\":\"scatter\"},{\"hoverinfo\":\"none\",\"line\":{\"color\":\"gray\",\"width\":0.5},\"mode\":\"lines\",\"x\":[-0.15429087151866194,-0.12331945154815839,null],\"y\":[-0.35719702524712554,0.14413972245084672,null],\"type\":\"scatter\"},{\"hoverinfo\":\"none\",\"line\":{\"color\":\"gray\",\"width\":0.5},\"mode\":\"lines\",\"x\":[-0.17199808957464938,-0.40420047443023016,null],\"y\":[0.016499705503318494,-0.11689657721735368,null],\"type\":\"scatter\"},{\"hoverinfo\":\"none\",\"line\":{\"color\":\"gray\",\"width\":0.5},\"mode\":\"lines\",\"x\":[-0.17199808957464938,0.2247085077671312,null],\"y\":[0.016499705503318494,-0.20163030086355155,null],\"type\":\"scatter\"},{\"hoverinfo\":\"none\",\"line\":{\"color\":\"gray\",\"width\":0.5},\"mode\":\"lines\",\"x\":[0.1631023186856485,-0.12331945154815839,null],\"y\":[0.26127411736583805,0.14413972245084672,null],\"type\":\"scatter\"},{\"hoverinfo\":\"none\",\"line\":{\"color\":\"gray\",\"width\":0.5},\"mode\":\"lines\",\"x\":[-0.4201090533907767,-0.9294289537248523,null],\"y\":[-0.017491686936387606,0.19440940316515132,null],\"type\":\"scatter\"},{\"hoverinfo\":\"none\",\"line\":{\"color\":\"gray\",\"width\":0.5},\"mode\":\"lines\",\"x\":[-0.4201090533907767,-0.6444821608600002,null],\"y\":[-0.017491686936387606,-0.33533874151032966,null],\"type\":\"scatter\"},{\"hoverinfo\":\"none\",\"line\":{\"color\":\"gray\",\"width\":0.5},\"mode\":\"lines\",\"x\":[-0.4201090533907767,0.2247085077671312,null],\"y\":[-0.017491686936387606,-0.20163030086355155,null],\"type\":\"scatter\"},{\"hoverinfo\":\"none\",\"line\":{\"color\":\"gray\",\"width\":0.5},\"mode\":\"lines\",\"x\":[-0.4201090533907767,-0.12331945154815839,null],\"y\":[-0.017491686936387606,0.14413972245084672,null],\"type\":\"scatter\"},{\"hoverinfo\":\"none\",\"line\":{\"color\":\"gray\",\"width\":0.5},\"mode\":\"lines\",\"x\":[-0.40420047443023016,0.2247085077671312,null],\"y\":[-0.11689657721735368,-0.20163030086355155,null],\"type\":\"scatter\"},{\"hoverinfo\":\"none\",\"line\":{\"color\":\"gray\",\"width\":0.5},\"mode\":\"lines\",\"x\":[-0.40420047443023016,-0.12331945154815839,null],\"y\":[-0.11689657721735368,0.14413972245084672,null],\"type\":\"scatter\"},{\"hoverinfo\":\"none\",\"line\":{\"color\":\"gray\",\"width\":0.5},\"mode\":\"lines\",\"x\":[-0.40420047443023016,-0.9490190298568684,null],\"y\":[-0.11689657721735368,-0.17233469985733882,null],\"type\":\"scatter\"},{\"hoverinfo\":\"none\",\"line\":{\"color\":\"gray\",\"width\":0.5},\"mode\":\"lines\",\"x\":[0.2247085077671312,0.7734073563715704,null],\"y\":[-0.20163030086355155,-0.41937391744237135,null],\"type\":\"scatter\"},{\"hoverinfo\":\"none\",\"line\":{\"color\":\"gray\",\"width\":0.5},\"mode\":\"lines\",\"x\":[0.2247085077671312,0.6559718490735456,null],\"y\":[-0.20163030086355155,-0.40120259845941214,null],\"type\":\"scatter\"},{\"hoverinfo\":\"none\",\"line\":{\"color\":\"gray\",\"width\":0.5},\"mode\":\"lines\",\"x\":[0.2247085077671312,0.253266124907856,null],\"y\":[-0.20163030086355155,-0.07326019947354762,null],\"type\":\"scatter\"},{\"hoverinfo\":\"none\",\"line\":{\"color\":\"gray\",\"width\":0.5},\"mode\":\"lines\",\"x\":[0.2247085077671312,0.6526343774458215,null],\"y\":[-0.20163030086355155,-0.5409108840535926,null],\"type\":\"scatter\"},{\"hoverinfo\":\"none\",\"line\":{\"color\":\"gray\",\"width\":0.5},\"mode\":\"lines\",\"x\":[0.2247085077671312,0.6506481130877133,null],\"y\":[-0.20163030086355155,0.09600614627844233,null],\"type\":\"scatter\"},{\"hoverinfo\":\"none\",\"line\":{\"color\":\"gray\",\"width\":0.5},\"mode\":\"lines\",\"x\":[0.2247085077671312,0.33598605679132304,null],\"y\":[-0.20163030086355155,-0.6545788147670601,null],\"type\":\"scatter\"},{\"hoverinfo\":\"none\",\"line\":{\"color\":\"gray\",\"width\":0.5},\"mode\":\"lines\",\"x\":[0.2247085077671312,0.11325928121724708,null],\"y\":[-0.20163030086355155,0.2722127458487644,null],\"type\":\"scatter\"},{\"hoverinfo\":\"none\",\"line\":{\"color\":\"gray\",\"width\":0.5},\"mode\":\"lines\",\"x\":[0.2247085077671312,0.7891130038209134,null],\"y\":[-0.20163030086355155,-0.26780422616508437,null],\"type\":\"scatter\"},{\"hoverinfo\":\"none\",\"line\":{\"color\":\"gray\",\"width\":0.5},\"mode\":\"lines\",\"x\":[0.2247085077671312,-0.12331945154815839,null],\"y\":[-0.20163030086355155,0.14413972245084672,null],\"type\":\"scatter\"},{\"hoverinfo\":\"none\",\"line\":{\"color\":\"gray\",\"width\":0.5},\"mode\":\"lines\",\"x\":[0.2511335302304682,-0.3044123392181173,null],\"y\":[0.6775708508869738,0.39885342740603125,null],\"type\":\"scatter\"},{\"hoverinfo\":\"none\",\"line\":{\"color\":\"gray\",\"width\":0.5},\"mode\":\"lines\",\"x\":[0.2511335302304682,0.6986700468666645,null],\"y\":[0.6775708508869738,0.4255915432774289,null],\"type\":\"scatter\"},{\"hoverinfo\":\"none\",\"line\":{\"color\":\"gray\",\"width\":0.5},\"mode\":\"lines\",\"x\":[0.2511335302304682,0.7242827042692707,null],\"y\":[0.6775708508869738,0.6216032226830339,null],\"type\":\"scatter\"},{\"hoverinfo\":\"none\",\"line\":{\"color\":\"gray\",\"width\":0.5},\"mode\":\"lines\",\"x\":[0.2511335302304682,-0.11155583139409928,null],\"y\":[0.6775708508869738,0.9999999999999999,null],\"type\":\"scatter\"},{\"hoverinfo\":\"none\",\"line\":{\"color\":\"gray\",\"width\":0.5},\"mode\":\"lines\",\"x\":[-0.244834003860911,0.20478539543862553,null],\"y\":[0.05833397426752566,-0.0670934015712377,null],\"type\":\"scatter\"},{\"hoverinfo\":\"none\",\"line\":{\"color\":\"gray\",\"width\":0.5},\"mode\":\"lines\",\"x\":[-0.24324453149028813,0.20478539543862553,null],\"y\":[-0.15415899341189748,-0.0670934015712377,null],\"type\":\"scatter\"},{\"hoverinfo\":\"none\",\"line\":{\"color\":\"gray\",\"width\":0.5},\"mode\":\"lines\",\"x\":[0.25179788805961506,0.5459046443881301,null],\"y\":[-0.41880722604605347,-0.8130148860972002,null],\"type\":\"scatter\"},{\"hoverinfo\":\"none\",\"line\":{\"color\":\"gray\",\"width\":0.5},\"mode\":\"lines\",\"x\":[0.25179788805961506,-0.10810220099941714,null],\"y\":[-0.41880722604605347,-0.7496599394317022,null],\"type\":\"scatter\"},{\"hoverinfo\":\"none\",\"line\":{\"color\":\"gray\",\"width\":0.5},\"mode\":\"lines\",\"x\":[0.25179788805961506,0.4362438263852672,null],\"y\":[-0.41880722604605347,-0.885648170701933,null],\"type\":\"scatter\"},{\"hoverinfo\":\"none\",\"line\":{\"color\":\"gray\",\"width\":0.5},\"mode\":\"lines\",\"x\":[0.4362438263852672,0.5769059480877673,null],\"y\":[-0.885648170701933,-0.7117052772922972,null],\"type\":\"scatter\"},{\"hoverinfo\":\"none\",\"line\":{\"color\":\"gray\",\"width\":0.5},\"mode\":\"lines\",\"x\":[0.4362438263852672,0.4362438263852672,null],\"y\":[-0.885648170701933,-0.885648170701933,null],\"type\":\"scatter\"},{\"hoverinfo\":\"none\",\"line\":{\"color\":\"gray\",\"width\":0.5},\"mode\":\"lines\",\"x\":[0.4362438263852672,0.2859318862150741,null],\"y\":[-0.885648170701933,-0.8404931914065539,null],\"type\":\"scatter\"},{\"hoverinfo\":\"none\",\"line\":{\"color\":\"gray\",\"width\":0.5},\"mode\":\"lines\",\"x\":[-0.5680780534620379,-0.8392317961591329,null],\"y\":[0.43107231017644526,-0.03391759014792579,null],\"type\":\"scatter\"},{\"hoverinfo\":\"none\",\"line\":{\"color\":\"gray\",\"width\":0.5},\"mode\":\"lines\",\"x\":[-0.5680780534620379,-0.1542353791060299,null],\"y\":[0.43107231017644526,0.6640630078910403,null],\"type\":\"scatter\"},{\"hoverinfo\":\"none\",\"line\":{\"color\":\"gray\",\"width\":0.5},\"mode\":\"lines\",\"x\":[-0.5680780534620379,-0.8559725296680426,null],\"y\":[0.43107231017644526,0.7385650721759098,null],\"type\":\"scatter\"},{\"hoverinfo\":\"none\",\"line\":{\"color\":\"gray\",\"width\":0.5},\"mode\":\"lines\",\"x\":[0.20478539543862553,-0.11848822674330863,null],\"y\":[-0.0670934015712377,-0.496608286327413,null],\"type\":\"scatter\"},{\"hoverinfo\":\"none\",\"line\":{\"color\":\"gray\",\"width\":0.5},\"mode\":\"lines\",\"x\":[0.20478539543862553,0.6294084067195145,null],\"y\":[-0.0670934015712377,0.3538784953028246,null],\"type\":\"scatter\"},{\"hoverinfo\":\"none\",\"line\":{\"color\":\"gray\",\"width\":0.5},\"mode\":\"lines\",\"x\":[0.20478539543862553,0.17807648248314772,null],\"y\":[-0.0670934015712377,0.40408963406697457,null],\"type\":\"scatter\"},{\"hoverinfo\":\"none\",\"line\":{\"color\":\"gray\",\"width\":0.5},\"mode\":\"lines\",\"x\":[0.20478539543862553,0.23854300381740678,null],\"y\":[-0.0670934015712377,-0.5701785286270976,null],\"type\":\"scatter\"},{\"hoverinfo\":\"none\",\"line\":{\"color\":\"gray\",\"width\":0.5},\"mode\":\"lines\",\"x\":[0.20478539543862553,0.0946214716402494,null],\"y\":[-0.0670934015712377,-0.5625036280439678,null],\"type\":\"scatter\"},{\"hoverinfo\":\"none\",\"line\":{\"color\":\"gray\",\"width\":0.5},\"mode\":\"lines\",\"x\":[0.20478539543862553,0.38286804528446006,null],\"y\":[-0.0670934015712377,0.4273748279950318,null],\"type\":\"scatter\"},{\"hoverinfo\":\"none\",\"line\":{\"color\":\"gray\",\"width\":0.5},\"mode\":\"lines\",\"x\":[0.20478539543862553,0.7414911973621161,null],\"y\":[-0.0670934015712377,0.00779754472659879,null],\"type\":\"scatter\"},{\"hoverinfo\":\"none\",\"line\":{\"color\":\"gray\",\"width\":0.5},\"mode\":\"lines\",\"x\":[0.20478539543862553,0.7116944577286176,null],\"y\":[-0.0670934015712377,-0.12465632409577447,null],\"type\":\"scatter\"},{\"hoverinfo\":\"none\",\"line\":{\"color\":\"gray\",\"width\":0.5},\"mode\":\"lines\",\"x\":[0.6294084067195145,0.8444876030623875,null],\"y\":[0.3538784953028246,0.694443984658664,null],\"type\":\"scatter\"},{\"hoverinfo\":\"none\",\"line\":{\"color\":\"gray\",\"width\":0.5},\"mode\":\"lines\",\"x\":[-0.3666804501630165,0.023256813878307105,null],\"y\":[0.6285221819838835,0.8438384783301277,null],\"type\":\"scatter\"},{\"hoverinfo\":\"none\",\"line\":{\"color\":\"gray\",\"width\":0.5},\"mode\":\"lines\",\"x\":[-0.3666804501630165,-0.7718450221779586,null],\"y\":[0.6285221819838835,0.39630743525743667,null],\"type\":\"scatter\"},{\"hoverinfo\":\"none\",\"line\":{\"color\":\"gray\",\"width\":0.5},\"mode\":\"lines\",\"x\":[-0.7718450221779586,-0.8101640834129605,null],\"y\":[0.39630743525743667,0.02340521167754819,null],\"type\":\"scatter\"},{\"hoverinfo\":\"none\",\"line\":{\"color\":\"gray\",\"width\":0.5},\"mode\":\"lines\",\"x\":[-0.12331945154815839,-0.2415165509472376,null],\"y\":[0.14413972245084672,0.6707893943158039,null],\"type\":\"scatter\"},{\"hoverinfo\":\"none\",\"line\":{\"color\":\"gray\",\"width\":0.5},\"mode\":\"lines\",\"x\":[-0.12331945154815839,-0.543139587088578,null],\"y\":[0.14413972245084672,0.5199908011832877,null],\"type\":\"scatter\"},{\"hoverinfo\":\"none\",\"line\":{\"color\":\"gray\",\"width\":0.5},\"mode\":\"lines\",\"x\":[-0.12331945154815839,-0.0010844118995526472,null],\"y\":[0.14413972245084672,-0.1861003957280209,null],\"type\":\"scatter\"},{\"hoverinfo\":\"none\",\"line\":{\"color\":\"gray\",\"width\":0.5},\"mode\":\"lines\",\"x\":[-0.12331945154815839,0.39738654830560416,null],\"y\":[0.14413972245084672,0.13184911136332833,null],\"type\":\"scatter\"},{\"hoverinfo\":\"text\",\"marker\":{\"color\":\"lightblue\",\"size\":10},\"mode\":\"markers+text\",\"text\":[\"Peter Doherty\",\"12 March 1979\",\"United Kingdom\",\"Musician\",\"Actor\",\"Poet\",\"The Libertines\",\"Carl Bar\\u00e2t\",\"1997\",\"Babyshambles\",\"Peter Doherty and the Puta Madres\",\"Relativity\",\"Album\",\"Emarosa\",\"July 8, 2008\",\"Kris Crummett\",\"Post-hardcore band\",\"Drop Dead, Gorgeous\",\"Fear Before\",\"Jonny Craig\",\"Dance Gavin Dance\",\"Canada\",\"United States of America\",\"westerHALTS\",\"Isles & Glaciers\",\"Baritenor\",\"Soul music\",\"EP\",\"Up the Shambles \\u2013 Live in Manchester\",\"Live DVD\",\"Drew McConnell\",\"around the time of Shotters Nation\",\"prior to the release of Down in Albion\",\"Shotters Nation\",\"Down in Albion\",\"Band\",\"John Hassall\",\"Gary Powell\",\"Garage rock\",\"Paul Nicholas Roundhill\",\"25 March 1955\",\"London\",\"balachada.com\",\"May 2006\",\"crack cocaine\",\"The Books of Albion\",\"Anthology\",\"30 May 2007\",\"Orion Books\",\"Dirty Pretty Things\",\"September 2005\",\"2004\",\"Vertigo Records\",\"Didz Hammond\",\"The Cooper Temple Clause\",\"Anthony Rossomando\",\"October 2005\",\"Italy\",\"Paris, France\",\"1 October 2008\",\"November 2008\",\"Stalking Pete Doherty\",\"Film\",\"Max Carlish\",\"BAFTA Award\",\"The Greatest of All Lost Arts\",\"Lower Definition\",\"11\",\"Pueblo Cicada\",\"Stefan Toler\",\"Valentino Arteaga\"],\"textfont\":{\"size\":7},\"textposition\":\"top center\",\"x\":[-0.02807589770064372,0.41068091325948414,0.12094718706376555,-0.11490432333712865,0.22483015535001857,0.35599636984554006,-0.21017845023781606,-0.3194447215386878,0.1610736563291208,0.11730495133291265,-0.3742035602159701,-0.1029991711128717,-0.15429087151866194,-0.17199808957464938,0.1631023186856485,-0.4201090533907767,-0.40420047443023016,-0.9294289537248523,-0.6444821608600002,0.2247085077671312,0.253266124907856,0.7734073563715704,0.6559718490735456,0.6526343774458215,0.6506481130877133,0.33598605679132304,0.11325928121724708,0.7891130038209134,0.2511335302304682,-0.3044123392181173,0.6986700468666645,0.7242827042692707,-0.11155583139409928,-0.6131458015119462,-0.30862409438383825,-0.244834003860911,-0.3668903526656767,-0.24324453149028813,-0.43001273565218495,0.25179788805961506,0.5459046443881301,-0.10810220099941714,0.4362438263852672,0.5769059480877673,0.2859318862150741,-0.5680780534620379,-0.8392317961591329,-0.1542353791060299,-0.8559725296680426,0.20478539543862553,-0.11848822674330863,-0.4968955780195456,-0.775612353501107,0.6294084067195145,0.8444876030623875,0.17807648248314772,0.23854300381740678,0.0946214716402494,0.38286804528446006,0.7414911973621161,0.7116944577286176,-0.3666804501630165,0.023256813878307105,-0.7718450221779586,-0.8101640834129605,-0.12331945154815839,-0.9490190298568684,-0.2415165509472376,-0.543139587088578,-0.0010844118995526472,0.39738654830560416],\"y\":[0.2625143075762723,0.6261959841488433,-0.10639184547854914,-0.18675238884376777,0.8011763686574237,-0.09861266325777773,-0.19395002585339924,-0.22536614433984595,-0.48535962195809823,0.7618404295166633,0.7340082195644506,0.033323405126749785,-0.35719702524712554,0.016499705503318494,0.26127411736583805,-0.017491686936387606,-0.11689657721735368,0.19440940316515132,-0.33533874151032966,-0.20163030086355155,-0.07326019947354762,-0.41937391744237135,-0.40120259845941214,-0.5409108840535926,0.09600614627844233,-0.6545788147670601,0.2722127458487644,-0.26780422616508437,0.6775708508869738,0.39885342740603125,0.4255915432774289,0.6216032226830339,0.9999999999999999,-0.5756871726436851,-0.88524600922989,0.05833397426752566,-0.4583529298017353,-0.15415899341189748,0.30431327059263164,-0.41880722604605347,-0.8130148860972002,-0.7496599394317022,-0.885648170701933,-0.7117052772922972,-0.8404931914065539,0.43107231017644526,-0.03391759014792579,0.6640630078910403,0.7385650721759098,-0.0670934015712377,-0.496608286327413,-0.6597929214541475,-0.57777710163817,0.3538784953028246,0.694443984658664,0.40408963406697457,-0.5701785286270976,-0.5625036280439678,0.4273748279950318,0.00779754472659879,-0.12465632409577447,0.6285221819838835,0.8438384783301277,0.39630743525743667,0.02340521167754819,0.14413972245084672,-0.17233469985733882,0.6707893943158039,0.5199908011832877,-0.1861003957280209,0.13184911136332833],\"type\":\"scatter\"},{\"hoverinfo\":\"none\",\"mode\":\"text\",\"text\":[\"date of birth\",\"country of origin\",\"occupation\",\"instance of\",\"occupation\",\"member of\",\"member of\",\"member of\",\"formerly known as\",\"author\",\"conflict with\",\"performer\",\"main subject\",\"inception\",\"country of origin\",\"country of origin\",\"performer\",\"performer\",\"member of\",\"performer\",\"occupation\",\"member of\",\"inception\",\"instance of\",\"member of\",\"member of\",\"member of\",\"dissolved, abolished or demolished date\",\"performer\",\"worked with\",\"performer\",\"instance of\",\"performer\",\"inception\",\"owned by\",\"producer\",\"instance of\",\"has part\",\"instance of\",\"instance of\",\"instance of\",\"instance of\",\"member of\",\"release date\",\"producer\",\"producer\",\"producer\",\"producer\",\"member of\",\"performer\",\"instance of\",\"country of origin\",\"country of origin\",\"member of\",\"member of\",\"member of\",\"performer\",\"performer\",\"has part\",\"performer\",\"instance of\",\"release statement by\",\"release date\",\"inception\",\"instance of\",\"member of\",\"date of birth\",\"location\",\"formerly known as\",\"release date\",\"formerly known as\",\"formerly known as\",\"instance of\",\"release date\",\"publisher\",\"inception\",\"member of\",\"member of\",\"inception\",\"location\",\"location\",\"dissolved, abolished or demolished date\",\"dissolved, abolished or demolished date\",\"left\",\"instance of\",\"producer\",\"award received\",\"number of tracks\",\"number of tracks\",\"left\",\"left\"],\"textfont\":{\"size\":7},\"textposition\":\"middle center\",\"x\":[0.1913025077794202,0.04643564468156092,-0.07149011051888618,0.09837712882468742,0.16396023607244817,-0.1191271739692299,0.04461452681613447,-0.20113972895830692,0.11186099517948567,-0.2980769755813408,-0.17376030961966576,0.075000292391252,-0.1973781739318301,-0.04461563158702526,0.1863725375616903,0.16286629125119553,0.05490209221500127,-0.21717452243790822,-0.24089733800140267,-0.17907442741370838,0.3038971289525776,-0.26481158588825193,-0.024552396954347633,-0.22750622704936352,-0.28853440145174636,-0.2267114908640521,-0.3200955929450005,-0.3535370141286808,-0.057329663050031135,-0.5475285375198974,0.1842192407816904,-0.12864502131576683,-0.13749863034376053,0.030051573786388404,-0.1029991711128717,-0.2615541122518242,0.049487626694597026,0.035208818124234625,-0.38371833651530407,-0.2314574829512501,-0.13880516153341016,-0.2880992820024398,0.02635520909624091,0.019891433568745058,-0.6747690035578146,-0.5322956071253885,-0.09770027281182275,-0.27171425246946757,-0.08974598333154948,-0.2637599629891943,-0.6766097521435492,0.4990579320693508,0.44034017842033835,0.2389873163374936,0.4386714426064764,0.4376783104274222,0.2803472822792271,0.16898389449218915,0.5069107557940223,0.0506945281094864,-0.026639404493824542,0.47490178854856635,0.4877081172498694,0.06978884941818446,-0.020024304211142735,-0.019229568025831298,0.39885126622387257,0.07184784353009896,0.34402085722244113,0.5065748872365172,0.4362438263852672,0.36108785630017065,-0.7036549248105854,-0.3611567162840339,-0.7120252915650402,0.043148584347658454,0.41709690107907,0.19143093896088664,0.22166419962801615,0.14970343353943746,0.2938267203615428,0.4731382964003708,0.45823992658362156,0.7369480048909509,-0.1717118181423547,-0.5692627361704875,-0.7910045527954596,-0.182418001247698,-0.3332295193183682,-0.06220193172385552,0.1370335483787229],\"y\":[0.44435514586255775,0.07806123104886159,0.03788095936625227,0.531845338116848,0.08195082215924729,0.034282140861436536,0.5121773685464678,0.4982612635703615,-0.07814645923489058,0.3467933088763588,0.01857408161821318,0.33330197082162344,0.44551824478007795,-0.1501709356659742,-0.26259953576230133,-0.08674262352489343,-0.19419134485365966,-0.20605926659180684,-0.32255265932275157,-0.17045569112783263,-0.2587099446519156,-0.2096580850966226,-0.33965482390574875,-0.0678080257929368,-0.32615147782756726,-0.17405450963264835,0.0551816223696162,-0.42687147365377337,-0.14622977295554182,-0.40157162298900795,0.7197056402018185,-0.16193681006018787,0.02491155531503414,0.14729876124629393,0.033323405126749785,0.00791585909518109,-0.21522861236033658,-0.27941366305533855,-0.46644209894540534,-0.6212215172385078,-0.10652865139813941,-0.050198435857017595,-0.09256529768011652,0.2027069199083424,0.08845885811438185,-0.17641521422335862,-0.10956099389996958,0.06332401775722955,-0.15926343904045262,0.01362157261674652,-0.14461563853734624,-0.31050210915296145,-0.30141644966148184,-0.13744525016854958,-0.3712705924585721,-0.05281207729255461,-0.4281045578153059,0.03529122249260644,-0.23471726351431796,-0.028745289206352415,0.5382121391465025,0.5515811970822013,0.6495870367850038,0.8387854254434868,-0.004379713651856024,-0.1106261974915676,-0.6159110560716268,-0.5842335827388778,-0.6522276983739932,-0.7986767239971151,-0.885648170701933,-0.8630706810542434,0.19857736001425974,0.5475676590337428,0.5848186911761776,-0.28185084394932536,0.14339254686579345,0.16849811624786842,-0.31863596509916764,-0.31479851480760274,0.18014071321189704,-0.029647928422319458,-0.09587486283350609,0.5241612399807443,0.7361803301570056,0.5124148086206601,0.20985632346749242,0.4074645583833253,0.3320652618170672,-0.020980336638587088,0.13799441690708752],\"type\":\"scatter\"}],                        {\"hovermode\":\"closest\",\"margin\":{\"b\":20,\"l\":5,\"r\":5,\"t\":40},\"showlegend\":false,\"title\":{\"font\":{\"size\":16},\"text\":\"Knowledge Graph\",\"x\":0.5},\"xaxis\":{\"visible\":false},\"yaxis\":{\"visible\":false},\"template\":{\"data\":{\"histogram2dcontour\":[{\"type\":\"histogram2dcontour\",\"colorbar\":{\"outlinewidth\":0,\"ticks\":\"\"},\"colorscale\":[[0.0,\"#0d0887\"],[0.1111111111111111,\"#46039f\"],[0.2222222222222222,\"#7201a8\"],[0.3333333333333333,\"#9c179e\"],[0.4444444444444444,\"#bd3786\"],[0.5555555555555556,\"#d8576b\"],[0.6666666666666666,\"#ed7953\"],[0.7777777777777778,\"#fb9f3a\"],[0.8888888888888888,\"#fdca26\"],[1.0,\"#f0f921\"]]}],\"choropleth\":[{\"type\":\"choropleth\",\"colorbar\":{\"outlinewidth\":0,\"ticks\":\"\"}}],\"histogram2d\":[{\"type\":\"histogram2d\",\"colorbar\":{\"outlinewidth\":0,\"ticks\":\"\"},\"colorscale\":[[0.0,\"#0d0887\"],[0.1111111111111111,\"#46039f\"],[0.2222222222222222,\"#7201a8\"],[0.3333333333333333,\"#9c179e\"],[0.4444444444444444,\"#bd3786\"],[0.5555555555555556,\"#d8576b\"],[0.6666666666666666,\"#ed7953\"],[0.7777777777777778,\"#fb9f3a\"],[0.8888888888888888,\"#fdca26\"],[1.0,\"#f0f921\"]]}],\"heatmap\":[{\"type\":\"heatmap\",\"colorbar\":{\"outlinewidth\":0,\"ticks\":\"\"},\"colorscale\":[[0.0,\"#0d0887\"],[0.1111111111111111,\"#46039f\"],[0.2222222222222222,\"#7201a8\"],[0.3333333333333333,\"#9c179e\"],[0.4444444444444444,\"#bd3786\"],[0.5555555555555556,\"#d8576b\"],[0.6666666666666666,\"#ed7953\"],[0.7777777777777778,\"#fb9f3a\"],[0.8888888888888888,\"#fdca26\"],[1.0,\"#f0f921\"]]}],\"heatmapgl\":[{\"type\":\"heatmapgl\",\"colorbar\":{\"outlinewidth\":0,\"ticks\":\"\"},\"colorscale\":[[0.0,\"#0d0887\"],[0.1111111111111111,\"#46039f\"],[0.2222222222222222,\"#7201a8\"],[0.3333333333333333,\"#9c179e\"],[0.4444444444444444,\"#bd3786\"],[0.5555555555555556,\"#d8576b\"],[0.6666666666666666,\"#ed7953\"],[0.7777777777777778,\"#fb9f3a\"],[0.8888888888888888,\"#fdca26\"],[1.0,\"#f0f921\"]]}],\"contourcarpet\":[{\"type\":\"contourcarpet\",\"colorbar\":{\"outlinewidth\":0,\"ticks\":\"\"}}],\"contour\":[{\"type\":\"contour\",\"colorbar\":{\"outlinewidth\":0,\"ticks\":\"\"},\"colorscale\":[[0.0,\"#0d0887\"],[0.1111111111111111,\"#46039f\"],[0.2222222222222222,\"#7201a8\"],[0.3333333333333333,\"#9c179e\"],[0.4444444444444444,\"#bd3786\"],[0.5555555555555556,\"#d8576b\"],[0.6666666666666666,\"#ed7953\"],[0.7777777777777778,\"#fb9f3a\"],[0.8888888888888888,\"#fdca26\"],[1.0,\"#f0f921\"]]}],\"surface\":[{\"type\":\"surface\",\"colorbar\":{\"outlinewidth\":0,\"ticks\":\"\"},\"colorscale\":[[0.0,\"#0d0887\"],[0.1111111111111111,\"#46039f\"],[0.2222222222222222,\"#7201a8\"],[0.3333333333333333,\"#9c179e\"],[0.4444444444444444,\"#bd3786\"],[0.5555555555555556,\"#d8576b\"],[0.6666666666666666,\"#ed7953\"],[0.7777777777777778,\"#fb9f3a\"],[0.8888888888888888,\"#fdca26\"],[1.0,\"#f0f921\"]]}],\"mesh3d\":[{\"type\":\"mesh3d\",\"colorbar\":{\"outlinewidth\":0,\"ticks\":\"\"}}],\"scatter\":[{\"fillpattern\":{\"fillmode\":\"overlay\",\"size\":10,\"solidity\":0.2},\"type\":\"scatter\"}],\"parcoords\":[{\"type\":\"parcoords\",\"line\":{\"colorbar\":{\"outlinewidth\":0,\"ticks\":\"\"}}}],\"scatterpolargl\":[{\"type\":\"scatterpolargl\",\"marker\":{\"colorbar\":{\"outlinewidth\":0,\"ticks\":\"\"}}}],\"bar\":[{\"error_x\":{\"color\":\"#2a3f5f\"},\"error_y\":{\"color\":\"#2a3f5f\"},\"marker\":{\"line\":{\"color\":\"#E5ECF6\",\"width\":0.5},\"pattern\":{\"fillmode\":\"overlay\",\"size\":10,\"solidity\":0.2}},\"type\":\"bar\"}],\"scattergeo\":[{\"type\":\"scattergeo\",\"marker\":{\"colorbar\":{\"outlinewidth\":0,\"ticks\":\"\"}}}],\"scatterpolar\":[{\"type\":\"scatterpolar\",\"marker\":{\"colorbar\":{\"outlinewidth\":0,\"ticks\":\"\"}}}],\"histogram\":[{\"marker\":{\"pattern\":{\"fillmode\":\"overlay\",\"size\":10,\"solidity\":0.2}},\"type\":\"histogram\"}],\"scattergl\":[{\"type\":\"scattergl\",\"marker\":{\"colorbar\":{\"outlinewidth\":0,\"ticks\":\"\"}}}],\"scatter3d\":[{\"type\":\"scatter3d\",\"line\":{\"colorbar\":{\"outlinewidth\":0,\"ticks\":\"\"}},\"marker\":{\"colorbar\":{\"outlinewidth\":0,\"ticks\":\"\"}}}],\"scattermapbox\":[{\"type\":\"scattermapbox\",\"marker\":{\"colorbar\":{\"outlinewidth\":0,\"ticks\":\"\"}}}],\"scatterternary\":[{\"type\":\"scatterternary\",\"marker\":{\"colorbar\":{\"outlinewidth\":0,\"ticks\":\"\"}}}],\"scattercarpet\":[{\"type\":\"scattercarpet\",\"marker\":{\"colorbar\":{\"outlinewidth\":0,\"ticks\":\"\"}}}],\"carpet\":[{\"aaxis\":{\"endlinecolor\":\"#2a3f5f\",\"gridcolor\":\"white\",\"linecolor\":\"white\",\"minorgridcolor\":\"white\",\"startlinecolor\":\"#2a3f5f\"},\"baxis\":{\"endlinecolor\":\"#2a3f5f\",\"gridcolor\":\"white\",\"linecolor\":\"white\",\"minorgridcolor\":\"white\",\"startlinecolor\":\"#2a3f5f\"},\"type\":\"carpet\"}],\"table\":[{\"cells\":{\"fill\":{\"color\":\"#EBF0F8\"},\"line\":{\"color\":\"white\"}},\"header\":{\"fill\":{\"color\":\"#C8D4E3\"},\"line\":{\"color\":\"white\"}},\"type\":\"table\"}],\"barpolar\":[{\"marker\":{\"line\":{\"color\":\"#E5ECF6\",\"width\":0.5},\"pattern\":{\"fillmode\":\"overlay\",\"size\":10,\"solidity\":0.2}},\"type\":\"barpolar\"}],\"pie\":[{\"automargin\":true,\"type\":\"pie\"}]},\"layout\":{\"autotypenumbers\":\"strict\",\"colorway\":[\"#636efa\",\"#EF553B\",\"#00cc96\",\"#ab63fa\",\"#FFA15A\",\"#19d3f3\",\"#FF6692\",\"#B6E880\",\"#FF97FF\",\"#FECB52\"],\"font\":{\"color\":\"#2a3f5f\"},\"hovermode\":\"closest\",\"hoverlabel\":{\"align\":\"left\"},\"paper_bgcolor\":\"white\",\"plot_bgcolor\":\"#E5ECF6\",\"polar\":{\"bgcolor\":\"#E5ECF6\",\"angularaxis\":{\"gridcolor\":\"white\",\"linecolor\":\"white\",\"ticks\":\"\"},\"radialaxis\":{\"gridcolor\":\"white\",\"linecolor\":\"white\",\"ticks\":\"\"}},\"ternary\":{\"bgcolor\":\"#E5ECF6\",\"aaxis\":{\"gridcolor\":\"white\",\"linecolor\":\"white\",\"ticks\":\"\"},\"baxis\":{\"gridcolor\":\"white\",\"linecolor\":\"white\",\"ticks\":\"\"},\"caxis\":{\"gridcolor\":\"white\",\"linecolor\":\"white\",\"ticks\":\"\"}},\"coloraxis\":{\"colorbar\":{\"outlinewidth\":0,\"ticks\":\"\"}},\"colorscale\":{\"sequential\":[[0.0,\"#0d0887\"],[0.1111111111111111,\"#46039f\"],[0.2222222222222222,\"#7201a8\"],[0.3333333333333333,\"#9c179e\"],[0.4444444444444444,\"#bd3786\"],[0.5555555555555556,\"#d8576b\"],[0.6666666666666666,\"#ed7953\"],[0.7777777777777778,\"#fb9f3a\"],[0.8888888888888888,\"#fdca26\"],[1.0,\"#f0f921\"]],\"sequentialminus\":[[0.0,\"#0d0887\"],[0.1111111111111111,\"#46039f\"],[0.2222222222222222,\"#7201a8\"],[0.3333333333333333,\"#9c179e\"],[0.4444444444444444,\"#bd3786\"],[0.5555555555555556,\"#d8576b\"],[0.6666666666666666,\"#ed7953\"],[0.7777777777777778,\"#fb9f3a\"],[0.8888888888888888,\"#fdca26\"],[1.0,\"#f0f921\"]],\"diverging\":[[0,\"#8e0152\"],[0.1,\"#c51b7d\"],[0.2,\"#de77ae\"],[0.3,\"#f1b6da\"],[0.4,\"#fde0ef\"],[0.5,\"#f7f7f7\"],[0.6,\"#e6f5d0\"],[0.7,\"#b8e186\"],[0.8,\"#7fbc41\"],[0.9,\"#4d9221\"],[1,\"#276419\"]]},\"xaxis\":{\"gridcolor\":\"white\",\"linecolor\":\"white\",\"ticks\":\"\",\"title\":{\"standoff\":15},\"zerolinecolor\":\"white\",\"automargin\":true,\"zerolinewidth\":2},\"yaxis\":{\"gridcolor\":\"white\",\"linecolor\":\"white\",\"ticks\":\"\",\"title\":{\"standoff\":15},\"zerolinecolor\":\"white\",\"automargin\":true,\"zerolinewidth\":2},\"scene\":{\"xaxis\":{\"backgroundcolor\":\"#E5ECF6\",\"gridcolor\":\"white\",\"linecolor\":\"white\",\"showbackground\":true,\"ticks\":\"\",\"zerolinecolor\":\"white\",\"gridwidth\":2},\"yaxis\":{\"backgroundcolor\":\"#E5ECF6\",\"gridcolor\":\"white\",\"linecolor\":\"white\",\"showbackground\":true,\"ticks\":\"\",\"zerolinecolor\":\"white\",\"gridwidth\":2},\"zaxis\":{\"backgroundcolor\":\"#E5ECF6\",\"gridcolor\":\"white\",\"linecolor\":\"white\",\"showbackground\":true,\"ticks\":\"\",\"zerolinecolor\":\"white\",\"gridwidth\":2}},\"shapedefaults\":{\"line\":{\"color\":\"#2a3f5f\"}},\"annotationdefaults\":{\"arrowcolor\":\"#2a3f5f\",\"arrowhead\":0,\"arrowwidth\":1},\"geo\":{\"bgcolor\":\"white\",\"landcolor\":\"#E5ECF6\",\"subunitcolor\":\"white\",\"showland\":true,\"showlakes\":true,\"lakecolor\":\"white\"},\"title\":{\"x\":0.05},\"mapbox\":{\"style\":\"light\"}}}},                        {\"responsive\": true}                    ).then(function(){\n",
       "                            \n",
       "var gd = document.getElementById('38dae489-43a9-4978-97ec-b010e66d38f0');\n",
       "var x = new MutationObserver(function (mutations, observer) {{\n",
       "        var display = window.getComputedStyle(gd).display;\n",
       "        if (!display || display === 'none') {{\n",
       "            console.log([gd, 'removed!']);\n",
       "            Plotly.purge(gd);\n",
       "            observer.disconnect();\n",
       "        }}\n",
       "}});\n",
       "\n",
       "// Listen for the removal of the full notebook cells\n",
       "var notebookContainer = gd.closest('#notebook-container');\n",
       "if (notebookContainer) {{\n",
       "    x.observe(notebookContainer, {childList: true});\n",
       "}}\n",
       "\n",
       "// Listen for the clearing of the current output cell\n",
       "var outputEl = gd.closest('.output');\n",
       "if (outputEl) {{\n",
       "    x.observe(outputEl, {childList: true});\n",
       "}}\n",
       "\n",
       "                        })                };                });            </script>        </div>"
      ]
     },
     "metadata": {},
     "output_type": "display_data"
    }
   ],
   "source": [
    "# Create edge traces\n",
    "edge_traces = []\n",
    "for edge in G.edges():\n",
    "    x0, y0 = pos[edge[0]]\n",
    "    x1, y1 = pos[edge[1]]\n",
    "    edge_trace = go.Scatter(\n",
    "        x=[x0, x1, None],\n",
    "        y=[y0, y1, None],\n",
    "        mode=\"lines\",\n",
    "        line=dict(width=0.5, color=\"gray\"),\n",
    "        hoverinfo=\"none\"\n",
    "     )\n",
    "    edge_traces.append(edge_trace)\n",
    "\n",
    "# Create node trace\n",
    "node_trace = go.Scatter(\n",
    "    x=[pos[node][0] for node in G.nodes()],\n",
    "    y=[pos[node][1] for node in G.nodes()],\n",
    "    mode='markers+text',\n",
    "    marker=dict(size=10, color='lightblue'),\n",
    "    text=[node for node in G.nodes()],\n",
    "    textposition='top center',\n",
    "    hoverinfo='text',\n",
    "    textfont=dict(size=7)\n",
    ")\n",
    "\n",
    "# Create edge label trace\n",
    "edge_label_trace = go.Scatter(\n",
    "    x=[(pos[edge[0]][0] + pos[edge[1]][0]) / 2 for edge in G.edges()],\n",
    "    y=[(pos[edge[0]][1] + pos[edge[1]][1]) / 2 for edge in G.edges()],\n",
    "    mode='text',\n",
    "    text=[G[edge[0]][edge[1]]['label'] for edge in G.edges()],\n",
    "    textposition='middle center',\n",
    "    hoverinfo='none',\n",
    "    textfont=dict(size=7)\n",
    ")\n",
    "\n",
    "# Create layout\n",
    "layout = go.Layout(\n",
    "    title=\"Knowledge Graph\",\n",
    "    titlefont_size=16,\n",
    "    title_x=0.5,\n",
    "    showlegend=False,\n",
    "    hovermode=\"closest\",\n",
    "    margin=dict(b=20, l=5, r=5, t=40),\n",
    "    xaxis_visible=False,\n",
    "    yaxis_visible=False\n",
    ")\n",
    "\n",
    "# Create Plotly figure\n",
    "fig = go.Figure(data=edge_traces + [node_trace, edge_label_trace], layout=layout)\n",
    "\n",
    "# Show the interactive plot\n",
    "fig.show()"
   ]
  },
  {
   "cell_type": "code",
   "execution_count": 53,
   "metadata": {},
   "outputs": [
    {
     "data": {
      "text/plain": [
       "'Jonny\" Craig'"
      ]
     },
     "execution_count": 53,
     "metadata": {},
     "output_type": "execute_result"
    }
   ],
   "source": [
    "ds[1]['answer']"
   ]
  },
  {
   "cell_type": "code",
   "execution_count": 46,
   "metadata": {},
   "outputs": [
    {
     "data": {
      "text/plain": [
       "[{'subject': 'Jonny Craig', 'relation': 'member of', 'object': '<entity>'},\n",
       " {'subject': 'Pete Doherty', 'relation': 'member of', 'object': '<entity>'},\n",
       " {'subject': 'Jonny Craig',\n",
       "  'relation': 'member of more bands than',\n",
       "  'object': 'Pete Doherty'}]"
      ]
     },
     "execution_count": 46,
     "metadata": {},
     "output_type": "execute_result"
    }
   ],
   "source": [
    "question_triplets = extractor.extract_triplets_from_question(question=ds[1]['question'])\n",
    "question_triplets"
   ]
  },
  {
   "cell_type": "code",
   "execution_count": 47,
   "metadata": {},
   "outputs": [],
   "source": [
    "entities = [triplet['subject'] for triplet in question_triplets if triplet['subject'] != \"<entity>\"] + \\\n",
    "    [triplet['object'] for triplet in question_triplets if triplet['object'] != \"<entity>\"]\n",
    "entities = list(set(entities))\n",
    "\n",
    "relations = [triplet['relation'] for triplet in question_triplets if triplet['relation'] != '<relation>']\n",
    "relations = list(set(relations))\n",
    "\n",
    "refined_entities = aligner.top_entities_by_llm_output(entities=entities, with_descriptions=False)\n",
    "refined_relations = aligner.top_relations_by_llm_output(relations=relations, with_descriptions=False)"
   ]
  },
  {
   "cell_type": "code",
   "execution_count": 50,
   "metadata": {},
   "outputs": [],
   "source": [
    "# question_triplets[0], question_triplets[1] = question_triplets[1], question_triplets[0]\n",
    "# question_triplets"
   ]
  },
  {
   "cell_type": "code",
   "execution_count": 51,
   "metadata": {},
   "outputs": [],
   "source": [
    "missed_candidate_entities = []\n",
    "ground_triplets = []\n",
    "# missed_candidate_relations = []\n",
    "\n",
    "for triplet in question_triplets:\n",
    "    if triplet['subject'] == '<entity>' and triplet['object'] == '<entity>':\n",
    "        subj_condition = df['subject'].apply(lambda x: x in missed_candidate_entities)\n",
    "        obj_condition = df['object'].apply(lambda x: x in missed_candidate_entities)\n",
    "        relation_condition = df['relation'].apply(lambda x: x in refined_relations[triplet['relation']])\n",
    "\n",
    "        candidate_triplets = df[(subj_condition | obj_condition) & relation_condition].to_dict(orient='records')\n",
    "        ground_triplets.extend(candidate_triplets)\n",
    "\n",
    "        new_entities = [triplet['subject'] for triplet in question_triplets] + [triplet['object'] for triplet in candidate_triplets]\n",
    "        new_entities = list(set(new_entities))\n",
    "        missed_candidate_entities.extend(new_entities)\n",
    "    \n",
    "    elif triplet['subject'] == '<entity>':\n",
    "        subj_condition = df['subject'].apply(lambda x: x in refined_entities[triplet['object']])\n",
    "        obj_condition = df['object'].apply(lambda x: x in refined_entities[triplet['object']])\n",
    "        relation_condition =  df['relation'].apply(lambda x: x in refined_relations[triplet['relation']])\n",
    "\n",
    "        candidate_triplets = df[(obj_condition | subj_condition) & relation_condition].to_dict(orient='records')\n",
    "        ground_triplets.extend(candidate_triplets)\n",
    "\n",
    "        new_entities = [triplet['subject'] for triplet in candidate_triplets] + [triplet['object'] for triplet in candidate_triplets]\n",
    "        new_entities = list(set(new_entities))\n",
    "        missed_candidate_entities.extend(new_entities)\n",
    "    \n",
    "    elif triplet['object'] == '<entity>':\n",
    "        subj_condition = df['subject'].apply(lambda x: x in refined_entities[triplet['subject']])\n",
    "        obj_condition = df['object'].apply(lambda x: x in refined_entities[triplet['subject']])\n",
    "        relation_condition =  df['relation'].apply(lambda x: x in refined_relations[triplet['relation']])\n",
    "\n",
    "        candidate_triplets = df[(subj_condition | obj_condition) & relation_condition].to_dict(orient='records')\n",
    "        ground_triplets.extend(candidate_triplets)\n",
    "\n",
    "        new_entities = [triplet['subject'] for triplet in candidate_triplets] + [triplet['object'] for triplet in candidate_triplets]\n",
    "        new_entities = list(set(new_entities))\n",
    "        missed_candidate_entities.extend(new_entities)\n",
    "    \n",
    "    else:\n",
    "        continue\n",
    "    "
   ]
  },
  {
   "cell_type": "code",
   "execution_count": 52,
   "metadata": {},
   "outputs": [
    {
     "data": {
      "text/plain": [
       "[{'subject': 'Peter Doherty', 'relation': 'instance of', 'object': 'Musician'},\n",
       " {'subject': 'Peter Doherty', 'relation': 'instance of', 'object': 'Actor'},\n",
       " {'subject': 'Peter Doherty', 'relation': 'instance of', 'object': 'Poet'},\n",
       " {'subject': 'Peter Doherty',\n",
       "  'relation': 'member of',\n",
       "  'object': 'The Libertines'},\n",
       " {'subject': 'The Libertines',\n",
       "  'relation': 'member of',\n",
       "  'object': 'Peter Doherty'},\n",
       " {'subject': 'Peter Doherty',\n",
       "  'relation': 'member of',\n",
       "  'object': 'Babyshambles'},\n",
       " {'subject': 'Peter Doherty',\n",
       "  'relation': 'member of',\n",
       "  'object': 'Peter Doherty and the Puta Madres'},\n",
       " {'subject': 'Jonny Craig', 'relation': 'producer', 'object': 'Kris Crummett'},\n",
       " {'subject': 'Jonny Craig',\n",
       "  'relation': 'member of',\n",
       "  'object': 'Post-hardcore band'},\n",
       " {'subject': 'Jonny Craig',\n",
       "  'relation': 'member of',\n",
       "  'object': 'Dance Gavin Dance'},\n",
       " {'subject': 'Jonny Craig', 'relation': 'member of', 'object': 'Emarosa'},\n",
       " {'subject': 'Jonny Craig', 'relation': 'member of', 'object': 'westerHALTS'},\n",
       " {'subject': 'Jonny Craig',\n",
       "  'relation': 'member of',\n",
       "  'object': 'Isles & Glaciers'},\n",
       " {'subject': 'Jonny Craig', 'relation': 'instance of', 'object': 'Album'},\n",
       " {'subject': 'Jonny Craig', 'relation': 'has part', 'object': 'EP'},\n",
       " {'subject': 'Jonny Craig', 'relation': 'has part', 'object': 'Album'},\n",
       " {'subject': 'Peter Doherty', 'relation': 'occupation', 'object': 'Musician'},\n",
       " {'subject': 'Peter Doherty', 'relation': 'occupation', 'object': 'Poet'},\n",
       " {'subject': 'Babyshambles',\n",
       "  'relation': 'member of',\n",
       "  'object': 'Peter Doherty'},\n",
       " {'subject': 'Stalking Pete Doherty',\n",
       "  'relation': 'instance of',\n",
       "  'object': 'Film'},\n",
       " {'subject': 'Stalking Pete Doherty',\n",
       "  'relation': 'producer',\n",
       "  'object': 'Max Carlish'},\n",
       " {'subject': 'Peter Doherty', 'relation': 'instance of', 'object': 'Musician'},\n",
       " {'subject': 'Peter Doherty', 'relation': 'instance of', 'object': 'Actor'},\n",
       " {'subject': 'Peter Doherty', 'relation': 'instance of', 'object': 'Poet'},\n",
       " {'subject': 'Peter Doherty',\n",
       "  'relation': 'member of',\n",
       "  'object': 'The Libertines'},\n",
       " {'subject': 'The Libertines',\n",
       "  'relation': 'member of',\n",
       "  'object': 'Peter Doherty'},\n",
       " {'subject': 'Peter Doherty',\n",
       "  'relation': 'member of',\n",
       "  'object': 'Babyshambles'},\n",
       " {'subject': 'Peter Doherty',\n",
       "  'relation': 'member of',\n",
       "  'object': 'Peter Doherty and the Puta Madres'},\n",
       " {'subject': 'Jonny Craig', 'relation': 'producer', 'object': 'Kris Crummett'},\n",
       " {'subject': 'Jonny Craig',\n",
       "  'relation': 'member of',\n",
       "  'object': 'Post-hardcore band'},\n",
       " {'subject': 'Jonny Craig',\n",
       "  'relation': 'member of',\n",
       "  'object': 'Dance Gavin Dance'},\n",
       " {'subject': 'Jonny Craig', 'relation': 'member of', 'object': 'Emarosa'},\n",
       " {'subject': 'Jonny Craig', 'relation': 'member of', 'object': 'westerHALTS'},\n",
       " {'subject': 'Jonny Craig',\n",
       "  'relation': 'member of',\n",
       "  'object': 'Isles & Glaciers'},\n",
       " {'subject': 'Jonny Craig', 'relation': 'instance of', 'object': 'Album'},\n",
       " {'subject': 'Jonny Craig', 'relation': 'has part', 'object': 'EP'},\n",
       " {'subject': 'Jonny Craig', 'relation': 'has part', 'object': 'Album'},\n",
       " {'subject': 'The Libertines',\n",
       "  'relation': 'member of',\n",
       "  'object': 'Gary Powell'},\n",
       " {'subject': 'Peter Doherty', 'relation': 'occupation', 'object': 'Musician'},\n",
       " {'subject': 'Peter Doherty', 'relation': 'occupation', 'object': 'Poet'},\n",
       " {'subject': 'Babyshambles',\n",
       "  'relation': 'member of',\n",
       "  'object': 'Peter Doherty'},\n",
       " {'subject': 'Didz Hammond',\n",
       "  'relation': 'member of',\n",
       "  'object': 'Dirty Pretty Things'},\n",
       " {'subject': 'Gary Powell',\n",
       "  'relation': 'member of',\n",
       "  'object': 'Dirty Pretty Things'}]"
      ]
     },
     "execution_count": 52,
     "metadata": {},
     "output_type": "execute_result"
    }
   ],
   "source": [
    "ground_triplets"
   ]
  },
  {
   "cell_type": "code",
   "execution_count": 37,
   "metadata": {},
   "outputs": [
    {
     "data": {
      "text/plain": [
       "2.78697"
      ]
     },
     "execution_count": 37,
     "metadata": {},
     "output_type": "execute_result"
    }
   ],
   "source": [
    "extractor.calculate_cost()"
   ]
  },
  {
   "cell_type": "code",
   "execution_count": 24,
   "metadata": {},
   "outputs": [
    {
     "data": {
      "text/html": [
       "<div>\n",
       "<style scoped>\n",
       "    .dataframe tbody tr th:only-of-type {\n",
       "        vertical-align: middle;\n",
       "    }\n",
       "\n",
       "    .dataframe tbody tr th {\n",
       "        vertical-align: top;\n",
       "    }\n",
       "\n",
       "    .dataframe thead th {\n",
       "        text-align: right;\n",
       "    }\n",
       "</style>\n",
       "<table border=\"1\" class=\"dataframe\">\n",
       "  <thead>\n",
       "    <tr style=\"text-align: right;\">\n",
       "      <th></th>\n",
       "      <th>subject</th>\n",
       "      <th>relation</th>\n",
       "      <th>object</th>\n",
       "    </tr>\n",
       "  </thead>\n",
       "  <tbody>\n",
       "    <tr>\n",
       "      <th>0</th>\n",
       "      <td>Guns N' Roses</td>\n",
       "      <td>instance of</td>\n",
       "      <td>Hard rock band</td>\n",
       "    </tr>\n",
       "    <tr>\n",
       "      <th>1</th>\n",
       "      <td>Guns N' Roses</td>\n",
       "      <td>country of origin</td>\n",
       "      <td>United States</td>\n",
       "    </tr>\n",
       "    <tr>\n",
       "      <th>3</th>\n",
       "      <td>Guns N' Roses</td>\n",
       "      <td>inception</td>\n",
       "      <td>1985</td>\n",
       "    </tr>\n",
       "    <tr>\n",
       "      <th>4</th>\n",
       "      <td>Guns N' Roses</td>\n",
       "      <td>has part</td>\n",
       "      <td>Hollywood Rose</td>\n",
       "    </tr>\n",
       "    <tr>\n",
       "      <th>5</th>\n",
       "      <td>Guns N' Roses</td>\n",
       "      <td>has part</td>\n",
       "      <td>L.A. Guns</td>\n",
       "    </tr>\n",
       "    <tr>\n",
       "      <th>...</th>\n",
       "      <td>...</td>\n",
       "      <td>...</td>\n",
       "      <td>...</td>\n",
       "    </tr>\n",
       "    <tr>\n",
       "      <th>139</th>\n",
       "      <td>Arnold Schwarzenegger</td>\n",
       "      <td>instance of</td>\n",
       "      <td>Action film</td>\n",
       "    </tr>\n",
       "    <tr>\n",
       "      <th>140</th>\n",
       "      <td>Arnold Schwarzenegger</td>\n",
       "      <td>instance of</td>\n",
       "      <td>Comedy film</td>\n",
       "    </tr>\n",
       "    <tr>\n",
       "      <th>141</th>\n",
       "      <td>Arnold Schwarzenegger</td>\n",
       "      <td>performer of</td>\n",
       "      <td>Music video</td>\n",
       "    </tr>\n",
       "    <tr>\n",
       "      <th>142</th>\n",
       "      <td>Arnold Schwarzenegger</td>\n",
       "      <td>performer of</td>\n",
       "      <td>Actor</td>\n",
       "    </tr>\n",
       "    <tr>\n",
       "      <th>143</th>\n",
       "      <td>Arnold Schwarzenegger</td>\n",
       "      <td>performer of</td>\n",
       "      <td>Television film</td>\n",
       "    </tr>\n",
       "  </tbody>\n",
       "</table>\n",
       "<p>128 rows × 3 columns</p>\n",
       "</div>"
      ],
      "text/plain": [
       "                   subject           relation           object\n",
       "0            Guns N' Roses        instance of   Hard rock band\n",
       "1            Guns N' Roses  country of origin    United States\n",
       "3            Guns N' Roses          inception             1985\n",
       "4            Guns N' Roses           has part   Hollywood Rose\n",
       "5            Guns N' Roses           has part        L.A. Guns\n",
       "..                     ...                ...              ...\n",
       "139  Arnold Schwarzenegger        instance of      Action film\n",
       "140  Arnold Schwarzenegger        instance of      Comedy film\n",
       "141  Arnold Schwarzenegger       performer of      Music video\n",
       "142  Arnold Schwarzenegger       performer of            Actor\n",
       "143  Arnold Schwarzenegger       performer of  Television film\n",
       "\n",
       "[128 rows x 3 columns]"
      ]
     },
     "execution_count": 24,
     "metadata": {},
     "output_type": "execute_result"
    }
   ],
   "source": [
    "df"
   ]
  },
  {
   "cell_type": "code",
   "execution_count": 25,
   "metadata": {},
   "outputs": [
    {
     "data": {
      "text/html": [
       "<div>\n",
       "<style scoped>\n",
       "    .dataframe tbody tr th:only-of-type {\n",
       "        vertical-align: middle;\n",
       "    }\n",
       "\n",
       "    .dataframe tbody tr th {\n",
       "        vertical-align: top;\n",
       "    }\n",
       "\n",
       "    .dataframe thead th {\n",
       "        text-align: right;\n",
       "    }\n",
       "</style>\n",
       "<table border=\"1\" class=\"dataframe\">\n",
       "  <thead>\n",
       "    <tr style=\"text-align: right;\">\n",
       "      <th></th>\n",
       "      <th>subject</th>\n",
       "      <th>relation</th>\n",
       "      <th>object</th>\n",
       "    </tr>\n",
       "  </thead>\n",
       "  <tbody>\n",
       "    <tr>\n",
       "      <th>35</th>\n",
       "      <td>Arnold Schwarzenegger</td>\n",
       "      <td>performer of</td>\n",
       "      <td>Jericho Cane</td>\n",
       "    </tr>\n",
       "    <tr>\n",
       "      <th>108</th>\n",
       "      <td>Arnold Schwarzenegger</td>\n",
       "      <td>performer of</td>\n",
       "      <td>Jack Slater</td>\n",
       "    </tr>\n",
       "    <tr>\n",
       "      <th>109</th>\n",
       "      <td>Arnold Schwarzenegger</td>\n",
       "      <td>producer</td>\n",
       "      <td>Last Action Hero</td>\n",
       "    </tr>\n",
       "    <tr>\n",
       "      <th>133</th>\n",
       "      <td>Arnold Schwarzenegger</td>\n",
       "      <td>occupation</td>\n",
       "      <td>Actor</td>\n",
       "    </tr>\n",
       "    <tr>\n",
       "      <th>136</th>\n",
       "      <td>Arnold Schwarzenegger</td>\n",
       "      <td>instance of</td>\n",
       "      <td>Actor</td>\n",
       "    </tr>\n",
       "    <tr>\n",
       "      <th>137</th>\n",
       "      <td>Arnold Schwarzenegger</td>\n",
       "      <td>billed as</td>\n",
       "      <td>Arnold Strong</td>\n",
       "    </tr>\n",
       "    <tr>\n",
       "      <th>139</th>\n",
       "      <td>Arnold Schwarzenegger</td>\n",
       "      <td>instance of</td>\n",
       "      <td>Action film</td>\n",
       "    </tr>\n",
       "    <tr>\n",
       "      <th>140</th>\n",
       "      <td>Arnold Schwarzenegger</td>\n",
       "      <td>instance of</td>\n",
       "      <td>Comedy film</td>\n",
       "    </tr>\n",
       "    <tr>\n",
       "      <th>141</th>\n",
       "      <td>Arnold Schwarzenegger</td>\n",
       "      <td>performer of</td>\n",
       "      <td>Music video</td>\n",
       "    </tr>\n",
       "    <tr>\n",
       "      <th>142</th>\n",
       "      <td>Arnold Schwarzenegger</td>\n",
       "      <td>performer of</td>\n",
       "      <td>Actor</td>\n",
       "    </tr>\n",
       "    <tr>\n",
       "      <th>143</th>\n",
       "      <td>Arnold Schwarzenegger</td>\n",
       "      <td>performer of</td>\n",
       "      <td>Television film</td>\n",
       "    </tr>\n",
       "  </tbody>\n",
       "</table>\n",
       "</div>"
      ],
      "text/plain": [
       "                   subject      relation            object\n",
       "35   Arnold Schwarzenegger  performer of      Jericho Cane\n",
       "108  Arnold Schwarzenegger  performer of       Jack Slater\n",
       "109  Arnold Schwarzenegger      producer  Last Action Hero\n",
       "133  Arnold Schwarzenegger    occupation             Actor\n",
       "136  Arnold Schwarzenegger   instance of             Actor\n",
       "137  Arnold Schwarzenegger     billed as     Arnold Strong\n",
       "139  Arnold Schwarzenegger   instance of       Action film\n",
       "140  Arnold Schwarzenegger   instance of       Comedy film\n",
       "141  Arnold Schwarzenegger  performer of       Music video\n",
       "142  Arnold Schwarzenegger  performer of             Actor\n",
       "143  Arnold Schwarzenegger  performer of   Television film"
      ]
     },
     "execution_count": 25,
     "metadata": {},
     "output_type": "execute_result"
    }
   ],
   "source": [
    "df[df['subject'] == 'Arnold Schwarzenegger']"
   ]
  },
  {
   "cell_type": "code",
   "execution_count": 26,
   "metadata": {},
   "outputs": [
    {
     "data": {
      "text/html": [
       "<div>\n",
       "<style scoped>\n",
       "    .dataframe tbody tr th:only-of-type {\n",
       "        vertical-align: middle;\n",
       "    }\n",
       "\n",
       "    .dataframe tbody tr th {\n",
       "        vertical-align: top;\n",
       "    }\n",
       "\n",
       "    .dataframe thead th {\n",
       "        text-align: right;\n",
       "    }\n",
       "</style>\n",
       "<table border=\"1\" class=\"dataframe\">\n",
       "  <thead>\n",
       "    <tr style=\"text-align: right;\">\n",
       "      <th></th>\n",
       "      <th>subject</th>\n",
       "      <th>relation</th>\n",
       "      <th>object</th>\n",
       "    </tr>\n",
       "  </thead>\n",
       "  <tbody>\n",
       "    <tr>\n",
       "      <th>28</th>\n",
       "      <td>End of Days</td>\n",
       "      <td>has part</td>\n",
       "      <td>Arnold Schwarzenegger</td>\n",
       "    </tr>\n",
       "    <tr>\n",
       "      <th>105</th>\n",
       "      <td>Last Action Hero</td>\n",
       "      <td>performer of</td>\n",
       "      <td>Arnold Schwarzenegger</td>\n",
       "    </tr>\n",
       "    <tr>\n",
       "      <th>118</th>\n",
       "      <td>True Lies</td>\n",
       "      <td>performer of</td>\n",
       "      <td>Arnold Schwarzenegger</td>\n",
       "    </tr>\n",
       "    <tr>\n",
       "      <th>131</th>\n",
       "      <td>Harry Tasker</td>\n",
       "      <td>performer of</td>\n",
       "      <td>Arnold Schwarzenegger</td>\n",
       "    </tr>\n",
       "  </tbody>\n",
       "</table>\n",
       "</div>"
      ],
      "text/plain": [
       "              subject      relation                 object\n",
       "28        End of Days      has part  Arnold Schwarzenegger\n",
       "105  Last Action Hero  performer of  Arnold Schwarzenegger\n",
       "118         True Lies  performer of  Arnold Schwarzenegger\n",
       "131      Harry Tasker  performer of  Arnold Schwarzenegger"
      ]
     },
     "execution_count": 26,
     "metadata": {},
     "output_type": "execute_result"
    }
   ],
   "source": [
    "df[df['object'] == 'Arnold Schwarzenegger']"
   ]
  },
  {
   "cell_type": "code",
   "execution_count": 28,
   "metadata": {},
   "outputs": [
    {
     "data": {
      "text/html": [
       "<div>\n",
       "<style scoped>\n",
       "    .dataframe tbody tr th:only-of-type {\n",
       "        vertical-align: middle;\n",
       "    }\n",
       "\n",
       "    .dataframe tbody tr th {\n",
       "        vertical-align: top;\n",
       "    }\n",
       "\n",
       "    .dataframe thead th {\n",
       "        text-align: right;\n",
       "    }\n",
       "</style>\n",
       "<table border=\"1\" class=\"dataframe\">\n",
       "  <thead>\n",
       "    <tr style=\"text-align: right;\">\n",
       "      <th></th>\n",
       "      <th>subject</th>\n",
       "      <th>relation</th>\n",
       "      <th>object</th>\n",
       "    </tr>\n",
       "  </thead>\n",
       "  <tbody>\n",
       "    <tr>\n",
       "      <th>96</th>\n",
       "      <td>Last Action Hero</td>\n",
       "      <td>inception</td>\n",
       "      <td>1993</td>\n",
       "    </tr>\n",
       "    <tr>\n",
       "      <th>97</th>\n",
       "      <td>Last Action Hero</td>\n",
       "      <td>country of origin</td>\n",
       "      <td>United States</td>\n",
       "    </tr>\n",
       "    <tr>\n",
       "      <th>98</th>\n",
       "      <td>Last Action Hero</td>\n",
       "      <td>instance of</td>\n",
       "      <td>Fantasy film</td>\n",
       "    </tr>\n",
       "    <tr>\n",
       "      <th>99</th>\n",
       "      <td>Last Action Hero</td>\n",
       "      <td>instance of</td>\n",
       "      <td>Action film</td>\n",
       "    </tr>\n",
       "    <tr>\n",
       "      <th>101</th>\n",
       "      <td>Last Action Hero</td>\n",
       "      <td>director</td>\n",
       "      <td>John McTiernan</td>\n",
       "    </tr>\n",
       "    <tr>\n",
       "      <th>102</th>\n",
       "      <td>Last Action Hero</td>\n",
       "      <td>producer</td>\n",
       "      <td>John McTiernan</td>\n",
       "    </tr>\n",
       "    <tr>\n",
       "      <th>104</th>\n",
       "      <td>Last Action Hero</td>\n",
       "      <td>based on</td>\n",
       "      <td>Action film</td>\n",
       "    </tr>\n",
       "    <tr>\n",
       "      <th>105</th>\n",
       "      <td>Last Action Hero</td>\n",
       "      <td>performer of</td>\n",
       "      <td>Arnold Schwarzenegger</td>\n",
       "    </tr>\n",
       "    <tr>\n",
       "      <th>106</th>\n",
       "      <td>Last Action Hero</td>\n",
       "      <td>performer of</td>\n",
       "      <td>Austin O'Brien</td>\n",
       "    </tr>\n",
       "    <tr>\n",
       "      <th>107</th>\n",
       "      <td>Last Action Hero</td>\n",
       "      <td>performer of</td>\n",
       "      <td>Charles Dance</td>\n",
       "    </tr>\n",
       "  </tbody>\n",
       "</table>\n",
       "</div>"
      ],
      "text/plain": [
       "              subject           relation                 object\n",
       "96   Last Action Hero          inception                   1993\n",
       "97   Last Action Hero  country of origin          United States\n",
       "98   Last Action Hero        instance of           Fantasy film\n",
       "99   Last Action Hero        instance of            Action film\n",
       "101  Last Action Hero           director         John McTiernan\n",
       "102  Last Action Hero           producer         John McTiernan\n",
       "104  Last Action Hero           based on            Action film\n",
       "105  Last Action Hero       performer of  Arnold Schwarzenegger\n",
       "106  Last Action Hero       performer of         Austin O'Brien\n",
       "107  Last Action Hero       performer of          Charles Dance"
      ]
     },
     "execution_count": 28,
     "metadata": {},
     "output_type": "execute_result"
    }
   ],
   "source": [
    "df[df['subject'] == 'Last Action Hero']"
   ]
  },
  {
   "cell_type": "code",
   "execution_count": 29,
   "metadata": {},
   "outputs": [
    {
     "data": {
      "text/html": [
       "<div>\n",
       "<style scoped>\n",
       "    .dataframe tbody tr th:only-of-type {\n",
       "        vertical-align: middle;\n",
       "    }\n",
       "\n",
       "    .dataframe tbody tr th {\n",
       "        vertical-align: top;\n",
       "    }\n",
       "\n",
       "    .dataframe thead th {\n",
       "        text-align: right;\n",
       "    }\n",
       "</style>\n",
       "<table border=\"1\" class=\"dataframe\">\n",
       "  <thead>\n",
       "    <tr style=\"text-align: right;\">\n",
       "      <th></th>\n",
       "      <th>subject</th>\n",
       "      <th>relation</th>\n",
       "      <th>object</th>\n",
       "    </tr>\n",
       "  </thead>\n",
       "  <tbody>\n",
       "    <tr>\n",
       "      <th>109</th>\n",
       "      <td>Arnold Schwarzenegger</td>\n",
       "      <td>producer</td>\n",
       "      <td>Last Action Hero</td>\n",
       "    </tr>\n",
       "    <tr>\n",
       "      <th>110</th>\n",
       "      <td>Austin O'Brien</td>\n",
       "      <td>performer of</td>\n",
       "      <td>Last Action Hero</td>\n",
       "    </tr>\n",
       "  </tbody>\n",
       "</table>\n",
       "</div>"
      ],
      "text/plain": [
       "                   subject      relation            object\n",
       "109  Arnold Schwarzenegger      producer  Last Action Hero\n",
       "110         Austin O'Brien  performer of  Last Action Hero"
      ]
     },
     "execution_count": 29,
     "metadata": {},
     "output_type": "execute_result"
    }
   ],
   "source": [
    "df[df['object'] == 'Last Action Hero']"
   ]
  },
  {
   "cell_type": "code",
   "execution_count": 30,
   "metadata": {},
   "outputs": [
    {
     "data": {
      "text/html": [
       "<div>\n",
       "<style scoped>\n",
       "    .dataframe tbody tr th:only-of-type {\n",
       "        vertical-align: middle;\n",
       "    }\n",
       "\n",
       "    .dataframe tbody tr th {\n",
       "        vertical-align: top;\n",
       "    }\n",
       "\n",
       "    .dataframe thead th {\n",
       "        text-align: right;\n",
       "    }\n",
       "</style>\n",
       "<table border=\"1\" class=\"dataframe\">\n",
       "  <thead>\n",
       "    <tr style=\"text-align: right;\">\n",
       "      <th></th>\n",
       "      <th>subject</th>\n",
       "      <th>relation</th>\n",
       "      <th>object</th>\n",
       "    </tr>\n",
       "  </thead>\n",
       "  <tbody>\n",
       "    <tr>\n",
       "      <th>43</th>\n",
       "      <td>Steven Adler</td>\n",
       "      <td>has part</td>\n",
       "      <td>Guns N' Roses</td>\n",
       "    </tr>\n",
       "    <tr>\n",
       "      <th>74</th>\n",
       "      <td>Hammerjacks Concert Hall and Nightclub</td>\n",
       "      <td>notable for</td>\n",
       "      <td>Guns N' Roses</td>\n",
       "    </tr>\n",
       "    <tr>\n",
       "      <th>88</th>\n",
       "      <td>The Recycler</td>\n",
       "      <td>helped launch career of</td>\n",
       "      <td>Guns N' Roses</td>\n",
       "    </tr>\n",
       "  </tbody>\n",
       "</table>\n",
       "</div>"
      ],
      "text/plain": [
       "                                   subject                 relation  \\\n",
       "43                            Steven Adler                 has part   \n",
       "74  Hammerjacks Concert Hall and Nightclub              notable for   \n",
       "88                            The Recycler  helped launch career of   \n",
       "\n",
       "           object  \n",
       "43  Guns N' Roses  \n",
       "74  Guns N' Roses  \n",
       "88  Guns N' Roses  "
      ]
     },
     "execution_count": 30,
     "metadata": {},
     "output_type": "execute_result"
    }
   ],
   "source": [
    "df[df['object'] == \"Guns N' Roses\"]"
   ]
  },
  {
   "cell_type": "code",
   "execution_count": 31,
   "metadata": {},
   "outputs": [
    {
     "data": {
      "text/html": [
       "<div>\n",
       "<style scoped>\n",
       "    .dataframe tbody tr th:only-of-type {\n",
       "        vertical-align: middle;\n",
       "    }\n",
       "\n",
       "    .dataframe tbody tr th {\n",
       "        vertical-align: top;\n",
       "    }\n",
       "\n",
       "    .dataframe thead th {\n",
       "        text-align: right;\n",
       "    }\n",
       "</style>\n",
       "<table border=\"1\" class=\"dataframe\">\n",
       "  <thead>\n",
       "    <tr style=\"text-align: right;\">\n",
       "      <th></th>\n",
       "      <th>subject</th>\n",
       "      <th>relation</th>\n",
       "      <th>object</th>\n",
       "    </tr>\n",
       "  </thead>\n",
       "  <tbody>\n",
       "    <tr>\n",
       "      <th>0</th>\n",
       "      <td>Guns N' Roses</td>\n",
       "      <td>instance of</td>\n",
       "      <td>Hard rock band</td>\n",
       "    </tr>\n",
       "    <tr>\n",
       "      <th>1</th>\n",
       "      <td>Guns N' Roses</td>\n",
       "      <td>country of origin</td>\n",
       "      <td>United States</td>\n",
       "    </tr>\n",
       "    <tr>\n",
       "      <th>3</th>\n",
       "      <td>Guns N' Roses</td>\n",
       "      <td>inception</td>\n",
       "      <td>1985</td>\n",
       "    </tr>\n",
       "    <tr>\n",
       "      <th>4</th>\n",
       "      <td>Guns N' Roses</td>\n",
       "      <td>has part</td>\n",
       "      <td>Hollywood Rose</td>\n",
       "    </tr>\n",
       "    <tr>\n",
       "      <th>5</th>\n",
       "      <td>Guns N' Roses</td>\n",
       "      <td>has part</td>\n",
       "      <td>L.A. Guns</td>\n",
       "    </tr>\n",
       "    <tr>\n",
       "      <th>6</th>\n",
       "      <td>Guns N' Roses</td>\n",
       "      <td>record label</td>\n",
       "      <td>Geffen Records</td>\n",
       "    </tr>\n",
       "    <tr>\n",
       "      <th>7</th>\n",
       "      <td>Guns N' Roses</td>\n",
       "      <td>has part</td>\n",
       "      <td>Appetite for Destruction</td>\n",
       "    </tr>\n",
       "    <tr>\n",
       "      <th>62</th>\n",
       "      <td>Guns N' Roses</td>\n",
       "      <td>replaced</td>\n",
       "      <td>Faction With Jason Ellis</td>\n",
       "    </tr>\n",
       "  </tbody>\n",
       "</table>\n",
       "</div>"
      ],
      "text/plain": [
       "          subject           relation                    object\n",
       "0   Guns N' Roses        instance of            Hard rock band\n",
       "1   Guns N' Roses  country of origin             United States\n",
       "3   Guns N' Roses          inception                      1985\n",
       "4   Guns N' Roses           has part            Hollywood Rose\n",
       "5   Guns N' Roses           has part                 L.A. Guns\n",
       "6   Guns N' Roses       record label            Geffen Records\n",
       "7   Guns N' Roses           has part  Appetite for Destruction\n",
       "62  Guns N' Roses           replaced  Faction With Jason Ellis"
      ]
     },
     "execution_count": 31,
     "metadata": {},
     "output_type": "execute_result"
    }
   ],
   "source": [
    "df[df['subject'] == \"Guns N' Roses\"]"
   ]
  },
  {
   "cell_type": "code",
   "execution_count": 32,
   "metadata": {},
   "outputs": [
    {
     "data": {
      "text/plain": [
       "['Guns N\\' Roses is an American hard rock band formed in Los Angeles, California in 1985 by members of Hollywood Rose and L.A. Guns.  The band has released six studio albums, two live albums, two compilation albums, two extended plays, seven video albums, eighteen singles, twenty four music videos and one video single.  Guns N\\' Roses signed a deal with Geffen Records in 1986, after the independently released EP \"Live ?! *@ Like a Suicide\" a year before.  Its debut studio album \"Appetite for Destruction\" was released in 1987, reached the top of the \"Billboard\" 200 and sold 18 million units in the United States and approximately 33 million units worldwide.',\n",
       " 'Get Christie Love!  is a 1974 made-for-television film and subsequent crime drama TV series starring Teresa Graves as an undercover female police detective who is determined to overthrow a drug ring.  This film is based on Dorothy Uhnak\\'s crime-thriller novel \"The Ledger\".  However, the main character \"Christie Opara\"—a white, New York Police detective—was dropped completely and \"Christie Love\" emerged.',\n",
       " 'End of Days is a 1999 American fantasy action horror thriller film directed by Peter Hyams and starring Arnold Schwarzenegger, Gabriel Byrne, Robin Tunney, Kevin Pollak, Rod Steiger, CCH Pounder, and Udo Kier.  The film follows former New York Police Department detective Jericho Cane (Schwarzenegger) after he saves a banker (Byrne) from an assassin, finds himself embroiled in a religious conflict, and must protect an innocent young woman (Tunney) who is chosen by evil forces to conceive the Antichrist with Satan.',\n",
       " 'Steven Adler (born Michael Coletti; January 22, 1965) is an American musician.  He is best known as the former drummer and co-songwriter of the hard rock band Guns N\\' Roses, with whom he achieved worldwide success in the late 1980s.  Adler was fired from Guns N\\' Roses over his heroin addiction in 1990, following which he reformed his old band Road Crew and briefly joined BulletBoys, which both proved unsuccessful.  During the 2000s, Adler was the drummer of the band Adler\\'s Appetite, and from 2012, he had held the same position in the band Adler.  In early 2017, Steven Adler declared that he has no intention to continue with the band, and that the band has now dissolved, and the reason is his lack of interest in performing during poorly attended concerts.  He appeared on the second and fifth seasons of the reality TV show \"Celebrity Rehab with Dr. Drew\", as well as on the first season of its spin-off \"Sober House\".  He was inducted into the Rock and Roll Hall of Fame in 2012 as a member of Guns N\\' Roses.',\n",
       " \"Faction With Jason Ellis is an uncensored hard rock, punk, hip hop, and heavy metal music mixed channel on Siruis XM Satellite Radio.  Until mid-July 2017, Faction appeared on Sirius XM channel 41.  In mid-July 2017, Faction was temporarily replaced by Guns N Roses radio.  After August 16, 2017, channel 41 was rebranded to Turbo, Sirius XM's channel for hard rock from the 1990s and 2000s.  Faction moved to channel 314, Turbo's previous channel.  Faction is currently available on select Sirius XM radios, Sirius XM streaming, and the Sirius XM smartphone app.\",\n",
       " 'Hammerjacks Concert Hall and Nightclub was a large concert hall in downtown Baltimore through the 1980s and into the 1990s owned by Louis J. Principio III The club attracted many big-name national acts, but also showcased many rising stars in the music world.  The bands ranged from punk, glam, and heavy metal acts most commonly associated with the venue (e.g., Guns n Roses, Kix, Ratt, Skid Row or Extreme) to pop (e.g., Badfinger) and alternative rock groups (e.g., Goo Goo Dolls).  The club was often frequented by hard core patrons and musicians donning big hair, leather, lace, spandex, and heavy makeup, and was considered a \"hard rock shrine.\"  Hamerjacks, however, attracted audiences with other attire as well.  It was torn down on June 12, 1997 to make way for M&T Bank Stadium parking lot.  Hammerjacks was billed as \"The largest nightclub on the east coast.\"',\n",
       " 'Born in 1973, and relaunched in 2010 as a national website, The Recycler classified newspaper was one of the first online classified sites on the web and helped to launch the careers of many Los Angeles bands including Guns N Roses, Metallica, and Motley Crue.  The company was sold by the Los Angeles Times to Target Media Partners in 2007 is now located in North Hollywood, California.',\n",
       " 'Last Action Hero is a 1993 American fantasy action comedy film directed and produced by John McTiernan.  It is a satire of the action genre and associated clichés, containing several parodies of action films in the form of films within the film. The film stars Arnold Schwarzenegger as Jack Slater, a Los Angeles police detective within the \"Jack Slater\" action film franchise.  Austin O\\'Brien co-stars as a boy magically transported into the \"Slater\" universe.  Schwarzenegger also served as the film\\'s executive producer and plays himself as the actor portraying Jack Slater, and Charles Dance plays an assassin who escapes from the \"Slater\" world into the real world.',\n",
       " 'True Lies is a 1994 American action film written, co-produced and directed by James Cameron, starring Arnold Schwarzenegger, Jamie Lee Curtis, Tom Arnold, Art Malik, Tia Carrere, Bill Paxton, Eliza Dushku, Grant Heslov and Charlton Heston.  It is a loose remake of the 1991 French comedy film \"La Totale! \" The film follows U.S. government agent Harry Tasker (Schwarzenegger), who balances his life as a spy with his familial duties.',\n",
       " 'Arnold Schwarzenegger is an actor who has appeared in over 30 films, and has also ventured into directing and producing.  He began his acting career primarily with small roles in film and television.  For his first film role, he was credited as \"Arnold Strong\", but was credited with his birth name thereafter.  He has appeared mainly in action, and comedy films.  In addition to films and television, he has appeared in music videos for AC/DC, Bon Jovi, and Guns N\\' Roses.']"
      ]
     },
     "execution_count": 32,
     "metadata": {},
     "output_type": "execute_result"
    }
   ],
   "source": [
    "texts"
   ]
  },
  {
   "cell_type": "code",
   "execution_count": null,
   "metadata": {},
   "outputs": [],
   "source": []
  }
 ],
 "metadata": {
  "kernelspec": {
   "display_name": ".venv",
   "language": "python",
   "name": "python3"
  },
  "language_info": {
   "codemirror_mode": {
    "name": "ipython",
    "version": 3
   },
   "file_extension": ".py",
   "mimetype": "text/x-python",
   "name": "python",
   "nbconvert_exporter": "python",
   "pygments_lexer": "ipython3",
   "version": "3.8.10"
  }
 },
 "nbformat": 4,
 "nbformat_minor": 2
}
